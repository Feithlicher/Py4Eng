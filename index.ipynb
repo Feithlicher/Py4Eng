{
 "cells": [
  {
   "cell_type": "markdown",
   "metadata": {},
   "source": [
    "![](logo.png)\n",
    "\n",
    "# Data Science with Python at Lam Research\n",
    "\n",
    "## [Yoav Ram](http://python.yoavram.com)"
   ]
  },
  {
   "cell_type": "markdown",
   "metadata": {},
   "source": [
    "## Day 1: Fundamentals of Data Science with Python\n",
    "\n",
    "- Python refresher: [notebook](notebooks/python.ipynb) | [solution](solutions/python.ipynb)\n",
    "- Numerical Python with NumPy: [notebook](notebooks/numpy.ipynb) | [solution](solutions/numpy.ipynb)\n",
    "- Plotting with Matplotlib: [notebook](notebooks/matplotlib.ipynb) | [solution](solutions/matplotlib.ipynb)\n",
    "- Data analysis with Pandas and Seaborn: [notebook](notebooks/pandas-seaborn.ipynb) | [solution](solutions/pandas-seaborn.ipynb)"
   ]
  },
  {
   "cell_type": "markdown",
   "metadata": {},
   "source": [
    "## Day 2: Python Data Dcience with Lam Data\n",
    "\n",
    "- Machine learning with Scikit-learn: [notebook](notebooks/scikit-learn.ipynb) | [solution](solutions/scikit-learn.ipynb)\n",
    "- Process capability index: [notebook](notebooks/cp.ipynb) | [solution](solutions/cp.ipynb)\n",
    "- Time series analysis: \n",
    "  - [Fremont](notebooks/timeseries.ipynb) | [solution](solutions/timeseries.ipynb)\n",
    "  - [Tualatin](notebooks/timeseries2.ipynb) | [solution](solutions/timeseries2.ipynb)\n",
    "- PCA: \n",
    "  - [Introduction](notebooks/PCA.ipynb) | [solution](solutions/PCA.ipynb)\n",
    "  - [Lam data](notebooks/PCA-Lam.ipynb) | [solution](solutions/PCA-Lam.ipynb)\n",
    "- Fourier transform: [notebook](notebooks/fft.ipynb) | [solution](solutions/fft.ipynb)"
   ]
  },
  {
   "cell_type": "markdown",
   "metadata": {},
   "source": [
    "## Exercises\n",
    "\n",
    "- [100 NumPy exercises](https://github.com/rougier/numpy-100/blob/master/100_Numpy_exercises_no_solution.ipynb): do at least 25.\n",
    "- [Linear model](exercises/linear-model.ipynb) | [solution](solutions/linear-model.py) \n",
    "- [Logistic model](exercises/logistic-tennis.ipynb) | [solution](solutions/logistic-tennis.py)\n",
    "- [Object detection](exercises/sign-lang.pdf) | [solution](solutions/sign-lang.ipynb)\n",
    "- [Population growth](exercises/population-growth.ipynb) | [solution](solutions/population-growth.ipynb)\n",
    "- [K-means](exercises/Kmeans.ipynb) | [solution](solutions/Kmeans.ipynb)"
   ]
  },
  {
   "cell_type": "markdown",
   "metadata": {},
   "source": [
    "## Jupyter help\n",
    "\n",
    "- Use autocompletion by pressing `Tab`. \n",
    " - In the middle of a word it will try to finish the variable name.\n",
    " - Just after a dot (`.`) it will try to bring up a menu of methods and attributes; the variable before the dot must already be defined.\n",
    "- Use documentation by pressing `Shift+Tab`; this is especially useful inside a function parentheses as it will show the function arguments, but it can be used anywhere. Again, variables must already be defined."
   ]
  },
  {
   "cell_type": "markdown",
   "metadata": {},
   "source": [
    "## Terminal\n",
    "\n",
    "To open a terminal inside Jupyter, choose `File->New...->Terminal` in the top menu."
   ]
  },
  {
   "cell_type": "markdown",
   "metadata": {},
   "source": [
    "## Monitoring CPU\n",
    "\n",
    "To monitor CPU of your programs:\n",
    "- Open a terminal window (see above).\n",
    "- Run `htop`.\n",
    "- If `htop` is not available, you can install [Glances](https://glances.readthedocs.io/en/stable/index.html): \n",
    "\n",
    "```sh\n",
    "python -m pip install glances\n",
    "glances -1 -4\n",
    "```"
   ]
  },
  {
   "cell_type": "markdown",
   "metadata": {},
   "source": [
    "# Installed libraries\n",
    "\n",
    "The following libraries were installed with these version:\n",
    "\n",
    "```\n",
    "imageio=2.6.1\n",
    "ipykernel=5.1.3\n",
    "ipympl=0.3.3\n",
    "ipywidgets=7.5.1\n",
    "matplotlib=3.1.1\n",
    "numpy=1.17.2\n",
    "pandas=0.25.1\n",
    "python=3.6.7\n",
    "scikit-learn=0.21.3\n",
    "scipy=1.3.1\n",
    "seaborn=0.9.0\n",
    "statsmodels=0.10.1\n",
    "```"
   ]
  }
 ],
 "metadata": {
  "kernelspec": {
   "display_name": "Python 3",
   "language": "python",
   "name": "python3"
  },
  "language_info": {
   "codemirror_mode": {
    "name": "ipython",
    "version": 3
   },
   "file_extension": ".py",
   "mimetype": "text/x-python",
   "name": "python",
   "nbconvert_exporter": "python",
   "pygments_lexer": "ipython3",
   "version": "3.7.3"
  }
 },
 "nbformat": 4,
 "nbformat_minor": 4
}
