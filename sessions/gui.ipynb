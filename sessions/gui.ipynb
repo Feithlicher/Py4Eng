{
 "cells": [
  {
   "cell_type": "markdown",
   "metadata": {},
   "source": [
    "# *Qt* GUI\n",
    "\n",
    "We will be using [*Qt*](http://qt.io/), a cross-platform native application framework. There are two Python binding for the *Qt GUI toolkit*: *PyQt* and *PySide*; we will use the latter. Qt plays nicely with *Matplotlib* and with the notebook.\n",
    "\n",
    "We'll need to  install *Qt* with `conda install qt` and then *PySide* with `pip install pyside` (*conda* currently doesn't have an installer for Python 3.4 and 3.5).\n",
    "\n",
    "## Hello World!\n",
    "\n",
    "Let's start with a simple *Hello World!* application - just a window with a button; when the button is clicked, an *Hello World!* dialog comes up. This example follows [Learning IPython for Interactive Computing and Data Visualization](http://ipython-books.github.io/minibook/) by Cyrille Rossant, pg. 85.\n",
    "\n",
    "We use the notebook's magic command `%gui` to let the notebook know that we are using *Qt*, then import the `QtGui` module from `PySide`"
   ]
  },
  {
   "cell_type": "code",
   "execution_count": 1,
   "metadata": {
    "collapsed": false
   },
   "outputs": [],
   "source": [
    "%gui qt\n",
    "from PySide import QtGui"
   ]
  },
  {
   "cell_type": "markdown",
   "metadata": {},
   "source": [
    "Next, we define out main application window, a class we call `HelloWorld`, which inherits from `QtGui.QWidget`. We add a push-button, with the label `Click me`, and connect it to the method `clicked`. \n",
    "\n",
    "We then create a simple layout and show the window (since it's the main window of the application). \n",
    "\n",
    "The `clicked` method creates a dialog with an `OK` button (called a  `QMessageBox`) which says `Hello World!`.\n",
    "\n",
    "Finally, we create the window (it will show itself because we called `self.show()` in its `__init__`."
   ]
  },
  {
   "cell_type": "code",
   "execution_count": 2,
   "metadata": {
    "collapsed": true
   },
   "outputs": [],
   "source": [
    "class HelloWorld(QtGui.QWidget):\n",
    "    def __init__(self):\n",
    "        super(HelloWorld, self).__init__()\n",
    "        self.button = QtGui.QPushButton('Click me', self)\n",
    "        self.button.clicked.connect(self.clicked)\n",
    "        # create the layout\n",
    "        vbox = QtGui.QVBoxLayout()\n",
    "        vbox.addWidget(self.button)\n",
    "        self.setLayout(vbox)\n",
    "        # show the window\n",
    "        self.show()\n",
    "    \n",
    "    def clicked(self):\n",
    "        msg = QtGui.QMessageBox(self)\n",
    "        msg.setText(\"Hello World!\")\n",
    "        msg.show()\n",
    "\n",
    "window = HelloWorld()"
   ]
  },
  {
   "cell_type": "markdown",
   "metadata": {},
   "source": [
    "Interestingly, starting the GUI **doesn't block** the notebook (you can see the empty rather than filled circle at the top right of the notebook) which means we can interact with our window through the notebook. This is very useful for testing and debugging.\n",
    "\n",
    "For example, we can trigger the `clicked` method without actually clicking the button:"
   ]
  },
  {
   "cell_type": "code",
   "execution_count": 3,
   "metadata": {
    "collapsed": true
   },
   "outputs": [],
   "source": [
    "window.clicked()"
   ]
  },
  {
   "cell_type": "markdown",
   "metadata": {},
   "source": [
    "Change the window title and size:"
   ]
  },
  {
   "cell_type": "code",
   "execution_count": 4,
   "metadata": {
    "collapsed": false
   },
   "outputs": [],
   "source": [
    "window.setWindowTitle(\"Main Window\")\n",
    "window.resize(500, 50)"
   ]
  },
  {
   "cell_type": "markdown",
   "metadata": {},
   "source": [
    "And close the window:"
   ]
  },
  {
   "cell_type": "code",
   "execution_count": 5,
   "metadata": {
    "collapsed": false
   },
   "outputs": [
    {
     "data": {
      "text/plain": [
       "True"
      ]
     },
     "execution_count": 5,
     "metadata": {},
     "output_type": "execute_result"
    }
   ],
   "source": [
    "window.close()"
   ]
  },
  {
   "cell_type": "markdown",
   "metadata": {},
   "source": [
    "## Qt Designer\n",
    "\n",
    "When creating more sophisticated application, it's more convinient to work with a designer - a WYSIWYG GUI editor. The *Qt Creator* IDE has such functionality, allowing us to create and edit *.ui* files that define the layout and design of a *Qt* GUI application. We then translate this *.ui* file to a *.py* file using the *pyside-uic* tool. We then import the generated *.py* file, connect methods (callbacks) and run the application. \n",
    "\n",
    "Let's do a simple example before diving into a more sophisticated example. Open the *Qt Creator* application on your desktop. Click on the *File* menu, choose *New File or Project*, select *Qt* from the *Files and Classes* list, select the *Qt Designer Form* option, and click *Choose...*. Select *Main Window*, and click *Next*. Now choose a filename and path for the *.ui* file - remember this path as we will need it for converting to *.py* with *pyside-uic*. \n",
    "\n",
    "At this point, the *Qt Designer* will open and we can start adding widgets to it and design our GUI:\n",
    "\n",
    "![QtDesigner](img/QtDesigner.png)\n",
    "\n",
    "We'll build a simple app with just a big textbox to write text to and a "
   ]
  },
  {
   "cell_type": "code",
   "execution_count": null,
   "metadata": {
    "collapsed": true
   },
   "outputs": [],
   "source": []
  }
 ],
 "metadata": {
  "kernelspec": {
   "display_name": "Py4Eng34",
   "language": "python",
   "name": "py4eng34"
  },
  "language_info": {
   "codemirror_mode": {
    "name": "ipython",
    "version": 3
   },
   "file_extension": ".py",
   "mimetype": "text/x-python",
   "name": "python",
   "nbconvert_exporter": "python",
   "pygments_lexer": "ipython3",
   "version": "3.4.4"
  }
 },
 "nbformat": 4,
 "nbformat_minor": 0
}
