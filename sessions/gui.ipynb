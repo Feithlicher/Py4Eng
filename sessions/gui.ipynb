{
 "cells": [
  {
   "cell_type": "markdown",
   "metadata": {},
   "source": [
    "![Py4Eng](img/logo.png)\n",
    "\n",
    "# Graphical user interface\n",
    "## Yoav Ram"
   ]
  },
  {
   "cell_type": "markdown",
   "metadata": {},
   "source": [
    "# *Qt* GUI\n",
    "\n",
    "We will be using [*Qt*](http://qt.io/), a cross-platform native application framework. There are two Python binding for the *Qt GUI toolkit*: *PyQt* and *PySide*; we will use the latter. Qt plays nicely with *Matplotlib* and with the notebook.\n",
    "\n",
    "We'll need to  install *Qt* with `conda install qt` and then *PySide* with `pip install pyside` (*conda* currently doesn't have an installer for Python 3.4 and 3.5).\n",
    "\n",
    "## Hello World!\n",
    "\n",
    "Let's start with a simple *Hello World!* application - just a window with a button; when the button is clicked, an *Hello World!* dialog comes up. This example follows [Learning IPython for Interactive Computing and Data Visualization](http://ipython-books.github.io/minibook/) by Cyrille Rossant, pg. 85.\n",
    "\n",
    "We use the notebook's magic command `%gui` to let the notebook know that we are using *Qt*, then import the `QtGui` module from `PySide`"
   ]
  },
  {
   "cell_type": "code",
   "execution_count": 62,
   "metadata": {
    "collapsed": false
   },
   "outputs": [
    {
     "name": "stdout",
     "output_type": "stream",
     "text": [
      "PySide version:  1.2.2\n"
     ]
    }
   ],
   "source": [
    "%gui qt\n",
    "from PySide import QtGui\n",
    "import PySide\n",
    "print(\"PySide version: \", PySide.__version__)"
   ]
  },
  {
   "cell_type": "markdown",
   "metadata": {},
   "source": [
    "Next, we define out main application window, a class we call `HelloWorld`, which inherits from `QtGui.QWidget`. We add a push-button, with the label `Click me`, and connect it to the method `clicked`. \n",
    "\n",
    "We then create a simple layout and show the window (since it's the main window of the application). \n",
    "\n",
    "The `clicked` method creates a dialog with an `OK` button (called a  `QMessageBox`) which says `Hello World!`.\n",
    "\n",
    "Finally, we create the window (it will show itself because we called `self.show()` in its `__init__`."
   ]
  },
  {
   "cell_type": "code",
   "execution_count": 2,
   "metadata": {
    "collapsed": true
   },
   "outputs": [],
   "source": [
    "class HelloWorld(QtGui.QWidget):\n",
    "    def __init__(self):\n",
    "        super().__init__()\n",
    "        self.button = QtGui.QPushButton('Click me', self)\n",
    "        self.button.clicked.connect(self.clicked)\n",
    "        # create the layout\n",
    "        vbox = QtGui.QVBoxLayout()\n",
    "        vbox.addWidget(self.button)\n",
    "        self.setLayout(vbox)\n",
    "        # show the window\n",
    "        self.show()\n",
    "    \n",
    "    def clicked(self):\n",
    "        msg = QtGui.QMessageBox(self)\n",
    "        msg.setText(\"Hello World!\")\n",
    "        msg.show()\n",
    "\n",
    "window = HelloWorld()"
   ]
  },
  {
   "cell_type": "markdown",
   "metadata": {},
   "source": [
    "Interestingly, starting the GUI **doesn't block** the notebook (you can see the empty rather than filled circle at the top right of the notebook) which means we can interact with our window through the notebook. This is very useful for testing and debugging.\n",
    "\n",
    "For example, we can trigger the `clicked` method without actually clicking the button:"
   ]
  },
  {
   "cell_type": "code",
   "execution_count": 3,
   "metadata": {
    "collapsed": true
   },
   "outputs": [],
   "source": [
    "window.clicked()"
   ]
  },
  {
   "cell_type": "markdown",
   "metadata": {},
   "source": [
    "Change the window title and size:"
   ]
  },
  {
   "cell_type": "code",
   "execution_count": 4,
   "metadata": {
    "collapsed": false
   },
   "outputs": [],
   "source": [
    "window.setWindowTitle(\"Main Window\")\n",
    "window.resize(500, 50)"
   ]
  },
  {
   "cell_type": "markdown",
   "metadata": {},
   "source": [
    "And close the window:"
   ]
  },
  {
   "cell_type": "code",
   "execution_count": 5,
   "metadata": {
    "collapsed": false
   },
   "outputs": [
    {
     "data": {
      "text/plain": [
       "True"
      ]
     },
     "execution_count": 5,
     "metadata": {},
     "output_type": "execute_result"
    }
   ],
   "source": [
    "window.close()"
   ]
  },
  {
   "cell_type": "markdown",
   "metadata": {},
   "source": [
    "## Qt Designer\n",
    "\n",
    "When creating more sophisticated application, it's more convinient to work with a designer - a WYSIWYG GUI editor. The *Qt Creator* IDE has such functionality, allowing us to create and edit *.ui* files that define the layout and design of a *Qt* GUI application. We then translate this *.ui* file to a *.py* file using the *pyside-uic* tool. We then import the generated *.py* file, connect methods (callbacks) and run the application. \n",
    "\n",
    "Let's do a simple example before diving into a more sophisticated example. Open the *Qt Creator* application on your desktop. Click on the *File* menu, choose *New File or Project*, select *Qt* from the *Files and Classes* list, select the *Qt Designer Form* option, and click *Choose...*. Select *Main Window*, and click *Next*. Now choose a filename and path for the *.ui* file - remember this path as we will need it for converting to *.py* with *pyside-uic*. \n",
    "\n",
    "At this point, the *Qt Designer* will open and we can start adding widgets to it and design our GUI:\n",
    "\n",
    "![QtDesigner](img/QtDesigner.png)\n",
    "\n",
    "We'll build a simple app with just a big textbox to write text to and save\\load to\\from a file.\n",
    "\n",
    "The design is implemented in `../scripts/notepad.ui` - you can open it in the *Qt Designer* (File -> Open File or Project).\n",
    "\n",
    "![QtDesigner Notepad UI](img/QtDesignerNotepad.png)\n",
    "\n",
    "Once we have a nice design `.ui` file, we need to convert it to a Python `.py` file.\n",
    "\n",
    "This is done using a tool installed by `PySide` called `pyside-uic`:"
   ]
  },
  {
   "cell_type": "code",
   "execution_count": 64,
   "metadata": {
    "collapsed": true
   },
   "outputs": [],
   "source": [
    "!pyside-uic ..\\scripts\\notepad.ui -o notepad_design.py"
   ]
  },
  {
   "cell_type": "code",
   "execution_count": 65,
   "metadata": {
    "collapsed": false
   },
   "outputs": [],
   "source": [
    "%less notepad_design.py"
   ]
  },
  {
   "cell_type": "markdown",
   "metadata": {},
   "source": [
    "Remember that you need to run this command everytime you change the `.ui` file in the designer.\n",
    "\n",
    "Now we can import the main window from the `notepad_design.py` and create a new window that inherits from this our design:"
   ]
  },
  {
   "cell_type": "code",
   "execution_count": 66,
   "metadata": {
    "collapsed": true
   },
   "outputs": [],
   "source": [
    "import notepad_design\n",
    "\n",
    "class MainWindow(QtGui.QMainWindow, notepad_design.Ui_MainWindow):\n",
    "    def __init__(self, parent=None):\n",
    "        super().__init__(parent)\n",
    "        self.setupUi(self)\n",
    "        self.show()\n",
    "\n",
    "window = MainWindow()"
   ]
  },
  {
   "cell_type": "markdown",
   "metadata": {},
   "source": [
    "Of course, to make this interactive we need to implement button callbacks and other UI logic. The names of the buttons were defined in the designer, but we can find them in the windows object:"
   ]
  },
  {
   "cell_type": "code",
   "execution_count": 25,
   "metadata": {
    "collapsed": false
   },
   "outputs": [
    {
     "data": {
      "text/plain": [
       "['browseButton',\n",
       " 'saveButton',\n",
       " 'statusbar',\n",
       " 'textEdit',\n",
       " 'menubar',\n",
       " 'filenameEdit',\n",
       " 'centralwidget',\n",
       " 'filenameLabel',\n",
       " 'loadButton']"
      ]
     },
     "execution_count": 25,
     "metadata": {},
     "output_type": "execute_result"
    }
   ],
   "source": [
    "list(window.__dict__.keys())"
   ]
  },
  {
   "cell_type": "markdown",
   "metadata": {},
   "source": [
    "We can also get help on eacho of the widgets in the window or look at the [docs](https://srinikom.github.io/pyside-docs/PySide/QtGui/QTextEdit.html)."
   ]
  },
  {
   "cell_type": "markdown",
   "metadata": {},
   "source": [
    "## Save button\n",
    "\n",
    "We start with the save button. We need to:\n",
    "\n",
    "- implement a new method, `save` that \n",
    "  - reads the text from the editor\n",
    "  - reads the filename from the filename textbox\n",
    "  - opens a file and write the text\n",
    "  - catches exceptions and reports them with a dialog (like the first example in this session)\n",
    "- connect the method to the button"
   ]
  },
  {
   "cell_type": "code",
   "execution_count": 46,
   "metadata": {
    "collapsed": false
   },
   "outputs": [],
   "source": [
    "class MainWindow(QtGui.QMainWindow, notepad_design.Ui_MainWindow):\n",
    "    def __init__(self, parent=None):\n",
    "        super().__init__(parent)\n",
    "        self.setupUi(self)\n",
    "        \n",
    "        self.saveButton.clicked.connect(self.save)\n",
    "        \n",
    "        self.show()\n",
    "        \n",
    "    def save(self):\n",
    "        text = self.textEdit.toPlainText()\n",
    "        filename = self.filenameEdit.text()\n",
    "        try:\n",
    "            with open(filename, 'w') as f:\n",
    "                print(text, file=f)\n",
    "        except Exception as e:\n",
    "            msg = QtGui.QMessageBox(self)\n",
    "            msg.setText(str(e))\n",
    "            msg.show()\n",
    "                \n",
    "\n",
    "window = MainWindow()"
   ]
  },
  {
   "cell_type": "markdown",
   "metadata": {},
   "source": [
    "Note that while the window is open and even after you close it, you can introspect it in the notebook:"
   ]
  },
  {
   "cell_type": "code",
   "execution_count": 43,
   "metadata": {
    "collapsed": false
   },
   "outputs": [
    {
     "name": "stdout",
     "output_type": "stream",
     "text": [
      "tmp.txt\n"
     ]
    }
   ],
   "source": [
    "print(window.filenameEdit.text())"
   ]
  },
  {
   "cell_type": "code",
   "execution_count": 45,
   "metadata": {
    "collapsed": false
   },
   "outputs": [],
   "source": [
    "fname = window.filenameEdit.text()\n",
    "%less $fname"
   ]
  },
  {
   "cell_type": "markdown",
   "metadata": {},
   "source": [
    "## Load button\n",
    "\n",
    "Next, we write a `load` method, which\n",
    "- reads a filename from the filename textbox\n",
    "- reads the text from the file\n",
    "- puts the text in the editor\n",
    "We then connect method to the load button."
   ]
  },
  {
   "cell_type": "code",
   "execution_count": 69,
   "metadata": {
    "collapsed": true
   },
   "outputs": [],
   "source": [
    "class MainWindow(QtGui.QMainWindow, notepad_design.Ui_MainWindow):\n",
    "    def __init__(self, parent=None):\n",
    "        super().__init__(parent)\n",
    "        self.setupUi(self)\n",
    "        \n",
    "        self.saveButton.clicked.connect(self.save)\n",
    "        self.loadButton.clicked.connect(self.load)\n",
    "        \n",
    "        self.show()\n",
    "    \n",
    "    def error_dialog(self, error):\n",
    "        msg = QtGui.QMessageBox(self)\n",
    "        msg.setText(str(error))\n",
    "        msg.show()\n",
    "        \n",
    "    def save(self):\n",
    "        text = self.textEdit.toPlainText()\n",
    "        filename = self.filenameEdit.text()\n",
    "        try:\n",
    "            with open(filename, 'w') as f:\n",
    "                print(text, file=f)\n",
    "        except Exception as e:\n",
    "                self.error_dialog(e)\n",
    "    \n",
    "    def load(self):\n",
    "        filename = self.filenameEdit.text()\n",
    "        try:\n",
    "            with open(filename) as f:\n",
    "                text = f.read()\n",
    "        except Exception as e:\n",
    "            self.error_dialog(e)\n",
    "        self.textEdit.clear()\n",
    "        self.textEdit.appendPlainText(text)\n",
    "        \n",
    "window = MainWindow()"
   ]
  },
  {
   "cell_type": "code",
   "execution_count": 70,
   "metadata": {
    "collapsed": false
   },
   "outputs": [
    {
     "data": {
      "text/plain": [
       "'dasdasdasda\\n'"
      ]
     },
     "execution_count": 70,
     "metadata": {},
     "output_type": "execute_result"
    }
   ],
   "source": [
    "window.textEdit.toPlainText()"
   ]
  },
  {
   "cell_type": "markdown",
   "metadata": {},
   "source": [
    "## Browser button\n",
    "\n",
    "Lastly, we will implement the browse button that will open a [file dialog](https://srinikom.github.io/pyside-docs/PySide/QtGui/QFileDialog.html) and save the result to the filename textbox. Let's first experiment:"
   ]
  },
  {
   "cell_type": "code",
   "execution_count": 71,
   "metadata": {
    "collapsed": false
   },
   "outputs": [
    {
     "name": "stdout",
     "output_type": "stream",
     "text": [
      "D:/workspace/Py4Eng/sessions/tmp.txt\n"
     ]
    }
   ],
   "source": [
    "filename, _ = QtGui.QFileDialog.getOpenFileName(window, \"Open Text File\", \".\", \"Text Files (*.txt *.csv *.json)\")\n",
    "print(filename)"
   ]
  },
  {
   "cell_type": "code",
   "execution_count": 77,
   "metadata": {
    "collapsed": true
   },
   "outputs": [],
   "source": [
    "from notepad_design import Ui_MainWindow\n",
    "\n",
    "class MainWindow(QtGui.QMainWindow, Ui_MainWindow):\n",
    "    def __init__(self, parent=None):\n",
    "        super().__init__(parent)\n",
    "        self.setupUi(self)\n",
    "        \n",
    "        self.saveButton.clicked.connect(self.save)\n",
    "        self.loadButton.clicked.connect(self.load)\n",
    "        self.browseButton.clicked.connect(self.browse)\n",
    "        \n",
    "        self.show()\n",
    "    \n",
    "    def error_dialog(self, error):\n",
    "        msg = QtGui.QMessageBox(self)\n",
    "        msg.setText(str(error))\n",
    "        msg.show()\n",
    "        \n",
    "    def save(self):\n",
    "        text = self.textEdit.toPlainText()\n",
    "        filename = self.filenameEdit.text()\n",
    "        try:\n",
    "            with open(filename, 'w') as f:\n",
    "                print(text, file=f)\n",
    "        except Exception as e:\n",
    "                self.error_dialog(e)\n",
    "    \n",
    "    def load(self):\n",
    "        filename = self.filenameEdit.text()\n",
    "        try:\n",
    "            with open(filename) as f:\n",
    "                text = f.read()\n",
    "        except Exception as e:\n",
    "            self.error_dialog(e)\n",
    "        self.textEdit.clear()\n",
    "        self.textEdit.appendPlainText(text)\n",
    "        \n",
    "    def browse(self):\n",
    "        filename, _ = QtGui.QFileDialog.getOpenFileName(\n",
    "            self, \n",
    "            \"Open Text File\", \n",
    "            \".\", \n",
    "            \"Text Files (*.txt *.csv *.json)\"\n",
    "        )\n",
    "        self.filenameEdit.setText(filename)    \n",
    "        \n",
    "window = MainWindow()"
   ]
  },
  {
   "cell_type": "markdown",
   "metadata": {},
   "source": [
    "That's it, we have our notepad application.\n",
    "\n",
    "## Exercise\n",
    "\n",
    "Add a button called \"All Caps\" that changes the text to uppercase (using `str.upper()`). Note: to reload the `notepad_design` module after you change its source code, import `reload` from the `imp` module and call `reload(notepad_design)`."
   ]
  },
  {
   "cell_type": "code",
   "execution_count": null,
   "metadata": {
    "collapsed": true
   },
   "outputs": [],
   "source": []
  },
  {
   "cell_type": "markdown",
   "metadata": {},
   "source": [
    "# Qt and Matplotlib\n",
    "\n",
    "Matplotlib has support for Qt via PySide, so that we can put a plot inside a `QWidget`,\n",
    "\n",
    "We have some importing to do. We first import `matplotlib` and set it to use the `Qt4Agg`. It's important to do this before any other matplotlib-related import. We then tell it that the Qt4 backend should be PySide (at the time I write this, March 2016, PySide doesn't support Qt5).\n",
    "\n",
    "We then import from matplotlib a Qt-specialized canvas and navigation toolbar (this is optional, used for zomming and tilting).\n",
    "\n",
    "We also import NumPy and Seaborn."
   ]
  },
  {
   "cell_type": "code",
   "execution_count": 3,
   "metadata": {
    "collapsed": false
   },
   "outputs": [
    {
     "name": "stdout",
     "output_type": "stream",
     "text": [
      "PySide version:  1.2.2\n",
      "Matplotlib version: 1.5.1\n"
     ]
    }
   ],
   "source": [
    "%gui qt\n",
    "from PySide import QtGui\n",
    "import PySide\n",
    "print(\"PySide version: \", PySide.__version__)\n",
    "\n",
    "import matplotlib\n",
    "print(\"Matplotlib version:\", matplotlib.__version__)\n",
    "matplotlib.use('Qt4Agg')\n",
    "matplotlib.rcParams['backend.qt4']='PySide'\n",
    "\n",
    "from matplotlib.backends.backend_qt4agg import FigureCanvasQTAgg as FigureCanvas\n",
    "from matplotlib.backends.backend_qt4agg import NavigationToolbar2QT as NavigationToolbar\n",
    "\n",
    "import numpy as np\n",
    "import seaborn as sns\n",
    "sns.set(\n",
    "    style='white',\n",
    "    palette='muted'\n",
    ")"
   ]
  },
  {
   "cell_type": "code",
   "execution_count": 71,
   "metadata": {
    "collapsed": false
   },
   "outputs": [],
   "source": [
    "class MainWindow(QtGui.QWidget):\n",
    "    def __init__(self):\n",
    "        super().__init__()\n",
    "        # create a plot widget\n",
    "        self.fig = matplotlib.figure.Figure(figsize=(6,4), dpi=100)\n",
    "        self.ax = self.fig.add_subplot(111)\n",
    "        self.canvas = FigureCanvas(self.fig)\n",
    "        self.canvas.setParent(self)\n",
    "                \n",
    "        self.mpl_toolbar = NavigationToolbar(self.canvas, self)\n",
    "        \n",
    "        vbox = QtGui.QVBoxLayout()\n",
    "        vbox.addWidget(self.canvas)\n",
    "        vbox.addWidget(self.mpl_toolbar)\n",
    "        \n",
    "        self.setLayout(vbox)\n",
    "        \n",
    "        self.show()\n",
    "\n",
    "window = MainWindow()"
   ]
  },
  {
   "cell_type": "markdown",
   "metadata": {},
   "source": [
    "Now we can plot to the window from the notebook. Most of this code is the same as we always do with matplotlt, only that:\n",
    "- we already have `fig` and `ax` objects, defined in the `__init__` above cell\n",
    "- when we are done plotting we need to call `window.canvas.draw()` to make it update the GUI."
   ]
  },
  {
   "cell_type": "code",
   "execution_count": 72,
   "metadata": {
    "collapsed": false
   },
   "outputs": [],
   "source": [
    "x = np.linspace(0, 2 * np.pi, 100)\n",
    "y1 = np.sin(x)\n",
    "y2 = np.cos(x)\n",
    "\n",
    "window.ax.plot(x, y1)\n",
    "window.ax.plot(x, y2)\n",
    "window.ax.set(\n",
    "    xlabel='x',\n",
    "    ylabel='y',\n",
    "    xlim=(x.min(), x.max()),\n",
    "    ylim=(y1.min(), y1.max()),\n",
    ")\n",
    "window.fig.tight_layout()\n",
    "window.canvas.draw()"
   ]
  },
  {
   "cell_type": "markdown",
   "metadata": {},
   "source": [
    "## Figure events\n",
    "\n",
    "We'd like to be able to act when the user initiates [events on the figure](http://matplotlib.org/users/event_handling.html). \n",
    "\n",
    "We'll start with a simple event: the user clicks on the plot and the app prints the event details to the console:"
   ]
  },
  {
   "cell_type": "code",
   "execution_count": 48,
   "metadata": {
    "collapsed": false
   },
   "outputs": [],
   "source": [
    "def onclick(event):\n",
    "    print(event)"
   ]
  },
  {
   "cell_type": "markdown",
   "metadata": {},
   "source": [
    "This `onclick` expects a [`MouseEvent`](http://matplotlib.org/api/backend_bases_api.html#matplotlib.backend_bases.MouseEvent) instance that has several attributes:\n",
    "\n",
    "- `button` is the name of the button (1 for left click, 2 for right click)\n",
    "- `x`, `y` are the pixels coordinates\n",
    "- `xdata`, `ydata` are the data coordinates\n",
    "- `dblclick` if the click was a double click\n",
    "- `inaxes` the axes in which the click occured; use to change the plot\n",
    "- `canvas` the canvas in which the click occured; use to update the plot with `canvas.draw()`\n",
    "\n",
    "We connect this callback/event handler to the canvas object of the figure:"
   ]
  },
  {
   "cell_type": "code",
   "execution_count": 49,
   "metadata": {
    "collapsed": false
   },
   "outputs": [
    {
     "name": "stdout",
     "output_type": "stream",
     "text": [
      "MPL MouseEvent: xy=(339,200) xydata=(3.264772069,-0.120525763756) button=1 dblclick=False inaxes=Axes(0.126944,0.156667;0.843056x0.780783)\n",
      "MPL MouseEvent: xy=(222,183) xydata=(1.81146199136,-0.229377138901) button=1 dblclick=False inaxes=Axes(0.126944,0.156667;0.843056x0.780783)\n",
      "MPL MouseEvent: xy=(222,183) xydata=(1.81146199136,-0.229377138901) button=1 dblclick=True inaxes=Axes(0.126944,0.156667;0.843056x0.780783)"
     ]
    }
   ],
   "source": [
    "cid = window.fig.canvas.mpl_connect('button_press_event', onclick)"
   ]
  },
  {
   "cell_type": "markdown",
   "metadata": {},
   "source": [
    "To disconnect the callback, you can call (you should do this before supplying a different callback):"
   ]
  },
  {
   "cell_type": "code",
   "execution_count": 32,
   "metadata": {
    "collapsed": false
   },
   "outputs": [],
   "source": [
    "window.fig.canvas.mpl_disconnect(cid)"
   ]
  },
  {
   "cell_type": "markdown",
   "metadata": {},
   "source": [
    "## Example\n",
    "\n",
    "Let's do something more interesting: when the user double clicks the plot, we will add a black circle marker at that point:"
   ]
  },
  {
   "cell_type": "code",
   "execution_count": 46,
   "metadata": {
    "collapsed": true
   },
   "outputs": [],
   "source": [
    "def onclick_marker(event):\n",
    "    if event.dblclick:\n",
    "        x, y = event.xdata, event.ydata\n",
    "        ax = event.inaxes\n",
    "        ax.plot(x, y, 'ko')\n",
    "        event.canvas.draw()"
   ]
  },
  {
   "cell_type": "code",
   "execution_count": 47,
   "metadata": {
    "collapsed": false
   },
   "outputs": [],
   "source": [
    "cid = window.fig.canvas.mpl_connect('button_press_event', onclick_marker)"
   ]
  },
  {
   "cell_type": "code",
   "execution_count": 58,
   "metadata": {
    "collapsed": false
   },
   "outputs": [
    {
     "name": "stdout",
     "output_type": "stream",
     "text": [
      "\n"
     ]
    }
   ],
   "source": [
    "window.fig.canvas.mpl_disconnect(cid)"
   ]
  },
  {
   "cell_type": "markdown",
   "metadata": {},
   "source": [
    "## Exercise\n",
    "\n",
    "We also want that when the user clicks the right button mouse on the plot, a straight line will be plotted from the origin to where the mouse is at."
   ]
  },
  {
   "cell_type": "code",
   "execution_count": 59,
   "metadata": {
    "collapsed": false
   },
   "outputs": [],
   "source": []
  },
  {
   "cell_type": "markdown",
   "metadata": {},
   "source": [
    "# Full application\n",
    "\n",
    "We can incorporate matplotlib in a full application, similar to our notepad from above. \n",
    "\n",
    "See for example `trigoplot.py` in the `scripts` folder - run it with `trigoplot.bat` that also runs `pyside-uic` on `trigoplot.ui`."
   ]
  },
  {
   "cell_type": "markdown",
   "metadata": {},
   "source": [
    "# References\n",
    "\n",
    "-  [*Qt*](http://qt.io/)\n",
    "- [PySide](https://srinikom.github.io/pyside-docs/)\n",
    "- [Learning IPython for Interactive Computing and Data Visualization](http://ipython-books.github.io/minibook/) by Cyrille Rossant, pg. 85.\n",
    "- [Embedding Matplotlib plots in PySide applications](http://scipy-cookbook.readthedocs.org/items/Matplotlib_PySide.html?highlight=pyside)\n",
    "- [Matplotlib: event handling and picking](http://matplotlib.org/users/event_handling.html)"
   ]
  },
  {
   "cell_type": "markdown",
   "metadata": {},
   "source": [
    "## Colophon\n",
    "This notebook was written by [Yoav Ram](http://www.yoavram.com) and is part of the _Python for Engineers_ course.\n",
    "\n",
    "The notebook was written using [Python](http://pytho.org/) 3.4.4, [IPython](http://ipython.org/) 4.0.3 and [Jupyter](http://jupyter.org) 4.0.6.\n",
    "\n",
    "This work is licensed under a CC BY-NC-SA 4.0 International License.\n",
    "\n",
    "![Python logo](https://www.python.org/static/community_logos/python-logo.png)"
   ]
  }
 ],
 "metadata": {
  "kernelspec": {
   "display_name": "Py4Eng34",
   "language": "python",
   "name": "py4eng34"
  },
  "language_info": {
   "codemirror_mode": {
    "name": "ipython",
    "version": 3
   },
   "file_extension": ".py",
   "mimetype": "text/x-python",
   "name": "python",
   "nbconvert_exporter": "python",
   "pygments_lexer": "ipython3",
   "version": "3.4.4"
  }
 },
 "nbformat": 4,
 "nbformat_minor": 0
}
