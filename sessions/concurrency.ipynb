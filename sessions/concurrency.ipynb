{
 "cells": [
  {
   "cell_type": "markdown",
   "metadata": {},
   "source": [
    "![Py4Eng](img/logo.png)\n",
    "\n",
    "# Concurrency\n",
    "## Yoav Ram"
   ]
  },
  {
   "cell_type": "markdown",
   "metadata": {},
   "source": [
    "# Threading\n",
    "\n",
    "Thread are very useful for maintaining multiple program flows running (quasi-)simultaneously: but in Python, they are really running in the same process so the main benefit from threading is that one job doesn't block other jobs from running simultaneously.\n",
    "\n",
    "Let's start with a simple example: a worker thread that counts from 1 to 10, waiting one second between numbers, but doesn't block the main thread that counts from 11 to 20 (also waiting). \n",
    "\n",
    "We use the [threading](https://docs.python.org/3.5/library/threading.html) module from the standard library."
   ]
  },
  {
   "cell_type": "code",
   "execution_count": 1,
   "metadata": {
    "collapsed": true
   },
   "outputs": [],
   "source": [
    "import threading\n",
    "import time"
   ]
  },
  {
   "cell_type": "code",
   "execution_count": 2,
   "metadata": {
    "collapsed": true
   },
   "outputs": [],
   "source": [
    "def create_counting_task(start, end):\n",
    "    def task():\n",
    "        for i in range(start, end):\n",
    "            print(\" \", i, end=\" \")\n",
    "            time.sleep(1)\n",
    "    return task"
   ]
  },
  {
   "cell_type": "code",
   "execution_count": 3,
   "metadata": {
    "collapsed": false
   },
   "outputs": [
    {
     "name": "stdout",
     "output_type": "stream",
     "text": [
      "  1   11    2  12    3  13   4   14   5   15   6   16   7   17   8   18   9   19   10   20 "
     ]
    }
   ],
   "source": [
    "main_task = create_counting_task(11, 21)\n",
    "worker_task = create_counting_task(1, 11)\n",
    "worker = threading.Thread(target=worker_task)\n",
    "worker.start()\n",
    "main_task()\n",
    "worker.join()"
   ]
  },
  {
   "cell_type": "markdown",
   "metadata": {},
   "source": [
    "# Concurrency in I/O bounded programs"
   ]
  },
  {
   "cell_type": "markdown",
   "metadata": {},
   "source": [
    "Let's start with a synchrounous program that reads books from the Gutenberg project and finds the most common word. Finding the most common word takes a while, but a lot less than reading the data from the web, so this is definately an I/O-bounded program."
   ]
  },
  {
   "cell_type": "code",
   "execution_count": 4,
   "metadata": {
    "collapsed": true
   },
   "outputs": [],
   "source": [
    "from collections import Counter\n",
    "import urllib.request\n",
    "import time"
   ]
  },
  {
   "cell_type": "code",
   "execution_count": 5,
   "metadata": {
    "collapsed": false
   },
   "outputs": [
    {
     "name": "stdout",
     "output_type": "stream",
     "text": [
      "['a', 'about', 'above']\n"
     ]
    }
   ],
   "source": [
    "stop_words_url = 'https://github.com/Alir3z4/stop-words/raw/25c6a0aea665871e887f155b883e950c3743ce50/english.txt'\n",
    "with urllib.request.urlopen(stop_words_url) as f:\n",
    "    stop_words = [line.decode().strip() for line in f]\n",
    "print(stop_words[:3])"
   ]
  },
  {
   "cell_type": "code",
   "execution_count": 25,
   "metadata": {
    "collapsed": false
   },
   "outputs": [],
   "source": [
    "names = [\n",
    "    'Gulliver',\n",
    "    'Alice in Wonderland',\n",
    "    'Pride and prejudice',\n",
    "    'Yellow wallpaper',\n",
    "    'Metamorphosis ',\n",
    "    'A Tale of Two Cities',\n",
    "#     'The Importance of Being Earnest',\n",
    "#     'Frankenstein'\n",
    "]\n",
    "url_template = 'https://raw.githubusercontent.com/yoavram/Py4Eng/master/data/{}.txt'\n",
    "urls = {name: urllib.parse.quote(url_template.format(name), safe=\":/\") for name in names}\n",
    "\n",
    "def most_common_word(item):\n",
    "    name, url = item\n",
    "    with urllib.request.urlopen(url) as f:        \n",
    "        counter = Counter()\n",
    "        for line in f:        \n",
    "            if not line:\n",
    "                break\n",
    "            line = line.decode().lower()\n",
    "            counter.update(line.split())\n",
    "        for word in stop_words:\n",
    "            counter[word] = 0\n",
    "        word, count = counter.most_common(1)[0]\n",
    "        return name, word, count"
   ]
  },
  {
   "cell_type": "code",
   "execution_count": 26,
   "metadata": {
    "collapsed": false,
    "scrolled": false
   },
   "outputs": [
    {
     "name": "stdout",
     "output_type": "stream",
     "text": [
      "Most common word in Gulliver is \"upon\" (201 appearances)\n",
      "Most common word in Alice in Wonderland is \"said\" (130 appearances)\n",
      "Most common word in A Tale of Two Cities is \"mr.\" (602 appearances)\n",
      "Most common word in Pride and prejudice is \"mr.\" (766 appearances)\n",
      "Most common word in Metamorphosis  is \"gregor\" (168 appearances)\n",
      "Most common word in Yellow wallpaper is \"project\" (81 appearances)\n",
      "Elapsed time: 27.46 seconds\n"
     ]
    }
   ],
   "source": [
    "tic = time.time()\n",
    "\n",
    "results = map(most_common_word, urls.items())\n",
    "for name, word, count in results:\n",
    "    print('Most common word in {} is \"{}\" ({} appearances)'.format(name, word, count))\n",
    "    \n",
    "toc = time.time()\n",
    "print(\"Elapsed time: {:.2f} seconds\".format(toc - tic))"
   ]
  },
  {
   "cell_type": "markdown",
   "metadata": {},
   "source": [
    "## Solution: threads\n",
    "\n",
    "https://docs.python.org/3/library/concurrent.futures.html"
   ]
  },
  {
   "cell_type": "code",
   "execution_count": 27,
   "metadata": {
    "collapsed": false
   },
   "outputs": [],
   "source": [
    "import concurrent.futures\n",
    "n_workers = len(urls)"
   ]
  },
  {
   "cell_type": "code",
   "execution_count": 28,
   "metadata": {
    "collapsed": false
   },
   "outputs": [
    {
     "name": "stdout",
     "output_type": "stream",
     "text": [
      "Most common word in Gulliver is \"upon\" (201 appearances)\n",
      "Most common word in Alice in Wonderland is \"said\" (130 appearances)\n",
      "Most common word in A Tale of Two Cities is \"mr.\" (602 appearances)\n",
      "Most common word in Pride and prejudice is \"mr.\" (766 appearances)\n",
      "Most common word in Metamorphosis  is \"gregor\" (168 appearances)\n",
      "Most common word in Yellow wallpaper is \"project\" (81 appearances)\n",
      "Elapsed time: 2.49 seconds\n"
     ]
    }
   ],
   "source": [
    "tic = time.time()\n",
    "\n",
    "with concurrent.futures.ThreadPoolExecutor(n_workers) as executor:\n",
    "    results = executor.map(most_common_word, urls.items())\n",
    "    for name, word, count in results:\n",
    "        print('Most common word in {} is \"{}\" ({} appearances)'.format(name, word, count))\n",
    "    \n",
    "toc = time.time()\n",
    "print(\"Elapsed time: {:.2f} seconds\".format(toc - tic))"
   ]
  },
  {
   "cell_type": "markdown",
   "metadata": {},
   "source": [
    "### Where are the futures?"
   ]
  },
  {
   "cell_type": "code",
   "execution_count": 29,
   "metadata": {
    "collapsed": false
   },
   "outputs": [
    {
     "name": "stdout",
     "output_type": "stream",
     "text": [
      "Most common word in Yellow wallpaper is \"project\" (81 appearances)\n",
      "Most common word in Alice in Wonderland is \"said\" (130 appearances)\n",
      "Most common word in Metamorphosis  is \"gregor\" (168 appearances)\n",
      "Most common word in Gulliver is \"upon\" (201 appearances)\n",
      "Most common word in A Tale of Two Cities is \"mr.\" (602 appearances)\n",
      "Most common word in Pride and prejudice is \"mr.\" (766 appearances)\n",
      "Elapsed time: 2.18 seconds\n"
     ]
    }
   ],
   "source": [
    "tic = time.time()\n",
    "\n",
    "with concurrent.futures.ThreadPoolExecutor(n_workers) as executor:\n",
    "    futures = [executor.submit(most_common_word, item) for item in urls.items()]\n",
    "    for future in concurrent.futures.as_completed(futures):\n",
    "        name, word, count = future.result()\n",
    "        print('Most common word in {} is \"{}\" ({} appearances)'.format(name, word, count))      \n",
    "\n",
    "toc = time.time()\n",
    "print(\"Elapsed time: {:.2f} seconds\".format(toc - tic))"
   ]
  },
  {
   "cell_type": "markdown",
   "metadata": {},
   "source": [
    "## I/O and CPU bounded program\n",
    "\n",
    "In some cases running multiple threads actually helps even if we are in a CPU bounded scenario, because the OS may run these threads on separate cores, and if the code that we use releases the GIL in some way, then we can achieve \"true multithreading\". \n",
    "\n",
    "This is the case in the following example, in which we calculate a hash of our books using the very slow function, `pbkdf2_hmac`. However, the [`haslib` docs](https://docs.python.org/3.4/library/hashlib.html) specify that if the data is larger than 2047 the GIL is released (as the computation is done in C) and therefore if we use threads we will see a big improvement."
   ]
  },
  {
   "cell_type": "code",
   "execution_count": 1,
   "metadata": {
    "collapsed": false
   },
   "outputs": [],
   "source": [
    "import hashlib\n",
    "import binascii\n",
    "import concurrent.futures\n",
    "import time"
   ]
  },
  {
   "cell_type": "code",
   "execution_count": 2,
   "metadata": {
    "collapsed": false
   },
   "outputs": [],
   "source": [
    "names = [\n",
    "    'Gulliver',\n",
    "    'Alice in Wonderland',\n",
    "    'Pride and prejudice',\n",
    "    'Yellow wallpaper',\n",
    "    'Metamorphosis ',\n",
    "    'A Tale of Two Cities',\n",
    "    'The Importance of Being Earnest',\n",
    "    'Frankenstein'\n",
    "]\n",
    "filenames = {name: '../data/{}.txt'.format(name) for name in names}\n",
    "\n",
    "def read_book(item):\n",
    "    name, filename = item    \n",
    "    with open(filename) as f:\n",
    "        data = f.read()        \n",
    "        return name, data\n",
    "\n",
    "# read books to memory\n",
    "with concurrent.futures.ThreadPoolExecutor() as executor: # much faster than a single-threaded program\n",
    "    books = dict(executor.map(read_book, filenames.items()))   "
   ]
  },
  {
   "cell_type": "code",
   "execution_count": 3,
   "metadata": {
    "collapsed": false
   },
   "outputs": [
    {
     "name": "stdout",
     "output_type": "stream",
     "text": [
      "3 loops, best of 3: 2.14 s per loop\n"
     ]
    }
   ],
   "source": [
    "def hash_book(item, k=1024):\n",
    "    name, data = item    \n",
    "    # very slow function\n",
    "    fingerprint = hashlib.pbkdf2_hmac('sha512', data.encode('utf8'), b'salt', 1000000)\n",
    "    return name, binascii.hexlify(fingerprint).decode()\n",
    "\n",
    "%timeit -n 3 hash_book(list(books.items())[0])"
   ]
  },
  {
   "cell_type": "markdown",
   "metadata": {},
   "source": [
    "Running in a single-thread mode - open your process monitor to see that only one core is used:"
   ]
  },
  {
   "cell_type": "code",
   "execution_count": 15,
   "metadata": {
    "collapsed": false
   },
   "outputs": [
    {
     "name": "stdout",
     "output_type": "stream",
     "text": [
      "Fingerprint for Yellow wallpaper is \"c1923857796393fa32f0b89b5a1c95a9429a5739778a9bb0b4262e89745e3dd9c8da85a81652648f7303c77e36f857a97db24a22af6270077c13fc864196e4d7\"\n",
      "Fingerprint for Frankenstein is \"072e9217b2170d303d3807cc0d38c3e90d54e35331032068e281752e993d036288b1324039493119bda191048fa9882ab3b3975db40223676c6d3fd14b0b0039\"\n",
      "Fingerprint for The Importance of Being Earnest is \"9a88cb46f22357fc3d3edc2ee87596c0c3c30700809931d01726cf20b22634d84ee301cec2c8da79773e01bbb2ccc83c895d5058d8bf9c3c7af587af1a0f9ffd\"\n",
      "Fingerprint for Gulliver is \"279397822ce37e80b9235eb01370875546d5d5e92bb6b6d1c4d74d1fcc21a397ef42edbff782b18d27a1aa9941d73c65941f96717da62f680c11defa4c285ba1\"\n",
      "Fingerprint for Metamorphosis  is \"bc02d680ae6f06d83cbe5848a141cbb7745e2ed808ffa6e40c27fa86688e5d20cfcc03a13ccd3f70ef1261624912f4f8415089c97b5c27991bd5efe879e9aa4b\"\n",
      "Fingerprint for Alice in Wonderland is \"71a49a0fa0d36338e3072c4cff1649b2db1ad788b829613015d5e557bcf8c03ff498ac1ec1d11365ca9d70be73b791b260976caf5322d624fc21aebdf99bab9d\"\n",
      "Fingerprint for A Tale of Two Cities is \"441ced7e12d05d3cf24943a6fb11f98954ba2b021da7cc2738d4b1dd656bed3fdcc1a4b0df000b43295c1ad48f7a8c028c8ecd9a0b39200c326230bd0a7a3383\"\n",
      "Fingerprint for Pride and prejudice is \"9f464085c83f8ef4e7ccd67abf1401fd8b2b8067b473613c01fd39d5b504084e2d306c58e85a532f64a49f0950e8158fb4e53a872361ed22931182c7277c98e8\"\n",
      "Elapsed time: 15.60 seconds\n"
     ]
    }
   ],
   "source": [
    "tic = time.time()\n",
    "\n",
    "results = map(hash_book, books.items())\n",
    "for name, fingerprint in results:\n",
    "    print('Fingerprint for {} is \"{}\"'.format(name, fingerprint))\n",
    "    \n",
    "toc = time.time()\n",
    "print(\"Elapsed time: {:.2f} seconds\".format(toc - tic))"
   ]
  },
  {
   "cell_type": "markdown",
   "metadata": {},
   "source": [
    "In multi-thread mode, you'll see that all the cores are used, at least on Windows (it is OS-dependent!):"
   ]
  },
  {
   "cell_type": "code",
   "execution_count": 17,
   "metadata": {
    "collapsed": false
   },
   "outputs": [
    {
     "name": "stdout",
     "output_type": "stream",
     "text": [
      "Fingerprint for Yellow wallpaper is \"c1923857796393fa32f0b89b5a1c95a9429a5739778a9bb0b4262e89745e3dd9c8da85a81652648f7303c77e36f857a97db24a22af6270077c13fc864196e4d7\"\n",
      "Fingerprint for Frankenstein is \"072e9217b2170d303d3807cc0d38c3e90d54e35331032068e281752e993d036288b1324039493119bda191048fa9882ab3b3975db40223676c6d3fd14b0b0039\"\n",
      "Fingerprint for The Importance of Being Earnest is \"9a88cb46f22357fc3d3edc2ee87596c0c3c30700809931d01726cf20b22634d84ee301cec2c8da79773e01bbb2ccc83c895d5058d8bf9c3c7af587af1a0f9ffd\"\n",
      "Fingerprint for Gulliver is \"279397822ce37e80b9235eb01370875546d5d5e92bb6b6d1c4d74d1fcc21a397ef42edbff782b18d27a1aa9941d73c65941f96717da62f680c11defa4c285ba1\"\n",
      "Fingerprint for Metamorphosis  is \"bc02d680ae6f06d83cbe5848a141cbb7745e2ed808ffa6e40c27fa86688e5d20cfcc03a13ccd3f70ef1261624912f4f8415089c97b5c27991bd5efe879e9aa4b\"\n",
      "Fingerprint for Alice in Wonderland is \"71a49a0fa0d36338e3072c4cff1649b2db1ad788b829613015d5e557bcf8c03ff498ac1ec1d11365ca9d70be73b791b260976caf5322d624fc21aebdf99bab9d\"\n",
      "Fingerprint for A Tale of Two Cities is \"441ced7e12d05d3cf24943a6fb11f98954ba2b021da7cc2738d4b1dd656bed3fdcc1a4b0df000b43295c1ad48f7a8c028c8ecd9a0b39200c326230bd0a7a3383\"\n",
      "Fingerprint for Pride and prejudice is \"9f464085c83f8ef4e7ccd67abf1401fd8b2b8067b473613c01fd39d5b504084e2d306c58e85a532f64a49f0950e8158fb4e53a872361ed22931182c7277c98e8\"\n",
      "Elapsed time: 9.08 seconds\n"
     ]
    }
   ],
   "source": [
    "tic = time.time()\n",
    "\n",
    "with concurrent.futures.ThreadPoolExecutor() as executor:\n",
    "    results = executor.map(hash_book, books.items())\n",
    "    for name, fingerprint in results:\n",
    "        print('Fingerprint for {} is \"{}\"'.format(name, fingerprint))\n",
    "    \n",
    "toc = time.time()\n",
    "print(\"Elapsed time: {:.2f} seconds\".format(toc - tic))"
   ]
  },
  {
   "cell_type": "markdown",
   "metadata": {},
   "source": [
    "No further improvement can be had by replacing `ThreadPoolExecutor` with `ProcessPoolExecutor`, I tried (see [hashbook.py](../scripts/hashbook.py))."
   ]
  },
  {
   "cell_type": "markdown",
   "metadata": {},
   "source": [
    "# Coroutines\n",
    "\n",
    "**coroutines** are task-like objects that are defined using `async def` (or in Python 3.4, using `def` with a special decorator). \n",
    "\n",
    "Coroutines can yield the control using the `await` statement (or `yield from` in Python < 3.5), which allows us to get something that is similar to multi-threading, but where the control switches occur in specific, designated, places in the code, and are entirely managed by us. This is in contrast to theads, in which control switches are managed by the operating system, which requires us (sometimes) to use locks and semaphors in order to make sure that our data stays \"whole\".\n",
    "\n",
    "Async programming with coroutines can enchance runtime in I/O-bouded programs, and the programmatic overhead is relatively small (as can be seen below). Moreover, coroutines are much cheaper than threads, in terms of their memory footprint, and therefore we can spawn thousands of them, while we cannot afford to spawn thousands of threads.\n",
    "\n",
    "Let's see an implementation of the above using async programming: we define the coroutine, which uses the *aiohttp* package to read files from the web instead of the *urllib* package: *aiohttp* does async HTTP requests and responses (both for servers and clients). We then instantiate the coroutines (much like we would do with generators, rather than functions). We create an event loop (using the standard library module *asyncio*), which will be responsible for running the coroutines and handling the switching of flow between them, give the loop all the coroutines, and run the loop. Lastly, We collect the async results and print them."
   ]
  },
  {
   "cell_type": "code",
   "execution_count": 55,
   "metadata": {
    "collapsed": true
   },
   "outputs": [],
   "source": [
    "import aiohttp\n",
    "import asyncio"
   ]
  },
  {
   "cell_type": "code",
   "execution_count": 56,
   "metadata": {
    "collapsed": false
   },
   "outputs": [],
   "source": [
    "async def most_common_word(name, url):\n",
    "    response = await aiohttp.get(url)\n",
    "    assert response.status == 200\n",
    "    counter = Counter()\n",
    "    async for line in response.content:\n",
    "        if not line:\n",
    "            break\n",
    "        line = line.decode().lower()\n",
    "        counter.update(line.split())\n",
    "    response.close()\n",
    "    for word in stop_words:\n",
    "        counter[word] = 0\n",
    "    word, count = counter.most_common(1)[0]\n",
    "    return name, word, count"
   ]
  },
  {
   "cell_type": "code",
   "execution_count": 59,
   "metadata": {
    "collapsed": false
   },
   "outputs": [
    {
     "data": {
      "text/plain": [
       "coroutine"
      ]
     },
     "execution_count": 59,
     "metadata": {},
     "output_type": "execute_result"
    }
   ],
   "source": [
    "coros = [most_common_word(name, url) for name, url in urls.items()]\n",
    "loop = asyncio.get_event_loop()\n",
    "type(coros[0])"
   ]
  },
  {
   "cell_type": "code",
   "execution_count": 58,
   "metadata": {
    "collapsed": false
   },
   "outputs": [
    {
     "name": "stdout",
     "output_type": "stream",
     "text": [
      "Most common word in The Importance of Being Earnest is \"jack.\" (224 appearances)\n",
      "Most common word in Metamorphosis  is \"gregor\" (168 appearances)\n",
      "Most common word in A Tale of Two Cities is \"mr.\" (602 appearances)\n",
      "Most common word in Alice in Wonderland is \"said\" (130 appearances)\n",
      "Most common word in Frankenstein is \"will\" (194 appearances)\n",
      "Most common word in Gulliver is \"upon\" (201 appearances)\n",
      "Most common word in Pride and prejudice is \"mr.\" (766 appearances)\n",
      "Most common word in Yellow wallpaper is \"project\" (81 appearances)\n",
      "Elapsed time: 3.05 seconds\n"
     ]
    }
   ],
   "source": [
    "tic = time.time()\n",
    "\n",
    "tasks = loop.run_until_complete(asyncio.wait(coros))\n",
    "for t in tasks[0]:\n",
    "    name, word, count = t.result()\n",
    "    print('Most common word in {} is \"{}\" ({} appearances)'.format(name, word, count))\n",
    "    \n",
    "toc = time.time()\n",
    "print(\"Elapsed time: {:.2f} seconds\".format(toc - tic))"
   ]
  },
  {
   "cell_type": "markdown",
   "metadata": {},
   "source": [
    "# Multiprocessing using IPython Parallel\n",
    "\n",
    "From the [threading](https://docs.python.org/3/library/threading.html) module:\n",
    "> CPython implementation detail: In CPython, due to the Global Interpreter Lock, **only one thread can execute Python code at once**... If you want your application to make better use of the **computational resources of multi-core machines**, you are advised to use `multiprocessing` or `concurrent.futures.ProcessPoolExecutor`.\n",
    "\n",
    "The standard library module, [multiprocessing](https://docs.python.org/3/library/multiprocessing.html), supports the use of multiple processes. \n",
    "\n",
    "However, we will use the [IPython Parallel](https://ipyparallel.readthedocs.org/) pacakge, which you can install with `conda install ipyparallel` or `pip install ipyparallel`. We'll start with some examples, but there are more [examples](http://nbviewer.jupyter.org/github/ipython/ipyparallel/blob/master/examples/Index.ipynb) and [demos](https://ipyparallel.readthedocs.org/en/latest/demos.html). *Note*: IPython Parallel is separate from the notebook and can run without it just fine."
   ]
  },
  {
   "cell_type": "code",
   "execution_count": 1,
   "metadata": {
    "collapsed": false
   },
   "outputs": [],
   "source": [
    "import ipyparallel as ipp"
   ]
  },
  {
   "cell_type": "markdown",
   "metadata": {},
   "source": [
    "IPython Parallel lets us create a cluster. The default is to start a local cluster using subprocesses - let's start an IPython Cluster with 3 nodes:\n",
    "```\n",
    "ipcluster start -n 3\n",
    "```\n",
    "\n",
    "But in general we can also start a cluster using an MPI environment, SGE (qsub) environment, and other environments. You can also [start one cluster controller](https://ipyparallel.readthedocs.org/en/latest/process.html#starting-the-controller-and-engines-on-different-hosts) on one machine and then cluster engines on several other machines connected to the same LAN (or using SSH tunnels).\n",
    "\n",
    "Next, we create a cluster client, with a view that uses all cores:"
   ]
  },
  {
   "cell_type": "code",
   "execution_count": 7,
   "metadata": {
    "collapsed": false
   },
   "outputs": [],
   "source": [
    "rc = ipp.Client()\n",
    "v = rc.load_balanced_view()"
   ]
  },
  {
   "cell_type": "markdown",
   "metadata": {},
   "source": [
    "Our first option for paralleling operations is by using the `map` method of the view instead of the regular `map` function:"
   ]
  },
  {
   "cell_type": "code",
   "execution_count": 9,
   "metadata": {
    "collapsed": false
   },
   "outputs": [
    {
     "name": "stdout",
     "output_type": "stream",
     "text": [
      "Simple sync map:  [0, 2, 4, 6, 8, 10, 12, 14, 16, 18]\n"
     ]
    }
   ],
   "source": [
    "result = v.map(lambda x: 2*x, range(10))\n",
    "print(\"Simple sync map: \", list(result))"
   ]
  },
  {
   "cell_type": "markdown",
   "metadata": {},
   "source": [
    "We can also use an async map which submits tasks, gives us back IDs, and we can then wait for the tasks to finish:"
   ]
  },
  {
   "cell_type": "code",
   "execution_count": 11,
   "metadata": {
    "collapsed": false
   },
   "outputs": [
    {
     "name": "stdout",
     "output_type": "stream",
     "text": [
      "Submitted tasks, got ids:  ['2fde147d-c1c4-425a-9d27-278d30feef88', '4af5560f-eef0-4e33-81af-2cbb94322502', 'dcfd248a-b0f3-4e29-b933-60e4d94574d1', 'b1818a89-8dba-4cd3-969f-d709e16e3f8f', '71a4f9bb-95dd-4e91-8d2c-52e219ad273e', 'd4d15f3f-63e7-434c-8f0a-4403780bc887', 'a6472ab8-3168-4d2e-8109-7e74bc9794bc', 'dca78456-2dbb-491f-8364-127a2ec23529', 'b3e4e3f5-cf67-4b41-9088-775388f9decb', '0df4e086-0c02-48f7-aeb6-5f993ed28934']\n",
      "Using a mapper:  [0, 2, 4, 6, 8, 10, 12, 14, 16, 18]\n"
     ]
    }
   ],
   "source": [
    "aresult = v.map_async(lambda x: 2*x, range(10))\n",
    "print(\"Submitted tasks, got ids: \", aresult.msg_ids)\n",
    "result = aresult.get()\n",
    "print(\"Using a mapper: \", result)"
   ]
  },
  {
   "cell_type": "code",
   "execution_count": 12,
   "metadata": {
    "collapsed": false
   },
   "outputs": [
    {
     "data": {
      "text/plain": [
       "(ipyparallel.client.asyncresult.AsyncMapResult, list)"
      ]
     },
     "execution_count": 12,
     "metadata": {},
     "output_type": "execute_result"
    }
   ],
   "source": [
    "type(aresult), type(result)"
   ]
  },
  {
   "cell_type": "markdown",
   "metadata": {},
   "source": [
    "We can also use a decorator to create a \"parallel function\" (with the sync or async approach, depending on if we specify `block=True` or `False`):"
   ]
  },
  {
   "cell_type": "code",
   "execution_count": 15,
   "metadata": {
    "collapsed": false
   },
   "outputs": [
    {
     "name": "stdout",
     "output_type": "stream",
     "text": [
      "Using a parallel function:  [0, 2, 4, 6, 8, 10, 12, 14, 16, 18]\n"
     ]
    }
   ],
   "source": [
    "@v.parallel(block=True)\n",
    "def f(x): \n",
    "    return 2*x\n",
    "\n",
    "result = f.map(range(10))\n",
    "print(\"Using a parallel function: \", result)"
   ]
  },
  {
   "cell_type": "markdown",
   "metadata": {},
   "source": [
    "If the `map` idiom doesn't quite fit our use case, we can just use `apply`. For example, take this function (details are in the [linear algebra session](linear-algebra.ipynb)):"
   ]
  },
  {
   "cell_type": "code",
   "execution_count": 26,
   "metadata": {
    "collapsed": false
   },
   "outputs": [
    {
     "name": "stdout",
     "output_type": "stream",
     "text": [
      "1 loop, best of 1: 1.36 s per loop\n"
     ]
    }
   ],
   "source": [
    "def rand_mat_eigvals(bottom, top, n):\n",
    "    import numpy as np\n",
    "    X = np.random.randint(bottom, top, size=(n, n))\n",
    "    eigvals = np.linalg.eigvals(X)\n",
    "    return eigvals.max()\n",
    "%timeit -n 1 -r 1 rand_mat_eigvals(0, 9, 1000)"
   ]
  },
  {
   "cell_type": "code",
   "execution_count": 27,
   "metadata": {
    "collapsed": false
   },
   "outputs": [
    {
     "data": {
      "text/plain": [
       "((4001.0273477265564+0j),\n",
       " (3999.6972418514506+0j),\n",
       " (4000.2252682862822+0j),\n",
       " (4000.7451400583459+0j))"
      ]
     },
     "execution_count": 27,
     "metadata": {},
     "output_type": "execute_result"
    }
   ],
   "source": [
    "res1 = v.apply_async(rand_mat_eigvals, 0, 9, 1000)\n",
    "res2 = v.apply_async(rand_mat_eigvals, 0, 9, 1000)\n",
    "res3 = v.apply_async(rand_mat_eigvals, 0, 9, 1000)\n",
    "res4 = v.apply_async(rand_mat_eigvals, 0, 9, 1000)\n",
    "res1.get(), res2.get(), res3.get(), res4.get()"
   ]
  },
  {
   "cell_type": "markdown",
   "metadata": {},
   "source": [
    "Note that we needed to import Numpy **inside** the function, otherwise the \"other\" processes wouldn't know what `np` is and will throw a `NameError`.\n",
    "\n",
    "Let's look at the example [wordfreq.py](https://github.com/ipython/ipyparallel/blob/master/examples/daVinci%20Word%20Count/wordfreq.py) and [pwordfreq.py](https://github.com/ipython/ipyparallel/blob/master/examples/daVinci%20Word%20Count/pwordfreq.py)."
   ]
  },
  {
   "cell_type": "markdown",
   "metadata": {},
   "source": [
    "# References\n",
    "\n",
    "- [General concepts in concurrency](https://learn-gevent-socketio.readthedocs.org/en/latest/general_concepts.html)\n",
    "- [Understanding the GIL](http://www.dabeaz.com/GIL/), a presentation by David Beazley, is a deep and engaing description of the old and new Python GIL.\n",
    "- [Python Concurrency From the Ground Up](https://www.youtube.com/watch?v=MCs5OvhV9S4), a video presentation by David Beazley from PyCon 2015.\n",
    "- The [threading](https://docs.python.org/3/library/threading.html) module\n",
    "- The [multiprocessing](https://docs.python.org/3/library/multiprocessing.html) module\n",
    "- [IPython Parallel](https://ipyparallel.readthedocs.org/)\n",
    "- [distributed](https://distributed.readthedocs.org/en/latest/) by Continuum is a new package that facilitates data analysis on multiple machines.\n"
   ]
  },
  {
   "cell_type": "markdown",
   "metadata": {},
   "source": [
    "## Colophon\n",
    "This notebook was written by [Yoav Ram](http://www.yoavram.com) and is part of the _Python for Engineers_ course.\n",
    "\n",
    "The notebook was written using [Python](http://pytho.org/) 3.4.4, [IPython](http://ipython.org/) 4.0.3 and [Jupyter](http://jupyter.org) 4.0.6.\n",
    "\n",
    "This work is licensed under a CC BY-NC-SA 4.0 International License.\n",
    "\n",
    "![Python logo](https://www.python.org/static/community_logos/python-logo.png)"
   ]
  }
 ],
 "metadata": {
  "kernelspec": {
   "display_name": "Py4Eng",
   "language": "python",
   "name": "py4eng"
  },
  "language_info": {
   "codemirror_mode": {
    "name": "ipython",
    "version": 3
   },
   "file_extension": ".py",
   "mimetype": "text/x-python",
   "name": "python",
   "nbconvert_exporter": "python",
   "pygments_lexer": "ipython3",
   "version": "3.5.1"
  }
 },
 "nbformat": 4,
 "nbformat_minor": 0
}
