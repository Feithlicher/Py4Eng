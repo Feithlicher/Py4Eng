{
 "cells": [
  {
   "cell_type": "markdown",
   "metadata": {},
   "source": [
    "![Py4Eng](img/logo.png)\n",
    "\n",
    "# Concurrency\n",
    "## Yoav Ram"
   ]
  },
  {
   "cell_type": "markdown",
   "metadata": {},
   "source": [
    "# Threading\n",
    "\n",
    "https://learn-gevent-socketio.readthedocs.org/en/latest/general_concepts.html\n",
    "\n",
    "Thread are very useful for maintaining several program flows running (quasi-)simultaneously: but in Python, they are really running in the same process so the main benefit from threading is that one job doesn't block other jobs from running simultaneously.\n",
    "\n",
    "If some of the jobs are doing I/O we can gain benefit async programming - see relevant [session](async.ipynb).\n",
    "\n",
    "Let's start with a simple example: a worker thread that counts from 1 to 10, waiting one second between numbers, but doesn't block the main thread that counts from 11 to 20 (also waiting). \n",
    "\n",
    "We use the [threading](https://docs.python.org/3.5/library/threading.html) module from the standard library."
   ]
  },
  {
   "cell_type": "code",
   "execution_count": 1,
   "metadata": {
    "collapsed": true
   },
   "outputs": [],
   "source": [
    "import threading\n",
    "import time"
   ]
  },
  {
   "cell_type": "code",
   "execution_count": 2,
   "metadata": {
    "collapsed": true
   },
   "outputs": [],
   "source": [
    "def create_counting_task(start, end):\n",
    "    def task():\n",
    "        for i in range(start, end):\n",
    "            print(\" \", i, end=\" \")\n",
    "            time.sleep(1)\n",
    "    return task"
   ]
  },
  {
   "cell_type": "code",
   "execution_count": 3,
   "metadata": {
    "collapsed": false
   },
   "outputs": [
    {
     "name": "stdout",
     "output_type": "stream",
     "text": [
      "  1   11   2   12   3   13   4   14   5   15   6   16   7   17   8   18   9   19   10   20 "
     ]
    }
   ],
   "source": [
    "main_task = create_counting_task(11, 21)\n",
    "worker_task = create_counting_task(1, 11)\n",
    "worker = threading.Thread(target=worker_task)\n",
    "worker.start()\n",
    "main_task()\n",
    "worker.join()"
   ]
  },
  {
   "cell_type": "markdown",
   "metadata": {},
   "source": [
    "## Communicating with queues\n",
    "\n",
    "\n",
    "https://docs.python.org/3/library/queue.html"
   ]
  },
  {
   "cell_type": "code",
   "execution_count": 1,
   "metadata": {
    "collapsed": true
   },
   "outputs": [],
   "source": [
    "import threading\n",
    "import queue\n",
    "import collections\n",
    "import urllib.request\n",
    "import time"
   ]
  },
  {
   "cell_type": "code",
   "execution_count": 2,
   "metadata": {
    "collapsed": false
   },
   "outputs": [
    {
     "name": "stdout",
     "output_type": "stream",
     "text": [
      "['a', 'about', 'above']\n"
     ]
    }
   ],
   "source": [
    "stop_words_url = 'https://github.com/Alir3z4/stop-words/raw/25c6a0aea665871e887f155b883e950c3743ce50/english.txt'\n",
    "with urllib.request.urlopen(stop_words_url) as f:\n",
    "    stop_words = [line.decode().strip() for line in f]\n",
    "print(stop_words[:3])"
   ]
  },
  {
   "cell_type": "code",
   "execution_count": 3,
   "metadata": {
    "collapsed": false
   },
   "outputs": [],
   "source": [
    "urls = {\n",
    "    'Gulliver':'https://raw.githubusercontent.com/yoavram/Py4Eng/master/data/gulliver.txt',\n",
    "    'Alice in Wonderland':'https://raw.githubusercontent.com/yoavram/Py4Eng/master/data/alice.txt',\n",
    "    'Pride and prejudice':'https://www.gutenberg.org/cache/epub/1342/pg1342.txt',\n",
    "    'Yellow wallpaper':'https://www.gutenberg.org/cache/epub/1952/pg1952.txt',\n",
    "    'Metamorphosis ':'https://www.gutenberg.org/cache/epub/5200/pg5200.txt',\n",
    "    'A Tale of Two Cities':'https://www.gutenberg.org/ebooks/98.txt.utf-8',\n",
    "    'The Importance of Being Earnest':'https://www.gutenberg.org/ebooks/844.txt.utf-8',\n",
    "    'Frankenstein':'https://www.gutenberg.org/ebooks/84.txt.utf-8'\n",
    "}\n",
    "\n",
    "def most_common_word(name, url):\n",
    "    with urllib.request.urlopen(url) as f:        \n",
    "        counter = collections.Counter()\n",
    "        for line in f:        \n",
    "            if not line:\n",
    "                break\n",
    "            line = line.decode().lower()\n",
    "            counter.update(line.split())\n",
    "        for word in ['the', 'a', 'is', 'of', 'and', 'to', 'i', 'in']:\n",
    "            counter.pop(word)\n",
    "        word, appearances = counter.most_common(1)[0]\n",
    "        return 'Most common word in {} is \"{}\" ({} appearances)'.format(name, word, appearances)"
   ]
  },
  {
   "cell_type": "code",
   "execution_count": null,
   "metadata": {
    "collapsed": false,
    "scrolled": true
   },
   "outputs": [],
   "source": [
    "tic = time.time()\n",
    "\n",
    "for name, url in urls.items():\n",
    "    print(most_common_word(name, url))\n",
    "    break\n",
    "    \n",
    "toc = time.time()\n",
    "print(\"Elapsed time: {:.2f} seconds\".format(toc - tic))"
   ]
  },
  {
   "cell_type": "code",
   "execution_count": 4,
   "metadata": {
    "collapsed": true
   },
   "outputs": [],
   "source": [
    "def task():\n",
    "    while True:\n",
    "        item = q.get()\n",
    "        if item is None:\n",
    "            break\n",
    "        name, url = item\n",
    "        print(most_common_word(name, url))\n",
    "        q.task_done()"
   ]
  },
  {
   "cell_type": "code",
   "execution_count": null,
   "metadata": {
    "collapsed": false
   },
   "outputs": [],
   "source": [
    "tic = time.time()\n",
    "\n",
    "num_workers = 3\n",
    "q = queue.Queue()\n",
    "workers = []\n",
    "\n",
    "for i in range(num_workers):\n",
    "    w = threading.Thread(target=task)\n",
    "    w.start()\n",
    "    workers.append(w)\n",
    "\n",
    "for item in urls.items():\n",
    "    q.put(item)\n",
    "    \n",
    "# block until all tasks are done\n",
    "q.join()\n",
    "\n",
    "# stop workers\n",
    "for i in range(num_workers):\n",
    "    q.put(None)\n",
    "for w in workers:\n",
    "    w.join()\n",
    "    \n",
    "toc = time.time()\n",
    "print(\"Elapsed time: {:.2f} seconds\".format(toc - tic))"
   ]
  },
  {
   "cell_type": "markdown",
   "metadata": {},
   "source": [
    "# Multi-processing\n",
    "\n",
    "https://docs.python.org/2/library/multiprocessing.html"
   ]
  },
  {
   "cell_type": "code",
   "execution_count": 5,
   "metadata": {
    "collapsed": true
   },
   "outputs": [],
   "source": [
    "from multiprocessing import Pool"
   ]
  },
  {
   "cell_type": "code",
   "execution_count": 6,
   "metadata": {
    "collapsed": true
   },
   "outputs": [],
   "source": [
    "pool = Pool(3)\n",
    "pool.close()"
   ]
  },
  {
   "cell_type": "code",
   "execution_count": null,
   "metadata": {
    "collapsed": false
   },
   "outputs": [],
   "source": [
    "tic = time.time()\n",
    "\n",
    "pool = Pool(3)\n",
    "def f(item):\n",
    "    most_common_word(*item)\n",
    "results = pool.map(f, urls.items())\n",
    "for r in results:\n",
    "    print(r)\n",
    "pool.close()\n",
    "\n",
    "toc = time.time()\n",
    "print(\"Elapsed time: {:.2f} seconds\".format(toc - tic))"
   ]
  },
  {
   "cell_type": "code",
   "execution_count": null,
   "metadata": {
    "collapsed": true
   },
   "outputs": [],
   "source": []
  }
 ],
 "metadata": {
  "kernelspec": {
   "display_name": "Py4Eng",
   "language": "python",
   "name": "py4eng"
  },
  "language_info": {
   "codemirror_mode": {
    "name": "ipython",
    "version": 3
   },
   "file_extension": ".py",
   "mimetype": "text/x-python",
   "name": "python",
   "nbconvert_exporter": "python",
   "pygments_lexer": "ipython3",
   "version": "3.5.1"
  }
 },
 "nbformat": 4,
 "nbformat_minor": 0
}
