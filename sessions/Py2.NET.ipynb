{
 "cells": [
  {
   "cell_type": "markdown",
   "metadata": {},
   "source": [
    "\n",
    "## Setup \n",
    "\n",
    "First, we need to install .NET:\n",
    "\n",
    "- On Windows, [install the .NET framework](https://msdn.microsoft.com/en-us/library/5a4x27ek.aspx).\n",
    "- On Mac or Linux, install [mono](http://www.mono-project.com) (on Mac, if you have _Homebrew_, just do `brew install mono`).\n",
    "\n",
    "Next, install [Python for .NET](http://pythonnet.github.io): `pip install pythonnet`. If you are having issues, try `pip install pycparser` on Linux/Mac, and try to get the latest code from [github](https://github.com/pythonnet/pythonnet) and install with `python setup.py install`.\n",
    "\n",
    "Now, check that it works - this import should succeed:"
   ]
  },
  {
   "cell_type": "code",
   "execution_count": 1,
   "metadata": {
    "collapsed": true
   },
   "outputs": [],
   "source": [
    "import clr"
   ]
  },
  {
   "cell_type": "markdown",
   "metadata": {},
   "source": [
    "## Simple examples"
   ]
  },
  {
   "cell_type": "code",
   "execution_count": 2,
   "metadata": {
    "collapsed": true
   },
   "outputs": [],
   "source": [
    "from System import String"
   ]
  },
  {
   "cell_type": "code",
   "execution_count": 3,
   "metadata": {
    "collapsed": false
   },
   "outputs": [
    {
     "data": {
      "text/plain": [
       "2"
      ]
     },
     "execution_count": 3,
     "metadata": {},
     "output_type": "execute_result"
    }
   ],
   "source": [
    "s = String('hi')\n",
    "s.get_Length()"
   ]
  },
  {
   "cell_type": "code",
   "execution_count": 4,
   "metadata": {
    "collapsed": true
   },
   "outputs": [],
   "source": [
    "from System import Environment"
   ]
  },
  {
   "cell_type": "code",
   "execution_count": 5,
   "metadata": {
    "collapsed": false
   },
   "outputs": [
    {
     "data": {
      "text/plain": [
       "'SilverBullet.home'"
      ]
     },
     "execution_count": 5,
     "metadata": {},
     "output_type": "execute_result"
    }
   ],
   "source": [
    "Environment.MachineName"
   ]
  },
  {
   "cell_type": "code",
   "execution_count": 6,
   "metadata": {
    "collapsed": false
   },
   "outputs": [],
   "source": [
    "clr.AddReference('System.Collections');\n",
    "from System.Collections import Hashtable"
   ]
  },
  {
   "cell_type": "code",
   "execution_count": 14,
   "metadata": {
    "collapsed": false
   },
   "outputs": [
    {
     "data": {
      "text/plain": [
       "(True, 6)"
      ]
     },
     "execution_count": 14,
     "metadata": {},
     "output_type": "execute_result"
    }
   ],
   "source": [
    "hashtable = Hashtable()\n",
    "hashtable.Add('Python', 6)\n",
    "hashtable.Add('.NET', 4)\n",
    "\n",
    "hashtable.ContainsKey('Python'), hashtable['Python']"
   ]
  },
  {
   "cell_type": "markdown",
   "metadata": {},
   "source": [
    "## Example: XML writer\n",
    "\n",
    "Write an XML writer using the .NET XMLTextWriter class ([source](https://www.thecodingforums.com/threads/example-code-python-pythonnet-ironpython-boo.336422/))."
   ]
  },
  {
   "cell_type": "code",
   "execution_count": null,
   "metadata": {
    "collapsed": true
   },
   "outputs": [],
   "source": [
    "import clr\n",
    "import System\n",
    "from System import Console as CLR_Console\n",
    "import System.Xml as CLR_Xml"
   ]
  },
  {
   "cell_type": "code",
   "execution_count": 17,
   "metadata": {
    "collapsed": false
   },
   "outputs": [],
   "source": [
    "true = 1\n",
    "false = 0\n",
    "filename = \"tmp.xml\"\n",
    "writer = CLR_Xml.XmlTextWriter(filename, None);\n",
    "#~ Use indenting for readability.\n",
    "writer.Formatting = CLR_Xml.Formatting.Indented;\n",
    "\n",
    "writer.WriteComment(\"XML in Boo Language\");\n",
    "\n",
    "#~ Write an element (this one is the root).\n",
    "writer.WriteStartElement(\"EducationalCentres\");\n",
    "\n",
    "#~ Write the namespace declaration.\n",
    "writer.WriteAttributeString(\"xmlns\", \"schname\", None,\n",
    "\"urn:schoolnames\");\n",
    "\n",
    "writer.WriteStartElement(\"School\");\n",
    "\n",
    "#~ Lookup the prefix and then write the ISBN attribute.\n",
    "prefix = writer.LookupPrefix(\"urn:schoolnames\");\n",
    "writer.WriteStartAttribute(prefix, \"NAME\", \"urn:schoolnames\");\n",
    "writer.WriteString(\"ABCD International School\");\n",
    "writer.WriteEndAttribute(); \n",
    "\n",
    "#~ Write the title.\n",
    "writer.WriteStartElement(\"city\");\n",
    "writer.WriteString(\"Madurai\");\n",
    "writer.WriteEndElement();\n",
    "\n",
    "#~ Write the price.\n",
    "writer.WriteElementString(\"Students\", \"500\");\n",
    "\n",
    "#~ Write the style element.\n",
    "writer.WriteStartElement(prefix, \"Syllabus\", \"urn:schoolnames\");\n",
    "writer.WriteString(\"IGCSE\");\n",
    "writer.WriteEndElement();\n",
    "\n",
    "#~ Write the end tag for the book element.\n",
    "writer.WriteEndElement();\n",
    "\n",
    "#~ Write the close tag for the root element.\n",
    "writer.WriteEndElement();\n",
    "\n",
    "#~ Write the XML to file and close the writer.\n",
    "writer.Flush();\n",
    "writer.Close();\n",
    "\n",
    "#~ Read the file back in and parse to ensure well formed XML.\n",
    "doc = CLR_Xml.XmlDocument();\n",
    "#~ Preserve white space for readability.\n",
    "doc.PreserveWhitespace = true;\n",
    "#~ Load the file\n",
    "doc.Load(filename);\n",
    "\n",
    "#~ Write the XML content to the console.\n",
    "CLR_Console.Write(doc.InnerXml);"
   ]
  },
  {
   "cell_type": "code",
   "execution_count": 19,
   "metadata": {
    "collapsed": false
   },
   "outputs": [
    {
     "name": "stdout",
     "output_type": "stream",
     "text": [
      "<!--XML in Boo Language-->\r\n",
      "<EducationalCentres xmlns:schname=\"urn:schoolnames\">\r\n",
      "  <School schname:NAME=\"ABCD International School\">\r\n",
      "    <city>Madurai</city>\r\n",
      "    <Students>500</Students>\r\n",
      "    <schname:Syllabus>IGCSE</schname:Syllabus>\r\n",
      "  </School>\r\n",
      "</EducationalCentres>"
     ]
    }
   ],
   "source": [
    "%cat test1.xml"
   ]
  },
  {
   "cell_type": "markdown",
   "metadata": {},
   "source": [
    "## Example: load C# library\n",
    "\n",
    "Start by writing a C# library. We'll write a simple Fibonacci number calculator:"
   ]
  },
  {
   "cell_type": "code",
   "execution_count": 57,
   "metadata": {
    "collapsed": false
   },
   "outputs": [
    {
     "name": "stdout",
     "output_type": "stream",
     "text": [
      "Overwriting FibonacciExample.cs\n"
     ]
    }
   ],
   "source": [
    "%%file FibonacciExample.cs\n",
    "using System;\n",
    "\n",
    "namespace Com.Yoavram.Examples\n",
    "{\n",
    "   public class FibonacciExample\n",
    "   {\n",
    "      public static int Fibonacci(int n)\n",
    "      {\n",
    "          int a = 1;\n",
    "          int b = 1;\n",
    "          int i = 2;\n",
    "          while (i < n) {\n",
    "              int tmp = b;\n",
    "              b = a + b;\n",
    "              a = tmp;\n",
    "              i++;\n",
    "          }\n",
    "          return b;\n",
    "      }\n",
    "      public static void Main(string[] args)\n",
    "      {\n",
    "         Console.WriteLine(\"Fibonacci 10:\");\n",
    "         Console.WriteLine(Fibonacci(10));\n",
    "      }\n",
    "   } \n",
    "}"
   ]
  },
  {
   "cell_type": "markdown",
   "metadata": {},
   "source": [
    "Now to compile it and run it on MacOS (running is calling the `Main` function):"
   ]
  },
  {
   "cell_type": "code",
   "execution_count": 6,
   "metadata": {
    "collapsed": false
   },
   "outputs": [
    {
     "name": "stdout",
     "output_type": "stream",
     "text": [
      "Fibonacci 10:\r\n",
      "55\r\n"
     ]
    }
   ],
   "source": [
    "!mcs FibonacciExample.cs\n",
    "!mono FibonacciExample.exe"
   ]
  },
  {
   "cell_type": "markdown",
   "metadata": {},
   "source": [
    "Now we load the libary to Python and import the namespace:"
   ]
  },
  {
   "cell_type": "code",
   "execution_count": 13,
   "metadata": {
    "collapsed": false
   },
   "outputs": [],
   "source": [
    "assembly = clr.AddReference('FibonacciExample')\n",
    "from Com.Yoavram.Examples import FibonacciExample"
   ]
  },
  {
   "cell_type": "markdown",
   "metadata": {},
   "source": [
    "so that we can use the functions from the namespace:"
   ]
  },
  {
   "cell_type": "code",
   "execution_count": 18,
   "metadata": {
    "collapsed": false
   },
   "outputs": [
    {
     "data": {
      "text/plain": [
       "55"
      ]
     },
     "execution_count": 18,
     "metadata": {},
     "output_type": "execute_result"
    }
   ],
   "source": [
    "FibonacciExample.Fibonacci(10)"
   ]
  },
  {
   "cell_type": "markdown",
   "metadata": {},
   "source": [
    "Let's compete the .NET Fibonacci function with a Python one:"
   ]
  },
  {
   "cell_type": "code",
   "execution_count": 14,
   "metadata": {
    "collapsed": true
   },
   "outputs": [],
   "source": [
    "def fibonacci(n):\n",
    "    a = 1\n",
    "    b = 1\n",
    "    i = 2\n",
    "    while i < n:\n",
    "        a, b = b, a + b\n",
    "        i+= 1\n",
    "    return b"
   ]
  },
  {
   "cell_type": "code",
   "execution_count": 15,
   "metadata": {
    "collapsed": false
   },
   "outputs": [
    {
     "data": {
      "text/plain": [
       "55"
      ]
     },
     "execution_count": 15,
     "metadata": {},
     "output_type": "execute_result"
    }
   ],
   "source": [
    "fibonacci(10)"
   ]
  },
  {
   "cell_type": "code",
   "execution_count": 17,
   "metadata": {
    "collapsed": false
   },
   "outputs": [
    {
     "name": "stdout",
     "output_type": "stream",
     "text": [
      "100000 loops, best of 3: 8.43 µs per loop\n",
      "The slowest run took 20.84 times longer than the fastest. This could mean that an intermediate result is being cached.\n",
      "1000000 loops, best of 3: 1.76 µs per loop\n"
     ]
    }
   ],
   "source": [
    "%timeit fibonacci(100)\n",
    "%timeit FibonacciExample.Fibonacci(100)"
   ]
  },
  {
   "cell_type": "markdown",
   "metadata": {},
   "source": [
    "Alright, the .NET implementation is faster!"
   ]
  }
 ],
 "metadata": {
  "kernelspec": {
   "display_name": "Python [conda env:Py4Eng]",
   "language": "python",
   "name": "conda-env-Py4Eng-py"
  },
  "language_info": {
   "codemirror_mode": {
    "name": "ipython",
    "version": 3
   },
   "file_extension": ".py",
   "mimetype": "text/x-python",
   "name": "python",
   "nbconvert_exporter": "python",
   "pygments_lexer": "ipython3",
   "version": "3.6.0"
  }
 },
 "nbformat": 4,
 "nbformat_minor": 2
}
