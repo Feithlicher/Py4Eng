{
 "cells": [
  {
   "cell_type": "code",
   "execution_count": 1,
   "metadata": {
    "collapsed": true
   },
   "outputs": [],
   "source": [
    "import os\n",
    "from PIL import Image"
   ]
  },
  {
   "cell_type": "markdown",
   "metadata": {},
   "source": [
    "# Click\n",
    "\n",
    "http://click.pocoo.org/6/"
   ]
  },
  {
   "cell_type": "code",
   "execution_count": 2,
   "metadata": {
    "collapsed": false
   },
   "outputs": [
    {
     "name": "stdout",
     "output_type": "stream",
     "text": [
      "Overwriting ../scripts/image-ui/segment.py\n"
     ]
    }
   ],
   "source": [
    "%%file ../scripts/image-ui/segment.py\n",
    "import io\n",
    "\n",
    "import numpy as np\n",
    "import skimage.filters\n",
    "import scipy.misc\n",
    "import click\n",
    "\n",
    "def open_image(filename, mode=\"L\"):\n",
    "    return scipy.misc.imread(filename, mode=mode)\n",
    "\n",
    "def save_image(filename, image):\n",
    "    scipy.misc.imsave(filename, image)\n",
    "    \n",
    "def segment_image(image):\n",
    "    th = skimage.filters.threshold_otsu(image)\n",
    "    segmented = np.zeros_like(image)\n",
    "    segmented[image > th] = 255\n",
    "    return segmented\n",
    "\n",
    "@click.command()\n",
    "@click.argument(\"src\", type=click.Path(exists=True, readable=True, dir_okay=False))\n",
    "@click.argument(\"dst\", type=click.Path(writable=True, dir_okay=False))\n",
    "def main(src, dst):\n",
    "    image = open_image(src)\n",
    "    segmented = segment_image(image)\n",
    "    save_image(dst, segmented)\n",
    "    \n",
    "\n",
    "if __name__ == '__main__':\n",
    "    main()"
   ]
  },
  {
   "cell_type": "code",
   "execution_count": 3,
   "metadata": {
    "collapsed": false
   },
   "outputs": [],
   "source": [
    "if os.path.exists('tmp.jpg'): os.remove('tmp.jpg')\n",
    "!python ../scripts/image-ui/segment.py ../data/Kobe_Bryant_2014_small.jpg tmp.jpg"
   ]
  },
  {
   "cell_type": "code",
   "execution_count": 4,
   "metadata": {
    "collapsed": false
   },
   "outputs": [
    {
     "data": {
      "image/png": "[encoded data removed]",
      "text/plain": [
       "<PIL.JpegImagePlugin.JpegImageFile image mode=L size=236x225 at 0x4791630>"
      ]
     },
     "execution_count": 4,
     "metadata": {},
     "output_type": "execute_result"
    }
   ],
   "source": [
    "Image.open('tmp.jpg')"
   ]
  },
  {
   "cell_type": "markdown",
   "metadata": {},
   "source": [
    "# Tk\n",
    "\n",
    "[ImageTk](http://pillow.readthedocs.io/en/latest/reference/ImageTk.html)\n",
    "\n",
    "Install Pillow from http://www.lfd.uci.edu/~gohlke/pythonlibs/#pillow"
   ]
  },
  {
   "cell_type": "code",
   "execution_count": 5,
   "metadata": {
    "collapsed": false
   },
   "outputs": [],
   "source": [
    "%gui tk\n",
    "import tkinter\n",
    "import tkinter.messagebox\n",
    "\n",
    "import pygubu\n",
    "from PIL import Image, ImageTk\n",
    "import numpy as np\n",
    "\n",
    "import sys\n",
    "sys.path.append(\"../scripts/image-ui/\")\n",
    "from segment import segment_image\n",
    "\n",
    "\n",
    "class ImageGUI:\n",
    "    def __init__(self, master):\n",
    "        self.master = master\n",
    "        self.builder = builder = pygubu.Builder()\n",
    "        self.builder.add_from_file('../scripts/image-ui/image.ui')\n",
    "        \n",
    "        self.mainwindow = builder.get_object('mainwindow', master)        \n",
    "        self.filenameEntry = builder.get_object('filenameEntry', master)\n",
    "        self.imageLabel = builder.get_object('imageLabel', master)\n",
    "        self.saveButton = builder.get_object('saveButton', master)\n",
    "        self.loadButton = builder.get_object('loadButton', master)\n",
    "        self.segmentButton = builder.get_object('segmentButton', master)\n",
    "        \n",
    "        self.filename = tkinter.StringVar(value='../data/Kobe_Bryant_2014_small.jpg')\n",
    "        self.filenameEntry['textvariable'] = self.filename        \n",
    "        self.load()\n",
    "        \n",
    "        self.saveButton['command'] = self.save\n",
    "        self.loadButton['command'] = self.load\n",
    "        self.segmentButton['command'] = self.segment\n",
    "    \n",
    "    \n",
    "    def info(self, title, msg):\n",
    "        tkinter.messagebox.showinfo(title, msg)\n",
    "        \n",
    "    def error(self, title, msg):\n",
    "        tkinter.messagebox.showerror(title, msg)\n",
    "    \n",
    "    def load(self):\n",
    "        fn = self.filename.get()\n",
    "        try:\n",
    "            self.image = Image.open(fn).convert(\"L\")\n",
    "        except Exception as e:\n",
    "            self.error(\"Failed loading image\", e)\n",
    "        self.imageTk = ImageTk.PhotoImage(self.image)\n",
    "        self.imageLabel.config(image=self.imageTk)\n",
    "\n",
    "    def save(self):\n",
    "        fn = self.filename.get()\n",
    "        try:\n",
    "            self.image.save(fn)\n",
    "        except Exception as e:\n",
    "            self.error(\"Failed saving image\", e)\n",
    "        else:\n",
    "            self.info(\"Saved image\", \"Image save to {}\".format(fn))\n",
    "        \n",
    "    def update(self):\n",
    "        self.imageTk.paste(self.image)        \n",
    "        self.imageLabel.config(image=self.imageTk)\n",
    "        \n",
    "    def segment(self):\n",
    "        segmented = segment_image(np.array(self.image))\n",
    "        self.image = Image.fromarray(segmented)\n",
    "        self.update()\n",
    "\n",
    "app = tkinter.Tk()\n",
    "app.title(\"ImageGUI\")\n",
    "window = ImageGUI(app)"
   ]
  },
  {
   "cell_type": "code",
   "execution_count": 6,
   "metadata": {
    "collapsed": false
   },
   "outputs": [
    {
     "data": {
      "image/png": "[encoded data removed]",
      "text/plain": [
       "<PIL.JpegImagePlugin.JpegImageFile image mode=L size=236x225 at 0x4AB4E48>"
      ]
     },
     "execution_count": 6,
     "metadata": {},
     "output_type": "execute_result"
    }
   ],
   "source": [
    "Image.open('tmp.jpg')"
   ]
  },
  {
   "cell_type": "markdown",
   "metadata": {},
   "source": [
    "# Flask \n",
    "\n",
    "# Requests\n",
    "\n",
    "http://docs.python-requests.org/en/master/user/quickstart/#post-a-multipart-encoded-file\n",
    "\n",
    "http://code.runnable.com/UiPcaBXaxGNYAAAL/how-to-upload-a-file-to-the-server-in-flask-for-python\n",
    "\n",
    "https://pythonhosted.org/Flask-Uploads/"
   ]
  },
  {
   "cell_type": "code",
   "execution_count": 7,
   "metadata": {
    "collapsed": false
   },
   "outputs": [],
   "source": [
    "import io\n",
    "\n",
    "import requests\n",
    "from PIL import Image\n",
    "\n",
    "base_url = \"http://127.0.0.1:5000\""
   ]
  },
  {
   "cell_type": "code",
   "execution_count": 8,
   "metadata": {
    "collapsed": false,
    "scrolled": true
   },
   "outputs": [
    {
     "name": "stdout",
     "output_type": "stream",
     "text": [
      "{'image_id': 'f86bac00-1b2f-4016-8e72-e912993484d8', 'url': '/images/f86bac00-1b2f-4016-8e72-e912993484d8'}\n"
     ]
    }
   ],
   "source": [
    "with open('../data/Kobe_Bryant_2014_small.jpg', 'rb') as f:\n",
    "    resp = requests.post(base_url + \"/upload\", files={'file': f})\n",
    "assert resp.ok, resp.reason\n",
    "print(resp.json())"
   ]
  },
  {
   "cell_type": "code",
   "execution_count": 9,
   "metadata": {
    "collapsed": false
   },
   "outputs": [
    {
     "name": "stdout",
     "output_type": "stream",
     "text": [
      "{'image_id': '5ba3c32f-5573-447a-a133-ab3d050e28c4', 'url': '/images/5ba3c32f-5573-447a-a133-ab3d050e28c4'}\n"
     ]
    }
   ],
   "source": [
    "resp = requests.get(base_url + \"/segment/\" + resp.json()['image_id'])\n",
    "assert resp.ok, resp.reason\n",
    "print(resp.json())"
   ]
  },
  {
   "cell_type": "code",
   "execution_count": 10,
   "metadata": {
    "collapsed": false
   },
   "outputs": [
    {
     "data": {
      "image/png": "[encoded data removed]",
      "text/plain": [
       "<PIL.JpegImagePlugin.JpegImageFile image mode=L size=236x225 at 0x84F9F60>"
      ]
     },
     "execution_count": 10,
     "metadata": {},
     "output_type": "execute_result"
    }
   ],
   "source": [
    "resp = requests.get(base_url + resp.json()['url'])\n",
    "assert resp.ok, resp.reason\n",
    "Image.open(io.BytesIO(resp.content))"
   ]
  },
  {
   "cell_type": "markdown",
   "metadata": {},
   "source": [
    "# Click + Requests"
   ]
  },
  {
   "cell_type": "code",
   "execution_count": 11,
   "metadata": {
    "collapsed": false
   },
   "outputs": [
    {
     "name": "stdout",
     "output_type": "stream",
     "text": [
      "Overwriting ../scripts/image-ui/segment_client.py\n"
     ]
    }
   ],
   "source": [
    "%%file ../scripts/image-ui/segment_client.py\n",
    "import io\n",
    "\n",
    "import requests\n",
    "import click\n",
    "\n",
    "base_url = \"http://127.0.0.1:5000\"\n",
    "\n",
    "def error(msg):\n",
    "    click.secho(msg, fg=\"red\")\n",
    "\n",
    "def upload_image(filename):\n",
    "    url = \"{}/upload\".format(base_url)\n",
    "    with open(filename, 'rb') as f:\n",
    "        resp = requests.post(url, files={'file': f})        \n",
    "    if not resp.ok:\n",
    "        raise Exception(resp.reason)\n",
    "    return resp.json()['image_id']\n",
    "\n",
    "def download_image(url, filename=None):\n",
    "    resp = requests.get(url)\n",
    "    if not resp.ok:\n",
    "        raise Exception(resp.reason)\n",
    "    if filename is not None:\n",
    "        with open(filename, \"wb\") as f:\n",
    "            f.write(resp.content)\n",
    "    else:\n",
    "        return io.BytesIO(resp.content)\n",
    "        \n",
    "def segment_image(image_id):\n",
    "    url = \"{}/segment/{}\".format(base_url, image_id)\n",
    "    resp = requests.get(url)\n",
    "    if not resp.ok:\n",
    "        raise Exception(resp.reason)\n",
    "    return base_url + resp.json()['url']\n",
    "\n",
    "@click.command()\n",
    "@click.argument(\"src\", type=click.Path(exists=True, readable=True, dir_okay=False))\n",
    "@click.argument(\"dst\", type=click.Path(writable=True, dir_okay=False))\n",
    "def main(src, dst):    \n",
    "    image_id = upload_image(src)\n",
    "    url = segment_image(image_id)    \n",
    "    download_image(url, dst)\n",
    "\n",
    "if __name__ == '__main__':\n",
    "    main()"
   ]
  },
  {
   "cell_type": "code",
   "execution_count": 12,
   "metadata": {
    "collapsed": false
   },
   "outputs": [],
   "source": [
    "if os.path.exists('tmp.jpg'): os.remove('tmp.jpg')\n",
    "!python ../scripts/image-ui/segment_client.py ../data/Kobe_Bryant_2014_small.jpg tmp.jpg"
   ]
  },
  {
   "cell_type": "code",
   "execution_count": 13,
   "metadata": {
    "collapsed": false
   },
   "outputs": [
    {
     "data": {
      "image/png": "[encoded data removed]",
      "text/plain": [
       "<PIL.JpegImagePlugin.JpegImageFile image mode=L size=236x225 at 0x4AB45C0>"
      ]
     },
     "execution_count": 13,
     "metadata": {},
     "output_type": "execute_result"
    }
   ],
   "source": [
    "Image.open('tmp.jpg')"
   ]
  },
  {
   "cell_type": "markdown",
   "metadata": {},
   "source": [
    "# Tk + Requests"
   ]
  },
  {
   "cell_type": "code",
   "execution_count": 14,
   "metadata": {
    "collapsed": false,
    "scrolled": true
   },
   "outputs": [],
   "source": [
    "%gui tk\n",
    "from segment_client import upload_image, download_image, segment_image\n",
    "\n",
    "\n",
    "class ImageClientGUI(ImageGUI):\n",
    "\n",
    "    def segment(self):\n",
    "        try:\n",
    "            image_id = upload_image(self.filename.get())\n",
    "        except Exception as e:\n",
    "            self.error(\"Upload failed\", e)\n",
    "            return\n",
    "        try:\n",
    "            url = segment_image(image_id)\n",
    "        except Exception as e:\n",
    "            self.error(\"Segmentation failed\", e)\n",
    "            return\n",
    "        try:\n",
    "            image_file = download_image(url)\n",
    "        except Exception as e:\n",
    "            self.error(\"Download failed\", e)\n",
    "            return\n",
    "\n",
    "        self.image = Image.open(image_file)\n",
    "        self.update()\n",
    "\n",
    "app = tkinter.Tk()\n",
    "app.title(\"ImageClientGUI\")\n",
    "window = ImageClientGUI(app)"
   ]
  },
  {
   "cell_type": "code",
   "execution_count": null,
   "metadata": {
    "collapsed": true
   },
   "outputs": [],
   "source": []
  }
 ],
 "metadata": {
  "kernelspec": {
   "display_name": "Py4Eng",
   "language": "python",
   "name": "py4eng"
  },
  "language_info": {
   "codemirror_mode": {
    "name": "ipython",
    "version": 3
   },
   "file_extension": ".py",
   "mimetype": "text/x-python",
   "name": "python",
   "nbconvert_exporter": "python",
   "pygments_lexer": "ipython3",
   "version": "3.5.1"
  }
 },
 "nbformat": 4,
 "nbformat_minor": 0
}
