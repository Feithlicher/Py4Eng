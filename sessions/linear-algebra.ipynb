{
 "cells": [
  {
   "cell_type": "markdown",
   "metadata": {},
   "source": [
    "![Py4Eng](https://dl.dropboxusercontent.com/u/1578682/py4eng_logo.png)\n",
    "\n",
    "# Linear algebra\n",
    "## Yoav Ram"
   ]
  },
  {
   "cell_type": "code",
   "execution_count": 1,
   "metadata": {
    "collapsed": false
   },
   "outputs": [
    {
     "name": "stdout",
     "output_type": "stream",
     "text": [
      "NumPy:  1.10.4\n"
     ]
    }
   ],
   "source": [
    "%matplotlib inline\n",
    "import matplotlib.pyplot as plt\n",
    "import numpy as np\n",
    "print(\"NumPy: \", np.__version__)"
   ]
  },
  {
   "cell_type": "markdown",
   "metadata": {},
   "source": [
    "Let's create a square matrix `A`:"
   ]
  },
  {
   "cell_type": "code",
   "execution_count": 2,
   "metadata": {
    "collapsed": false
   },
   "outputs": [
    {
     "name": "stdout",
     "output_type": "stream",
     "text": [
      "[[ 1.  2.]\n",
      " [ 3.  4.]]\n"
     ]
    }
   ],
   "source": [
    "A = np.array([[1.0, 2.0], [3.0, 4.0]])\n",
    "print(A)"
   ]
  },
  {
   "cell_type": "markdown",
   "metadata": {},
   "source": [
    "Find the transpose of `A`:"
   ]
  },
  {
   "cell_type": "code",
   "execution_count": 3,
   "metadata": {
    "collapsed": false
   },
   "outputs": [
    {
     "name": "stdout",
     "output_type": "stream",
     "text": [
      "[[ 1.  3.]\n",
      " [ 2.  4.]]\n"
     ]
    }
   ],
   "source": [
    "print(A.transpose())"
   ]
  },
  {
   "cell_type": "markdown",
   "metadata": {},
   "source": [
    "Note that we got a *view* of the matrix, not a copy, so if we change `A_trans` we also change `A`:"
   ]
  },
  {
   "cell_type": "code",
   "execution_count": 4,
   "metadata": {
    "collapsed": false
   },
   "outputs": [
    {
     "name": "stdout",
     "output_type": "stream",
     "text": [
      "[[ 10.   2.]\n",
      " [  3.   4.]]\n"
     ]
    }
   ],
   "source": [
    "A_trans = A.transpose()\n",
    "A_trans[0, 0] = 10\n",
    "print(A)"
   ]
  },
  {
   "cell_type": "markdown",
   "metadata": {},
   "source": [
    "`A.T` is just a shortcut for `A.transpose()`:"
   ]
  },
  {
   "cell_type": "code",
   "execution_count": 5,
   "metadata": {
    "collapsed": false
   },
   "outputs": [
    {
     "name": "stdout",
     "output_type": "stream",
     "text": [
      "[[ 10.   2.]\n",
      " [  3.   4.]]\n"
     ]
    }
   ],
   "source": [
    "A.T[0, 0] = 10\n",
    "print(A)"
   ]
  },
  {
   "cell_type": "markdown",
   "metadata": {},
   "source": [
    "If we want a copy of `A.T` we have to be explicit about it:"
   ]
  },
  {
   "cell_type": "code",
   "execution_count": 6,
   "metadata": {
    "collapsed": false
   },
   "outputs": [
    {
     "name": "stdout",
     "output_type": "stream",
     "text": [
      "[[ 10.   2.]\n",
      " [  3.   4.]]\n"
     ]
    }
   ],
   "source": [
    "A_trans = A.T.copy()\n",
    "A_trans[0, 0] = 22\n",
    "print(A)"
   ]
  },
  {
   "cell_type": "markdown",
   "metadata": {},
   "source": [
    "We can find the trace of `A`:"
   ]
  },
  {
   "cell_type": "code",
   "execution_count": 7,
   "metadata": {
    "collapsed": false
   },
   "outputs": [
    {
     "data": {
      "text/plain": [
       "14.0"
      ]
     },
     "execution_count": 7,
     "metadata": {},
     "output_type": "execute_result"
    }
   ],
   "source": [
    "np.trace(A)"
   ]
  },
  {
   "cell_type": "markdown",
   "metadata": {},
   "source": [
    "And invert it:"
   ]
  },
  {
   "cell_type": "code",
   "execution_count": 8,
   "metadata": {
    "collapsed": false
   },
   "outputs": [
    {
     "name": "stdout",
     "output_type": "stream",
     "text": [
      "[[ 0.11764706 -0.05882353]\n",
      " [-0.08823529  0.29411765]]\n"
     ]
    }
   ],
   "source": [
    "A_inv = np.linalg.inv(A)\n",
    "print(A_inv)"
   ]
  },
  {
   "cell_type": "markdown",
   "metadata": {},
   "source": [
    "Let's create the Id matrix with the same shape as `A`:"
   ]
  },
  {
   "cell_type": "code",
   "execution_count": 9,
   "metadata": {
    "collapsed": false
   },
   "outputs": [
    {
     "name": "stdout",
     "output_type": "stream",
     "text": [
      "[[ 1.  0.]\n",
      " [ 0.  1.]]\n"
     ]
    }
   ],
   "source": [
    "U = np.eye(*A.shape)\n",
    "print(U)"
   ]
  },
  {
   "cell_type": "markdown",
   "metadata": {},
   "source": [
    "Matrix (dot) multiplication is done with the `.dot` method:\n",
    "\n",
    "We find that $A \\cdot A^{-1} \\ne 0$:"
   ]
  },
  {
   "cell_type": "code",
   "execution_count": 10,
   "metadata": {
    "collapsed": false
   },
   "outputs": [
    {
     "data": {
      "text/plain": [
       "False"
      ]
     },
     "execution_count": 10,
     "metadata": {},
     "output_type": "execute_result"
    }
   ],
   "source": [
    "(np.dot(A, A_inv) == U).all()"
   ]
  },
  {
   "cell_type": "code",
   "execution_count": 11,
   "metadata": {
    "collapsed": false
   },
   "outputs": [
    {
     "data": {
      "text/plain": [
       "False"
      ]
     },
     "execution_count": 11,
     "metadata": {},
     "output_type": "execute_result"
    }
   ],
   "source": [
    "(A.dot(A_inv) == U).all()"
   ]
  },
  {
   "cell_type": "markdown",
   "metadata": {},
   "source": [
    "With Python >= 3.5 and NumPy >= 1.10 you can use the [@ operator](https://docs.python.org/3/whatsnew/3.5.html#whatsnew-pep-465)) for matrix multiplication:"
   ]
  },
  {
   "cell_type": "code",
   "execution_count": 13,
   "metadata": {
    "collapsed": false
   },
   "outputs": [
    {
     "data": {
      "text/plain": [
       "False"
      ]
     },
     "execution_count": 13,
     "metadata": {},
     "output_type": "execute_result"
    }
   ],
   "source": [
    "(A @ A_inv == U).all()"
   ]
  },
  {
   "cell_type": "code",
   "execution_count": 14,
   "metadata": {
    "collapsed": false
   },
   "outputs": [
    {
     "name": "stdout",
     "output_type": "stream",
     "text": [
      "[[  1.00000000e+00   0.00000000e+00]\n",
      " [ -1.11022302e-16   1.00000000e+00]]\n"
     ]
    }
   ],
   "source": [
    "print(A @ A_inv)"
   ]
  },
  {
   "cell_type": "markdown",
   "metadata": {},
   "source": [
    "This is because of numerical errors. Instead of checking with `==` we can check with `np.allclose`, which checks equality with some tolerance (see `help(np.allclose)` for controling the tolerance):"
   ]
  },
  {
   "cell_type": "code",
   "execution_count": 15,
   "metadata": {
    "collapsed": false
   },
   "outputs": [
    {
     "data": {
      "text/plain": [
       "True"
      ]
     },
     "execution_count": 15,
     "metadata": {},
     "output_type": "execute_result"
    }
   ],
   "source": [
    "np.allclose(A @ A_inv, U)"
   ]
  },
  {
   "cell_type": "markdown",
   "metadata": {},
   "source": [
    "## Solving linear equation systems\n",
    "\n",
    "Solve $Ab = y$ for vector $b$:"
   ]
  },
  {
   "cell_type": "code",
   "execution_count": 16,
   "metadata": {
    "collapsed": false
   },
   "outputs": [
    {
     "name": "stdout",
     "output_type": "stream",
     "text": [
      "[ 0.17647059  1.61764706]\n"
     ]
    }
   ],
   "source": [
    "y = np.array([5, 7])\n",
    "b = np.linalg.solve(A, y)\n",
    "print(b)"
   ]
  },
  {
   "cell_type": "code",
   "execution_count": 18,
   "metadata": {
    "collapsed": false
   },
   "outputs": [
    {
     "name": "stdout",
     "output_type": "stream",
     "text": [
      "True\n",
      "True\n"
     ]
    }
   ],
   "source": [
    "print((A @ b == y).all())\n",
    "print(np.allclose(A @ b, y))"
   ]
  },
  {
   "cell_type": "markdown",
   "metadata": {},
   "source": [
    "## Eigenvalues\n",
    "\n",
    "We can find the eigenvalues of `A`:"
   ]
  },
  {
   "cell_type": "code",
   "execution_count": 19,
   "metadata": {
    "collapsed": false
   },
   "outputs": [
    {
     "name": "stdout",
     "output_type": "stream",
     "text": [
      "eigenvalues: [ 10.87298335   3.12701665]\n",
      "eigenvectors:\n",
      " [ 0.91649636 -0.2794051 ] [ 0.40004303  0.96017331]\n"
     ]
    }
   ],
   "source": [
    "eigvals, eigvecs = np.linalg.eig(A)\n",
    "print(\"eigenvalues:\", eigvals)\n",
    "print(\"eigenvectors:\\n\", *eigvecs)"
   ]
  },
  {
   "cell_type": "markdown",
   "metadata": {},
   "source": [
    "Works for a large matrix, too - let's create a big random matrix, and plot it with `matshow`:"
   ]
  },
  {
   "cell_type": "code",
   "execution_count": 21,
   "metadata": {
    "collapsed": false
   },
   "outputs": [
    {
     "data": {
      "image/png": "[encoded data removed]",
      "text/plain": [
       "<matplotlib.figure.Figure at 0x7d531d0>"
      ]
     },
     "metadata": {},
     "output_type": "display_data"
    }
   ],
   "source": [
    "X = np.random.randint(0, 9, size=(200, 200))\n",
    "plt.matshow(X, cmap='gray');"
   ]
  },
  {
   "cell_type": "markdown",
   "metadata": {},
   "source": [
    "Now only find the eigenvalues. Then we plot their real part and their imaginary part:"
   ]
  },
  {
   "cell_type": "code",
   "execution_count": 24,
   "metadata": {
    "collapsed": false,
    "scrolled": true
   },
   "outputs": [
    {
     "data": {
      "image/png": "[encoded data removed]",
      "text/plain": [
       "<matplotlib.figure.Figure at 0x7eeedd8>"
      ]
     },
     "metadata": {},
     "output_type": "display_data"
    }
   ],
   "source": [
    "eigvals = np.linalg.eigvals(X)\n",
    "fig, ax = plt.subplots()\n",
    "ax.scatter(eigvals.real, eigvals.imag)\n",
    "ax.set(\n",
    "    xlabel='real',\n",
    "    ylabel='imaginary',\n",
    "    xlim=(-50, 50) # there is one eigenvalue ~800\n",
    ");"
   ]
  },
  {
   "cell_type": "markdown",
   "metadata": {},
   "source": [
    "## Singular value decomposition\n",
    "\n",
    "Compute an approximate basis for the nullspace of `A` using the singular value decomposition (SVD) of `A`:"
   ]
  },
  {
   "cell_type": "code",
   "execution_count": 25,
   "metadata": {
    "collapsed": false
   },
   "outputs": [
    {
     "name": "stdout",
     "output_type": "stream",
     "text": [
      "[[ 1  2  3  4]\n",
      " [ 4  5  6  7]\n",
      " [ 7  8  9 10]\n",
      " [11 12 13 14]]\n"
     ]
    }
   ],
   "source": [
    "# A = np.array([\n",
    "#         [1, 2, 3], \n",
    "#         [4, 5, 6], \n",
    "#         [7, 8, 9]\n",
    "# ])\n",
    "\n",
    "A = np.array([\n",
    "        [1, 2, 3, 4], \n",
    "        [4, 5, 6, 7], \n",
    "        [7, 8, 9, 10],\n",
    "        [11, 12, 13, 14]\n",
    "])\n",
    "print(A)"
   ]
  },
  {
   "cell_type": "markdown",
   "metadata": {},
   "source": [
    "We use `np.linalg.svd`:"
   ]
  },
  {
   "cell_type": "code",
   "execution_count": 27,
   "metadata": {
    "collapsed": false,
    "scrolled": true
   },
   "outputs": [
    {
     "name": "stdout",
     "output_type": "stream",
     "text": [
      "Help on function svd in module numpy.linalg.linalg:\n",
      "\n",
      "svd(a, full_matrices=1, compute_uv=1)\n",
      "    Singular Value Decomposition.\n",
      "    \n",
      "    Factors the matrix `a` as ``u * np.diag(s) * v``, where `u` and `v`\n",
      "    are unitary and `s` is a 1-d array of `a`'s singular values.\n",
      "    \n",
      "    Parameters\n",
      "    ----------\n",
      "    a : (..., M, N) array_like\n",
      "        A real or complex matrix of shape (`M`, `N`) .\n",
      "    full_matrices : bool, optional\n",
      "        If True (default), `u` and `v` have the shapes (`M`, `M`) and\n",
      "        (`N`, `N`), respectively.  Otherwise, the shapes are (`M`, `K`)\n",
      "        and (`K`, `N`), respectively, where `K` = min(`M`, `N`).\n",
      "    compute_uv : bool, optional\n",
      "        Whether or not to compute `u` and `v` in addition to `s`.  True\n",
      "        by default.\n",
      "    \n",
      "    Returns\n",
      "    -------\n",
      "    u : { (..., M, M), (..., M, K) } array\n",
      "        Unitary matrices. The actual shape depends on the value of\n",
      "        ``full_matrices``. Only returned when ``compute_uv`` is True.\n",
      "    s : (..., K) array\n",
      "        The singular values for every matrix, sorted in descending order.\n",
      "    v : { (..., N, N), (..., K, N) } array\n",
      "        Unitary matrices. The actual shape depends on the value of\n",
      "        ``full_matrices``. Only returned when ``compute_uv`` is True.\n",
      "    \n",
      "    Raises\n",
      "    ------\n",
      "    LinAlgError\n",
      "        If SVD computation does not converge.\n",
      "    \n",
      "    Notes\n",
      "    -----\n",
      "    \n",
      "    .. versionadded:: 1.8.0\n",
      "    \n",
      "    Broadcasting rules apply, see the `numpy.linalg` documentation for\n",
      "    details.\n",
      "    \n",
      "    The decomposition is performed using LAPACK routine _gesdd\n",
      "    \n",
      "    The SVD is commonly written as ``a = U S V.H``.  The `v` returned\n",
      "    by this function is ``V.H`` and ``u = U``.\n",
      "    \n",
      "    If ``U`` is a unitary matrix, it means that it\n",
      "    satisfies ``U.H = inv(U)``.\n",
      "    \n",
      "    The rows of `v` are the eigenvectors of ``a.H a``. The columns\n",
      "    of `u` are the eigenvectors of ``a a.H``.  For row ``i`` in\n",
      "    `v` and column ``i`` in `u`, the corresponding eigenvalue is\n",
      "    ``s[i]**2``.\n",
      "    \n",
      "    If `a` is a `matrix` object (as opposed to an `ndarray`), then so\n",
      "    are all the return values.\n",
      "    \n",
      "    Examples\n",
      "    --------\n",
      "    >>> a = np.random.randn(9, 6) + 1j*np.random.randn(9, 6)\n",
      "    \n",
      "    Reconstruction based on full SVD:\n",
      "    \n",
      "    >>> U, s, V = np.linalg.svd(a, full_matrices=True)\n",
      "    >>> U.shape, V.shape, s.shape\n",
      "    ((9, 9), (6, 6), (6,))\n",
      "    >>> S = np.zeros((9, 6), dtype=complex)\n",
      "    >>> S[:6, :6] = np.diag(s)\n",
      "    >>> np.allclose(a, np.dot(U, np.dot(S, V)))\n",
      "    True\n",
      "    \n",
      "    Reconstruction based on reduced SVD:\n",
      "    \n",
      "    >>> U, s, V = np.linalg.svd(a, full_matrices=False)\n",
      "    >>> U.shape, V.shape, s.shape\n",
      "    ((9, 6), (6, 6), (6,))\n",
      "    >>> S = np.diag(s)\n",
      "    >>> np.allclose(a, np.dot(U, np.dot(S, V)))\n",
      "    True\n",
      "\n"
     ]
    }
   ],
   "source": [
    "help(np.linalg.svd)"
   ]
  },
  {
   "cell_type": "code",
   "execution_count": 28,
   "metadata": {
    "collapsed": false
   },
   "outputs": [
    {
     "data": {
      "text/plain": [
       "True"
      ]
     },
     "execution_count": 28,
     "metadata": {},
     "output_type": "execute_result"
    }
   ],
   "source": [
    "U, s, Vh = np.linalg.svd(A)\n",
    "S = np.diag(s)\n",
    "np.allclose(A, U.dot(S).dot(Vh))"
   ]
  },
  {
   "cell_type": "markdown",
   "metadata": {},
   "source": [
    "Now we find the position of the first almost-zero element in `s`, which is sorted in descending order:"
   ]
  },
  {
   "cell_type": "code",
   "execution_count": 29,
   "metadata": {
    "collapsed": false
   },
   "outputs": [
    {
     "name": "stdout",
     "output_type": "stream",
     "text": [
      "s:\n",
      " [  3.28013582e+01   2.01764720e+00   1.24453466e-15   5.52893014e-16]\n",
      "First zero:\n",
      " 2\n"
     ]
    }
   ],
   "source": [
    "print('s:\\n', s)\n",
    "first_zero = (s >= 1e-13).sum() \n",
    "print('First zero:\\n', first_zero)"
   ]
  },
  {
   "cell_type": "markdown",
   "metadata": {},
   "source": [
    "The nullspace basis are the transpose of the conjugate of the vectors in `Vh` starting from the index of the first almost-zero in `s`:"
   ]
  },
  {
   "cell_type": "code",
   "execution_count": 30,
   "metadata": {
    "collapsed": false
   },
   "outputs": [
    {
     "name": "stdout",
     "output_type": "stream",
     "text": [
      "Nullspace:\n",
      " [[-0.49219272  0.24030466]\n",
      " [ 0.83536947  0.04645258]\n",
      " [-0.19416079 -0.81381914]\n",
      " [-0.14901596  0.5270619 ]]\n"
     ]
    }
   ],
   "source": [
    "nullspace = Vh[first_zero:].conj().T\n",
    "print('Nullspace:\\n', nullspace)"
   ]
  },
  {
   "cell_type": "markdown",
   "metadata": {},
   "source": [
    "Let's check that indeed these vectors are in the nullspace by multiplying them with `A`:"
   ]
  },
  {
   "cell_type": "code",
   "execution_count": 31,
   "metadata": {
    "collapsed": false
   },
   "outputs": [
    {
     "name": "stdout",
     "output_type": "stream",
     "text": [
      "A*v_0 = [ -1.55431223e-15  -2.66453526e-15  -3.55271368e-15  -5.32907052e-15]\n",
      "Close to zero: True\n",
      "A*v_1 = [ -4.44089210e-16  -4.44089210e-16  -8.88178420e-16  -1.77635684e-15]\n",
      "Close to zero: True\n"
     ]
    }
   ],
   "source": [
    "for j in range(nullspace.shape[1]):\n",
    "    print('A*v_{} = {}'.format(j, A.dot(nullspace[:, j])))\n",
    "    print('Close to zero:', np.allclose(A.dot(nullspace[:, j]), 0))"
   ]
  },
  {
   "cell_type": "markdown",
   "metadata": {},
   "source": [
    "## Exercise\n",
    "\n",
    "Compute a random $n$-by-$n$ matrix using one of the random number functions in `np.random`.\n",
    "\n",
    "Then calculate the matrix rank with `np.linalg.matrix_rank` (which uses an SVD decomposition like we did above). \n",
    "\n",
    "Check if the rank is $n$.\n",
    "\n",
    "Repeat the process many time (1000? 100000?) to check the probability of drawing a random matrix with a full rank.\n",
    "\n",
    "*Bonus* Write the whole thing in a single line."
   ]
  },
  {
   "cell_type": "code",
   "execution_count": null,
   "metadata": {
    "collapsed": true
   },
   "outputs": [],
   "source": []
  },
  {
   "cell_type": "markdown",
   "metadata": {},
   "source": [
    "# References\n",
    "\n",
    "- [NumPu tutorial: Linear algebra](https://docs.scipy.org/doc/numpy-dev/user/quickstart.html#linear-algebra)\n",
    "- [SciPy cookbook nullspace recipe](https://scipy.github.io/old-wiki/pages/Cookbook/RankNullspace.html)"
   ]
  },
  {
   "cell_type": "markdown",
   "metadata": {},
   "source": [
    "## Colophon\n",
    "This notebook was written by [Yoav Ram](http://www.yoavram.com) and is part of the _Python for Engineers_ course.\n",
    "\n",
    "The notebook was written using [Python](http://pytho.org/) 3.4.4, [IPython](http://ipython.org/) 4.0.3 and [Jupyter](http://jupyter.org) 4.0.6.\n",
    "\n",
    "This work is licensed under a CC BY-NC-SA 4.0 International License.\n",
    "\n",
    "![Python logo](https://www.python.org/static/community_logos/python-logo.png)"
   ]
  }
 ],
 "metadata": {
  "kernelspec": {
   "display_name": "Py4Eng",
   "language": "python",
   "name": "py4eng"
  },
  "language_info": {
   "codemirror_mode": {
    "name": "ipython",
    "version": 3
   },
   "file_extension": ".py",
   "mimetype": "text/x-python",
   "name": "python",
   "nbconvert_exporter": "python",
   "pygments_lexer": "ipython3",
   "version": "3.5.1"
  }
 },
 "nbformat": 4,
 "nbformat_minor": 0
}
