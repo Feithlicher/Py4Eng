{
 "cells": [
  {
   "cell_type": "markdown",
   "metadata": {},
   "source": [
    "![Py4Eng](img/logo.png)\n",
    "\n",
    "# Cython\n",
    "## Yoav Ram"
   ]
  },
  {
   "cell_type": "markdown",
   "metadata": {},
   "source": [
    "# Cython at a glance\n",
    "\n",
    "[Cython](http://docs.cython.org/src/userguide/numpy_tutorial.html#cython-at-a-glance) is a compiler which compiles Python-like code files to C code. Still, ‘’Cython is not a Python to C translator’‘. That is, it doesn’t take your full program and “turns it into C” – rather, the result makes full use of the Python runtime environment. A way of looking at it may be that your code is still Python in that it runs within the Python runtime environment, but rather than compiling to interpreted Python bytecode one compiles to native machine code (but with the addition of extra syntax for easy embedding of faster C-like code).\n",
    "\n",
    "This has two important consequences:\n",
    "\n",
    "- **Speed.** How much depends very much on the program involved though. Typical Python numerical programs would tend to gain very little as most time is spent in lower-level C that is used in a high-level fashion. However for-loop-style programs can gain many orders of magnitude, when typing information is added (and is so made possible as a realistic alternative).\n",
    "- **Easy calling into C code.** One of Cython’s purposes is to allow easy wrapping of C libraries. When writing code in Cython you can call into C code as easily as into Python code.\n",
    "\n",
    "Some Python constructs are not yet supported, though making Cython compile all Python code is a stated goal (among the more important omissions are inner functions and generator functions)."
   ]
  },
  {
   "cell_type": "markdown",
   "metadata": {},
   "source": [
    "# Hello world!\n",
    "\n",
    "Let's start with a simple *Hello World!* to check that everything is working.\n",
    "\n",
    "We load the `Cython` magic that will allow us to quickly use Cython inside the notebook. The magic is installed with the `cython` package (`conda install cython` or `pip install cython`). The Cython requires that a C compiler is installed and can be found, and on Windows that may be tricky, here are some resources:\n",
    "\n",
    "- [Install Cython on Windows](https://github.com/cython/cython/wiki/InstallingOnWindows)\n",
    "- [Install C compiler on Windows](https://github.com/cython/cython/wiki/CythonExtensionsOnWindows)\n",
    "- [Compiling Python extensions on Windows](https://blog.ionelmc.ro/2014/12/21/compiling-python-extensions-on-windows/)\n",
    "\n",
    "On Linux/OSX you probably already have a compiler, check with `!gcc --version`. If `gcc` is not found, install it:\n",
    "\n",
    "- On [Ubuntu](https://help.ubuntu.com/community/InstallingCompilers) you should run `sudo apt-get install build-essential`.\n",
    "- On CentOS you just need to install development tools: `sudo yum group install \"Development Tools\"`."
   ]
  },
  {
   "cell_type": "code",
   "execution_count": 1,
   "metadata": {},
   "outputs": [
    {
     "name": "stdout",
     "output_type": "stream",
     "text": [
      "Cython 0.28.1\n"
     ]
    }
   ],
   "source": [
    "%matplotlib inline\n",
    "import matplotlib.pyplot as plt\n",
    "import numpy as np\n",
    "import sys, os\n",
    "\n",
    "import Cython\n",
    "print(\"Cython\", Cython.__version__)\n",
    "\n",
    "%load_ext Cython"
   ]
  },
  {
   "cell_type": "code",
   "execution_count": 2,
   "metadata": {
    "scrolled": true
   },
   "outputs": [
    {
     "name": "stdout",
     "output_type": "stream",
     "text": [
      "Hello World!\n"
     ]
    }
   ],
   "source": [
    "%%cython \n",
    "print(\"Hello World!\")"
   ]
  },
  {
   "cell_type": "markdown",
   "metadata": {},
   "source": [
    "# First Cython example\n",
    "\n",
    "Let's see a quick example of what Cython can do for us. \n",
    "\n",
    "Consider the following Python [function that returns the first k prime numbers](http://docs.cython.org/en/latest/src/tutorial/cython_tutorial.html) (but not more than 1000):"
   ]
  },
  {
   "cell_type": "code",
   "execution_count": 16,
   "metadata": {},
   "outputs": [],
   "source": [
    "def find_k_primes(k):\n",
    "    primes = [None] * 1000\n",
    "    n_primes = 0  # the current number of elements in p.\n",
    "    candidate = 2\n",
    "    while n_primes < min(k, 1000):\n",
    "        # is candidate prime?\n",
    "        for p in primes[:n_primes]:\n",
    "            if candidate % p == 0:\n",
    "                break # not a prime        \n",
    "        else: # if no break occurred in the loop, we have a prime\n",
    "            primes[n_primes] = candidate\n",
    "            n_primes += 1\n",
    "        candidate += 1\n",
    "\n",
    "    return primes[:n_primes]"
   ]
  },
  {
   "cell_type": "code",
   "execution_count": 17,
   "metadata": {},
   "outputs": [],
   "source": [
    "assert find_k_primes(10) == [2, 3, 5, 7, 11, 13, 17, 19, 23, 29]"
   ]
  },
  {
   "cell_type": "markdown",
   "metadata": {},
   "source": [
    "Here is the Cython version of this function; the only addition here is that we use `cdef` to define the types of `n, k, i, p`. This `cdef` statement is used to define **local C variables**. We also add `int` in the arguments list to define the type of `kmax`: this means that any object passed will be **converted to a C integer**."
   ]
  },
  {
   "cell_type": "code",
   "execution_count": 22,
   "metadata": {},
   "outputs": [],
   "source": [
    "%%cython\n",
    "def cfind_k_primes(int k):\n",
    "    cdef int n_primes, candidate, p\n",
    "    cdef int[1000] primes\n",
    "    n_primes = 0  # the current number of elements in p.\n",
    "    candidate = 2\n",
    "    while n_primes < min(k, 1000):\n",
    "        # is candidate prime?\n",
    "        for p in primes[:n_primes]:\n",
    "            if candidate % p == 0:\n",
    "                break # not a prime        \n",
    "        else: # if no break occurred in the loop, we have a prime\n",
    "            primes[n_primes] = candidate\n",
    "            n_primes += 1\n",
    "        candidate += 1\n",
    "\n",
    "    return [p for p in primes[:n_primes]]"
   ]
  },
  {
   "cell_type": "code",
   "execution_count": 19,
   "metadata": {
    "scrolled": true
   },
   "outputs": [
    {
     "data": {
      "text/plain": [
       "True"
      ]
     },
     "execution_count": 19,
     "metadata": {},
     "output_type": "execute_result"
    }
   ],
   "source": [
    "find_k_primes(100) == cfind_k_primes(100)"
   ]
  },
  {
   "cell_type": "code",
   "execution_count": 20,
   "metadata": {},
   "outputs": [
    {
     "name": "stdout",
     "output_type": "stream",
     "text": [
      "36.1 ms ± 1.81 ms per loop (mean ± std. dev. of 7 runs, 10 loops each)\n",
      "1.51 ms ± 8.66 µs per loop (mean ± std. dev. of 7 runs, 1000 loops each)\n"
     ]
    }
   ],
   "source": [
    "n = 1000\n",
    "%timeit find_k_primes(n)\n",
    "%timeit cfind_k_primes(n)"
   ]
  },
  {
   "cell_type": "markdown",
   "metadata": {
    "collapsed": true
   },
   "source": [
    "Note that in the inner loop only variables with type definitions, and thus C objects, are reffered to; therefore, the loop is translated to a C loop, and runs very fast."
   ]
  },
  {
   "cell_type": "markdown",
   "metadata": {},
   "source": [
    "# Creating a Cython module\n",
    "\n",
    "We can now put that Cython code into a separate file with extension `pyx`. "
   ]
  },
  {
   "cell_type": "code",
   "execution_count": 23,
   "metadata": {},
   "outputs": [
    {
     "name": "stdout",
     "output_type": "stream",
     "text": [
      "mkdir: ../scripts/cython: File exists\n",
      "/Users/yoavram/Work/Py4Eng/scripts/cython\n"
     ]
    }
   ],
   "source": [
    "!mkdir ../scripts/cython\n",
    "%cd ../scripts/cython"
   ]
  },
  {
   "cell_type": "code",
   "execution_count": 24,
   "metadata": {},
   "outputs": [
    {
     "name": "stdout",
     "output_type": "stream",
     "text": [
      "Overwriting primes.pyx\n"
     ]
    }
   ],
   "source": [
    "%%file primes.pyx\n",
    "def cfind_k_primes(int k):\n",
    "    cdef int n_primes, candidate, p\n",
    "    cdef int[1000] primes\n",
    "    n_primes = 0  # the current number of elements in p.\n",
    "    candidate = 2\n",
    "    while n_primes < min(k, 1000):\n",
    "        # is candidate prime?\n",
    "        for p in primes[:n_primes]:\n",
    "            if candidate % p == 0:\n",
    "                break # not a prime        \n",
    "        else: # if no break occurred in the loop, we have a prime\n",
    "            primes[n_primes] = candidate\n",
    "            n_primes += 1\n",
    "        candidate += 1\n",
    "\n",
    "    return [p for p in primes[:n_primes]]"
   ]
  },
  {
   "cell_type": "markdown",
   "metadata": {},
   "source": [
    "Now we compile it and import it with a single stroke using the [`pyximport` module](http://docs.cython.org/en/latest/src/reference/compilation.html#pyximport),\n",
    "\n",
    "> Cython code, unlike Python, must be compiled.\n",
    "> This happens in two stages:\n",
    "> A .pyx file is compiles by Cython to a .c file.\n",
    "> The .c file is compiled by a C comiler to a .so file (or a .pyd file on Windows)"
   ]
  },
  {
   "cell_type": "code",
   "execution_count": 25,
   "metadata": {},
   "outputs": [
    {
     "data": {
      "text/plain": [
       "(None, <pyximport.pyximport.PyxImporter at 0x10b6ab358>)"
      ]
     },
     "execution_count": 25,
     "metadata": {},
     "output_type": "execute_result"
    }
   ],
   "source": [
    "import pyximport\n",
    "pyximport.install()"
   ]
  },
  {
   "cell_type": "code",
   "execution_count": 21,
   "metadata": {},
   "outputs": [],
   "source": [
    "from primes import cfind_k_primes"
   ]
  },
  {
   "cell_type": "code",
   "execution_count": 26,
   "metadata": {},
   "outputs": [
    {
     "data": {
      "text/plain": [
       "True"
      ]
     },
     "execution_count": 26,
     "metadata": {},
     "output_type": "execute_result"
    }
   ],
   "source": [
    "len(cfind_k_primes(100)) == 100"
   ]
  },
  {
   "cell_type": "markdown",
   "metadata": {},
   "source": [
    "You can also do this on your own, without `pyximport`. This is useful when shipping or if you just want to see the C file - for example, to see how much work Cython saved you from doing!\n",
    "\n",
    "You start by writing a `setup.py` file which imports `cythonize` from the Cython package and tells `setup` (the standard way to setup Python packages, using `distutils` or `setuptools`) to build an extension module using `cythonize`."
   ]
  },
  {
   "cell_type": "code",
   "execution_count": 35,
   "metadata": {},
   "outputs": [
    {
     "name": "stdout",
     "output_type": "stream",
     "text": [
      "Overwriting setup.py\n"
     ]
    }
   ],
   "source": [
    "%%file setup.py\n",
    "from distutils.core import setup\n",
    "from Cython.Build import cythonize\n",
    "\n",
    "setup(\n",
    "    ext_modules = cythonize(\"primes.pyx\")\n",
    ")"
   ]
  },
  {
   "cell_type": "markdown",
   "metadata": {},
   "source": [
    "Run it with this command, which builds the extension:"
   ]
  },
  {
   "cell_type": "code",
   "execution_count": 39,
   "metadata": {},
   "outputs": [
    {
     "name": "stdout",
     "output_type": "stream",
     "text": [
      "Compiling primes.pyx because it changed.\n",
      "[1/1] Cythonizing primes.pyx\n",
      "running build_ext\n",
      "building 'primes' extension\n",
      "gcc -Wno-unused-result -Wsign-compare -Wunreachable-code -DNDEBUG -g -fwrapv -O3 -Wall -Wstrict-prototypes -I/Users/yoavram/miniconda3/envs/Py4Eng/include -arch x86_64 -I/Users/yoavram/miniconda3/envs/Py4Eng/include -arch x86_64 -I/Users/yoavram/miniconda3/envs/Py4Eng/include/python3.6m -c primes.c -o build/temp.macosx-10.9-x86_64-3.6/primes.o\n",
      "gcc -bundle -undefined dynamic_lookup -Wl,-rpath,/Users/yoavram/miniconda3/envs/Py4Eng/lib -L/Users/yoavram/miniconda3/envs/Py4Eng/lib -headerpad_max_install_names -Wl,-rpath,/Users/yoavram/miniconda3/envs/Py4Eng/lib -L/Users/yoavram/miniconda3/envs/Py4Eng/lib -headerpad_max_install_names -arch x86_64 build/temp.macosx-10.9-x86_64-3.6/primes.o -L/Users/yoavram/miniconda3/envs/Py4Eng/lib -o /Users/yoavram/Work/Py4Eng/scripts/cython/primes.cpython-36m-darwin.so\n"
     ]
    }
   ],
   "source": [
    "python = os.path.join(sys.base_prefix, 'bin', 'python')\n",
    "!$python setup.py build_ext --inplace"
   ]
  },
  {
   "cell_type": "markdown",
   "metadata": {},
   "source": [
    "Let's see what was generated (this might look different on different machines, especially Windows vs. Linux):"
   ]
  },
  {
   "cell_type": "code",
   "execution_count": 40,
   "metadata": {},
   "outputs": [
    {
     "name": "stdout",
     "output_type": "stream",
     "text": [
      "\u001b[1m\u001b[36mbuild\u001b[m\u001b[m/                        primes.pyx\r\n",
      "primes.c                      setup.py\r\n",
      "\u001b[31mprimes.cpython-36m-darwin.so\u001b[m\u001b[m* \u001b[1m\u001b[36mtmp\u001b[m\u001b[m/\r\n"
     ]
    }
   ],
   "source": [
    "%ls"
   ]
  },
  {
   "cell_type": "markdown",
   "metadata": {},
   "source": [
    "And the actual C file:"
   ]
  },
  {
   "cell_type": "code",
   "execution_count": 41,
   "metadata": {
    "scrolled": true
   },
   "outputs": [],
   "source": [
    "%less primes.c"
   ]
  },
  {
   "cell_type": "markdown",
   "metadata": {},
   "source": [
    "You can now import `primes` as if it was a regular Python module (if you aren't sure which of the things you are importing, restart your kernel, but don't forger to change directory to `../scripts/cython`)."
   ]
  },
  {
   "cell_type": "code",
   "execution_count": 42,
   "metadata": {},
   "outputs": [],
   "source": [
    "import primes"
   ]
  },
  {
   "cell_type": "code",
   "execution_count": 43,
   "metadata": {},
   "outputs": [
    {
     "data": {
      "text/plain": [
       "[2, 3, 5, 7, 11, 13, 17, 19, 23, 29]"
      ]
     },
     "execution_count": 43,
     "metadata": {},
     "output_type": "execute_result"
    }
   ],
   "source": [
    "primes.cfind_k_primes(10)"
   ]
  },
  {
   "cell_type": "markdown",
   "metadata": {},
   "source": [
    "# Another example\n",
    "\n",
    "This is from Robert Bradshaw [SciPy 2008 slides](http://wiki.sagemath.org/scipy08?action=AttachFile&do=get&target=scipy-cython.tgz).\n",
    "\n",
    "We will write a simple integration code to integrate $f(x) = x^3 - 3x$:"
   ]
  },
  {
   "cell_type": "code",
   "execution_count": 44,
   "metadata": {},
   "outputs": [],
   "source": [
    "def f(x):\n",
    "    return x**3 - 3 * x\n",
    "\n",
    "def integrate_f(a , b , N):\n",
    "    s = 0\n",
    "    dx = (b - a )/ N\n",
    "    for i in range(N):\n",
    "        s += f(a + i * dx)\n",
    "    return s * dx"
   ]
  },
  {
   "cell_type": "code",
   "execution_count": 45,
   "metadata": {},
   "outputs": [
    {
     "name": "stdout",
     "output_type": "stream",
     "text": [
      "30.5 ms ± 664 µs per loop (mean ± std. dev. of 7 runs, 10 loops each)\n"
     ]
    }
   ],
   "source": [
    "%timeit integrate_f(0, 1, 100000)"
   ]
  },
  {
   "cell_type": "markdown",
   "metadata": {},
   "source": [
    "Now, the same with Cython. Note that when we define a function with `cdef` we can set a return value but we can only c\n",
    "all it from within Cython. When we define a function with `def` we can import it and call it from Python.\n",
    "\n",
    "Note that we change `x**3` to `x * x * x`."
   ]
  },
  {
   "cell_type": "code",
   "execution_count": 46,
   "metadata": {},
   "outputs": [],
   "source": [
    "%%cython\n",
    "cdef double g(double x):\n",
    "    return x * x * x - 3* x\n",
    "\n",
    "def integrate_g(double a , double  b , int N):\n",
    "    cdef double s = 0\n",
    "    cdef double dx = (b - a )/ N\n",
    "    cdef int i\n",
    "    for i in range(N):\n",
    "        s += g( a + i * dx )\n",
    "    return s * dx"
   ]
  },
  {
   "cell_type": "code",
   "execution_count": 47,
   "metadata": {},
   "outputs": [
    {
     "name": "stdout",
     "output_type": "stream",
     "text": [
      "132 µs ± 3.22 µs per loop (mean ± std. dev. of 7 runs, 10000 loops each)\n"
     ]
    }
   ],
   "source": [
    "%timeit integrate_g(0, 1, 100000)"
   ]
  },
  {
   "cell_type": "markdown",
   "metadata": {},
   "source": [
    "Now let's integrate \n",
    "$$\n",
    "\\int_a^b{\\frac{\\sin{x}}{x}}\n",
    "$$\n",
    "\n",
    "Without Cython, we should use either `math.sin` or `numpy.sin`:"
   ]
  },
  {
   "cell_type": "code",
   "execution_count": 48,
   "metadata": {},
   "outputs": [
    {
     "data": {
      "text/plain": [
       "0.6593318405457452"
      ]
     },
     "execution_count": 48,
     "metadata": {},
     "output_type": "execute_result"
    }
   ],
   "source": [
    "def f(x):\n",
    "    return np.sin(x) / x\n",
    "\n",
    "integrate_f(1, 2, 100000)"
   ]
  },
  {
   "cell_type": "markdown",
   "metadata": {},
   "source": [
    "With Cython, we can import some C functions using an `extern` block:"
   ]
  },
  {
   "cell_type": "code",
   "execution_count": 49,
   "metadata": {},
   "outputs": [],
   "source": [
    "%%cython\n",
    "cdef extern from \"math.h\":\n",
    "    double sin(double)\n",
    "    double cos(double)\n",
    "\n",
    "cdef double g(double x):\n",
    "    return sin(x)/x\n",
    "\n",
    "def integrate_g(double a , double  b , int N):\n",
    "    cdef double s = 0\n",
    "    cdef double dx = (b - a) /  N\n",
    "    cdef int i\n",
    "    for i in range(N):\n",
    "        s += g(a + i * dx)\n",
    "    return s * dx"
   ]
  },
  {
   "cell_type": "code",
   "execution_count": 50,
   "metadata": {},
   "outputs": [
    {
     "name": "stdout",
     "output_type": "stream",
     "text": [
      "105 ms ± 7.94 ms per loop (mean ± std. dev. of 7 runs, 10 loops each)\n",
      "1.23 ms ± 34.5 µs per loop (mean ± std. dev. of 7 runs, 1000 loops each)\n"
     ]
    }
   ],
   "source": [
    "%timeit integrate_f(1, 3, 100000)\n",
    "%timeit integrate_g(1, 3, 100000)"
   ]
  },
  {
   "cell_type": "markdown",
   "metadata": {
    "collapsed": true
   },
   "source": [
    "# Cython + NumPy\n",
    "\n",
    "Cython works well with NumPy.\n",
    "\n",
    "Let's loop over a NumPy array:"
   ]
  },
  {
   "cell_type": "code",
   "execution_count": 51,
   "metadata": {},
   "outputs": [],
   "source": [
    "def summ(x):\n",
    "    s = 0\n",
    "    for i in range(x.shape[0]):\n",
    "        s += x[i]\n",
    "    return s"
   ]
  },
  {
   "cell_type": "code",
   "execution_count": 52,
   "metadata": {},
   "outputs": [],
   "source": [
    "%%cython\n",
    "cimport numpy as np\n",
    "\n",
    "def csumm(long[:] x):\n",
    "    cdef np.ndarray[long, ndim=1] arr = x\n",
    "    cdef int i = 0\n",
    "    cdef long s = 0\n",
    "    for i in range(arr.shape[0]):\n",
    "        s += arr[i]\n",
    "    return s"
   ]
  },
  {
   "cell_type": "code",
   "execution_count": 53,
   "metadata": {
    "scrolled": true
   },
   "outputs": [
    {
     "name": "stdout",
     "output_type": "stream",
     "text": [
      "15.5 ms ± 1.48 ms per loop (mean ± std. dev. of 7 runs, 100 loops each)\n",
      "96.1 µs ± 2.41 µs per loop (mean ± std. dev. of 7 runs, 10000 loops each)\n"
     ]
    }
   ],
   "source": [
    "x = np.random.randint(0, 9, 100000)\n",
    "%timeit summ(x)\n",
    "%timeit csumm(x)"
   ]
  },
  {
   "cell_type": "markdown",
   "metadata": {
    "collapsed": true
   },
   "source": [
    "Note that if you would type `s` and `arr` as made of `int` you would get an error because Python's `int` is a C `long`... But you would get a `ValueError`, not a segmentation fault or anything like that. Here's an example:"
   ]
  },
  {
   "cell_type": "code",
   "execution_count": 54,
   "metadata": {},
   "outputs": [
    {
     "ename": "ValueError",
     "evalue": "Buffer dtype mismatch, expected 'long' but got 'double'",
     "output_type": "error",
     "traceback": [
      "\u001b[0;31m---------------------------------------------------------------------------\u001b[0m",
      "\u001b[0;31mValueError\u001b[0m                                Traceback (most recent call last)",
      "\u001b[0;32m<ipython-input-54-6edc96e24ff5>\u001b[0m in \u001b[0;36m<module>\u001b[0;34m()\u001b[0m\n\u001b[1;32m      1\u001b[0m \u001b[0my\u001b[0m \u001b[0;34m=\u001b[0m \u001b[0mnp\u001b[0m\u001b[0;34m.\u001b[0m\u001b[0marray\u001b[0m\u001b[0;34m(\u001b[0m\u001b[0;34m[\u001b[0m\u001b[0;36m0.1\u001b[0m\u001b[0;34m,\u001b[0m \u001b[0;36m0.2\u001b[0m\u001b[0;34m,\u001b[0m \u001b[0;36m0.3\u001b[0m\u001b[0;34m]\u001b[0m\u001b[0;34m)\u001b[0m\u001b[0;34m\u001b[0m\u001b[0m\n\u001b[0;32m----> 2\u001b[0;31m \u001b[0mcsumm\u001b[0m\u001b[0;34m(\u001b[0m\u001b[0my\u001b[0m\u001b[0;34m)\u001b[0m\u001b[0;34m\u001b[0m\u001b[0m\n\u001b[0m",
      "\u001b[0;32m_cython_magic_489f854c57cbe230266850e4e2d8d66a.pyx\u001b[0m in \u001b[0;36m_cython_magic_489f854c57cbe230266850e4e2d8d66a.csumm\u001b[0;34m()\u001b[0m\n",
      "\u001b[0;31mValueError\u001b[0m: Buffer dtype mismatch, expected 'long' but got 'double'"
     ]
    }
   ],
   "source": [
    "y = np.array([0.1, 0.2, 0.3])\n",
    "csumm(y)"
   ]
  },
  {
   "cell_type": "markdown",
   "metadata": {},
   "source": [
    "# Example: Mandelbrot fractal"
   ]
  },
  {
   "cell_type": "code",
   "execution_count": 3,
   "metadata": {},
   "outputs": [],
   "source": [
    "import numpy as np\n",
    "\n",
    "def mandelbrot(m, size, iterations):    \n",
    "    for i in range(size):\n",
    "        for j in range(size):\n",
    "            c = -2 + 3.0 / size * j + 1j * (1.5 - 3.0 / size * i)\n",
    "            z = 0\n",
    "            for n in range(iterations):\n",
    "                if np.abs(z) <= 10:\n",
    "                    z = z * z + c\n",
    "                    m[i, j] = n\n",
    "                else:\n",
    "                    break"
   ]
  },
  {
   "cell_type": "code",
   "execution_count": 4,
   "metadata": {},
   "outputs": [],
   "source": [
    "%%cython\n",
    "\n",
    "def cmandelbrot(int[:,:] m,\n",
    "                int size,\n",
    "                int iterations):\n",
    "    cdef int i, j, n\n",
    "    cdef complex z, c\n",
    "    for i in range(size):\n",
    "        for j in range(size):\n",
    "            c = -2 + 3.0 / size * j + 1j * (1.5 - 3.0 / size * i)\n",
    "            z = 0\n",
    "            for n in range(iterations):\n",
    "                if z.real**2 + z.imag**2 <= 100: # note - no use of np.abs\n",
    "                    z = z * z + c\n",
    "                    m[i, j] = n\n",
    "                else:\n",
    "                    break"
   ]
  },
  {
   "cell_type": "code",
   "execution_count": 6,
   "metadata": {},
   "outputs": [],
   "source": [
    "size = 200\n",
    "iterations = 100\n",
    "m = np.zeros((size, size), dtype=np.int32)"
   ]
  },
  {
   "cell_type": "code",
   "execution_count": 59,
   "metadata": {},
   "outputs": [
    {
     "name": "stdout",
     "output_type": "stream",
     "text": [
      "1.65 s ± 142 ms per loop (mean ± std. dev. of 7 runs, 1 loop each)\n",
      "3.37 ms ± 131 µs per loop (mean ± std. dev. of 7 runs, 100 loops each)\n"
     ]
    }
   ],
   "source": [
    "%timeit mandelbrot(m, size, iterations)\n",
    "%timeit cmandelbrot(m, size, iterations)"
   ]
  },
  {
   "cell_type": "code",
   "execution_count": 61,
   "metadata": {},
   "outputs": [
    {
     "data": {
      "image/png": "[encoded data removed]",
      "text/plain": [
       "<Figure size 432x288 with 1 Axes>"
      ]
     },
     "metadata": {},
     "output_type": "display_data"
    }
   ],
   "source": [
    "plt.imshow(m, cmap='viridis')\n",
    "plt.xticks([])\n",
    "plt.yticks([]);"
   ]
  },
  {
   "cell_type": "markdown",
   "metadata": {},
   "source": [
    "# Numba\n",
    "\n",
    "[Numba]((http://numba.pydata.org) speeds functions written directly in Python. \n",
    "With a few annotations, array-oriented and math-heavy Python code can be *just-in-time* (JIT) compiled to native machine instructions, similar in performance to C, C++ and Fortran, without having to switch languages or Python interpreters.\n",
    "\n",
    "Roughly, [JIT](https://en.wikipedia.org/wiki/Just-in-time_compilation) compilation combines the speed of compiled code with the flexibility of interpretation, with the overhead of an interpreter and the additional overhead of compiling (not just interpreting)"
   ]
  },
  {
   "cell_type": "code",
   "execution_count": 4,
   "metadata": {},
   "outputs": [
    {
     "name": "stdout",
     "output_type": "stream",
     "text": [
      "Numba 0.37.0\n"
     ]
    }
   ],
   "source": [
    "import numba\n",
    "print('Numba', numba.__version__)"
   ]
  },
  {
   "cell_type": "code",
   "execution_count": 64,
   "metadata": {},
   "outputs": [],
   "source": [
    "@numba.jit()\n",
    "def numandelbrot(m, size, iterations):    \n",
    "    for i in range(size):\n",
    "        for j in range(size):\n",
    "            c = -2 + 3.0 / size * j + 1j * (1.5 - 3.0 / size * i)\n",
    "            z = 0\n",
    "            for n in range(iterations):\n",
    "                if np.abs(z) <= 10:\n",
    "                    z = z * z + c\n",
    "                    m[i, j] = n\n",
    "                else:\n",
    "                    break\n",
    "numandelbrot(m, size, iterations); # run once for jit to work"
   ]
  },
  {
   "cell_type": "code",
   "execution_count": 65,
   "metadata": {},
   "outputs": [
    {
     "name": "stdout",
     "output_type": "stream",
     "text": [
      "3.39 ms ± 140 µs per loop (mean ± std. dev. of 7 runs, 100 loops each)\n",
      "5 ms ± 11.6 µs per loop (mean ± std. dev. of 7 runs, 100 loops each)\n"
     ]
    }
   ],
   "source": [
    "# %timeit mandelbrot(m, size, iterations)\n",
    "%timeit cmandelbrot(m, size, iterations)\n",
    "%timeit numandelbrot(m, size, iterations)"
   ]
  },
  {
   "cell_type": "markdown",
   "metadata": {},
   "source": [
    "# Exercise - difference matrix\n",
    "\n",
    "Write a Cython function that calculates the difference matrix for a given array.\n",
    "Compare it to the NumPy implementation."
   ]
  },
  {
   "cell_type": "code",
   "execution_count": 10,
   "metadata": {},
   "outputs": [],
   "source": [
    "def diff_mat(x):\n",
    "    return x.reshape(-1, 1) - x"
   ]
  },
  {
   "cell_type": "code",
   "execution_count": 94,
   "metadata": {},
   "outputs": [],
   "source": []
  },
  {
   "cell_type": "code",
   "execution_count": 95,
   "metadata": {},
   "outputs": [
    {
     "name": "stdout",
     "output_type": "stream",
     "text": [
      "455 ms ± 27.7 ms per loop (mean ± std. dev. of 7 runs, 1 loop each)\n",
      "496 ms ± 25 ms per loop (mean ± std. dev. of 7 runs, 1 loop each)\n"
     ]
    }
   ],
   "source": [
    "x = np.random.random(10000)\n",
    "assert np.allclose(diff_mat(x), cdiff_mat(x))\n",
    "%timeit diff_mat(x)\n",
    "%timeit cdiff_mat(x)"
   ]
  },
  {
   "cell_type": "markdown",
   "metadata": {},
   "source": [
    "You can explore other [compiler directives](https://github.com/cython/cython/wiki/enhancements-compilerdirectives) such as `wraparound` and `nonecheck`."
   ]
  },
  {
   "cell_type": "markdown",
   "metadata": {},
   "source": [
    "# Releasing the GIL\n",
    "\n",
    "Cython can be directed to [release the GIL](http://docs.cython.org/src/userguide/external_C_code.html#acquiring-and-releasing-the-gil), thus enabling multiple threads to run in parallel (if the OS allows it) and achieve performence gain even in comparison to multi-processing, as threads are cheaper than processes and thread communication is faster than process communication."
   ]
  },
  {
   "cell_type": "code",
   "execution_count": 5,
   "metadata": {},
   "outputs": [],
   "source": [
    "def display_image(im):\n",
    "    plt.imshow(im, cmap='gray')\n",
    "    plt.xticks([])\n",
    "    plt.yticks([])"
   ]
  },
  {
   "cell_type": "code",
   "execution_count": 6,
   "metadata": {
    "scrolled": true
   },
   "outputs": [
    {
     "data": {
      "text/plain": [
       "'/Users/yoavram/Work/Py4Eng/sessions'"
      ]
     },
     "execution_count": 6,
     "metadata": {},
     "output_type": "execute_result"
    }
   ],
   "source": [
    "%pwd"
   ]
  },
  {
   "cell_type": "markdown",
   "metadata": {},
   "source": [
    "Let's do a segmentation demonstration."
   ]
  },
  {
   "cell_type": "code",
   "execution_count": 7,
   "metadata": {},
   "outputs": [
    {
     "data": {
      "text/plain": [
       "(dtype('float64'), (900, 944), 0.0, 255.0)"
      ]
     },
     "execution_count": 7,
     "metadata": {},
     "output_type": "execute_result"
    },
    {
     "data": {
      "image/png": "[encoded data removed]",
      "text/plain": [
       "<Figure size 432x288 with 1 Axes>"
      ]
     },
     "metadata": {},
     "output_type": "display_data"
    }
   ],
   "source": [
    "# original image from https://upload.wikimedia.org/wikipedia/commons/5/56/Kobe_Bryant_2014.jpg\n",
    "import imageio\n",
    "image = imageio.imread('../data/Kobe_Bryant_2014.jpg')\n",
    "image = image.mean(axis=2) # greyscale\n",
    "display_image(image)\n",
    "image.dtype, image.shape, image.min(), image.max()"
   ]
  },
  {
   "cell_type": "code",
   "execution_count": 8,
   "metadata": {},
   "outputs": [
    {
     "data": {
      "image/png": "[encoded data removed]",
      "text/plain": [
       "<Figure size 432x288 with 1 Axes>"
      ]
     },
     "metadata": {},
     "output_type": "display_data"
    }
   ],
   "source": [
    "def segment(image, threshold, output=None):\n",
    "    if output is None:\n",
    "        output = np.zeros_like(image)\n",
    "    output[image > threshold] = 255\n",
    "    return output\n",
    "\n",
    "display_image(segment(image, 100))"
   ]
  },
  {
   "cell_type": "code",
   "execution_count": 9,
   "metadata": {},
   "outputs": [],
   "source": [
    "%%cython\n",
    "import numpy as np\n",
    "import cython \n",
    "\n",
    "# if you comment this out, cython will warn you to add it for faster access\n",
    "@cython.boundscheck(False) \n",
    "cdef void _segment(double[:,:] image, int n, int m, \n",
    "                   double threshold, double[:,:] output) nogil: # note the \"nogil\" directive\n",
    "    cdef int i, j\n",
    "    for i in range(n):\n",
    "        for j in range(m):\n",
    "            if image[i, j] > threshold:\n",
    "                output[i, j] = 255\n",
    "            else:\n",
    "                output[i, j] = 0\n",
    "\n",
    "def csegment(image, threshold, output=None):\n",
    "    if output is None:\n",
    "        output = np.zeros_like(image)\n",
    "    n, m = image.shape\n",
    "    _segment(image, n , m, threshold, output)\n",
    "    return output"
   ]
  },
  {
   "cell_type": "code",
   "execution_count": 10,
   "metadata": {},
   "outputs": [
    {
     "data": {
      "image/png": "[encoded data removed]",
      "text/plain": [
       "<Figure size 432x288 with 1 Axes>"
      ]
     },
     "metadata": {},
     "output_type": "display_data"
    }
   ],
   "source": [
    "display_image(csegment(image, 100))"
   ]
  },
  {
   "cell_type": "code",
   "execution_count": 130,
   "metadata": {},
   "outputs": [
    {
     "name": "stdout",
     "output_type": "stream",
     "text": [
      "2.3 ms ± 236 µs per loop (mean ± std. dev. of 7 runs, 100 loops each)\n",
      "1.64 ms ± 13.5 µs per loop (mean ± std. dev. of 7 runs, 1000 loops each)\n"
     ]
    }
   ],
   "source": [
    "%timeit segment(image, 100)\n",
    "%timeit csegment(image, 100)"
   ]
  },
  {
   "cell_type": "markdown",
   "metadata": {},
   "source": [
    "So performance on a single image is similar, what about using multi-threading for segmenting a bunch of images?\n",
    "\n",
    "Let's download the 30 examples images from the [PASCAL VOC 2012 dataset](http://host.robots.ox.ac.uk/pascal/VOC/voc2012/segexamples/index.html).\n",
    "\n",
    "![example](http://host.robots.ox.ac.uk/pascal/VOC/voc2012/segexamples/images/05.jpg)"
   ]
  },
  {
   "cell_type": "code",
   "execution_count": 11,
   "metadata": {},
   "outputs": [],
   "source": [
    "image_urls = [\n",
    "    'http://host.robots.ox.ac.uk/pascal/VOC/voc2012/segexamples/images/{:02d}.jpg'.format(i)\n",
    "    for i in range(1,31)\n",
    "]"
   ]
  },
  {
   "cell_type": "code",
   "execution_count": 63,
   "metadata": {},
   "outputs": [
    {
     "data": {
      "image/png": "[encoded data removed]",
      "text/plain": [
       "<Figure size 432x288 with 1 Axes>"
      ]
     },
     "metadata": {},
     "output_type": "display_data"
    }
   ],
   "source": [
    "display_image(imageio.imread(image_urls[4]))"
   ]
  },
  {
   "cell_type": "markdown",
   "metadata": {},
   "source": [
    "Let's load and flatten the images:"
   ]
  },
  {
   "cell_type": "code",
   "execution_count": 66,
   "metadata": {},
   "outputs": [],
   "source": [
    "images = [imageio.imread(url) for url in image_urls]\n",
    "images = [im.mean(axis=2) for im in images]"
   ]
  },
  {
   "cell_type": "markdown",
   "metadata": {},
   "source": [
    "Let's also resize the images so that the segmentation task is harder.\n",
    "We'll increaes the width and height 8-fold."
   ]
  },
  {
   "cell_type": "code",
   "execution_count": 67,
   "metadata": {},
   "outputs": [],
   "source": [
    "from skimage.transform import resize"
   ]
  },
  {
   "cell_type": "code",
   "execution_count": 68,
   "metadata": {},
   "outputs": [],
   "source": [
    "shapes = [im.shape for im in images]\n",
    "images = [resize(im, (w*12, h*12), mode='reflect') \n",
    "          for im, (w, h) in zip(images, shapes)]"
   ]
  },
  {
   "cell_type": "markdown",
   "metadata": {},
   "source": [
    "First compare the NumPy and Cython versions:"
   ]
  },
  {
   "cell_type": "code",
   "execution_count": 69,
   "metadata": {},
   "outputs": [
    {
     "name": "stdout",
     "output_type": "stream",
     "text": [
      "5.26 s ± 1.03 s per loop (mean ± std. dev. of 7 runs, 1 loop each)\n",
      "4.58 s ± 194 ms per loop (mean ± std. dev. of 7 runs, 1 loop each)\n"
     ]
    }
   ],
   "source": [
    "%timeit [segment(im, 100) for im in images]\n",
    "%timeit [csegment(im, 100) for im in images]"
   ]
  },
  {
   "cell_type": "markdown",
   "metadata": {},
   "source": [
    "No real difference, of course.\n",
    "Now let's do it with multi-threading, leveraging the `nogil` directive."
   ]
  },
  {
   "cell_type": "code",
   "execution_count": 70,
   "metadata": {},
   "outputs": [],
   "source": [
    "from concurrent.futures import ThreadPoolExecutor\n",
    "\n",
    "def segment_parallel(images, threshold):\n",
    "    def _segment(im):\n",
    "        return csegment(im, threshold)\n",
    "    with ThreadPoolExecutor() as executor:\n",
    "        results = executor.map(_segment, images)\n",
    "        return list(results)"
   ]
  },
  {
   "cell_type": "code",
   "execution_count": 71,
   "metadata": {},
   "outputs": [
    {
     "name": "stdout",
     "output_type": "stream",
     "text": [
      "4.86 s ± 146 ms per loop (mean ± std. dev. of 7 runs, 1 loop each)\n",
      "2.45 s ± 736 ms per loop (mean ± std. dev. of 7 runs, 1 loop each)\n"
     ]
    }
   ],
   "source": [
    "%timeit [csegment(im, 100) for im in images]\n",
    "%timeit segment_parallel(images, 100)"
   ]
  },
  {
   "cell_type": "markdown",
   "metadata": {},
   "source": [
    "You can look at the process monitor (or `top`/`htop` on Linux/Mac) when the next two cells run to see that the first uses less cores than the latter. "
   ]
  },
  {
   "cell_type": "code",
   "execution_count": null,
   "metadata": {},
   "outputs": [],
   "source": [
    "for _ in range(10): \n",
    "    [csegment(im, 100) for im in images];"
   ]
  },
  {
   "cell_type": "code",
   "execution_count": 57,
   "metadata": {},
   "outputs": [],
   "source": [
    "for _ in range(10): \n",
    "    segment_parallel(images, 100);"
   ]
  },
  {
   "cell_type": "markdown",
   "metadata": {},
   "source": [
    "# Solutions\n",
    "\n",
    "Difference Matrix:"
   ]
  },
  {
   "cell_type": "code",
   "execution_count": null,
   "metadata": {},
   "outputs": [],
   "source": [
    "%%cython\n",
    "cimport numpy as np\n",
    "import numpy as np\n",
    "import cython        \n",
    "        \n",
    "cdef void _cdiff_mat(double[:] x, int size, double[:,:] output):\n",
    "    cdef int i, j\n",
    "    for i in range(size):\n",
    "        for j in range(size):\n",
    "            output[i, j] = x[i] - x[j]        \n",
    "\n",
    "def cdiff_mat(double[:] x):\n",
    "    size = len(x)\n",
    "    output = np.empty((size, size))\n",
    "    _cdiff_mat2(x, size, output)\n",
    "    return output"
   ]
  },
  {
   "cell_type": "markdown",
   "metadata": {},
   "source": [
    "# References\n",
    "\n",
    "- [Cython language basics](http://docs.cython.org/src/userguide/language_basics.html#language-basics)\n",
    "- [Cython for NumPy users](http://docs.cython.org/src/userguide/numpy_tutorial.html#numpy-tutorial) offers a 2D convolve example.\n",
    "- [IPython Cookbook](https://ipython-books.github.io/cookbook/) by Cyrille Rossant has a full chapter on high performance computing. with many [notebook examples](https://github.com/ipython-books/cookbook-code/tree/master/notebooks/chapter05_hpc) and a more complicated Cython example.\n",
    "- [Numba](http://numba.pydata.org/)\n",
    "- [Numexpr](https://github.com/pydata/numexpr/wiki/Numexpr-Users-Guide)\n",
    "- [Blaze Ecosystem](http://blaze.pydata.org/)\n",
    "- Jake Vanderplas's [Cython project template](https://github.com/jakevdp/cython_template) can help you build projects that use Cython."
   ]
  },
  {
   "cell_type": "markdown",
   "metadata": {},
   "source": [
    "## Colophon\n",
    "This notebook was written by [Yoav Ram](http://python.yoavram.com) and is part of the [_Python for Engineers_](https://github.com/yoavram/Py4Eng) course.\n",
    "\n",
    "The notebook was written using [Python](http://python.org/) 3.6.1.\n",
    "Dependencies listed in [environment.yml](../environment.yml), full versions in [environment_full.yml](../environment_full.yml).\n",
    "\n",
    "This work is licensed under a CC BY-NC-SA 4.0 International License.\n",
    "\n",
    "![Python logo](https://www.python.org/static/community_logos/python-logo.png)"
   ]
  }
 ],
 "metadata": {
  "kernelspec": {
   "display_name": "Python [conda env:Py4Eng]",
   "language": "python",
   "name": "conda-env-Py4Eng-py"
  },
  "language_info": {
   "codemirror_mode": {
    "name": "ipython",
    "version": 3
   },
   "file_extension": ".py",
   "mimetype": "text/x-python",
   "name": "python",
   "nbconvert_exporter": "python",
   "pygments_lexer": "ipython3",
   "version": "3.6.5"
  }
 },
 "nbformat": 4,
 "nbformat_minor": 1
}
