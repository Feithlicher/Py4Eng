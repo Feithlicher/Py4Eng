{
 "cells": [
  {
   "cell_type": "markdown",
   "metadata": {},
   "source": [
    "![Py4Eng](img/logo.png)\n",
    "\n",
    "# Cython\n",
    "## Yoav Ram"
   ]
  },
  {
   "cell_type": "markdown",
   "metadata": {},
   "source": [
    "# [Cython at a glance](http://docs.cython.org/src/userguide/numpy_tutorial.html#cython-at-a-glance)\n",
    "\n",
    "Cython is a compiler which compiles Python-like code files to C code. Still, ‘’Cython is not a Python to C translator’‘. That is, it doesn’t take your full program and “turns it into C” – rather, the result makes full use of the Python runtime environment. A way of looking at it may be that your code is still Python in that it runs within the Python runtime environment, but rather than compiling to interpreted Python bytecode one compiles to native machine code (but with the addition of extra syntax for easy embedding of faster C-like code).\n",
    "\n",
    "This has two important consequences:\n",
    "\n",
    "- **Speed.** How much depends very much on the program involved though. Typical Python numerical programs would tend to gain very little as most time is spent in lower-level C that is used in a high-level fashion. However for-loop-style programs can gain many orders of magnitude, when typing information is added (and is so made possible as a realistic alternative).\n",
    "- **Easy calling into C code.** One of Cython’s purposes is to allow easy wrapping of C libraries. When writing code in Cython you can call into C code as easily as into Python code.\n",
    "\n",
    "Some Python constructs are not yet supported, though making Cython compile all Python code is a stated goal (among the more important omissions are inner functions and generator functions)."
   ]
  },
  {
   "cell_type": "markdown",
   "metadata": {},
   "source": [
    "# Hello world!\n",
    "\n",
    "Let's start with a simple *Hello World!* to check that everything is working.\n",
    "\n",
    "We load the `Cython` magic that will allow us to quickly use Cython inside the notebook. The magic is installed with the `cython` package (`conda install cython` or `pip install cython`). The Cython requires that a C compiler is installed and can be found, and on Windows that may be tricky, here are some resources:\n",
    "\n",
    "- [Install Cython on Windows](https://github.com/cython/cython/wiki/InstallingOnWindows)\n",
    "- [Install C compiler on Windows](https://github.com/cython/cython/wiki/CythonExtensionsOnWindows)\n",
    "- [Compiling Python extensions on Windows](https://blog.ionelmc.ro/2014/12/21/compiling-python-extensions-on-windows/)\n",
    "\n",
    "On Linux/OSX you probably already have a compiler, check with `!gcc --version`. If `gcc` is not found, install it:\n",
    "\n",
    "- On [Ubuntu](https://help.ubuntu.com/community/InstallingCompilers) you should run `sudo apt-get install build-essential`.\n",
    "- On CentOS you just need to install development tools: `sudo yum group install \"Development Tools\"`."
   ]
  },
  {
   "cell_type": "code",
   "execution_count": 1,
   "metadata": {
    "collapsed": false
   },
   "outputs": [
    {
     "name": "stdout",
     "output_type": "stream",
     "text": [
      "Cython 0.25.2\n"
     ]
    }
   ],
   "source": [
    "import Cython\n",
    "print(\"Cython\", Cython.__version__)\n",
    "\n",
    "%load_ext Cython"
   ]
  },
  {
   "cell_type": "code",
   "execution_count": 2,
   "metadata": {
    "collapsed": false,
    "scrolled": true
   },
   "outputs": [
    {
     "name": "stdout",
     "output_type": "stream",
     "text": [
      "Hello World!\n"
     ]
    }
   ],
   "source": [
    "%%cython \n",
    "print(\"Hello World!\")"
   ]
  },
  {
   "cell_type": "markdown",
   "metadata": {},
   "source": [
    "# First Cython example\n",
    "\n",
    "Let's see a quick example of what Cython can do for us. \n",
    "\n",
    "Consider the following Python [function that returns the first `k` prime numbers](http://docs.cython.org/src/tutorial/cython_tutorial.html#primes):"
   ]
  },
  {
   "cell_type": "code",
   "execution_count": 3,
   "metadata": {
    "collapsed": true
   },
   "outputs": [],
   "source": [
    "def primes(kmax):\n",
    "    p = [None]*1000\n",
    "    result = []\n",
    "    if kmax > 1000:\n",
    "        kmax = 1000\n",
    "    k = 0\n",
    "    n = 2\n",
    "    while k < kmax:\n",
    "        i = 0\n",
    "        while i < k and n % p[i] != 0:\n",
    "            i = i + 1\n",
    "        if i == k:\n",
    "            p[k] = n\n",
    "            k = k + 1\n",
    "            result.append(n)\n",
    "        n = n + 1\n",
    "    return result"
   ]
  },
  {
   "cell_type": "markdown",
   "metadata": {},
   "source": [
    "Here is the Cython version of this function; the only addition here is that we use `cdef` to define the types of `n, k, i, p`. This `cdef` statement is used to define **local C variables**. We also add `int` in the arguments list to define the type of `kmax`: this means that any object passed will be **converted to a C integer**."
   ]
  },
  {
   "cell_type": "code",
   "execution_count": 4,
   "metadata": {
    "collapsed": false
   },
   "outputs": [],
   "source": [
    "%%cython\n",
    "def cprimes(int kmax):\n",
    "    cdef int n, k, i\n",
    "    cdef int p[1000]\n",
    "    result = []\n",
    "    if kmax > 1000:\n",
    "        kmax = 1000\n",
    "    k = 0\n",
    "    n = 2\n",
    "    while k < kmax:\n",
    "        i = 0\n",
    "        while i < k and n % p[i] != 0:\n",
    "            i = i + 1\n",
    "        if i == k:\n",
    "            p[k] = n\n",
    "            k = k + 1\n",
    "            result.append(n)\n",
    "        n = n + 1\n",
    "    return result"
   ]
  },
  {
   "cell_type": "code",
   "execution_count": 5,
   "metadata": {
    "collapsed": false,
    "scrolled": true
   },
   "outputs": [
    {
     "data": {
      "text/plain": [
       "True"
      ]
     },
     "execution_count": 5,
     "metadata": {},
     "output_type": "execute_result"
    }
   ],
   "source": [
    "primes(100) == cprimes(100)"
   ]
  },
  {
   "cell_type": "code",
   "execution_count": 6,
   "metadata": {
    "collapsed": false
   },
   "outputs": [
    {
     "name": "stdout",
     "output_type": "stream",
     "text": [
      "10 loops, best of 3: 62.1 ms per loop\n",
      "1000 loops, best of 3: 1.99 ms per loop\n"
     ]
    }
   ],
   "source": [
    "n = 1000\n",
    "%timeit primes(n)\n",
    "%timeit cprimes(n)"
   ]
  },
  {
   "cell_type": "markdown",
   "metadata": {
    "collapsed": true
   },
   "source": [
    "Note that in the inner loop (lines 12-13) only objects with type definitions, and thus C objects, are reffered to; therefore, **the loop is translated entirely into C code**, and runs very fast. Notice that the `cdef`-defined `n` is passed to `result.append`, a method of a Python list object. The conversion is taken care of by Cython."
   ]
  },
  {
   "cell_type": "markdown",
   "metadata": {},
   "source": [
    "## Creating a Cython module\n",
    "\n",
    "We can now put that Cython code into a separate file with extension `pyx`. "
   ]
  },
  {
   "cell_type": "code",
   "execution_count": 8,
   "metadata": {
    "collapsed": false
   },
   "outputs": [
    {
     "name": "stdout",
     "output_type": "stream",
     "text": [
      "/Users/yoavram/Work/Py4Eng/scripts/cython\n"
     ]
    }
   ],
   "source": [
    "!mkdir ../scripts/cython\n",
    "%cd ../scripts/cython"
   ]
  },
  {
   "cell_type": "code",
   "execution_count": 9,
   "metadata": {
    "collapsed": false
   },
   "outputs": [
    {
     "name": "stdout",
     "output_type": "stream",
     "text": [
      "Writing primes.pyx\n"
     ]
    }
   ],
   "source": [
    "%%file primes.pyx\n",
    "def cprimes(int kmax):\n",
    "    cdef int n, k, i\n",
    "    cdef int p[1000]\n",
    "    result = []\n",
    "    if kmax > 1000:\n",
    "        kmax = 1000\n",
    "    k = 0\n",
    "    n = 2\n",
    "    while k < kmax:\n",
    "        i = 0\n",
    "        while i < k and n % p[i] != 0:\n",
    "            i = i + 1\n",
    "        if i == k:\n",
    "            p[k] = n\n",
    "            k = k + 1\n",
    "            result.append(n)\n",
    "        n = n + 1\n",
    "    return result"
   ]
  },
  {
   "cell_type": "markdown",
   "metadata": {},
   "source": [
    "Now we compile it and import it with a single stroke using the [`pyximport` module](http://docs.cython.org/en/latest/src/reference/compilation.html#pyximport),\n",
    "\n",
    "> Cython code, unlike Python, must be compiled.\n",
    "> This happens in two stages:\n",
    "> A .pyx file is compiles by Cython to a .c file.\n",
    "> The .c file is compiled by a C comiler to a .so file (or a .pyd file on Windows)"
   ]
  },
  {
   "cell_type": "code",
   "execution_count": 10,
   "metadata": {
    "collapsed": false
   },
   "outputs": [
    {
     "data": {
      "text/plain": [
       "(None, <pyximport.pyximport.PyxImporter at 0x111b1add8>)"
      ]
     },
     "execution_count": 10,
     "metadata": {},
     "output_type": "execute_result"
    }
   ],
   "source": [
    "import pyximport\n",
    "pyximport.install()"
   ]
  },
  {
   "cell_type": "code",
   "execution_count": 11,
   "metadata": {
    "collapsed": true
   },
   "outputs": [],
   "source": [
    "from primes import cprimes"
   ]
  },
  {
   "cell_type": "code",
   "execution_count": 12,
   "metadata": {
    "collapsed": false
   },
   "outputs": [
    {
     "data": {
      "text/plain": [
       "True"
      ]
     },
     "execution_count": 12,
     "metadata": {},
     "output_type": "execute_result"
    }
   ],
   "source": [
    "len(cprimes(100)) == 100"
   ]
  },
  {
   "cell_type": "markdown",
   "metadata": {},
   "source": [
    "You can also do this on your own, without `pyximport`. This is useful when shipping or if you just want to see the C file - for example, to see how much work Cython saved you from doing!\n",
    "\n",
    "You start by writing a `setup.py` file which imports `cythonize` from the Cython package and tells `setup` (the standard way to setup Python packages, using `distutils` or `setuptools`) to build an extension module using `cythonize`."
   ]
  },
  {
   "cell_type": "code",
   "execution_count": 13,
   "metadata": {
    "collapsed": false
   },
   "outputs": [
    {
     "name": "stdout",
     "output_type": "stream",
     "text": [
      "Writing setup.py\n"
     ]
    }
   ],
   "source": [
    "%%file setup.py\n",
    "from distutils.core import setup\n",
    "from Cython.Build import cythonize\n",
    "\n",
    "setup(\n",
    "    ext_modules = cythonize(\"primes.pyx\")\n",
    ")"
   ]
  },
  {
   "cell_type": "markdown",
   "metadata": {},
   "source": [
    "Run it with this command, which builds the extension:"
   ]
  },
  {
   "cell_type": "code",
   "execution_count": 15,
   "metadata": {
    "collapsed": false
   },
   "outputs": [
    {
     "name": "stdout",
     "output_type": "stream",
     "text": [
      "Compiling primes.pyx because it changed.\n",
      "[1/1] Cythonizing primes.pyx\n",
      "running build_ext\n",
      "building 'primes' extension\n",
      "creating build\n",
      "creating build/temp.macosx-10.9-x86_64-3.6\n",
      "gcc -Wno-unused-result -Wsign-compare -Wunreachable-code -DNDEBUG -g -fwrapv -O3 -Wall -Wstrict-prototypes -I/Users/yoavram/miniconda3/envs/Py4Eng/include -arch x86_64 -I/Users/yoavram/miniconda3/envs/Py4Eng/include -arch x86_64 -I/Users/yoavram/miniconda3/envs/Py4Eng/include/python3.6m -c primes.c -o build/temp.macosx-10.9-x86_64-3.6/primes.o\n",
      "gcc -bundle -undefined dynamic_lookup -Wl,-rpath,/Users/yoavram/miniconda3/envs/Py4Eng/lib -L/Users/yoavram/miniconda3/envs/Py4Eng/lib -headerpad_max_install_names -Wl,-rpath,/Users/yoavram/miniconda3/envs/Py4Eng/lib -L/Users/yoavram/miniconda3/envs/Py4Eng/lib -headerpad_max_install_names -arch x86_64 build/temp.macosx-10.9-x86_64-3.6/primes.o -L/Users/yoavram/miniconda3/envs/Py4Eng/lib -o /Users/yoavram/Work/Py4Eng/scripts/cython/primes.cpython-36m-darwin.so\n"
     ]
    }
   ],
   "source": [
    "!python setup.py build_ext --inplace"
   ]
  },
  {
   "cell_type": "markdown",
   "metadata": {},
   "source": [
    "Let's see what was generated (this might look different on different machines, especially Windows vs. Linux):"
   ]
  },
  {
   "cell_type": "code",
   "execution_count": 16,
   "metadata": {
    "collapsed": false
   },
   "outputs": [
    {
     "name": "stdout",
     "output_type": "stream",
     "text": [
      "\u001b[1m\u001b[36mbuild\u001b[m\u001b[m/                        primes.pyx\r\n",
      "primes.c                      setup.py\r\n",
      "\u001b[31mprimes.cpython-36m-darwin.so\u001b[m\u001b[m*\r\n"
     ]
    }
   ],
   "source": [
    "%ls"
   ]
  },
  {
   "cell_type": "markdown",
   "metadata": {},
   "source": [
    "And the actual C file:"
   ]
  },
  {
   "cell_type": "code",
   "execution_count": 17,
   "metadata": {
    "collapsed": false,
    "scrolled": true
   },
   "outputs": [
    {
     "name": "stdout",
     "output_type": "stream",
     "text": [
      "/* Generated by Cython 0.25.2 */\r\n",
      "\r\n",
      "/* BEGIN: Cython Metadata\r\n",
      "{\r\n",
      "    \"distutils\": {},\r\n",
      "    \"module_name\": \"primes\"\r\n",
      "}\r\n",
      "END: Cython Metadata */\r\n",
      "\r\n",
      "#define PY_SSIZE_T_CLEAN\r\n",
      "#include \"Python.h\"\r\n",
      "#ifndef Py_PYTHON_H\r\n",
      "    #error Python headers needed to compile C extensions, please install development version of Python.\r\n",
      "#elif PY_VERSION_HEX < 0x02060000 || (0x03000000 <= PY_VERSION_HEX && PY_VERSION_HEX < 0x03020000)\r\n",
      "    #error Cython requires Python 2.6+ or Python 3.2+.\r\n",
      "#else\r\n",
      "#define CYTHON_ABI \"0_25_2\"\r\n",
      "#include <stddef.h>\r\n",
      "#ifndef offsetof\r\n",
      "  #define offsetof(type, member) ( (size_t) & ((type*)0) -> member )\r\n",
      "#endif\r\n",
      "#if !defined(WIN32) && !defined(MS_WINDOWS)\r\n",
      "  #ifndef __stdcall\r\n",
      "    #define __stdcall\r\n",
      "  #endif\r\n",
      "  #ifndef __cdecl\r\n",
      "    #define __cdecl\r\n",
      "  #endif\r\n",
      "  #ifndef __fastcall\r\n",
      "    #define __fastcall\r\n",
      "  #endif\r\n",
      "#endif\r\n",
      "#ifndef DL_IMPORT\r\n",
      "  #define DL_IMPORT(t) t\r\n",
      "#endif\r\n",
      "#ifndef DL_EXPORT\r\n",
      "  #define DL_EXPORT(t) t\r\n",
      "#endif\r\n",
      "#ifndef HAVE_LONG_LONG\r\n",
      "  #if PY_VERSION_HEX >= 0x03030000 || (PY_MAJOR_VERSION == 2 && PY_VERSION_HEX >= 0x02070000)\r\n",
      "    #define HAVE_LONG_LONG\r\n",
      "  #endif\r\n",
      "#endif\r\n",
      "#ifndef PY_LONG_LONG\r\n",
      "  #define PY_LONG_LONG LONG_LONG\r\n",
      "#endif\r\n",
      "#ifndef Py_HUGE_VAL\r\n",
      "  #define Py_HUGE_VAL HUGE_VAL\r\n",
      "#endif\r\n",
      "#ifdef PYPY_VERSION\r\n",
      "  #define CYTHON_COMPILING_IN_PYPY 1\r\n",
      "  #define CYTHON_COMPILING_IN_PYSTON 0\r\n",
      "  #define CYTHON_COMPILING_IN_CPYTHON 0\r\n",
      "  #undef CYTHON_USE_TYPE_SLOTS\r\n",
      "  #define CYTHON_USE_TYPE_SLOTS 0\r\n",
      "  #undef CYTHON_USE_ASYNC_SLOTS\r\n",
      "  #define CYTHON_USE_ASYNC_SLOTS 0\r\n",
      "  #undef CYTHON_USE_PYLIST_INTERNALS\r\n",
      "  #define CYTHON_USE_PYLIST_INTERNALS 0\r\n",
      "  #undef CYTHON_USE_UNICODE_INTERNALS\r\n",
      "  #define CYTHON_USE_UNICODE_INTERNALS 0\r\n",
      "  #undef CYTHON_USE_UNICODE_WRITER\r\n",
      "  #define CYTHON_USE_UNICODE_WRITER 0\r\n",
      "  #undef CYTHON_USE_PYLONG_INTERNALS\r\n",
      "  #define CYTHON_USE_PYLONG_INTERNALS 0\r\n",
      "  #undef CYTHON_AVOID_BORROWED_REFS\r\n",
      "  #define CYTHON_AVOID_BORROWED_REFS 1\r\n",
      "  #undef CYTHON_ASSUME_SAFE_MACROS\r\n",
      "  #define CYTHON_ASSUME_SAFE_MACROS 0\r\n",
      "  #undef CYTHON_UNPACK_METHODS\r\n",
      "  #define CYTHON_UNPACK_METHODS 0\r\n",
      "  #undef CYTHON_FAST_THREAD_STATE\r\n",
      "  #define CYTHON_FAST_THREAD_STATE 0\r\n",
      "  #undef CYTHON_FAST_PYCALL\r\n",
      "  #define CYTHON_FAST_PYCALL 0\r\n",
      "#elif defined(PYSTON_VERSION)\r\n",
      "  #define CYTHON_COMPILING_IN_PYPY 0\r\n",
      "  #define CYTHON_COMPILING_IN_PYSTON 1\r\n",
      "  #define CYTHON_COMPILING_IN_CPYTHON 0\r\n",
      "  #ifndef CYTHON_USE_TYPE_SLOTS\r\n",
      "    #define CYTHON_USE_TYPE_SLOTS 1\r\n",
      "  #endif\r\n",
      "  #undef CYTHON_USE_ASYNC_SLOTS\r\n",
      "  #define CYTHON_USE_ASYNC_SLOTS 0\r\n",
      "  #undef CYTHON_USE_PYLIST_INTERNALS\r\n",
      "  #define CYTHON_USE_PYLIST_INTERNALS 0\r\n",
      "  #ifndef CYTHON_USE_UNICODE_INTERNALS\r\n",
      "    #define CYTHON_USE_UNICODE_INTERNALS 1\r\n",
      "  #endif\r\n",
      "  #undef CYTHON_USE_UNICODE_WRITER\r\n",
      "  #define CYTHON_USE_UNICODE_WRITER 0\r\n",
      "  #undef CYTHON_USE_PYLONG_INTERNALS\r\n",
      "  #define CYTHON_USE_PYLONG_INTERNALS 0\r\n",
      "  #ifndef CYTHON_AVOID_BORROWED_REFS\r\n",
      "    #define CYTHON_AVOID_BORROWED_REFS 0\r\n",
      "  #endif\r\n",
      "  #ifndef CYTHON_ASSUME_SAFE_MACROS\r\n",
      "    #define CYTHON_ASSUME_SAFE_MACROS 1\r\n",
      "  #endif\r\n",
      "  #ifndef CYTHON_UNPACK_METHODS\r\n",
      "    #define CYTHON_UNPACK_METHODS 1\r\n",
      "  #endif\r\n",
      "  #undef CYTHON_FAST_THREAD_STATE\r\n",
      "  #define CYTHON_FAST_THREAD_STATE 0\r\n",
      "  #undef CYTHON_FAST_PYCALL\r\n",
      "  #define CYTHON_FAST_PYCALL 0\r\n",
      "#else\r\n",
      "  #define CYTHON_COMPILING_IN_PYPY 0\r\n",
      "  #define CYTHON_COMPILING_IN_PYSTON 0\r\n",
      "  #define CYTHON_COMPILING_IN_CPYTHON 1\r\n",
      "  #ifndef CYTHON_USE_TYPE_SLOTS\r\n",
      "    #define CYTHON_USE_TYPE_SLOTS 1\r\n",
      "  #endif\r\n",
      "  #if PY_MAJOR_VERSION < 3\r\n",
      "    #undef CYTHON_USE_ASYNC_SLOTS\r\n",
      "    #define CYTHON_USE_ASYNC_SLOTS 0\r\n",
      "  #elif !defined(CYTHON_USE_ASYNC_SLOTS)\r\n",
      "    #define CYTHON_USE_ASYNC_SLOTS 1\r\n",
      "  #endif\r\n",
      "  #if PY_VERSION_HEX < 0x02070000\r\n",
      "    #undef CYTHON_USE_PYLONG_INTERNALS\r\n",
      "    #define CYTHON_USE_PYLONG_INTERNALS 0\r\n",
      "  #elif !defined(CYTHON_USE_PYLONG_INTERNALS)\r\n",
      "    #define CYTHON_USE_PYLONG_INTERNALS 1\r\n",
      "  #endif\r\n",
      "  #ifndef CYTHON_USE_PYLIST_INTERNALS\r\n",
      "    #define CYTHON_USE_PYLIST_INTERNALS 1\r\n",
      "  #endif\r\n",
      "  #ifndef CYTHON_USE_UNICODE_INTERNALS\r\n",
      "    #define CYTHON_USE_UNICODE_INTERNALS 1\r\n",
      "  #endif\r\n",
      "  #if PY_VERSION_HEX < 0x030300F0\r\n",
      "    #undef CYTHON_USE_UNICODE_WRITER\r\n",
      "    #define CYTHON_USE_UNICODE_WRITER 0\r\n",
      "  #elif !defined(CYTHON_USE_UNICODE_WRITER)\r\n",
      "    #define CYTHON_USE_UNICODE_WRITER 1\r\n",
      "  #endif\r\n",
      "  #ifndef CYTHON_AVOID_BORROWED_REFS\r\n",
      "    #define CYTHON_AVOID_BORROWED_REFS 0\r\n",
      "  #endif\r\n",
      "  #ifndef CYTHON_ASSUME_SAFE_MACROS\r\n",
      "    #define CYTHON_ASSUME_SAFE_MACROS 1\r\n",
      "  #endif\r\n",
      "  #ifndef CYTHON_UNPACK_METHODS\r\n",
      "    #define CYTHON_UNPACK_METHODS 1\r\n",
      "  #endif\r\n",
      "  #ifndef CYTHON_FAST_THREAD_STATE\r\n",
      "    #define CYTHON_FAST_THREAD_STATE 1\r\n",
      "  #endif\r\n",
      "  #ifndef CYTHON_FAST_PYCALL\r\n",
      "    #define CYTHON_FAST_PYCALL 1\r\n",
      "  #endif\r\n",
      "#endif\r\n",
      "#if !defined(CYTHON_FAST_PYCCALL)\r\n",
      "#define CYTHON_FAST_PYCCALL  (CYTHON_FAST_PYCALL && PY_VERSION_HEX >= 0x030600B1)\r\n",
      "#endif\r\n",
      "#if CYTHON_USE_PYLONG_INTERNALS\r\n",
      "  #include \"longintrepr.h\"\r\n",
      "  #undef SHIFT\r\n",
      "  #undef BASE\r\n",
      "  #undef MASK\r\n",
      "#endif\r\n",
      "#if CYTHON_COMPILING_IN_PYPY && PY_VERSION_HEX < 0x02070600 && !defined(Py_OptimizeFlag)\r\n",
      "  #define Py_OptimizeFlag 0\r\n",
      "#endif\r\n",
      "#define __PYX_BUILD_PY_SSIZE_T \"n\"\r\n",
      "#define CYTHON_FORMAT_SSIZE_T \"z\"\r\n",
      "#if PY_MAJOR_VERSION < 3\r\n",
      "  #define __Pyx_BUILTIN_MODULE_NAME \"__builtin__\"\r\n",
      "  #define __Pyx_PyCode_New(a, k, l, s, f, code, c, n, v, fv, cell, fn, name, fline, lnos)\\\r\n",
      "          PyCode_New(a+k, l, s, f, code, c, n, v, fv, cell, fn, name, fline, lnos)\r\n",
      "  #define __Pyx_DefaultClassType PyClass_Type\r\n",
      "#else\r\n",
      "  #define __Pyx_BUILTIN_MODULE_NAME \"builtins\"\r\n",
      "  #define __Pyx_PyCode_New(a, k, l, s, f, code, c, n, v, fv, cell, fn, name, fline, lnos)\\\r\n",
      "          PyCode_New(a, k, l, s, f, code, c, n, v, fv, cell, fn, name, fline, lnos)\r\n",
      "  #define __Pyx_DefaultClassType PyType_Type\r\n",
      "#endif\r\n",
      "#ifndef Py_TPFLAGS_CHECKTYPES\r\n",
      "  #define Py_TPFLAGS_CHECKTYPES 0\r\n",
      "#endif\r\n",
      "#ifndef Py_TPFLAGS_HAVE_INDEX\r\n",
      "  #define Py_TPFLAGS_HAVE_INDEX 0\r\n",
      "#endif\r\n",
      "#ifndef Py_TPFLAGS_HAVE_NEWBUFFER\r\n",
      "  #define Py_TPFLAGS_HAVE_NEWBUFFER 0\r\n",
      "#endif\r\n",
      "#ifndef Py_TPFLAGS_HAVE_FINALIZE\r\n",
      "  #define Py_TPFLAGS_HAVE_FINALIZE 0\r\n",
      "#endif\r\n",
      "#ifndef METH_FASTCALL\r\n",
      "  #define METH_FASTCALL 0x80\r\n",
      "  typedef PyObject *(*__Pyx_PyCFunctionFast) (PyObject *self, PyObject **args,\r\n",
      "                                              Py_ssize_t nargs, PyObject *kwnames);\r\n",
      "#else\r\n",
      "  #define __Pyx_PyCFunctionFast _PyCFunctionFast\r\n",
      "#endif\r\n",
      "#if CYTHON_FAST_PYCCALL\r\n",
      "#define __Pyx_PyFastCFunction_Check(func)\\\r\n",
      "    ((PyCFunction_Check(func) && (METH_FASTCALL == (PyCFunction_GET_FLAGS(func) & ~(METH_CLASS | METH_STATIC | METH_COEXIST)))))\r\n",
      "#else\r\n",
      "#define __Pyx_PyFastCFunction_Check(func) 0\r\n",
      "#endif\r\n",
      "#if PY_VERSION_HEX > 0x03030000 && defined(PyUnicode_KIND)\r\n",
      "  #define CYTHON_PEP393_ENABLED 1\r\n",
      "  #define __Pyx_PyUnicode_READY(op)       (likely(PyUnicode_IS_READY(op)) ?\\\r\n",
      "                                              0 : _PyUnicode_Ready((PyObject *)(op)))\r\n",
      "  #define __Pyx_PyUnicode_GET_LENGTH(u)   PyUnicode_GET_LENGTH(u)\r\n",
      "  #define __Pyx_PyUnicode_READ_CHAR(u, i) PyUnicode_READ_CHAR(u, i)\r\n",
      "  #define __Pyx_PyUnicode_MAX_CHAR_VALUE(u)   PyUnicode_MAX_CHAR_VALUE(u)\r\n",
      "  #define __Pyx_PyUnicode_KIND(u)         PyUnicode_KIND(u)\r\n",
      "  #define __Pyx_PyUnicode_DATA(u)         PyUnicode_DATA(u)\r\n",
      "  #define __Pyx_PyUnicode_READ(k, d, i)   PyUnicode_READ(k, d, i)\r\n",
      "  #define __Pyx_PyUnicode_WRITE(k, d, i, ch)  PyUnicode_WRITE(k, d, i, ch)\r\n",
      "  #define __Pyx_PyUnicode_IS_TRUE(u)      (0 != (likely(PyUnicode_IS_READY(u)) ? PyUnicode_GET_LENGTH(u) : PyUnicode_GET_SIZE(u)))\r\n",
      "#else\r\n",
      "  #define CYTHON_PEP393_ENABLED 0\r\n",
      "  #define PyUnicode_1BYTE_KIND  1\r\n",
      "  #define PyUnicode_2BYTE_KIND  2\r\n",
      "  #define PyUnicode_4BYTE_KIND  4\r\n",
      "  #define __Pyx_PyUnicode_READY(op)       (0)\r\n",
      "  #define __Pyx_PyUnicode_GET_LENGTH(u)   PyUnicode_GET_SIZE(u)\r\n",
      "  #define __Pyx_PyUnicode_READ_CHAR(u, i) ((Py_UCS4)(PyUnicode_AS_UNICODE(u)[i]))\r\n",
      "  #define __Pyx_PyUnicode_MAX_CHAR_VALUE(u)   ((sizeof(Py_UNICODE) == 2) ? 65535 : 1114111)\r\n",
      "  #define __Pyx_PyUnicode_KIND(u)         (sizeof(Py_UNICODE))\r\n",
      "  #define __Pyx_PyUnicode_DATA(u)         ((void*)PyUnicode_AS_UNICODE(u))\r\n",
      "  #define __Pyx_PyUnicode_READ(k, d, i)   ((void)(k), (Py_UCS4)(((Py_UNICODE*)d)[i]))\r\n",
      "  #define __Pyx_PyUnicode_WRITE(k, d, i, ch)  (((void)(k)), ((Py_UNICODE*)d)[i] = ch)\r\n",
      "  #define __Pyx_PyUnicode_IS_TRUE(u)      (0 != PyUnicode_GET_SIZE(u))\r\n",
      "#endif\r\n",
      "#if CYTHON_COMPILING_IN_PYPY\r\n",
      "  #define __Pyx_PyUnicode_Concat(a, b)      PyNumber_Add(a, b)\r\n",
      "  #define __Pyx_PyUnicode_ConcatSafe(a, b)  PyNumber_Add(a, b)\r\n",
      "#else\r\n",
      "  #define __Pyx_PyUnicode_Concat(a, b)      PyUnicode_Concat(a, b)\r\n",
      "  #define __Pyx_PyUnicode_ConcatSafe(a, b)  ((unlikely((a) == Py_None) || unlikely((b) == Py_None)) ?\\\r\n",
      "      PyNumber_Add(a, b) : __Pyx_PyUnicode_Concat(a, b))\r\n",
      "#endif\r\n",
      "#if CYTHON_COMPILING_IN_PYPY && !defined(PyUnicode_Contains)\r\n",
      "  #define PyUnicode_Contains(u, s)  PySequence_Contains(u, s)\r\n",
      "#endif\r\n",
      "#if CYTHON_COMPILING_IN_PYPY && !defined(PyByteArray_Check)\r\n",
      "  #define PyByteArray_Check(obj)  PyObject_TypeCheck(obj, &PyByteArray_Type)\r\n",
      "#endif\r\n",
      "#if CYTHON_COMPILING_IN_PYPY && !defined(PyObject_Format)\r\n",
      "  #define PyObject_Format(obj, fmt)  PyObject_CallMethod(obj, \"__format__\", \"O\", fmt)\r\n",
      "#endif\r\n",
      "#if CYTHON_COMPILING_IN_PYPY && !defined(PyObject_Malloc)\r\n",
      "  #define PyObject_Malloc(s)   PyMem_Malloc(s)\r\n",
      "  #define PyObject_Free(p)     PyMem_Free(p)\r\n",
      "  #define PyObject_Realloc(p)  PyMem_Realloc(p)\r\n",
      "#endif\r\n",
      "#if CYTHON_COMPILING_IN_PYSTON\r\n",
      "  #define __Pyx_PyCode_HasFreeVars(co)  PyCode_HasFreeVars(co)\r\n",
      "  #define __Pyx_PyFrame_SetLineNumber(frame, lineno) PyFrame_SetLineNumber(frame, lineno)\r\n",
      "#else\r\n",
      "  #define __Pyx_PyCode_HasFreeVars(co)  (PyCode_GetNumFree(co) > 0)\r\n",
      "  #define __Pyx_PyFrame_SetLineNumber(frame, lineno)  (frame)->f_lineno = (lineno)\r\n",
      "#endif\r\n",
      "#define __Pyx_PyString_FormatSafe(a, b)   ((unlikely((a) == Py_None)) ? PyNumber_Remainder(a, b) : __Pyx_PyString_Format(a, b))\r\n",
      "#define __Pyx_PyUnicode_FormatSafe(a, b)  ((unlikely((a) == Py_None)) ? PyNumber_Remainder(a, b) : PyUnicode_Format(a, b))\r\n",
      "#if PY_MAJOR_VERSION >= 3\r\n",
      "  #define __Pyx_PyString_Format(a, b)  PyUnicode_Format(a, b)\r\n",
      "#else\r\n",
      "  #define __Pyx_PyString_Format(a, b)  PyString_Format(a, b)\r\n",
      "#endif\r\n",
      "#if PY_MAJOR_VERSION < 3 && !defined(PyObject_ASCII)\r\n",
      "  #define PyObject_ASCII(o)            PyObject_Repr(o)\r\n",
      "#endif\r\n",
      "#if PY_MAJOR_VERSION >= 3\r\n",
      "  #define PyBaseString_Type            PyUnicode_Type\r\n",
      "  #define PyStringObject               PyUnicodeObject\r\n",
      "  #define PyString_Type                PyUnicode_Type\r\n",
      "  #define PyString_Check               PyUnicode_Check\r\n",
      "  #define PyString_CheckExact          PyUnicode_CheckExact\r\n",
      "#endif\r\n",
      "#if PY_MAJOR_VERSION >= 3\r\n",
      "  #define __Pyx_PyBaseString_Check(obj) PyUnicode_Check(obj)\r\n",
      "  #define __Pyx_PyBaseString_CheckExact(obj) PyUnicode_CheckExact(obj)\r\n",
      "#else\r\n",
      "  #define __Pyx_PyBaseString_Check(obj) (PyString_Check(obj) || PyUnicode_Check(obj))\r\n",
      "  #define __Pyx_PyBaseString_CheckExact(obj) (PyString_CheckExact(obj) || PyUnicode_CheckExact(obj))\r\n",
      "#endif\r\n",
      "#ifndef PySet_CheckExact\r\n",
      "  #define PySet_CheckExact(obj)        (Py_TYPE(obj) == &PySet_Type)\r\n",
      "#endif\r\n",
      "#define __Pyx_TypeCheck(obj, type) PyObject_TypeCheck(obj, (PyTypeObject *)type)\r\n",
      "#define __Pyx_PyException_Check(obj) __Pyx_TypeCheck(obj, PyExc_Exception)\r\n",
      "#if PY_MAJOR_VERSION >= 3\r\n",
      "  #define PyIntObject                  PyLongObject\r\n",
      "  #define PyInt_Type                   PyLong_Type\r\n",
      "  #define PyInt_Check(op)              PyLong_Check(op)\r\n",
      "  #define PyInt_CheckExact(op)         PyLong_CheckExact(op)\r\n",
      "  #define PyInt_FromString             PyLong_FromString\r\n",
      "  #define PyInt_FromUnicode            PyLong_FromUnicode\r\n",
      "  #define PyInt_FromLong               PyLong_FromLong\r\n",
      "  #define PyInt_FromSize_t             PyLong_FromSize_t\r\n",
      "  #define PyInt_FromSsize_t            PyLong_FromSsize_t\r\n",
      "  #define PyInt_AsLong                 PyLong_AsLong\r\n",
      "  #define PyInt_AS_LONG                PyLong_AS_LONG\r\n",
      "  #define PyInt_AsSsize_t              PyLong_AsSsize_t\r\n",
      "  #define PyInt_AsUnsignedLongMask     PyLong_AsUnsignedLongMask\r\n",
      "  #define PyInt_AsUnsignedLongLongMask PyLong_AsUnsignedLongLongMask\r\n",
      "  #define PyNumber_Int                 PyNumber_Long\r\n",
      "#endif\r\n",
      "#if PY_MAJOR_VERSION >= 3\r\n",
      "  #define PyBoolObject                 PyLongObject\r\n",
      "#endif\r\n",
      "#if PY_MAJOR_VERSION >= 3 && CYTHON_COMPILING_IN_PYPY\r\n",
      "  #ifndef PyUnicode_InternFromString\r\n",
      "    #define PyUnicode_InternFromString(s) PyUnicode_FromString(s)\r\n",
      "  #endif\r\n",
      "#endif\r\n",
      "#if PY_VERSION_HEX < 0x030200A4\r\n",
      "  typedef long Py_hash_t;\r\n",
      "  #define __Pyx_PyInt_FromHash_t PyInt_FromLong\r\n",
      "  #define __Pyx_PyInt_AsHash_t   PyInt_AsLong\r\n",
      "#else\r\n",
      "  #define __Pyx_PyInt_FromHash_t PyInt_FromSsize_t\r\n",
      "  #define __Pyx_PyInt_AsHash_t   PyInt_AsSsize_t\r\n",
      "#endif\r\n",
      "#if PY_MAJOR_VERSION >= 3\r\n",
      "  #define __Pyx_PyMethod_New(func, self, klass) ((self) ? PyMethod_New(func, self) : PyInstanceMethod_New(func))\r\n",
      "#else\r\n",
      "  #define __Pyx_PyMethod_New(func, self, klass) PyMethod_New(func, self, klass)\r\n",
      "#endif\r\n",
      "#if CYTHON_USE_ASYNC_SLOTS\r\n",
      "  #if PY_VERSION_HEX >= 0x030500B1\r\n",
      "    #define __Pyx_PyAsyncMethodsStruct PyAsyncMethods\r\n",
      "    #define __Pyx_PyType_AsAsync(obj) (Py_TYPE(obj)->tp_as_async)\r\n",
      "  #else\r\n",
      "    typedef struct {\r\n",
      "        unaryfunc am_await;\r\n",
      "        unaryfunc am_aiter;\r\n",
      "        unaryfunc am_anext;\r\n",
      "    } __Pyx_PyAsyncMethodsStruct;\r\n",
      "    #define __Pyx_PyType_AsAsync(obj) ((__Pyx_PyAsyncMethodsStruct*) (Py_TYPE(obj)->tp_reserved))\r\n",
      "  #endif\r\n",
      "#else\r\n",
      "  #define __Pyx_PyType_AsAsync(obj) NULL\r\n",
      "#endif\r\n",
      "#ifndef CYTHON_RESTRICT\r\n",
      "  #if defined(__GNUC__)\r\n",
      "    #define CYTHON_RESTRICT __restrict__\r\n",
      "  #elif defined(_MSC_VER) && _MSC_VER >= 1400\r\n",
      "    #define CYTHON_RESTRICT __restrict\r\n",
      "  #elif defined (__STDC_VERSION__) && __STDC_VERSION__ >= 199901L\r\n",
      "    #define CYTHON_RESTRICT restrict\r\n",
      "  #else\r\n",
      "    #define CYTHON_RESTRICT\r\n",
      "  #endif\r\n",
      "#endif\r\n",
      "#ifndef CYTHON_UNUSED\r\n",
      "# if defined(__GNUC__)\r\n",
      "#   if !(defined(__cplusplus)) || (__GNUC__ > 3 || (__GNUC__ == 3 && __GNUC_MINOR__ >= 4))\r\n",
      "#     define CYTHON_UNUSED __attribute__ ((__unused__))\r\n",
      "#   else\r\n",
      "#     define CYTHON_UNUSED\r\n",
      "#   endif\r\n",
      "# elif defined(__ICC) || (defined(__INTEL_COMPILER) && !defined(_MSC_VER))\r\n",
      "#   define CYTHON_UNUSED __attribute__ ((__unused__))\r\n",
      "# else\r\n",
      "#   define CYTHON_UNUSED\r\n",
      "# endif\r\n",
      "#endif\r\n",
      "#ifndef CYTHON_MAYBE_UNUSED_VAR\r\n",
      "#  if defined(__cplusplus)\r\n",
      "     template<class T> void CYTHON_MAYBE_UNUSED_VAR( const T& ) { }\r\n",
      "#  else\r\n",
      "#    define CYTHON_MAYBE_UNUSED_VAR(x) (void)(x)\r\n",
      "#  endif\r\n",
      "#endif\r\n",
      "#ifndef CYTHON_NCP_UNUSED\r\n",
      "# if CYTHON_COMPILING_IN_CPYTHON\r\n",
      "#  define CYTHON_NCP_UNUSED\r\n",
      "# else\r\n",
      "#  define CYTHON_NCP_UNUSED CYTHON_UNUSED\r\n",
      "# endif\r\n",
      "#endif\r\n",
      "#define __Pyx_void_to_None(void_result) ((void)(void_result), Py_INCREF(Py_None), Py_None)\r\n",
      "\r\n",
      "#ifndef CYTHON_INLINE\r\n",
      "  #if defined(__clang__)\r\n",
      "    #define CYTHON_INLINE __inline__ __attribute__ ((__unused__))\r\n",
      "  #elif defined(__GNUC__)\r\n",
      "    #define CYTHON_INLINE __inline__\r\n",
      "  #elif defined(_MSC_VER)\r\n",
      "    #define CYTHON_INLINE __inline\r\n",
      "  #elif defined (__STDC_VERSION__) && __STDC_VERSION__ >= 199901L\r\n",
      "    #define CYTHON_INLINE inline\r\n",
      "  #else\r\n",
      "    #define CYTHON_INLINE\r\n",
      "  #endif\r\n",
      "#endif\r\n",
      "\r\n",
      "#if defined(WIN32) || defined(MS_WINDOWS)\r\n",
      "  #define _USE_MATH_DEFINES\r\n",
      "#endif\r\n",
      "#include <math.h>\r\n",
      "#ifdef NAN\r\n",
      "#define __PYX_NAN() ((float) NAN)\r\n",
      "#else\r\n",
      "static CYTHON_INLINE float __PYX_NAN() {\r\n",
      "  float value;\r\n",
      "  memset(&value, 0xFF, sizeof(value));\r\n",
      "  return value;\r\n",
      "}\r\n",
      "#endif\r\n",
      "#if defined(__CYGWIN__) && defined(_LDBL_EQ_DBL)\r\n",
      "#define __Pyx_truncl trunc\r\n",
      "#else\r\n",
      "#define __Pyx_truncl truncl\r\n",
      "#endif\r\n",
      "\r\n",
      "\r\n",
      "#define __PYX_ERR(f_index, lineno, Ln_error) \\\r\n",
      "{ \\\r\n",
      "  __pyx_filename = __pyx_f[f_index]; __pyx_lineno = lineno; __pyx_clineno = __LINE__; goto Ln_error; \\\r\n",
      "}\r\n",
      "\r\n",
      "#if PY_MAJOR_VERSION >= 3\r\n",
      "  #define __Pyx_PyNumber_Divide(x,y)         PyNumber_TrueDivide(x,y)\r\n",
      "  #define __Pyx_PyNumber_InPlaceDivide(x,y)  PyNumber_InPlaceTrueDivide(x,y)\r\n",
      "#else\r\n",
      "  #define __Pyx_PyNumber_Divide(x,y)         PyNumber_Divide(x,y)\r\n",
      "  #define __Pyx_PyNumber_InPlaceDivide(x,y)  PyNumber_InPlaceDivide(x,y)\r\n",
      "#endif\r\n",
      "\r\n",
      "#ifndef __PYX_EXTERN_C\r\n",
      "  #ifdef __cplusplus\r\n",
      "    #define __PYX_EXTERN_C extern \"C\"\r\n",
      "  #else\r\n",
      "    #define __PYX_EXTERN_C extern\r\n",
      "  #endif\r\n",
      "#endif\r\n",
      "\r\n",
      "#define __PYX_HAVE__primes\r\n",
      "#define __PYX_HAVE_API__primes\r\n",
      "#ifdef _OPENMP\r\n",
      "#include <omp.h>\r\n",
      "#endif /* _OPENMP */\r\n",
      "\r\n",
      "#ifdef PYREX_WITHOUT_ASSERTIONS\r\n",
      "#define CYTHON_WITHOUT_ASSERTIONS\r\n",
      "#endif\r\n",
      "\r\n",
      "typedef struct {PyObject **p; const char *s; const Py_ssize_t n; const char* encoding;\r\n",
      "                const char is_unicode; const char is_str; const char intern; } __Pyx_StringTabEntry;\r\n",
      "\r\n",
      "#define __PYX_DEFAULT_STRING_ENCODING_IS_ASCII 0\r\n",
      "#define __PYX_DEFAULT_STRING_ENCODING_IS_DEFAULT 0\r\n",
      "#define __PYX_DEFAULT_STRING_ENCODING \"\"\r\n",
      "#define __Pyx_PyObject_FromString __Pyx_PyBytes_FromString\r\n",
      "#define __Pyx_PyObject_FromStringAndSize __Pyx_PyBytes_FromStringAndSize\r\n",
      "#define __Pyx_uchar_cast(c) ((unsigned char)c)\r\n",
      "#define __Pyx_long_cast(x) ((long)x)\r\n",
      "#define __Pyx_fits_Py_ssize_t(v, type, is_signed)  (\\\r\n",
      "    (sizeof(type) < sizeof(Py_ssize_t))  ||\\\r\n",
      "    (sizeof(type) > sizeof(Py_ssize_t) &&\\\r\n",
      "          likely(v < (type)PY_SSIZE_T_MAX ||\\\r\n",
      "                 v == (type)PY_SSIZE_T_MAX)  &&\\\r\n",
      "          (!is_signed || likely(v > (type)PY_SSIZE_T_MIN ||\\\r\n",
      "                                v == (type)PY_SSIZE_T_MIN)))  ||\\\r\n",
      "    (sizeof(type) == sizeof(Py_ssize_t) &&\\\r\n",
      "          (is_signed || likely(v < (type)PY_SSIZE_T_MAX ||\\\r\n",
      "                               v == (type)PY_SSIZE_T_MAX)))  )\r\n",
      "#if defined (__cplusplus) && __cplusplus >= 201103L\r\n",
      "    #include <cstdlib>\r\n",
      "    #define __Pyx_sst_abs(value) std::abs(value)\r\n",
      "#elif SIZEOF_INT >= SIZEOF_SIZE_T\r\n",
      "    #define __Pyx_sst_abs(value) abs(value)\r\n",
      "#elif SIZEOF_LONG >= SIZEOF_SIZE_T\r\n",
      "    #define __Pyx_sst_abs(value) labs(value)\r\n",
      "#elif defined (_MSC_VER) && defined (_M_X64)\r\n",
      "    #define __Pyx_sst_abs(value) _abs64(value)\r\n",
      "#elif defined (__STDC_VERSION__) && __STDC_VERSION__ >= 199901L\r\n",
      "    #define __Pyx_sst_abs(value) llabs(value)\r\n",
      "#elif defined (__GNUC__)\r\n",
      "    #define __Pyx_sst_abs(value) __builtin_llabs(value)\r\n",
      "#else\r\n",
      "    #define __Pyx_sst_abs(value) ((value<0) ? -value : value)\r\n",
      "#endif\r\n",
      "static CYTHON_INLINE char* __Pyx_PyObject_AsString(PyObject*);\r\n",
      "static CYTHON_INLINE char* __Pyx_PyObject_AsStringAndSize(PyObject*, Py_ssize_t* length);\r\n",
      "#define __Pyx_PyByteArray_FromString(s) PyByteArray_FromStringAndSize((const char*)s, strlen((const char*)s))\r\n",
      "#define __Pyx_PyByteArray_FromStringAndSize(s, l) PyByteArray_FromStringAndSize((const char*)s, l)\r\n",
      "#define __Pyx_PyBytes_FromString        PyBytes_FromString\r\n",
      "#define __Pyx_PyBytes_FromStringAndSize PyBytes_FromStringAndSize\r\n",
      "static CYTHON_INLINE PyObject* __Pyx_PyUnicode_FromString(const char*);\r\n",
      "#if PY_MAJOR_VERSION < 3\r\n",
      "    #define __Pyx_PyStr_FromString        __Pyx_PyBytes_FromString\r\n",
      "    #define __Pyx_PyStr_FromStringAndSize __Pyx_PyBytes_FromStringAndSize\r\n",
      "#else\r\n",
      "    #define __Pyx_PyStr_FromString        __Pyx_PyUnicode_FromString\r\n",
      "    #define __Pyx_PyStr_FromStringAndSize __Pyx_PyUnicode_FromStringAndSize\r\n",
      "#endif\r\n",
      "#define __Pyx_PyObject_AsSString(s)    ((signed char*) __Pyx_PyObject_AsString(s))\r\n",
      "#define __Pyx_PyObject_AsUString(s)    ((unsigned char*) __Pyx_PyObject_AsString(s))\r\n",
      "#define __Pyx_PyObject_FromCString(s)  __Pyx_PyObject_FromString((const char*)s)\r\n",
      "#define __Pyx_PyBytes_FromCString(s)   __Pyx_PyBytes_FromString((const char*)s)\r\n",
      "#define __Pyx_PyByteArray_FromCString(s)   __Pyx_PyByteArray_FromString((const char*)s)\r\n",
      "#define __Pyx_PyStr_FromCString(s)     __Pyx_PyStr_FromString((const char*)s)\r\n",
      "#define __Pyx_PyUnicode_FromCString(s) __Pyx_PyUnicode_FromString((const char*)s)\r\n",
      "#if PY_MAJOR_VERSION < 3\r\n",
      "static CYTHON_INLINE size_t __Pyx_Py_UNICODE_strlen(const Py_UNICODE *u)\r\n",
      "{\r\n",
      "    const Py_UNICODE *u_end = u;\r\n",
      "    while (*u_end++) ;\r\n",
      "    return (size_t)(u_end - u - 1);\r\n",
      "}\r\n",
      "#else\r\n",
      "#define __Pyx_Py_UNICODE_strlen Py_UNICODE_strlen\r\n",
      "#endif\r\n",
      "#define __Pyx_PyUnicode_FromUnicode(u)       PyUnicode_FromUnicode(u, __Pyx_Py_UNICODE_strlen(u))\r\n",
      "#define __Pyx_PyUnicode_FromUnicodeAndLength PyUnicode_FromUnicode\r\n",
      "#define __Pyx_PyUnicode_AsUnicode            PyUnicode_AsUnicode\r\n",
      "#define __Pyx_NewRef(obj) (Py_INCREF(obj), obj)\r\n",
      "#define __Pyx_Owned_Py_None(b) __Pyx_NewRef(Py_None)\r\n",
      "#define __Pyx_PyBool_FromLong(b) ((b) ? __Pyx_NewRef(Py_True) : __Pyx_NewRef(Py_False))\r\n",
      "static CYTHON_INLINE int __Pyx_PyObject_IsTrue(PyObject*);\r\n",
      "static CYTHON_INLINE PyObject* __Pyx_PyNumber_IntOrLong(PyObject* x);\r\n",
      "static CYTHON_INLINE Py_ssize_t __Pyx_PyIndex_AsSsize_t(PyObject*);\r\n",
      "static CYTHON_INLINE PyObject * __Pyx_PyInt_FromSize_t(size_t);\r\n",
      "#if CYTHON_ASSUME_SAFE_MACROS\r\n",
      "#define __pyx_PyFloat_AsDouble(x) (PyFloat_CheckExact(x) ? PyFloat_AS_DOUBLE(x) : PyFloat_AsDouble(x))\r",
      "\r\n",
      "#else\r\n",
      "#define __pyx_PyFloat_AsDouble(x) PyFloat_AsDouble(x)\r\n",
      "#endif\r\n",
      "#define __pyx_PyFloat_AsFloat(x) ((float) __pyx_PyFloat_AsDouble(x))\r\n",
      "#if PY_MAJOR_VERSION >= 3\r\n",
      "#define __Pyx_PyNumber_Int(x) (PyLong_CheckExact(x) ? __Pyx_NewRef(x) : PyNumber_Long(x))\r\n",
      "#else\r\n",
      "#define __Pyx_PyNumber_Int(x) (PyInt_CheckExact(x) ? __Pyx_NewRef(x) : PyNumber_Int(x))\r\n",
      "#endif\r\n",
      "#define __Pyx_PyNumber_Float(x) (PyFloat_CheckExact(x) ? __Pyx_NewRef(x) : PyNumber_Float(x))\r\n",
      "#if PY_MAJOR_VERSION < 3 && __PYX_DEFAULT_STRING_ENCODING_IS_ASCII\r\n",
      "static int __Pyx_sys_getdefaultencoding_not_ascii;\r\n",
      "static int __Pyx_init_sys_getdefaultencoding_params(void) {\r\n",
      "    PyObject* sys;\r\n",
      "    PyObject* default_encoding = NULL;\r\n",
      "    PyObject* ascii_chars_u = NULL;\r\n",
      "    PyObject* ascii_chars_b = NULL;\r\n",
      "    const char* default_encoding_c;\r\n",
      "    sys = PyImport_ImportModule(\"sys\");\r\n",
      "    if (!sys) goto bad;\r\n",
      "    default_encoding = PyObject_CallMethod(sys, (char*) \"getdefaultencoding\", NULL);\r\n",
      "    Py_DECREF(sys);\r\n",
      "    if (!default_encoding) goto bad;\r\n",
      "    default_encoding_c = PyBytes_AsString(default_encoding);\r\n",
      "    if (!default_encoding_c) goto bad;\r\n",
      "    if (strcmp(default_encoding_c, \"ascii\") == 0) {\r\n",
      "        __Pyx_sys_getdefaultencoding_not_ascii = 0;\r\n",
      "    } else {\r\n",
      "        char ascii_chars[128];\r\n",
      "        int c;\r\n",
      "        for (c = 0; c < 128; c++) {\r\n",
      "            ascii_chars[c] = c;\r\n",
      "        }\r\n",
      "        __Pyx_sys_getdefaultencoding_not_ascii = 1;\r\n",
      "        ascii_chars_u = PyUnicode_DecodeASCII(ascii_chars, 128, NULL);\r\n",
      "        if (!ascii_chars_u) goto bad;\r\n",
      "        ascii_chars_b = PyUnicode_AsEncodedString(ascii_chars_u, default_encoding_c, NULL);\r\n",
      "        if (!ascii_chars_b || !PyBytes_Check(ascii_chars_b) || memcmp(ascii_chars, PyBytes_AS_STRING(ascii_chars_b), 128) != 0) {\r\n",
      "            PyErr_Format(\r\n",
      "                PyExc_ValueError,\r\n",
      "                \"This module compiled with c_string_encoding=ascii, but default encoding '%.200s' is not a superset of ascii.\",\r\n",
      "                default_encoding_c);\r\n",
      "            goto bad;\r\n",
      "        }\r\n",
      "        Py_DECREF(ascii_chars_u);\r\n",
      "        Py_DECREF(ascii_chars_b);\r\n",
      "    }\r\n",
      "    Py_DECREF(default_encoding);\r\n",
      "    return 0;\r\n",
      "bad:\r\n",
      "    Py_XDECREF(default_encoding);\r\n",
      "    Py_XDECREF(ascii_chars_u);\r\n",
      "    Py_XDECREF(ascii_chars_b);\r\n",
      "    return -1;\r\n",
      "}\r\n",
      "#endif\r\n",
      "#if __PYX_DEFAULT_STRING_ENCODING_IS_DEFAULT && PY_MAJOR_VERSION >= 3\r\n",
      "#define __Pyx_PyUnicode_FromStringAndSize(c_str, size) PyUnicode_DecodeUTF8(c_str, size, NULL)\r\n",
      "#else\r\n",
      "#define __Pyx_PyUnicode_FromStringAndSize(c_str, size) PyUnicode_Decode(c_str, size, __PYX_DEFAULT_STRING_ENCODING, NULL)\r\n",
      "#if __PYX_DEFAULT_STRING_ENCODING_IS_DEFAULT\r\n",
      "static char* __PYX_DEFAULT_STRING_ENCODING;\r\n",
      "static int __Pyx_init_sys_getdefaultencoding_params(void) {\r\n",
      "    PyObject* sys;\r\n",
      "    PyObject* default_encoding = NULL;\r\n",
      "    char* default_encoding_c;\r\n",
      "    sys = PyImport_ImportModule(\"sys\");\r\n",
      "    if (!sys) goto bad;\r\n",
      "    default_encoding = PyObject_CallMethod(sys, (char*) (const char*) \"getdefaultencoding\", NULL);\r\n",
      "    Py_DECREF(sys);\r\n",
      "    if (!default_encoding) goto bad;\r\n",
      "    default_encoding_c = PyBytes_AsString(default_encoding);\r\n",
      "    if (!default_encoding_c) goto bad;\r\n",
      "    __PYX_DEFAULT_STRING_ENCODING = (char*) malloc(strlen(default_encoding_c));\r\n",
      "    if (!__PYX_DEFAULT_STRING_ENCODING) goto bad;\r\n",
      "    strcpy(__PYX_DEFAULT_STRING_ENCODING, default_encoding_c);\r\n",
      "    Py_DECREF(default_encoding);\r\n",
      "    return 0;\r\n",
      "bad:\r\n",
      "    Py_XDECREF(default_encoding);\r\n",
      "    return -1;\r\n",
      "}\r\n",
      "#endif\r\n",
      "#endif\r\n",
      "\r\n",
      "\r\n",
      "/* Test for GCC > 2.95 */\r\n",
      "#if defined(__GNUC__)     && (__GNUC__ > 2 || (__GNUC__ == 2 && (__GNUC_MINOR__ > 95)))\r\n",
      "  #define likely(x)   __builtin_expect(!!(x), 1)\r\n",
      "  #define unlikely(x) __builtin_expect(!!(x), 0)\r\n",
      "#else /* !__GNUC__ or GCC < 2.95 */\r\n",
      "  #define likely(x)   (x)\r\n",
      "  #define unlikely(x) (x)\r\n",
      "#endif /* __GNUC__ */\r\n",
      "\r\n",
      "static PyObject *__pyx_m;\r\n",
      "static PyObject *__pyx_d;\r\n",
      "static PyObject *__pyx_b;\r\n",
      "static PyObject *__pyx_empty_tuple;\r\n",
      "static PyObject *__pyx_empty_bytes;\r\n",
      "static PyObject *__pyx_empty_unicode;\r\n",
      "static int __pyx_lineno;\r\n",
      "static int __pyx_clineno = 0;\r\n",
      "static const char * __pyx_cfilenm= __FILE__;\r\n",
      "static const char *__pyx_filename;\r\n",
      "\r\n",
      "\r\n",
      "static const char *__pyx_f[] = {\r\n",
      "  \"primes.pyx\",\r\n",
      "};\r\n",
      "\r\n",
      "/*--- Type declarations ---*/\r\n",
      "\r\n",
      "/* --- Runtime support code (head) --- */\r\n",
      "/* Refnanny.proto */\r\n",
      "#ifndef CYTHON_REFNANNY\r\n",
      "  #define CYTHON_REFNANNY 0\r\n",
      "#endif\r\n",
      "#if CYTHON_REFNANNY\r\n",
      "  typedef struct {\r\n",
      "    void (*INCREF)(void*, PyObject*, int);\r\n",
      "    void (*DECREF)(void*, PyObject*, int);\r\n",
      "    void (*GOTREF)(void*, PyObject*, int);\r\n",
      "    void (*GIVEREF)(void*, PyObject*, int);\r\n",
      "    void* (*SetupContext)(const char*, int, const char*);\r\n",
      "    void (*FinishContext)(void**);\r\n",
      "  } __Pyx_RefNannyAPIStruct;\r\n",
      "  static __Pyx_RefNannyAPIStruct *__Pyx_RefNanny = NULL;\r\n",
      "  static __Pyx_RefNannyAPIStruct *__Pyx_RefNannyImportAPI(const char *modname);\r\n",
      "  #define __Pyx_RefNannyDeclarations void *__pyx_refnanny = NULL;\r\n",
      "#ifdef WITH_THREAD\r\n",
      "  #define __Pyx_RefNannySetupContext(name, acquire_gil)\\\r\n",
      "          if (acquire_gil) {\\\r\n",
      "              PyGILState_STATE __pyx_gilstate_save = PyGILState_Ensure();\\\r\n",
      "              __pyx_refnanny = __Pyx_RefNanny->SetupContext((name), __LINE__, __FILE__);\\\r\n",
      "              PyGILState_Release(__pyx_gilstate_save);\\\r\n",
      "          } else {\\\r\n",
      "              __pyx_refnanny = __Pyx_RefNanny->SetupContext((name), __LINE__, __FILE__);\\\r\n",
      "          }\r\n",
      "#else\r\n",
      "  #define __Pyx_RefNannySetupContext(name, acquire_gil)\\\r\n",
      "          __pyx_refnanny = __Pyx_RefNanny->SetupContext((name), __LINE__, __FILE__)\r\n",
      "#endif\r\n",
      "  #define __Pyx_RefNannyFinishContext()\\\r\n",
      "          __Pyx_RefNanny->FinishContext(&__pyx_refnanny)\r\n",
      "  #define __Pyx_INCREF(r)  __Pyx_RefNanny->INCREF(__pyx_refnanny, (PyObject *)(r), __LINE__)\r\n",
      "  #define __Pyx_DECREF(r)  __Pyx_RefNanny->DECREF(__pyx_refnanny, (PyObject *)(r), __LINE__)\r\n",
      "  #define __Pyx_GOTREF(r)  __Pyx_RefNanny->GOTREF(__pyx_refnanny, (PyObject *)(r), __LINE__)\r\n",
      "  #define __Pyx_GIVEREF(r) __Pyx_RefNanny->GIVEREF(__pyx_refnanny, (PyObject *)(r), __LINE__)\r\n",
      "  #define __Pyx_XINCREF(r)  do { if((r) != NULL) {__Pyx_INCREF(r); }} while(0)\r\n",
      "  #define __Pyx_XDECREF(r)  do { if((r) != NULL) {__Pyx_DECREF(r); }} while(0)\r\n",
      "  #define __Pyx_XGOTREF(r)  do { if((r) != NULL) {__Pyx_GOTREF(r); }} while(0)\r\n",
      "  #define __Pyx_XGIVEREF(r) do { if((r) != NULL) {__Pyx_GIVEREF(r);}} while(0)\r\n",
      "#else\r\n",
      "  #define __Pyx_RefNannyDeclarations\r\n",
      "  #define __Pyx_RefNannySetupContext(name, acquire_gil)\r\n",
      "  #define __Pyx_RefNannyFinishContext()\r\n",
      "  #define __Pyx_INCREF(r) Py_INCREF(r)\r\n",
      "  #define __Pyx_DECREF(r) Py_DECREF(r)\r\n",
      "  #define __Pyx_GOTREF(r)\r\n",
      "  #define __Pyx_GIVEREF(r)\r\n",
      "  #define __Pyx_XINCREF(r) Py_XINCREF(r)\r\n",
      "  #define __Pyx_XDECREF(r) Py_XDECREF(r)\r\n",
      "  #define __Pyx_XGOTREF(r)\r\n",
      "  #define __Pyx_XGIVEREF(r)\r\n",
      "#endif\r\n",
      "#define __Pyx_XDECREF_SET(r, v) do {\\\r\n",
      "        PyObject *tmp = (PyObject *) r;\\\r\n",
      "        r = v; __Pyx_XDECREF(tmp);\\\r\n",
      "    } while (0)\r\n",
      "#define __Pyx_DECREF_SET(r, v) do {\\\r\n",
      "        PyObject *tmp = (PyObject *) r;\\\r\n",
      "        r = v; __Pyx_DECREF(tmp);\\\r\n",
      "    } while (0)\r\n",
      "#define __Pyx_CLEAR(r)    do { PyObject* tmp = ((PyObject*)(r)); r = NULL; __Pyx_DECREF(tmp);} while(0)\r\n",
      "#define __Pyx_XCLEAR(r)   do { if((r) != NULL) {PyObject* tmp = ((PyObject*)(r)); r = NULL; __Pyx_DECREF(tmp);}} while(0)\r\n",
      "\r\n",
      "/* None.proto */\r\n",
      "static CYTHON_INLINE int __Pyx_mod_int(int, int);\r\n",
      "\r\n",
      "/* ListAppend.proto */\r\n",
      "#if CYTHON_USE_PYLIST_INTERNALS && CYTHON_ASSUME_SAFE_MACROS\r\n",
      "static CYTHON_INLINE int __Pyx_PyList_Append(PyObject* list, PyObject* x) {\r\n",
      "    PyListObject* L = (PyListObject*) list;\r\n",
      "    Py_ssize_t len = Py_SIZE(list);\r\n",
      "    if (likely(L->allocated > len) & likely(len > (L->allocated >> 1))) {\r\n",
      "        Py_INCREF(x);\r\n",
      "        PyList_SET_ITEM(list, len, x);\r\n",
      "        Py_SIZE(list) = len+1;\r\n",
      "        return 0;\r\n",
      "    }\r\n",
      "    return PyList_Append(list, x);\r\n",
      "}\r\n",
      "#else\r\n",
      "#define __Pyx_PyList_Append(L,x) PyList_Append(L,x)\r\n",
      "#endif\r\n",
      "\r\n",
      "/* CodeObjectCache.proto */\r\n",
      "typedef struct {\r\n",
      "    PyCodeObject* code_object;\r\n",
      "    int code_line;\r\n",
      "} __Pyx_CodeObjectCacheEntry;\r\n",
      "struct __Pyx_CodeObjectCache {\r\n",
      "    int count;\r\n",
      "    int max_count;\r\n",
      "    __Pyx_CodeObjectCacheEntry* entries;\r\n",
      "};\r\n",
      "static struct __Pyx_CodeObjectCache __pyx_code_cache = {0,0,NULL};\r\n",
      "static int __pyx_bisect_code_objects(__Pyx_CodeObjectCacheEntry* entries, int count, int code_line);\r\n",
      "static PyCodeObject *__pyx_find_code_object(int code_line);\r\n",
      "static void __pyx_insert_code_object(int code_line, PyCodeObject* code_object);\r\n",
      "\r\n",
      "/* AddTraceback.proto */\r\n",
      "static void __Pyx_AddTraceback(const char *funcname, int c_line,\r\n",
      "                               int py_line, const char *filename);\r\n",
      "\r\n",
      "/* CIntToPy.proto */\r\n",
      "static CYTHON_INLINE PyObject* __Pyx_PyInt_From_int(int value);\r\n",
      "\r\n",
      "/* CIntFromPy.proto */\r\n",
      "static CYTHON_INLINE int __Pyx_PyInt_As_int(PyObject *);\r\n",
      "\r\n",
      "/* CIntToPy.proto */\r\n",
      "static CYTHON_INLINE PyObject* __Pyx_PyInt_From_long(long value);\r\n",
      "\r\n",
      "/* CIntFromPy.proto */\r\n",
      "static CYTHON_INLINE long __Pyx_PyInt_As_long(PyObject *);\r\n",
      "\r\n",
      "/* CheckBinaryVersion.proto */\r\n",
      "static int __Pyx_check_binary_version(void);\r\n",
      "\r\n",
      "/* InitStrings.proto */\r\n",
      "static int __Pyx_InitStrings(__Pyx_StringTabEntry *t);\r\n",
      "\r\n",
      "\r\n",
      "/* Module declarations from 'primes' */\r\n",
      "#define __Pyx_MODULE_NAME \"primes\"\r\n",
      "int __pyx_module_is_main_primes = 0;\r\n",
      "\r\n",
      "/* Implementation of 'primes' */\r\n",
      "static const char __pyx_k_i[] = \"i\";\r\n",
      "static const char __pyx_k_k[] = \"k\";\r\n",
      "static const char __pyx_k_n[] = \"n\";\r\n",
      "static const char __pyx_k_p[] = \"p\";\r\n",
      "static const char __pyx_k_kmax[] = \"kmax\";\r\n",
      "static const char __pyx_k_main[] = \"__main__\";\r\n",
      "static const char __pyx_k_test[] = \"__test__\";\r\n",
      "static const char __pyx_k_primes[] = \"primes\";\r\n",
      "static const char __pyx_k_result[] = \"result\";\r\n",
      "static const char __pyx_k_cprimes[] = \"cprimes\";\r\n",
      "static const char __pyx_k_Users_yoavram_Work_Py4Eng_scrip[] = \"/Users/yoavram/Work/Py4Eng/scripts/cython/primes.pyx\";\r\n",
      "static PyObject *__pyx_kp_s_Users_yoavram_Work_Py4Eng_scrip;\r\n",
      "static PyObject *__pyx_n_s_cprimes;\r\n",
      "static PyObject *__pyx_n_s_i;\r\n",
      "static PyObject *__pyx_n_s_k;\r\n",
      "static PyObject *__pyx_n_s_kmax;\r\n",
      "static PyObject *__pyx_n_s_main;\r\n",
      "static PyObject *__pyx_n_s_n;\r\n",
      "static PyObject *__pyx_n_s_p;\r\n",
      "static PyObject *__pyx_n_s_primes;\r\n",
      "static PyObject *__pyx_n_s_result;\r\n",
      "static PyObject *__pyx_n_s_test;\r\n",
      "static PyObject *__pyx_pf_6primes_cprimes(CYTHON_UNUSED PyObject *__pyx_self, int __pyx_v_kmax); /* proto */\r\n",
      "static PyObject *__pyx_tuple_;\r\n",
      "static PyObject *__pyx_codeobj__2;\r\n",
      "\r\n",
      "/* \"primes.pyx\":1\r\n",
      " * def cprimes(int kmax):             # <<<<<<<<<<<<<<\r\n",
      " *     cdef int n, k, i\r\n",
      " *     cdef int p[1000]\r\n",
      " */\r\n",
      "\r\n",
      "/* Python wrapper */\r\n",
      "static PyObject *__pyx_pw_6primes_1cprimes(PyObject *__pyx_self, PyObject *__pyx_arg_kmax); /*proto*/\r\n",
      "static PyMethodDef __pyx_mdef_6primes_1cprimes = {\"cprimes\", (PyCFunction)__pyx_pw_6primes_1cprimes, METH_O, 0};\r\n",
      "static PyObject *__pyx_pw_6primes_1cprimes(PyObject *__pyx_self, PyObject *__pyx_arg_kmax) {\r\n",
      "  int __pyx_v_kmax;\r\n",
      "  PyObject *__pyx_r = 0;\r\n",
      "  __Pyx_RefNannyDeclarations\r\n",
      "  __Pyx_RefNannySetupContext(\"cprimes (wrapper)\", 0);\r\n",
      "  assert(__pyx_arg_kmax); {\r\n",
      "    __pyx_v_kmax = __Pyx_PyInt_As_int(__pyx_arg_kmax); if (unlikely((__pyx_v_kmax == (int)-1) && PyErr_Occurred())) __PYX_ERR(0, 1, __pyx_L3_error)\r\n",
      "  }\r\n",
      "  goto __pyx_L4_argument_unpacking_done;\r\n",
      "  __pyx_L3_error:;\r\n",
      "  __Pyx_AddTraceback(\"primes.cprimes\", __pyx_clineno, __pyx_lineno, __pyx_filename);\r\n",
      "  __Pyx_RefNannyFinishContext();\r\n",
      "  return NULL;\r\n",
      "  __pyx_L4_argument_unpacking_done:;\r\n",
      "  __pyx_r = __pyx_pf_6primes_cprimes(__pyx_self, ((int)__pyx_v_kmax));\r\n",
      "\r\n",
      "  /* function exit code */\r\n",
      "  __Pyx_RefNannyFinishContext();\r\n",
      "  return __pyx_r;\r\n",
      "}\r\n",
      "\r\n",
      "static PyObject *__pyx_pf_6primes_cprimes(CYTHON_UNUSED PyObject *__pyx_self, int __pyx_v_kmax) {\r\n",
      "  int __pyx_v_n;\r\n",
      "  int __pyx_v_k;\r\n",
      "  int __pyx_v_i;\r\n",
      "  int __pyx_v_p[0x3E8];\r\n",
      "  PyObject *__pyx_v_result = NULL;\r\n",
      "  PyObject *__pyx_r = NULL;\r\n",
      "  __Pyx_RefNannyDeclarations\r\n",
      "  PyObject *__pyx_t_1 = NULL;\r\n",
      "  int __pyx_t_2;\r\n",
      "  int __pyx_t_3;\r\n",
      "  int __pyx_t_4;\r\n",
      "  __Pyx_RefNannySetupContext(\"cprimes\", 0);\r\n",
      "\r\n",
      "  /* \"primes.pyx\":4\r\n",
      " *     cdef int n, k, i\r\n",
      " *     cdef int p[1000]\r\n",
      " *     result = []             # <<<<<<<<<<<<<<\r\n",
      " *     if kmax > 1000:\r\n",
      " *         kmax = 1000\r\n",
      " */\r\n",
      "  __pyx_t_1 = PyList_New(0); if (unlikely(!__pyx_t_1)) __PYX_ERR(0, 4, __pyx_L1_error)\r\n",
      "  __Pyx_GOTREF(__pyx_t_1);\r\n",
      "  __pyx_v_result = ((PyObject*)__pyx_t_1);\r\n",
      "  __pyx_t_1 = 0;\r\n",
      "\r\n",
      "  /* \"primes.pyx\":5\r\n",
      " *     cdef int p[1000]\r\n",
      " *     result = []\r\n",
      " *     if kmax > 1000:             # <<<<<<<<<<<<<<\r\n",
      " *         kmax = 1000\r\n",
      " *     k = 0\r\n",
      " */\r\n",
      "  __pyx_t_2 = ((__pyx_v_kmax > 0x3E8) != 0);\r\n",
      "  if (__pyx_t_2) {\r\n",
      "\r\n",
      "    /* \"primes.pyx\":6\r\n",
      " *     result = []\r\n",
      " *     if kmax > 1000:\r\n",
      " *         kmax = 1000             # <<<<<<<<<<<<<<\r\n",
      " *     k = 0\r\n",
      " *     n = 2\r\n",
      " */\r\n",
      "    __pyx_v_kmax = 0x3E8;\r\n",
      "\r\n",
      "    /* \"primes.pyx\":5\r\n",
      " *     cdef int p[1000]\r\n",
      " *     result = []\r\n",
      " *     if kmax > 1000:             # <<<<<<<<<<<<<<\r\n",
      " *         kmax = 1000\r\n",
      " *     k = 0\r\n",
      " */\r\n",
      "  }\r\n",
      "\r\n",
      "  /* \"primes.pyx\":7\r\n",
      " *     if kmax > 1000:\r\n",
      " *         kmax = 1000\r\n",
      " *     k = 0             # <<<<<<<<<<<<<<\r\n",
      " *     n = 2\r\n",
      " *     while k < kmax:\r\n",
      " */\r\n",
      "  __pyx_v_k = 0;\r\n",
      "\r\n",
      "  /* \"primes.pyx\":8\r\n",
      " *         kmax = 1000\r\n",
      " *     k = 0\r\n",
      " *     n = 2             # <<<<<<<<<<<<<<\r\n",
      " *     while k < kmax:\r\n",
      " *         i = 0\r\n",
      " */\r\n",
      "  __pyx_v_n = 2;\r\n",
      "\r\n",
      "  /* \"primes.pyx\":9\r\n",
      " *     k = 0\r\n",
      " *     n = 2\r\n",
      " *     while k < kmax:             # <<<<<<<<<<<<<<\r\n",
      " *         i = 0\r\n",
      " *         while i < k and n % p[i] != 0:\r\n",
      " */\r\n",
      "  while (1) {\r\n",
      "    __pyx_t_2 = ((__pyx_v_k < __pyx_v_kmax) != 0);\r\n",
      "    if (!__pyx_t_2) break;\r\n",
      "\r\n",
      "    /* \"primes.pyx\":10\r\n",
      " *     n = 2\r\n",
      " *     while k < kmax:\r\n",
      " *         i = 0             # <<<<<<<<<<<<<<\r\n",
      " *         while i < k and n % p[i] != 0:\r\n",
      " *             i = i + 1\r\n",
      " */\r\n",
      "    __pyx_v_i = 0;\r\n",
      "\r\n",
      "    /* \"primes.pyx\":11\r\n",
      " *     while k < kmax:\r\n",
      " *         i = 0\r\n",
      " *         while i < k and n % p[i] != 0:             # <<<<<<<<<<<<<<\r\n",
      " *             i = i + 1\r\n",
      " *         if i == k:\r\n",
      " */\r\n",
      "    while (1) {\r\n",
      "      __pyx_t_3 = ((__pyx_v_i < __pyx_v_k) != 0);\r\n",
      "      if (__pyx_t_3) {\r\n",
      "      } else {\r\n",
      "        __pyx_t_2 = __pyx_t_3;\r\n",
      "        goto __pyx_L8_bool_binop_done;\r\n",
      "      }\r\n",
      "      if (unlikely((__pyx_v_p[__pyx_v_i]) == 0)) {\r\n",
      "        PyErr_SetString(PyExc_ZeroDivisionError, \"integer division or modulo by zero\");\r\n",
      "        __PYX_ERR(0, 11, __pyx_L1_error)\r\n",
      "      }\r\n",
      "      __pyx_t_3 = ((__Pyx_mod_int(__pyx_v_n, (__pyx_v_p[__pyx_v_i])) != 0) != 0);\r\n",
      "      __pyx_t_2 = __pyx_t_3;\r\n",
      "      __pyx_L8_bool_binop_done:;\r\n",
      "      if (!__pyx_t_2) break;\r\n",
      "\r\n",
      "      /* \"primes.pyx\":12\r\n",
      " *         i = 0\r\n",
      " *         while i < k and n % p[i] != 0:\r\n",
      " *             i = i + 1             # <<<<<<<<<<<<<<\r\n",
      " *         if i == k:\r\n",
      " *             p[k] = n\r\n",
      " */\r\n",
      "      __pyx_v_i = (__pyx_v_i + 1);\r\n",
      "    }\r\n",
      "\r\n",
      "    /* \"primes.pyx\":13\r\n",
      " *         while i < k and n % p[i] != 0:\r\n",
      " *             i = i + 1\r\n",
      " *         if i == k:             # <<<<<<<<<<<<<<\r\n",
      " *             p[k] = n\r\n",
      " *             k = k + 1\r\n",
      " */\r\n",
      "    __pyx_t_2 = ((__pyx_v_i == __pyx_v_k) != 0);\r\n",
      "    if (__pyx_t_2) {\r\n",
      "\r\n",
      "      /* \"primes.pyx\":14\r\n",
      " *             i = i + 1\r\n",
      " *         if i == k:\r\n",
      " *             p[k] = n             # <<<<<<<<<<<<<<\r\n",
      " *             k = k + 1\r\n",
      " *             result.append(n)\r\n",
      " */\r\n",
      "      (__pyx_v_p[__pyx_v_k]) = __pyx_v_n;\r\n",
      "\r\n",
      "      /* \"primes.pyx\":15\r\n",
      " *         if i == k:\r\n",
      " *             p[k] = n\r\n",
      " *             k = k + 1             # <<<<<<<<<<<<<<\r\n",
      " *             result.append(n)\r\n",
      " *         n = n + 1\r\n",
      " */\r\n",
      "      __pyx_v_k = (__pyx_v_k + 1);\r\n",
      "\r\n",
      "      /* \"primes.pyx\":16\r\n",
      " *             p[k] = n\r\n",
      " *             k = k + 1\r\n",
      " *             result.append(n)             # <<<<<<<<<<<<<<\r\n",
      " *         n = n + 1\r\n",
      " *     return result\r\n",
      " */\r\n",
      "      __pyx_t_1 = __Pyx_PyInt_From_int(__pyx_v_n); if (unlikely(!__pyx_t_1)) __PYX_ERR(0, 16, __pyx_L1_error)\r\n",
      "      __Pyx_GOTREF(__pyx_t_1);\r\n",
      "      __pyx_t_4 = __Pyx_PyList_Append(__pyx_v_result, __pyx_t_1); if (unlikely(__pyx_t_4 == -1)) __PYX_ERR(0, 16, __pyx_L1_error)\r\n",
      "      __Pyx_DECREF(__pyx_t_1); __pyx_t_1 = 0;\r\n",
      "\r\n",
      "      /* \"primes.pyx\":13\r\n",
      " *         while i < k and n % p[i] != 0:\r\n",
      " *             i = i + 1\r\n",
      " *         if i == k:             # <<<<<<<<<<<<<<\r\n",
      " *             p[k] = n\r\n",
      " *             k = k + 1\r\n",
      " */\r\n",
      "    }\r\n",
      "\r\n",
      "    /* \"primes.pyx\":17\r\n",
      " *             k = k + 1\r\n",
      " *             result.append(n)\r\n",
      " *         n = n + 1             # <<<<<<<<<<<<<<\r\n",
      " *     return result\r\n",
      " */\r\n",
      "    __pyx_v_n = (__pyx_v_n + 1);\r\n",
      "  }\r\n",
      "\r\n",
      "  /* \"primes.pyx\":18\r\n",
      " *             result.append(n)\r\n",
      " *         n = n + 1\r\n",
      " *     return result             # <<<<<<<<<<<<<<\r\n",
      " */\r\n",
      "  __Pyx_XDECREF(__pyx_r);\r\n",
      "  __Pyx_INCREF(__pyx_v_result);\r\n",
      "  __pyx_r = __pyx_v_result;\r\n",
      "  goto __pyx_L0;\r\n",
      "\r\n",
      "  /* \"primes.pyx\":1\r\n",
      " * def cprimes(int kmax):             # <<<<<<<<<<<<<<\r\n",
      " *     cdef int n, k, i\r\n",
      " *     cdef int p[1000]\r\n",
      " */\r\n",
      "\r\n",
      "  /* function exit code */\r\n",
      "  __pyx_L1_error:;\r\n",
      "  __Pyx_XDECREF(__pyx_t_1);\r\n",
      "  __Pyx_AddTraceback(\"primes.cprimes\", __pyx_clineno, __pyx_lineno, __pyx_filename);\r\n",
      "  __pyx_r = NULL;\r\n",
      "  __pyx_L0:;\r\n",
      "  __Pyx_XDECREF(__pyx_v_result);\r\n",
      "  __Pyx_XGIVEREF(__pyx_r);\r\n",
      "  __Pyx_RefNannyFinishContext();\r\n",
      "  return __pyx_r;\r\n",
      "}\r\n",
      "\r\n",
      "static PyMethodDef __pyx_methods[] = {\r\n",
      "  {0, 0, 0, 0}\r\n",
      "};\r\n",
      "\r\n",
      "#if PY_MAJOR_VERSION >= 3\r\n",
      "static struct PyModuleDef __pyx_moduledef = {\r\n",
      "  #if PY_VERSION_HEX < 0x03020000\r\n",
      "    { PyObject_HEAD_INIT(NULL) NULL, 0, NULL },\r\n",
      "  #else\r\n",
      "    PyModuleDef_HEAD_INIT,\r\n",
      "  #endif\r\n",
      "    \"primes\",\r\n",
      "    0, /* m_doc */\r\n",
      "    -1, /* m_size */\r\n",
      "    __pyx_methods /* m_methods */,\r\n",
      "    NULL, /* m_reload */\r\n",
      "    NULL, /* m_traverse */\r\n",
      "    NULL, /* m_clear */\r\n",
      "    NULL /* m_free */\r\n",
      "};\r\n",
      "#endif\r\n",
      "\r\n",
      "static __Pyx_StringTabEntry __pyx_string_tab[] = {\r\n",
      "  {&__pyx_kp_s_Users_yoavram_Work_Py4Eng_scrip, __pyx_k_Users_yoavram_Work_Py4Eng_scrip, sizeof(__pyx_k_Users_yoavram_Work_Py4Eng_scrip), 0, 0, 1, 0},\r\n",
      "  {&__pyx_n_s_cprimes, __pyx_k_cprimes, sizeof(__pyx_k_cprimes), 0, 0, 1, 1},\r\n",
      "  {&__pyx_n_s_i, __pyx_k_i, sizeof(__pyx_k_i), 0, 0, 1, 1},\r\n",
      "  {&__pyx_n_s_k, __pyx_k_k, sizeof(__pyx_k_k), 0, 0, 1, 1},\r\n",
      "  {&__pyx_n_s_kmax, __pyx_k_kmax, sizeof(__pyx_k_kmax), 0, 0, 1, 1},\r\n",
      "  {&__pyx_n_s_main, __pyx_k_main, sizeof(__pyx_k_main), 0, 0, 1, 1},\r\n",
      "  {&__pyx_n_s_n, __pyx_k_n, sizeof(__pyx_k_n), 0, 0, 1, 1},\r\n",
      "  {&__pyx_n_s_p, __pyx_k_p, sizeof(__pyx_k_p), 0, 0, 1, 1},\r\n",
      "  {&__pyx_n_s_primes, __pyx_k_primes, sizeof(__pyx_k_primes), 0, 0, 1, 1},\r\n",
      "  {&__pyx_n_s_result, __pyx_k_result, sizeof(__pyx_k_result), 0, 0, 1, 1},\r\n",
      "  {&__pyx_n_s_test, __pyx_k_test, sizeof(__pyx_k_test), 0, 0, 1, 1},\r",
      "\r\n",
      "  {0, 0, 0, 0, 0, 0, 0}\r\n",
      "};\r\n",
      "static int __Pyx_InitCachedBuiltins(void) {\r\n",
      "  return 0;\r\n",
      "}\r\n",
      "\r\n",
      "static int __Pyx_InitCachedConstants(void) {\r\n",
      "  __Pyx_RefNannyDeclarations\r\n",
      "  __Pyx_RefNannySetupContext(\"__Pyx_InitCachedConstants\", 0);\r\n",
      "\r\n",
      "  /* \"primes.pyx\":1\r\n",
      " * def cprimes(int kmax):             # <<<<<<<<<<<<<<\r\n",
      " *     cdef int n, k, i\r\n",
      " *     cdef int p[1000]\r\n",
      " */\r\n",
      "  __pyx_tuple_ = PyTuple_Pack(7, __pyx_n_s_kmax, __pyx_n_s_kmax, __pyx_n_s_n, __pyx_n_s_k, __pyx_n_s_i, __pyx_n_s_p, __pyx_n_s_result); if (unlikely(!__pyx_tuple_)) __PYX_ERR(0, 1, __pyx_L1_error)\r\n",
      "  __Pyx_GOTREF(__pyx_tuple_);\r\n",
      "  __Pyx_GIVEREF(__pyx_tuple_);\r\n",
      "  __pyx_codeobj__2 = (PyObject*)__Pyx_PyCode_New(1, 0, 7, 0, 0, __pyx_empty_bytes, __pyx_empty_tuple, __pyx_empty_tuple, __pyx_tuple_, __pyx_empty_tuple, __pyx_empty_tuple, __pyx_kp_s_Users_yoavram_Work_Py4Eng_scrip, __pyx_n_s_cprimes, 1, __pyx_empty_bytes); if (unlikely(!__pyx_codeobj__2)) __PYX_ERR(0, 1, __pyx_L1_error)\r\n",
      "  __Pyx_RefNannyFinishContext();\r\n",
      "  return 0;\r\n",
      "  __pyx_L1_error:;\r\n",
      "  __Pyx_RefNannyFinishContext();\r\n",
      "  return -1;\r\n",
      "}\r\n",
      "\r\n",
      "static int __Pyx_InitGlobals(void) {\r\n",
      "  if (__Pyx_InitStrings(__pyx_string_tab) < 0) __PYX_ERR(0, 1, __pyx_L1_error);\r\n",
      "  return 0;\r\n",
      "  __pyx_L1_error:;\r\n",
      "  return -1;\r\n",
      "}\r\n",
      "\r\n",
      "#if PY_MAJOR_VERSION < 3\r\n",
      "PyMODINIT_FUNC initprimes(void); /*proto*/\r\n",
      "PyMODINIT_FUNC initprimes(void)\r\n",
      "#else\r\n",
      "PyMODINIT_FUNC PyInit_primes(void); /*proto*/\r\n",
      "PyMODINIT_FUNC PyInit_primes(void)\r\n",
      "#endif\r\n",
      "{\r\n",
      "  PyObject *__pyx_t_1 = NULL;\r\n",
      "  __Pyx_RefNannyDeclarations\r\n",
      "  #if CYTHON_REFNANNY\r\n",
      "  __Pyx_RefNanny = __Pyx_RefNannyImportAPI(\"refnanny\");\r\n",
      "  if (!__Pyx_RefNanny) {\r\n",
      "      PyErr_Clear();\r\n",
      "      __Pyx_RefNanny = __Pyx_RefNannyImportAPI(\"Cython.Runtime.refnanny\");\r\n",
      "      if (!__Pyx_RefNanny)\r\n",
      "          Py_FatalError(\"failed to import 'refnanny' module\");\r\n",
      "  }\r\n",
      "  #endif\r\n",
      "  __Pyx_RefNannySetupContext(\"PyMODINIT_FUNC PyInit_primes(void)\", 0);\r\n",
      "  if (__Pyx_check_binary_version() < 0) __PYX_ERR(0, 1, __pyx_L1_error)\r\n",
      "  __pyx_empty_tuple = PyTuple_New(0); if (unlikely(!__pyx_empty_tuple)) __PYX_ERR(0, 1, __pyx_L1_error)\r\n",
      "  __pyx_empty_bytes = PyBytes_FromStringAndSize(\"\", 0); if (unlikely(!__pyx_empty_bytes)) __PYX_ERR(0, 1, __pyx_L1_error)\r\n",
      "  __pyx_empty_unicode = PyUnicode_FromStringAndSize(\"\", 0); if (unlikely(!__pyx_empty_unicode)) __PYX_ERR(0, 1, __pyx_L1_error)\r\n",
      "  #ifdef __Pyx_CyFunction_USED\r\n",
      "  if (__pyx_CyFunction_init() < 0) __PYX_ERR(0, 1, __pyx_L1_error)\r\n",
      "  #endif\r\n",
      "  #ifdef __Pyx_FusedFunction_USED\r\n",
      "  if (__pyx_FusedFunction_init() < 0) __PYX_ERR(0, 1, __pyx_L1_error)\r\n",
      "  #endif\r\n",
      "  #ifdef __Pyx_Coroutine_USED\r\n",
      "  if (__pyx_Coroutine_init() < 0) __PYX_ERR(0, 1, __pyx_L1_error)\r\n",
      "  #endif\r\n",
      "  #ifdef __Pyx_Generator_USED\r\n",
      "  if (__pyx_Generator_init() < 0) __PYX_ERR(0, 1, __pyx_L1_error)\r\n",
      "  #endif\r\n",
      "  #ifdef __Pyx_StopAsyncIteration_USED\r\n",
      "  if (__pyx_StopAsyncIteration_init() < 0) __PYX_ERR(0, 1, __pyx_L1_error)\r\n",
      "  #endif\r\n",
      "  /*--- Library function declarations ---*/\r\n",
      "  /*--- Threads initialization code ---*/\r\n",
      "  #if defined(__PYX_FORCE_INIT_THREADS) && __PYX_FORCE_INIT_THREADS\r\n",
      "  #ifdef WITH_THREAD /* Python build with threading support? */\r\n",
      "  PyEval_InitThreads();\r\n",
      "  #endif\r\n",
      "  #endif\r\n",
      "  /*--- Module creation code ---*/\r\n",
      "  #if PY_MAJOR_VERSION < 3\r\n",
      "  __pyx_m = Py_InitModule4(\"primes\", __pyx_methods, 0, 0, PYTHON_API_VERSION); Py_XINCREF(__pyx_m);\r\n",
      "  #else\r\n",
      "  __pyx_m = PyModule_Create(&__pyx_moduledef);\r\n",
      "  #endif\r\n",
      "  if (unlikely(!__pyx_m)) __PYX_ERR(0, 1, __pyx_L1_error)\r\n",
      "  __pyx_d = PyModule_GetDict(__pyx_m); if (unlikely(!__pyx_d)) __PYX_ERR(0, 1, __pyx_L1_error)\r\n",
      "  Py_INCREF(__pyx_d);\r\n",
      "  __pyx_b = PyImport_AddModule(__Pyx_BUILTIN_MODULE_NAME); if (unlikely(!__pyx_b)) __PYX_ERR(0, 1, __pyx_L1_error)\r\n",
      "  #if CYTHON_COMPILING_IN_PYPY\r\n",
      "  Py_INCREF(__pyx_b);\r\n",
      "  #endif\r\n",
      "  if (PyObject_SetAttrString(__pyx_m, \"__builtins__\", __pyx_b) < 0) __PYX_ERR(0, 1, __pyx_L1_error);\r\n",
      "  /*--- Initialize various global constants etc. ---*/\r\n",
      "  if (__Pyx_InitGlobals() < 0) __PYX_ERR(0, 1, __pyx_L1_error)\r\n",
      "  #if PY_MAJOR_VERSION < 3 && (__PYX_DEFAULT_STRING_ENCODING_IS_ASCII || __PYX_DEFAULT_STRING_ENCODING_IS_DEFAULT)\r\n",
      "  if (__Pyx_init_sys_getdefaultencoding_params() < 0) __PYX_ERR(0, 1, __pyx_L1_error)\r\n",
      "  #endif\r\n",
      "  if (__pyx_module_is_main_primes) {\r\n",
      "    if (PyObject_SetAttrString(__pyx_m, \"__name__\", __pyx_n_s_main) < 0) __PYX_ERR(0, 1, __pyx_L1_error)\r\n",
      "  }\r\n",
      "  #if PY_MAJOR_VERSION >= 3\r\n",
      "  {\r\n",
      "    PyObject *modules = PyImport_GetModuleDict(); if (unlikely(!modules)) __PYX_ERR(0, 1, __pyx_L1_error)\r\n",
      "    if (!PyDict_GetItemString(modules, \"primes\")) {\r\n",
      "      if (unlikely(PyDict_SetItemString(modules, \"primes\", __pyx_m) < 0)) __PYX_ERR(0, 1, __pyx_L1_error)\r\n",
      "    }\r\n",
      "  }\r\n",
      "  #endif\r\n",
      "  /*--- Builtin init code ---*/\r\n",
      "  if (__Pyx_InitCachedBuiltins() < 0) __PYX_ERR(0, 1, __pyx_L1_error)\r\n",
      "  /*--- Constants init code ---*/\r\n",
      "  if (__Pyx_InitCachedConstants() < 0) __PYX_ERR(0, 1, __pyx_L1_error)\r\n",
      "  /*--- Global init code ---*/\r\n",
      "  /*--- Variable export code ---*/\r\n",
      "  /*--- Function export code ---*/\r\n",
      "  /*--- Type init code ---*/\r\n",
      "  /*--- Type import code ---*/\r\n",
      "  /*--- Variable import code ---*/\r\n",
      "  /*--- Function import code ---*/\r\n",
      "  /*--- Execution code ---*/\r\n",
      "  #if defined(__Pyx_Generator_USED) || defined(__Pyx_Coroutine_USED)\r\n",
      "  if (__Pyx_patch_abc() < 0) __PYX_ERR(0, 1, __pyx_L1_error)\r\n",
      "  #endif\r\n",
      "\r\n",
      "  /* \"primes.pyx\":1\r\n",
      " * def cprimes(int kmax):             # <<<<<<<<<<<<<<\r\n",
      " *     cdef int n, k, i\r\n",
      " *     cdef int p[1000]\r\n",
      " */\r\n",
      "  __pyx_t_1 = PyCFunction_NewEx(&__pyx_mdef_6primes_1cprimes, NULL, __pyx_n_s_primes); if (unlikely(!__pyx_t_1)) __PYX_ERR(0, 1, __pyx_L1_error)\r\n",
      "  __Pyx_GOTREF(__pyx_t_1);\r\n",
      "  if (PyDict_SetItem(__pyx_d, __pyx_n_s_cprimes, __pyx_t_1) < 0) __PYX_ERR(0, 1, __pyx_L1_error)\r\n",
      "  __Pyx_DECREF(__pyx_t_1); __pyx_t_1 = 0;\r\n",
      "  __pyx_t_1 = PyDict_New(); if (unlikely(!__pyx_t_1)) __PYX_ERR(0, 1, __pyx_L1_error)\r\n",
      "  __Pyx_GOTREF(__pyx_t_1);\r\n",
      "  if (PyDict_SetItem(__pyx_d, __pyx_n_s_test, __pyx_t_1) < 0) __PYX_ERR(0, 1, __pyx_L1_error)\r\n",
      "  __Pyx_DECREF(__pyx_t_1); __pyx_t_1 = 0;\r\n",
      "\r\n",
      "  /*--- Wrapped vars code ---*/\r\n",
      "\r\n",
      "  goto __pyx_L0;\r\n",
      "  __pyx_L1_error:;\r\n",
      "  __Pyx_XDECREF(__pyx_t_1);\r\n",
      "  if (__pyx_m) {\r\n",
      "    if (__pyx_d) {\r\n",
      "      __Pyx_AddTraceback(\"init primes\", __pyx_clineno, __pyx_lineno, __pyx_filename);\r\n",
      "    }\r\n",
      "    Py_DECREF(__pyx_m); __pyx_m = 0;\r\n",
      "  } else if (!PyErr_Occurred()) {\r\n",
      "    PyErr_SetString(PyExc_ImportError, \"init primes\");\r\n",
      "  }\r\n",
      "  __pyx_L0:;\r\n",
      "  __Pyx_RefNannyFinishContext();\r\n",
      "  #if PY_MAJOR_VERSION < 3\r\n",
      "  return;\r\n",
      "  #else\r\n",
      "  return __pyx_m;\r\n",
      "  #endif\r\n",
      "}\r\n",
      "\r\n",
      "/* --- Runtime support code --- */\r\n",
      "/* Refnanny */\r\n",
      "#if CYTHON_REFNANNY\r\n",
      "static __Pyx_RefNannyAPIStruct *__Pyx_RefNannyImportAPI(const char *modname) {\r\n",
      "    PyObject *m = NULL, *p = NULL;\r\n",
      "    void *r = NULL;\r\n",
      "    m = PyImport_ImportModule((char *)modname);\r\n",
      "    if (!m) goto end;\r\n",
      "    p = PyObject_GetAttrString(m, (char *)\"RefNannyAPI\");\r\n",
      "    if (!p) goto end;\r\n",
      "    r = PyLong_AsVoidPtr(p);\r\n",
      "end:\r\n",
      "    Py_XDECREF(p);\r\n",
      "    Py_XDECREF(m);\r\n",
      "    return (__Pyx_RefNannyAPIStruct *)r;\r\n",
      "}\r\n",
      "#endif\r\n",
      "\r\n",
      "/* None */\r\n",
      "static CYTHON_INLINE int __Pyx_mod_int(int a, int b) {\r\n",
      "    int r = a % b;\r\n",
      "    r += ((r != 0) & ((r ^ b) < 0)) * b;\r\n",
      "    return r;\r\n",
      "}\r\n",
      "\r\n",
      "/* CodeObjectCache */\r\n",
      "static int __pyx_bisect_code_objects(__Pyx_CodeObjectCacheEntry* entries, int count, int code_line) {\r\n",
      "    int start = 0, mid = 0, end = count - 1;\r\n",
      "    if (end >= 0 && code_line > entries[end].code_line) {\r\n",
      "        return count;\r\n",
      "    }\r\n",
      "    while (start < end) {\r\n",
      "        mid = start + (end - start) / 2;\r\n",
      "        if (code_line < entries[mid].code_line) {\r\n",
      "            end = mid;\r\n",
      "        } else if (code_line > entries[mid].code_line) {\r\n",
      "             start = mid + 1;\r\n",
      "        } else {\r\n",
      "            return mid;\r\n",
      "        }\r\n",
      "    }\r\n",
      "    if (code_line <= entries[mid].code_line) {\r\n",
      "        return mid;\r\n",
      "    } else {\r\n",
      "        return mid + 1;\r\n",
      "    }\r\n",
      "}\r\n",
      "static PyCodeObject *__pyx_find_code_object(int code_line) {\r\n",
      "    PyCodeObject* code_object;\r\n",
      "    int pos;\r\n",
      "    if (unlikely(!code_line) || unlikely(!__pyx_code_cache.entries)) {\r\n",
      "        return NULL;\r\n",
      "    }\r\n",
      "    pos = __pyx_bisect_code_objects(__pyx_code_cache.entries, __pyx_code_cache.count, code_line);\r\n",
      "    if (unlikely(pos >= __pyx_code_cache.count) || unlikely(__pyx_code_cache.entries[pos].code_line != code_line)) {\r\n",
      "        return NULL;\r\n",
      "    }\r\n",
      "    code_object = __pyx_code_cache.entries[pos].code_object;\r\n",
      "    Py_INCREF(code_object);\r\n",
      "    return code_object;\r\n",
      "}\r\n",
      "static void __pyx_insert_code_object(int code_line, PyCodeObject* code_object) {\r\n",
      "    int pos, i;\r\n",
      "    __Pyx_CodeObjectCacheEntry* entries = __pyx_code_cache.entries;\r\n",
      "    if (unlikely(!code_line)) {\r\n",
      "        return;\r\n",
      "    }\r\n",
      "    if (unlikely(!entries)) {\r\n",
      "        entries = (__Pyx_CodeObjectCacheEntry*)PyMem_Malloc(64*sizeof(__Pyx_CodeObjectCacheEntry));\r\n",
      "        if (likely(entries)) {\r\n",
      "            __pyx_code_cache.entries = entries;\r\n",
      "            __pyx_code_cache.max_count = 64;\r\n",
      "            __pyx_code_cache.count = 1;\r\n",
      "            entries[0].code_line = code_line;\r\n",
      "            entries[0].code_object = code_object;\r\n",
      "            Py_INCREF(code_object);\r\n",
      "        }\r\n",
      "        return;\r\n",
      "    }\r\n",
      "    pos = __pyx_bisect_code_objects(__pyx_code_cache.entries, __pyx_code_cache.count, code_line);\r\n",
      "    if ((pos < __pyx_code_cache.count) && unlikely(__pyx_code_cache.entries[pos].code_line == code_line)) {\r\n",
      "        PyCodeObject* tmp = entries[pos].code_object;\r\n",
      "        entries[pos].code_object = code_object;\r\n",
      "        Py_DECREF(tmp);\r\n",
      "        return;\r\n",
      "    }\r\n",
      "    if (__pyx_code_cache.count == __pyx_code_cache.max_count) {\r\n",
      "        int new_max = __pyx_code_cache.max_count + 64;\r\n",
      "        entries = (__Pyx_CodeObjectCacheEntry*)PyMem_Realloc(\r\n",
      "            __pyx_code_cache.entries, (size_t)new_max*sizeof(__Pyx_CodeObjectCacheEntry));\r\n",
      "        if (unlikely(!entries)) {\r\n",
      "            return;\r\n",
      "        }\r\n",
      "        __pyx_code_cache.entries = entries;\r\n",
      "        __pyx_code_cache.max_count = new_max;\r\n",
      "    }\r\n",
      "    for (i=__pyx_code_cache.count; i>pos; i--) {\r\n",
      "        entries[i] = entries[i-1];\r\n",
      "    }\r\n",
      "    entries[pos].code_line = code_line;\r\n",
      "    entries[pos].code_object = code_object;\r\n",
      "    __pyx_code_cache.count++;\r\n",
      "    Py_INCREF(code_object);\r\n",
      "}\r\n",
      "\r\n",
      "/* AddTraceback */\r\n",
      "#include \"compile.h\"\r\n",
      "#include \"frameobject.h\"\r\n",
      "#include \"traceback.h\"\r\n",
      "static PyCodeObject* __Pyx_CreateCodeObjectForTraceback(\r\n",
      "            const char *funcname, int c_line,\r\n",
      "            int py_line, const char *filename) {\r\n",
      "    PyCodeObject *py_code = 0;\r\n",
      "    PyObject *py_srcfile = 0;\r\n",
      "    PyObject *py_funcname = 0;\r\n",
      "    #if PY_MAJOR_VERSION < 3\r\n",
      "    py_srcfile = PyString_FromString(filename);\r\n",
      "    #else\r\n",
      "    py_srcfile = PyUnicode_FromString(filename);\r\n",
      "    #endif\r\n",
      "    if (!py_srcfile) goto bad;\r\n",
      "    if (c_line) {\r\n",
      "        #if PY_MAJOR_VERSION < 3\r\n",
      "        py_funcname = PyString_FromFormat( \"%s (%s:%d)\", funcname, __pyx_cfilenm, c_line);\r\n",
      "        #else\r\n",
      "        py_funcname = PyUnicode_FromFormat( \"%s (%s:%d)\", funcname, __pyx_cfilenm, c_line);\r\n",
      "        #endif\r\n",
      "    }\r\n",
      "    else {\r\n",
      "        #if PY_MAJOR_VERSION < 3\r\n",
      "        py_funcname = PyString_FromString(funcname);\r\n",
      "        #else\r\n",
      "        py_funcname = PyUnicode_FromString(funcname);\r\n",
      "        #endif\r\n",
      "    }\r\n",
      "    if (!py_funcname) goto bad;\r\n",
      "    py_code = __Pyx_PyCode_New(\r\n",
      "        0,\r\n",
      "        0,\r\n",
      "        0,\r\n",
      "        0,\r\n",
      "        0,\r\n",
      "        __pyx_empty_bytes, /*PyObject *code,*/\r\n",
      "        __pyx_empty_tuple, /*PyObject *consts,*/\r\n",
      "        __pyx_empty_tuple, /*PyObject *names,*/\r\n",
      "        __pyx_empty_tuple, /*PyObject *varnames,*/\r\n",
      "        __pyx_empty_tuple, /*PyObject *freevars,*/\r\n",
      "        __pyx_empty_tuple, /*PyObject *cellvars,*/\r\n",
      "        py_srcfile,   /*PyObject *filename,*/\r\n",
      "        py_funcname,  /*PyObject *name,*/\r\n",
      "        py_line,\r\n",
      "        __pyx_empty_bytes  /*PyObject *lnotab*/\r\n",
      "    );\r\n",
      "    Py_DECREF(py_srcfile);\r\n",
      "    Py_DECREF(py_funcname);\r\n",
      "    return py_code;\r\n",
      "bad:\r\n",
      "    Py_XDECREF(py_srcfile);\r\n",
      "    Py_XDECREF(py_funcname);\r\n",
      "    return NULL;\r\n",
      "}\r\n",
      "static void __Pyx_AddTraceback(const char *funcname, int c_line,\r\n",
      "                               int py_line, const char *filename) {\r\n",
      "    PyCodeObject *py_code = 0;\r\n",
      "    PyFrameObject *py_frame = 0;\r\n",
      "    py_code = __pyx_find_code_object(c_line ? c_line : py_line);\r\n",
      "    if (!py_code) {\r\n",
      "        py_code = __Pyx_CreateCodeObjectForTraceback(\r\n",
      "            funcname, c_line, py_line, filename);\r\n",
      "        if (!py_code) goto bad;\r\n",
      "        __pyx_insert_code_object(c_line ? c_line : py_line, py_code);\r\n",
      "    }\r\n",
      "    py_frame = PyFrame_New(\r\n",
      "        PyThreadState_GET(), /*PyThreadState *tstate,*/\r\n",
      "        py_code,             /*PyCodeObject *code,*/\r\n",
      "        __pyx_d,      /*PyObject *globals,*/\r\n",
      "        0                    /*PyObject *locals*/\r\n",
      "    );\r\n",
      "    if (!py_frame) goto bad;\r\n",
      "    __Pyx_PyFrame_SetLineNumber(py_frame, py_line);\r\n",
      "    PyTraceBack_Here(py_frame);\r\n",
      "bad:\r\n",
      "    Py_XDECREF(py_code);\r\n",
      "    Py_XDECREF(py_frame);\r\n",
      "}\r\n",
      "\r\n",
      "/* CIntFromPyVerify */\r\n",
      "#define __PYX_VERIFY_RETURN_INT(target_type, func_type, func_value)\\\r\n",
      "    __PYX__VERIFY_RETURN_INT(target_type, func_type, func_value, 0)\r\n",
      "#define __PYX_VERIFY_RETURN_INT_EXC(target_type, func_type, func_value)\\\r\n",
      "    __PYX__VERIFY_RETURN_INT(target_type, func_type, func_value, 1)\r\n",
      "#define __PYX__VERIFY_RETURN_INT(target_type, func_type, func_value, exc)\\\r\n",
      "    {\\\r\n",
      "        func_type value = func_value;\\\r\n",
      "        if (sizeof(target_type) < sizeof(func_type)) {\\\r\n",
      "            if (unlikely(value != (func_type) (target_type) value)) {\\\r\n",
      "                func_type zero = 0;\\\r\n",
      "                if (exc && unlikely(value == (func_type)-1 && PyErr_Occurred()))\\\r\n",
      "                    return (target_type) -1;\\\r\n",
      "                if (is_unsigned && unlikely(value < zero))\\\r\n",
      "                    goto raise_neg_overflow;\\\r\n",
      "                else\\\r\n",
      "                    goto raise_overflow;\\\r\n",
      "            }\\\r\n",
      "        }\\\r\n",
      "        return (target_type) value;\\\r\n",
      "    }\r\n",
      "\r\n",
      "/* CIntToPy */\r\n",
      "static CYTHON_INLINE PyObject* __Pyx_PyInt_From_int(int value) {\r\n",
      "    const int neg_one = (int) -1, const_zero = (int) 0;\r\n",
      "    const int is_unsigned = neg_one > const_zero;\r\n",
      "    if (is_unsigned) {\r\n",
      "        if (sizeof(int) < sizeof(long)) {\r\n",
      "            return PyInt_FromLong((long) value);\r\n",
      "        } else if (sizeof(int) <= sizeof(unsigned long)) {\r\n",
      "            return PyLong_FromUnsignedLong((unsigned long) value);\r\n",
      "#ifdef HAVE_LONG_LONG\r\n",
      "        } else if (sizeof(int) <= sizeof(unsigned PY_LONG_LONG)) {\r\n",
      "            return PyLong_FromUnsignedLongLong((unsigned PY_LONG_LONG) value);\r\n",
      "#endif\r\n",
      "        }\r\n",
      "    } else {\r\n",
      "        if (sizeof(int) <= sizeof(long)) {\r\n",
      "            return PyInt_FromLong((long) value);\r\n",
      "#ifdef HAVE_LONG_LONG\r\n",
      "        } else if (sizeof(int) <= sizeof(PY_LONG_LONG)) {\r\n",
      "            return PyLong_FromLongLong((PY_LONG_LONG) value);\r\n",
      "#endif\r\n",
      "        }\r\n",
      "    }\r\n",
      "    {\r\n",
      "        int one = 1; int little = (int)*(unsigned char *)&one;\r\n",
      "        unsigned char *bytes = (unsigned char *)&value;\r\n",
      "        return _PyLong_FromByteArray(bytes, sizeof(int),\r\n",
      "                                     little, !is_unsigned);\r\n",
      "    }\r\n",
      "}\r\n",
      "\r\n",
      "/* CIntFromPy */\r\n",
      "static CYTHON_INLINE int __Pyx_PyInt_As_int(PyObject *x) {\r\n",
      "    const int neg_one = (int) -1, const_zero = (int) 0;\r\n",
      "    const int is_unsigned = neg_one > const_zero;\r\n",
      "#if PY_MAJOR_VERSION < 3\r\n",
      "    if (likely(PyInt_Check(x))) {\r\n",
      "        if (sizeof(int) < sizeof(long)) {\r\n",
      "            __PYX_VERIFY_RETURN_INT(int, long, PyInt_AS_LONG(x))\r\n",
      "        } else {\r\n",
      "            long val = PyInt_AS_LONG(x);\r\n",
      "            if (is_unsigned && unlikely(val < 0)) {\r\n",
      "                goto raise_neg_overflow;\r\n",
      "            }\r\n",
      "            return (int) val;\r\n",
      "        }\r\n",
      "    } else\r\n",
      "#endif\r\n",
      "    if (likely(PyLong_Check(x))) {\r\n",
      "        if (is_unsigned) {\r\n",
      "#if CYTHON_USE_PYLONG_INTERNALS\r\n",
      "            const digit* digits = ((PyLongObject*)x)->ob_digit;\r\n",
      "            switch (Py_SIZE(x)) {\r\n",
      "                case  0: return (int) 0;\r\n",
      "                case  1: __PYX_VERIFY_RETURN_INT(int, digit, digits[0])\r\n",
      "                case 2:\r\n",
      "                    if (8 * sizeof(int) > 1 * PyLong_SHIFT) {\r\n",
      "                        if (8 * sizeof(unsigned long) > 2 * PyLong_SHIFT) {\r\n",
      "                            __PYX_VERIFY_RETURN_INT(int, unsigned long, (((((unsigned long)digits[1]) << PyLong_SHIFT) | (unsigned long)digits[0])))\r\n",
      "                        } else if (8 * sizeof(int) >= 2 * PyLong_SHIFT) {\r\n",
      "                            return (int) (((((int)digits[1]) << PyLong_SHIFT) | (int)digits[0]));\r\n",
      "                        }\r\n",
      "                    }\r\n",
      "                    break;\r\n",
      "                case 3:\r\n",
      "                    if (8 * sizeof(int) > 2 * PyLong_SHIFT) {\r\n",
      "                        if (8 * sizeof(unsigned long) > 3 * PyLong_SHIFT) {\r\n",
      "                            __PYX_VERIFY_RETURN_INT(int, unsigned long, (((((((unsigned long)digits[2]) << PyLong_SHIFT) | (unsigned long)digits[1]) << PyLong_SHIFT) | (unsigned long)digits[0])))\r\n",
      "                        } else if (8 * sizeof(int) >= 3 * PyLong_SHIFT) {\r\n",
      "                            return (int) (((((((int)digits[2]) << PyLong_SHIFT) | (int)digits[1]) << PyLong_SHIFT) | (int)digits[0]));\r\n",
      "                        }\r\n",
      "                    }\r\n",
      "                    break;\r\n",
      "                case 4:\r\n",
      "                    if (8 * sizeof(int) > 3 * PyLong_SHIFT) {\r\n",
      "                        if (8 * sizeof(unsigned long) > 4 * PyLong_SHIFT) {\r\n",
      "                            __PYX_VERIFY_RETURN_INT(int, unsigned long, (((((((((unsigned long)digits[3]) << PyLong_SHIFT) | (unsigned long)digits[2]) << PyLong_SHIFT) | (unsigned long)digits[1]) << PyLong_SHIFT) | (unsigned long)digits[0])))\r\n",
      "                        } else if (8 * sizeof(int) >= 4 * PyLong_SHIFT) {\r\n",
      "                            return (int) (((((((((int)digits[3]) << PyLong_SHIFT) | (int)digits[2]) << PyLong_SHIFT) | (int)digits[1]) << PyLong_SHIFT) | (int)digits[0]));\r\n",
      "                        }\r\n",
      "                    }\r\n",
      "                    break;\r\n",
      "            }\r\n",
      "#endif\r\n",
      "#if CYTHON_COMPILING_IN_CPYTHON\r\n",
      "            if (unlikely(Py_SIZE(x) < 0)) {\r\n",
      "                goto raise_neg_overflow;\r\n",
      "            }\r\n",
      "#else\r\n",
      "            {\r\n",
      "                int result = PyObject_RichCompareBool(x, Py_False, Py_LT);\r\n",
      "                if (unlikely(result < 0))\r\n",
      "                    return (int) -1;\r\n",
      "                if (unlikely(result == 1))\r\n",
      "                    goto raise_neg_overflow;\r\n",
      "            }\r\n",
      "#endif\r\n",
      "            if (sizeof(int) <= sizeof(unsigned long)) {\r\n",
      "                __PYX_VERIFY_RETURN_INT_EXC(int, unsigned long, PyLong_AsUnsignedLong(x))\r\n",
      "#ifdef HAVE_LONG_LONG\r\n",
      "            } else if (sizeof(int) <= sizeof(unsigned PY_LONG_LONG)) {\r\n",
      "                __PYX_VERIFY_RETURN_INT_EXC(int, unsigned PY_LONG_LONG, PyLong_AsUnsignedLongLong(x))\r\n",
      "#endif\r\n",
      "            }\r\n",
      "        } else {\r\n",
      "#if CYTHON_USE_PYLONG_INTERNALS\r\n",
      "            const digit* digits = ((PyLongObject*)x)->ob_digit;\r\n",
      "            switch (Py_SIZE(x)) {\r\n",
      "                case  0: return (int) 0;\r\n",
      "                case -1: __PYX_VERIFY_RETURN_INT(int, sdigit, (sdigit) (-(sdigit)digits[0]))\r\n",
      "                case  1: __PYX_VERIFY_RETURN_INT(int,  digit, +digits[0])\r\n",
      "                case -2:\r\n",
      "                    if (8 * sizeof(int) - 1 > 1 * PyLong_SHIFT) {\r\n",
      "                        if (8 * sizeof(unsigned long) > 2 * PyLong_SHIFT) {\r\n",
      "                            __PYX_VERIFY_RETURN_INT(int, long, -(long) (((((unsigned long)digits[1]) << PyLong_SHIFT) | (unsigned long)digits[0])))\r\n",
      "                        } else if (8 * sizeof(int) - 1 > 2 * PyLong_SHIFT) {\r\n",
      "                            return (int) (((int)-1)*(((((int)digits[1]) << PyLong_SHIFT) | (int)digits[0])));\r\n",
      "                        }\r\n",
      "                    }\r\n",
      "                    break;\r\n",
      "                case 2:\r\n",
      "                    if (8 * sizeof(int) > 1 * PyLong_SHIFT) {\r\n",
      "                        if (8 * sizeof(unsigned long) > 2 * PyLong_SHIFT) {\r\n",
      "                            __PYX_VERIFY_RETURN_INT(int, unsigned long, (((((unsigned long)digits[1]) << PyLong_SHIFT) | (unsigned long)digits[0])))\r\n",
      "                        } else if (8 * sizeof(int) - 1 > 2 * PyLong_SHIFT) {\r\n",
      "                            return (int) ((((((int)digits[1]) << PyLong_SHIFT) | (int)digits[0])));\r\n",
      "                        }\r\n",
      "                    }\r\n",
      "                    break;\r\n",
      "                case -3:\r\n",
      "                    if (8 * sizeof(int) - 1 > 2 * PyLong_SHIFT) {\r\n",
      "                        if (8 * sizeof(unsigned long) > 3 * PyLong_SHIFT) {\r\n",
      "                            __PYX_VERIFY_RETURN_INT(int, long, -(long) (((((((unsigned long)digits[2]) << PyLong_SHIFT) | (unsigned long)digits[1]) << PyLong_SHIFT) | (unsigned long)digits[0])))\r\n",
      "                        } else if (8 * sizeof(int) - 1 > 3 * PyLong_SHIFT) {\r\n",
      "                            return (int) (((int)-1)*(((((((int)digits[2]) << PyLong_SHIFT) | (int)digits[1]) << PyLong_SHIFT) | (int)digits[0])));\r\n",
      "                        }\r\n",
      "                    }\r\n",
      "                    break;\r\n",
      "                case 3:\r\n",
      "                    if (8 * sizeof(int) > 2 * PyLong_SHIFT) {\r\n",
      "                        if (8 * sizeof(unsigned long) > 3 * PyLong_SHIFT) {\r\n",
      "                            __PYX_VERIFY_RETURN_INT(int, unsigned long, (((((((unsigned long)digits[2]) << PyLong_SHIFT) | (unsigned long)digits[1]) << PyLong_SHIFT) | (unsigned long)digits[0])))\r\n",
      "                        } else if (8 * sizeof(int) - 1 > 3 * PyLong_SHIFT) {\r\n",
      "                            return (int) ((((((((int)digits[2]) << PyLong_SHIFT) | (int)digits[1]) << PyLong_SHIFT) | (int)digits[0])));\r\n",
      "                        }\r\n",
      "                    }\r\n",
      "                    break;\r\n",
      "                case -4:\r\n",
      "                    if (8 * sizeof(int) - 1 > 3 * PyLong_SHIFT) {\r\n",
      "                        if (8 * sizeof(unsigned long) > 4 * PyLong_SHIFT) {\r\n",
      "                            __PYX_VERIFY_RETURN_INT(int, long, -(long) (((((((((unsigned long)digits[3]) << PyLong_SHIFT) | (unsigned long)digits[2]) << PyLong_SHIFT) | (unsigned long)digits[1]) << PyLong_SHIFT) | (unsigned long)digits[0])))\r\n",
      "                        } else if (8 * sizeof(int) - 1 > 4 * PyLong_SHIFT) {\r\n",
      "                            return (int) (((int)-1)*(((((((((int)digits[3]) << PyLong_SHIFT) | (int)digits[2]) << PyLong_SHIFT) | (int)digits[1]) << PyLong_SHIFT) | (int)digits[0])));\r\n",
      "                        }\r\n",
      "                    }\r\n",
      "                    break;\r\n",
      "                case 4:\r\n",
      "                    if (8 * sizeof(int) > 3 * PyLong_SHIFT) {\r\n",
      "                        if (8 * sizeof(unsigned long) > 4 * PyLong_SHIFT) {\r\n",
      "                            __PYX_VERIFY_RETURN_INT(int, unsigned long, (((((((((unsigned long)digits[3]) << PyLong_SHIFT) | (unsigned long)digits[2]) << PyLong_SHIFT) | (unsigned long)digits[1]) << PyLong_SHIFT) | (unsigned long)digits[0])))\r\n",
      "                        } else if (8 * sizeof(int) - 1 > 4 * PyLong_SHIFT) {\r\n",
      "                            return (int) ((((((((((int)digits[3]) << PyLong_SHIFT) | (int)digits[2]) << PyLong_SHIFT) | (int)digits[1]) << PyLong_SHIFT) | (int)digits[0])));\r\n",
      "                        }\r\n",
      "                    }\r\n",
      "                    break;\r\n",
      "            }\r\n",
      "#endif\r\n",
      "            if (sizeof(int) <= sizeof(long)) {\r\n",
      "                __PYX_VERIFY_RETURN_INT_EXC(int, long, PyLong_AsLong(x))\r\n",
      "#ifdef HAVE_LONG_LONG\r\n",
      "            } else if (sizeof(int) <= sizeof(PY_LONG_LONG)) {\r\n",
      "                __PYX_VERIFY_RETURN_INT_EXC(int, PY_LONG_LONG, PyLong_AsLongLong(x))\r\n",
      "#endif\r\n",
      "            }\r\n",
      "        }\r\n",
      "        {\r\n",
      "#if CYTHON_COMPILING_IN_PYPY && !defined(_PyLong_AsByteArray)\r\n",
      "            PyErr_SetString(PyExc_RuntimeError,\r\n",
      "                            \"_PyLong_AsByteArray() not available in PyPy, cannot convert large numbers\");\r\n",
      "#else\r\n",
      "            int val;\r\n",
      "            PyObject *v = __Pyx_PyNumber_IntOrLong(x);\r\n",
      " #if PY_MAJOR_VERSION < 3\r\n",
      "            if (likely(v) && !PyLong_Check(v)) {\r\n",
      "                PyObject *tmp = v;\r\n",
      "                v = PyNumber_Long(tmp);\r\n",
      "                Py_DECREF(tmp);\r\n",
      "            }\r\n",
      " #endif\r\n",
      "            if (likely(v)) {\r\n",
      "                int one = 1; int is_little = (int)*(unsigned char *)&one;\r\n",
      "                unsigned char *bytes = (unsigned char *)&val;\r\n",
      "                int ret = _PyLong_AsByteArray((PyLongObject *)v,\r\n",
      "                                              bytes, sizeof(val),\r\n",
      "                                              is_little, !is_unsigned);\r\n",
      "                Py_DECREF(v);\r\n",
      "                if (likely(!ret))\r\n",
      "                    return val;\r\n",
      "            }\r\n",
      "#endif\r\n",
      "            return (int) -1;\r\n",
      "        }\r\n",
      "    } else {\r\n",
      "        int val;\r\n",
      "        PyObject *tmp = __Pyx_PyNumber_IntOrLong(x);\r\n",
      "        if (!tmp) return (int) -1;\r\n",
      "        val = __Pyx_PyInt_As_int(tmp);\r\n",
      "        Py_DECREF(tmp);\r\n",
      "        return val;\r\n",
      "    }\r\n",
      "raise_overflow:\r\n",
      "    PyErr_SetString(PyExc_OverflowError,\r\n",
      "        \"value too large to convert to int\");\r\n",
      "    return (int) -1;\r\n",
      "raise_neg_overflow:\r\n",
      "    PyErr_SetString(PyExc_OverflowError,\r\n",
      "        \"can't convert negative value to int\");\r\n",
      "    return (int) -1;\r\n",
      "}\r\n",
      "\r\n",
      "/* CIntToPy */\r\n",
      "static CYTHON_INLINE PyObject* __Pyx_PyInt_From_long(long value) {\r\n",
      "    const long neg_one = (long) -1, const_zero = (long) 0;\r\n",
      "    const int is_unsigned = neg_one > const_zero;\r\n",
      "    if (is_unsigned) {\r\n",
      "        if (sizeof(long) < sizeof(long)) {\r\n",
      "            return PyInt_FromLong((long) value);\r\n",
      "        } else if (sizeof(long) <= sizeof(unsigned long)) {\r\n",
      "            return PyLong_FromUnsignedLong((unsigned long) value);\r\n",
      "#ifdef HAVE_LONG_LONG\r\n",
      "        } else if (sizeof(long) <= sizeof(unsigned PY_LONG_LONG)) {\r\n",
      "            return PyLong_FromUnsignedLongLong((unsigned PY_LONG_LONG) value);\r\n",
      "#endif\r\n",
      "        }\r\n",
      "    } else {\r\n",
      "        if (sizeof(long) <= sizeof(long)) {\r\n",
      "            return PyInt_FromLong((long) value);\r\n",
      "#ifdef HAVE_LONG_LONG\r\n",
      "        } else if (sizeof(long) <= sizeof(PY_LONG_LONG)) {\r\n",
      "            return PyLong_FromLongLong((PY_LONG_LONG) value);\r\n",
      "#endif\r\n",
      "        }\r\n",
      "    }\r\n",
      "    {\r\n",
      "        int one = 1; int little = (int)*(unsigned char *)&one;\r\n",
      "        unsigned char *bytes = (unsigned char *)&value;\r\n",
      "        return _PyLong_FromByteArray(bytes, sizeof(long),\r\n",
      "                                     little, !is_unsigned);\r\n",
      "    }\r\n",
      "}\r\n",
      "\r\n",
      "/* CIntFromPy */\r\n",
      "static CYTHON_INLINE long __Pyx_PyInt_As_long(PyObject *x) {\r\n",
      "    const long neg_one = (long) -1, const_zero = (long) 0;\r\n",
      "    const int is_unsigned = neg_one > const_zero;\r\n",
      "#if PY_MAJOR_VERSION < 3\r\n",
      "    if (likely(PyInt_Check(x))) {\r\n",
      "        if (sizeof(long) < sizeof(long)) {\r\n",
      "            __PYX_VERIFY_RETURN_INT(long, long, PyInt_AS_LONG(x))\r\n",
      "        } else {\r\n",
      "            long val = PyInt_AS_LONG(x);\r\n",
      "            if (is_unsigned && unlikely(val < 0)) {\r\n",
      "                goto raise_neg_overflow;\r\n",
      "            }\r\n",
      "            return (long) val;\r\n",
      "        }\r\n",
      "    } else\r\n",
      "#endif\r\n",
      "    if (likely(PyLong_Check(x))) {\r\n",
      "        if (is_unsigned) {\r\n",
      "#if CYTHON_USE_PYLONG_INTERNALS\r\n",
      "            const digit* digits = ((PyLongObject*)x)->ob_digit;\r\n",
      "            switch (Py_SIZE(x)) {\r\n",
      "                case  0: return (long) 0;\r\n",
      "                case  1: __PYX_VERIFY_RETURN_INT(long, digit, digits[0])\r\n",
      "                case 2:\r\n",
      "                    if (8 * sizeof(long) > 1 * PyLong_SHIFT) {\r\n",
      "                        if (8 * sizeof(unsigned long) > 2 * PyLong_SHIFT) {\r\n",
      "                            __PYX_VERIFY_RETURN_INT(long, unsigned long, (((((unsigned long)digits[1]) << PyLong_SHIFT) | (unsigned long)digits[0])))\r\n",
      "                        } else if (8 * sizeof(long) >= 2 * PyLong_SHIFT) {\r\n",
      "                            return (long) (((((long)digits[1]) << PyLong_SHIFT) | (long)digits[0]));\r\n",
      "                        }\r\n",
      "                    }\r\n",
      "                    break;\r\n",
      "                case 3:\r\n",
      "                    if (8 * sizeof(long) > 2 * PyLong_SHIFT) {\r\n",
      "                        if (8 * sizeof(unsigned long) > 3 * PyLong_SHIFT) {\r\n",
      "                            __PYX_VERIFY_RETURN_INT(long, unsigned long, (((((((unsigned long)digits[2]) << PyLong_SHIFT) | (unsigned long)digits[1]) << PyLong_SHIFT) | (unsigned long)digits[0])))\r\n",
      "                        } else if (8 * sizeof(long) >= 3 * PyLong_SHIFT) {\r\n",
      "                            return (long) (((((((long)digits[2]) << PyLong_SHIFT) | (long)digits[1]) << PyLong_SHIFT) | (long)digits[0]));\r\n",
      "                        }\r\n",
      "                    }\r\n",
      "                    break;\r\n",
      "                case 4:\r\n",
      "                    if (8 * sizeof(long) > 3 * PyLong_SHIFT) {\r\n",
      "                        if (8 * sizeof(unsigned long) > 4 * PyLong_SHIFT) {\r\n",
      "                            __PYX_VERIFY_RETURN_INT(long, unsigned long, (((((((((unsigned long)digits[3]) << PyLong_SHIFT) | (unsigned long)digits[2]) << PyLong_SHIFT) | (unsigned long)digits[1]) << PyLong_SHIFT) | (unsigned long)digits[0])))\r\n",
      "                        } else if (8 * sizeof(long) >= 4 * PyLong_SHIFT) {\r\n",
      "                            return (long) (((((((((long)digits[3]) << PyLong_SHIFT) | (long)digits[2]) << PyLong_SHIFT) | (long)digits[1]) << PyLong_SHIFT) | (long)digits[0]));\r\n",
      "                        }\r\n",
      "                    }\r\n",
      "                    break;\r\n",
      "            }\r\n",
      "#endif\r\n",
      "#if CYTHON_COMPILING_IN_CPYTHON\r\n",
      "            if (unlikely(Py_SIZE(x) < 0)) {\r\n",
      "                goto raise_neg_overflow;\r\n",
      "            }\r\n",
      "#else\r\n",
      "            {\r\n",
      "                int result = PyObject_RichCompareBool(x, Py_False, Py_LT);\r\n",
      "                if (unlikely(result < 0))\r\n",
      "                    return (long) -1;\r\n",
      "                if (unlikely(result == 1))\r\n",
      "                    goto raise_neg_overflow;\r\n",
      "            }\r\n",
      "#endif\r\n",
      "            if (sizeof(long) <= sizeof(unsigned long)) {\r\n",
      "                __PYX_VERIFY_RETURN_INT_EXC(long, unsigned long, PyLong_AsUnsignedLong(x))\r\n",
      "#ifdef HAVE_LONG_LONG\r\n",
      "            } else if (sizeof(long) <= sizeof(unsigned PY_LONG_LONG)) {\r\n",
      "                __PYX_VERIFY_RETURN_INT_EXC(long, unsigned PY_LONG_LONG, PyLong_AsUnsignedLongLong(x))\r\n",
      "#endif\r\n",
      "            }\r\n",
      "        } else {\r\n",
      "#if CYTHON_USE_PYLONG_INTERNALS\r\n",
      "            const digit* digits = ((PyLongObject*)x)->ob_digit;\r\n",
      "            switch (Py_SIZE(x)) {\r\n",
      "                case  0: return (long) 0;\r\n",
      "                case -1: __PYX_VERIFY_RETURN_INT(long, sdigit, (sdigit) (-(sdigit)digits[0]))\r\n",
      "                case  1: __PYX_VERIFY_RETURN_INT(long,  digit, +digits[0])\r\n",
      "                case -2:\r\n",
      "                    if (8 * sizeof(long) - 1 > 1 * PyLong_SHIFT) {\r\n",
      "                        if (8 * sizeof(unsigned long) > 2 * PyLong_SHIFT) {\r\n",
      "                            __PYX_VERIFY_RETURN_INT(long, long, -(long) (((((unsigned long)digits[1]) << PyLong_SHIFT) | (unsigned long)digits[0])))\r\n",
      "                        } else if (8 * sizeof(long) - 1 > 2 * PyLong_SHIFT) {\r\n",
      "                            return (long) (((long)-1)*(((((long)digits[1]) << PyLong_SHIFT) | (long)digits[0])));\r\n",
      "                        }\r\n",
      "                    }\r\n",
      "                    break;\r\n",
      "                case 2:\r\n",
      "                    if (8 * sizeof(long) > 1 * PyLong_SHIFT) {\r\n",
      "                        if (8 * sizeof(unsigned long) > 2 * PyLong_SHIFT) {\r\n",
      "                            __PYX_VERIFY_RETURN_INT(long, unsigned long, (((((unsigned long)digits[1]) << PyLong_SHIFT) | (unsigned long)digits[0])))\r\n",
      "                        } else if (8 * sizeof(long) - 1 > 2 * PyLong_SHIFT) {\r\n",
      "                            return (long) ((((((long)digits[1]) << PyLong_SHIFT) | (long)digits[0])));\r\n",
      "                        }\r\n",
      "                    }\r\n",
      "                    break;\r\n",
      "                case -3:\r\n",
      "                    if (8 * sizeof(long) - 1 > 2 * PyLong_SHIFT) {\r\n",
      "                        if (8 * sizeof(unsigned long) > 3 * PyLong_SHIFT) {\r\n",
      "                            __PYX_VERIFY_RETURN_INT(long, long, -(long) (((((((unsigned long)digits[2]) << PyLong_SHIFT) | (unsigned long)digits[1]) << PyLong_SHIFT) | (unsigned long)digits[0])))\r\n",
      "                        } else if (8 * sizeof(long) - 1 > 3 * PyLong_SHIFT) {\r\n",
      "                            return (long) (((long)-1)*(((((((long)digits[2]) << PyLong_SHIFT) | (long)digits[1]) << PyLong_SHIFT) | (long)digits[0])));\r\n",
      "                        }\r\n",
      "                    }\r\n",
      "                    break;\r\n",
      "                case 3:\r\n",
      "                    if (8 * sizeof(long) > 2 * PyLong_SHIFT) {\r\n",
      "                        if (8 * sizeof(unsigned long) > 3 * PyLong_SHIFT) {\r\n",
      "                            __PYX_VERIFY_RETURN_INT(long, unsigned long, (((((((unsigned long)digits[2]) << PyLong_SHIFT) | (unsigned long)digits[1]) << PyLong_SHIFT) | (unsigned long)digits[0])))\r\n",
      "                        } else if (8 * sizeof(long) - 1 > 3 * PyLong_SHIFT) {\r\n",
      "                            return (long) ((((((((long)digits[2]) << PyLong_SHIFT) | (long)digits[1]) << PyLong_SHIFT) | (long)digits[0])));\r\n",
      "                        }\r\n",
      "                    }\r\n",
      "                    break;\r\n",
      "                case -4:\r\n",
      "                    if (8 * sizeof(long) - 1 > 3 * PyLong_SHIFT) {\r\n",
      "                        if (8 * sizeof(unsigned long) > 4 * PyLong_SHIFT) {\r\n",
      "                            __PYX_VERIFY_RETURN_INT(long, long, -(long) (((((((((unsigned long)digits[3]) << PyLong_SHIFT) | (unsigned long)digits[2]) << PyLong_SHIFT) | (unsigned long)digits[1]) << PyLong_SHIFT) | (unsigned long)digits[0])))\r\n",
      "                        } else if (8 * sizeof(long) - 1 > 4 * PyLong_SHIFT) {\r\n",
      "                            return (long) (((long)-1)*(((((((((long)digits[3]) << PyLong_SHIFT) | (long)digits[2]) << PyLong_SHIFT) | (long)digits[1]) << PyLong_SHIFT) | (long)digits[0])));\r\n",
      "                        }\r\n",
      "                    }\r\n",
      "                    break;\r\n",
      "                case 4:\r\n",
      "                    if (8 * sizeof(long) > 3 * PyLong_SHIFT) {\r\n",
      "                        if (8 * sizeof(unsigned long) > 4 * PyLong_SHIFT) {\r\n",
      "                            __PYX_VERIFY_RETURN_INT(long, unsigned long, (((((((((unsigned long)digits[3]) << PyLong_SHIFT) | (unsigned long)digits[2]) << PyLong_SHIFT) | (unsigned long)digits[1]) << PyLong_SHIFT) | (unsigned long)digits[0])))\r\n",
      "                        } else if (8 * sizeof(long) - 1 > 4 * PyLong_SHIFT) {\r\n",
      "                            return (long) ((((((((((long)digits[3]) << PyLong_SHIFT) | (long)digits[2]) << PyLong_SHIFT) | (long)digits[1]) << PyLong_SHIFT) | (long)digits[0])));\r\n",
      "                        }\r\n",
      "                    }\r\n",
      "                    break;\r\n",
      "            }\r\n",
      "#endif\r\n",
      "            if (sizeof(long) <= sizeof(long)) {\r\n",
      "                __PYX_VERIFY_RETURN_INT_EXC(long, long, PyLong_AsLong(x))\r\n",
      "#ifdef HAVE_LONG_LONG\r\n",
      "            } else if (sizeof(long) <= sizeof(PY_LONG_LONG)) {\r\n",
      "                __PYX_VERIFY_RETURN_INT_EXC(long, PY_LONG_LONG, PyLong_AsLongLong(x))\r\n",
      "#endif\r\n",
      "            }\r\n",
      "        }\r\n",
      "        {\r\n",
      "#if CYTHON_COMPILING_IN_PYPY && !defined(_PyLong_AsByteArray)\r\n",
      "            PyErr_SetString(PyExc_RuntimeError,\r\n",
      "                            \"_PyLong_AsByteArray() not available in PyPy, cannot convert large numbers\");\r\n",
      "#else\r\n",
      "            long val;\r\n",
      "            PyObject *v = __Pyx_PyNumber_IntOrLong(x);\r\n",
      " #if PY_MAJOR_VERSION < 3\r\n",
      "            if (likely(v) && !PyLong_Check(v)) {\r\n",
      "                PyObject *tmp = v;\r\n",
      "                v = PyNumber_Long(tmp);\r\n",
      "                Py_DECREF(tmp);\r\n",
      "            }\r\n",
      " #endif\r\n",
      "            if (likely(v)) {\r\n",
      "                int one = 1; int is_little = (int)*(unsigned char *)&one;\r\n",
      "                unsigned char *bytes = (unsigned char *)&val;\r\n",
      "                int ret = _PyLong_AsByteArray((PyLongObject *)v,\r\n",
      "                                              bytes, sizeof(val),\r\n",
      "                                              is_little, !is_unsigned);\r\n",
      "                Py_DECREF(v);\r\n",
      "                if (likely(!ret))\r\n",
      "                    return val;\r\n",
      "            }\r\n",
      "#endif\r\n",
      "            return (long) -1;\r\n",
      "        }\r\n",
      "    } else {\r\n",
      "        long val;\r\n",
      "        PyObject *tmp = __Pyx_PyNumber_IntOrLong(x);\r\n",
      "        if (!tmp) return (long) -1;\r\n",
      "        val = __Pyx_PyInt_As_long(tmp);\r\n",
      "        Py_DECREF(tmp);\r\n",
      "        return val;\r\n",
      "    }\r\n",
      "raise_overflow:\r\n",
      "    PyErr_SetString(PyExc_OverflowError,\r\n",
      "        \"value too large to convert to long\");\r\n",
      "    return (long) -1;\r\n",
      "raise_neg_overflow:\r\n",
      "    PyErr_SetString(PyExc_OverflowError,\r\n",
      "        \"can't convert negative value to long\");\r\n",
      "    return (long) -1;\r\n",
      "}\r\n",
      "\r\n",
      "/* CheckBinaryVersion */\r\n",
      "static int __Pyx_check_binary_version(void) {\r\n",
      "    char ctversion[4], rtversion[4];\r\n",
      "    PyOS_snprintf(ctversion, 4, \"%d.%d\", PY_MAJOR_VERSION, PY_MINOR_VERSION);\r\n",
      "    PyOS_snprintf(rtversion, 4, \"%s\", Py_GetVersion());\r\n",
      "    if (ctversion[0] != rtversion[0] || ctversion[2] != rtversion[2]) {\r\n",
      "        char message[200];\r\n",
      "        PyOS_snprintf(message, sizeof(message),\r\n",
      "                      \"compiletime version %s of module '%.100s' \"\r\n",
      "                      \"does not match runtime version %s\",\r\n",
      "                      ctversion, __Pyx_MODULE_NAME, rtversion);\r\n",
      "        return PyErr_WarnEx(NULL, message, 1);\r\n",
      "    }\r\n",
      "    return 0;\r\n",
      "}\r\n",
      "\r\n",
      "/* InitStrings */\r\n",
      "static int __Pyx_InitStrings(__Pyx_StringTabEntry *t) {\r\n",
      "    while (t->p) {\r\n",
      "        #if PY_MAJOR_VERSION < 3\r\n",
      "        if (t->is_unicode) {\r\n",
      "            *t->p = PyUnicode_DecodeUTF8(t->s, t->n - 1, NULL);\r\n",
      "        } else if (t->intern) {\r\n",
      "            *t->p = PyString_InternFromString(t->s);\r\n",
      "        } else {\r\n",
      "            *t->p = PyString_FromStringAndSize(t->s, t->n - 1);\r\n",
      "        }\r\n",
      "        #else\r\n",
      "        if (t->is_unicode | t->is_str) {\r\n",
      "            if (t->intern) {\r\n",
      "                *t->p = PyUnicode_InternFromString(t->s);\r\n",
      "            } else if (t->encoding) {\r\n",
      "                *t->p = PyUnicode_Decode(t->s, t->n - 1, t->encoding, NULL);\r\n",
      "            } else {\r\n",
      "                *t->p = PyUnicode_FromStringAndSize(t->s, t->n - 1);\r\n",
      "            }\r\n",
      "        } else {\r\n",
      "            *t->p = PyBytes_FromStringAndSize(t->s, t->n - 1);\r\n",
      "        }\r\n",
      "        #endif\r\n",
      "        if (!*t->p)\r\n",
      "            return -1;\r\n",
      "        ++t;\r\n",
      "    }\r\n",
      "    return 0;\r\n",
      "}\r\n",
      "\r\n",
      "static CYTHON_INLINE PyObject* __Pyx_PyUnicode_FromString(const char* c_str) {\r\n",
      "    return __Pyx_PyUnicode_FromStringAndSize(c_str, (Py_ssize_t)strlen(c_str));\r\n",
      "}\r\n",
      "static CYTHON_INLINE char* __Pyx_PyObject_AsString(PyObject* o) {\r\n",
      "    Py_ssize_t ignore;\r\n",
      "    return __Pyx_PyObject_AsStringAndSize(o, &ignore);\r\n",
      "}\r\n",
      "static CYTHON_INLINE char* __Pyx_PyObject_AsStringAndSize(PyObject* o, Py_ssize_t *length) {\r\n",
      "#if CYTHON_COMPILING_IN_CPYTHON && (__PYX_DEFAULT_STRING_ENCODING_IS_ASCII || __PYX_DEFAULT_STRING_ENCODING_IS_DEFAULT)\r\n",
      "    if (\r\n",
      "#if PY_MAJOR_VERSION < 3 && __PYX_DEFAULT_STRING_ENCODING_IS_ASCII\r\n",
      "            __Pyx_sys_getdefaultencoding_not_ascii &&\r\n",
      "#endif\r\n",
      "            PyUnicode_Check(o)) {\r\n",
      "#if PY_VERSION_HEX < 0x03030000\r\n",
      "        char* defenc_c;\r\n",
      "        PyObject* defenc = _PyUnicode_AsDefaultEncodedString(o, NULL);\r\n",
      "        if (!defenc) return NULL;\r\n",
      "        defenc_c = PyBytes_AS_STRING(defenc);\r\n",
      "#if __PYX_DEFAULT_STRING_ENCODING_IS_ASCII\r\n",
      "        {\r\n",
      "            char* end = defenc_c + PyBytes_GET_SIZE(defenc);\r\n",
      "            char* c;\r\n",
      "            for (c = defenc_c; c < end; c++) {\r\n",
      "                if ((unsigned char) (*c) >= 128) {\r\n",
      "                    PyUnicode_AsASCIIString(o);\r\n",
      "                    return NULL;\r\n",
      "                }\r\n",
      "            }\r\n",
      "        }\r\n",
      "#endif\r\n",
      "        *length = PyBytes_GET_SIZE(defenc);\r\n",
      "        return defenc_c;\r\n",
      "#else\r\n",
      "        if (__Pyx_PyUnicode_READY(o) == -1) return NULL;\r\n",
      "#if __PYX_DEFAULT_STRING_ENCODING_IS_ASCII\r\n",
      "        if (PyUnicode_IS_ASCII(o)) {\r\n",
      "            *length = PyUnicode_GET_LENGTH(o);\r\n",
      "            return PyUnicode_AsUTF8(o);\r\n",
      "        } else {\r\n",
      "            PyUnicode_AsASCIIString(o);\r\n",
      "            return NULL;\r\n",
      "        }\r\n",
      "#else\r\n",
      "        return PyUnicode_AsUTF8AndSize(o, length);\r\n",
      "#endif\r\n",
      "#endif\r\n",
      "    } else\r\n",
      "#endif\r\n",
      "#if (!CYTHON_COMPILING_IN_PYPY) || (defined(PyByteArray_AS_STRING) && defined(PyByteArray_GET_SIZE))\r\n",
      "    if (PyByteArray_Check(o)) {\r\n",
      "        *length = PyByteArray_GET_SIZE(o);\r\n",
      "        return PyByteArray_AS_STRING(o);\r\n",
      "    } else\r\n",
      "#endif\r\n",
      "    {\r\n",
      "        char* result;\r\n",
      "        int r = PyBytes_AsStringAndSize(o, &result, length);\r\n",
      "        if (unlikely(r < 0)) {\r\n",
      "            return NULL;\r\n",
      "        } else {\r\n",
      "            return result;\r\n",
      "        }\r\n",
      "    }\r\n",
      "}\r\n",
      "static CYTHON_INLINE int __Pyx_PyObject_IsTrue(PyObject* x) {\r\n",
      "   int is_true = x == Py_True;\r\n",
      "   if (is_true | (x == Py_False) | (x == Py_None)) return is_true;\r\n",
      "   else return PyObject_IsTrue(x);\r\n",
      "}\r\n",
      "static CYTHON_INLINE PyObject* __Pyx_PyNumber_IntOrLong(PyObject* x) {\r\n",
      "#if CYTHON_USE_TYPE_SLOTS\r\n",
      "  PyNumberMethods *m;\r\n",
      "#endif\r\n",
      "  const char *name = NULL;\r\n",
      "  PyObject *res = NULL;\r\n",
      "#if PY_MAJOR_VERSION < 3\r\n",
      "  if (PyInt_Check(x) || PyLong_Check(x))\r\n",
      "#else\r\n",
      "  if (PyLong_Check(x))\r\n",
      "#endif\r\n",
      "    return __Pyx_NewRef(x);\r\n",
      "#if CYTHON_USE_TYPE_SLOTS\r\n",
      "  m = Py_TYPE(x)->tp_as_number;\r\n",
      "  #if PY_MAJOR_VERSION < 3\r\n",
      "  if (m && m->nb_int) {\r\n",
      "    name = \"int\";\r\n",
      "    res = PyNumber_Int(x);\r\n",
      "  }\r\n",
      "  else if (m && m->nb_long) {\r\n",
      "    name = \"long\";\r\n",
      "    res = PyNumber_Long(x);\r\n",
      "  }\r\n",
      "  #else\r\n",
      "  if (m && m->nb_int) {\r\n",
      "    name = \"int\";\r\n",
      "    res = PyNumber_Long(x);\r\n",
      "  }\r\n",
      "  #endif\r\n",
      "#else\r\n",
      "  res = PyNumber_Int(x);\r\n",
      "#endif\r\n",
      "  if (res) {\r\n",
      "#if PY_MAJOR_VERSION < 3\r\n",
      "    if (!PyInt_Check(res) && !PyLong_Check(res)) {\r\n",
      "#else\r\n",
      "    if (!PyLong_Check(res)) {\r\n",
      "#endif\r\n",
      "      PyErr_Format(PyExc_TypeError,\r\n",
      "                   \"__%.4s__ returned non-%.4s (type %.200s)\",\r\n",
      "                   name, name, Py_TYPE(res)->tp_name);\r\n",
      "      Py_DECREF(res);\r\n",
      "      return NULL;\r\n",
      "    }\r\n",
      "  }\r\n",
      "  else if (!PyErr_Occurred()) {\r\n",
      "    PyErr_SetString(PyExc_TypeError,\r\n",
      "                    \"an integer is required\");\r\n",
      "  }\r\n",
      "  return res;\r\n",
      "}\r\n",
      "static CYTHON_INLINE Py_ssize_t __Pyx_PyIndex_AsSsize_t(PyObject* b) {\r\n",
      "  Py_ssize_t ival;\r\n",
      "  PyObject *x;\r\n",
      "#if PY_MAJOR_VERSION < 3\r\n",
      "  if (likely(PyInt_CheckExact(b))) {\r\n",
      "    if (sizeof(Py_ssize_t) >= sizeof(long))\r\n",
      "        return PyInt_AS_LONG(b);\r\n",
      "    else\r\n",
      "        return PyInt_AsSsize_t(x);\r\n",
      "  }\r\n",
      "#endif\r\n",
      "  if (likely(PyLong_CheckExact(b))) {\r\n",
      "    #if CYTHON_USE_PYLONG_INTERNALS\r\n",
      "    const digit* digits = ((PyLongObject*)b)->ob_digit;\r\n",
      "    const Py_ssize_t size = Py_SIZE(b);\r\n",
      "    if (likely(__Pyx_sst_abs(size) <= 1)) {\r\n",
      "        ival = likely(size) ? digits[0] : 0;\r\n",
      "        if (size == -1) ival = -ival;\r\n",
      "        return ival;\r\n",
      "    } else {\r\n",
      "      switch (size) {\r\n",
      "         case 2:\r\n",
      "           if (8 * sizeof(Py_ssize_t) > 2 * PyLong_SHIFT) {\r\n",
      "             return (Py_ssize_t) (((((size_t)digits[1]) << PyLong_SHIFT) | (size_t)digits[0]));\r\n",
      "           }\r\n",
      "           break;\r\n",
      "         case -2:\r\n",
      "           if (8 * sizeof(Py_ssize_t) > 2 * PyLong_SHIFT) {\r\n",
      "             return -(Py_ssize_t) (((((size_t)digits[1]) << PyLong_SHIFT) | (size_t)digits[0]));\r\n",
      "           }\r\n",
      "           break;\r\n",
      "         case 3:\r\n",
      "           if (8 * sizeof(Py_ssize_t) > 3 * PyLong_SHIFT) {\r\n",
      "             return (Py_ssize_t) (((((((size_t)digits[2]) << PyLong_SHIFT) | (size_t)digits[1]) << PyLong_SHIFT) | (size_t)digits[0]));\r\n",
      "           }\r\n",
      "           break;\r\n",
      "         case -3:\r\n",
      "           if (8 * sizeof(Py_ssize_t) > 3 * PyLong_SHIFT) {\r\n",
      "             return -(Py_ssize_t) (((((((size_t)digits[2]) << PyLong_SHIFT) | (size_t)digits[1]) << PyLong_SHIFT) | (size_t)digits[0]));\r\n",
      "           }\r\n",
      "           break;\r\n",
      "         case 4:\r\n",
      "           if (8 * sizeof(Py_ssize_t) > 4 * PyLong_SHIFT) {\r\n",
      "             return (Py_ssize_t) (((((((((size_t)digits[3]) << PyLong_SHIFT) | (size_t)digits[2]) << PyLong_SHIFT) | (size_t)digits[1]) << PyLong_SHIFT) | (size_t)digits[0]));\r\n",
      "           }\r\n",
      "           break;\r\n",
      "         case -4:\r\n",
      "           if (8 * sizeof(Py_ssize_t) > 4 * PyLong_SHIFT) {\r\n",
      "             return -(Py_ssize_t) (((((((((size_t)digits[3]) << PyLong_SHIFT) | (size_t)digits[2]) << PyLong_SHIFT) | (size_t)digits[1]) << PyLong_SHIFT) | (size_t)digits[0]));\r\n",
      "           }\r\n",
      "           break;\r\n",
      "      }\r\n",
      "    }\r\n",
      "    #endif\r\n",
      "    return PyLong_AsSsize_t(b);\r\n",
      "  }\r\n",
      "  x = PyNumber_Index(b);\r\n",
      "  if (!x) return -1;\r\n",
      "  ival = PyInt_AsSsize_t(x);\r\n",
      "  Py_DECREF(x);\r\n",
      "  return ival;\r\n",
      "}\r\n",
      "static CYTHON_INLINE PyObject * __Pyx_PyInt_FromSize_t(size_t ival) {\r\n",
      "    return PyInt_FromSize_t(ival);\r\n",
      "}\r\n",
      "\r\n",
      "\r\n",
      "#endif /* Py_PYTHON_H */\r\n"
     ]
    }
   ],
   "source": [
    "%cat primes.c"
   ]
  },
  {
   "cell_type": "markdown",
   "metadata": {},
   "source": [
    "You can now import `primes` as if it was a regular Python module (if you aren't sure which of the things you are importing, restart your kernel, but don't forger to change directory to `../scripts/cython`)."
   ]
  },
  {
   "cell_type": "code",
   "execution_count": 18,
   "metadata": {
    "collapsed": false
   },
   "outputs": [],
   "source": [
    "import primes"
   ]
  },
  {
   "cell_type": "code",
   "execution_count": 19,
   "metadata": {
    "collapsed": false
   },
   "outputs": [
    {
     "data": {
      "text/plain": [
       "[2, 3, 5, 7, 11, 13, 17, 19, 23, 29]"
      ]
     },
     "execution_count": 19,
     "metadata": {},
     "output_type": "execute_result"
    }
   ],
   "source": [
    "primes.cprimes(10)"
   ]
  },
  {
   "cell_type": "markdown",
   "metadata": {},
   "source": [
    "# Another example\n",
    "\n",
    "This is from Robert Bradshaw [SciPy 2008 slides](http://wiki.sagemath.org/scipy08?action=AttachFile&do=get&target=scipy-cython.tgz).\n",
    "\n",
    "We will write a simple integration code to integrate $f(x) = x^3 - 3x$:"
   ]
  },
  {
   "cell_type": "code",
   "execution_count": 20,
   "metadata": {
    "collapsed": true
   },
   "outputs": [],
   "source": [
    "def f(x):\n",
    "    return x * x * x - 3 * x\n",
    "\n",
    "def integrate_f(a , b , N):\n",
    "    s = 0\n",
    "    dx = (b - a )/ N\n",
    "    for i in range(N):\n",
    "        s += f(a + i * dx)\n",
    "    return s * dx"
   ]
  },
  {
   "cell_type": "code",
   "execution_count": 21,
   "metadata": {
    "collapsed": false
   },
   "outputs": [
    {
     "name": "stdout",
     "output_type": "stream",
     "text": [
      "100 loops, best of 3: 4.33 ms per loop\n"
     ]
    }
   ],
   "source": [
    "%timeit integrate_f(0, 1, 10000)"
   ]
  },
  {
   "cell_type": "markdown",
   "metadata": {},
   "source": [
    "Now, the same with Cython. Note that when we define a function with `cdef` we can set a return value but we can only call it from within Cython. When we define a function with `def` we can import it and call it from Python."
   ]
  },
  {
   "cell_type": "code",
   "execution_count": 22,
   "metadata": {
    "collapsed": true
   },
   "outputs": [],
   "source": [
    "%%cython\n",
    "cdef double g(double x):\n",
    "    return x * x * x - 3* x\n",
    "\n",
    "def integrate_g(double a , double  b , int N):\n",
    "    cdef double s = 0\n",
    "    cdef double dx = (b - a )/ N\n",
    "    cdef int i\n",
    "    for i in range(N):\n",
    "        s += g( a + i * dx )\n",
    "    return s * dx"
   ]
  },
  {
   "cell_type": "code",
   "execution_count": 23,
   "metadata": {
    "collapsed": false
   },
   "outputs": [
    {
     "name": "stdout",
     "output_type": "stream",
     "text": [
      "100000 loops, best of 3: 19.5 µs per loop\n"
     ]
    }
   ],
   "source": [
    "%timeit integrate_g(0, 1, 10000)"
   ]
  },
  {
   "cell_type": "markdown",
   "metadata": {},
   "source": [
    "Now let's integrate \n",
    "$$\n",
    "\\int_a^b{\\frac{\\sin{x}}{x}}\n",
    "$$\n",
    "\n",
    "Without Cython, we should use either `math.sin` or `numpy.sin`:"
   ]
  },
  {
   "cell_type": "code",
   "execution_count": 24,
   "metadata": {
    "collapsed": false
   },
   "outputs": [
    {
     "data": {
      "text/plain": [
       "0.65952330638545142"
      ]
     },
     "execution_count": 24,
     "metadata": {},
     "output_type": "execute_result"
    }
   ],
   "source": [
    "import numpy as np\n",
    "\n",
    "def f(x):\n",
    "    return np.sin(x) / x\n",
    "\n",
    "integrate_f(1, 2, 1000)"
   ]
  },
  {
   "cell_type": "markdown",
   "metadata": {},
   "source": [
    "With Cython, we can import some C functions using an `extern` block:"
   ]
  },
  {
   "cell_type": "code",
   "execution_count": 25,
   "metadata": {
    "collapsed": false
   },
   "outputs": [],
   "source": [
    "%%cython\n",
    "cdef extern from \"math.h\":\n",
    "    double sin(double)\n",
    "    double cos(double)\n",
    "    \n",
    "cdef double g(double x):\n",
    "    return sin(x)/x\n",
    "\n",
    "def integrate_g(double a , double  b , int N):\n",
    "    cdef double s = 0\n",
    "    cdef double dx = (b - a) /  N\n",
    "    cdef int i\n",
    "    for i in range(N):\n",
    "        s += g(a + i * dx)\n",
    "    return s * dx"
   ]
  },
  {
   "cell_type": "code",
   "execution_count": 26,
   "metadata": {
    "collapsed": false
   },
   "outputs": [
    {
     "name": "stdout",
     "output_type": "stream",
     "text": [
      "100 loops, best of 3: 3.18 ms per loop\n",
      "10000 loops, best of 3: 47.1 µs per loop\n"
     ]
    }
   ],
   "source": [
    "%timeit integrate_f(1, 3, 1000)\n",
    "%timeit integrate_g(1, 3, 1000)"
   ]
  },
  {
   "cell_type": "markdown",
   "metadata": {
    "collapsed": true
   },
   "source": [
    "# Cython + NumPy\n",
    "\n",
    "Cython works well with NumPy.\n",
    "\n",
    "Let's loop over a NumPy array:"
   ]
  },
  {
   "cell_type": "code",
   "execution_count": 27,
   "metadata": {
    "collapsed": false
   },
   "outputs": [],
   "source": [
    "def summ(x):\n",
    "    s = 0\n",
    "    for i in range(x.shape[0]):\n",
    "        s += x[i]\n",
    "    return s"
   ]
  },
  {
   "cell_type": "code",
   "execution_count": 28,
   "metadata": {
    "collapsed": true
   },
   "outputs": [],
   "source": [
    "%%cython\n",
    "cimport numpy as np\n",
    "\n",
    "def csumm(x):\n",
    "    cdef np.ndarray[long, ndim=1] arr = x\n",
    "    cdef int i = 0\n",
    "    cdef long s = 0\n",
    "    for i in range(arr.shape[0]):\n",
    "        s += arr[i]\n",
    "    return s"
   ]
  },
  {
   "cell_type": "code",
   "execution_count": 29,
   "metadata": {
    "collapsed": false,
    "scrolled": true
   },
   "outputs": [
    {
     "name": "stdout",
     "output_type": "stream",
     "text": [
      "10 loops, best of 3: 94.7 ms per loop\n",
      "1000 loops, best of 3: 498 µs per loop\n"
     ]
    }
   ],
   "source": [
    "x = np.random.randint(0, 9, 100000)\n",
    "%timeit summ(x)\n",
    "%timeit csumm(x)"
   ]
  },
  {
   "cell_type": "markdown",
   "metadata": {
    "collapsed": true
   },
   "source": [
    "Note that if you would type `s` and `arr` as made of `int` you would get an error because Python's `int` is a C `long`... But you would get a `ValueError`, not a segmentation fault or anything like that. Here's an example:"
   ]
  },
  {
   "cell_type": "code",
   "execution_count": 30,
   "metadata": {
    "collapsed": false
   },
   "outputs": [
    {
     "ename": "ValueError",
     "evalue": "Buffer dtype mismatch, expected 'long' but got 'double'",
     "output_type": "error",
     "traceback": [
      "\u001b[0;31m---------------------------------------------------------------------------\u001b[0m",
      "\u001b[0;31mValueError\u001b[0m                                Traceback (most recent call last)",
      "\u001b[0;32m<ipython-input-30-2a544ca42eee>\u001b[0m in \u001b[0;36m<module>\u001b[0;34m()\u001b[0m\n\u001b[1;32m      1\u001b[0m \u001b[0my\u001b[0m \u001b[0;34m=\u001b[0m \u001b[0mnp\u001b[0m\u001b[0;34m.\u001b[0m\u001b[0marray\u001b[0m\u001b[0;34m(\u001b[0m\u001b[0;34m[\u001b[0m\u001b[0;36m0.1\u001b[0m\u001b[0;34m,\u001b[0m \u001b[0;36m0.2\u001b[0m\u001b[0;34m,\u001b[0m \u001b[0;36m0.3\u001b[0m\u001b[0;34m]\u001b[0m\u001b[0;34m)\u001b[0m\u001b[0;34m\u001b[0m\u001b[0m\n\u001b[0;32m----> 2\u001b[0;31m \u001b[0mcsumm\u001b[0m\u001b[0;34m(\u001b[0m\u001b[0my\u001b[0m\u001b[0;34m)\u001b[0m\u001b[0;34m\u001b[0m\u001b[0m\n\u001b[0m",
      "\u001b[0;32m_cython_magic_c1b80a1e94c2faeb30a3ad2c769659d3.pyx\u001b[0m in \u001b[0;36m_cython_magic_c1b80a1e94c2faeb30a3ad2c769659d3.csumm (/Users/yoavram/.ipython/cython/_cython_magic_c1b80a1e94c2faeb30a3ad2c769659d3.c:1487)\u001b[0;34m()\u001b[0m\n",
      "\u001b[0;31mValueError\u001b[0m: Buffer dtype mismatch, expected 'long' but got 'double'"
     ]
    }
   ],
   "source": [
    "y = np.array([0.1, 0.2, 0.3])\n",
    "csumm(y)"
   ]
  },
  {
   "cell_type": "markdown",
   "metadata": {},
   "source": [
    "# Example: Mandelbrot fractal"
   ]
  },
  {
   "cell_type": "code",
   "execution_count": 31,
   "metadata": {
    "collapsed": true
   },
   "outputs": [],
   "source": [
    "import numpy as np\n",
    "\n",
    "def mandelbrot(m, size, iterations):    \n",
    "    for i in range(size):\n",
    "        for j in range(size):\n",
    "            c = -2 + 3.0 / size * j + 1j * (1.5 - 3.0 / size * i)\n",
    "            z = 0\n",
    "            for n in range(iterations):\n",
    "                if np.abs(z) <= 10:\n",
    "                    z = z * z + c\n",
    "                    m[i, j] = n\n",
    "                else:\n",
    "                    break"
   ]
  },
  {
   "cell_type": "code",
   "execution_count": 32,
   "metadata": {
    "collapsed": false
   },
   "outputs": [],
   "source": [
    "%%cython\n",
    "cimport numpy as np\n",
    "\n",
    "def cmandelbrot(int[:,::1] m,\n",
    "                int size,\n",
    "                int iterations):\n",
    "    cdef int i, j, n\n",
    "    cdef complex z, c\n",
    "    for i in range(size):\n",
    "        for j in range(size):\n",
    "            c = -2 + 3.0 / size * j + 1j * (1.5 - 3.0 / size * i)\n",
    "            z = 0\n",
    "            for n in range(iterations):\n",
    "                if z.real**2 + z.imag**2 <= 100:\n",
    "                    z = z * z + c\n",
    "                    m[i, j] = n\n",
    "                else:\n",
    "                    break"
   ]
  },
  {
   "cell_type": "code",
   "execution_count": 33,
   "metadata": {
    "collapsed": false
   },
   "outputs": [],
   "source": [
    "size = 200\n",
    "iterations = 100\n",
    "m = np.zeros((size, size), dtype=np.int32)"
   ]
  },
  {
   "cell_type": "code",
   "execution_count": 34,
   "metadata": {
    "collapsed": false
   },
   "outputs": [
    {
     "name": "stdout",
     "output_type": "stream",
     "text": [
      "1 loop, best of 1: 8.71 s per loop\n",
      "1 loop, best of 1: 7.12 ms per loop\n"
     ]
    }
   ],
   "source": [
    "%timeit -n 1 -r 1 mandelbrot(m, size, iterations)\n",
    "%timeit -n 1 -r 1 cmandelbrot(m, size, iterations)"
   ]
  },
  {
   "cell_type": "code",
   "execution_count": 35,
   "metadata": {
    "collapsed": true
   },
   "outputs": [],
   "source": [
    "%matplotlib inline\n",
    "import matplotlib.pyplot as plt"
   ]
  },
  {
   "cell_type": "code",
   "execution_count": 36,
   "metadata": {
    "collapsed": false
   },
   "outputs": [
    {
     "data": {
      "image/png": "[encoded data removed]",
      "text/plain": [
       "<matplotlib.figure.Figure at 0x11ab889e8>"
      ]
     },
     "metadata": {},
     "output_type": "display_data"
    }
   ],
   "source": [
    "fig, ax = plt.subplots(figsize=(6, 6))\n",
    "ax.imshow(m, cmap='viridis')\n",
    "ax.set(xticks=[], yticks=[]);"
   ]
  },
  {
   "cell_type": "markdown",
   "metadata": {},
   "source": [
    "## Numba"
   ]
  },
  {
   "cell_type": "code",
   "execution_count": 37,
   "metadata": {
    "collapsed": false
   },
   "outputs": [
    {
     "name": "stdout",
     "output_type": "stream",
     "text": [
      "Numba 0.31.0\n"
     ]
    }
   ],
   "source": [
    "import numba\n",
    "print(\"Numba\", numba.__version__)"
   ]
  },
  {
   "cell_type": "code",
   "execution_count": 38,
   "metadata": {
    "collapsed": true
   },
   "outputs": [],
   "source": [
    "import numpy as np\n",
    "\n",
    "@numba.jit()\n",
    "def numandelbrot(m, size, iterations):    \n",
    "    for i in range(size):\n",
    "        for j in range(size):\n",
    "            c = -2 + 3.0 / size * j + 1j * (1.5 - 3.0 / size * i)\n",
    "            z = 0\n",
    "            for n in range(iterations):\n",
    "                if np.abs(z) <= 10:\n",
    "                    z = z * z + c\n",
    "                    m[i, j] = n\n",
    "                else:\n",
    "                    break"
   ]
  },
  {
   "cell_type": "code",
   "execution_count": 39,
   "metadata": {
    "collapsed": false
   },
   "outputs": [
    {
     "name": "stdout",
     "output_type": "stream",
     "text": [
      "1 loop, best of 3: 6.2 s per loop\n",
      "100 loops, best of 3: 6.67 ms per loop\n",
      "The slowest run took 66.40 times longer than the fastest. This could mean that an intermediate result is being cached.\n",
      "1 loop, best of 3: 10 ms per loop\n"
     ]
    }
   ],
   "source": [
    "%timeit -n 1 -r 3 mandelbrot(m, size, iterations)\n",
    "%timeit cmandelbrot(m, size, iterations)\n",
    "%timeit numandelbrot(m, size, iterations)"
   ]
  },
  {
   "cell_type": "code",
   "execution_count": 40,
   "metadata": {
    "collapsed": false
   },
   "outputs": [
    {
     "name": "stdout",
     "output_type": "stream",
     "text": [
      "100 loops, best of 3: 7.48 ms per loop\n"
     ]
    }
   ],
   "source": [
    "%timeit numandelbrot(m, size, iterations)"
   ]
  },
  {
   "cell_type": "markdown",
   "metadata": {},
   "source": [
    "# Exercise\n",
    "\n",
    "In the [image processing session](image-processing.ipynb) we had an exercise to write a dilation filter using SciPy's `generic_filter` function.\n",
    "\n",
    "The idea was to pass `genetic_filter` a max function so that it will become a dilation filter, using either `generic_filter(denoised, max, size=(k, k))` or `generic_filter(denoised, np.max, size=(k, k))`. A naive guess might be that the NumPy version is faster, as it uses NumPy's `max` rather than the pure-Python version."
   ]
  },
  {
   "cell_type": "code",
   "execution_count": 2,
   "metadata": {
    "collapsed": true
   },
   "outputs": [],
   "source": [
    "%matplotlib inline\n",
    "import matplotlib.pyplot as plt\n",
    "import numpy as np\n",
    "from scipy.ndimage import generic_filter\n",
    "\n",
    "def display_image(image):\n",
    "    plt.imshow(image, cmap='gray')\n",
    "    plt.xticks([])\n",
    "    plt.yticks([])"
   ]
  },
  {
   "cell_type": "code",
   "execution_count": 6,
   "metadata": {
    "collapsed": false
   },
   "outputs": [
    {
     "data": {
      "image/png": "[encoded data removed]",
      "text/plain": [
       "<matplotlib.figure.Figure at 0x7fa9835e0be0>"
      ]
     },
     "metadata": {},
     "output_type": "display_data"
    }
   ],
   "source": [
    "import skimage.data\n",
    "horse = skimage.data.horse()[:,:,0]\n",
    "display_image(horse)"
   ]
  },
  {
   "cell_type": "code",
   "execution_count": 63,
   "metadata": {
    "collapsed": false
   },
   "outputs": [
    {
     "data": {
      "image/png": "[encoded data removed]",
      "text/plain": [
       "<matplotlib.figure.Figure at 0x7fd2f8b4e198>"
      ]
     },
     "metadata": {},
     "output_type": "display_data"
    }
   ],
   "source": [
    "dilated = generic_filter(horse, max, size=(10, 10))\n",
    "display_image(dilated)"
   ]
  },
  {
   "cell_type": "code",
   "execution_count": 64,
   "metadata": {
    "collapsed": false
   },
   "outputs": [
    {
     "name": "stdout",
     "output_type": "stream",
     "text": [
      "1 loop, best of 3: 4.99 s per loop\n"
     ]
    }
   ],
   "source": [
    "%timeit generic_filter(horse, max, size=(10, 10))"
   ]
  },
  {
   "cell_type": "markdown",
   "metadata": {},
   "source": [
    "However, NumPy's `max` (and many other functions) are optimized for big arrays and include type and bounds checking. So the regular Python `max` is faster, and we can do even better by implementing max with Cython.\n",
    "\n",
    "Implement a `cmax` function using Cython and give it to `genetic_filter` to gain a 4-fold speed advantage of ver NumPy. The solution is in [cython_max.pyx](../solutions/cython_max.pyx)."
   ]
  },
  {
   "cell_type": "code",
   "execution_count": 9,
   "metadata": {
    "collapsed": false
   },
   "outputs": [],
   "source": [
    "%%cython\n"
   ]
  },
  {
   "cell_type": "code",
   "execution_count": 72,
   "metadata": {
    "collapsed": false
   },
   "outputs": [
    {
     "data": {
      "image/png": "[encoded data removed]",
      "text/plain": [
       "<matplotlib.figure.Figure at 0x7fd2e810c978>"
      ]
     },
     "metadata": {},
     "output_type": "display_data"
    }
   ],
   "source": [
    "display_image(generic_filter(horse, cmax, size=(10, 10), extra_arguments=(9,)))"
   ]
  },
  {
   "cell_type": "code",
   "execution_count": 74,
   "metadata": {
    "collapsed": false,
    "scrolled": true
   },
   "outputs": [
    {
     "name": "stdout",
     "output_type": "stream",
     "text": [
      "1 loop, best of 3: 808 ms per loop\n",
      "1 loop, best of 3: 1.79 s per loop\n",
      "1 loop, best of 3: 495 ms per loop\n"
     ]
    }
   ],
   "source": [
    "%timeit generic_filter(horse, max, size=(3, 3))\n",
    "%timeit generic_filter(horse, np.max, size=(3, 3))\n",
    "%timeit generic_filter(horse, cmax, size=(3, 3), extra_arguments=(9,))"
   ]
  },
  {
   "cell_type": "markdown",
   "metadata": {},
   "source": [
    "# Bounds checking\n",
    "\n",
    "We can also ask Cython to avoid checking bounds when accessing arrays and lists."
   ]
  },
  {
   "cell_type": "code",
   "execution_count": 3,
   "metadata": {
    "collapsed": false
   },
   "outputs": [
    {
     "data": {
      "text/plain": [
       "'/Users/yoavram/Work/Py4Eng/sessions'"
      ]
     },
     "execution_count": 3,
     "metadata": {},
     "output_type": "execute_result"
    }
   ],
   "source": [
    "%pwd"
   ]
  },
  {
   "cell_type": "code",
   "execution_count": 3,
   "metadata": {
    "collapsed": true
   },
   "outputs": [],
   "source": [
    "import scipy.misc\n",
    "scipy.misc.imread?"
   ]
  },
  {
   "cell_type": "code",
   "execution_count": 4,
   "metadata": {
    "collapsed": false
   },
   "outputs": [
    {
     "data": {
      "image/png": "[encoded data removed]",
      "text/plain": [
       "<matplotlib.figure.Figure at 0x1100efc88>"
      ]
     },
     "metadata": {},
     "output_type": "display_data"
    }
   ],
   "source": [
    "from scipy.misc import imread\n",
    "# original image from https://upload.wikimedia.org/wikipedia/commons/5/56/Kobe_Bryant_2014.jpg\n",
    "image = imread('../data/Kobe_Bryant_2014.jpg', flatten=True).astype(float) # greyscale\n",
    "display_image(image)"
   ]
  },
  {
   "cell_type": "code",
   "execution_count": 6,
   "metadata": {
    "collapsed": true
   },
   "outputs": [],
   "source": [
    "def segment_np(image, threshold):\n",
    "    output = np.zeros_like(image)\n",
    "    output[image > threshold] = 255\n",
    "    return output"
   ]
  },
  {
   "cell_type": "code",
   "execution_count": 9,
   "metadata": {
    "collapsed": false
   },
   "outputs": [
    {
     "data": {
      "image/png": "[encoded data removed]",
      "text/plain": [
       "<matplotlib.figure.Figure at 0x114cfc7f0>"
      ]
     },
     "metadata": {},
     "output_type": "display_data"
    }
   ],
   "source": [
    "display_image(segment_np(image, 100))"
   ]
  },
  {
   "cell_type": "code",
   "execution_count": 52,
   "metadata": {
    "collapsed": false
   },
   "outputs": [],
   "source": [
    "%%cython\n",
    "import numpy as np\n",
    "\n",
    "cdef void _segment(double[:,:] image, int n, int m, double threshold, double[:,:] output):\n",
    "    cdef int i, j\n",
    "    for i in range(n):\n",
    "        for j in range(m):\n",
    "            if image[i, j] > threshold:\n",
    "                output[i, j] = 255\n",
    "            else:\n",
    "                output[i, j] = 0\n",
    "\n",
    "def segment_cy(image, threshold):\n",
    "    output = np.zeros_like(image)\n",
    "    n, m = image.shape\n",
    "    _segment(image, n , m, threshold, output)\n",
    "    return output"
   ]
  },
  {
   "cell_type": "code",
   "execution_count": 53,
   "metadata": {
    "collapsed": false
   },
   "outputs": [
    {
     "data": {
      "image/png": "[encoded data removed]",
      "text/plain": [
       "<matplotlib.figure.Figure at 0x121f65eb8>"
      ]
     },
     "metadata": {},
     "output_type": "display_data"
    }
   ],
   "source": [
    "display_image(segment_cy(image, 100))"
   ]
  },
  {
   "cell_type": "code",
   "execution_count": 54,
   "metadata": {
    "collapsed": false
   },
   "outputs": [
    {
     "name": "stdout",
     "output_type": "stream",
     "text": [
      "1 loop, best of 3: 2.2 ms per loop\n",
      "1 loop, best of 3: 1.61 ms per loop\n"
     ]
    }
   ],
   "source": [
    "%timeit -n 1 segment_np(image, 100)\n",
    "%timeit -n 1 segment_cy(image, 100)"
   ]
  },
  {
   "cell_type": "code",
   "execution_count": 8,
   "metadata": {
    "collapsed": true
   },
   "outputs": [],
   "source": [
    "%%cython\n",
    "import numpy as np\n",
    "cimport cython\n",
    "\n",
    "@cython.boundscheck(False)\n",
    "cdef void _segment2(double[:,:] image, unsigned int n, unsigned int m, double threshold, double[:,:] output):\n",
    "    cdef unsigned int i, j\n",
    "    for i in range(n):\n",
    "        for j in range(m):\n",
    "            if image[i, j] > threshold:\n",
    "                output[i, j] = 255\n",
    "            else:\n",
    "                output[i, j] = 0\n",
    "\n",
    "def segment_cy2(image, threshold):\n",
    "    output = np.zeros_like(image)\n",
    "    n, m = image.shape\n",
    "    _segment2(image, n , m, threshold, output)\n",
    "    return output"
   ]
  },
  {
   "cell_type": "code",
   "execution_count": 56,
   "metadata": {
    "collapsed": false
   },
   "outputs": [
    {
     "data": {
      "image/png": "[encoded data removed]",
      "text/plain": [
       "<matplotlib.figure.Figure at 0x110a80c18>"
      ]
     },
     "metadata": {},
     "output_type": "display_data"
    }
   ],
   "source": [
    "display_image(segment_cy2(image, 100))"
   ]
  },
  {
   "cell_type": "code",
   "execution_count": 57,
   "metadata": {
    "collapsed": false
   },
   "outputs": [
    {
     "name": "stdout",
     "output_type": "stream",
     "text": [
      "100 loops, best of 3: 2.32 ms per loop\n",
      "100 loops, best of 3: 1.91 ms per loop\n",
      "1000 loops, best of 3: 1.86 ms per loop\n"
     ]
    }
   ],
   "source": [
    "%timeit segment_np(image, 100)\n",
    "%timeit segment_cy(image, 100)\n",
    "%timeit segment_cy2(image, 100)"
   ]
  },
  {
   "cell_type": "markdown",
   "metadata": {},
   "source": [
    "You can explore other [compiler directives](https://github.com/cython/cython/wiki/enhancements-compilerdirectives) such as `wraparound` and `nonecheck`."
   ]
  },
  {
   "cell_type": "markdown",
   "metadata": {},
   "source": [
    "# Releasing the GIL\n",
    "\n",
    "Cython can be directed to [release the GIL](http://docs.cython.org/src/userguide/external_C_code.html#acquiring-and-releasing-the-gil), thus enabling multiple threads to run in parallel (if the OS allows it) and achieve performence gain even in comparison to multi-processing, as threads are cheaper than processes and thread communication is faster than process communication."
   ]
  },
  {
   "cell_type": "code",
   "execution_count": 6,
   "metadata": {
    "collapsed": false
   },
   "outputs": [],
   "source": [
    "import multiprocessing\n",
    "multiprocessing.cpu_count\n",
    "\n",
    "import contextlib\n",
    "import time\n",
    "\n",
    "@contextlib.contextmanager\n",
    "def tictoc():\n",
    "    tic = time.time()\n",
    "    yield tic\n",
    "    toc = time.time()\n",
    "    print(\"Elapsed {} seconds\".format(toc - tic))"
   ]
  },
  {
   "cell_type": "markdown",
   "metadata": {},
   "source": [
    "Of course, this would just slow things down if the CPU count above is 1."
   ]
  },
  {
   "cell_type": "code",
   "execution_count": 10,
   "metadata": {
    "collapsed": false,
    "scrolled": true
   },
   "outputs": [],
   "source": [
    "%%cython\n",
    "import numpy as np\n",
    "cimport cython\n",
    "\n",
    "@cython.boundscheck(False)\n",
    "cdef void _segment2(double[:,:] image, unsigned int n, unsigned int m, double threshold, double[:,:] output):\n",
    "    cdef unsigned int i, j\n",
    "    for i in range(n):\n",
    "        for j in range(m):\n",
    "            if image[i, j] > threshold:\n",
    "                output[i, j] = 255\n",
    "            else:\n",
    "                output[i, j] = 0\n",
    "\n",
    "def _segment_cy3(image, threshold, output):\n",
    "    n, m = image.shape\n",
    "    _segment2(image, n , m, threshold, output)"
   ]
  },
  {
   "cell_type": "code",
   "execution_count": 11,
   "metadata": {
    "collapsed": false
   },
   "outputs": [
    {
     "name": "stdout",
     "output_type": "stream",
     "text": [
      "CPUs: 4\n"
     ]
    }
   ],
   "source": [
    "from concurrent.futures import ThreadPoolExecutor, wait\n",
    "from multiprocessing import cpu_count\n",
    "print(\"CPUs:\", cpu_count())\n",
    "\n",
    "def segment_cy3(image, threshold, cores=cpu_count()):\n",
    "    n, m = image.shape\n",
    "    output = np.empty_like(image)\n",
    "    ns = np.arange(0, n, 1, dtype=int)\n",
    "    with ThreadPoolExecutor(cores) as executor:\n",
    "        futures = [\n",
    "            executor.submit(\n",
    "                _segment_cy3, image[start_n:stop_n], threshold, output[start_n:stop_n]\n",
    "            )\n",
    "            for start_n, stop_n in zip(ns[:-1], ns[1:])\n",
    "        ]\n",
    "        wait(futures)\n",
    "    return output"
   ]
  },
  {
   "cell_type": "code",
   "execution_count": 12,
   "metadata": {
    "collapsed": false
   },
   "outputs": [
    {
     "data": {
      "image/png": "[encoded data removed]",
      "text/plain": [
       "<matplotlib.figure.Figure at 0x119f15908>"
      ]
     },
     "metadata": {},
     "output_type": "display_data"
    }
   ],
   "source": [
    "display_image(segment_cy3(image, 100))"
   ]
  },
  {
   "cell_type": "markdown",
   "metadata": {},
   "source": [
    "Let's try it on a bigger image by resizing our image:"
   ]
  },
  {
   "cell_type": "code",
   "execution_count": 13,
   "metadata": {
    "collapsed": true
   },
   "outputs": [],
   "source": [
    "from skimage.transform import resize"
   ]
  },
  {
   "cell_type": "code",
   "execution_count": 15,
   "metadata": {
    "collapsed": false
   },
   "outputs": [
    {
     "name": "stdout",
     "output_type": "stream",
     "text": [
      "849600 -> 869990400\n"
     ]
    }
   ],
   "source": [
    "n, m = image.shape\n",
    "big_image = resize(image, (32*n, 32*m))\n",
    "print(image.size, \"->\", big_image.size)"
   ]
  },
  {
   "cell_type": "code",
   "execution_count": 16,
   "metadata": {
    "collapsed": false
   },
   "outputs": [
    {
     "name": "stdout",
     "output_type": "stream",
     "text": [
      "Elapsed 47.69877910614014 seconds\n"
     ]
    }
   ],
   "source": [
    "with tictoc():\n",
    "    segment_cy2(big_image, 100)"
   ]
  },
  {
   "cell_type": "code",
   "execution_count": 17,
   "metadata": {
    "collapsed": false
   },
   "outputs": [
    {
     "name": "stdout",
     "output_type": "stream",
     "text": [
      "Elapsed 19.747546195983887 seconds\n"
     ]
    }
   ],
   "source": [
    "with tictoc():\n",
    "    segment_cy3(big_image, 100)"
   ]
  },
  {
   "cell_type": "markdown",
   "metadata": {},
   "source": [
    "If we resize by less than 32-fold then `segment_cy2` is faster than `segment_cy3`, at least in my tests."
   ]
  },
  {
   "cell_type": "markdown",
   "metadata": {},
   "source": [
    "# References\n",
    "\n",
    "- [Cython language basics](http://docs.cython.org/src/userguide/language_basics.html#language-basics)\n",
    "- [Cython for NumPy users](http://docs.cython.org/src/userguide/numpy_tutorial.html#numpy-tutorial) offers a 2D convolve example.\n",
    "- [IPython Cookbook](https://ipython-books.github.io/cookbook/) by Cyrille Rossant has a full chapter on high performance computing. with many [notebook examples](https://github.com/ipython-books/cookbook-code/tree/master/notebooks/chapter05_hpc) and a more complicated Cython example.\n",
    "- [Numba](http://numba.pydata.org/)\n",
    "- [Numexpr](https://github.com/pydata/numexpr/wiki/Numexpr-Users-Guide)\n",
    "- [Blaze Ecosystem](http://blaze.pydata.org/)\n",
    "- Jake Vanderplas's [Cython project template](https://github.com/jakevdp/cython_template) can help you build projects that use Cython."
   ]
  },
  {
   "cell_type": "markdown",
   "metadata": {},
   "source": [
    "# Colophon\n",
    "This notebook was written by [Yoav Ram](http://python.yoavram.com) and is part of the [_Python for Engineers_](https://github.com/yoavram/Py4Eng) course.\n",
    "\n",
    "The notebook was written using [Python](http://python.org/) 3.6.0, [IPython](http://ipython.org/) 5.2.2, [Jupyter](http://jupyter.org) 4.3.0.\n",
    "\n",
    "This work is licensed under a CC BY-NC-SA 4.0 International License.\n",
    "\n",
    "![Python logo](https://www.python.org/static/community_logos/python-logo.png)"
   ]
  }
 ],
 "metadata": {
  "kernelspec": {
   "display_name": "Python [conda env:Py4Eng]",
   "language": "python",
   "name": "conda-env-Py4Eng-py"
  },
  "language_info": {
   "codemirror_mode": {
    "name": "ipython",
    "version": 3
   },
   "file_extension": ".py",
   "mimetype": "text/x-python",
   "name": "python",
   "nbconvert_exporter": "python",
   "pygments_lexer": "ipython3",
   "version": "3.6.0"
  }
 },
 "nbformat": 4,
 "nbformat_minor": 0
}
