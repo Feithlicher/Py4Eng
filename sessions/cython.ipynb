{
 "cells": [
  {
   "cell_type": "markdown",
   "metadata": {},
   "source": [
    "![Py4Eng](img/logo.png)\n",
    "\n",
    "# Cython\n",
    "## Yoav Ram"
   ]
  },
  {
   "cell_type": "markdown",
   "metadata": {},
   "source": [
    "# [Cython at a glance](http://docs.cython.org/src/userguide/numpy_tutorial.html#cython-at-a-glance)\n",
    "\n",
    "Cython is a compiler which compiles Python-like code files to C code. Still, ‘’Cython is not a Python to C translator’‘. That is, it doesn’t take your full program and “turns it into C” – rather, the result makes full use of the Python runtime environment. A way of looking at it may be that your code is still Python in that it runs within the Python runtime environment, but rather than compiling to interpreted Python bytecode one compiles to native machine code (but with the addition of extra syntax for easy embedding of faster C-like code).\n",
    "\n",
    "This has two important consequences:\n",
    "\n",
    "- **Speed.** How much depends very much on the program involved though. Typical Python numerical programs would tend to gain very little as most time is spent in lower-level C that is used in a high-level fashion. However for-loop-style programs can gain many orders of magnitude, when typing information is added (and is so made possible as a realistic alternative).\n",
    "- **Easy calling into C code.** One of Cython’s purposes is to allow easy wrapping of C libraries. When writing code in Cython you can call into C code as easily as into Python code.\n",
    "\n",
    "Some Python constructs are not yet supported, though making Cython compile all Python code is a stated goal (among the more important omissions are inner functions and generator functions)."
   ]
  },
  {
   "cell_type": "markdown",
   "metadata": {},
   "source": [
    "## Hello world!\n",
    "\n",
    "Let's start with a simple *Hello World!* to check that everything is working.\n",
    "\n",
    "We load the `Cython` magic that will allow us to quickly use Cython inside the notebook. The magic is installed with the `cython` package (`conda install cython` or `pip install cython`). The Cython requires that a C compiler is installed and can be found, and on Windows that may be tricky, here are some resources:\n",
    "\n",
    "- [Install Cython on Windows](https://github.com/cython/cython/wiki/InstallingOnWindows)\n",
    "- [Install C compiler on Windows](https://github.com/cython/cython/wiki/CythonExtensionsOnWindows)\n",
    "- [Compiling Python extensions on Windows](https://blog.ionelmc.ro/2014/12/21/compiling-python-extensions-on-windows/)\n",
    "\n",
    "On Linux/OSX you probably already have a compiler, check with `!gcc --version`. If `gcc` is not found, install it:\n",
    "\n",
    "- On [Ubuntu](https://help.ubuntu.com/community/InstallingCompilers) you should run `sudo apt-get install build-essential`.\n",
    "- On CentOS you just need to install development tools: `sudo yum group install \"Development Tools\"`."
   ]
  },
  {
   "cell_type": "code",
   "execution_count": 1,
   "metadata": {
    "collapsed": false
   },
   "outputs": [
    {
     "name": "stdout",
     "output_type": "stream",
     "text": [
      "Cython 0.24\n"
     ]
    }
   ],
   "source": [
    "import Cython\n",
    "print(\"Cython\", Cython.__version__)\n",
    "\n",
    "%load_ext Cython"
   ]
  },
  {
   "cell_type": "code",
   "execution_count": 2,
   "metadata": {
    "collapsed": false,
    "scrolled": true
   },
   "outputs": [
    {
     "name": "stdout",
     "output_type": "stream",
     "text": [
      "Hello World!\n"
     ]
    }
   ],
   "source": [
    "%%cython \n",
    "print(\"Hello World!\")"
   ]
  },
  {
   "cell_type": "markdown",
   "metadata": {},
   "source": [
    "## First Cython example\n",
    "\n",
    "Let's see a quick example of what Cython can do for us. \n",
    "\n",
    "Consider the following Python [function that returns the first `k` prime numbers](http://docs.cython.org/src/tutorial/cython_tutorial.html#primes):"
   ]
  },
  {
   "cell_type": "code",
   "execution_count": 3,
   "metadata": {
    "collapsed": true
   },
   "outputs": [],
   "source": [
    "def primes(kmax):\n",
    "    p = [None]*1000\n",
    "    result = []\n",
    "    if kmax > 1000:\n",
    "        kmax = 1000\n",
    "    k = 0\n",
    "    n = 2\n",
    "    while k < kmax:\n",
    "        i = 0\n",
    "        while i < k and n % p[i] != 0:\n",
    "            i = i + 1\n",
    "        if i == k:\n",
    "            p[k] = n\n",
    "            k = k + 1\n",
    "            result.append(n)\n",
    "        n = n + 1\n",
    "    return result"
   ]
  },
  {
   "cell_type": "markdown",
   "metadata": {},
   "source": [
    "Here is the Cython version of this function; the only addition here is that we use `cdef` to define the types of `n, k, i, p`. This `cdef` statement is used to define **local C variables**. We also add `int` in the arguments list to define the type of `kmax`: this means that any object passed will be **converted to a C integer**."
   ]
  },
  {
   "cell_type": "code",
   "execution_count": 4,
   "metadata": {
    "collapsed": false
   },
   "outputs": [],
   "source": [
    "%%cython\n",
    "def cprimes(int kmax):\n",
    "    cdef int n, k, i\n",
    "    cdef int p[1000]\n",
    "    result = []\n",
    "    if kmax > 1000:\n",
    "        kmax = 1000\n",
    "    k = 0\n",
    "    n = 2\n",
    "    while k < kmax:\n",
    "        i = 0\n",
    "        while i < k and n % p[i] != 0:\n",
    "            i = i + 1\n",
    "        if i == k:\n",
    "            p[k] = n\n",
    "            k = k + 1\n",
    "            result.append(n)\n",
    "        n = n + 1\n",
    "    return result"
   ]
  },
  {
   "cell_type": "code",
   "execution_count": 5,
   "metadata": {
    "collapsed": false,
    "scrolled": true
   },
   "outputs": [
    {
     "data": {
      "text/plain": [
       "True"
      ]
     },
     "execution_count": 5,
     "metadata": {},
     "output_type": "execute_result"
    }
   ],
   "source": [
    "primes(100) == cprimes(100)"
   ]
  },
  {
   "cell_type": "code",
   "execution_count": 6,
   "metadata": {
    "collapsed": false
   },
   "outputs": [
    {
     "name": "stdout",
     "output_type": "stream",
     "text": [
      "1 loop, best of 3: 134 ms per loop\n",
      "100 loops, best of 3: 3.13 ms per loop\n"
     ]
    }
   ],
   "source": [
    "n = 1000\n",
    "%timeit primes(n)\n",
    "%timeit cprimes(n)"
   ]
  },
  {
   "cell_type": "markdown",
   "metadata": {
    "collapsed": true
   },
   "source": [
    "Note that in the inner loop (lines 12-13) only objects with type definitions, and thus C objects, are reffered to; therefore, **the loop is translated entirely into C code**, and runs very fast. Notice that the `cdef`-defined `n` is passed to `result.append`, a method of a Python list object. The conversion is taken care of by Cython."
   ]
  },
  {
   "cell_type": "markdown",
   "metadata": {},
   "source": [
    "## Creating a Cython module\n",
    "\n",
    "We can now put that Cython code into a separate file with extension `pyx`. "
   ]
  },
  {
   "cell_type": "code",
   "execution_count": 1,
   "metadata": {
    "collapsed": false
   },
   "outputs": [
    {
     "name": "stdout",
     "output_type": "stream",
     "text": [
      "/Users/yoavram/Work/Py4Eng/scripts/cython\n"
     ]
    }
   ],
   "source": [
    "#!mkdir ../scripts/cython\n",
    "%cd ../scripts/cython"
   ]
  },
  {
   "cell_type": "code",
   "execution_count": 2,
   "metadata": {
    "collapsed": false
   },
   "outputs": [
    {
     "name": "stdout",
     "output_type": "stream",
     "text": [
      "Overwriting primes.pyx\n"
     ]
    }
   ],
   "source": [
    "%%file primes.pyx\n",
    "def cprimes(int kmax):\n",
    "    cdef int n, k, i\n",
    "    cdef int p[1000]\n",
    "    result = []\n",
    "    if kmax > 1000:\n",
    "        kmax = 1000\n",
    "    k = 0\n",
    "    n = 2\n",
    "    while k < kmax:\n",
    "        i = 0\n",
    "        while i < k and n % p[i] != 0:\n",
    "            i = i + 1\n",
    "        if i == k:\n",
    "            p[k] = n\n",
    "            k = k + 1\n",
    "            result.append(n)\n",
    "        n = n + 1\n",
    "    return result"
   ]
  },
  {
   "cell_type": "markdown",
   "metadata": {},
   "source": [
    "Now we compile it and import it with a single stroke using the [`pyximport` module](http://docs.cython.org/en/latest/src/reference/compilation.html#pyximport),\n",
    "\n",
    "> Cython code, unlike Python, must be compiled.\n",
    "> This happens in two stages:\n",
    "> A .pyx file is compiles by Cython to a .c file.\n",
    "> The .c file is compiled by a C comiler to a .so file (or a .pyd file on Windows)"
   ]
  },
  {
   "cell_type": "code",
   "execution_count": 3,
   "metadata": {
    "collapsed": false
   },
   "outputs": [
    {
     "data": {
      "text/plain": [
       "(None, <pyximport.pyximport.PyxImporter at 0x104dea4a8>)"
      ]
     },
     "execution_count": 3,
     "metadata": {},
     "output_type": "execute_result"
    }
   ],
   "source": [
    "import pyximport\n",
    "pyximport.install()"
   ]
  },
  {
   "cell_type": "code",
   "execution_count": 4,
   "metadata": {
    "collapsed": true
   },
   "outputs": [],
   "source": [
    "from primes import cprimes"
   ]
  },
  {
   "cell_type": "code",
   "execution_count": 5,
   "metadata": {
    "collapsed": false
   },
   "outputs": [
    {
     "data": {
      "text/plain": [
       "True"
      ]
     },
     "execution_count": 5,
     "metadata": {},
     "output_type": "execute_result"
    }
   ],
   "source": [
    "len(cprimes(100)) == 100"
   ]
  },
  {
   "cell_type": "markdown",
   "metadata": {},
   "source": [
    "You can also do this on your own, without `pyximport`. This is useful when shipping or if you just want to see the C file - for example, to see how much work Cython saved you from doing!\n",
    "\n",
    "You start by writing a `setup.py` file which imports `cythonize` from the Cython package and tells `setup` (the standard way to setup Python packages, using `distutils` or `setuptools`) to build an extension module using `cythonize`."
   ]
  },
  {
   "cell_type": "code",
   "execution_count": 10,
   "metadata": {
    "collapsed": false
   },
   "outputs": [
    {
     "name": "stdout",
     "output_type": "stream",
     "text": [
      "Writing setup.py\n"
     ]
    }
   ],
   "source": [
    "%%file setup.py\n",
    "from distutils.core import setup\n",
    "from Cython.Build import cythonize\n",
    "\n",
    "setup(\n",
    "    ext_modules = cythonize(\"primes.pyx\")\n",
    ")"
   ]
  },
  {
   "cell_type": "markdown",
   "metadata": {},
   "source": [
    "Run it with this command, which builds the extension:"
   ]
  },
  {
   "cell_type": "code",
   "execution_count": 11,
   "metadata": {
    "collapsed": false
   },
   "outputs": [
    {
     "name": "stdout",
     "output_type": "stream",
     "text": [
      "Compiling primes.pyx because it changed.\n",
      "[1/1] Cythonizing primes.pyx\n",
      "running build_ext\n",
      "building 'primes' extension\n",
      "creating build\n",
      "creating build/temp.linux-x86_64-3.5\n",
      "gcc -pthread -Wsign-compare -Wunreachable-code -DNDEBUG -g -fwrapv -O3 -Wall -Wstrict-prototypes -fPIC -I/home/osboxes/miniconda3/envs/Py4Eng/include/python3.5m -c primes.c -o build/temp.linux-x86_64-3.5/primes.o\n",
      "gcc -pthread -shared -L/home/osboxes/miniconda3/envs/Py4Eng/lib -Wl,-rpath=/home/osboxes/miniconda3/envs/Py4Eng/lib,--no-as-needed build/temp.linux-x86_64-3.5/primes.o -L/home/osboxes/miniconda3/envs/Py4Eng/lib -lpython3.5m -o /home/osboxes/Py4Eng/scripts/cython/primes.cpython-35m-x86_64-linux-gnu.so\n"
     ]
    }
   ],
   "source": [
    "!python setup.py build_ext --inplace"
   ]
  },
  {
   "cell_type": "markdown",
   "metadata": {},
   "source": [
    "Let's see what was generated (this might look different on different machines, especially Windows vs. Linux):"
   ]
  },
  {
   "cell_type": "code",
   "execution_count": 6,
   "metadata": {
    "collapsed": false
   },
   "outputs": [
    {
     "name": "stdout",
     "output_type": "stream",
     "text": [
      "app.py                        \u001b[31mprimes.cpython-35m-darwin.so\u001b[m\u001b[m*\r\n",
      "\u001b[1m\u001b[36mbuild\u001b[m\u001b[m/                        primes.pyx\r\n",
      "primes.c                      setup.py\r\n"
     ]
    }
   ],
   "source": [
    "%ls"
   ]
  },
  {
   "cell_type": "markdown",
   "metadata": {},
   "source": [
    "And the actual C file:"
   ]
  },
  {
   "cell_type": "code",
   "execution_count": 13,
   "metadata": {
    "collapsed": false,
    "scrolled": true
   },
   "outputs": [
    {
     "name": "stdout",
     "output_type": "stream",
     "text": [
      "/* Generated by Cython 0.24 */\n",
      "\n",
      "/* BEGIN: Cython Metadata\n",
      "{\n",
      "    \"distutils\": {}\n",
      "}\n",
      "END: Cython Metadata */\n",
      "\n",
      "#define PY_SSIZE_T_CLEAN\n",
      "#include \"Python.h\"\n",
      "#ifndef Py_PYTHON_H\n",
      "    #error Python headers needed to compile C extensions, please install development version of Python.\n",
      "#elif PY_VERSION_HEX < 0x02060000 || (0x03000000 <= PY_VERSION_HEX && PY_VERSION_HEX < 0x03020000)\n",
      "    #error Cython requires Python 2.6+ or Python 3.2+.\n",
      "#else\n",
      "#define CYTHON_ABI \"0_24\"\n",
      "#include <stddef.h>\n",
      "#ifndef offsetof\n",
      "  #define offsetof(type, member) ( (size_t) & ((type*)0) -> member )\n",
      "#endif\n",
      "#if !defined(WIN32) && !defined(MS_WINDOWS)\n",
      "  #ifndef __stdcall\n",
      "    #define __stdcall\n",
      "  #endif\n",
      "  #ifndef __cdecl\n",
      "    #define __cdecl\n",
      "  #endif\n",
      "  #ifndef __fastcall\n",
      "    #define __fastcall\n",
      "  #endif\n",
      "#endif\n",
      "#ifndef DL_IMPORT\n",
      "  #define DL_IMPORT(t) t\n",
      "#endif\n",
      "#ifndef DL_EXPORT\n",
      "  #define DL_EXPORT(t) t\n",
      "#endif\n",
      "#ifndef PY_LONG_LONG\n",
      "  #define PY_LONG_LONG LONG_LONG\n",
      "#endif\n",
      "#ifndef Py_HUGE_VAL\n",
      "  #define Py_HUGE_VAL HUGE_VAL\n",
      "#endif\n",
      "#ifdef PYPY_VERSION\n",
      "  #define CYTHON_COMPILING_IN_PYPY 1\n",
      "  #define CYTHON_COMPILING_IN_CPYTHON 0\n",
      "#else\n",
      "  #define CYTHON_COMPILING_IN_PYPY 0\n",
      "  #define CYTHON_COMPILING_IN_CPYTHON 1\n",
      "#endif\n",
      "#if !defined(CYTHON_USE_PYLONG_INTERNALS) && CYTHON_COMPILING_IN_CPYTHON && PY_VERSION_HEX >= 0x02070000\n",
      "  #define CYTHON_USE_PYLONG_INTERNALS 1\n",
      "#endif\n",
      "#if CYTHON_USE_PYLONG_INTERNALS\n",
      "  #include \"longintrepr.h\"\n",
      "  #undef SHIFT\n",
      "  #undef BASE\n",
      "  #undef MASK\n",
      "#endif\n",
      "#if CYTHON_COMPILING_IN_PYPY && PY_VERSION_HEX < 0x02070600 && !defined(Py_OptimizeFlag)\n",
      "  #define Py_OptimizeFlag 0\n",
      "#endif\n",
      "#define __PYX_BUILD_PY_SSIZE_T \"n\"\n",
      "#define CYTHON_FORMAT_SSIZE_T \"z\"\n",
      "#if PY_MAJOR_VERSION < 3\n",
      "  #define __Pyx_BUILTIN_MODULE_NAME \"__builtin__\"\n",
      "  #define __Pyx_PyCode_New(a, k, l, s, f, code, c, n, v, fv, cell, fn, name, fline, lnos)\\\n",
      "          PyCode_New(a+k, l, s, f, code, c, n, v, fv, cell, fn, name, fline, lnos)\n",
      "  #define __Pyx_DefaultClassType PyClass_Type\n",
      "#else\n",
      "  #define __Pyx_BUILTIN_MODULE_NAME \"builtins\"\n",
      "  #define __Pyx_PyCode_New(a, k, l, s, f, code, c, n, v, fv, cell, fn, name, fline, lnos)\\\n",
      "          PyCode_New(a, k, l, s, f, code, c, n, v, fv, cell, fn, name, fline, lnos)\n",
      "  #define __Pyx_DefaultClassType PyType_Type\n",
      "#endif\n",
      "#ifndef Py_TPFLAGS_CHECKTYPES\n",
      "  #define Py_TPFLAGS_CHECKTYPES 0\n",
      "#endif\n",
      "#ifndef Py_TPFLAGS_HAVE_INDEX\n",
      "  #define Py_TPFLAGS_HAVE_INDEX 0\n",
      "#endif\n",
      "#ifndef Py_TPFLAGS_HAVE_NEWBUFFER\n",
      "  #define Py_TPFLAGS_HAVE_NEWBUFFER 0\n",
      "#endif\n",
      "#ifndef Py_TPFLAGS_HAVE_FINALIZE\n",
      "  #define Py_TPFLAGS_HAVE_FINALIZE 0\n",
      "#endif\n",
      "#if PY_VERSION_HEX > 0x03030000 && defined(PyUnicode_KIND)\n",
      "  #define CYTHON_PEP393_ENABLED 1\n",
      "  #define __Pyx_PyUnicode_READY(op)       (likely(PyUnicode_IS_READY(op)) ?\\\n",
      "                                              0 : _PyUnicode_Ready((PyObject *)(op)))\n",
      "  #define __Pyx_PyUnicode_GET_LENGTH(u)   PyUnicode_GET_LENGTH(u)\n",
      "  #define __Pyx_PyUnicode_READ_CHAR(u, i) PyUnicode_READ_CHAR(u, i)\n",
      "  #define __Pyx_PyUnicode_KIND(u)         PyUnicode_KIND(u)\n",
      "  #define __Pyx_PyUnicode_DATA(u)         PyUnicode_DATA(u)\n",
      "  #define __Pyx_PyUnicode_READ(k, d, i)   PyUnicode_READ(k, d, i)\n",
      "  #define __Pyx_PyUnicode_IS_TRUE(u)      (0 != (likely(PyUnicode_IS_READY(u)) ? PyUnicode_GET_LENGTH(u) : PyUnicode_GET_SIZE(u)))\n",
      "#else\n",
      "  #define CYTHON_PEP393_ENABLED 0\n",
      "  #define __Pyx_PyUnicode_READY(op)       (0)\n",
      "  #define __Pyx_PyUnicode_GET_LENGTH(u)   PyUnicode_GET_SIZE(u)\n",
      "  #define __Pyx_PyUnicode_READ_CHAR(u, i) ((Py_UCS4)(PyUnicode_AS_UNICODE(u)[i]))\n",
      "  #define __Pyx_PyUnicode_KIND(u)         (sizeof(Py_UNICODE))\n",
      "  #define __Pyx_PyUnicode_DATA(u)         ((void*)PyUnicode_AS_UNICODE(u))\n",
      "  #define __Pyx_PyUnicode_READ(k, d, i)   ((void)(k), (Py_UCS4)(((Py_UNICODE*)d)[i]))\n",
      "  #define __Pyx_PyUnicode_IS_TRUE(u)      (0 != PyUnicode_GET_SIZE(u))\n",
      "#endif\n",
      "#if CYTHON_COMPILING_IN_PYPY\n",
      "  #define __Pyx_PyUnicode_Concat(a, b)      PyNumber_Add(a, b)\n",
      "  #define __Pyx_PyUnicode_ConcatSafe(a, b)  PyNumber_Add(a, b)\n",
      "#else\n",
      "  #define __Pyx_PyUnicode_Concat(a, b)      PyUnicode_Concat(a, b)\n",
      "  #define __Pyx_PyUnicode_ConcatSafe(a, b)  ((unlikely((a) == Py_None) || unlikely((b) == Py_None)) ?\\\n",
      "      PyNumber_Add(a, b) : __Pyx_PyUnicode_Concat(a, b))\n",
      "#endif\n",
      "#if CYTHON_COMPILING_IN_PYPY && !defined(PyUnicode_Contains)\n",
      "  #define PyUnicode_Contains(u, s)  PySequence_Contains(u, s)\n",
      "#endif\n",
      "#if CYTHON_COMPILING_IN_PYPY && !defined(PyObject_Format)\n",
      "  #define PyObject_Format(obj, fmt)  PyObject_CallMethod(obj, \"__format__\", \"O\", fmt)\n",
      "#endif\n",
      "#if CYTHON_COMPILING_IN_PYPY && !defined(PyObject_Malloc)\n",
      "  #define PyObject_Malloc(s)   PyMem_Malloc(s)\n",
      "  #define PyObject_Free(p)     PyMem_Free(p)\n",
      "  #define PyObject_Realloc(p)  PyMem_Realloc(p)\n",
      "#endif\n",
      "#define __Pyx_PyString_FormatSafe(a, b)   ((unlikely((a) == Py_None)) ? PyNumber_Remainder(a, b) : __Pyx_PyString_Format(a, b))\n",
      "#define __Pyx_PyUnicode_FormatSafe(a, b)  ((unlikely((a) == Py_None)) ? PyNumber_Remainder(a, b) : PyUnicode_Format(a, b))\n",
      "#if PY_MAJOR_VERSION >= 3\n",
      "  #define __Pyx_PyString_Format(a, b)  PyUnicode_Format(a, b)\n",
      "#else\n",
      "  #define __Pyx_PyString_Format(a, b)  PyString_Format(a, b)\n",
      "#endif\n",
      "#if PY_MAJOR_VERSION < 3 && !defined(PyObject_ASCII)\n",
      "  #define PyObject_ASCII(o)            PyObject_Repr(o)\n",
      "#endif\n",
      "#if PY_MAJOR_VERSION >= 3\n",
      "  #define PyBaseString_Type            PyUnicode_Type\n",
      "  #define PyStringObject               PyUnicodeObject\n",
      "  #define PyString_Type                PyUnicode_Type\n",
      "  #define PyString_Check               PyUnicode_Check\n",
      "  #define PyString_CheckExact          PyUnicode_CheckExact\n",
      "#endif\n",
      "#if PY_MAJOR_VERSION >= 3\n",
      "  #define __Pyx_PyBaseString_Check(obj) PyUnicode_Check(obj)\n",
      "  #define __Pyx_PyBaseString_CheckExact(obj) PyUnicode_CheckExact(obj)\n",
      "#else\n",
      "  #define __Pyx_PyBaseString_Check(obj) (PyString_Check(obj) || PyUnicode_Check(obj))\n",
      "  #define __Pyx_PyBaseString_CheckExact(obj) (PyString_CheckExact(obj) || PyUnicode_CheckExact(obj))\n",
      "#endif\n",
      "#ifndef PySet_CheckExact\n",
      "  #define PySet_CheckExact(obj)        (Py_TYPE(obj) == &PySet_Type)\n",
      "#endif\n",
      "#define __Pyx_TypeCheck(obj, type) PyObject_TypeCheck(obj, (PyTypeObject *)type)\n",
      "#if PY_MAJOR_VERSION >= 3\n",
      "  #define PyIntObject                  PyLongObject\n",
      "  #define PyInt_Type                   PyLong_Type\n",
      "  #define PyInt_Check(op)              PyLong_Check(op)\n",
      "  #define PyInt_CheckExact(op)         PyLong_CheckExact(op)\n",
      "  #define PyInt_FromString             PyLong_FromString\n",
      "  #define PyInt_FromUnicode            PyLong_FromUnicode\n",
      "  #define PyInt_FromLong               PyLong_FromLong\n",
      "  #define PyInt_FromSize_t             PyLong_FromSize_t\n",
      "  #define PyInt_FromSsize_t            PyLong_FromSsize_t\n",
      "  #define PyInt_AsLong                 PyLong_AsLong\n",
      "  #define PyInt_AS_LONG                PyLong_AS_LONG\n",
      "  #define PyInt_AsSsize_t              PyLong_AsSsize_t\n",
      "  #define PyInt_AsUnsignedLongMask     PyLong_AsUnsignedLongMask\n",
      "  #define PyInt_AsUnsignedLongLongMask PyLong_AsUnsignedLongLongMask\n",
      "  #define PyNumber_Int                 PyNumber_Long\n",
      "#endif\n",
      "#if PY_MAJOR_VERSION >= 3\n",
      "  #define PyBoolObject                 PyLongObject\n",
      "#endif\n",
      "#if PY_MAJOR_VERSION >= 3 && CYTHON_COMPILING_IN_PYPY\n",
      "  #ifndef PyUnicode_InternFromString\n",
      "    #define PyUnicode_InternFromString(s) PyUnicode_FromString(s)\n",
      "  #endif\n",
      "#endif\n",
      "#if PY_VERSION_HEX < 0x030200A4\n",
      "  typedef long Py_hash_t;\n",
      "  #define __Pyx_PyInt_FromHash_t PyInt_FromLong\n",
      "  #define __Pyx_PyInt_AsHash_t   PyInt_AsLong\n",
      "#else\n",
      "  #define __Pyx_PyInt_FromHash_t PyInt_FromSsize_t\n",
      "  #define __Pyx_PyInt_AsHash_t   PyInt_AsSsize_t\n",
      "#endif\n",
      "#if PY_MAJOR_VERSION >= 3\n",
      "  #define __Pyx_PyMethod_New(func, self, klass) ((self) ? PyMethod_New(func, self) : PyInstanceMethod_New(func))\n",
      "#else\n",
      "  #define __Pyx_PyMethod_New(func, self, klass) PyMethod_New(func, self, klass)\n",
      "#endif\n",
      "#if PY_VERSION_HEX >= 0x030500B1\n",
      "#define __Pyx_PyAsyncMethodsStruct PyAsyncMethods\n",
      "#define __Pyx_PyType_AsAsync(obj) (Py_TYPE(obj)->tp_as_async)\n",
      "#elif CYTHON_COMPILING_IN_CPYTHON && PY_MAJOR_VERSION >= 3\n",
      "typedef struct {\n",
      "    unaryfunc am_await;\n",
      "    unaryfunc am_aiter;\n",
      "    unaryfunc am_anext;\n",
      "} __Pyx_PyAsyncMethodsStruct;\n",
      "#define __Pyx_PyType_AsAsync(obj) ((__Pyx_PyAsyncMethodsStruct*) (Py_TYPE(obj)->tp_reserved))\n",
      "#else\n",
      "#define __Pyx_PyType_AsAsync(obj) NULL\n",
      "#endif\n",
      "#ifndef CYTHON_RESTRICT\n",
      "  #if defined(__GNUC__)\n",
      "    #define CYTHON_RESTRICT __restrict__\n",
      "  #elif defined(_MSC_VER) && _MSC_VER >= 1400\n",
      "    #define CYTHON_RESTRICT __restrict\n",
      "  #elif defined (__STDC_VERSION__) && __STDC_VERSION__ >= 199901L\n",
      "    #define CYTHON_RESTRICT restrict\n",
      "  #else\n",
      "    #define CYTHON_RESTRICT\n",
      "  #endif\n",
      "#endif\n",
      "#define __Pyx_void_to_None(void_result) ((void)(void_result), Py_INCREF(Py_None), Py_None)\n",
      "\n",
      "#ifndef CYTHON_INLINE\n",
      "  #if defined(__GNUC__)\n",
      "    #define CYTHON_INLINE __inline__\n",
      "  #elif defined(_MSC_VER)\n",
      "    #define CYTHON_INLINE __inline\n",
      "  #elif defined (__STDC_VERSION__) && __STDC_VERSION__ >= 199901L\n",
      "    #define CYTHON_INLINE inline\n",
      "  #else\n",
      "    #define CYTHON_INLINE\n",
      "  #endif\n",
      "#endif\n",
      "\n",
      "#if defined(WIN32) || defined(MS_WINDOWS)\n",
      "  #define _USE_MATH_DEFINES\n",
      "#endif\n",
      "#include <math.h>\n",
      "#ifdef NAN\n",
      "#define __PYX_NAN() ((float) NAN)\n",
      "#else\n",
      "static CYTHON_INLINE float __PYX_NAN() {\n",
      "  float value;\n",
      "  memset(&value, 0xFF, sizeof(value));\n",
      "  return value;\n",
      "}\n",
      "#endif\n",
      "\n",
      "\n",
      "#define __PYX_ERR(f_index, lineno, Ln_error) \\\n",
      "{ \\\n",
      "  __pyx_filename = __pyx_f[f_index]; __pyx_lineno = lineno; __pyx_clineno = __LINE__; goto Ln_error; \\\n",
      "}\n",
      "\n",
      "#if PY_MAJOR_VERSION >= 3\n",
      "  #define __Pyx_PyNumber_Divide(x,y)         PyNumber_TrueDivide(x,y)\n",
      "  #define __Pyx_PyNumber_InPlaceDivide(x,y)  PyNumber_InPlaceTrueDivide(x,y)\n",
      "#else\n",
      "  #define __Pyx_PyNumber_Divide(x,y)         PyNumber_Divide(x,y)\n",
      "  #define __Pyx_PyNumber_InPlaceDivide(x,y)  PyNumber_InPlaceDivide(x,y)\n",
      "#endif\n",
      "\n",
      "#ifndef __PYX_EXTERN_C\n",
      "  #ifdef __cplusplus\n",
      "    #define __PYX_EXTERN_C extern \"C\"\n",
      "  #else\n",
      "    #define __PYX_EXTERN_C extern\n",
      "  #endif\n",
      "#endif\n",
      "\n",
      "#define __PYX_HAVE__primes\n",
      "#define __PYX_HAVE_API__primes\n",
      "#ifdef _OPENMP\n",
      "#include <omp.h>\n",
      "#endif /* _OPENMP */\n",
      "\n",
      "#ifdef PYREX_WITHOUT_ASSERTIONS\n",
      "#define CYTHON_WITHOUT_ASSERTIONS\n",
      "#endif\n",
      "\n",
      "#ifndef CYTHON_UNUSED\n",
      "# if defined(__GNUC__)\n",
      "#   if !(defined(__cplusplus)) || (__GNUC__ > 3 || (__GNUC__ == 3 && __GNUC_MINOR__ >= 4))\n",
      "#     define CYTHON_UNUSED __attribute__ ((__unused__))\n",
      "#   else\n",
      "#     define CYTHON_UNUSED\n",
      "#   endif\n",
      "# elif defined(__ICC) || (defined(__INTEL_COMPILER) && !defined(_MSC_VER))\n",
      "#   define CYTHON_UNUSED __attribute__ ((__unused__))\n",
      "# else\n",
      "#   define CYTHON_UNUSED\n",
      "# endif\n",
      "#endif\n",
      "#ifndef CYTHON_NCP_UNUSED\n",
      "# if CYTHON_COMPILING_IN_CPYTHON\n",
      "#  define CYTHON_NCP_UNUSED\n",
      "# else\n",
      "#  define CYTHON_NCP_UNUSED CYTHON_UNUSED\n",
      "# endif\n",
      "#endif\n",
      "typedef struct {PyObject **p; const char *s; const Py_ssize_t n; const char* encoding;\n",
      "                const char is_unicode; const char is_str; const char intern; } __Pyx_StringTabEntry;\n",
      "\n",
      "#define __PYX_DEFAULT_STRING_ENCODING_IS_ASCII 0\n",
      "#define __PYX_DEFAULT_STRING_ENCODING_IS_DEFAULT 0\n",
      "#define __PYX_DEFAULT_STRING_ENCODING \"\"\n",
      "#define __Pyx_PyObject_FromString __Pyx_PyBytes_FromString\n",
      "#define __Pyx_PyObject_FromStringAndSize __Pyx_PyBytes_FromStringAndSize\n",
      "#define __Pyx_uchar_cast(c) ((unsigned char)c)\n",
      "#define __Pyx_long_cast(x) ((long)x)\n",
      "#define __Pyx_fits_Py_ssize_t(v, type, is_signed)  (\\\n",
      "    (sizeof(type) < sizeof(Py_ssize_t))  ||\\\n",
      "    (sizeof(type) > sizeof(Py_ssize_t) &&\\\n",
      "          likely(v < (type)PY_SSIZE_T_MAX ||\\\n",
      "                 v == (type)PY_SSIZE_T_MAX)  &&\\\n",
      "          (!is_signed || likely(v > (type)PY_SSIZE_T_MIN ||\\\n",
      "                                v == (type)PY_SSIZE_T_MIN)))  ||\\\n",
      "    (sizeof(type) == sizeof(Py_ssize_t) &&\\\n",
      "          (is_signed || likely(v < (type)PY_SSIZE_T_MAX ||\\\n",
      "                               v == (type)PY_SSIZE_T_MAX)))  )\n",
      "#if defined (__cplusplus) && __cplusplus >= 201103L\n",
      "    #include <cstdlib>\n",
      "    #define __Pyx_sst_abs(value) std::abs(value)\n",
      "#elif SIZEOF_INT >= SIZEOF_SIZE_T\n",
      "    #define __Pyx_sst_abs(value) abs(value)\n",
      "#elif SIZEOF_LONG >= SIZEOF_SIZE_T\n",
      "    #define __Pyx_sst_abs(value) labs(value)\n",
      "#elif defined (_MSC_VER) && defined (_M_X64)\n",
      "    #define __Pyx_sst_abs(value) _abs64(value)\n",
      "#elif defined (__STDC_VERSION__) && __STDC_VERSION__ >= 199901L\n",
      "    #define __Pyx_sst_abs(value) llabs(value)\n",
      "#elif defined (__GNUC__)\n",
      "    #define __Pyx_sst_abs(value) __builtin_llabs(value)\n",
      "#else\n",
      "    #define __Pyx_sst_abs(value) ((value<0) ? -value : value)\n",
      "#endif\n",
      "static CYTHON_INLINE char* __Pyx_PyObject_AsString(PyObject*);\n",
      "static CYTHON_INLINE char* __Pyx_PyObject_AsStringAndSize(PyObject*, Py_ssize_t* length);\n",
      "#define __Pyx_PyByteArray_FromString(s) PyByteArray_FromStringAndSize((const char*)s, strlen((const char*)s))\n",
      "#define __Pyx_PyByteArray_FromStringAndSize(s, l) PyByteArray_FromStringAndSize((const char*)s, l)\n",
      "#define __Pyx_PyBytes_FromString        PyBytes_FromString\n",
      "#define __Pyx_PyBytes_FromStringAndSize PyBytes_FromStringAndSize\n",
      "static CYTHON_INLINE PyObject* __Pyx_PyUnicode_FromString(const char*);\n",
      "#if PY_MAJOR_VERSION < 3\n",
      "    #define __Pyx_PyStr_FromString        __Pyx_PyBytes_FromString\n",
      "    #define __Pyx_PyStr_FromStringAndSize __Pyx_PyBytes_FromStringAndSize\n",
      "#else\n",
      "    #define __Pyx_PyStr_FromString        __Pyx_PyUnicode_FromString\n",
      "    #define __Pyx_PyStr_FromStringAndSize __Pyx_PyUnicode_FromStringAndSize\n",
      "#endif\n",
      "#define __Pyx_PyObject_AsSString(s)    ((signed char*) __Pyx_PyObject_AsString(s))\n",
      "#define __Pyx_PyObject_AsUString(s)    ((unsigned char*) __Pyx_PyObject_AsString(s))\n",
      "#define __Pyx_PyObject_FromCString(s)  __Pyx_PyObject_FromString((const char*)s)\n",
      "#define __Pyx_PyBytes_FromCString(s)   __Pyx_PyBytes_FromString((const char*)s)\n",
      "#define __Pyx_PyByteArray_FromCString(s)   __Pyx_PyByteArray_FromString((const char*)s)\n",
      "#define __Pyx_PyStr_FromCString(s)     __Pyx_PyStr_FromString((const char*)s)\n",
      "#define __Pyx_PyUnicode_FromCString(s) __Pyx_PyUnicode_FromString((const char*)s)\n",
      "#if PY_MAJOR_VERSION < 3\n",
      "static CYTHON_INLINE size_t __Pyx_Py_UNICODE_strlen(const Py_UNICODE *u)\n",
      "{\n",
      "    const Py_UNICODE *u_end = u;\n",
      "    while (*u_end++) ;\n",
      "    return (size_t)(u_end - u - 1);\n",
      "}\n",
      "#else\n",
      "#define __Pyx_Py_UNICODE_strlen Py_UNICODE_strlen\n",
      "#endif\n",
      "#define __Pyx_PyUnicode_FromUnicode(u)       PyUnicode_FromUnicode(u, __Pyx_Py_UNICODE_strlen(u))\n",
      "#define __Pyx_PyUnicode_FromUnicodeAndLength PyUnicode_FromUnicode\n",
      "#define __Pyx_PyUnicode_AsUnicode            PyUnicode_AsUnicode\n",
      "#define __Pyx_NewRef(obj) (Py_INCREF(obj), obj)\n",
      "#define __Pyx_Owned_Py_None(b) __Pyx_NewRef(Py_None)\n",
      "#define __Pyx_PyBool_FromLong(b) ((b) ? __Pyx_NewRef(Py_True) : __Pyx_NewRef(Py_False))\n",
      "static CYTHON_INLINE int __Pyx_PyObject_IsTrue(PyObject*);\n",
      "static CYTHON_INLINE PyObject* __Pyx_PyNumber_IntOrLong(PyObject* x);\n",
      "static CYTHON_INLINE Py_ssize_t __Pyx_PyIndex_AsSsize_t(PyObject*);\n",
      "static CYTHON_INLINE PyObject * __Pyx_PyInt_FromSize_t(size_t);\n",
      "#if CYTHON_COMPILING_IN_CPYTHON\n",
      "#define __pyx_PyFloat_AsDouble(x) (PyFloat_CheckExact(x) ? PyFloat_AS_DOUBLE(x) : PyFloat_AsDouble(x))\n",
      "#else\n",
      "#define __pyx_PyFloat_AsDouble(x) PyFloat_AsDouble(x)\n",
      "#endif\n",
      "#define __pyx_PyFloat_AsFloat(x) ((float) __pyx_PyFloat_AsDouble(x))\n",
      "#if PY_MAJOR_VERSION >= 3\n",
      "#define __Pyx_PyNumber_Int(x) (PyLong_CheckExact(x) ? __Pyx_NewRef(x) : PyNumber_Long(x))\n",
      "#else\n",
      "#define __Pyx_PyNumber_Int(x) (PyInt_CheckExact(x) ? __Pyx_NewRef(x) : PyNumber_Int(x))\n",
      "#endif\n",
      "#define __Pyx_PyNumber_Float(x) (PyFloat_CheckExact(x) ? __Pyx_NewRef(x) : PyNumber_Float(x))\n",
      "#if PY_MAJOR_VERSION < 3 && __PYX_DEFAULT_STRING_ENCODING_IS_ASCII\n",
      "static int __Pyx_sys_getdefaultencoding_not_ascii;\n",
      "static int __Pyx_init_sys_getdefaultencoding_params(void) {\n",
      "    PyObject* sys;\n",
      "    PyObject* default_encoding = NULL;\n",
      "    PyObject* ascii_chars_u = NULL;\n",
      "    PyObject* ascii_chars_b = NULL;\n",
      "    const char* default_encoding_c;\n",
      "    sys = PyImport_ImportModule(\"sys\");\n",
      "    if (!sys) goto bad;\n",
      "    default_encoding = PyObject_CallMethod(sys, (char*) \"getdefaultencoding\", NULL);\n",
      "    Py_DECREF(sys);\n",
      "    if (!default_encoding) goto bad;\n",
      "    default_encoding_c = PyBytes_AsString(default_encoding);\n",
      "    if (!default_encoding_c) goto bad;\n",
      "    if (strcmp(default_encoding_c, \"ascii\") == 0) {\n",
      "        __Pyx_sys_getdefaultencoding_not_ascii = 0;\n",
      "    } else {\n",
      "        char ascii_chars[128];\n",
      "        int c;\n",
      "        for (c = 0; c < 128; c++) {\n",
      "            ascii_chars[c] = c;\n",
      "        }\n",
      "        __Pyx_sys_getdefaultencoding_not_ascii = 1;\n",
      "        ascii_chars_u = PyUnicode_DecodeASCII(ascii_chars, 128, NULL);\n",
      "        if (!ascii_chars_u) goto bad;\n",
      "        ascii_chars_b = PyUnicode_AsEncodedString(ascii_chars_u, default_encoding_c, NULL);\n",
      "        if (!ascii_chars_b || !PyBytes_Check(ascii_chars_b) || memcmp(ascii_chars, PyBytes_AS_STRING(ascii_chars_b), 128) != 0) {\n",
      "            PyErr_Format(\n",
      "                PyExc_ValueError,\n",
      "                \"This module compiled with c_string_encoding=ascii, but default encoding '%.200s' is not a superset of ascii.\",\n",
      "                default_encoding_c);\n",
      "            goto bad;\n",
      "        }\n",
      "        Py_DECREF(ascii_chars_u);\n",
      "        Py_DECREF(ascii_chars_b);\n",
      "    }\n",
      "    Py_DECREF(default_encoding);\n",
      "    return 0;\n",
      "bad:\n",
      "    Py_XDECREF(default_encoding);\n",
      "    Py_XDECREF(ascii_chars_u);\n",
      "    Py_XDECREF(ascii_chars_b);\n",
      "    return -1;\n",
      "}\n",
      "#endif\n",
      "#if __PYX_DEFAULT_STRING_ENCODING_IS_DEFAULT && PY_MAJOR_VERSION >= 3\n",
      "#define __Pyx_PyUnicode_FromStringAndSize(c_str, size) PyUnicode_DecodeUTF8(c_str, size, NULL)\n",
      "#else\n",
      "#define __Pyx_PyUnicode_FromStringAndSize(c_str, size) PyUnicode_Decode(c_str, size, __PYX_DEFAULT_STRING_ENCODING, NULL)\n",
      "#if __PYX_DEFAULT_STRING_ENCODING_IS_DEFAULT\n",
      "static char* __PYX_DEFAULT_STRING_ENCODING;\n",
      "static int __Pyx_init_sys_getdefaultencoding_params(void) {\n",
      "    PyObject* sys;\n",
      "    PyObject* default_encoding = NULL;\n",
      "    char* default_encoding_c;\n",
      "    sys = PyImport_ImportModule(\"sys\");\n",
      "    if (!sys) goto bad;\n",
      "    default_encoding = PyObject_CallMethod(sys, (char*) (const char*) \"getdefaultencoding\", NULL);\n",
      "    Py_DECREF(sys);\n",
      "    if (!default_encoding) goto bad;\n",
      "    default_encoding_c = PyBytes_AsString(default_encoding);\n",
      "    if (!default_encoding_c) goto bad;\n",
      "    __PYX_DEFAULT_STRING_ENCODING = (char*) malloc(strlen(default_encoding_c));\n",
      "    if (!__PYX_DEFAULT_STRING_ENCODING) goto bad;\n",
      "    strcpy(__PYX_DEFAULT_STRING_ENCODING, default_encoding_c);\n",
      "    Py_DECREF(default_encoding);\n",
      "    return 0;\n",
      "bad:\n",
      "    Py_XDECREF(default_encoding);\n",
      "    return -1;\n",
      "}\n",
      "#endif\n",
      "#endif\n",
      "\n",
      "\n",
      "/* Test for GCC > 2.95 */\n",
      "#if defined(__GNUC__)     && (__GNUC__ > 2 || (__GNUC__ == 2 && (__GNUC_MINOR__ > 95)))\n",
      "  #define likely(x)   __builtin_expect(!!(x), 1)\n",
      "  #define unlikely(x) __builtin_expect(!!(x), 0)\n",
      "#else /* !__GNUC__ or GCC < 2.95 */\n",
      "  #define likely(x)   (x)\n",
      "  #define unlikely(x) (x)\n",
      "#endif /* __GNUC__ */\n",
      "\n",
      "static PyObject *__pyx_m;\n",
      "static PyObject *__pyx_d;\n",
      "static PyObject *__pyx_b;\n",
      "static PyObject *__pyx_empty_tuple;\n",
      "static PyObject *__pyx_empty_bytes;\n",
      "static PyObject *__pyx_empty_unicode;\n",
      "static int __pyx_lineno;\n",
      "static int __pyx_clineno = 0;\n",
      "static const char * __pyx_cfilenm= __FILE__;\n",
      "static const char *__pyx_filename;\n",
      "\n",
      "\n",
      "static const char *__pyx_f[] = {\n",
      "  \"primes.pyx\",\n",
      "};\n",
      "\n",
      "/*--- Type declarations ---*/\n",
      "\n",
      "/* --- Runtime support code (head) --- */\n",
      "/* Refnanny.proto */\n",
      "#ifndef CYTHON_REFNANNY\n",
      "  #define CYTHON_REFNANNY 0\n",
      "#endif\n",
      "#if CYTHON_REFNANNY\n",
      "  typedef struct {\n",
      "    void (*INCREF)(void*, PyObject*, int);\n",
      "    void (*DECREF)(void*, PyObject*, int);\n",
      "    void (*GOTREF)(void*, PyObject*, int);\n",
      "    void (*GIVEREF)(void*, PyObject*, int);\n",
      "    void* (*SetupContext)(const char*, int, const char*);\n",
      "    void (*FinishContext)(void**);\n",
      "  } __Pyx_RefNannyAPIStruct;\n",
      "  static __Pyx_RefNannyAPIStruct *__Pyx_RefNanny = NULL;\n",
      "  static __Pyx_RefNannyAPIStruct *__Pyx_RefNannyImportAPI(const char *modname);\n",
      "  #define __Pyx_RefNannyDeclarations void *__pyx_refnanny = NULL;\n",
      "#ifdef WITH_THREAD\n",
      "  #define __Pyx_RefNannySetupContext(name, acquire_gil)\\\n",
      "          if (acquire_gil) {\\\n",
      "              PyGILState_STATE __pyx_gilstate_save = PyGILState_Ensure();\\\n",
      "              __pyx_refnanny = __Pyx_RefNanny->SetupContext((name), __LINE__, __FILE__);\\\n",
      "              PyGILState_Release(__pyx_gilstate_save);\\\n",
      "          } else {\\\n",
      "              __pyx_refnanny = __Pyx_RefNanny->SetupContext((name), __LINE__, __FILE__);\\\n",
      "          }\n",
      "#else\n",
      "  #define __Pyx_RefNannySetupContext(name, acquire_gil)\\\n",
      "          __pyx_refnanny = __Pyx_RefNanny->SetupContext((name), __LINE__, __FILE__)\n",
      "#endif\n",
      "  #define __Pyx_RefNannyFinishContext()\\\n",
      "          __Pyx_RefNanny->FinishContext(&__pyx_refnanny)\n",
      "  #define __Pyx_INCREF(r)  __Pyx_RefNanny->INCREF(__pyx_refnanny, (PyObject *)(r), __LINE__)\n",
      "  #define __Pyx_DECREF(r)  __Pyx_RefNanny->DECREF(__pyx_refnanny, (PyObject *)(r), __LINE__)\n",
      "  #define __Pyx_GOTREF(r)  __Pyx_RefNanny->GOTREF(__pyx_refnanny, (PyObject *)(r), __LINE__)\n",
      "  #define __Pyx_GIVEREF(r) __Pyx_RefNanny->GIVEREF(__pyx_refnanny, (PyObject *)(r), __LINE__)\n",
      "  #define __Pyx_XINCREF(r)  do { if((r) != NULL) {__Pyx_INCREF(r); }} while(0)\n",
      "  #define __Pyx_XDECREF(r)  do { if((r) != NULL) {__Pyx_DECREF(r); }} while(0)\n",
      "  #define __Pyx_XGOTREF(r)  do { if((r) != NULL) {__Pyx_GOTREF(r); }} while(0)\n",
      "  #define __Pyx_XGIVEREF(r) do { if((r) != NULL) {__Pyx_GIVEREF(r);}} while(0)\n",
      "#else\n",
      "  #define __Pyx_RefNannyDeclarations\n",
      "  #define __Pyx_RefNannySetupContext(name, acquire_gil)\n",
      "  #define __Pyx_RefNannyFinishContext()\n",
      "  #define __Pyx_INCREF(r) Py_INCREF(r)\n",
      "  #define __Pyx_DECREF(r) Py_DECREF(r)\n",
      "  #define __Pyx_GOTREF(r)\n",
      "  #define __Pyx_GIVEREF(r)\n",
      "  #define __Pyx_XINCREF(r) Py_XINCREF(r)\n",
      "  #define __Pyx_XDECREF(r) Py_XDECREF(r)\n",
      "  #define __Pyx_XGOTREF(r)\n",
      "  #define __Pyx_XGIVEREF(r)\n",
      "#endif\n",
      "#define __Pyx_XDECREF_SET(r, v) do {\\\n",
      "        PyObject *tmp = (PyObject *) r;\\\n",
      "        r = v; __Pyx_XDECREF(tmp);\\\n",
      "    } while (0)\n",
      "#define __Pyx_DECREF_SET(r, v) do {\\\n",
      "        PyObject *tmp = (PyObject *) r;\\\n",
      "        r = v; __Pyx_DECREF(tmp);\\\n",
      "    } while (0)\n",
      "#define __Pyx_CLEAR(r)    do { PyObject* tmp = ((PyObject*)(r)); r = NULL; __Pyx_DECREF(tmp);} while(0)\n",
      "#define __Pyx_XCLEAR(r)   do { if((r) != NULL) {PyObject* tmp = ((PyObject*)(r)); r = NULL; __Pyx_DECREF(tmp);}} while(0)\n",
      "\n",
      "/* None.proto */\n",
      "static CYTHON_INLINE int __Pyx_mod_int(int, int);\n",
      "\n",
      "/* ListAppend.proto */\n",
      "#if CYTHON_COMPILING_IN_CPYTHON\n",
      "static CYTHON_INLINE int __Pyx_PyList_Append(PyObject* list, PyObject* x) {\n",
      "    PyListObject* L = (PyListObject*) list;\n",
      "    Py_ssize_t len = Py_SIZE(list);\n",
      "    if (likely(L->allocated > len) & likely(len > (L->allocated >> 1))) {\n",
      "        Py_INCREF(x);\n",
      "        PyList_SET_ITEM(list, len, x);\n",
      "        Py_SIZE(list) = len+1;\n",
      "        return 0;\n",
      "    }\n",
      "    return PyList_Append(list, x);\n",
      "}\n",
      "#else\n",
      "#define __Pyx_PyList_Append(L,x) PyList_Append(L,x)\n",
      "#endif\n",
      "\n",
      "/* CodeObjectCache.proto */\n",
      "typedef struct {\n",
      "    PyCodeObject* code_object;\n",
      "    int code_line;\n",
      "} __Pyx_CodeObjectCacheEntry;\n",
      "struct __Pyx_CodeObjectCache {\n",
      "    int count;\n",
      "    int max_count;\n",
      "    __Pyx_CodeObjectCacheEntry* entries;\n",
      "};\n",
      "static struct __Pyx_CodeObjectCache __pyx_code_cache = {0,0,NULL};\n",
      "static int __pyx_bisect_code_objects(__Pyx_CodeObjectCacheEntry* entries, int count, int code_line);\n",
      "static PyCodeObject *__pyx_find_code_object(int code_line);\n",
      "static void __pyx_insert_code_object(int code_line, PyCodeObject* code_object);\n",
      "\n",
      "/* AddTraceback.proto */\n",
      "static void __Pyx_AddTraceback(const char *funcname, int c_line,\n",
      "                               int py_line, const char *filename);\n",
      "\n",
      "/* CIntToPy.proto */\n",
      "static CYTHON_INLINE PyObject* __Pyx_PyInt_From_int(int value);\n",
      "\n",
      "/* CIntFromPy.proto */\n",
      "static CYTHON_INLINE int __Pyx_PyInt_As_int(PyObject *);\n",
      "\n",
      "/* CIntToPy.proto */\n",
      "static CYTHON_INLINE PyObject* __Pyx_PyInt_From_long(long value);\n",
      "\n",
      "/* CIntFromPy.proto */\n",
      "static CYTHON_INLINE long __Pyx_PyInt_As_long(PyObject *);\n",
      "\n",
      "/* CheckBinaryVersion.proto */\n",
      "static int __Pyx_check_binary_version(void);\n",
      "\n",
      "/* InitStrings.proto */\n",
      "static int __Pyx_InitStrings(__Pyx_StringTabEntry *t);\n",
      "\n",
      "\n",
      "/* Module declarations from 'primes' */\n",
      "#define __Pyx_MODULE_NAME \"primes\"\n",
      "int __pyx_module_is_main_primes = 0;\n",
      "\n",
      "/* Implementation of 'primes' */\n",
      "static const char __pyx_k_i[] = \"i\";\n",
      "static const char __pyx_k_k[] = \"k\";\n",
      "static const char __pyx_k_n[] = \"n\";\n",
      "static const char __pyx_k_p[] = \"p\";\n",
      "static const char __pyx_k_kmax[] = \"kmax\";\n",
      "static const char __pyx_k_main[] = \"__main__\";\n",
      "static const char __pyx_k_test[] = \"__test__\";\n",
      "static const char __pyx_k_primes[] = \"primes\";\n",
      "static const char __pyx_k_result[] = \"result\";\n",
      "static const char __pyx_k_cprimes[] = \"cprimes\";\n",
      "static const char __pyx_k_home_osboxes_Py4Eng_scripts_cyt[] = \"/home/osboxes/Py4Eng/scripts/cython/primes.pyx\";\n",
      "static PyObject *__pyx_n_s_cprimes;\n",
      "static PyObject *__pyx_kp_s_home_osboxes_Py4Eng_scripts_cyt;\n",
      "static PyObject *__pyx_n_s_i;\n",
      "static PyObject *__pyx_n_s_k;\n",
      "static PyObject *__pyx_n_s_kmax;\n",
      "static PyObject *__pyx_n_s_main;\n",
      "static PyObject *__pyx_n_s_n;\n",
      "static PyObject *__pyx_n_s_p;\n",
      "static PyObject *__pyx_n_s_primes;\n",
      "static PyObject *__pyx_n_s_result;\n",
      "static PyObject *__pyx_n_s_test;\n",
      "static PyObject *__pyx_pf_6primes_cprimes(CYTHON_UNUSED PyObject *__pyx_self, int __pyx_v_kmax); /* proto */\n",
      "static PyObject *__pyx_tuple_;\n",
      "static PyObject *__pyx_codeobj__2;\n",
      "\n",
      "/* \"primes.pyx\":1\n",
      " * def cprimes(int kmax):             # <<<<<<<<<<<<<<\n",
      " *     cdef int n, k, i\n",
      " *     cdef int p[1000]\n",
      " */\n",
      "\n",
      "/* Python wrapper */\n",
      "static PyObject *__pyx_pw_6primes_1cprimes(PyObject *__pyx_self, PyObject *__pyx_arg_kmax); /*proto*/\n",
      "static PyMethodDef __pyx_mdef_6primes_1cprimes = {\"cprimes\", (PyCFunction)__pyx_pw_6primes_1cprimes, METH_O, 0};\n",
      "static PyObject *__pyx_pw_6primes_1cprimes(PyObject *__pyx_self, PyObject *__pyx_arg_kmax) {\n",
      "  int __pyx_v_kmax;\n",
      "  PyObject *__pyx_r = 0;\n",
      "  __Pyx_RefNannyDeclarations\n",
      "  __Pyx_RefNannySetupContext(\"cprimes (wrapper)\", 0);\n",
      "  assert(__pyx_arg_kmax); {\n",
      "    __pyx_v_kmax = __Pyx_PyInt_As_int(__pyx_arg_kmax); if (unlikely((__pyx_v_kmax == (int)-1) && PyErr_Occurred())) __PYX_ERR(0, 1, __pyx_L3_error)\n",
      "  }\n",
      "  goto __pyx_L4_argument_unpacking_done;\n",
      "  __pyx_L3_error:;\n",
      "  __Pyx_AddTraceback(\"primes.cprimes\", __pyx_clineno, __pyx_lineno, __pyx_filename);\n",
      "  __Pyx_RefNannyFinishContext();\n",
      "  return NULL;\n",
      "  __pyx_L4_argument_unpacking_done:;\n",
      "  __pyx_r = __pyx_pf_6primes_cprimes(__pyx_self, ((int)__pyx_v_kmax));\n",
      "\n",
      "  /* function exit code */\n",
      "  __Pyx_RefNannyFinishContext();\n",
      "  return __pyx_r;\n",
      "}\n",
      "\n",
      "static PyObject *__pyx_pf_6primes_cprimes(CYTHON_UNUSED PyObject *__pyx_self, int __pyx_v_kmax) {\n",
      "  int __pyx_v_n;\n",
      "  int __pyx_v_k;\n",
      "  int __pyx_v_i;\n",
      "  int __pyx_v_p[0x3E8];\n",
      "  PyObject *__pyx_v_result = NULL;\n",
      "  PyObject *__pyx_r = NULL;\n",
      "  __Pyx_RefNannyDeclarations\n",
      "  PyObject *__pyx_t_1 = NULL;\n",
      "  int __pyx_t_2;\n",
      "  int __pyx_t_3;\n",
      "  int __pyx_t_4;\n",
      "  __Pyx_RefNannySetupContext(\"cprimes\", 0);\n",
      "\n",
      "  /* \"primes.pyx\":4\n",
      " *     cdef int n, k, i\n",
      " *     cdef int p[1000]\n",
      " *     result = []             # <<<<<<<<<<<<<<\n",
      " *     if kmax > 1000:\n",
      " *         kmax = 1000\n",
      " */\n",
      "  __pyx_t_1 = PyList_New(0); if (unlikely(!__pyx_t_1)) __PYX_ERR(0, 4, __pyx_L1_error)\n",
      "  __Pyx_GOTREF(__pyx_t_1);\n",
      "  __pyx_v_result = ((PyObject*)__pyx_t_1);\n",
      "  __pyx_t_1 = 0;\n",
      "\n",
      "  /* \"primes.pyx\":5\n",
      " *     cdef int p[1000]\n",
      " *     result = []\n",
      " *     if kmax > 1000:             # <<<<<<<<<<<<<<\n",
      " *         kmax = 1000\n",
      " *     k = 0\n",
      " */\n",
      "  __pyx_t_2 = ((__pyx_v_kmax > 0x3E8) != 0);\n",
      "  if (__pyx_t_2) {\n",
      "\n",
      "    /* \"primes.pyx\":6\n",
      " *     result = []\n",
      " *     if kmax > 1000:\n",
      " *         kmax = 1000             # <<<<<<<<<<<<<<\n",
      " *     k = 0\n",
      " *     n = 2\n",
      " */\n",
      "    __pyx_v_kmax = 0x3E8;\n",
      "\n",
      "    /* \"primes.pyx\":5\n",
      " *     cdef int p[1000]\n",
      " *     result = []\n",
      " *     if kmax > 1000:             # <<<<<<<<<<<<<<\n",
      " *         kmax = 1000\n",
      " *     k = 0\n",
      " */\n",
      "  }\n",
      "\n",
      "  /* \"primes.pyx\":7\n",
      " *     if kmax > 1000:\n",
      " *         kmax = 1000\n",
      " *     k = 0             # <<<<<<<<<<<<<<\n",
      " *     n = 2\n",
      " *     while k < kmax:\n",
      " */\n",
      "  __pyx_v_k = 0;\n",
      "\n",
      "  /* \"primes.pyx\":8\n",
      " *         kmax = 1000\n",
      " *     k = 0\n",
      " *     n = 2             # <<<<<<<<<<<<<<\n",
      " *     while k < kmax:\n",
      " *         i = 0\n",
      " */\n",
      "  __pyx_v_n = 2;\n",
      "\n",
      "  /* \"primes.pyx\":9\n",
      " *     k = 0\n",
      " *     n = 2\n",
      " *     while k < kmax:             # <<<<<<<<<<<<<<\n",
      " *         i = 0\n",
      " *         while i < k and n % p[i] != 0:\n",
      " */\n",
      "  while (1) {\n",
      "    __pyx_t_2 = ((__pyx_v_k < __pyx_v_kmax) != 0);\n",
      "    if (!__pyx_t_2) break;\n",
      "\n",
      "    /* \"primes.pyx\":10\n",
      " *     n = 2\n",
      " *     while k < kmax:\n",
      " *         i = 0             # <<<<<<<<<<<<<<\n",
      " *         while i < k and n % p[i] != 0:\n",
      " *             i = i + 1\n",
      " */\n",
      "    __pyx_v_i = 0;\n",
      "\n",
      "    /* \"primes.pyx\":11\n",
      " *     while k < kmax:\n",
      " *         i = 0\n",
      " *         while i < k and n % p[i] != 0:             # <<<<<<<<<<<<<<\n",
      " *             i = i + 1\n",
      " *         if i == k:\n",
      " */\n",
      "    while (1) {\n",
      "      __pyx_t_3 = ((__pyx_v_i < __pyx_v_k) != 0);\n",
      "      if (__pyx_t_3) {\n",
      "      } else {\n",
      "        __pyx_t_2 = __pyx_t_3;\n",
      "        goto __pyx_L8_bool_binop_done;\n",
      "      }\n",
      "      if (unlikely((__pyx_v_p[__pyx_v_i]) == 0)) {\n",
      "        PyErr_SetString(PyExc_ZeroDivisionError, \"integer division or modulo by zero\");\n",
      "        __PYX_ERR(0, 11, __pyx_L1_error)\n",
      "      }\n",
      "      __pyx_t_3 = ((__Pyx_mod_int(__pyx_v_n, (__pyx_v_p[__pyx_v_i])) != 0) != 0);\n",
      "      __pyx_t_2 = __pyx_t_3;\n",
      "      __pyx_L8_bool_binop_done:;\n",
      "      if (!__pyx_t_2) break;\n",
      "\n",
      "      /* \"primes.pyx\":12\n",
      " *         i = 0\n",
      " *         while i < k and n % p[i] != 0:\n",
      " *             i = i + 1             # <<<<<<<<<<<<<<\n",
      " *         if i == k:\n",
      " *             p[k] = n\n",
      " */\n",
      "      __pyx_v_i = (__pyx_v_i + 1);\n",
      "    }\n",
      "\n",
      "    /* \"primes.pyx\":13\n",
      " *         while i < k and n % p[i] != 0:\n",
      " *             i = i + 1\n",
      " *         if i == k:             # <<<<<<<<<<<<<<\n",
      " *             p[k] = n\n",
      " *             k = k + 1\n",
      " */\n",
      "    __pyx_t_2 = ((__pyx_v_i == __pyx_v_k) != 0);\n",
      "    if (__pyx_t_2) {\n",
      "\n",
      "      /* \"primes.pyx\":14\n",
      " *             i = i + 1\n",
      " *         if i == k:\n",
      " *             p[k] = n             # <<<<<<<<<<<<<<\n",
      " *             k = k + 1\n",
      " *             result.append(n)\n",
      " */\n",
      "      (__pyx_v_p[__pyx_v_k]) = __pyx_v_n;\n",
      "\n",
      "      /* \"primes.pyx\":15\n",
      " *         if i == k:\n",
      " *             p[k] = n\n",
      " *             k = k + 1             # <<<<<<<<<<<<<<\n",
      " *             result.append(n)\n",
      " *         n = n + 1\n",
      " */\n",
      "      __pyx_v_k = (__pyx_v_k + 1);\n",
      "\n",
      "      /* \"primes.pyx\":16\n",
      " *             p[k] = n\n",
      " *             k = k + 1\n",
      " *             result.append(n)             # <<<<<<<<<<<<<<\n",
      " *         n = n + 1\n",
      " *     return result\n",
      " */\n",
      "      __pyx_t_1 = __Pyx_PyInt_From_int(__pyx_v_n); if (unlikely(!__pyx_t_1)) __PYX_ERR(0, 16, __pyx_L1_error)\n",
      "      __Pyx_GOTREF(__pyx_t_1);\n",
      "      __pyx_t_4 = __Pyx_PyList_Append(__pyx_v_result, __pyx_t_1); if (unlikely(__pyx_t_4 == -1)) __PYX_ERR(0, 16, __pyx_L1_error)\n",
      "      __Pyx_DECREF(__pyx_t_1); __pyx_t_1 = 0;\n",
      "\n",
      "      /* \"primes.pyx\":13\n",
      " *         while i < k and n % p[i] != 0:\n",
      " *             i = i + 1\n",
      " *         if i == k:             # <<<<<<<<<<<<<<\n",
      " *             p[k] = n\n",
      " *             k = k + 1\n",
      " */\n",
      "    }\n",
      "\n",
      "    /* \"primes.pyx\":17\n",
      " *             k = k + 1\n",
      " *             result.append(n)\n",
      " *         n = n + 1             # <<<<<<<<<<<<<<\n",
      " *     return result\n",
      " */\n",
      "    __pyx_v_n = (__pyx_v_n + 1);\n",
      "  }\n",
      "\n",
      "  /* \"primes.pyx\":18\n",
      " *             result.append(n)\n",
      " *         n = n + 1\n",
      " *     return result             # <<<<<<<<<<<<<<\n",
      " */\n",
      "  __Pyx_XDECREF(__pyx_r);\n",
      "  __Pyx_INCREF(__pyx_v_result);\n",
      "  __pyx_r = __pyx_v_result;\n",
      "  goto __pyx_L0;\n",
      "\n",
      "  /* \"primes.pyx\":1\n",
      " * def cprimes(int kmax):             # <<<<<<<<<<<<<<\n",
      " *     cdef int n, k, i\n",
      " *     cdef int p[1000]\n",
      " */\n",
      "\n",
      "  /* function exit code */\n",
      "  __pyx_L1_error:;\n",
      "  __Pyx_XDECREF(__pyx_t_1);\n",
      "  __Pyx_AddTraceback(\"primes.cprimes\", __pyx_clineno, __pyx_lineno, __pyx_filename);\n",
      "  __pyx_r = NULL;\n",
      "  __pyx_L0:;\n",
      "  __Pyx_XDECREF(__pyx_v_result);\n",
      "  __Pyx_XGIVEREF(__pyx_r);\n",
      "  __Pyx_RefNannyFinishContext();\n",
      "  return __pyx_r;\n",
      "}\n",
      "\n",
      "static PyMethodDef __pyx_methods[] = {\n",
      "  {0, 0, 0, 0}\n",
      "};\n",
      "\n",
      "#if PY_MAJOR_VERSION >= 3\n",
      "static struct PyModuleDef __pyx_moduledef = {\n",
      "  #if PY_VERSION_HEX < 0x03020000\n",
      "    { PyObject_HEAD_INIT(NULL) NULL, 0, NULL },\n",
      "  #else\n",
      "    PyModuleDef_HEAD_INIT,\n",
      "  #endif\n",
      "    \"primes\",\n",
      "    0, /* m_doc */\n",
      "    -1, /* m_size */\n",
      "    __pyx_methods /* m_methods */,\n",
      "    NULL, /* m_reload */\n",
      "    NULL, /* m_traverse */\n",
      "    NULL, /* m_clear */\n",
      "    NULL /* m_free */\n",
      "};\n",
      "#endif\n",
      "\n",
      "static __Pyx_StringTabEntry __pyx_string_tab[] = {\n",
      "  {&__pyx_n_s_cprimes, __pyx_k_cprimes, sizeof(__pyx_k_cprimes), 0, 0, 1, 1},\n",
      "  {&__pyx_kp_s_home_osboxes_Py4Eng_scripts_cyt, __pyx_k_home_osboxes_Py4Eng_scripts_cyt, sizeof(__pyx_k_home_osboxes_Py4Eng_scripts_cyt), 0, 0, 1, 0},\n",
      "  {&__pyx_n_s_i, __pyx_k_i, sizeof(__pyx_k_i), 0, 0, 1, 1},\n",
      "  {&__pyx_n_s_k, __pyx_k_k, sizeof(__pyx_k_k), 0, 0, 1, 1},\n",
      "  {&__pyx_n_s_kmax, __pyx_k_kmax, sizeof(__pyx_k_kmax), 0, 0, 1, 1},\n",
      "  {&__pyx_n_s_main, __pyx_k_main, sizeof(__pyx_k_main), 0, 0, 1, 1},\n",
      "  {&__pyx_n_s_n, __pyx_k_n, sizeof(__pyx_k_n), 0, 0, 1, 1},\n",
      "  {&__pyx_n_s_p, __pyx_k_p, sizeof(__pyx_k_p), 0, 0, 1, 1},\n",
      "  {&__pyx_n_s_primes, __pyx_k_primes, sizeof(__pyx_k_primes), 0, 0, 1, 1},\n",
      "  {&__pyx_n_s_result, __pyx_k_result, sizeof(__pyx_k_result), 0, 0, 1, 1},\n",
      "  {&__pyx_n_s_test, __pyx_k_test, sizeof(__pyx_k_test), 0, 0, 1, 1},\n",
      "  {0, 0, 0, 0, 0, 0, 0}\n",
      "};\n",
      "static int __Pyx_InitCachedBuiltins(void) {\n",
      "  return 0;\n",
      "}\n",
      "\n",
      "static int __Pyx_InitCachedConstants(void) {\n",
      "  __Pyx_RefNannyDeclarations\n",
      "  __Pyx_RefNannySetupContext(\"__Pyx_InitCachedConstants\", 0);\n",
      "\n",
      "  /* \"primes.pyx\":1\n",
      " * def cprimes(int kmax):             # <<<<<<<<<<<<<<\n",
      " *     cdef int n, k, i\n",
      " *     cdef int p[1000]\n",
      " */\n",
      "  __pyx_tuple_ = PyTuple_Pack(7, __pyx_n_s_kmax, __pyx_n_s_kmax, __pyx_n_s_n, __pyx_n_s_k, __pyx_n_s_i, __pyx_n_s_p, __pyx_n_s_result); if (unlikely(!__pyx_tuple_)) __PYX_ERR(0, 1, __pyx_L1_error)\n",
      "  __Pyx_GOTREF(__pyx_tuple_);\n",
      "  __Pyx_GIVEREF(__pyx_tuple_);\n",
      "  __pyx_codeobj__2 = (PyObject*)__Pyx_PyCode_New(1, 0, 7, 0, 0, __pyx_empty_bytes, __pyx_empty_tuple, __pyx_empty_tuple, __pyx_tuple_, __pyx_empty_tuple, __pyx_empty_tuple, __pyx_kp_s_home_osboxes_Py4Eng_scripts_cyt, __pyx_n_s_cprimes, 1, __pyx_empty_bytes); if (unlikely(!__pyx_codeobj__2)) __PYX_ERR(0, 1, __pyx_L1_error)\n",
      "  __Pyx_RefNannyFinishContext();\n",
      "  return 0;\n",
      "  __pyx_L1_error:;\n",
      "  __Pyx_RefNannyFinishContext();\n",
      "  return -1;\n",
      "}\n",
      "\n",
      "static int __Pyx_InitGlobals(void) {\n",
      "  if (__Pyx_InitStrings(__pyx_string_tab) < 0) __PYX_ERR(0, 1, __pyx_L1_error);\n",
      "  return 0;\n",
      "  __pyx_L1_error:;\n",
      "  return -1;\n",
      "}\n",
      "\n",
      "#if PY_MAJOR_VERSION < 3\n",
      "PyMODINIT_FUNC initprimes(void); /*proto*/\n",
      "PyMODINIT_FUNC initprimes(void)\n",
      "#else\n",
      "PyMODINIT_FUNC PyInit_primes(void); /*proto*/\n",
      "PyMODINIT_FUNC PyInit_primes(void)\n",
      "#endif\n",
      "{\n",
      "  PyObject *__pyx_t_1 = NULL;\n",
      "  __Pyx_RefNannyDeclarations\n",
      "  #if CYTHON_REFNANNY\n",
      "  __Pyx_RefNanny = __Pyx_RefNannyImportAPI(\"refnanny\");\n",
      "  if (!__Pyx_RefNanny) {\n",
      "      PyErr_Clear();\n",
      "      __Pyx_RefNanny = __Pyx_RefNannyImportAPI(\"Cython.Runtime.refnanny\");\n",
      "      if (!__Pyx_RefNanny)\n",
      "          Py_FatalError(\"failed to import 'refnanny' module\");\n",
      "  }\n",
      "  #endif\n",
      "  __Pyx_RefNannySetupContext(\"PyMODINIT_FUNC PyInit_primes(void)\", 0);\n",
      "  if (__Pyx_check_binary_version() < 0) __PYX_ERR(0, 1, __pyx_L1_error)\n",
      "  __pyx_empty_tuple = PyTuple_New(0); if (unlikely(!__pyx_empty_tuple)) __PYX_ERR(0, 1, __pyx_L1_error)\n",
      "  __pyx_empty_bytes = PyBytes_FromStringAndSize(\"\", 0); if (unlikely(!__pyx_empty_bytes)) __PYX_ERR(0, 1, __pyx_L1_error)\n",
      "  __pyx_empty_unicode = PyUnicode_FromStringAndSize(\"\", 0); if (unlikely(!__pyx_empty_unicode)) __PYX_ERR(0, 1, __pyx_L1_error)\n",
      "  #ifdef __Pyx_CyFunction_USED\n",
      "  if (__pyx_CyFunction_init() < 0) __PYX_ERR(0, 1, __pyx_L1_error)\n",
      "  #endif\n",
      "  #ifdef __Pyx_FusedFunction_USED\n",
      "  if (__pyx_FusedFunction_init() < 0) __PYX_ERR(0, 1, __pyx_L1_error)\n",
      "  #endif\n",
      "  #ifdef __Pyx_Coroutine_USED\n",
      "  if (__pyx_Coroutine_init() < 0) __PYX_ERR(0, 1, __pyx_L1_error)\n",
      "  #endif\n",
      "  #ifdef __Pyx_Generator_USED\n",
      "  if (__pyx_Generator_init() < 0) __PYX_ERR(0, 1, __pyx_L1_error)\n",
      "  #endif\n",
      "  #ifdef __Pyx_StopAsyncIteration_USED\n",
      "  if (__pyx_StopAsyncIteration_init() < 0) __PYX_ERR(0, 1, __pyx_L1_error)\n",
      "  #endif\n",
      "  /*--- Library function declarations ---*/\n",
      "  /*--- Threads initialization code ---*/\n",
      "  #if defined(__PYX_FORCE_INIT_THREADS) && __PYX_FORCE_INIT_THREADS\n",
      "  #ifdef WITH_THREAD /* Python build with threading support? */\n",
      "  PyEval_InitThreads();\n",
      "  #endif\n",
      "  #endif\n",
      "  /*--- Module creation code ---*/\n",
      "  #if PY_MAJOR_VERSION < 3\n",
      "  __pyx_m = Py_InitModule4(\"primes\", __pyx_methods, 0, 0, PYTHON_API_VERSION); Py_XINCREF(__pyx_m);\n",
      "  #else\n",
      "  __pyx_m = PyModule_Create(&__pyx_moduledef);\n",
      "  #endif\n",
      "  if (unlikely(!__pyx_m)) __PYX_ERR(0, 1, __pyx_L1_error)\n",
      "  __pyx_d = PyModule_GetDict(__pyx_m); if (unlikely(!__pyx_d)) __PYX_ERR(0, 1, __pyx_L1_error)\n",
      "  Py_INCREF(__pyx_d);\n",
      "  __pyx_b = PyImport_AddModule(__Pyx_BUILTIN_MODULE_NAME); if (unlikely(!__pyx_b)) __PYX_ERR(0, 1, __pyx_L1_error)\n",
      "  #if CYTHON_COMPILING_IN_PYPY\n",
      "  Py_INCREF(__pyx_b);\n",
      "  #endif\n",
      "  if (PyObject_SetAttrString(__pyx_m, \"__builtins__\", __pyx_b) < 0) __PYX_ERR(0, 1, __pyx_L1_error);\n",
      "  /*--- Initialize various global constants etc. ---*/\n",
      "  if (__Pyx_InitGlobals() < 0) __PYX_ERR(0, 1, __pyx_L1_error)\n",
      "  #if PY_MAJOR_VERSION < 3 && (__PYX_DEFAULT_STRING_ENCODING_IS_ASCII || __PYX_DEFAULT_STRING_ENCODING_IS_DEFAULT)\n",
      "  if (__Pyx_init_sys_getdefaultencoding_params() < 0) __PYX_ERR(0, 1, __pyx_L1_error)\n",
      "  #endif\n",
      "  if (__pyx_module_is_main_primes) {\n",
      "    if (PyObject_SetAttrString(__pyx_m, \"__name__\", __pyx_n_s_main) < 0) __PYX_ERR(0, 1, __pyx_L1_error)\n",
      "  }\n",
      "  #if PY_MAJOR_VERSION >= 3\n",
      "  {\n",
      "    PyObject *modules = PyImport_GetModuleDict(); if (unlikely(!modules)) __PYX_ERR(0, 1, __pyx_L1_error)\n",
      "    if (!PyDict_GetItemString(modules, \"primes\")) {\n",
      "      if (unlikely(PyDict_SetItemString(modules, \"primes\", __pyx_m) < 0)) __PYX_ERR(0, 1, __pyx_L1_error)\n",
      "    }\n",
      "  }\n",
      "  #endif\n",
      "  /*--- Builtin init code ---*/\n",
      "  if (__Pyx_InitCachedBuiltins() < 0) __PYX_ERR(0, 1, __pyx_L1_error)\n",
      "  /*--- Constants init code ---*/\n",
      "  if (__Pyx_InitCachedConstants() < 0) __PYX_ERR(0, 1, __pyx_L1_error)\n",
      "  /*--- Global init code ---*/\n",
      "  /*--- Variable export code ---*/\n",
      "  /*--- Function export code ---*/\n",
      "  /*--- Type init code ---*/\n",
      "  /*--- Type import code ---*/\n",
      "  /*--- Variable import code ---*/\n",
      "  /*--- Function import code ---*/\n",
      "  /*--- Execution code ---*/\n",
      "  #if defined(__Pyx_Generator_USED) || defined(__Pyx_Coroutine_USED)\n",
      "  if (__Pyx_patch_abc() < 0) __PYX_ERR(0, 1, __pyx_L1_error)\n",
      "  #endif\n",
      "\n",
      "  /* \"primes.pyx\":1\n",
      " * def cprimes(int kmax):             # <<<<<<<<<<<<<<\n",
      " *     cdef int n, k, i\n",
      " *     cdef int p[1000]\n",
      " */\n",
      "  __pyx_t_1 = PyCFunction_NewEx(&__pyx_mdef_6primes_1cprimes, NULL, __pyx_n_s_primes); if (unlikely(!__pyx_t_1)) __PYX_ERR(0, 1, __pyx_L1_error)\n",
      "  __Pyx_GOTREF(__pyx_t_1);\n",
      "  if (PyDict_SetItem(__pyx_d, __pyx_n_s_cprimes, __pyx_t_1) < 0) __PYX_ERR(0, 1, __pyx_L1_error)\n",
      "  __Pyx_DECREF(__pyx_t_1); __pyx_t_1 = 0;\n",
      "  __pyx_t_1 = PyDict_New(); if (unlikely(!__pyx_t_1)) __PYX_ERR(0, 1, __pyx_L1_error)\n",
      "  __Pyx_GOTREF(__pyx_t_1);\n",
      "  if (PyDict_SetItem(__pyx_d, __pyx_n_s_test, __pyx_t_1) < 0) __PYX_ERR(0, 1, __pyx_L1_error)\n",
      "  __Pyx_DECREF(__pyx_t_1); __pyx_t_1 = 0;\n",
      "\n",
      "  /*--- Wrapped vars code ---*/\n",
      "\n",
      "  goto __pyx_L0;\n",
      "  __pyx_L1_error:;\n",
      "  __Pyx_XDECREF(__pyx_t_1);\n",
      "  if (__pyx_m) {\n",
      "    if (__pyx_d) {\n",
      "      __Pyx_AddTraceback(\"init primes\", __pyx_clineno, __pyx_lineno, __pyx_filename);\n",
      "    }\n",
      "    Py_DECREF(__pyx_m); __pyx_m = 0;\n",
      "  } else if (!PyErr_Occurred()) {\n",
      "    PyErr_SetString(PyExc_ImportError, \"init primes\");\n",
      "  }\n",
      "  __pyx_L0:;\n",
      "  __Pyx_RefNannyFinishContext();\n",
      "  #if PY_MAJOR_VERSION < 3\n",
      "  return;\n",
      "  #else\n",
      "  return __pyx_m;\n",
      "  #endif\n",
      "}\n",
      "\n",
      "/* --- Runtime support code --- */\n",
      "/* Refnanny */\n",
      "#if CYTHON_REFNANNY\n",
      "static __Pyx_RefNannyAPIStruct *__Pyx_RefNannyImportAPI(const char *modname) {\n",
      "    PyObject *m = NULL, *p = NULL;\n",
      "    void *r = NULL;\n",
      "    m = PyImport_ImportModule((char *)modname);\n",
      "    if (!m) goto end;\n",
      "    p = PyObject_GetAttrString(m, (char *)\"RefNannyAPI\");\n",
      "    if (!p) goto end;\n",
      "    r = PyLong_AsVoidPtr(p);\n",
      "end:\n",
      "    Py_XDECREF(p);\n",
      "    Py_XDECREF(m);\n",
      "    return (__Pyx_RefNannyAPIStruct *)r;\n",
      "}\n",
      "#endif\n",
      "\n",
      "/* None */\n",
      "static CYTHON_INLINE int __Pyx_mod_int(int a, int b) {\n",
      "    int r = a % b;\n",
      "    r += ((r != 0) & ((r ^ b) < 0)) * b;\n",
      "    return r;\n",
      "}\n",
      "\n",
      "/* CodeObjectCache */\n",
      "static int __pyx_bisect_code_objects(__Pyx_CodeObjectCacheEntry* entries, int count, int code_line) {\n",
      "    int start = 0, mid = 0, end = count - 1;\n",
      "    if (end >= 0 && code_line > entries[end].code_line) {\n",
      "        return count;\n",
      "    }\n",
      "    while (start < end) {\n",
      "        mid = start + (end - start) / 2;\n",
      "        if (code_line < entries[mid].code_line) {\n",
      "            end = mid;\n",
      "        } else if (code_line > entries[mid].code_line) {\n",
      "             start = mid + 1;\n",
      "        } else {\n",
      "            return mid;\n",
      "        }\n",
      "    }\n",
      "    if (code_line <= entries[mid].code_line) {\n",
      "        return mid;\n",
      "    } else {\n",
      "        return mid + 1;\n",
      "    }\n",
      "}\n",
      "static PyCodeObject *__pyx_find_code_object(int code_line) {\n",
      "    PyCodeObject* code_object;\n",
      "    int pos;\n",
      "    if (unlikely(!code_line) || unlikely(!__pyx_code_cache.entries)) {\n",
      "        return NULL;\n",
      "    }\n",
      "    pos = __pyx_bisect_code_objects(__pyx_code_cache.entries, __pyx_code_cache.count, code_line);\n",
      "    if (unlikely(pos >= __pyx_code_cache.count) || unlikely(__pyx_code_cache.entries[pos].code_line != code_line)) {\n",
      "        return NULL;\n",
      "    }\n",
      "    code_object = __pyx_code_cache.entries[pos].code_object;\n",
      "    Py_INCREF(code_object);\n",
      "    return code_object;\n",
      "}\n",
      "static void __pyx_insert_code_object(int code_line, PyCodeObject* code_object) {\n",
      "    int pos, i;\n",
      "    __Pyx_CodeObjectCacheEntry* entries = __pyx_code_cache.entries;\n",
      "    if (unlikely(!code_line)) {\n",
      "        return;\n",
      "    }\n",
      "    if (unlikely(!entries)) {\n",
      "        entries = (__Pyx_CodeObjectCacheEntry*)PyMem_Malloc(64*sizeof(__Pyx_CodeObjectCacheEntry));\n",
      "        if (likely(entries)) {\n",
      "            __pyx_code_cache.entries = entries;\n",
      "            __pyx_code_cache.max_count = 64;\n",
      "            __pyx_code_cache.count = 1;\n",
      "            entries[0].code_line = code_line;\n",
      "            entries[0].code_object = code_object;\n",
      "            Py_INCREF(code_object);\n",
      "        }\n",
      "        return;\n",
      "    }\n",
      "    pos = __pyx_bisect_code_objects(__pyx_code_cache.entries, __pyx_code_cache.count, code_line);\n",
      "    if ((pos < __pyx_code_cache.count) && unlikely(__pyx_code_cache.entries[pos].code_line == code_line)) {\n",
      "        PyCodeObject* tmp = entries[pos].code_object;\n",
      "        entries[pos].code_object = code_object;\n",
      "        Py_DECREF(tmp);\n",
      "        return;\n",
      "    }\n",
      "    if (__pyx_code_cache.count == __pyx_code_cache.max_count) {\n",
      "        int new_max = __pyx_code_cache.max_count + 64;\n",
      "        entries = (__Pyx_CodeObjectCacheEntry*)PyMem_Realloc(\n",
      "            __pyx_code_cache.entries, (size_t)new_max*sizeof(__Pyx_CodeObjectCacheEntry));\n",
      "        if (unlikely(!entries)) {\n",
      "            return;\n",
      "        }\n",
      "        __pyx_code_cache.entries = entries;\n",
      "        __pyx_code_cache.max_count = new_max;\n",
      "    }\n",
      "    for (i=__pyx_code_cache.count; i>pos; i--) {\n",
      "        entries[i] = entries[i-1];\n",
      "    }\n",
      "    entries[pos].code_line = code_line;\n",
      "    entries[pos].code_object = code_object;\n",
      "    __pyx_code_cache.count++;\n",
      "    Py_INCREF(code_object);\n",
      "}\n",
      "\n",
      "/* AddTraceback */\n",
      "#include \"compile.h\"\n",
      "#include \"frameobject.h\"\n",
      "#include \"traceback.h\"\n",
      "static PyCodeObject* __Pyx_CreateCodeObjectForTraceback(\n",
      "            const char *funcname, int c_line,\n",
      "            int py_line, const char *filename) {\n",
      "    PyCodeObject *py_code = 0;\n",
      "    PyObject *py_srcfile = 0;\n",
      "    PyObject *py_funcname = 0;\n",
      "    #if PY_MAJOR_VERSION < 3\n",
      "    py_srcfile = PyString_FromString(filename);\n",
      "    #else\n",
      "    py_srcfile = PyUnicode_FromString(filename);\n",
      "    #endif\n",
      "    if (!py_srcfile) goto bad;\n",
      "    if (c_line) {\n",
      "        #if PY_MAJOR_VERSION < 3\n",
      "        py_funcname = PyString_FromFormat( \"%s (%s:%d)\", funcname, __pyx_cfilenm, c_line);\n",
      "        #else\n",
      "        py_funcname = PyUnicode_FromFormat( \"%s (%s:%d)\", funcname, __pyx_cfilenm, c_line);\n",
      "        #endif\n",
      "    }\n",
      "    else {\n",
      "        #if PY_MAJOR_VERSION < 3\n",
      "        py_funcname = PyString_FromString(funcname);\n",
      "        #else\n",
      "        py_funcname = PyUnicode_FromString(funcname);\n",
      "        #endif\n",
      "    }\n",
      "    if (!py_funcname) goto bad;\n",
      "    py_code = __Pyx_PyCode_New(\n",
      "        0,\n",
      "        0,\n",
      "        0,\n",
      "        0,\n",
      "        0,\n",
      "        __pyx_empty_bytes, /*PyObject *code,*/\n",
      "        __pyx_empty_tuple, /*PyObject *consts,*/\n",
      "        __pyx_empty_tuple, /*PyObject *names,*/\n",
      "        __pyx_empty_tuple, /*PyObject *varnames,*/\n",
      "        __pyx_empty_tuple, /*PyObject *freevars,*/\n",
      "        __pyx_empty_tuple, /*PyObject *cellvars,*/\n",
      "        py_srcfile,   /*PyObject *filename,*/\n",
      "        py_funcname,  /*PyObject *name,*/\n",
      "        py_line,\n",
      "        __pyx_empty_bytes  /*PyObject *lnotab*/\n",
      "    );\n",
      "    Py_DECREF(py_srcfile);\n",
      "    Py_DECREF(py_funcname);\n",
      "    return py_code;\n",
      "bad:\n",
      "    Py_XDECREF(py_srcfile);\n",
      "    Py_XDECREF(py_funcname);\n",
      "    return NULL;\n",
      "}\n",
      "static void __Pyx_AddTraceback(const char *funcname, int c_line,\n",
      "                               int py_line, const char *filename) {\n",
      "    PyCodeObject *py_code = 0;\n",
      "    PyFrameObject *py_frame = 0;\n",
      "    py_code = __pyx_find_code_object(c_line ? c_line : py_line);\n",
      "    if (!py_code) {\n",
      "        py_code = __Pyx_CreateCodeObjectForTraceback(\n",
      "            funcname, c_line, py_line, filename);\n",
      "        if (!py_code) goto bad;\n",
      "        __pyx_insert_code_object(c_line ? c_line : py_line, py_code);\n",
      "    }\n",
      "    py_frame = PyFrame_New(\n",
      "        PyThreadState_GET(), /*PyThreadState *tstate,*/\n",
      "        py_code,             /*PyCodeObject *code,*/\n",
      "        __pyx_d,      /*PyObject *globals,*/\n",
      "        0                    /*PyObject *locals*/\n",
      "    );\n",
      "    if (!py_frame) goto bad;\n",
      "    py_frame->f_lineno = py_line;\n",
      "    PyTraceBack_Here(py_frame);\n",
      "bad:\n",
      "    Py_XDECREF(py_code);\n",
      "    Py_XDECREF(py_frame);\n",
      "}\n",
      "\n",
      "/* CIntFromPyVerify */\n",
      "#define __PYX_VERIFY_RETURN_INT(target_type, func_type, func_value)\\\n",
      "    __PYX__VERIFY_RETURN_INT(target_type, func_type, func_value, 0)\n",
      "#define __PYX_VERIFY_RETURN_INT_EXC(target_type, func_type, func_value)\\\n",
      "    __PYX__VERIFY_RETURN_INT(target_type, func_type, func_value, 1)\n",
      "#define __PYX__VERIFY_RETURN_INT(target_type, func_type, func_value, exc)\\\n",
      "    {\\\n",
      "        func_type value = func_value;\\\n",
      "        if (sizeof(target_type) < sizeof(func_type)) {\\\n",
      "            if (unlikely(value != (func_type) (target_type) value)) {\\\n",
      "                func_type zero = 0;\\\n",
      "                if (exc && unlikely(value == (func_type)-1 && PyErr_Occurred()))\\\n",
      "                    return (target_type) -1;\\\n",
      "                if (is_unsigned && unlikely(value < zero))\\\n",
      "                    goto raise_neg_overflow;\\\n",
      "                else\\\n",
      "                    goto raise_overflow;\\\n",
      "            }\\\n",
      "        }\\\n",
      "        return (target_type) value;\\\n",
      "    }\n",
      "\n",
      "/* CIntToPy */\n",
      "static CYTHON_INLINE PyObject* __Pyx_PyInt_From_int(int value) {\n",
      "    const int neg_one = (int) -1, const_zero = (int) 0;\n",
      "    const int is_unsigned = neg_one > const_zero;\n",
      "    if (is_unsigned) {\n",
      "        if (sizeof(int) < sizeof(long)) {\n",
      "            return PyInt_FromLong((long) value);\n",
      "        } else if (sizeof(int) <= sizeof(unsigned long)) {\n",
      "            return PyLong_FromUnsignedLong((unsigned long) value);\n",
      "        } else if (sizeof(int) <= sizeof(unsigned PY_LONG_LONG)) {\n",
      "            return PyLong_FromUnsignedLongLong((unsigned PY_LONG_LONG) value);\n",
      "        }\n",
      "    } else {\n",
      "        if (sizeof(int) <= sizeof(long)) {\n",
      "            return PyInt_FromLong((long) value);\n",
      "        } else if (sizeof(int) <= sizeof(PY_LONG_LONG)) {\n",
      "            return PyLong_FromLongLong((PY_LONG_LONG) value);\n",
      "        }\n",
      "    }\n",
      "    {\n",
      "        int one = 1; int little = (int)*(unsigned char *)&one;\n",
      "        unsigned char *bytes = (unsigned char *)&value;\n",
      "        return _PyLong_FromByteArray(bytes, sizeof(int),\n",
      "                                     little, !is_unsigned);\n",
      "    }\n",
      "}\n",
      "\n",
      "/* CIntFromPy */\n",
      "static CYTHON_INLINE int __Pyx_PyInt_As_int(PyObject *x) {\n",
      "    const int neg_one = (int) -1, const_zero = (int) 0;\n",
      "    const int is_unsigned = neg_one > const_zero;\n",
      "#if PY_MAJOR_VERSION < 3\n",
      "    if (likely(PyInt_Check(x))) {\n",
      "        if (sizeof(int) < sizeof(long)) {\n",
      "            __PYX_VERIFY_RETURN_INT(int, long, PyInt_AS_LONG(x))\n",
      "        } else {\n",
      "            long val = PyInt_AS_LONG(x);\n",
      "            if (is_unsigned && unlikely(val < 0)) {\n",
      "                goto raise_neg_overflow;\n",
      "            }\n",
      "            return (int) val;\n",
      "        }\n",
      "    } else\n",
      "#endif\n",
      "    if (likely(PyLong_Check(x))) {\n",
      "        if (is_unsigned) {\n",
      "#if CYTHON_USE_PYLONG_INTERNALS\n",
      "            const digit* digits = ((PyLongObject*)x)->ob_digit;\n",
      "            switch (Py_SIZE(x)) {\n",
      "                case  0: return (int) 0;\n",
      "                case  1: __PYX_VERIFY_RETURN_INT(int, digit, digits[0])\n",
      "                case 2:\n",
      "                    if (8 * sizeof(int) > 1 * PyLong_SHIFT) {\n",
      "                        if (8 * sizeof(unsigned long) > 2 * PyLong_SHIFT) {\n",
      "                            __PYX_VERIFY_RETURN_INT(int, unsigned long, (((((unsigned long)digits[1]) << PyLong_SHIFT) | (unsigned long)digits[0])))\n",
      "                        } else if (8 * sizeof(int) >= 2 * PyLong_SHIFT) {\n",
      "                            return (int) (((((int)digits[1]) << PyLong_SHIFT) | (int)digits[0]));\n",
      "                        }\n",
      "                    }\n",
      "                    break;\n",
      "                case 3:\n",
      "                    if (8 * sizeof(int) > 2 * PyLong_SHIFT) {\n",
      "                        if (8 * sizeof(unsigned long) > 3 * PyLong_SHIFT) {\n",
      "                            __PYX_VERIFY_RETURN_INT(int, unsigned long, (((((((unsigned long)digits[2]) << PyLong_SHIFT) | (unsigned long)digits[1]) << PyLong_SHIFT) | (unsigned long)digits[0])))\n",
      "                        } else if (8 * sizeof(int) >= 3 * PyLong_SHIFT) {\n",
      "                            return (int) (((((((int)digits[2]) << PyLong_SHIFT) | (int)digits[1]) << PyLong_SHIFT) | (int)digits[0]));\n",
      "                        }\n",
      "                    }\n",
      "                    break;\n",
      "                case 4:\n",
      "                    if (8 * sizeof(int) > 3 * PyLong_SHIFT) {\n",
      "                        if (8 * sizeof(unsigned long) > 4 * PyLong_SHIFT) {\n",
      "                            __PYX_VERIFY_RETURN_INT(int, unsigned long, (((((((((unsigned long)digits[3]) << PyLong_SHIFT) | (unsigned long)digits[2]) << PyLong_SHIFT) | (unsigned long)digits[1]) << PyLong_SHIFT) | (unsigned long)digits[0])))\n",
      "                        } else if (8 * sizeof(int) >= 4 * PyLong_SHIFT) {\n",
      "                            return (int) (((((((((int)digits[3]) << PyLong_SHIFT) | (int)digits[2]) << PyLong_SHIFT) | (int)digits[1]) << PyLong_SHIFT) | (int)digits[0]));\n",
      "                        }\n",
      "                    }\n",
      "                    break;\n",
      "            }\n",
      "#endif\n",
      "#if CYTHON_COMPILING_IN_CPYTHON\n",
      "            if (unlikely(Py_SIZE(x) < 0)) {\n",
      "                goto raise_neg_overflow;\n",
      "            }\n",
      "#else\n",
      "            {\n",
      "                int result = PyObject_RichCompareBool(x, Py_False, Py_LT);\n",
      "                if (unlikely(result < 0))\n",
      "                    return (int) -1;\n",
      "                if (unlikely(result == 1))\n",
      "                    goto raise_neg_overflow;\n",
      "            }\n",
      "#endif\n",
      "            if (sizeof(int) <= sizeof(unsigned long)) {\n",
      "                __PYX_VERIFY_RETURN_INT_EXC(int, unsigned long, PyLong_AsUnsignedLong(x))\n",
      "            } else if (sizeof(int) <= sizeof(unsigned PY_LONG_LONG)) {\n",
      "                __PYX_VERIFY_RETURN_INT_EXC(int, unsigned PY_LONG_LONG, PyLong_AsUnsignedLongLong(x))\n",
      "            }\n",
      "        } else {\n",
      "#if CYTHON_USE_PYLONG_INTERNALS\n",
      "            const digit* digits = ((PyLongObject*)x)->ob_digit;\n",
      "            switch (Py_SIZE(x)) {\n",
      "                case  0: return (int) 0;\n",
      "                case -1: __PYX_VERIFY_RETURN_INT(int, sdigit, (sdigit) (-(sdigit)digits[0]))\n",
      "                case  1: __PYX_VERIFY_RETURN_INT(int,  digit, +digits[0])\n",
      "                case -2:\n",
      "                    if (8 * sizeof(int) - 1 > 1 * PyLong_SHIFT) {\n",
      "                        if (8 * sizeof(unsigned long) > 2 * PyLong_SHIFT) {\n",
      "                            __PYX_VERIFY_RETURN_INT(int, long, -(long) (((((unsigned long)digits[1]) << PyLong_SHIFT) | (unsigned long)digits[0])))\n",
      "                        } else if (8 * sizeof(int) - 1 > 2 * PyLong_SHIFT) {\n",
      "                            return (int) (((int)-1)*(((((int)digits[1]) << PyLong_SHIFT) | (int)digits[0])));\n",
      "                        }\n",
      "                    }\n",
      "                    break;\n",
      "                case 2:\n",
      "                    if (8 * sizeof(int) > 1 * PyLong_SHIFT) {\n",
      "                        if (8 * sizeof(unsigned long) > 2 * PyLong_SHIFT) {\n",
      "                            __PYX_VERIFY_RETURN_INT(int, unsigned long, (((((unsigned long)digits[1]) << PyLong_SHIFT) | (unsigned long)digits[0])))\n",
      "                        } else if (8 * sizeof(int) - 1 > 2 * PyLong_SHIFT) {\n",
      "                            return (int) ((((((int)digits[1]) << PyLong_SHIFT) | (int)digits[0])));\n",
      "                        }\n",
      "                    }\n",
      "                    break;\n",
      "                case -3:\n",
      "                    if (8 * sizeof(int) - 1 > 2 * PyLong_SHIFT) {\n",
      "                        if (8 * sizeof(unsigned long) > 3 * PyLong_SHIFT) {\n",
      "                            __PYX_VERIFY_RETURN_INT(int, long, -(long) (((((((unsigned long)digits[2]) << PyLong_SHIFT) | (unsigned long)digits[1]) << PyLong_SHIFT) | (unsigned long)digits[0])))\n",
      "                        } else if (8 * sizeof(int) - 1 > 3 * PyLong_SHIFT) {\n",
      "                            return (int) (((int)-1)*(((((((int)digits[2]) << PyLong_SHIFT) | (int)digits[1]) << PyLong_SHIFT) | (int)digits[0])));\n",
      "                        }\n",
      "                    }\n",
      "                    break;\n",
      "                case 3:\n",
      "                    if (8 * sizeof(int) > 2 * PyLong_SHIFT) {\n",
      "                        if (8 * sizeof(unsigned long) > 3 * PyLong_SHIFT) {\n",
      "                            __PYX_VERIFY_RETURN_INT(int, unsigned long, (((((((unsigned long)digits[2]) << PyLong_SHIFT) | (unsigned long)digits[1]) << PyLong_SHIFT) | (unsigned long)digits[0])))\n",
      "                        } else if (8 * sizeof(int) - 1 > 3 * PyLong_SHIFT) {\n",
      "                            return (int) ((((((((int)digits[2]) << PyLong_SHIFT) | (int)digits[1]) << PyLong_SHIFT) | (int)digits[0])));\n",
      "                        }\n",
      "                    }\n",
      "                    break;\n",
      "                case -4:\n",
      "                    if (8 * sizeof(int) - 1 > 3 * PyLong_SHIFT) {\n",
      "                        if (8 * sizeof(unsigned long) > 4 * PyLong_SHIFT) {\n",
      "                            __PYX_VERIFY_RETURN_INT(int, long, -(long) (((((((((unsigned long)digits[3]) << PyLong_SHIFT) | (unsigned long)digits[2]) << PyLong_SHIFT) | (unsigned long)digits[1]) << PyLong_SHIFT) | (unsigned long)digits[0])))\n",
      "                        } else if (8 * sizeof(int) - 1 > 4 * PyLong_SHIFT) {\n",
      "                            return (int) (((int)-1)*(((((((((int)digits[3]) << PyLong_SHIFT) | (int)digits[2]) << PyLong_SHIFT) | (int)digits[1]) << PyLong_SHIFT) | (int)digits[0])));\n",
      "                        }\n",
      "                    }\n",
      "                    break;\n",
      "                case 4:\n",
      "                    if (8 * sizeof(int) > 3 * PyLong_SHIFT) {\n",
      "                        if (8 * sizeof(unsigned long) > 4 * PyLong_SHIFT) {\n",
      "                            __PYX_VERIFY_RETURN_INT(int, unsigned long, (((((((((unsigned long)digits[3]) << PyLong_SHIFT) | (unsigned long)digits[2]) << PyLong_SHIFT) | (unsigned long)digits[1]) << PyLong_SHIFT) | (unsigned long)digits[0])))\n",
      "                        } else if (8 * sizeof(int) - 1 > 4 * PyLong_SHIFT) {\n",
      "                            return (int) ((((((((((int)digits[3]) << PyLong_SHIFT) | (int)digits[2]) << PyLong_SHIFT) | (int)digits[1]) << PyLong_SHIFT) | (int)digits[0])));\n",
      "                        }\n",
      "                    }\n",
      "                    break;\n",
      "            }\n",
      "#endif\n",
      "            if (sizeof(int) <= sizeof(long)) {\n",
      "                __PYX_VERIFY_RETURN_INT_EXC(int, long, PyLong_AsLong(x))\n",
      "            } else if (sizeof(int) <= sizeof(PY_LONG_LONG)) {\n",
      "                __PYX_VERIFY_RETURN_INT_EXC(int, PY_LONG_LONG, PyLong_AsLongLong(x))\n",
      "            }\n",
      "        }\n",
      "        {\n",
      "#if CYTHON_COMPILING_IN_PYPY && !defined(_PyLong_AsByteArray)\n",
      "            PyErr_SetString(PyExc_RuntimeError,\n",
      "                            \"_PyLong_AsByteArray() not available in PyPy, cannot convert large numbers\");\n",
      "#else\n",
      "            int val;\n",
      "            PyObject *v = __Pyx_PyNumber_IntOrLong(x);\n",
      " #if PY_MAJOR_VERSION < 3\n",
      "            if (likely(v) && !PyLong_Check(v)) {\n",
      "                PyObject *tmp = v;\n",
      "                v = PyNumber_Long(tmp);\n",
      "                Py_DECREF(tmp);\n",
      "            }\n",
      " #endif\n",
      "            if (likely(v)) {\n",
      "                int one = 1; int is_little = (int)*(unsigned char *)&one;\n",
      "                unsigned char *bytes = (unsigned char *)&val;\n",
      "                int ret = _PyLong_AsByteArray((PyLongObject *)v,\n",
      "                                              bytes, sizeof(val),\n",
      "                                              is_little, !is_unsigned);\n",
      "                Py_DECREF(v);\n",
      "                if (likely(!ret))\n",
      "                    return val;\n",
      "            }\n",
      "#endif\n",
      "            return (int) -1;\n",
      "        }\n",
      "    } else {\n",
      "        int val;\n",
      "        PyObject *tmp = __Pyx_PyNumber_IntOrLong(x);\n",
      "        if (!tmp) return (int) -1;\n",
      "        val = __Pyx_PyInt_As_int(tmp);\n",
      "        Py_DECREF(tmp);\n",
      "        return val;\n",
      "    }\n",
      "raise_overflow:\n",
      "    PyErr_SetString(PyExc_OverflowError,\n",
      "        \"value too large to convert to int\");\n",
      "    return (int) -1;\n",
      "raise_neg_overflow:\n",
      "    PyErr_SetString(PyExc_OverflowError,\n",
      "        \"can't convert negative value to int\");\n",
      "    return (int) -1;\n",
      "}\n",
      "\n",
      "/* CIntToPy */\n",
      "static CYTHON_INLINE PyObject* __Pyx_PyInt_From_long(long value) {\n",
      "    const long neg_one = (long) -1, const_zero = (long) 0;\n",
      "    const int is_unsigned = neg_one > const_zero;\n",
      "    if (is_unsigned) {\n",
      "        if (sizeof(long) < sizeof(long)) {\n",
      "            return PyInt_FromLong((long) value);\n",
      "        } else if (sizeof(long) <= sizeof(unsigned long)) {\n",
      "            return PyLong_FromUnsignedLong((unsigned long) value);\n",
      "        } else if (sizeof(long) <= sizeof(unsigned PY_LONG_LONG)) {\n",
      "            return PyLong_FromUnsignedLongLong((unsigned PY_LONG_LONG) value);\n",
      "        }\n",
      "    } else {\n",
      "        if (sizeof(long) <= sizeof(long)) {\n",
      "            return PyInt_FromLong((long) value);\n",
      "        } else if (sizeof(long) <= sizeof(PY_LONG_LONG)) {\n",
      "            return PyLong_FromLongLong((PY_LONG_LONG) value);\n",
      "        }\n",
      "    }\n",
      "    {\n",
      "        int one = 1; int little = (int)*(unsigned char *)&one;\n",
      "        unsigned char *bytes = (unsigned char *)&value;\n",
      "        return _PyLong_FromByteArray(bytes, sizeof(long),\n",
      "                                     little, !is_unsigned);\n",
      "    }\n",
      "}\n",
      "\n",
      "/* CIntFromPy */\n",
      "static CYTHON_INLINE long __Pyx_PyInt_As_long(PyObject *x) {\n",
      "    const long neg_one = (long) -1, const_zero = (long) 0;\n",
      "    const int is_unsigned = neg_one > const_zero;\n",
      "#if PY_MAJOR_VERSION < 3\n",
      "    if (likely(PyInt_Check(x))) {\n",
      "        if (sizeof(long) < sizeof(long)) {\n",
      "            __PYX_VERIFY_RETURN_INT(long, long, PyInt_AS_LONG(x))\n",
      "        } else {\n",
      "            long val = PyInt_AS_LONG(x);\n",
      "            if (is_unsigned && unlikely(val < 0)) {\n",
      "                goto raise_neg_overflow;\n",
      "            }\n",
      "            return (long) val;\n",
      "        }\n",
      "    } else\n",
      "#endif\n",
      "    if (likely(PyLong_Check(x))) {\n",
      "        if (is_unsigned) {\n",
      "#if CYTHON_USE_PYLONG_INTERNALS\n",
      "            const digit* digits = ((PyLongObject*)x)->ob_digit;\n",
      "            switch (Py_SIZE(x)) {\n",
      "                case  0: return (long) 0;\n",
      "                case  1: __PYX_VERIFY_RETURN_INT(long, digit, digits[0])\n",
      "                case 2:\n",
      "                    if (8 * sizeof(long) > 1 * PyLong_SHIFT) {\n",
      "                        if (8 * sizeof(unsigned long) > 2 * PyLong_SHIFT) {\n",
      "                            __PYX_VERIFY_RETURN_INT(long, unsigned long, (((((unsigned long)digits[1]) << PyLong_SHIFT) | (unsigned long)digits[0])))\n",
      "                        } else if (8 * sizeof(long) >= 2 * PyLong_SHIFT) {\n",
      "                            return (long) (((((long)digits[1]) << PyLong_SHIFT) | (long)digits[0]));\n",
      "                        }\n",
      "                    }\n",
      "                    break;\n",
      "                case 3:\n",
      "                    if (8 * sizeof(long) > 2 * PyLong_SHIFT) {\n",
      "                        if (8 * sizeof(unsigned long) > 3 * PyLong_SHIFT) {\n",
      "                            __PYX_VERIFY_RETURN_INT(long, unsigned long, (((((((unsigned long)digits[2]) << PyLong_SHIFT) | (unsigned long)digits[1]) << PyLong_SHIFT) | (unsigned long)digits[0])))\n",
      "                        } else if (8 * sizeof(long) >= 3 * PyLong_SHIFT) {\n",
      "                            return (long) (((((((long)digits[2]) << PyLong_SHIFT) | (long)digits[1]) << PyLong_SHIFT) | (long)digits[0]));\n",
      "                        }\n",
      "                    }\n",
      "                    break;\n",
      "                case 4:\n",
      "                    if (8 * sizeof(long) > 3 * PyLong_SHIFT) {\n",
      "                        if (8 * sizeof(unsigned long) > 4 * PyLong_SHIFT) {\n",
      "                            __PYX_VERIFY_RETURN_INT(long, unsigned long, (((((((((unsigned long)digits[3]) << PyLong_SHIFT) | (unsigned long)digits[2]) << PyLong_SHIFT) | (unsigned long)digits[1]) << PyLong_SHIFT) | (unsigned long)digits[0])))\n",
      "                        } else if (8 * sizeof(long) >= 4 * PyLong_SHIFT) {\n",
      "                            return (long) (((((((((long)digits[3]) << PyLong_SHIFT) | (long)digits[2]) << PyLong_SHIFT) | (long)digits[1]) << PyLong_SHIFT) | (long)digits[0]));\n",
      "                        }\n",
      "                    }\n",
      "                    break;\n",
      "            }\n",
      "#endif\n",
      "#if CYTHON_COMPILING_IN_CPYTHON\n",
      "            if (unlikely(Py_SIZE(x) < 0)) {\n",
      "                goto raise_neg_overflow;\n",
      "            }\n",
      "#else\n",
      "            {\n",
      "                int result = PyObject_RichCompareBool(x, Py_False, Py_LT);\n",
      "                if (unlikely(result < 0))\n",
      "                    return (long) -1;\n",
      "                if (unlikely(result == 1))\n",
      "                    goto raise_neg_overflow;\n",
      "            }\n",
      "#endif\n",
      "            if (sizeof(long) <= sizeof(unsigned long)) {\n",
      "                __PYX_VERIFY_RETURN_INT_EXC(long, unsigned long, PyLong_AsUnsignedLong(x))\n",
      "            } else if (sizeof(long) <= sizeof(unsigned PY_LONG_LONG)) {\n",
      "                __PYX_VERIFY_RETURN_INT_EXC(long, unsigned PY_LONG_LONG, PyLong_AsUnsignedLongLong(x))\n",
      "            }\n",
      "        } else {\n",
      "#if CYTHON_USE_PYLONG_INTERNALS\n",
      "            const digit* digits = ((PyLongObject*)x)->ob_digit;\n",
      "            switch (Py_SIZE(x)) {\n",
      "                case  0: return (long) 0;\n",
      "                case -1: __PYX_VERIFY_RETURN_INT(long, sdigit, (sdigit) (-(sdigit)digits[0]))\n",
      "                case  1: __PYX_VERIFY_RETURN_INT(long,  digit, +digits[0])\n",
      "                case -2:\n",
      "                    if (8 * sizeof(long) - 1 > 1 * PyLong_SHIFT) {\n",
      "                        if (8 * sizeof(unsigned long) > 2 * PyLong_SHIFT) {\n",
      "                            __PYX_VERIFY_RETURN_INT(long, long, -(long) (((((unsigned long)digits[1]) << PyLong_SHIFT) | (unsigned long)digits[0])))\n",
      "                        } else if (8 * sizeof(long) - 1 > 2 * PyLong_SHIFT) {\n",
      "                            return (long) (((long)-1)*(((((long)digits[1]) << PyLong_SHIFT) | (long)digits[0])));\n",
      "                        }\n",
      "                    }\n",
      "                    break;\n",
      "                case 2:\n",
      "                    if (8 * sizeof(long) > 1 * PyLong_SHIFT) {\n",
      "                        if (8 * sizeof(unsigned long) > 2 * PyLong_SHIFT) {\n",
      "                            __PYX_VERIFY_RETURN_INT(long, unsigned long, (((((unsigned long)digits[1]) << PyLong_SHIFT) | (unsigned long)digits[0])))\n",
      "                        } else if (8 * sizeof(long) - 1 > 2 * PyLong_SHIFT) {\n",
      "                            return (long) ((((((long)digits[1]) << PyLong_SHIFT) | (long)digits[0])));\n",
      "                        }\n",
      "                    }\n",
      "                    break;\n",
      "                case -3:\n",
      "                    if (8 * sizeof(long) - 1 > 2 * PyLong_SHIFT) {\n",
      "                        if (8 * sizeof(unsigned long) > 3 * PyLong_SHIFT) {\n",
      "                            __PYX_VERIFY_RETURN_INT(long, long, -(long) (((((((unsigned long)digits[2]) << PyLong_SHIFT) | (unsigned long)digits[1]) << PyLong_SHIFT) | (unsigned long)digits[0])))\n",
      "                        } else if (8 * sizeof(long) - 1 > 3 * PyLong_SHIFT) {\n",
      "                            return (long) (((long)-1)*(((((((long)digits[2]) << PyLong_SHIFT) | (long)digits[1]) << PyLong_SHIFT) | (long)digits[0])));\n",
      "                        }\n",
      "                    }\n",
      "                    break;\n",
      "                case 3:\n",
      "                    if (8 * sizeof(long) > 2 * PyLong_SHIFT) {\n",
      "                        if (8 * sizeof(unsigned long) > 3 * PyLong_SHIFT) {\n",
      "                            __PYX_VERIFY_RETURN_INT(long, unsigned long, (((((((unsigned long)digits[2]) << PyLong_SHIFT) | (unsigned long)digits[1]) << PyLong_SHIFT) | (unsigned long)digits[0])))\n",
      "                        } else if (8 * sizeof(long) - 1 > 3 * PyLong_SHIFT) {\n",
      "                            return (long) ((((((((long)digits[2]) << PyLong_SHIFT) | (long)digits[1]) << PyLong_SHIFT) | (long)digits[0])));\n",
      "                        }\n",
      "                    }\n",
      "                    break;\n",
      "                case -4:\n",
      "                    if (8 * sizeof(long) - 1 > 3 * PyLong_SHIFT) {\n",
      "                        if (8 * sizeof(unsigned long) > 4 * PyLong_SHIFT) {\n",
      "                            __PYX_VERIFY_RETURN_INT(long, long, -(long) (((((((((unsigned long)digits[3]) << PyLong_SHIFT) | (unsigned long)digits[2]) << PyLong_SHIFT) | (unsigned long)digits[1]) << PyLong_SHIFT) | (unsigned long)digits[0])))\n",
      "                        } else if (8 * sizeof(long) - 1 > 4 * PyLong_SHIFT) {\n",
      "                            return (long) (((long)-1)*(((((((((long)digits[3]) << PyLong_SHIFT) | (long)digits[2]) << PyLong_SHIFT) | (long)digits[1]) << PyLong_SHIFT) | (long)digits[0])));\n",
      "                        }\n",
      "                    }\n",
      "                    break;\n",
      "                case 4:\n",
      "                    if (8 * sizeof(long) > 3 * PyLong_SHIFT) {\n",
      "                        if (8 * sizeof(unsigned long) > 4 * PyLong_SHIFT) {\n",
      "                            __PYX_VERIFY_RETURN_INT(long, unsigned long, (((((((((unsigned long)digits[3]) << PyLong_SHIFT) | (unsigned long)digits[2]) << PyLong_SHIFT) | (unsigned long)digits[1]) << PyLong_SHIFT) | (unsigned long)digits[0])))\n",
      "                        } else if (8 * sizeof(long) - 1 > 4 * PyLong_SHIFT) {\n",
      "                            return (long) ((((((((((long)digits[3]) << PyLong_SHIFT) | (long)digits[2]) << PyLong_SHIFT) | (long)digits[1]) << PyLong_SHIFT) | (long)digits[0])));\n",
      "                        }\n",
      "                    }\n",
      "                    break;\n",
      "            }\n",
      "#endif\n",
      "            if (sizeof(long) <= sizeof(long)) {\n",
      "                __PYX_VERIFY_RETURN_INT_EXC(long, long, PyLong_AsLong(x))\n",
      "            } else if (sizeof(long) <= sizeof(PY_LONG_LONG)) {\n",
      "                __PYX_VERIFY_RETURN_INT_EXC(long, PY_LONG_LONG, PyLong_AsLongLong(x))\n",
      "            }\n",
      "        }\n",
      "        {\n",
      "#if CYTHON_COMPILING_IN_PYPY && !defined(_PyLong_AsByteArray)\n",
      "            PyErr_SetString(PyExc_RuntimeError,\n",
      "                            \"_PyLong_AsByteArray() not available in PyPy, cannot convert large numbers\");\n",
      "#else\n",
      "            long val;\n",
      "            PyObject *v = __Pyx_PyNumber_IntOrLong(x);\n",
      " #if PY_MAJOR_VERSION < 3\n",
      "            if (likely(v) && !PyLong_Check(v)) {\n",
      "                PyObject *tmp = v;\n",
      "                v = PyNumber_Long(tmp);\n",
      "                Py_DECREF(tmp);\n",
      "            }\n",
      " #endif\n",
      "            if (likely(v)) {\n",
      "                int one = 1; int is_little = (int)*(unsigned char *)&one;\n",
      "                unsigned char *bytes = (unsigned char *)&val;\n",
      "                int ret = _PyLong_AsByteArray((PyLongObject *)v,\n",
      "                                              bytes, sizeof(val),\n",
      "                                              is_little, !is_unsigned);\n",
      "                Py_DECREF(v);\n",
      "                if (likely(!ret))\n",
      "                    return val;\n",
      "            }\n",
      "#endif\n",
      "            return (long) -1;\n",
      "        }\n",
      "    } else {\n",
      "        long val;\n",
      "        PyObject *tmp = __Pyx_PyNumber_IntOrLong(x);\n",
      "        if (!tmp) return (long) -1;\n",
      "        val = __Pyx_PyInt_As_long(tmp);\n",
      "        Py_DECREF(tmp);\n",
      "        return val;\n",
      "    }\n",
      "raise_overflow:\n",
      "    PyErr_SetString(PyExc_OverflowError,\n",
      "        \"value too large to convert to long\");\n",
      "    return (long) -1;\n",
      "raise_neg_overflow:\n",
      "    PyErr_SetString(PyExc_OverflowError,\n",
      "        \"can't convert negative value to long\");\n",
      "    return (long) -1;\n",
      "}\n",
      "\n",
      "/* CheckBinaryVersion */\n",
      "static int __Pyx_check_binary_version(void) {\n",
      "    char ctversion[4], rtversion[4];\n",
      "    PyOS_snprintf(ctversion, 4, \"%d.%d\", PY_MAJOR_VERSION, PY_MINOR_VERSION);\n",
      "    PyOS_snprintf(rtversion, 4, \"%s\", Py_GetVersion());\n",
      "    if (ctversion[0] != rtversion[0] || ctversion[2] != rtversion[2]) {\n",
      "        char message[200];\n",
      "        PyOS_snprintf(message, sizeof(message),\n",
      "                      \"compiletime version %s of module '%.100s' \"\n",
      "                      \"does not match runtime version %s\",\n",
      "                      ctversion, __Pyx_MODULE_NAME, rtversion);\n",
      "        return PyErr_WarnEx(NULL, message, 1);\n",
      "    }\n",
      "    return 0;\n",
      "}\n",
      "\n",
      "/* InitStrings */\n",
      "static int __Pyx_InitStrings(__Pyx_StringTabEntry *t) {\n",
      "    while (t->p) {\n",
      "        #if PY_MAJOR_VERSION < 3\n",
      "        if (t->is_unicode) {\n",
      "            *t->p = PyUnicode_DecodeUTF8(t->s, t->n - 1, NULL);\n",
      "        } else if (t->intern) {\n",
      "            *t->p = PyString_InternFromString(t->s);\n",
      "        } else {\n",
      "            *t->p = PyString_FromStringAndSize(t->s, t->n - 1);\n",
      "        }\n",
      "        #else\n",
      "        if (t->is_unicode | t->is_str) {\n",
      "            if (t->intern) {\n",
      "                *t->p = PyUnicode_InternFromString(t->s);\n",
      "            } else if (t->encoding) {\n",
      "                *t->p = PyUnicode_Decode(t->s, t->n - 1, t->encoding, NULL);\n",
      "            } else {\n",
      "                *t->p = PyUnicode_FromStringAndSize(t->s, t->n - 1);\n",
      "            }\n",
      "        } else {\n",
      "            *t->p = PyBytes_FromStringAndSize(t->s, t->n - 1);\n",
      "        }\n",
      "        #endif\n",
      "        if (!*t->p)\n",
      "            return -1;\n",
      "        ++t;\n",
      "    }\n",
      "    return 0;\n",
      "}\n",
      "\n",
      "static CYTHON_INLINE PyObject* __Pyx_PyUnicode_FromString(const char* c_str) {\n",
      "    return __Pyx_PyUnicode_FromStringAndSize(c_str, (Py_ssize_t)strlen(c_str));\n",
      "}\n",
      "static CYTHON_INLINE char* __Pyx_PyObject_AsString(PyObject* o) {\n",
      "    Py_ssize_t ignore;\n",
      "    return __Pyx_PyObject_AsStringAndSize(o, &ignore);\n",
      "}\n",
      "static CYTHON_INLINE char* __Pyx_PyObject_AsStringAndSize(PyObject* o, Py_ssize_t *length) {\n",
      "#if CYTHON_COMPILING_IN_CPYTHON && (__PYX_DEFAULT_STRING_ENCODING_IS_ASCII || __PYX_DEFAULT_STRING_ENCODING_IS_DEFAULT)\n",
      "    if (\n",
      "#if PY_MAJOR_VERSION < 3 && __PYX_DEFAULT_STRING_ENCODING_IS_ASCII\n",
      "            __Pyx_sys_getdefaultencoding_not_ascii &&\n",
      "#endif\n",
      "            PyUnicode_Check(o)) {\n",
      "#if PY_VERSION_HEX < 0x03030000\n",
      "        char* defenc_c;\n",
      "        PyObject* defenc = _PyUnicode_AsDefaultEncodedString(o, NULL);\n",
      "        if (!defenc) return NULL;\n",
      "        defenc_c = PyBytes_AS_STRING(defenc);\n",
      "#if __PYX_DEFAULT_STRING_ENCODING_IS_ASCII\n",
      "        {\n",
      "            char* end = defenc_c + PyBytes_GET_SIZE(defenc);\n",
      "            char* c;\n",
      "            for (c = defenc_c; c < end; c++) {\n",
      "                if ((unsigned char) (*c) >= 128) {\n",
      "                    PyUnicode_AsASCIIString(o);\n",
      "                    return NULL;\n",
      "                }\n",
      "            }\n",
      "        }\n",
      "#endif\n",
      "        *length = PyBytes_GET_SIZE(defenc);\n",
      "        return defenc_c;\n",
      "#else\n",
      "        if (__Pyx_PyUnicode_READY(o) == -1) return NULL;\n",
      "#if __PYX_DEFAULT_STRING_ENCODING_IS_ASCII\n",
      "        if (PyUnicode_IS_ASCII(o)) {\n",
      "            *length = PyUnicode_GET_LENGTH(o);\n",
      "            return PyUnicode_AsUTF8(o);\n",
      "        } else {\n",
      "            PyUnicode_AsASCIIString(o);\n",
      "            return NULL;\n",
      "        }\n",
      "#else\n",
      "        return PyUnicode_AsUTF8AndSize(o, length);\n",
      "#endif\n",
      "#endif\n",
      "    } else\n",
      "#endif\n",
      "#if (!CYTHON_COMPILING_IN_PYPY) || (defined(PyByteArray_AS_STRING) && defined(PyByteArray_GET_SIZE))\n",
      "    if (PyByteArray_Check(o)) {\n",
      "        *length = PyByteArray_GET_SIZE(o);\n",
      "        return PyByteArray_AS_STRING(o);\n",
      "    } else\n",
      "#endif\n",
      "    {\n",
      "        char* result;\n",
      "        int r = PyBytes_AsStringAndSize(o, &result, length);\n",
      "        if (unlikely(r < 0)) {\n",
      "            return NULL;\n",
      "        } else {\n",
      "            return result;\n",
      "        }\n",
      "    }\n",
      "}\n",
      "static CYTHON_INLINE int __Pyx_PyObject_IsTrue(PyObject* x) {\n",
      "   int is_true = x == Py_True;\n",
      "   if (is_true | (x == Py_False) | (x == Py_None)) return is_true;\n",
      "   else return PyObject_IsTrue(x);\n",
      "}\n",
      "static CYTHON_INLINE PyObject* __Pyx_PyNumber_IntOrLong(PyObject* x) {\n",
      "  PyNumberMethods *m;\n",
      "  const char *name = NULL;\n",
      "  PyObject *res = NULL;\n",
      "#if PY_MAJOR_VERSION < 3\n",
      "  if (PyInt_Check(x) || PyLong_Check(x))\n",
      "#else\n",
      "  if (PyLong_Check(x))\n",
      "#endif\n",
      "    return __Pyx_NewRef(x);\n",
      "  m = Py_TYPE(x)->tp_as_number;\n",
      "#if PY_MAJOR_VERSION < 3\n",
      "  if (m && m->nb_int) {\n",
      "    name = \"int\";\n",
      "    res = PyNumber_Int(x);\n",
      "  }\n",
      "  else if (m && m->nb_long) {\n",
      "    name = \"long\";\n",
      "    res = PyNumber_Long(x);\n",
      "  }\n",
      "#else\n",
      "  if (m && m->nb_int) {\n",
      "    name = \"int\";\n",
      "    res = PyNumber_Long(x);\n",
      "  }\n",
      "#endif\n",
      "  if (res) {\n",
      "#if PY_MAJOR_VERSION < 3\n",
      "    if (!PyInt_Check(res) && !PyLong_Check(res)) {\n",
      "#else\n",
      "    if (!PyLong_Check(res)) {\n",
      "#endif\n",
      "      PyErr_Format(PyExc_TypeError,\n",
      "                   \"__%.4s__ returned non-%.4s (type %.200s)\",\n",
      "                   name, name, Py_TYPE(res)->tp_name);\n",
      "      Py_DECREF(res);\n",
      "      return NULL;\n",
      "    }\n",
      "  }\n",
      "  else if (!PyErr_Occurred()) {\n",
      "    PyErr_SetString(PyExc_TypeError,\n",
      "                    \"an integer is required\");\n",
      "  }\n",
      "  return res;\n",
      "}\n",
      "static CYTHON_INLINE Py_ssize_t __Pyx_PyIndex_AsSsize_t(PyObject* b) {\n",
      "  Py_ssize_t ival;\n",
      "  PyObject *x;\n",
      "#if PY_MAJOR_VERSION < 3\n",
      "  if (likely(PyInt_CheckExact(b))) {\n",
      "    if (sizeof(Py_ssize_t) >= sizeof(long))\n",
      "        return PyInt_AS_LONG(b);\n",
      "    else\n",
      "        return PyInt_AsSsize_t(x);\n",
      "  }\n",
      "#endif\n",
      "  if (likely(PyLong_CheckExact(b))) {\n",
      "    #if CYTHON_USE_PYLONG_INTERNALS\n",
      "    const digit* digits = ((PyLongObject*)b)->ob_digit;\n",
      "    const Py_ssize_t size = Py_SIZE(b);\n",
      "    if (likely(__Pyx_sst_abs(size) <= 1)) {\n",
      "        ival = likely(size) ? digits[0] : 0;\n",
      "        if (size == -1) ival = -ival;\n",
      "        return ival;\n",
      "    } else {\n",
      "      switch (size) {\n",
      "         case 2:\n",
      "           if (8 * sizeof(Py_ssize_t) > 2 * PyLong_SHIFT) {\n",
      "             return (Py_ssize_t) (((((size_t)digits[1]) << PyLong_SHIFT) | (size_t)digits[0]));\n",
      "           }\n",
      "           break;\n",
      "         case -2:\n",
      "           if (8 * sizeof(Py_ssize_t) > 2 * PyLong_SHIFT) {\n",
      "             return -(Py_ssize_t) (((((size_t)digits[1]) << PyLong_SHIFT) | (size_t)digits[0]));\n",
      "           }\n",
      "           break;\n",
      "         case 3:\n",
      "           if (8 * sizeof(Py_ssize_t) > 3 * PyLong_SHIFT) {\n",
      "             return (Py_ssize_t) (((((((size_t)digits[2]) << PyLong_SHIFT) | (size_t)digits[1]) << PyLong_SHIFT) | (size_t)digits[0]));\n",
      "           }\n",
      "           break;\n",
      "         case -3:\n",
      "           if (8 * sizeof(Py_ssize_t) > 3 * PyLong_SHIFT) {\n",
      "             return -(Py_ssize_t) (((((((size_t)digits[2]) << PyLong_SHIFT) | (size_t)digits[1]) << PyLong_SHIFT) | (size_t)digits[0]));\n",
      "           }\n",
      "           break;\n",
      "         case 4:\n",
      "           if (8 * sizeof(Py_ssize_t) > 4 * PyLong_SHIFT) {\n",
      "             return (Py_ssize_t) (((((((((size_t)digits[3]) << PyLong_SHIFT) | (size_t)digits[2]) << PyLong_SHIFT) | (size_t)digits[1]) << PyLong_SHIFT) | (size_t)digits[0]));\n",
      "           }\n",
      "           break;\n",
      "         case -4:\n",
      "           if (8 * sizeof(Py_ssize_t) > 4 * PyLong_SHIFT) {\n",
      "             return -(Py_ssize_t) (((((((((size_t)digits[3]) << PyLong_SHIFT) | (size_t)digits[2]) << PyLong_SHIFT) | (size_t)digits[1]) << PyLong_SHIFT) | (size_t)digits[0]));\n",
      "           }\n",
      "           break;\n",
      "      }\n",
      "    }\n",
      "    #endif\n",
      "    return PyLong_AsSsize_t(b);\n",
      "  }\n",
      "  x = PyNumber_Index(b);\n",
      "  if (!x) return -1;\n",
      "  ival = PyInt_AsSsize_t(x);\n",
      "  Py_DECREF(x);\n",
      "  return ival;\n",
      "}\n",
      "static CYTHON_INLINE PyObject * __Pyx_PyInt_FromSize_t(size_t ival) {\n",
      "    return PyInt_FromSize_t(ival);\n",
      "}\n",
      "\n",
      "\n",
      "#endif /* Py_PYTHON_H */\n"
     ]
    }
   ],
   "source": [
    "%cat primes.c"
   ]
  },
  {
   "cell_type": "markdown",
   "metadata": {},
   "source": [
    "You can now import `primes` as if it was a regular Python module (if you aren't sure which of the things you are importing, restart your kernel, but don't forger to change directory to `../scripts/cython`)."
   ]
  },
  {
   "cell_type": "code",
   "execution_count": 3,
   "metadata": {
    "collapsed": false
   },
   "outputs": [],
   "source": [
    "import primes"
   ]
  },
  {
   "cell_type": "code",
   "execution_count": 4,
   "metadata": {
    "collapsed": false
   },
   "outputs": [
    {
     "data": {
      "text/plain": [
       "[2, 3, 5, 7, 11, 13, 17, 19, 23, 29]"
      ]
     },
     "execution_count": 4,
     "metadata": {},
     "output_type": "execute_result"
    }
   ],
   "source": [
    "primes.cprimes(10)"
   ]
  },
  {
   "cell_type": "markdown",
   "metadata": {},
   "source": [
    "## Another example\n",
    "\n",
    "This is from Robert Bradshaw [SciPy 2008 slides](http://wiki.sagemath.org/scipy08?action=AttachFile&do=get&target=scipy-cython.tgz).\n",
    "\n",
    "We will write a simple integration code to integrate $f(x) = x^3 - 3x$:"
   ]
  },
  {
   "cell_type": "code",
   "execution_count": 7,
   "metadata": {
    "collapsed": true
   },
   "outputs": [],
   "source": [
    "def f(x):\n",
    "    return x * x * x - 3 * x\n",
    "\n",
    "def integrate_f(a , b , N):\n",
    "    s = 0\n",
    "    dx = (b - a )/ N\n",
    "    for i in range(N):\n",
    "        s += f(a + i * dx)\n",
    "    return s * dx"
   ]
  },
  {
   "cell_type": "code",
   "execution_count": 3,
   "metadata": {
    "collapsed": false
   },
   "outputs": [
    {
     "name": "stdout",
     "output_type": "stream",
     "text": [
      "100 loops, best of 3: 11.3 ms per loop\n"
     ]
    }
   ],
   "source": [
    "%timeit integrate_f(0, 1, 10000)"
   ]
  },
  {
   "cell_type": "markdown",
   "metadata": {},
   "source": [
    "Now, the same with Cython. Note that when we define a function with `cdef` we can set a return value but we can only call it from within Cython. When we define a function with `def` we can import it and call it from Python."
   ]
  },
  {
   "cell_type": "code",
   "execution_count": 4,
   "metadata": {
    "collapsed": true
   },
   "outputs": [],
   "source": [
    "%%cython\n",
    "cdef double g(double x):\n",
    "    return x * x * x - 3* x\n",
    "\n",
    "def integrate_g(double a , double  b , int N):\n",
    "    cdef double s = 0\n",
    "    cdef double dx = (b - a )/ N\n",
    "    cdef int i\n",
    "    for i in range(N):\n",
    "        s += g( a + i * dx )\n",
    "    return s * dx"
   ]
  },
  {
   "cell_type": "code",
   "execution_count": 5,
   "metadata": {
    "collapsed": false
   },
   "outputs": [
    {
     "name": "stdout",
     "output_type": "stream",
     "text": [
      "1000 loops, best of 3: 292 µs per loop\n"
     ]
    }
   ],
   "source": [
    "%timeit integrate_g(0, 1, 10000)"
   ]
  },
  {
   "cell_type": "markdown",
   "metadata": {},
   "source": [
    "Now let's integrate \n",
    "$$\n",
    "\\int_a^b{\\frac{\\sin{x}}{x}}\n",
    "$$\n",
    "\n",
    "Without Cython, we should use either `math.sin` or `numpy.sin`:"
   ]
  },
  {
   "cell_type": "code",
   "execution_count": 41,
   "metadata": {
    "collapsed": false
   },
   "outputs": [
    {
     "data": {
      "text/plain": [
       "0.65952330638545142"
      ]
     },
     "execution_count": 41,
     "metadata": {},
     "output_type": "execute_result"
    }
   ],
   "source": [
    "import numpy as np\n",
    "\n",
    "def f(x):\n",
    "    return np.sin(x) / x\n",
    "\n",
    "integrate_f(1, 2, 1000)"
   ]
  },
  {
   "cell_type": "markdown",
   "metadata": {},
   "source": [
    "With Cython, we can import some C functions using an `extern` block:"
   ]
  },
  {
   "cell_type": "code",
   "execution_count": 34,
   "metadata": {
    "collapsed": false
   },
   "outputs": [],
   "source": [
    "%%cython\n",
    "cdef extern from \"math.h\":\n",
    "    double sin(double)\n",
    "    double cos(double)\n",
    "    \n",
    "cdef double g(double x):\n",
    "    return sin(x)/x\n",
    "\n",
    "def integrate_g(double a , double  b , int N):\n",
    "    cdef double s = 0\n",
    "    cdef double dx = (b - a) /  N\n",
    "    cdef int i\n",
    "    for i in range(N):\n",
    "        s += g(a + i * dx)\n",
    "    return s * dx"
   ]
  },
  {
   "cell_type": "code",
   "execution_count": 36,
   "metadata": {
    "collapsed": false
   },
   "outputs": [
    {
     "name": "stdout",
     "output_type": "stream",
     "text": [
      "100000 loops, best of 3: 6.93 µs per loop\n",
      "10000 loops, best of 3: 55.3 µs per loop\n"
     ]
    }
   ],
   "source": [
    "%timeit integrate_f(1, 3, 1000)\n",
    "%timeit integrate_g(1, 3, 1000)"
   ]
  },
  {
   "cell_type": "markdown",
   "metadata": {
    "collapsed": true
   },
   "source": [
    "## Cython + NumPy\n",
    "\n",
    "Cython works well with NumPy.\n",
    "\n",
    "Let's loop over a NumPy array:"
   ]
  },
  {
   "cell_type": "code",
   "execution_count": 3,
   "metadata": {
    "collapsed": false
   },
   "outputs": [],
   "source": [
    "def summ(x):\n",
    "    s = 0\n",
    "    for i in range(x.shape[0]):\n",
    "        s += x[i]\n",
    "    return s"
   ]
  },
  {
   "cell_type": "code",
   "execution_count": 4,
   "metadata": {
    "collapsed": true
   },
   "outputs": [],
   "source": [
    "%%cython\n",
    "cimport numpy as np\n",
    "\n",
    "def csumm(x):\n",
    "    cdef np.ndarray[long, ndim=1] arr = x\n",
    "    cdef int i = 0\n",
    "    cdef long s = 0\n",
    "    for i in range(arr.shape[0]):\n",
    "        s += arr[i]\n",
    "    return s"
   ]
  },
  {
   "cell_type": "code",
   "execution_count": 7,
   "metadata": {
    "collapsed": false,
    "scrolled": true
   },
   "outputs": [
    {
     "name": "stdout",
     "output_type": "stream",
     "text": [
      "10 loops, best of 3: 24 ms per loop\n",
      "10000 loops, best of 3: 138 µs per loop\n"
     ]
    }
   ],
   "source": [
    "x = np.random.randint(0, 9, 100000)\n",
    "%timeit summ(x)\n",
    "%timeit csumm(x)"
   ]
  },
  {
   "cell_type": "markdown",
   "metadata": {
    "collapsed": true
   },
   "source": [
    "Note that if you would type `s` and `arr` as made of `int` you would get an error because Python's `int` is a C `long`... But you would get a `ValueError`, not a segmentation fault or anything like that. Here's an example:"
   ]
  },
  {
   "cell_type": "code",
   "execution_count": 8,
   "metadata": {
    "collapsed": false
   },
   "outputs": [
    {
     "ename": "ValueError",
     "evalue": "Buffer dtype mismatch, expected 'long' but got 'double'",
     "output_type": "error",
     "traceback": [
      "\u001b[0;31m---------------------------------------------------------------------------\u001b[0m",
      "\u001b[0;31mValueError\u001b[0m                                Traceback (most recent call last)",
      "\u001b[0;32m<ipython-input-8-2a544ca42eee>\u001b[0m in \u001b[0;36m<module>\u001b[0;34m()\u001b[0m\n\u001b[1;32m      1\u001b[0m \u001b[0my\u001b[0m \u001b[0;34m=\u001b[0m \u001b[0mnp\u001b[0m\u001b[0;34m.\u001b[0m\u001b[0marray\u001b[0m\u001b[0;34m(\u001b[0m\u001b[0;34m[\u001b[0m\u001b[0;36m0.1\u001b[0m\u001b[0;34m,\u001b[0m \u001b[0;36m0.2\u001b[0m\u001b[0;34m,\u001b[0m \u001b[0;36m0.3\u001b[0m\u001b[0;34m]\u001b[0m\u001b[0;34m)\u001b[0m\u001b[0;34m\u001b[0m\u001b[0m\n\u001b[0;32m----> 2\u001b[0;31m \u001b[0mcsumm\u001b[0m\u001b[0;34m(\u001b[0m\u001b[0my\u001b[0m\u001b[0;34m)\u001b[0m\u001b[0;34m\u001b[0m\u001b[0m\n\u001b[0m",
      "\u001b[0;32m_cython_magic_0e37cd7e42d8aa5a6446fb9df3a5b5f3.pyx\u001b[0m in \u001b[0;36m_cython_magic_0e37cd7e42d8aa5a6446fb9df3a5b5f3.csumm (/Users/yoavram/.ipython/cython/_cython_magic_0e37cd7e42d8aa5a6446fb9df3a5b5f3.c:1303)\u001b[0;34m()\u001b[0m\n",
      "\u001b[0;31mValueError\u001b[0m: Buffer dtype mismatch, expected 'long' but got 'double'"
     ]
    }
   ],
   "source": [
    "y = np.array([0.1, 0.2, 0.3])\n",
    "csumm(y)"
   ]
  },
  {
   "cell_type": "markdown",
   "metadata": {},
   "source": [
    "# Example: Mandelbrot fractal"
   ]
  },
  {
   "cell_type": "code",
   "execution_count": 9,
   "metadata": {
    "collapsed": true
   },
   "outputs": [],
   "source": [
    "import numpy as np\n",
    "\n",
    "def mandelbrot(m, size, iterations):    \n",
    "    for i in range(size):\n",
    "        for j in range(size):\n",
    "            c = -2 + 3.0 / size * j + 1j * (1.5 - 3.0 / size * i)\n",
    "            z = 0\n",
    "            for n in range(iterations):\n",
    "                if np.abs(z) <= 10:\n",
    "                    z = z * z + c\n",
    "                    m[i, j] = n\n",
    "                else:\n",
    "                    break"
   ]
  },
  {
   "cell_type": "code",
   "execution_count": 10,
   "metadata": {
    "collapsed": false
   },
   "outputs": [],
   "source": [
    "%%cython\n",
    "cimport numpy as np\n",
    "\n",
    "def cmandelbrot(int[:,::1] m,\n",
    "                int size,\n",
    "                int iterations):\n",
    "    cdef int i, j, n\n",
    "    cdef complex z, c\n",
    "    for i in range(size):\n",
    "        for j in range(size):\n",
    "            c = -2 + 3.0 / size * j + 1j * (1.5 - 3.0 / size * i)\n",
    "            z = 0\n",
    "            for n in range(iterations):\n",
    "                if z.real**2 + z.imag**2 <= 100:\n",
    "                    z = z * z + c\n",
    "                    m[i, j] = n\n",
    "                else:\n",
    "                    break"
   ]
  },
  {
   "cell_type": "code",
   "execution_count": 11,
   "metadata": {
    "collapsed": false
   },
   "outputs": [],
   "source": [
    "size = 200\n",
    "iterations = 100\n",
    "m = np.zeros((size, size), dtype=np.int32)"
   ]
  },
  {
   "cell_type": "code",
   "execution_count": 117,
   "metadata": {
    "collapsed": false
   },
   "outputs": [
    {
     "name": "stdout",
     "output_type": "stream",
     "text": [
      "1 loop, best of 1: 11.6 s per loop\n",
      "1 loop, best of 1: 9.29 ms per loop\n"
     ]
    }
   ],
   "source": [
    "%timeit -n 1 -r 1 mandelbrot(m, size, iterations)\n",
    "%timeit -n 1 -r 1 cmandelbrot(m, size, iterations)"
   ]
  },
  {
   "cell_type": "code",
   "execution_count": 12,
   "metadata": {
    "collapsed": true
   },
   "outputs": [],
   "source": [
    "%matplotlib inline\n",
    "import matplotlib.pyplot as plt"
   ]
  },
  {
   "cell_type": "code",
   "execution_count": 118,
   "metadata": {
    "collapsed": false
   },
   "outputs": [
    {
     "data": {
      "image/png": "[encoded data removed]",
      "text/plain": [
       "<matplotlib.figure.Figure at 0x7f4f50056550>"
      ]
     },
     "metadata": {},
     "output_type": "display_data"
    }
   ],
   "source": [
    "fig, ax = plt.subplots(figsize=(6, 6))\n",
    "ax.imshow(m, cmap='viridis')\n",
    "ax.set(xticks=[], yticks=[]);"
   ]
  },
  {
   "cell_type": "markdown",
   "metadata": {},
   "source": [
    "# Numba"
   ]
  },
  {
   "cell_type": "code",
   "execution_count": 16,
   "metadata": {
    "collapsed": false
   },
   "outputs": [
    {
     "name": "stdout",
     "output_type": "stream",
     "text": [
      "Numba 0.26.0\n"
     ]
    }
   ],
   "source": [
    "import numba\n",
    "print(\"Numba\", numba.__version__)"
   ]
  },
  {
   "cell_type": "code",
   "execution_count": 21,
   "metadata": {
    "collapsed": true
   },
   "outputs": [],
   "source": [
    "import numpy as np\n",
    "\n",
    "@numba.jit()\n",
    "def numandelbrot(m, size, iterations):    \n",
    "    for i in range(size):\n",
    "        for j in range(size):\n",
    "            c = -2 + 3.0 / size * j + 1j * (1.5 - 3.0 / size * i)\n",
    "            z = 0\n",
    "            for n in range(iterations):\n",
    "                if np.abs(z) <= 10:\n",
    "                    z = z * z + c\n",
    "                    m[i, j] = n\n",
    "                else:\n",
    "                    break"
   ]
  },
  {
   "cell_type": "code",
   "execution_count": 22,
   "metadata": {
    "collapsed": false
   },
   "outputs": [
    {
     "name": "stdout",
     "output_type": "stream",
     "text": [
      "1 loop, best of 3: 2.29 s per loop\n",
      "100 loops, best of 3: 4.05 ms per loop\n",
      "The slowest run took 31.09 times longer than the fastest. This could mean that an intermediate result is being cached.\n",
      "1 loop, best of 3: 7.6 ms per loop\n"
     ]
    }
   ],
   "source": [
    "%timeit -n 1 -r 3 mandelbrot(m, size, iterations)\n",
    "%timeit cmandelbrot(m, size, iterations)\n",
    "%timeit numandelbrot(m, size, iterations)"
   ]
  },
  {
   "cell_type": "markdown",
   "metadata": {},
   "source": [
    "# Exercise\n",
    "\n",
    "In the [image processing session](image-processing.ipynb) we had an exercise to write a dilation filter using SciPy's `generic_filter` function.\n",
    "\n",
    "The idea was to pass `genetic_filter` a max function so that it will become a dilation filter, using either `generic_filter(denoised, max, size=(k, k))` or `generic_filter(denoised, np.max, size=(k, k))`. A naive guess might be that the NumPy version is faster, as it uses NumPy's `max` rather than the pure-Python version."
   ]
  },
  {
   "cell_type": "code",
   "execution_count": null,
   "metadata": {
    "collapsed": true
   },
   "outputs": [],
   "source": [
    "%matplotlib inline\n",
    "import matplotlib.pyplot as plt\n",
    "import numpy as np\n",
    "from scipy.ndimage import generic_filter\n",
    "\n",
    "def display_image(image):\n",
    "    plt.imshow(image, cmap='gray')\n",
    "    plt.xticks([])\n",
    "    plt.yticks([])"
   ]
  },
  {
   "cell_type": "code",
   "execution_count": 6,
   "metadata": {
    "collapsed": false
   },
   "outputs": [
    {
     "data": {
      "image/png": "[encoded data removed]",
      "text/plain": [
       "<matplotlib.figure.Figure at 0x7fa9835e0be0>"
      ]
     },
     "metadata": {},
     "output_type": "display_data"
    }
   ],
   "source": [
    "import skimage.data\n",
    "horse = skimage.data.horse()[:,:,0]\n",
    "display_image(horse)"
   ]
  },
  {
   "cell_type": "code",
   "execution_count": 63,
   "metadata": {
    "collapsed": false
   },
   "outputs": [
    {
     "data": {
      "image/png": "[encoded data removed]",
      "text/plain": [
       "<matplotlib.figure.Figure at 0x7fd2f8b4e198>"
      ]
     },
     "metadata": {},
     "output_type": "display_data"
    }
   ],
   "source": [
    "dilated = generic_filter(horse, max, size=(10, 10))\n",
    "display_image(dilated)"
   ]
  },
  {
   "cell_type": "code",
   "execution_count": 64,
   "metadata": {
    "collapsed": false
   },
   "outputs": [
    {
     "name": "stdout",
     "output_type": "stream",
     "text": [
      "1 loop, best of 3: 4.99 s per loop\n"
     ]
    }
   ],
   "source": [
    "%timeit generic_filter(horse, max, size=(10, 10))"
   ]
  },
  {
   "cell_type": "markdown",
   "metadata": {},
   "source": [
    "However, NumPy's `max` (and many other functions) are optimized for big arrays and include type and bounds checking. So the regular Python `max` is faster, and we can do even better by implementing max with Cython.\n",
    "\n",
    "Implement a `cmax` function using Cython and give it to `genetic_filter` to gain a 4-fold speed advantage of ver NumPy. The solution is in [cython_max.pyx](../solutions/cython_max.pyx)."
   ]
  },
  {
   "cell_type": "code",
   "execution_count": 9,
   "metadata": {
    "collapsed": false
   },
   "outputs": [],
   "source": [
    "%%cython\n"
   ]
  },
  {
   "cell_type": "code",
   "execution_count": 72,
   "metadata": {
    "collapsed": false
   },
   "outputs": [
    {
     "data": {
      "image/png": "[encoded data removed]",
      "text/plain": [
       "<matplotlib.figure.Figure at 0x7fd2e810c978>"
      ]
     },
     "metadata": {},
     "output_type": "display_data"
    }
   ],
   "source": [
    "display_image(generic_filter(horse, cmax, size=(10, 10), extra_arguments=(9,)))"
   ]
  },
  {
   "cell_type": "code",
   "execution_count": 74,
   "metadata": {
    "collapsed": false,
    "scrolled": true
   },
   "outputs": [
    {
     "name": "stdout",
     "output_type": "stream",
     "text": [
      "1 loop, best of 3: 808 ms per loop\n",
      "1 loop, best of 3: 1.79 s per loop\n",
      "1 loop, best of 3: 495 ms per loop\n"
     ]
    }
   ],
   "source": [
    "%timeit generic_filter(horse, max, size=(3, 3))\n",
    "%timeit generic_filter(horse, np.max, size=(3, 3))\n",
    "%timeit generic_filter(horse, cmax, size=(3, 3), extra_arguments=(9,))"
   ]
  },
  {
   "cell_type": "markdown",
   "metadata": {},
   "source": [
    "# Bounds checking\n",
    "\n",
    "We can also ask Cython to avoid checking bounds when accessing arrays and lists."
   ]
  },
  {
   "cell_type": "code",
   "execution_count": 31,
   "metadata": {
    "collapsed": true
   },
   "outputs": [],
   "source": [
    "import scipy.misc\n",
    "scipy.misc.imread?"
   ]
  },
  {
   "cell_type": "code",
   "execution_count": 10,
   "metadata": {
    "collapsed": false
   },
   "outputs": [
    {
     "data": {
      "image/png": "[encoded data removed]",
      "text/plain": [
       "<matplotlib.figure.Figure at 0x7fa9835e03c8>"
      ]
     },
     "metadata": {},
     "output_type": "display_data"
    }
   ],
   "source": [
    "from scipy.misc import imread\n",
    "# original image from https://upload.wikimedia.org/wikipedia/commons/5/56/Kobe_Bryant_2014.jpg\n",
    "image = imread('../data/Kobe_Bryant_2014.jpg', flatten=True).astype(float) # greyscale\n",
    "display_image(image)"
   ]
  },
  {
   "cell_type": "code",
   "execution_count": 36,
   "metadata": {
    "collapsed": true
   },
   "outputs": [],
   "source": [
    "def segment_np(image, threshold):\n",
    "    output = np.zeros_like(image)\n",
    "    output[image > threshold] = 255\n",
    "    return output"
   ]
  },
  {
   "cell_type": "code",
   "execution_count": 37,
   "metadata": {
    "collapsed": false
   },
   "outputs": [
    {
     "data": {
      "image/png": "[encoded data removed]",
      "text/plain": [
       "<matplotlib.figure.Figure at 0x7f6ab186a630>"
      ]
     },
     "metadata": {},
     "output_type": "display_data"
    }
   ],
   "source": [
    "display_image(segment_np(image, 100))"
   ]
  },
  {
   "cell_type": "code",
   "execution_count": 47,
   "metadata": {
    "collapsed": false
   },
   "outputs": [],
   "source": [
    "%%cython\n",
    "import numpy as np\n",
    "\n",
    "cdef void _segment(double[:,:] image, int n, int m, double threshold, double[:,:] output):\n",
    "    cdef int i, j\n",
    "    for i in range(n):\n",
    "        for j in range(m):\n",
    "            if image[i, j] > threshold:\n",
    "                output[i, j] = 255\n",
    "            else:\n",
    "                output[i, j] = 0\n",
    "\n",
    "def segment_cy(image, threshold):\n",
    "    output = np.zeros_like(image)\n",
    "    n, m = image.shape\n",
    "    _segment(image, n , m, threshold, output)\n",
    "    return output"
   ]
  },
  {
   "cell_type": "code",
   "execution_count": 48,
   "metadata": {
    "collapsed": false
   },
   "outputs": [
    {
     "data": {
      "image/png": "[encoded data removed]",
      "text/plain": [
       "<matplotlib.figure.Figure at 0x7f6ab1854d68>"
      ]
     },
     "metadata": {},
     "output_type": "display_data"
    }
   ],
   "source": [
    "display_image(segment_cy(image, 100))"
   ]
  },
  {
   "cell_type": "code",
   "execution_count": 26,
   "metadata": {
    "collapsed": false
   },
   "outputs": [
    {
     "name": "stdout",
     "output_type": "stream",
     "text": [
      "1 loop, best of 3: 3.84 ms per loop\n",
      "The slowest run took 5.27 times longer than the fastest. This could mean that an intermediate result is being cached.\n",
      "1 loop, best of 3: 3.14 ms per loop\n"
     ]
    }
   ],
   "source": [
    "%timeit -n 1 segment_np(image, 100)\n",
    "%timeit -n 1 segment_cy(image, 100)"
   ]
  },
  {
   "cell_type": "code",
   "execution_count": 15,
   "metadata": {
    "collapsed": true
   },
   "outputs": [],
   "source": [
    "%%cython\n",
    "import numpy as np\n",
    "cimport cython\n",
    "\n",
    "@cython.boundscheck(False)\n",
    "cdef void _segment2(double[:,:] image, unsigned int n, unsigned int m, double threshold, double[:,:] output):\n",
    "    cdef unsigned int i, j\n",
    "    for i in range(n):\n",
    "        for j in range(m):\n",
    "            if image[i, j] > threshold:\n",
    "                output[i, j] = 255\n",
    "            else:\n",
    "                output[i, j] = 0\n",
    "\n",
    "def segment_cy2(image, threshold):\n",
    "    output = np.zeros_like(image)\n",
    "    n, m = image.shape\n",
    "    _segment2(image, n , m, threshold, output)\n",
    "    return output"
   ]
  },
  {
   "cell_type": "code",
   "execution_count": 52,
   "metadata": {
    "collapsed": false
   },
   "outputs": [
    {
     "data": {
      "image/png": "[encoded data removed]",
      "text/plain": [
       "<matplotlib.figure.Figure at 0x7f6ab1a7acf8>"
      ]
     },
     "metadata": {},
     "output_type": "display_data"
    }
   ],
   "source": [
    "display_image(segment_cy2(image, 100))"
   ]
  },
  {
   "cell_type": "code",
   "execution_count": 55,
   "metadata": {
    "collapsed": false
   },
   "outputs": [
    {
     "name": "stdout",
     "output_type": "stream",
     "text": [
      "100 loops, best of 3: 12.1 ms per loop\n",
      "100 loops, best of 3: 6.01 ms per loop\n",
      "100 loops, best of 3: 5.47 ms per loop\n"
     ]
    }
   ],
   "source": [
    "%timeit segment_np(image, 100)\n",
    "%timeit segment_cy(image, 100)\n",
    "%timeit segment_cy2(image, 100)"
   ]
  },
  {
   "cell_type": "markdown",
   "metadata": {},
   "source": [
    "You can explore other [compiler directives](https://github.com/cython/cython/wiki/enhancements-compilerdirectives) such as `wraparound` and `nonecheck`."
   ]
  },
  {
   "cell_type": "markdown",
   "metadata": {},
   "source": [
    "# Releasing the GIL\n",
    "\n",
    "Cython can be directed to [release the GIL](http://docs.cython.org/src/userguide/external_C_code.html#acquiring-and-releasing-the-gil), thus enabling multiple threads to run in parallel (if the OS allows it) and achieve performence gain even in comparison to multi-processing, as threads are cheaper than processes and thread communication is faster than process communication."
   ]
  },
  {
   "cell_type": "code",
   "execution_count": 2,
   "metadata": {
    "collapsed": false
   },
   "outputs": [
    {
     "data": {
      "text/plain": [
       "4"
      ]
     },
     "execution_count": 2,
     "metadata": {},
     "output_type": "execute_result"
    }
   ],
   "source": [
    "import multiprocessing\n",
    "multiprocessing.cpu_count()"
   ]
  },
  {
   "cell_type": "markdown",
   "metadata": {},
   "source": [
    "Of course, this would just slow things down if the CPU count above is 1."
   ]
  },
  {
   "cell_type": "code",
   "execution_count": 3,
   "metadata": {
    "collapsed": false,
    "scrolled": true
   },
   "outputs": [],
   "source": [
    "%%cython\n",
    "import numpy as np\n",
    "cimport cython\n",
    "\n",
    "@cython.boundscheck(False)\n",
    "cdef void _segment3(double[:,:] image, unsigned int n, unsigned int m, double threshold, double[:,:] output) nogil:\n",
    "    cdef unsigned int i, j\n",
    "    for i in range(n):\n",
    "        for j in range(m):\n",
    "            if image[i, j] > threshold:\n",
    "                output[i, j] = 255\n",
    "            else:\n",
    "                output[i, j] = 0\n",
    "                \n",
    "def _segment_cy3(image, threshold):\n",
    "    output = np.zeros_like(image)\n",
    "    n, m = image.shape\n",
    "    _segment3(image, n , m, threshold, output)\n",
    "    return output"
   ]
  },
  {
   "cell_type": "code",
   "execution_count": 16,
   "metadata": {
    "collapsed": false
   },
   "outputs": [
    {
     "name": "stdout",
     "output_type": "stream",
     "text": [
      "CPUs: 4\n"
     ]
    }
   ],
   "source": [
    "from concurrent.futures import ThreadPoolExecutor\n",
    "from multiprocessing import cpu_count\n",
    "print(\"CPUs:\", cpu_count())\n",
    "\n",
    "# TODO create one output and divide work instead of getting four outputs and concanting\n",
    "\n",
    "def segment_cy3(image, threshold, cores=cpu_count()):\n",
    "    n, m = image.shape\n",
    "    ns = np.linspace(0, n, cores + 1, dtype=int)\n",
    "    futures = []\n",
    "    with ThreadPoolExecutor(cores) as executor:\n",
    "        for start_n, stop_n in zip(ns[:-1], ns[1:]):\n",
    "            futures.append(executor.submit(_segment_cy3, image[start_n:stop_n], threshold))\n",
    "    outputs = [f.result() for f in futures]\n",
    "    return np.concatenate(outputs, axis=0)"
   ]
  },
  {
   "cell_type": "code",
   "execution_count": 14,
   "metadata": {
    "collapsed": false
   },
   "outputs": [
    {
     "data": {
      "image/png": "[encoded data removed]",
      "text/plain": [
       "<matplotlib.figure.Figure at 0x7fa9835e0128>"
      ]
     },
     "metadata": {},
     "output_type": "display_data"
    }
   ],
   "source": [
    "display_image(segment_cy3(image, 100))"
   ]
  },
  {
   "cell_type": "code",
   "execution_count": 17,
   "metadata": {
    "collapsed": false
   },
   "outputs": [
    {
     "name": "stdout",
     "output_type": "stream",
     "text": [
      "100 loops, best of 3: 3.71 ms per loop\n",
      "100 loops, best of 3: 9.12 ms per loop\n"
     ]
    }
   ],
   "source": [
    "%timeit segment_cy2(image, 100)\n",
    "%timeit segment_cy3(image, 100)"
   ]
  },
  {
   "cell_type": "markdown",
   "metadata": {},
   "source": [
    "# References\n",
    "\n",
    "- [Cython language basics](http://docs.cython.org/src/userguide/language_basics.html#language-basics)\n",
    "- [Cython for NumPy users](http://docs.cython.org/src/userguide/numpy_tutorial.html#numpy-tutorial) offers a 2D convolve example.\n",
    "- [IPython Cookbook](https://ipython-books.github.io/cookbook/) by Cyrille Rossant has a full chapter on high performance computing. with many [notebook examples](https://github.com/ipython-books/cookbook-code/tree/master/notebooks/chapter05_hpc) and a more complicated Cython example.\n",
    "- [Numba](http://numba.pydata.org/)\n",
    "- [Numexpr](https://github.com/pydata/numexpr/wiki/Numexpr-Users-Guide)\n",
    "- [Blaze Ecosystem](http://blaze.pydata.org/)\n",
    "- Jake Vanderplas's [Cython project template](https://github.com/jakevdp/cython_template) can help you build projects that use Cython."
   ]
  },
  {
   "cell_type": "markdown",
   "metadata": {},
   "source": [
    "## Colophon\n",
    "This notebook was written by [Yoav Ram](http://python.yoavram.com) and is part of the [_Python for Engineers_](https://github.com/yoavram/Py4Eng) course.\n",
    "\n",
    "The notebook was written using [Python](http://python.org/) 3.6.0, [IPython](http://ipython.org/) 5.2.2, [Jupyter](http://jupyter.org) 4.3.0.\n",
    "\n",
    "This work is licensed under a CC BY-NC-SA 4.0 International License.\n",
    "\n",
    "![Python logo](https://www.python.org/static/community_logos/python-logo.png)"
   ]
  }
 ],
 "metadata": {
  "kernelspec": {
   "display_name": "Python [conda env:Py4Eng]",
   "language": "python",
   "name": "conda-env-Py4Eng-py"
  },
  "language_info": {
   "codemirror_mode": {
    "name": "ipython",
    "version": 3
   },
   "file_extension": ".py",
   "mimetype": "text/x-python",
   "name": "python",
   "nbconvert_exporter": "python",
   "pygments_lexer": "ipython3",
   "version": "3.6.0"
  }
 },
 "nbformat": 4,
 "nbformat_minor": 0
}
