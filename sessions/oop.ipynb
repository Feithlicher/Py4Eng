{
 "cells": [
  {
   "cell_type": "markdown",
   "metadata": {},
   "source": [
    "\n",
    "![Py4Eng](img/logo.png)\n",
    "\n",
    "# Object Oriented Programming\n",
    "## Yoav Ram"
   ]
  },
  {
   "cell_type": "markdown",
   "metadata": {},
   "source": [
    "# Introduction to OOP\n",
    "\n",
    "\n",
    "*Everything in Python is an object* so everything in Python has a class. \n",
    "You can find out which class an object belongs to by using the default property `__class__` or giving it to the function `type`. Even the return of the `type` function has a class - it's of class `type`!"
   ]
  },
  {
   "cell_type": "code",
   "execution_count": 2,
   "metadata": {
    "collapsed": false
   },
   "outputs": [
    {
     "data": {
      "text/plain": [
       "int"
      ]
     },
     "execution_count": 2,
     "metadata": {},
     "output_type": "execute_result"
    }
   ],
   "source": [
    "type(5)"
   ]
  },
  {
   "cell_type": "code",
   "execution_count": 3,
   "metadata": {
    "collapsed": false
   },
   "outputs": [
    {
     "name": "stdout",
     "output_type": "stream",
     "text": [
      "<class 'str'>\n",
      "<class 'type'>\n"
     ]
    }
   ],
   "source": [
    "a = 'Hi'\n",
    "print(a.__class__)\n",
    "print(type(a.__class__))"
   ]
  },
  {
   "cell_type": "markdown",
   "metadata": {},
   "source": [
    "The basic object type is `object`:"
   ]
  },
  {
   "cell_type": "code",
   "execution_count": 3,
   "metadata": {
    "collapsed": false
   },
   "outputs": [
    {
     "name": "stdout",
     "output_type": "stream",
     "text": [
      "<class 'object'>\n",
      "<class 'type'>\n"
     ]
    }
   ],
   "source": [
    "print(object)\n",
    "print(type(object))"
   ]
  },
  {
   "cell_type": "markdown",
   "metadata": {},
   "source": [
    "Every class implicitly inherits from `object`, so all classes have some default attributes:"
   ]
  },
  {
   "cell_type": "code",
   "execution_count": 14,
   "metadata": {
    "collapsed": false
   },
   "outputs": [
    {
     "name": "stdout",
     "output_type": "stream",
     "text": [
      "object's attributes:\n",
      " {'__delattr__', '__setattr__', '__gt__', '__reduce_ex__', '__reduce__', '__format__', '__hash__', '__le__', '__ge__', '__dir__', '__init__', '__class__', '__str__', '__repr__', '__sizeof__', '__lt__', '__ne__', '__doc__', '__new__', '__eq__', '__subclasshook__', '__getattribute__'}\n",
      "Attributes in object and in int:\n",
      " {'__delattr__', '__setattr__', '__gt__', '__reduce_ex__', '__reduce__', '__format__', '__hash__', '__le__', '__ge__', '__dir__', '__init__', '__class__', '__str__', '__repr__', '__sizeof__', '__lt__', '__ne__', '__doc__', '__new__', '__eq__', '__subclasshook__', '__getattribute__'}\n",
      "Attributes in object but not in int:\n",
      " set()\n"
     ]
    }
   ],
   "source": [
    "object_dir = set(dir(object))\n",
    "int_dir = set(dir(int))\n",
    "\n",
    "print(\"object's attributes:\\n\", object_dir)\n",
    "print(\"Attributes in object and in int:\\n\", object_dir & int_dir)\n",
    "print(\"Attributes in object but not in int:\\n\", object_dir - int_dir)"
   ]
  },
  {
   "cell_type": "markdown",
   "metadata": {},
   "source": [
    "## Class definition"
   ]
  },
  {
   "cell_type": "code",
   "execution_count": 4,
   "metadata": {
    "collapsed": true
   },
   "outputs": [],
   "source": [
    "class MyClass:\n",
    "    pass"
   ]
  },
  {
   "cell_type": "markdown",
   "metadata": {},
   "source": [
    "We defined a new class called `MyClass`.\n",
    "We can now create a new instance of our new class:"
   ]
  },
  {
   "cell_type": "code",
   "execution_count": 5,
   "metadata": {
    "collapsed": false
   },
   "outputs": [
    {
     "name": "stdout",
     "output_type": "stream",
     "text": [
      "73184928\n",
      "<class '__main__.MyClass'>\n",
      "73187168\n",
      "<class '__main__.MyClass'>\n"
     ]
    }
   ],
   "source": [
    "my_class1 = MyClass()\n",
    "my_class2 = MyClass()\n",
    "print(id(my_class1))\n",
    "print(type(my_class1))\n",
    "print(id(my_class2))\n",
    "print(type(my_class2))"
   ]
  },
  {
   "cell_type": "markdown",
   "metadata": {},
   "source": [
    "Note that both instances have the same type but a different `id`, so they are not the same object:"
   ]
  },
  {
   "cell_type": "code",
   "execution_count": 6,
   "metadata": {
    "collapsed": false
   },
   "outputs": [
    {
     "data": {
      "text/plain": [
       "False"
      ]
     },
     "execution_count": 6,
     "metadata": {},
     "output_type": "execute_result"
    }
   ],
   "source": [
    "my_class1 is my_class2"
   ]
  },
  {
   "cell_type": "markdown",
   "metadata": {},
   "source": [
    "We can check if an object is an instance of a class with the `isinstance` function:"
   ]
  },
  {
   "cell_type": "code",
   "execution_count": 7,
   "metadata": {
    "collapsed": false
   },
   "outputs": [
    {
     "name": "stdout",
     "output_type": "stream",
     "text": [
      "True\n",
      "True\n",
      "False\n"
     ]
    }
   ],
   "source": [
    "print(isinstance(my_class1, MyClass))\n",
    "print(isinstance(my_class1, object))\n",
    "print(isinstance(my_class1, int))"
   ]
  },
  {
   "cell_type": "markdown",
   "metadata": {},
   "source": [
    "Because all classes have a `__doc__` attribute inherited from `object`, \n",
    "you can pass any instance to `help`:"
   ]
  },
  {
   "cell_type": "code",
   "execution_count": 9,
   "metadata": {
    "collapsed": false
   },
   "outputs": [
    {
     "name": "stdout",
     "output_type": "stream",
     "text": [
      "Help on MyClass in module __main__ object:\n",
      "\n",
      "class MyClass(builtins.object)\n",
      " |  Data descriptors defined here:\n",
      " |  \n",
      " |  __dict__\n",
      " |      dictionary for instance variables (if defined)\n",
      " |  \n",
      " |  __weakref__\n",
      " |      list of weak references to the object (if defined)\n",
      "\n"
     ]
    }
   ],
   "source": [
    "help(my_class1) # uses the __doc__ attribute"
   ]
  },
  {
   "cell_type": "markdown",
   "metadata": {},
   "source": [
    "The same goes for `type` etc."
   ]
  },
  {
   "cell_type": "markdown",
   "metadata": {},
   "source": [
    "# `Point` class\n",
    "\n",
    "Let's learn more by writing a class for a point in a two dimensional Euclidian space ($\\mathbb{R}^2$).\n",
    "\n",
    "We start with the class definition (`class`) and the constructor (`__init__`) which initialized the attributes of the class instance.\n",
    "\n",
    "Note:\n",
    "\n",
    "* The first argument to methods (member functions) is always `self`, a reference to the instance.\n",
    "* We *assert* that the `__init__` arguments are real numbers using the `isinstance` function."
   ]
  },
  {
   "cell_type": "code",
   "execution_count": 16,
   "metadata": {
    "collapsed": false
   },
   "outputs": [],
   "source": [
    "class Point:\n",
    "    \"\"\"A point (x,y) in the Euclidian plane.\n",
    "    \"\"\"\n",
    "    \n",
    "    def __init__(self, x, y):        \n",
    "        # assert isinstance(x, (int, float)) and isinstance(y, (int, float))\n",
    "        self.x = float(x)\n",
    "        self.y = float(y)"
   ]
  },
  {
   "cell_type": "code",
   "execution_count": 17,
   "metadata": {
    "collapsed": false
   },
   "outputs": [
    {
     "name": "stdout",
     "output_type": "stream",
     "text": [
      "origin 0.0 0.0\n",
      "point 1.0 2.0\n"
     ]
    }
   ],
   "source": [
    "origin = Point(0, 0)\n",
    "print(\"origin\", origin.x, origin.y)\n",
    "\n",
    "p = Point(1, 2)\n",
    "print(\"point\", p.x, p.y)"
   ]
  },
  {
   "cell_type": "markdown",
   "metadata": {},
   "source": [
    "I left the `assert isinstance...` line in a comment because we don't need it - `float(x)` and `float(y)` will raise an exception, and the correct one (not `AssertionError`).\n",
    "\n",
    "Notice that when we send a `Point` to the console we get:"
   ]
  },
  {
   "cell_type": "code",
   "execution_count": 18,
   "metadata": {
    "collapsed": false
   },
   "outputs": [
    {
     "data": {
      "text/plain": [
       "<__main__.Point at 0x46ec0b8>"
      ]
     },
     "execution_count": 18,
     "metadata": {},
     "output_type": "execute_result"
    }
   ],
   "source": [
    "p"
   ]
  },
  {
   "cell_type": "markdown",
   "metadata": {},
   "source": [
    "Which is not useful, so we will define how `Point` is represented in the console by implementing `__repr__` and/or which must return a string:"
   ]
  },
  {
   "cell_type": "code",
   "execution_count": 36,
   "metadata": {
    "collapsed": false
   },
   "outputs": [],
   "source": [
    "class Point:\n",
    "    \"\"\"A point (x,y) in the Euclidian plane.\n",
    "    \"\"\"\n",
    "    \n",
    "    def __init__(self, x, y):        \n",
    "        self.x = float(x)\n",
    "        self.y = float(y)\n",
    "        \n",
    "    def __repr__(self):\n",
    "        # what a programmer wants to see, should work with eval\n",
    "        return \"{}({!r}, {!r})\".format(type(self).__name__, self.x, self.y)\n",
    "    \n",
    "    def __str__(self):\n",
    "        # what a user wants to see\n",
    "        return \"({!r}, {!r})\".format(self.x, self.y)"
   ]
  },
  {
   "cell_type": "code",
   "execution_count": 37,
   "metadata": {
    "collapsed": false
   },
   "outputs": [
    {
     "data": {
      "text/plain": [
       "Point(1.0, 2.0)"
      ]
     },
     "execution_count": 37,
     "metadata": {},
     "output_type": "execute_result"
    }
   ],
   "source": [
    "p=Point(1,2)\n",
    "p"
   ]
  },
  {
   "cell_type": "code",
   "execution_count": 38,
   "metadata": {
    "collapsed": false
   },
   "outputs": [
    {
     "name": "stdout",
     "output_type": "stream",
     "text": [
      "(1.0, 2.0)\n"
     ]
    }
   ],
   "source": [
    "print(p)"
   ]
  },
  {
   "cell_type": "markdown",
   "metadata": {},
   "source": [
    "It would also be nice to be able to do `x, y = p` rather than `x, y = p.x, p.y`. To do that, we implement the `__iter__` method, which should either return a generator or be a generator function:"
   ]
  },
  {
   "cell_type": "code",
   "execution_count": 45,
   "metadata": {
    "collapsed": true
   },
   "outputs": [],
   "source": [
    "class Point:\n",
    "    \"\"\"A point (x,y) in the Euclidian plane.\n",
    "    \"\"\"\n",
    "    \n",
    "    def __init__(self, x, y):        \n",
    "        self.x = float(x)\n",
    "        self.y = float(y)\n",
    "        \n",
    "    def __iter__(self):\n",
    "        #return (z for z in (self.x, self.y)) # this creates a tuple\n",
    "        yield self.x\n",
    "        yield self.y\n",
    "    \n",
    "    def __repr__(self):\n",
    "        # what a programmer wants to see, should work with eval\n",
    "        return \"{}({!r}, {!r})\".format(type(self).__name__, *self)"
   ]
  },
  {
   "cell_type": "code",
   "execution_count": 46,
   "metadata": {
    "collapsed": false
   },
   "outputs": [
    {
     "name": "stdout",
     "output_type": "stream",
     "text": [
      "1.5 5.6 Point(1.5, 5.6)\n"
     ]
    }
   ],
   "source": [
    "p = Point(1.5, 5.6)\n",
    "x, y = p\n",
    "print(x, y, p)"
   ]
  },
  {
   "cell_type": "markdown",
   "metadata": {},
   "source": [
    "Next up we define a method to add two points. Addition is by elements: $(x_1, y_1) + (x_2, y_2) = (x_1+x_2, y_1+y_2)$.\n",
    "\n",
    "We also allow to add an `int` or `float`, in which case we add the point to a another point with both coordinates equal to the argument value."
   ]
  },
  {
   "cell_type": "code",
   "execution_count": 52,
   "metadata": {
    "collapsed": false
   },
   "outputs": [],
   "source": [
    "class Point:\n",
    "    \"\"\"A point (x,y) in the Euclidian plane.\n",
    "    \"\"\"\n",
    "    \n",
    "    def __init__(self, x, y):        \n",
    "        self.x = float(x)\n",
    "        self.y = float(y)\n",
    "        \n",
    "    def __iter__(self):\n",
    "        yield self.x\n",
    "        yield self.y\n",
    "    \n",
    "    def __repr__(self):\n",
    "        return \"{}({!r}, {!r})\".format(type(self).__name__, *self)\n",
    "    \n",
    "    def add(self, other):\n",
    "        if isinstance(other, numbers.Real):\n",
    "            other = Point(other, other)\n",
    "        if isinstance(other, type(self)):\n",
    "            return Point(*(z1 + z2 for z1,z2 in zip(self, other)))\n",
    "        else:\n",
    "            raise TypeError(\n",
    "                \"unsupported operand type(s) for +: '{}' and '{}'\".format(\n",
    "                    type(self).__name__, type(other).__name__\n",
    "            ))"
   ]
  },
  {
   "cell_type": "code",
   "execution_count": 53,
   "metadata": {
    "collapsed": false
   },
   "outputs": [
    {
     "data": {
      "text/plain": [
       "Point(3.0, 3.0)"
      ]
     },
     "execution_count": 53,
     "metadata": {},
     "output_type": "execute_result"
    }
   ],
   "source": [
    "Point(1,1).add(Point(2,2))"
   ]
  },
  {
   "cell_type": "code",
   "execution_count": 54,
   "metadata": {
    "collapsed": false
   },
   "outputs": [
    {
     "data": {
      "text/plain": [
       "Point(3.0, 3.0)"
      ]
     },
     "execution_count": 54,
     "metadata": {},
     "output_type": "execute_result"
    }
   ],
   "source": [
    "Point(1,1).add(2)"
   ]
  },
  {
   "cell_type": "code",
   "execution_count": 55,
   "metadata": {
    "collapsed": false
   },
   "outputs": [
    {
     "ename": "TypeError",
     "evalue": "unsupported operand type(s) for +: 'Point' and 'str'",
     "output_type": "error",
     "traceback": [
      "\u001b[1;31m---------------------------------------------------------------------------\u001b[0m",
      "\u001b[1;31mTypeError\u001b[0m                                 Traceback (most recent call last)",
      "\u001b[1;32m<ipython-input-55-0dba49a230b3>\u001b[0m in \u001b[0;36m<module>\u001b[1;34m()\u001b[0m\n\u001b[1;32m----> 1\u001b[1;33m \u001b[0mPoint\u001b[0m\u001b[1;33m(\u001b[0m\u001b[1;36m1\u001b[0m\u001b[1;33m,\u001b[0m\u001b[1;36m1\u001b[0m\u001b[1;33m)\u001b[0m\u001b[1;33m.\u001b[0m\u001b[0madd\u001b[0m\u001b[1;33m(\u001b[0m\u001b[1;34m'2'\u001b[0m\u001b[1;33m)\u001b[0m\u001b[1;33m\u001b[0m\u001b[0m\n\u001b[0m",
      "\u001b[1;32m<ipython-input-52-5202000220db>\u001b[0m in \u001b[0;36madd\u001b[1;34m(self, other)\u001b[0m\n\u001b[0;32m     22\u001b[0m             raise TypeError(\n\u001b[0;32m     23\u001b[0m                 \"unsupported operand type(s) for +: '{}' and '{}'\".format(\n\u001b[1;32m---> 24\u001b[1;33m                     \u001b[0mtype\u001b[0m\u001b[1;33m(\u001b[0m\u001b[0mself\u001b[0m\u001b[1;33m)\u001b[0m\u001b[1;33m.\u001b[0m\u001b[0m__name__\u001b[0m\u001b[1;33m,\u001b[0m \u001b[0mtype\u001b[0m\u001b[1;33m(\u001b[0m\u001b[0mother\u001b[0m\u001b[1;33m)\u001b[0m\u001b[1;33m.\u001b[0m\u001b[0m__name__\u001b[0m\u001b[1;33m\u001b[0m\u001b[0m\n\u001b[0m\u001b[0;32m     25\u001b[0m             ))\n",
      "\u001b[1;31mTypeError\u001b[0m: unsupported operand type(s) for +: 'Point' and 'str'"
     ]
    }
   ],
   "source": [
    "Point(1,1).add('2')"
   ]
  },
  {
   "cell_type": "markdown",
   "metadata": {},
   "source": [
    "A nicer way to implement addition is to **overload** the addition operator `+` by implementing `__add__`, which is a name Python reserves for addition operations (those are double underscores). In that case, we don't need to raise the `TypeError` exception but rather just return the `NotImplemented` constant and Python will take care of the error (after checking if the right hand object knows how to do right-add using `__radd__`):"
   ]
  },
  {
   "cell_type": "code",
   "execution_count": 56,
   "metadata": {
    "collapsed": false
   },
   "outputs": [],
   "source": [
    "class Point:\n",
    "    \"\"\"A point (x,y) in the Euclidian plane.\n",
    "    \"\"\"\n",
    "    \n",
    "    def __init__(self, x, y):        \n",
    "        self.x = float(x)\n",
    "        self.y = float(y)\n",
    "        \n",
    "    def __iter__(self):\n",
    "        yield self.x\n",
    "        yield self.y\n",
    "    \n",
    "    def __repr__(self):\n",
    "        return \"{}({!r}, {!r})\".format(type(self).__name__, *self)\n",
    "    \n",
    "    def __add__(self, other):\n",
    "        if isinstance(other, numbers.Real):\n",
    "            other = Point(other, other)\n",
    "        if isinstance(other, type(self)):\n",
    "            return Point(*(z1 + z2 for z1,z2 in zip(self, other)))\n",
    "        return NotImplemented"
   ]
  },
  {
   "cell_type": "code",
   "execution_count": 57,
   "metadata": {
    "collapsed": false
   },
   "outputs": [
    {
     "data": {
      "text/plain": [
       "Point(3.0, 3.0)"
      ]
     },
     "execution_count": 57,
     "metadata": {},
     "output_type": "execute_result"
    }
   ],
   "source": [
    "Point(1,1) + Point(2,2)"
   ]
  },
  {
   "cell_type": "code",
   "execution_count": 58,
   "metadata": {
    "collapsed": false
   },
   "outputs": [
    {
     "data": {
      "text/plain": [
       "Point(3.0, 3.0)"
      ]
     },
     "execution_count": 58,
     "metadata": {},
     "output_type": "execute_result"
    }
   ],
   "source": [
    "Point(1,1) + 2"
   ]
  },
  {
   "cell_type": "code",
   "execution_count": 59,
   "metadata": {
    "collapsed": false
   },
   "outputs": [
    {
     "ename": "TypeError",
     "evalue": "unsupported operand type(s) for +: 'Point' and 'str'",
     "output_type": "error",
     "traceback": [
      "\u001b[1;31m---------------------------------------------------------------------------\u001b[0m",
      "\u001b[1;31mTypeError\u001b[0m                                 Traceback (most recent call last)",
      "\u001b[1;32m<ipython-input-59-07ce578febf3>\u001b[0m in \u001b[0;36m<module>\u001b[1;34m()\u001b[0m\n\u001b[1;32m----> 1\u001b[1;33m \u001b[0mPoint\u001b[0m\u001b[1;33m(\u001b[0m\u001b[1;36m1\u001b[0m\u001b[1;33m,\u001b[0m \u001b[1;36m1\u001b[0m\u001b[1;33m)\u001b[0m \u001b[1;33m+\u001b[0m \u001b[1;34m'2'\u001b[0m\u001b[1;33m\u001b[0m\u001b[0m\n\u001b[0m",
      "\u001b[1;31mTypeError\u001b[0m: unsupported operand type(s) for +: 'Point' and 'str'"
     ]
    }
   ],
   "source": [
    "Point(1, 1) + '2'"
   ]
  },
  {
   "cell_type": "markdown",
   "metadata": {},
   "source": [
    "We want to be a able to compare `Point`s:"
   ]
  },
  {
   "cell_type": "code",
   "execution_count": 55,
   "metadata": {
    "collapsed": false
   },
   "outputs": [
    {
     "data": {
      "text/plain": [
       "False"
      ]
     },
     "execution_count": 55,
     "metadata": {},
     "output_type": "execute_result"
    }
   ],
   "source": [
    "Point(1,2) == Point(2,1)"
   ]
  },
  {
   "cell_type": "code",
   "execution_count": 56,
   "metadata": {
    "collapsed": false
   },
   "outputs": [
    {
     "data": {
      "text/plain": [
       "False"
      ]
     },
     "execution_count": 56,
     "metadata": {},
     "output_type": "execute_result"
    }
   ],
   "source": [
    "Point(1,2) == Point(1,2)"
   ]
  },
  {
   "cell_type": "code",
   "execution_count": 57,
   "metadata": {
    "collapsed": false
   },
   "outputs": [
    {
     "data": {
      "text/plain": [
       "True"
      ]
     },
     "execution_count": 57,
     "metadata": {},
     "output_type": "execute_result"
    }
   ],
   "source": [
    "p = Point(0, 0)\n",
    "p == p"
   ]
  },
  {
   "cell_type": "code",
   "execution_count": 58,
   "metadata": {
    "collapsed": false
   },
   "outputs": [
    {
     "ename": "TypeError",
     "evalue": "unorderable types: Point() > Point()",
     "output_type": "error",
     "traceback": [
      "\u001b[1;31m---------------------------------------------------------------------------\u001b[0m",
      "\u001b[1;31mTypeError\u001b[0m                                 Traceback (most recent call last)",
      "\u001b[1;32m<ipython-input-58-fa6a973b1233>\u001b[0m in \u001b[0;36m<module>\u001b[1;34m()\u001b[0m\n\u001b[1;32m----> 1\u001b[1;33m \u001b[0mPoint\u001b[0m\u001b[1;33m(\u001b[0m\u001b[1;36m1\u001b[0m\u001b[1;33m,\u001b[0m\u001b[1;36m2\u001b[0m\u001b[1;33m)\u001b[0m \u001b[1;33m>\u001b[0m \u001b[0mPoint\u001b[0m\u001b[1;33m(\u001b[0m\u001b[1;36m2\u001b[0m\u001b[1;33m,\u001b[0m\u001b[1;36m1\u001b[0m\u001b[1;33m)\u001b[0m\u001b[1;33m\u001b[0m\u001b[0m\n\u001b[0m",
      "\u001b[1;31mTypeError\u001b[0m: unorderable types: Point() > Point()"
     ]
    }
   ],
   "source": [
    "Point(1,2) > Point(2,1)"
   ]
  },
  {
   "cell_type": "markdown",
   "metadata": {},
   "source": [
    "So the default `==` checks by identity and `>` is not defined. \n",
    "\n",
    "We should overload both these operators by implementing `__eq__` and `__gt__`:"
   ]
  },
  {
   "cell_type": "code",
   "execution_count": 61,
   "metadata": {
    "collapsed": false
   },
   "outputs": [],
   "source": [
    "class Point:\n",
    "    \"\"\"A point (x,y) in the Euclidian plane.\n",
    "    \"\"\"\n",
    "    \n",
    "    def __init__(self, x, y):        \n",
    "        self.x = float(x)\n",
    "        self.y = float(y)\n",
    "        \n",
    "    def __iter__(self):\n",
    "        yield self.x\n",
    "        yield self.y\n",
    "    \n",
    "    def __repr__(self):\n",
    "        return \"{}({!r}, {!r})\".format(type(self).__name__, *self)\n",
    "    \n",
    "    def __add__(self, other):\n",
    "        if isinstance(other, numbers.Real):\n",
    "            other = Point(other, other)\n",
    "        if isinstance(other, type(self)):\n",
    "            return Point(*(z1 + z2 for z1,z2 in zip(self, other)))\n",
    "        return NotImplemented\n",
    "    \n",
    "    def __eq__(self, other):\n",
    "        return tuple(self) == tuple(other)\n",
    "    \n",
    "    def __gt__(self, other):\n",
    "        return all(z1 > z2 for z1,z2 in zip(self, other))"
   ]
  },
  {
   "cell_type": "markdown",
   "metadata": {},
   "source": [
    "First we check if two points are equal:"
   ]
  },
  {
   "cell_type": "code",
   "execution_count": 70,
   "metadata": {
    "collapsed": false
   },
   "outputs": [
    {
     "data": {
      "text/plain": [
       "False"
      ]
     },
     "execution_count": 70,
     "metadata": {},
     "output_type": "execute_result"
    }
   ],
   "source": [
    "Point(1,0) == Point(1,2)"
   ]
  },
  {
   "cell_type": "code",
   "execution_count": 71,
   "metadata": {
    "collapsed": false
   },
   "outputs": [
    {
     "data": {
      "text/plain": [
       "True"
      ]
     },
     "execution_count": 71,
     "metadata": {},
     "output_type": "execute_result"
    }
   ],
   "source": [
    "Point(1,0) == Point(1,0)"
   ]
  },
  {
   "cell_type": "markdown",
   "metadata": {},
   "source": [
    "Then if one is *strictly* smaller than the other:"
   ]
  },
  {
   "cell_type": "code",
   "execution_count": 72,
   "metadata": {
    "collapsed": false
   },
   "outputs": [
    {
     "data": {
      "text/plain": [
       "False"
      ]
     },
     "execution_count": 72,
     "metadata": {},
     "output_type": "execute_result"
    }
   ],
   "source": [
    "Point(1,0) > Point(1,2)"
   ]
  },
  {
   "cell_type": "code",
   "execution_count": 73,
   "metadata": {
    "collapsed": false
   },
   "outputs": [
    {
     "data": {
      "text/plain": [
       "True"
      ]
     },
     "execution_count": 73,
     "metadata": {},
     "output_type": "execute_result"
    }
   ],
   "source": [
    "Point(5,6) > Point(1,2)"
   ]
  },
  {
   "cell_type": "markdown",
   "metadata": {},
   "source": [
    "Note that by implementing `==` and `>` we have logically defined all other comparison operators. \n",
    "Indeed, Python fills in the other comparison operators:"
   ]
  },
  {
   "cell_type": "code",
   "execution_count": 74,
   "metadata": {
    "collapsed": false
   },
   "outputs": [
    {
     "data": {
      "text/plain": [
       "False"
      ]
     },
     "execution_count": 74,
     "metadata": {},
     "output_type": "execute_result"
    }
   ],
   "source": [
    "Point(5,6) < Point(1,4)"
   ]
  },
  {
   "cell_type": "markdown",
   "metadata": {},
   "source": [
    "The addition operator `+` returns a **new instance**."
   ]
  },
  {
   "cell_type": "code",
   "execution_count": 79,
   "metadata": {
    "collapsed": false
   },
   "outputs": [
    {
     "name": "stdout",
     "output_type": "stream",
     "text": [
      "Point(2.0, 3.0)\n",
      "Point(2.0, 3.0)\n"
     ]
    }
   ],
   "source": [
    "p = Point(1, 1)\n",
    "pp = p\n",
    "p += Point(1,2)\n",
    "print(p)\n",
    "print(pp)"
   ]
  },
  {
   "cell_type": "markdown",
   "metadata": {},
   "source": [
    "Next we will write a method that implements `+=` efficiently, so that instead of returning a new instance, in changes the current instance **in-place**. This is called an [augmented arithmetic assignments](https://docs.python.org/3.5/reference/datamodel.html?highlight=__iadd__#object.__iadd__). These methods should return their result."
   ]
  },
  {
   "cell_type": "code",
   "execution_count": 66,
   "metadata": {
    "collapsed": false
   },
   "outputs": [],
   "source": [
    "class Point:\n",
    "    \"\"\"A point (x,y) in the Euclidian plane.\n",
    "    \"\"\"\n",
    "    \n",
    "    def __init__(self, x, y):        \n",
    "        self.x = float(x)\n",
    "        self.y = float(y)\n",
    "        \n",
    "    def __iter__(self):\n",
    "        yield self.x\n",
    "        yield self.y\n",
    "    \n",
    "    def __repr__(self):\n",
    "        return \"{}({!r}, {!r})\".format(type(self).__name__, *self)\n",
    "    \n",
    "    def __add__(self, other):\n",
    "        if isinstance(other, numbers.Real):\n",
    "            other = Point(other, other)\n",
    "        if isinstance(other, type(self)):\n",
    "            return Point(*(z1 + z2 for z1,z2 in zip(self, other)))\n",
    "        return NotImplemented\n",
    "    \n",
    "    def __eq__(self, other):\n",
    "        return tuple(self) == tuple(other)\n",
    "    \n",
    "    def __gt__(self, other):\n",
    "        return all(z1 > z2 for z1,z2 in zip(self, other))\n",
    "    \n",
    "    def __iadd__(self, other):\n",
    "        if isinstance(other, numbers.Real):\n",
    "            other = Point(other, other)\n",
    "        if isinstance(other, type(self)):\n",
    "            self.x += other.x\n",
    "            self.y += other.y\n",
    "            return self\n",
    "        return NotImplemented"
   ]
  },
  {
   "cell_type": "code",
   "execution_count": 67,
   "metadata": {
    "collapsed": false
   },
   "outputs": [
    {
     "name": "stdout",
     "output_type": "stream",
     "text": [
      "Point(1.0, 1.0)\n",
      "Point(2.0, 3.0)\n",
      "Point(2.0, 3.0)\n"
     ]
    }
   ],
   "source": [
    "p = Point(1, 1)\n",
    "pp = p\n",
    "p + Point(1,2)\n",
    "print(p)\n",
    "p += Point(1,2)\n",
    "print(p)\n",
    "print(pp)"
   ]
  },
  {
   "cell_type": "markdown",
   "metadata": {},
   "source": [
    "We now write a method that given many points, checks if the current point is more extreme than the other points.\n",
    "\n",
    "**Note:** specifying a function argument with a `*` before its name says that we can give zero or more values and they will be packed in a `tuple`."
   ]
  },
  {
   "cell_type": "code",
   "execution_count": 64,
   "metadata": {
    "collapsed": false
   },
   "outputs": [],
   "source": [
    "class Point:\n",
    "    \"\"\"A point (x,y) in the Euclidian plane.\n",
    "    \"\"\"\n",
    "    \n",
    "    def __init__(self, x, y):        \n",
    "        self.x = float(x)\n",
    "        self.y = float(y)\n",
    "        \n",
    "    def __iter__(self):\n",
    "        yield self.x\n",
    "        yield self.y\n",
    "    \n",
    "    def __repr__(self):\n",
    "        return \"{}({!r}, {!r})\".format(type(self).__name__, *self)\n",
    "    \n",
    "    def __add__(self, other):\n",
    "        if isinstance(other, numbers.Real):\n",
    "            other = Point(other, other)\n",
    "        if isinstance(other, type(self)):\n",
    "            return Point(*(z1 + z2 for z1,z2 in zip(self, other)))\n",
    "        return NotImplemented\n",
    "    \n",
    "    def __eq__(self, other):\n",
    "        return tuple(self) == tuple(other)\n",
    "    \n",
    "    def __gt__(self, other):\n",
    "        return all(z1 > z2 for z1,z2 in zip(self, other))\n",
    "    \n",
    "    def __iadd__(self, other):\n",
    "        if isinstance(other, numbers.Real):\n",
    "            other = Point(other, other)\n",
    "        if isinstance(other, type(self)):\n",
    "            self.x += other.x\n",
    "            self.y += other.y\n",
    "            return self\n",
    "        return NotImplemented\n",
    "    \n",
    "    def is_extreme(self, *points):\n",
    "        return all(self > point for point in points)"
   ]
  },
  {
   "cell_type": "code",
   "execution_count": 65,
   "metadata": {
    "collapsed": false
   },
   "outputs": [
    {
     "data": {
      "text/plain": [
       "True"
      ]
     },
     "execution_count": 65,
     "metadata": {},
     "output_type": "execute_result"
    }
   ],
   "source": [
    "p = Point(5, 6)\n",
    "p.is_extreme(Point(1,1))"
   ]
  },
  {
   "cell_type": "code",
   "execution_count": 84,
   "metadata": {
    "collapsed": false
   },
   "outputs": [
    {
     "data": {
      "text/plain": [
       "False"
      ]
     },
     "execution_count": 84,
     "metadata": {},
     "output_type": "execute_result"
    }
   ],
   "source": [
    "p.is_extreme(Point(1,1), Point(2,5), Point(6,2))"
   ]
  },
  {
   "cell_type": "markdown",
   "metadata": {},
   "source": [
    "We can also use the method via the class instead of the instance, and give the instance of interest (the one that we want to know if it is the extreme) as the first argument `self`. Similarly, we can either do `'hi'.upper()` or `str.upper('hi')`."
   ]
  },
  {
   "cell_type": "code",
   "execution_count": 85,
   "metadata": {
    "collapsed": false
   },
   "outputs": [
    {
     "data": {
      "text/plain": [
       "True"
      ]
     },
     "execution_count": 85,
     "metadata": {},
     "output_type": "execute_result"
    }
   ],
   "source": [
    "Point.is_extreme(Point(7,8), Point(1,1), Point(4,5), Point(2,3))"
   ]
  },
  {
   "cell_type": "markdown",
   "metadata": {},
   "source": [
    "Let's add a method to return a polar representation of `Point`. We'll need to calculate the magnitude, which we might as well do with the `__abs__` method (corresponding to `abs`) and an `angle` method:"
   ]
  },
  {
   "cell_type": "code",
   "execution_count": 62,
   "metadata": {
    "collapsed": true
   },
   "outputs": [],
   "source": [
    "import math\n",
    "\n",
    "class Point:\n",
    "    \"\"\"A point (x,y) in the Euclidian plane.\n",
    "    \"\"\"\n",
    "    \n",
    "    def __init__(self, x, y):        \n",
    "        self.x = float(x)\n",
    "        self.y = float(y)\n",
    "        \n",
    "    def __iter__(self):\n",
    "        yield self.x\n",
    "        yield self.y\n",
    "    \n",
    "    def __repr__(self):\n",
    "        return \"{}({!r}, {!r})\".format(type(self).__name__, *self)\n",
    "    \n",
    "    def __add__(self, other):\n",
    "        if isinstance(other, numbers.Real):\n",
    "            other = Point(other, other)\n",
    "        if isinstance(other, type(self)):\n",
    "            return Point(*(z1 + z2 for z1,z2 in zip(self, other)))\n",
    "        return NotImplemented\n",
    "    \n",
    "    def __eq__(self, other):\n",
    "        return tuple(self) == tuple(other)\n",
    "    \n",
    "    def __gt__(self, other):\n",
    "        return all(z1 > z2 for z1,z2 in zip(self, other))\n",
    "    \n",
    "    def __iadd__(self, other):\n",
    "        if isinstance(other, numbers.Real):\n",
    "            other = Point(other, other)\n",
    "        if isinstance(other, type(self)):\n",
    "            self.x += other.x\n",
    "            self.y += other.y\n",
    "            return self\n",
    "        return NotImplemented\n",
    "    \n",
    "    def is_extreme(self, *points):\n",
    "        return all(self > point for point in points)\n",
    "    \n",
    "    def __abs__(self):\n",
    "        return math.hypot(*self)\n",
    "    \n",
    "    def angle(self):\n",
    "        return math.atan2(self.y ,self.x)\n",
    "    \n",
    "    def to_polar(self):\n",
    "        return abs(self), self.angle()"
   ]
  },
  {
   "cell_type": "code",
   "execution_count": 63,
   "metadata": {
    "collapsed": false
   },
   "outputs": [
    {
     "name": "stdout",
     "output_type": "stream",
     "text": [
      "(1.0, 0.0)\n",
      "(1.0, 3.141592653589793)\n",
      "(1.4142135623730951, 0.7853981633974483)\n",
      "(2.8284271247461903, 0.7853981633974483)\n"
     ]
    }
   ],
   "source": [
    "print(Point(1, 0).to_polar())\n",
    "print(Point(-1, 0).to_polar())\n",
    "print(Point(1, 1).to_polar())\n",
    "print(Point(2, 2).to_polar())"
   ]
  },
  {
   "cell_type": "markdown",
   "metadata": {},
   "source": [
    "If we have `topolar` that returns a tuple of polar coordinates, we might want to have `frompolar` that creates a new instance from a tuple of polar coordinates. This is called an **alternative constructor** and must be implemented as a **class method** as we don't have an instance at the time we call the method:"
   ]
  },
  {
   "cell_type": "code",
   "execution_count": 124,
   "metadata": {
    "collapsed": true
   },
   "outputs": [],
   "source": [
    "import math\n",
    "\n",
    "class Point:\n",
    "    \"\"\"A point (x,y) in the Euclidian plane.\n",
    "    \"\"\"\n",
    "    \n",
    "    def __init__(self, x, y):        \n",
    "        self.x = float(x)\n",
    "        self.y = float(y)\n",
    "        \n",
    "    def __iter__(self):\n",
    "        yield self.x\n",
    "        yield self.y\n",
    "    \n",
    "    def __repr__(self):\n",
    "        return \"{}({!r}, {!r})\".format(type(self).__name__, *self)\n",
    "    \n",
    "    def __add__(self, other):\n",
    "        if isinstance(other, numbers.Real):\n",
    "            other = Point(other, other)\n",
    "        if isinstance(other, type(self)):\n",
    "            return Point(*(z1 + z2 for z1,z2 in zip(self, other)))\n",
    "        return NotImplemented\n",
    "    \n",
    "    def __eq__(self, other):\n",
    "        return tuple(self) == tuple(other)\n",
    "    \n",
    "    def __gt__(self, other):\n",
    "        return all(z1 > z2 for z1,z2 in zip(self, other))\n",
    "    \n",
    "    def __iadd__(self, other):\n",
    "        if isinstance(other, numbers.Real):\n",
    "            other = Point(other, other)\n",
    "        if isinstance(other, type(self)):\n",
    "            self.x += other.x\n",
    "            self.y += other.y\n",
    "            return self\n",
    "        return NotImplemented\n",
    "    \n",
    "    def is_extreme(self, *points):\n",
    "        return all(self > point for point in points)\n",
    "    \n",
    "    def __abs__(self):\n",
    "        return math.hypot(*self)\n",
    "    \n",
    "    def angle(self):\n",
    "        return math.atan2(self.y ,self.x)\n",
    "    \n",
    "    def to_polar(self):\n",
    "        return abs(self), self.angle()\n",
    "    \n",
    "    @classmethod\n",
    "    def from_polar(cls, radius, angle):\n",
    "        x = radius * math.cos(angle)\n",
    "        y = radius * math.sin(angle)\n",
    "        return Point(x, y)"
   ]
  },
  {
   "cell_type": "code",
   "execution_count": 127,
   "metadata": {
    "collapsed": false
   },
   "outputs": [
    {
     "data": {
      "text/plain": [
       "(Point(3.0, 4.5), Point(3.0000000000000004, 4.5), False)"
      ]
     },
     "execution_count": 127,
     "metadata": {},
     "output_type": "execute_result"
    }
   ],
   "source": [
    "p1 = Point(3, 4.5)\n",
    "r, a = p1.to_polar()\n",
    "p2 = Point.from_polar(r, a)\n",
    "p1, p2, p1 == p2"
   ]
  },
  {
   "cell_type": "markdown",
   "metadata": {},
   "source": [
    "We got a `False` because there is some numerical error."
   ]
  },
  {
   "cell_type": "code",
   "execution_count": 131,
   "metadata": {
    "collapsed": false
   },
   "outputs": [
    {
     "data": {
      "text/plain": [
       "(Point(1.0, 1.0), Point(2.0000000000000004, 2.0000000000000004))"
      ]
     },
     "execution_count": 131,
     "metadata": {},
     "output_type": "execute_result"
    }
   ],
   "source": [
    "p1 = Point(1, 1)\n",
    "r, a = p1.to_polar()\n",
    "p2 = Point.from_polar(r * 2, a)\n",
    "p1, p2"
   ]
  },
  {
   "cell_type": "markdown",
   "metadata": {},
   "source": [
    "We can also implement `__complex__` to allow to convert our `Point` to a complex number:"
   ]
  },
  {
   "cell_type": "code",
   "execution_count": 13,
   "metadata": {
    "collapsed": false
   },
   "outputs": [],
   "source": [
    "import math\n",
    "\n",
    "class Point:\n",
    "    \"\"\"A point (x,y) in the Euclidian plane.\n",
    "    \"\"\"\n",
    "    \n",
    "    def __init__(self, x, y):        \n",
    "        self.x = float(x)\n",
    "        self.y = float(y)\n",
    "        \n",
    "    def __iter__(self):\n",
    "        yield self.x\n",
    "        yield self.y\n",
    "    \n",
    "    def __repr__(self):\n",
    "        return \"{}({!r}, {!r})\".format(type(self).__name__, *self)\n",
    "    \n",
    "    def __add__(self, other):\n",
    "        if isinstance(other, numbers.Real):\n",
    "            other = Point(other, other)\n",
    "        if isinstance(other, type(self)):\n",
    "            return Point(*(z1 + z2 for z1,z2 in zip(self, other)))\n",
    "        return NotImplemented\n",
    "    \n",
    "    def __eq__(self, other):\n",
    "        return tuple(self) == tuple(other)\n",
    "    \n",
    "    def __gt__(self, other):\n",
    "        return all(z1 > z2 for z1,z2 in zip(self, other))\n",
    "    \n",
    "    def __iadd__(self, other):\n",
    "        if isinstance(other, numbers.Real):\n",
    "            other = Point(other, other)\n",
    "        if isinstance(other, type(self)):\n",
    "            self.x += other.x\n",
    "            self.y += other.y\n",
    "            return self\n",
    "        return NotImplemented\n",
    "    \n",
    "    def is_extreme(self, *points):\n",
    "        return all(self > point for point in points)\n",
    "    \n",
    "    def __abs__(self):\n",
    "        return math.hypot(*self)\n",
    "    \n",
    "    def angle(self):\n",
    "        return math.atan2(self.y ,self.x)\n",
    "    \n",
    "    def to_polar(self):\n",
    "        return abs(self), self.angle()\n",
    "    \n",
    "    @classmethod\n",
    "    def from_polar(cls, radius, angle):\n",
    "        x = radius * math.cos(angle)\n",
    "        y = radius * math.sin(angle)\n",
    "        return Point(x, y)\n",
    "    \n",
    "    def __complex__(self):\n",
    "        return complex(*self)"
   ]
  },
  {
   "cell_type": "code",
   "execution_count": 139,
   "metadata": {
    "collapsed": false
   },
   "outputs": [
    {
     "data": {
      "text/plain": [
       "(1+1j)"
      ]
     },
     "execution_count": 139,
     "metadata": {},
     "output_type": "execute_result"
    }
   ],
   "source": [
    "complex(Point(1,1))"
   ]
  },
  {
   "cell_type": "markdown",
   "metadata": {},
   "source": [
    "We might want to make our `Point` immutable. This is easy enough, we just need to change our `x` and `y` to `_x` and `_y` to convey that they should not be used directly, and add `x` and `y` properties. We shouldn't implement `__iadd__`, though, in this case."
   ]
  },
  {
   "cell_type": "code",
   "execution_count": 14,
   "metadata": {
    "collapsed": true
   },
   "outputs": [],
   "source": [
    "import math\n",
    "\n",
    "class Point:\n",
    "    \"\"\"A point (x,y) in the Euclidian plane.\n",
    "    \"\"\"\n",
    "    \n",
    "    def __init__(self, x, y):        \n",
    "        self._x = float(x)\n",
    "        self._y = float(y)\n",
    "    \n",
    "    @property\n",
    "    def x(self):\n",
    "        return self._x\n",
    "    \n",
    "    @property\n",
    "    def y(self):\n",
    "        return self._y\n",
    "    \n",
    "    def __iter__(self):\n",
    "        yield self.x\n",
    "        yield self.y\n",
    "    \n",
    "    def __repr__(self):\n",
    "        return \"{}({!r}, {!r})\".format(type(self).__name__, *self)\n",
    "    \n",
    "    def __add__(self, other):\n",
    "        if isinstance(other, numbers.Real):\n",
    "            other = Point(other, other)\n",
    "        if isinstance(other, type(self)):\n",
    "            return Point(*(z1 + z2 for z1,z2 in zip(self, other)))\n",
    "        return NotImplemented\n",
    "    \n",
    "    def __eq__(self, other):\n",
    "        return tuple(self) == tuple(other)\n",
    "    \n",
    "    def __gt__(self, other):\n",
    "        return all(z1 > z2 for z1,z2 in zip(self, other))\n",
    "    \n",
    "    def is_extreme(self, *points):\n",
    "        return all(self > point for point in points)\n",
    "    \n",
    "    def __abs__(self):\n",
    "        return math.hypot(*self)\n",
    "    \n",
    "    def angle(self):\n",
    "        return math.atan2(self.y ,self.x)\n",
    "    \n",
    "    def to_polar(self):\n",
    "        return abs(self), self.angle()\n",
    "    \n",
    "    @classmethod\n",
    "    def from_polar(cls, radius, angle):\n",
    "        x = radius * math.cos(angle)\n",
    "        y = radius * math.sin(angle)\n",
    "        return Point(x, y)\n",
    "    \n",
    "    def __complex__(self):\n",
    "        return complex(*self)"
   ]
  },
  {
   "cell_type": "code",
   "execution_count": 3,
   "metadata": {
    "collapsed": false
   },
   "outputs": [
    {
     "name": "stdout",
     "output_type": "stream",
     "text": [
      "Point(1.0, 1.0)\n",
      "Point(2.0, 2.0)\n",
      "(1.4142135623730951, 0.7853981633974483)\n"
     ]
    }
   ],
   "source": [
    "p = Point(1, 1)\n",
    "print(p)\n",
    "print(p + p)\n",
    "print(p.to_polar())"
   ]
  },
  {
   "cell_type": "markdown",
   "metadata": {},
   "source": [
    "Note that we didn't have to change any other method (except remove `__iadd__`) because the `@property` decorator turns the `x` and `y` methods to instance members.\n",
    "\n",
    "However, they cannot be directly changed now, making our class immutable, at least by convention:"
   ]
  },
  {
   "cell_type": "code",
   "execution_count": 4,
   "metadata": {
    "collapsed": false
   },
   "outputs": [
    {
     "ename": "AttributeError",
     "evalue": "can't set attribute",
     "output_type": "error",
     "traceback": [
      "\u001b[1;31m---------------------------------------------------------------------------\u001b[0m",
      "\u001b[1;31mAttributeError\u001b[0m                            Traceback (most recent call last)",
      "\u001b[1;32m<ipython-input-4-aa43bdc5d0d2>\u001b[0m in \u001b[0;36m<module>\u001b[1;34m()\u001b[0m\n\u001b[1;32m----> 1\u001b[1;33m \u001b[0mp\u001b[0m\u001b[1;33m.\u001b[0m\u001b[0mx\u001b[0m \u001b[1;33m=\u001b[0m \u001b[1;36m2\u001b[0m\u001b[1;33m\u001b[0m\u001b[0m\n\u001b[0m",
      "\u001b[1;31mAttributeError\u001b[0m: can't set attribute"
     ]
    }
   ],
   "source": [
    "p.x = 2"
   ]
  },
  {
   "cell_type": "markdown",
   "metadata": {},
   "source": [
    "An object attributes are saved in a dictionary called `__dict__`:"
   ]
  },
  {
   "cell_type": "code",
   "execution_count": 5,
   "metadata": {
    "collapsed": false
   },
   "outputs": [
    {
     "data": {
      "text/plain": [
       "{'_x': 1.0, '_y': 1.0}"
      ]
     },
     "execution_count": 5,
     "metadata": {},
     "output_type": "execute_result"
    }
   ],
   "source": [
    "p.__dict__"
   ]
  },
  {
   "cell_type": "markdown",
   "metadata": {},
   "source": [
    "However, a dictionary has some overhead, and a more memory efficient way to save the attributes is done by defining the class attribute `__slots__`:"
   ]
  },
  {
   "cell_type": "code",
   "execution_count": 15,
   "metadata": {
    "collapsed": true
   },
   "outputs": [],
   "source": [
    "class RegularPoint:\n",
    "    \n",
    "    def __init__(self, x, y):        \n",
    "        self.x = float(x)\n",
    "        self.y = float(y)\n",
    "        \n",
    "    def __iter__(self):\n",
    "        yield self.x\n",
    "        yield self.y\n",
    "    \n",
    "    def __repr__(self):\n",
    "        return \"{}({!r}, {!r})\".format(type(self).__name__, *self)\n",
    "    \n",
    "class EfficientPoint:\n",
    "    __slots__ = ('x', 'y')\n",
    "    \n",
    "    def __init__(self, x, y):        \n",
    "        self.x = float(x)\n",
    "        self.y = float(y)\n",
    "        \n",
    "    def __iter__(self):\n",
    "        yield self.x\n",
    "        yield self.y\n",
    "    \n",
    "    def __repr__(self):\n",
    "        return \"{}({!r}, {!r})\".format(type(self).__name__, *self)"
   ]
  },
  {
   "cell_type": "markdown",
   "metadata": {},
   "source": [
    "We load [ipython_memory_usage](https://github.com/ianozsvald/ipython_memory_usage), a package that monitors memory usage inside the notebook.\n",
    "\n",
    "Install from with `pip install git+https://github.com/ianozsvald/ipython_memory_usage.git`, and on Windows you will also n\n",
    "`conda install psutil`."
   ]
  },
  {
   "cell_type": "code",
   "execution_count": 3,
   "metadata": {
    "collapsed": false
   },
   "outputs": [
    {
     "name": "stdout",
     "output_type": "stream",
     "text": [
      "In [3] used 0.1523 MiB RAM in 29.48s, peaked 0.00 MiB above current, total RAM usage 38.52 MiB\n"
     ]
    }
   ],
   "source": [
    "import ipython_memory_usage.ipython_memory_usage as imu\n",
    "imu.start_watching_memory()"
   ]
  },
  {
   "cell_type": "code",
   "execution_count": 7,
   "metadata": {
    "collapsed": false
   },
   "outputs": [
    {
     "name": "stdout",
     "output_type": "stream",
     "text": [
      "In [7] used 2165.7812 MiB RAM in 29.80s, peaked 0.00 MiB above current, total RAM usage 2205.70 MiB\n"
     ]
    }
   ],
   "source": [
    "lst1 = [RegularPoint(0, 0) for _ in range(10000000)]"
   ]
  },
  {
   "cell_type": "code",
   "execution_count": 8,
   "metadata": {
    "collapsed": false
   },
   "outputs": [
    {
     "name": "stdout",
     "output_type": "stream",
     "text": [
      "In [8] used 1088.5469 MiB RAM in 29.12s, peaked 0.00 MiB above current, total RAM usage 3294.25 MiB\n"
     ]
    }
   ],
   "source": [
    "lst2 = [EfficientPoint(0, 0) for _ in range(10000000)]"
   ]
  },
  {
   "cell_type": "markdown",
   "metadata": {},
   "source": [
    "So we see that for $10^7$ points, the `__slots__` class requires ~2-fold less memory.\n",
    "\n",
    "We should now delete the references to release these GB of RAM with the `del` statement:"
   ]
  },
  {
   "cell_type": "code",
   "execution_count": 9,
   "metadata": {
    "collapsed": false
   },
   "outputs": [
    {
     "name": "stdout",
     "output_type": "stream",
     "text": [
      "In [9] used -3246.8281 MiB RAM in 3.57s, peaked 3246.80 MiB above current, total RAM usage 47.42 MiB\n"
     ]
    }
   ],
   "source": [
    "del lst1\n",
    "del lst2"
   ]
  },
  {
   "cell_type": "markdown",
   "metadata": {},
   "source": [
    "And finally stop monitoring the memory:"
   ]
  },
  {
   "cell_type": "code",
   "execution_count": 10,
   "metadata": {
    "collapsed": true
   },
   "outputs": [],
   "source": [
    "imu.stop_watching_memory()"
   ]
  },
  {
   "cell_type": "markdown",
   "metadata": {},
   "source": [
    "## `Rectangle` class\n",
    "\n",
    "We will implement two classes for rectangles, and compare the two implementations.\n",
    "\n",
    "### First implementation - two points\n",
    "\n",
    "The first implementation defines a rectangle by its lower left and upper right vertices."
   ]
  },
  {
   "cell_type": "code",
   "execution_count": 28,
   "metadata": {
    "collapsed": false
   },
   "outputs": [],
   "source": [
    "class Rectangle1:\n",
    "    \"\"\"Describe a parallel-axes rectangle by storing two points.\n",
    "    \n",
    "    Attributes\n",
    "    ----------\n",
    "    llv : Point\n",
    "        lower left vertex\n",
    "    urv : Point\n",
    "        upper right vertex\n",
    "    \"\"\"\n",
    "    \n",
    "    def __init__(self, lower_left_vertex, upper_right_vertex):        \n",
    "        self.llv = Point(*lower_left_vertex)\n",
    "        self.urv = Point(*upper_right_vertex)\n",
    "        assert self.llv < self.urv, \"Lower left vertex should be lower than upper right vertex\"\n",
    "        \n",
    "    def __repr__(self):\n",
    "        return \"{}({!r}, {!r})\".format(type(self).__name__, self.llv, self.urv)\n",
    "        \n",
    "    def __str__(self):\n",
    "        return \"Rectangle with lower left {} and upper right {}\".format(self.llv, self.urv)\n",
    "\n",
    "    def dimensions(self):\n",
    "        height = self.urv.y - self.llv.y\n",
    "        width = self.urv.x - self.llv.x\n",
    "        return height, width\n",
    "    \n",
    "    def area(self):\n",
    "        height, width = self.dimensions()\n",
    "        area = height * width\n",
    "        return area\n",
    "       \n",
    "    def transpose(self):\n",
    "        \"\"\"Reflection with regard to the line passing through lower left vertex with angle 315 (-45) degrees\n",
    "        \"\"\"\n",
    "        height, width = self.dimensions()\n",
    "        urv = self.llv\n",
    "        llv = Point(self.llv.x - height, self.llv.y - width)\n",
    "        return type(self)(llv, urv)"
   ]
  },
  {
   "cell_type": "code",
   "execution_count": 29,
   "metadata": {
    "collapsed": false
   },
   "outputs": [
    {
     "name": "stdout",
     "output_type": "stream",
     "text": [
      "Rectangle with lower left Point(0.0, 0.0) and upper right Point(2.0, 1.0)\n",
      "Area: 2.0\n",
      "Dimensions: (1.0, 2.0)\n",
      "Transposed: Rectangle with lower left Point(-1.0, -2.0) and upper right Point(0.0, 0.0)\n"
     ]
    }
   ],
   "source": [
    "rect = Rectangle1(Point(0, 0), Point(2,1))\n",
    "print(rect)\n",
    "print(\"Area:\", rect.area())\n",
    "print(\"Dimensions:\", rect.dimensions())\n",
    "t_rect = rect.transpose()\n",
    "print(\"Transposed:\", t_rect)"
   ]
  },
  {
   "cell_type": "markdown",
   "metadata": {},
   "source": [
    "## Exercise\n",
    "\n",
    "Overload the `__contains__` method of the rectangle class so that given a point it will return `True` if the point is inside the rectangle and `False` otherwise."
   ]
  },
  {
   "cell_type": "code",
   "execution_count": 82,
   "metadata": {
    "collapsed": false
   },
   "outputs": [],
   "source": []
  },
  {
   "cell_type": "code",
   "execution_count": 84,
   "metadata": {
    "collapsed": false
   },
   "outputs": [],
   "source": [
    "rect = Rectangle2(Point(0, 0), 1, 2) # or use Rectangle1 if you prefer\n",
    "assert Point(0.5, 0.5) in rect\n",
    "assert Point(1.5, 0.5) in rect\n",
    "assert Point(2.5, 0.5) not in rect\n",
    "assert Point(0.5, 2.5) not in rect"
   ]
  },
  {
   "cell_type": "markdown",
   "metadata": {},
   "source": [
    "## Exercise\n",
    "\n",
    "The second implementation defines a rectangle by the lower left point, the height and the width.\n",
    "\n",
    "Define the exact same methods as in `Rectangle1`, with the same input and output, but  different inner representation / implementation."
   ]
  },
  {
   "cell_type": "code",
   "execution_count": 40,
   "metadata": {
    "collapsed": false
   },
   "outputs": [],
   "source": [
    "class Rectangle2:\n",
    "    \"\"\"Describe a parallel-axes rectangle by storing lower left point, height and width.\n",
    "    \n",
    "    Attributes\n",
    "    ----------\n",
    "    point : Point\n",
    "        lower left point\n",
    "    width : float\n",
    "        width\n",
    "    height : float\n",
    "        height\n",
    "    \"\"\"\n",
    "    pass"
   ]
  },
  {
   "cell_type": "code",
   "execution_count": 41,
   "metadata": {
    "collapsed": false
   },
   "outputs": [
    {
     "name": "stdout",
     "output_type": "stream",
     "text": [
      "Rectangle with lower left Point(0.0, 0.0) and upper right Point(2.0, 1.0)\n",
      "Area: 2.0\n",
      "Dimensions: (1.0, 2.0)\n",
      "Transposed: Rectangle with lower left Point(-1.0, -2.0) and upper right Point(0.0, 0.0)\n"
     ]
    }
   ],
   "source": [
    "rect = Rectangle2(Point(0, 0), 1, 2)\n",
    "print(rect)\n",
    "print(\"Area:\", rect.area())\n",
    "print(\"Dimensions:\", rect.dimensions())\n",
    "t_rect = rect.transpose()\n",
    "print(\"Transposed:\", t_rect)"
   ]
  },
  {
   "cell_type": "markdown",
   "metadata": {},
   "source": [
    "# Inheritance\n",
    "\n",
    "Next we will see how inheritance works in Python.\n",
    "\n",
    "We define a `Door` class. The door is either open or closed, it can be opened or closed, and it can be represented as a string."
   ]
  },
  {
   "cell_type": "code",
   "execution_count": 33,
   "metadata": {
    "collapsed": false
   },
   "outputs": [],
   "source": [
    "class Door:\n",
    "    OPEN = 'open'\n",
    "    CLOSED = 'closed'\n",
    "    \n",
    "    def __init__(self, status=CLOSED):\n",
    "        self._status = status\n",
    "        \n",
    "    @property\n",
    "    def status(self):\n",
    "        return self._status\n",
    "\n",
    "    @status.setter\n",
    "    def status(self, new_status):\n",
    "        if new_status not in (self.OPEN, self.CLOSED):\n",
    "            raise ValueError('Status must be one of {}'.format((self.OPEN, self.CLOSED)))\n",
    "        self._status = new_status\n",
    "        return new_status\n",
    "    \n",
    "    def __repr__(self):\n",
    "        return '{}(status={})'.format(type(self).__name__, self.status)\n",
    "\n",
    "    def __str__(self):\n",
    "        return 'Door {0} is {1}'.format(id(self), self.status)\n",
    "    \n",
    "    def open(self):\n",
    "        self.status = self.OPEN\n",
    "        \n",
    "    def close(self):\n",
    "        self.status = self.CLOSED"
   ]
  },
  {
   "cell_type": "code",
   "execution_count": 35,
   "metadata": {
    "collapsed": false
   },
   "outputs": [
    {
     "name": "stdout",
     "output_type": "stream",
     "text": [
      "Door 74438080 is closed\n"
     ]
    },
    {
     "data": {
      "text/plain": [
       "Door(status=closed)"
      ]
     },
     "execution_count": 35,
     "metadata": {},
     "output_type": "execute_result"
    }
   ],
   "source": [
    "door = Door()\n",
    "print(door)\n",
    "door"
   ]
  },
  {
   "cell_type": "markdown",
   "metadata": {},
   "source": [
    "Now we want to define a secure door which only opens with a password.\n",
    "\n",
    "The secure door inherits from the regular door, but it makes some changes:\n",
    "\n",
    "- `__init__` accepts a password and saves it's hash as an attribute\n",
    "- `open` requires the password from the user to actually open the door"
   ]
  },
  {
   "cell_type": "code",
   "execution_count": 38,
   "metadata": {
    "collapsed": true
   },
   "outputs": [],
   "source": [
    "from getpass import getpass\n",
    "from hashlib import sha224"
   ]
  },
  {
   "cell_type": "code",
   "execution_count": 39,
   "metadata": {
    "collapsed": false
   },
   "outputs": [],
   "source": [
    "class SecurityDoor(Door):\n",
    "    \"\"\"A door that requires a password to open.\n",
    "    \"\"\"\n",
    "  \n",
    "    def __init__(self, password):\n",
    "        super(SecurityDoor, self).__init__()\n",
    "        self.secret = self.digest(password)\n",
    "        \n",
    "    def open(self):\n",
    "        if self.digest(getpass(\"What is the password?\")) == self.secret:\n",
    "            super(SecurityDoor, self).open()\n",
    "        else:\n",
    "            print(\"Wrong password!\")\n",
    "            \n",
    "    def digest(self, password):\n",
    "        \"\"\"Hash a password using sha224 algorithm.\n",
    "        \"\"\"\n",
    "        return sha224(password.encode('utf8')).hexdigest()"
   ]
  },
  {
   "cell_type": "code",
   "execution_count": 40,
   "metadata": {
    "collapsed": false
   },
   "outputs": [
    {
     "name": "stdout",
     "output_type": "stream",
     "text": [
      "What is the password?········\n",
      "Door 78324400 is open\n",
      "Door 78324400 is closed\n"
     ]
    }
   ],
   "source": [
    "secure_door = SecurityDoor('opensesame')\n",
    "secure_door.open()\n",
    "print(secure_door)\n",
    "secure_door.close()\n",
    "print(secure_door)"
   ]
  },
  {
   "cell_type": "markdown",
   "metadata": {},
   "source": [
    "Multiple inheritance works in Python. If there are clashes between names Python will search from the first parent to the last. \n",
    "\n",
    "However, multiple inheritance and inheritance in general are many times not neccessary and similar results can be produced by composition and delegation, without creating the complexity and constraints that inheritance induces.\n",
    "\n",
    "In the words of the famous [Design Patterns](https://en.wikipedia.org/wiki/Composition_over_inheritance) book:\n",
    "\n",
    "> Favor 'object composition' over 'class inheritance'."
   ]
  },
  {
   "cell_type": "markdown",
   "metadata": {},
   "source": [
    "# Composition and delegation\n",
    "\n",
    "Composition means that one object **explicitly delegates** some tasks to another object. \n",
    "\n",
    "Delegation is implicit in inheritance, and explicit in composition.\n",
    "The *Zen of Python* (`import this`) says that *Explicit is better than implicit*, so it we should conclude that composition is better than inheritance.\n",
    "\n",
    "Let's implement regular composition, which simply makes an object part of the other as an attribute:"
   ]
  },
  {
   "cell_type": "code",
   "execution_count": 46,
   "metadata": {
    "collapsed": true
   },
   "outputs": [],
   "source": [
    "class SecurityDoor:\n",
    "    \"\"\"A door that requires a password to open.\n",
    "    \"\"\"\n",
    "    \n",
    "    def __init__(self, password):\n",
    "        self._door = Door(status=Door.CLOSED)\n",
    "        self._secret = self.digest(password)\n",
    "    \n",
    "    @property\n",
    "    def secret(self):\n",
    "        return self._secret\n",
    "    \n",
    "    @property\n",
    "    def door(self):\n",
    "        return self._door\n",
    "    \n",
    "    def __repr__(self):\n",
    "        return repr(self.door)\n",
    "               \n",
    "    def open(self):\n",
    "        if self.digest(getpass(\"What is the password?\")) == self.secret:\n",
    "            self.door.open()\n",
    "        else:\n",
    "            print(\"Wrong password!\")\n",
    "        \n",
    "    def close(self):\n",
    "        self.door.close()\n",
    "        \n",
    "    def digest(self, password):\n",
    "        \"\"\"Hash a password using sha224 algorithm.\n",
    "        \"\"\"\n",
    "        return sha224(password.encode('utf8')).hexdigest()"
   ]
  },
  {
   "cell_type": "code",
   "execution_count": 47,
   "metadata": {
    "collapsed": false
   },
   "outputs": [
    {
     "name": "stdout",
     "output_type": "stream",
     "text": [
      "What is the password?········\n",
      "Door(status=open)\n",
      "Door(status=closed)\n"
     ]
    }
   ],
   "source": [
    "secure_door = SecurityDoor('opensesame')\n",
    "secure_door.open()\n",
    "print(secure_door)\n",
    "secure_door.close()\n",
    "print(secure_door)"
   ]
  },
  {
   "cell_type": "markdown",
   "metadata": {},
   "source": [
    "\n",
    "\n",
    "The primary goal of composition is to relax the coupling between objects. \n",
    "This little example shows that now `SecurityDoor` is an `object` and no more a `Door`, \n",
    "which means that the internal structure of `Door` is not copied. \n",
    "For this very simple example both `Door` and `SecurityDoor` are not big classes, \n",
    "but in a real system objects can very complex; \n",
    "this means that their allocation consumes a lot of memory and if a system contains thousands or millions of objects that could be an issue.\n",
    "\n",
    "The composed `SecurityDoor` has to redefine every attribute since the concept of delegation applies only to methods and not to attributes, doesn't it?\n",
    "\n",
    "**No.** Python allows objects manipulation and attribute access is one of the most useful. \n",
    "Accessing attributes is ruled by a special method called `__getattribute__` that is called whenever an attribute of the object is accessed. \n",
    "Overriding `__getattribute__`, however, is overkill; \n",
    "it is a very complex method, and, being called on every attribute access, any change makes the whole thing slower.\n",
    "\n",
    "The method we have to leverage to delegate attribute access is `__getattr__`, which is a special method that is called whenever the requested attribute is not found in the object. \n",
    "So basically it is the right place to dispatch all attribute and method access our object cannot handle. \n",
    "\n",
    "The previous example becomes:"
   ]
  },
  {
   "cell_type": "code",
   "execution_count": 48,
   "metadata": {
    "collapsed": true
   },
   "outputs": [],
   "source": [
    "class SecurityDoor:\n",
    "    \"\"\"A door that requires a password to open.\n",
    "    \"\"\"\n",
    "    \n",
    "    def __init__(self, password):\n",
    "        self._door = Door(status=Door.CLOSED)\n",
    "        self._secret = self.digest(password)\n",
    "              \n",
    "    @property\n",
    "    def door(self):\n",
    "        return self._door\n",
    "    \n",
    "    @property\n",
    "    def secret(self):\n",
    "        return self._secret\n",
    "            \n",
    "    def __repr__(self):\n",
    "        return repr(self.door)\n",
    "    \n",
    "    def open(self):\n",
    "        if self.digest(getpass(\"What is the password?\")) == self.secret:\n",
    "            self.door.open()\n",
    "        else:\n",
    "            print(\"Wrong password!\")\n",
    "        \n",
    "    def __getattr__(self, attr):\n",
    "        return getattr(self.door, attr)\n",
    "    \n",
    "    def digest(self, password):\n",
    "        \"\"\"Hash a password using sha224 algorithm.\n",
    "        \"\"\"\n",
    "        return sha224(password.encode('utf8')).hexdigest()"
   ]
  },
  {
   "cell_type": "code",
   "execution_count": 49,
   "metadata": {
    "collapsed": false
   },
   "outputs": [
    {
     "name": "stdout",
     "output_type": "stream",
     "text": [
      "What is the password?········\n",
      "Door(status=open)\n",
      "Door(status=closed)\n"
     ]
    }
   ],
   "source": [
    "secure_door = SecurityDoor('opensesame')\n",
    "secure_door.open()\n",
    "print(secure_door)\n",
    "secure_door.close()\n",
    "print(secure_door)"
   ]
  },
  {
   "cell_type": "markdown",
   "metadata": {},
   "source": [
    "As this last example shows, delegating every member access through `__getattr__` is very simple. \n",
    "Pay attention to `getattr` which is different from `__getattr__`. \n",
    "The former is a built-in function that is equivalent to the dotted syntax, i.e. `getattr(obj, 'someattr')` is the same as `obj.someattr`, but you have to use it since the name of the attribute is contained in a string.\n",
    "\n",
    "**Composition provides a superior way to manage delegation** since it can selectively delegate the access, even mask some attributes or methods, while inheritance cannot. \n",
    "\n",
    "In Python you also avoid the memory problems that might arise with delegation when you put many objects inside another; Python handles everything through its reference, so the size of an attribute is constant and very limited."
   ]
  },
  {
   "cell_type": "markdown",
   "metadata": {},
   "source": [
    "## Exercise\n",
    "\n",
    "Define a new class, `RevolvingDoor`, which closes immediately after it is opened. Define it once with inheritance and once with composition."
   ]
  },
  {
   "cell_type": "code",
   "execution_count": null,
   "metadata": {
    "collapsed": false
   },
   "outputs": [],
   "source": [
    "class RevolvingDoor(Door):\n",
    "    pass\n",
    "\n",
    "rdoor = RevolvingDoor()\n",
    "rdoor.open()\n",
    "print(rdoor)"
   ]
  },
  {
   "cell_type": "code",
   "execution_count": null,
   "metadata": {
    "collapsed": false
   },
   "outputs": [],
   "source": [
    "class RevolvingDoor:\n",
    "    pass\n",
    "    \n",
    "rdoor = RevolvingDoor()\n",
    "rdoor.open()\n",
    "print(rdoor)"
   ]
  },
  {
   "cell_type": "markdown",
   "metadata": {},
   "source": [
    "# Polymorphism\n",
    "\n",
    "In Python, polymorphism is baked into the language, due to the **Duck typing** principle. We saw above how this relates to methods like `__add__`, `__sub__`, `__repr__`, and `__contains__`.\n",
    "\n",
    "Another example is a file object:"
   ]
  },
  {
   "cell_type": "code",
   "execution_count": 51,
   "metadata": {
    "collapsed": false
   },
   "outputs": [
    {
     "name": "stdout",
     "output_type": "stream",
     "text": [
      "<class '_io.TextIOWrapper'>\n",
      "['_CHUNK_SIZE', '__class__', '__del__', '__delattr__', '__dict__', '__dir__', '__doc__', '__enter__', '__eq__', '__exit__', '__format__', '__ge__', '__getattribute__', '__getstate__', '__gt__', '__hash__', '__init__', '__iter__', '__le__', '__lt__', '__ne__', '__new__', '__next__', '__reduce__', '__reduce_ex__', '__repr__', '__setattr__', '__sizeof__', '__str__', '__subclasshook__', '_checkClosed', '_checkReadable', '_checkSeekable', '_checkWritable', '_finalizing', 'buffer', 'close', 'closed', 'detach', 'encoding', 'errors', 'fileno', 'flush', 'isatty', 'line_buffering', 'mode', 'name', 'newlines', 'read', 'readable', 'readline', 'readlines', 'seek', 'seekable', 'tell', 'truncate', 'writable', 'write', 'writelines']\n"
     ]
    }
   ],
   "source": [
    "f = open(\"../data/crops.txt\")\n",
    "print(type(f))\n",
    "print(dir(f))\n",
    "f.close()"
   ]
  },
  {
   "cell_type": "markdown",
   "metadata": {},
   "source": [
    "Say we write a function that gets a file and returns all the lines that start with a given prefix (say, 'Am'):"
   ]
  },
  {
   "cell_type": "code",
   "execution_count": 20,
   "metadata": {
    "collapsed": false
   },
   "outputs": [
    {
     "name": "stdout",
     "output_type": "stream",
     "text": [
      "['Amaranthus cruentus', 'Amaranthus spp.', 'Amaranthus viridis', 'Amomum subulatum', 'Amorphophallus konjac', 'Amorphophallus paeoniifolius']\n"
     ]
    }
   ],
   "source": [
    "def filter_by_prefix(file, prefix):\n",
    "    return [line.strip() for line in file if line.startswith(prefix)]\n",
    "\n",
    "with open('../data/crops.txt', 'r') as f:\n",
    "    print(filter_by_prefix(f, 'Am'))"
   ]
  },
  {
   "cell_type": "markdown",
   "metadata": {},
   "source": [
    "But now, say we want to read from `crops.txt.gz`, which is compressed with gzip. There is a module for reading gzipped files:"
   ]
  },
  {
   "cell_type": "code",
   "execution_count": 53,
   "metadata": {
    "collapsed": true
   },
   "outputs": [],
   "source": [
    "import gzip"
   ]
  },
  {
   "cell_type": "code",
   "execution_count": 54,
   "metadata": {
    "collapsed": false
   },
   "outputs": [
    {
     "name": "stdout",
     "output_type": "stream",
     "text": [
      "<class 'gzip.GzipFile'>\n",
      "['__abstractmethods__', '__class__', '__del__', '__delattr__', '__dict__', '__dir__', '__doc__', '__enter__', '__eq__', '__exit__', '__format__', '__ge__', '__getattribute__', '__gt__', '__hash__', '__init__', '__iter__', '__le__', '__lt__', '__module__', '__ne__', '__new__', '__next__', '__reduce__', '__reduce_ex__', '__repr__', '__setattr__', '__sizeof__', '__str__', '__subclasshook__', '_abc_cache', '_abc_negative_cache', '_abc_negative_cache_version', '_abc_registry', '_buffer', '_checkClosed', '_checkReadable', '_checkSeekable', '_checkWritable', '_check_can_read', '_check_can_seek', '_check_can_write', '_check_not_closed', '_init_write', '_write_gzip_header', 'close', 'closed', 'detach', 'filename', 'fileno', 'fileobj', 'flush', 'isatty', 'mode', 'mtime', 'myfileobj', 'name', 'peek', 'read', 'read1', 'readable', 'readinto', 'readinto1', 'readline', 'readlines', 'rewind', 'seek', 'seekable', 'tell', 'truncate', 'writable', 'write', 'writelines']\n",
      "False\n"
     ]
    }
   ],
   "source": [
    "gzfile = gzip.open(r'..\\data\\crops.txt.gz' ,'r')\n",
    "print(type(gzfile))\n",
    "print(dir(gzfile))\n",
    "print(isinstance(gzfile, f.__class__))\n",
    "gzfile.close()"
   ]
  },
  {
   "cell_type": "markdown",
   "metadata": {},
   "source": [
    "You notice that this is a different type than a file we opened with `open` (that would be `f`), and the is not even inheritance relationship (we know this because `isinstace` returned `False`). \n",
    "\n",
    "But our function `filter_by_prefix` doesn't care about the type, all it wants is an **object that you can loop over with a `for`**: an iterable object that implements the `__iter__` method by either:\n",
    "\n",
    "- returning an iterator, which is an object that has a `next` method and stops iteration by raising a `StopIteration` exception, or \n",
    "- using the `yield` statement, which creates a generator.\n",
    "\n",
    "Indeed, `gzfile` implements `__iter__`:"
   ]
  },
  {
   "cell_type": "code",
   "execution_count": 59,
   "metadata": {
    "collapsed": false
   },
   "outputs": [
    {
     "data": {
      "text/plain": [
       "True"
      ]
     },
     "execution_count": 59,
     "metadata": {},
     "output_type": "execute_result"
    }
   ],
   "source": [
    "hasattr(gzfile, '__iter__')"
   ]
  },
  {
   "cell_type": "markdown",
   "metadata": {},
   "source": [
    "So we can use it with our function:"
   ]
  },
  {
   "cell_type": "code",
   "execution_count": 56,
   "metadata": {
    "collapsed": false
   },
   "outputs": [
    {
     "name": "stdout",
     "output_type": "stream",
     "text": [
      "['Amaranthus cruentus', 'Amaranthus spp.', 'Amaranthus viridis', 'Amomum subulatum', 'Amorphophallus konjac', 'Amorphophallus paeoniifolius']\n"
     ]
    }
   ],
   "source": [
    "with gzip.open('../data/crops.txt.gz', 'rt') as gzfile: # rt is for reading text\n",
    "    print(filter_by_prefix(gzfile, 'Am'))"
   ]
  },
  {
   "cell_type": "markdown",
   "metadata": {},
   "source": [
    "It doesn't even have to be a file. A list is just as good:"
   ]
  },
  {
   "cell_type": "code",
   "execution_count": 55,
   "metadata": {
    "collapsed": false
   },
   "outputs": [
    {
     "name": "stdout",
     "output_type": "stream",
     "text": [
      "['America']\n"
     ]
    }
   ],
   "source": [
    "continents = ['America', 'Europe', 'Asia', 'Africa', 'Anarctica', 'Australia']\n",
    "print(filter_by_prefix(continents, 'Am'))"
   ]
  },
  {
   "cell_type": "markdown",
   "metadata": {},
   "source": [
    "# Destructor\n",
    "\n",
    "Python uses a garbase collector, and the standard CPython implementation uses reference counting and deletes objects when there are no more references to them.\n",
    "\n",
    "You can remove references using the `del` command (see in [Python Tutor](http://pythontutor.com/visualize.html#code=a+%3D+%5B1,2,3%5D%0Adel+a&mode=display&origin=opt-frontend.js&cumulative=false&heapPrimitives=false&textReferences=false&py=3&rawInputLstJSON=%5B%5D&curInstr=2)):"
   ]
  },
  {
   "cell_type": "code",
   "execution_count": 1,
   "metadata": {
    "collapsed": false
   },
   "outputs": [
    {
     "ename": "NameError",
     "evalue": "name 'a' is not defined",
     "output_type": "error",
     "traceback": [
      "\u001b[1;31m---------------------------------------------------------------------------\u001b[0m",
      "\u001b[1;31mNameError\u001b[0m                                 Traceback (most recent call last)",
      "\u001b[1;32m<ipython-input-1-714cf1bf571c>\u001b[0m in \u001b[0;36m<module>\u001b[1;34m()\u001b[0m\n\u001b[0;32m      1\u001b[0m \u001b[0ma\u001b[0m \u001b[1;33m=\u001b[0m \u001b[1;33m[\u001b[0m\u001b[1;36m1\u001b[0m\u001b[1;33m,\u001b[0m\u001b[1;36m2\u001b[0m\u001b[1;33m,\u001b[0m\u001b[1;36m3\u001b[0m\u001b[1;33m]\u001b[0m\u001b[1;33m\u001b[0m\u001b[0m\n\u001b[0;32m      2\u001b[0m \u001b[1;32mdel\u001b[0m \u001b[0ma\u001b[0m\u001b[1;33m\u001b[0m\u001b[0m\n\u001b[1;32m----> 3\u001b[1;33m \u001b[0ma\u001b[0m\u001b[1;33m\u001b[0m\u001b[0m\n\u001b[0m",
      "\u001b[1;31mNameError\u001b[0m: name 'a' is not defined"
     ]
    }
   ],
   "source": [
    "a = [1,2,3]\n",
    "del a\n",
    "a"
   ]
  },
  {
   "cell_type": "markdown",
   "metadata": {},
   "source": [
    "a = [1,2,3]\n",
    "del a"
   ]
  },
  {
   "cell_type": "markdown",
   "metadata": {},
   "source": [
    "You can implement the [`__del__`](https://docs.python.org/3.5/reference/datamodel.html#object.__del__) method which is called when an instance is about to be destroyed. \n",
    "This is also called a **destructor**. \n",
    "Similar to `__init__`, if a base (parent) class has a `__del__` method then you must explicitly call it. \n",
    "It is not guaranteed that __del__() methods are called for objects that still exist when the interpreter exits."
   ]
  },
  {
   "cell_type": "code",
   "execution_count": 12,
   "metadata": {
    "collapsed": false
   },
   "outputs": [],
   "source": [
    "class A:\n",
    "    def __init__(self, name):\n",
    "        self.name = name\n",
    "        print('Initialize')\n",
    "        \n",
    "    def __del__(self):\n",
    "        print('Delete')\n",
    "        \n",
    "    def __repr__(self):\n",
    "        return self.name"
   ]
  },
  {
   "cell_type": "code",
   "execution_count": 27,
   "metadata": {
    "collapsed": false
   },
   "outputs": [
    {
     "name": "stdout",
     "output_type": "stream",
     "text": [
      "Initialize\n",
      "Alex\n"
     ]
    }
   ],
   "source": [
    "a = A('Alex')\n",
    "print(a)"
   ]
  },
  {
   "cell_type": "code",
   "execution_count": 28,
   "metadata": {
    "collapsed": false
   },
   "outputs": [
    {
     "name": "stdout",
     "output_type": "stream",
     "text": [
      "Alex\n"
     ]
    }
   ],
   "source": [
    "b = a\n",
    "print(b)"
   ]
  },
  {
   "cell_type": "code",
   "execution_count": 29,
   "metadata": {
    "collapsed": false
   },
   "outputs": [
    {
     "name": "stdout",
     "output_type": "stream",
     "text": [
      "Alex\n"
     ]
    }
   ],
   "source": [
    "del a\n",
    "print(b)"
   ]
  },
  {
   "cell_type": "code",
   "execution_count": 30,
   "metadata": {
    "collapsed": false
   },
   "outputs": [
    {
     "name": "stdout",
     "output_type": "stream",
     "text": [
      "Delete\n"
     ]
    }
   ],
   "source": [
    "del b"
   ]
  },
  {
   "cell_type": "markdown",
   "metadata": {},
   "source": [
    "Note that several things can implicitly save a reference to your object, including the `_` variable name and stack traces."
   ]
  },
  {
   "cell_type": "markdown",
   "metadata": {},
   "source": [
    "# References\n",
    "\n",
    "- Python 3 [OOP tutorial](https://docs.python.org/3/tutorial/classes.html)\n",
    "- Leonardo Giordani's [OOP notebooks](http://nbviewer.jupyter.org/github/lgiordani/blog_source/blob/master/pelican/content/notebooks/Python_3_OOP_Part_3__Delegation__composition_and_inheritance.ipynb)\n",
    "- [ Fluent Python](http://shop.oreilly.com/product/0636920032519.do) by Luciano Ramalho is a great book for intermediate and advanced Python programmers.\n",
    "- [Python data model docs](https://docs.python.org/3.5/reference/datamodel.html)."
   ]
  },
  {
   "cell_type": "markdown",
   "metadata": {},
   "source": [
    "## Colophon\n",
    "This notebook was written by [Yoav Ram](http://www.yoavram.com) and is part of the _Python for Engineers_ course.\n",
    "\n",
    "The notebook was written using [Python](http://pytho.org/) 3.4.4, [IPython](http://ipython.org/) 4.0.3 and [Jupyter](http://jupyter.org) 4.0.6.\n",
    "\n",
    "This work is licensed under a CC BY-NC-SA 4.0 International License.\n",
    "\n",
    "![Python logo](https://www.python.org/static/community_logos/python-logo.png)"
   ]
  }
 ],
 "metadata": {
  "kernelspec": {
   "display_name": "Py4Eng",
   "language": "python",
   "name": "py4eng"
  },
  "language_info": {
   "codemirror_mode": {
    "name": "ipython",
    "version": 3
   },
   "file_extension": ".py",
   "mimetype": "text/x-python",
   "name": "python",
   "nbconvert_exporter": "python",
   "pygments_lexer": "ipython3",
   "version": "3.5.1"
  }
 },
 "nbformat": 4,
 "nbformat_minor": 0
}
