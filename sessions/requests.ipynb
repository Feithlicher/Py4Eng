{
 "cells": [
  {
   "cell_type": "code",
   "execution_count": 2,
   "metadata": {
    "collapsed": false
   },
   "outputs": [],
   "source": [
    "%matplotlib inline\n",
    "import matplotlib.pyplot as plt\n",
    "import requests as req\n",
    "import pandas as pd\n",
    "import io\n",
    "import seaborn as sns\n",
    "sns.set_style('white')\n",
    "sns.set_context('talk', font_scale=1.3)"
   ]
  },
  {
   "cell_type": "markdown",
   "metadata": {},
   "source": [
    "http://data.worldbank.org/developers/climate-data-api"
   ]
  },
  {
   "cell_type": "code",
   "execution_count": 3,
   "metadata": {
    "collapsed": false
   },
   "outputs": [
    {
     "data": {
      "text/plain": [
       "True"
      ]
     },
     "execution_count": 3,
     "metadata": {},
     "output_type": "execute_result"
    }
   ],
   "source": [
    "base_url = 'http://climatedataapi.worldbank.org/climateweb/rest/v1/country/{type}/{var}/{start}/{end}/{ISO3}.{ext}'\n",
    "url = base_url.format(\n",
    "    type='mavg', \n",
    "    var='tas', \n",
    "    start='1980', \n",
    "    end='1999', \n",
    "    ISO3='ISR',\n",
    "    ext='CSV'\n",
    ")\n",
    "r = req.get(url)\n",
    "r.ok"
   ]
  },
  {
   "cell_type": "code",
   "execution_count": 4,
   "metadata": {
    "collapsed": false
   },
   "outputs": [
    {
     "data": {
      "text/html": [
       "<div>\n",
       "<table border=\"1\" class=\"dataframe\">\n",
       "  <thead>\n",
       "    <tr style=\"text-align: right;\">\n",
       "      <th></th>\n",
       "      <th>GCM</th>\n",
       "      <th>var</th>\n",
       "      <th>from_year</th>\n",
       "      <th>to_year</th>\n",
       "      <th>Jan</th>\n",
       "      <th>Feb</th>\n",
       "      <th>Mar</th>\n",
       "      <th>Apr</th>\n",
       "      <th>May</th>\n",
       "      <th>Jun</th>\n",
       "      <th>Jul</th>\n",
       "      <th>Aug</th>\n",
       "      <th>Sep</th>\n",
       "      <th>Oct</th>\n",
       "      <th>Nov</th>\n",
       "      <th>Dec</th>\n",
       "    </tr>\n",
       "  </thead>\n",
       "  <tbody>\n",
       "    <tr>\n",
       "      <th>0</th>\n",
       "      <td>bccr_bcm2_0</td>\n",
       "      <td>tas</td>\n",
       "      <td>1980</td>\n",
       "      <td>1999</td>\n",
       "      <td>8.594574</td>\n",
       "      <td>8.757947</td>\n",
       "      <td>12.575378</td>\n",
       "      <td>16.695300</td>\n",
       "      <td>20.413159</td>\n",
       "      <td>25.315222</td>\n",
       "      <td>27.475958</td>\n",
       "      <td>28.146106</td>\n",
       "      <td>25.143445</td>\n",
       "      <td>20.962109</td>\n",
       "      <td>14.431799</td>\n",
       "      <td>10.418817</td>\n",
       "    </tr>\n",
       "    <tr>\n",
       "      <th>1</th>\n",
       "      <td>cccma_cgcm3_1</td>\n",
       "      <td>tas</td>\n",
       "      <td>1980</td>\n",
       "      <td>1999</td>\n",
       "      <td>6.280994</td>\n",
       "      <td>8.580640</td>\n",
       "      <td>12.744287</td>\n",
       "      <td>16.525452</td>\n",
       "      <td>22.133356</td>\n",
       "      <td>27.515356</td>\n",
       "      <td>29.610681</td>\n",
       "      <td>29.197205</td>\n",
       "      <td>26.051501</td>\n",
       "      <td>20.656604</td>\n",
       "      <td>12.979272</td>\n",
       "      <td>7.531482</td>\n",
       "    </tr>\n",
       "    <tr>\n",
       "      <th>2</th>\n",
       "      <td>cnrm_cm3</td>\n",
       "      <td>tas</td>\n",
       "      <td>1980</td>\n",
       "      <td>1999</td>\n",
       "      <td>6.547192</td>\n",
       "      <td>8.257971</td>\n",
       "      <td>11.776349</td>\n",
       "      <td>15.438745</td>\n",
       "      <td>20.200446</td>\n",
       "      <td>23.843384</td>\n",
       "      <td>26.824713</td>\n",
       "      <td>28.402698</td>\n",
       "      <td>25.039374</td>\n",
       "      <td>20.125836</td>\n",
       "      <td>13.628564</td>\n",
       "      <td>8.344073</td>\n",
       "    </tr>\n",
       "    <tr>\n",
       "      <th>3</th>\n",
       "      <td>csiro_mk3_5</td>\n",
       "      <td>tas</td>\n",
       "      <td>1980</td>\n",
       "      <td>1999</td>\n",
       "      <td>12.499066</td>\n",
       "      <td>14.295117</td>\n",
       "      <td>17.515759</td>\n",
       "      <td>20.647864</td>\n",
       "      <td>24.000433</td>\n",
       "      <td>28.031116</td>\n",
       "      <td>29.410480</td>\n",
       "      <td>28.956171</td>\n",
       "      <td>25.853973</td>\n",
       "      <td>21.938806</td>\n",
       "      <td>16.611584</td>\n",
       "      <td>12.818268</td>\n",
       "    </tr>\n",
       "    <tr>\n",
       "      <th>4</th>\n",
       "      <td>gfdl_cm2_0</td>\n",
       "      <td>tas</td>\n",
       "      <td>1980</td>\n",
       "      <td>1999</td>\n",
       "      <td>7.266522</td>\n",
       "      <td>8.518323</td>\n",
       "      <td>11.639929</td>\n",
       "      <td>16.201721</td>\n",
       "      <td>19.158258</td>\n",
       "      <td>23.144568</td>\n",
       "      <td>25.228821</td>\n",
       "      <td>25.280566</td>\n",
       "      <td>22.753253</td>\n",
       "      <td>17.921765</td>\n",
       "      <td>12.754871</td>\n",
       "      <td>9.115472</td>\n",
       "    </tr>\n",
       "  </tbody>\n",
       "</table>\n",
       "</div>"
      ],
      "text/plain": [
       "             GCM  var  from_year  to_year        Jan        Feb        Mar  \\\n",
       "0    bccr_bcm2_0  tas       1980     1999   8.594574   8.757947  12.575378   \n",
       "1  cccma_cgcm3_1  tas       1980     1999   6.280994   8.580640  12.744287   \n",
       "2       cnrm_cm3  tas       1980     1999   6.547192   8.257971  11.776349   \n",
       "3    csiro_mk3_5  tas       1980     1999  12.499066  14.295117  17.515759   \n",
       "4     gfdl_cm2_0  tas       1980     1999   7.266522   8.518323  11.639929   \n",
       "\n",
       "         Apr        May        Jun        Jul        Aug        Sep  \\\n",
       "0  16.695300  20.413159  25.315222  27.475958  28.146106  25.143445   \n",
       "1  16.525452  22.133356  27.515356  29.610681  29.197205  26.051501   \n",
       "2  15.438745  20.200446  23.843384  26.824713  28.402698  25.039374   \n",
       "3  20.647864  24.000433  28.031116  29.410480  28.956171  25.853973   \n",
       "4  16.201721  19.158258  23.144568  25.228821  25.280566  22.753253   \n",
       "\n",
       "         Oct        Nov        Dec  \n",
       "0  20.962109  14.431799  10.418817  \n",
       "1  20.656604  12.979272   7.531482  \n",
       "2  20.125836  13.628564   8.344073  \n",
       "3  21.938806  16.611584  12.818268  \n",
       "4  17.921765  12.754871   9.115472  "
      ]
     },
     "execution_count": 4,
     "metadata": {},
     "output_type": "execute_result"
    }
   ],
   "source": [
    "with io.StringIO(r.text) as f:\n",
    "    data = pd.read_csv(f)\n",
    "data.head()"
   ]
  },
  {
   "cell_type": "code",
   "execution_count": 5,
   "metadata": {
    "collapsed": false
   },
   "outputs": [
    {
     "data": {
      "text/html": [
       "<div>\n",
       "<table border=\"1\" class=\"dataframe\">\n",
       "  <thead>\n",
       "    <tr style=\"text-align: right;\">\n",
       "      <th></th>\n",
       "      <th>GCM</th>\n",
       "      <th>var</th>\n",
       "      <th>from_year</th>\n",
       "      <th>to_year</th>\n",
       "      <th>Month</th>\n",
       "      <th>Temp.</th>\n",
       "    </tr>\n",
       "  </thead>\n",
       "  <tbody>\n",
       "    <tr>\n",
       "      <th>0</th>\n",
       "      <td>bccr_bcm2_0</td>\n",
       "      <td>tas</td>\n",
       "      <td>1980</td>\n",
       "      <td>1999</td>\n",
       "      <td>Jan</td>\n",
       "      <td>8.594574</td>\n",
       "    </tr>\n",
       "    <tr>\n",
       "      <th>1</th>\n",
       "      <td>cccma_cgcm3_1</td>\n",
       "      <td>tas</td>\n",
       "      <td>1980</td>\n",
       "      <td>1999</td>\n",
       "      <td>Jan</td>\n",
       "      <td>6.280994</td>\n",
       "    </tr>\n",
       "    <tr>\n",
       "      <th>2</th>\n",
       "      <td>cnrm_cm3</td>\n",
       "      <td>tas</td>\n",
       "      <td>1980</td>\n",
       "      <td>1999</td>\n",
       "      <td>Jan</td>\n",
       "      <td>6.547192</td>\n",
       "    </tr>\n",
       "    <tr>\n",
       "      <th>3</th>\n",
       "      <td>csiro_mk3_5</td>\n",
       "      <td>tas</td>\n",
       "      <td>1980</td>\n",
       "      <td>1999</td>\n",
       "      <td>Jan</td>\n",
       "      <td>12.499066</td>\n",
       "    </tr>\n",
       "    <tr>\n",
       "      <th>4</th>\n",
       "      <td>gfdl_cm2_0</td>\n",
       "      <td>tas</td>\n",
       "      <td>1980</td>\n",
       "      <td>1999</td>\n",
       "      <td>Jan</td>\n",
       "      <td>7.266522</td>\n",
       "    </tr>\n",
       "  </tbody>\n",
       "</table>\n",
       "</div>"
      ],
      "text/plain": [
       "             GCM  var  from_year  to_year Month      Temp.\n",
       "0    bccr_bcm2_0  tas       1980     1999   Jan   8.594574\n",
       "1  cccma_cgcm3_1  tas       1980     1999   Jan   6.280994\n",
       "2       cnrm_cm3  tas       1980     1999   Jan   6.547192\n",
       "3    csiro_mk3_5  tas       1980     1999   Jan  12.499066\n",
       "4     gfdl_cm2_0  tas       1980     1999   Jan   7.266522"
      ]
     },
     "execution_count": 5,
     "metadata": {},
     "output_type": "execute_result"
    }
   ],
   "source": [
    "data = pd.melt(\n",
    "    data,  \n",
    "    id_vars=['GCM', 'var', 'from_year', 'to_year'],    \n",
    "    value_name='Temp.',\n",
    "    var_name='Month'\n",
    ")\n",
    "data.head()"
   ]
  },
  {
   "cell_type": "code",
   "execution_count": 6,
   "metadata": {
    "collapsed": false
   },
   "outputs": [
    {
     "data": {
      "text/plain": [
       "Month\n",
       "Jan     8.991307\n",
       "Feb    10.483740\n",
       "Mar    13.659174\n",
       "Apr    17.379219\n",
       "May    21.429948\n",
       "Name: Temp., dtype: float64"
      ]
     },
     "execution_count": 6,
     "metadata": {},
     "output_type": "execute_result"
    }
   ],
   "source": [
    "avg = data.groupby(by='Month')['Temp.'].mean()\n",
    "avg = avg[['Jan', 'Feb', 'Mar', 'Apr', 'May' ,'Jun', 'Jul' ,'Aug', 'Sep', 'Oct', 'Nov', 'Dec']]\n",
    "avg.head()"
   ]
  },
  {
   "cell_type": "code",
   "execution_count": 7,
   "metadata": {
    "collapsed": false
   },
   "outputs": [
    {
     "data": {
      "image/png": "[encoded data removed]",
      "text/plain": [
       "<matplotlib.figure.Figure at 0x93bdbe0>"
      ]
     },
     "metadata": {},
     "output_type": "display_data"
    }
   ],
   "source": [
    "avg.plot.bar(color='k', width=0.75,  lw=2)\n",
    "sns.despine()"
   ]
  },
  {
   "cell_type": "code",
   "execution_count": 8,
   "metadata": {
    "collapsed": false
   },
   "outputs": [
    {
     "data": {
      "image/png": "[encoded data removed]",
      "text/plain": [
       "<matplotlib.figure.Figure at 0x9696d68>"
      ]
     },
     "metadata": {},
     "output_type": "display_data"
    }
   ],
   "source": [
    "sns.boxplot(x='Month', y='Temp.', data=data, color='w')\n",
    "sns.despine()"
   ]
  },
  {
   "cell_type": "code",
   "execution_count": null,
   "metadata": {
    "collapsed": true
   },
   "outputs": [],
   "source": []
  },
  {
   "cell_type": "markdown",
   "metadata": {},
   "source": [
    "https://api.stackexchange.com/docs/tags"
   ]
  },
  {
   "cell_type": "code",
   "execution_count": 9,
   "metadata": {
    "collapsed": false
   },
   "outputs": [
    {
     "data": {
      "text/plain": [
       "True"
      ]
     },
     "execution_count": 9,
     "metadata": {},
     "output_type": "execute_result"
    }
   ],
   "source": [
    "base_url = \"https://api.stackexchange.com\"\n",
    "query = \"/2.2/tags?page=1&pagesize=10&order=desc&sort=popular&site=stackoverflow\"\n",
    "\n",
    "r = req.get(base_url + query)\n",
    "r.ok"
   ]
  },
  {
   "cell_type": "code",
   "execution_count": 10,
   "metadata": {
    "collapsed": false
   },
   "outputs": [
    {
     "data": {
      "text/plain": [
       "dict_keys(['quota_remaining', 'items', 'quota_max', 'has_more'])"
      ]
     },
     "execution_count": 10,
     "metadata": {},
     "output_type": "execute_result"
    }
   ],
   "source": [
    "r.json().keys()"
   ]
  },
  {
   "cell_type": "code",
   "execution_count": 11,
   "metadata": {
    "collapsed": false
   },
   "outputs": [
    {
     "data": {
      "text/html": [
       "<div>\n",
       "<table border=\"1\" class=\"dataframe\">\n",
       "  <thead>\n",
       "    <tr style=\"text-align: right;\">\n",
       "      <th></th>\n",
       "      <th>count</th>\n",
       "      <th>has_synonyms</th>\n",
       "      <th>is_moderator_only</th>\n",
       "      <th>is_required</th>\n",
       "      <th>name</th>\n",
       "    </tr>\n",
       "  </thead>\n",
       "  <tbody>\n",
       "    <tr>\n",
       "      <th>0</th>\n",
       "      <td>1059749</td>\n",
       "      <td>True</td>\n",
       "      <td>False</td>\n",
       "      <td>False</td>\n",
       "      <td>javascript</td>\n",
       "    </tr>\n",
       "    <tr>\n",
       "      <th>1</th>\n",
       "      <td>1019886</td>\n",
       "      <td>True</td>\n",
       "      <td>False</td>\n",
       "      <td>False</td>\n",
       "      <td>java</td>\n",
       "    </tr>\n",
       "    <tr>\n",
       "      <th>2</th>\n",
       "      <td>914569</td>\n",
       "      <td>True</td>\n",
       "      <td>False</td>\n",
       "      <td>False</td>\n",
       "      <td>c#</td>\n",
       "    </tr>\n",
       "    <tr>\n",
       "      <th>3</th>\n",
       "      <td>880898</td>\n",
       "      <td>True</td>\n",
       "      <td>False</td>\n",
       "      <td>False</td>\n",
       "      <td>php</td>\n",
       "    </tr>\n",
       "    <tr>\n",
       "      <th>4</th>\n",
       "      <td>796454</td>\n",
       "      <td>True</td>\n",
       "      <td>False</td>\n",
       "      <td>False</td>\n",
       "      <td>android</td>\n",
       "    </tr>\n",
       "    <tr>\n",
       "      <th>5</th>\n",
       "      <td>709341</td>\n",
       "      <td>True</td>\n",
       "      <td>False</td>\n",
       "      <td>False</td>\n",
       "      <td>jquery</td>\n",
       "    </tr>\n",
       "    <tr>\n",
       "      <th>6</th>\n",
       "      <td>538663</td>\n",
       "      <td>True</td>\n",
       "      <td>False</td>\n",
       "      <td>False</td>\n",
       "      <td>python</td>\n",
       "    </tr>\n",
       "    <tr>\n",
       "      <th>7</th>\n",
       "      <td>507920</td>\n",
       "      <td>True</td>\n",
       "      <td>False</td>\n",
       "      <td>False</td>\n",
       "      <td>html</td>\n",
       "    </tr>\n",
       "    <tr>\n",
       "      <th>8</th>\n",
       "      <td>429706</td>\n",
       "      <td>True</td>\n",
       "      <td>False</td>\n",
       "      <td>False</td>\n",
       "      <td>c++</td>\n",
       "    </tr>\n",
       "    <tr>\n",
       "      <th>9</th>\n",
       "      <td>412212</td>\n",
       "      <td>True</td>\n",
       "      <td>False</td>\n",
       "      <td>False</td>\n",
       "      <td>ios</td>\n",
       "    </tr>\n",
       "  </tbody>\n",
       "</table>\n",
       "</div>"
      ],
      "text/plain": [
       "     count has_synonyms is_moderator_only is_required        name\n",
       "0  1059749         True             False       False  javascript\n",
       "1  1019886         True             False       False        java\n",
       "2   914569         True             False       False          c#\n",
       "3   880898         True             False       False         php\n",
       "4   796454         True             False       False     android\n",
       "5   709341         True             False       False      jquery\n",
       "6   538663         True             False       False      python\n",
       "7   507920         True             False       False        html\n",
       "8   429706         True             False       False         c++\n",
       "9   412212         True             False       False         ios"
      ]
     },
     "execution_count": 11,
     "metadata": {},
     "output_type": "execute_result"
    }
   ],
   "source": [
    "df = pd.DataFrame(r.json()['items'])\n",
    "df"
   ]
  },
  {
   "cell_type": "code",
   "execution_count": 12,
   "metadata": {
    "collapsed": false
   },
   "outputs": [
    {
     "data": {
      "text/plain": [
       "True"
      ]
     },
     "execution_count": 12,
     "metadata": {},
     "output_type": "execute_result"
    }
   ],
   "source": [
    "query = '/2.2/tags?page=1&pagesize=1&order=desc&sort=popular&inname=matlab&site=stackoverflow'\n",
    "r = req.get(base_url + query)\n",
    "r.ok"
   ]
  },
  {
   "cell_type": "code",
   "execution_count": 13,
   "metadata": {
    "collapsed": false
   },
   "outputs": [
    {
     "data": {
      "text/html": [
       "<div>\n",
       "<table border=\"1\" class=\"dataframe\">\n",
       "  <thead>\n",
       "    <tr style=\"text-align: right;\">\n",
       "      <th></th>\n",
       "      <th>count</th>\n",
       "      <th>has_synonyms</th>\n",
       "      <th>is_moderator_only</th>\n",
       "      <th>is_required</th>\n",
       "      <th>name</th>\n",
       "    </tr>\n",
       "  </thead>\n",
       "  <tbody>\n",
       "    <tr>\n",
       "      <th>0</th>\n",
       "      <td>1059749</td>\n",
       "      <td>True</td>\n",
       "      <td>False</td>\n",
       "      <td>False</td>\n",
       "      <td>javascript</td>\n",
       "    </tr>\n",
       "    <tr>\n",
       "      <th>1</th>\n",
       "      <td>1019886</td>\n",
       "      <td>True</td>\n",
       "      <td>False</td>\n",
       "      <td>False</td>\n",
       "      <td>java</td>\n",
       "    </tr>\n",
       "    <tr>\n",
       "      <th>2</th>\n",
       "      <td>914569</td>\n",
       "      <td>True</td>\n",
       "      <td>False</td>\n",
       "      <td>False</td>\n",
       "      <td>c#</td>\n",
       "    </tr>\n",
       "    <tr>\n",
       "      <th>3</th>\n",
       "      <td>880898</td>\n",
       "      <td>True</td>\n",
       "      <td>False</td>\n",
       "      <td>False</td>\n",
       "      <td>php</td>\n",
       "    </tr>\n",
       "    <tr>\n",
       "      <th>4</th>\n",
       "      <td>796454</td>\n",
       "      <td>True</td>\n",
       "      <td>False</td>\n",
       "      <td>False</td>\n",
       "      <td>android</td>\n",
       "    </tr>\n",
       "    <tr>\n",
       "      <th>5</th>\n",
       "      <td>709341</td>\n",
       "      <td>True</td>\n",
       "      <td>False</td>\n",
       "      <td>False</td>\n",
       "      <td>jquery</td>\n",
       "    </tr>\n",
       "    <tr>\n",
       "      <th>6</th>\n",
       "      <td>538663</td>\n",
       "      <td>True</td>\n",
       "      <td>False</td>\n",
       "      <td>False</td>\n",
       "      <td>python</td>\n",
       "    </tr>\n",
       "    <tr>\n",
       "      <th>7</th>\n",
       "      <td>507920</td>\n",
       "      <td>True</td>\n",
       "      <td>False</td>\n",
       "      <td>False</td>\n",
       "      <td>html</td>\n",
       "    </tr>\n",
       "    <tr>\n",
       "      <th>8</th>\n",
       "      <td>429706</td>\n",
       "      <td>True</td>\n",
       "      <td>False</td>\n",
       "      <td>False</td>\n",
       "      <td>c++</td>\n",
       "    </tr>\n",
       "    <tr>\n",
       "      <th>9</th>\n",
       "      <td>412212</td>\n",
       "      <td>True</td>\n",
       "      <td>False</td>\n",
       "      <td>False</td>\n",
       "      <td>ios</td>\n",
       "    </tr>\n",
       "    <tr>\n",
       "      <th>0</th>\n",
       "      <td>57466</td>\n",
       "      <td>True</td>\n",
       "      <td>False</td>\n",
       "      <td>False</td>\n",
       "      <td>matlab</td>\n",
       "    </tr>\n",
       "  </tbody>\n",
       "</table>\n",
       "</div>"
      ],
      "text/plain": [
       "     count has_synonyms is_moderator_only is_required        name\n",
       "0  1059749         True             False       False  javascript\n",
       "1  1019886         True             False       False        java\n",
       "2   914569         True             False       False          c#\n",
       "3   880898         True             False       False         php\n",
       "4   796454         True             False       False     android\n",
       "5   709341         True             False       False      jquery\n",
       "6   538663         True             False       False      python\n",
       "7   507920         True             False       False        html\n",
       "8   429706         True             False       False         c++\n",
       "9   412212         True             False       False         ios\n",
       "0    57466         True             False       False      matlab"
      ]
     },
     "execution_count": 13,
     "metadata": {},
     "output_type": "execute_result"
    }
   ],
   "source": [
    "df = pd.concat((df, pd.DataFrame(r.json()['items'])))\n",
    "df.sort_values('count', ascending=False, inplace=True)\n",
    "df"
   ]
  },
  {
   "cell_type": "code",
   "execution_count": 14,
   "metadata": {
    "collapsed": false
   },
   "outputs": [
    {
     "name": "stdout",
     "output_type": "stream",
     "text": [
      "6 10\n"
     ]
    }
   ],
   "source": [
    "python_idx = (df.name == 'python').values.argmax()\n",
    "matlab_idx = (df.name == 'matlab').values.argmax()\n",
    "print(python_idx, matlab_idx)"
   ]
  },
  {
   "cell_type": "code",
   "execution_count": 15,
   "metadata": {
    "collapsed": false
   },
   "outputs": [
    {
     "data": {
      "image/png": "[encoded data removed]",
      "text/plain": [
       "<matplotlib.figure.Figure at 0xabb1a58>"
      ]
     },
     "metadata": {},
     "output_type": "display_data"
    }
   ],
   "source": [
    "ax = df.plot.barh('name', 'count', color='k')\n",
    "patches, labels = ax.get_legend_handles_labels()\n",
    "patches[0][python_idx].set_color('green')\n",
    "patches[0][matlab_idx].set_color('orange')\n",
    "plt.ylabel('StackOverflow tag name')\n",
    "plt.xlabel('Count')\n",
    "plt.legend().set_visible(False)\n",
    "sns.despine()"
   ]
  },
  {
   "cell_type": "code",
   "execution_count": null,
   "metadata": {
    "collapsed": true
   },
   "outputs": [],
   "source": []
  }
 ],
 "metadata": {
  "kernelspec": {
   "display_name": "Py4Eng",
   "language": "python",
   "name": "py4eng"
  },
  "language_info": {
   "codemirror_mode": {
    "name": "ipython",
    "version": 3
   },
   "file_extension": ".py",
   "mimetype": "text/x-python",
   "name": "python",
   "nbconvert_exporter": "python",
   "pygments_lexer": "ipython3",
   "version": "3.5.1"
  }
 },
 "nbformat": 4,
 "nbformat_minor": 0
}
