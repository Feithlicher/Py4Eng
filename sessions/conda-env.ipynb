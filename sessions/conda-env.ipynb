{
 "cells": [
  {
   "cell_type": "markdown",
   "metadata": {},
   "source": [
    "\n",
    "![Py4Eng](img/logo.png)\n",
    "\n",
    "# Conda virtual environments\n",
    "## Yoav Ram"
   ]
  },
  {
   "cell_type": "markdown",
   "metadata": {},
   "source": [
    "We know that conda is a package manager. But conda is also an [environment manager](http://conda.pydata.org/docs/using/envs.html):\n",
    "\n",
    "A conda environment is a directory (usually inside the `Anaconda` folder) that contains a specific collection of conda packages that you have installed - this includes a specific Python version. \n",
    "For example, you may have one environment with NumPy 1.7 and its dependencies, \n",
    "and another environment with NumPy 1.6 for legacy testing. \n",
    "If you change one environment, your other environments are not affected. \n",
    "You can easily switch between these environments. \n",
    "You can also share your environment with someone by giving them a copy of an `environment.yaml` file.\n",
    "\n",
    "Environments are very useful:\n",
    "\n",
    "- Testing code with different Python and package versions\n",
    "- Trying new packages without polluting our root environment (including new Python versions)\n",
    "- Separating projects with different dependencies: old project can go on using old version of package, new project can use new version, even if it's not backward compatible.\n",
    "- Reproducing someone elses exact environment\n",
    "\n",
    "# Example\n",
    "\n",
    "Right now we are working with the *root* environment, which was probably installed with Python 3.5 (Feb 2016).\n",
    "Let's create a new environment with Python 3.4 and install NumPy, SciPy, Matplotlib, and PySide. \n",
    "The motivation for this exercise is that, as of March 2016, PySide (an alternative binding for the Qt GUI framework) [doesn't support Python 3.5](https://github.com/PySide/pyside-setup/issues/53). \n",
    "\n",
    "We start by updating conda itself:"
   ]
  },
  {
   "cell_type": "code",
   "execution_count": 1,
   "metadata": {
    "collapsed": false
   },
   "outputs": [
    {
     "name": "stdout",
     "output_type": "stream",
     "text": [
      "Fetching package metadata: ......\n",
      "Solving package specifications: ................\n",
      "Package plan for installation in environment D:\\Anaconda3:\n",
      "\n",
      "The following packages will be downloaded:\n",
      "\n",
      "    package                    |            build\n",
      "    ---------------------------|-----------------\n",
      "    pyyaml-3.11                |           py34_3         118 KB\n",
      "    conda-4.0.0                |           py34_0         232 KB\n",
      "    ------------------------------------------------------------\n",
      "                                           Total:         350 KB\n",
      "\n",
      "The following packages will be UPDATED:\n",
      "\n",
      "    conda:  3.19.3-py34_0 --> 4.0.0-py34_0\n",
      "    pyyaml: 3.11-py34_2   --> 3.11-py34_3 \n",
      "\n"
     ]
    },
    {
     "name": "stderr",
     "output_type": "stream",
     "text": [
      "Using Anaconda Cloud api site https://api.anaconda.org\n"
     ]
    }
   ],
   "source": [
    "!conda update -y -q conda"
   ]
  },
  {
   "cell_type": "markdown",
   "metadata": {},
   "source": [
    "Next, we create a new environment called `py34` and ask conda to install Python 3.5, NumPy, SciPy, and Matplotlib. This could take a while as conda will probably download all these packages from the web, unless you've already downloaded them in the past (conda keeps a cache of previous downloads)."
   ]
  },
  {
   "cell_type": "code",
   "execution_count": 2,
   "metadata": {
    "collapsed": false
   },
   "outputs": [
    {
     "name": "stdout",
     "output_type": "stream",
     "text": [
      "Fetching package metadata: ......\n",
      "Solving package specifications: ...........\n",
      "\n",
      "Package plan for installation in environment D:\\Anaconda3\\envs\\py34:\n",
      "\n",
      "The following NEW packages will be INSTALLED:\n",
      "\n",
      "    pip:        8.0.3-py34_0 \n",
      "    python:     3.4.3-0      \n",
      "    setuptools: 20.1.1-py34_0\n",
      "    wheel:      0.29.0-py34_0\n",
      "\n",
      "#\n",
      "# To activate this environment, use:\n",
      "# > activate py34\n",
      "#\n"
     ]
    },
    {
     "name": "stderr",
     "output_type": "stream",
     "text": [
      "Using Anaconda Cloud api site https://api.anaconda.org\n"
     ]
    }
   ],
   "source": [
    "!conda create -y -q -n py34 python=3.4"
   ]
  },
  {
   "cell_type": "markdown",
   "metadata": {},
   "source": [
    "OK, conda suggest we activate this environment - that is, switch to it. This would work great in the terminal, but not in the notebook, as every `!` command uses a new console. To switch back to the *root* environment you can type `deactivate`.\n",
    "\n",
    "We will need to install *ipykernel* which will allow us to use this new environment in the notebook."
   ]
  },
  {
   "cell_type": "code",
   "execution_count": 5,
   "metadata": {
    "collapsed": false
   },
   "outputs": [
    {
     "name": "stdout",
     "output_type": "stream",
     "text": [
      "Fetching package metadata: ......\n",
      "Solving package specifications: ...........\n",
      "\n",
      "Package plan for installation in environment D:\\Anaconda3\\envs\\py34:\n",
      "\n",
      "The following NEW packages will be INSTALLED:\n",
      "\n",
      "    backports_abc:    0.4-py34_0   \n",
      "    decorator:        4.0.9-py34_0 \n",
      "    ipykernel:        4.3.1-py34_0 \n",
      "    ipython:          4.1.2-py34_0 \n",
      "    ipython_genutils: 0.1.0-py34_0 \n",
      "    jupyter_client:   4.1.1-py34_0 \n",
      "    jupyter_core:     4.0.6-py34_0 \n",
      "    path.py:          8.1.2-py34_1 \n",
      "    pickleshare:      0.5-py34_0   \n",
      "    pyreadline:       2.1-py34_0   \n",
      "    pyzmq:            15.2.0-py34_0\n",
      "    simplegeneric:    0.8.1-py34_0 \n",
      "    tornado:          4.3-py34_0   \n",
      "    traitlets:        4.1.0-py34_0 \n",
      "\n"
     ]
    },
    {
     "name": "stderr",
     "output_type": "stream",
     "text": [
      "Using Anaconda Cloud api site https://api.anaconda.org\n"
     ]
    }
   ],
   "source": [
    "!conda install -y -q -n py34 ipykernel"
   ]
  },
  {
   "cell_type": "markdown",
   "metadata": {},
   "source": [
    "We need to install PySide using pip because there is not conda package for PySide on Python 3.4 (check with `conda info pyside`). We call `activate py34` before calling `pip` to make sure pip is called from the correct environment.\n",
    "\n",
    "Unfortunately, on Windows pip will try to build PySide and will probably fail (though you can try it...), so we will get a wheel package from [Cristoph Gohlke's site](http://www.lfd.uci.edu/~gohlke/pythonlibs/#pyside) and install directly from it. Make sure you put the correct path to the `.whl` file."
   ]
  },
  {
   "cell_type": "code",
   "execution_count": 13,
   "metadata": {
    "collapsed": false
   },
   "outputs": [
    {
     "name": "stdout",
     "output_type": "stream",
     "text": [
      "Deactivating environment \"D:\\Anaconda3\"...\n",
      "Activating environment \"D:\\Anaconda3\\envs\\py34\"...\n",
      "Processing d:\\wheelhouse\\pyside-1.2.2-cp34-none-win_amd64.whl\n",
      "Installing collected packages: PySide\n",
      "Successfully installed PySide-1.2.2\n"
     ]
    },
    {
     "name": "stderr",
     "output_type": "stream",
     "text": [
      "You are using pip version 8.0.3, however version 8.1.0 is available.\n",
      "You should consider upgrading via the 'python -m pip install --upgrade pip' command.\n"
     ]
    }
   ],
   "source": [
    "# !activate py34 & pip install PySide\n",
    "!activate py34 & pip install D:\\wheelhouse\\PySide-1.2.2-cp34-none-win_amd64.whl"
   ]
  },
  {
   "cell_type": "markdown",
   "metadata": {},
   "source": [
    "We want to let IPython know that this new environment should be available as a kernel for the notebook. This is done with IPython's `kernel` command:"
   ]
  },
  {
   "cell_type": "code",
   "execution_count": 14,
   "metadata": {
    "collapsed": false
   },
   "outputs": [
    {
     "name": "stdout",
     "output_type": "stream",
     "text": [
      "Deactivating environment \"D:\\Anaconda3\"...\n",
      "Activating environment \"D:\\Anaconda3\\envs\\py34\"...\n",
      "Installed kernelspec Python 3.4 in C:\\ProgramData\\jupyter\\kernels\\python 3.4\n"
     ]
    }
   ],
   "source": [
    "!activate py34 & ipython kernel install --name \"Python 3.4\""
   ]
  },
  {
   "cell_type": "markdown",
   "metadata": {},
   "source": [
    "You can now change the kernel to *Python 3.4* in the top menu `Kernel -> Change kernel`. You might need to reload the notebook or even the notebook server.\n",
    "\n",
    "Finally, let's install all the extra packages we want:"
   ]
  },
  {
   "cell_type": "code",
   "execution_count": 2,
   "metadata": {
    "collapsed": false
   },
   "outputs": [
    {
     "name": "stdout",
     "output_type": "stream",
     "text": [
      "Fetching package metadata: ......\n",
      "Solving package specifications: ...........\n",
      "\n",
      "Package plan for installation in environment D:\\Anaconda3\\envs\\py34:\n",
      "\n",
      "The following NEW packages will be INSTALLED:\n",
      "\n",
      "    matplotlib:      1.4.3-np110py34_1 \n",
      "    mkl:             11.3.1-0          \n",
      "    numpy:           1.10.4-py34_0     \n",
      "    pandas:          0.17.1-np110py34_0\n",
      "    pyparsing:       2.0.3-py34_0      \n",
      "    pyqt:            4.10.4-py34_1     \n",
      "    python-dateutil: 2.4.2-py34_0      \n",
      "    pytz:            2015.7-py34_0     \n",
      "    scipy:           0.17.0-np110py34_0\n",
      "    seaborn:         0.7.0-py34_0      \n",
      "    six:             1.10.0-py34_0     \n",
      "\n"
     ]
    },
    {
     "name": "stderr",
     "output_type": "stream",
     "text": [
      "Using Anaconda Cloud api site https://api.anaconda.org\n"
     ]
    }
   ],
   "source": [
    "!conda install -y -q -n py34 numpy scipy matplotlib seaborn"
   ]
  },
  {
   "cell_type": "markdown",
   "metadata": {},
   "source": [
    "That's it, we installed a new conda environment and installed the required packages.\n",
    "\n",
    "We can remove an environment with `conda env remove -n <env-name>` and also write all the environment details to a file with `conda env export -n <env-name> > environment.yml`, which looks like this:"
   ]
  },
  {
   "cell_type": "code",
   "execution_count": 4,
   "metadata": {
    "collapsed": false
   },
   "outputs": [],
   "source": [
    "%less ../environment.yml"
   ]
  },
  {
   "cell_type": "markdown",
   "metadata": {},
   "source": [
    "We can then install an environment using this file with `conda create -n <env-name> --file environment.yml`."
   ]
  },
  {
   "cell_type": "markdown",
   "metadata": {},
   "source": [
    "# References\n",
    "\n",
    "- [Managing environments with conda](http://conda.pydata.org/docs/using/envs.html)\n",
    "- Slides: [Packaging and deployment with conda](https://speakerdeck.com/teoliphant/packaging-and-deployment-with-conda) by Travis Oliphant."
   ]
  },
  {
   "cell_type": "markdown",
   "metadata": {},
   "source": [
    "## Colophon\n",
    "This notebook was written by [Yoav Ram](http://www.yoavram.com) and is part of the _Python for Engineers_ course.\n",
    "\n",
    "The notebook was written using [Python](http://pytho.org/) 3.4.4, [IPython](http://ipython.org/) 4.0.3 and [Jupyter](http://jupyter.org) 4.0.6.\n",
    "\n",
    "This work is licensed under a CC BY-NC-SA 4.0 International License.\n",
    "\n",
    "![Python logo](https://www.python.org/static/community_logos/python-logo.png)"
   ]
  }
 ],
 "metadata": {
  "kernelspec": {
   "display_name": "Python 3.4",
   "language": "python",
   "name": "python 3.4"
  },
  "language_info": {
   "codemirror_mode": {
    "name": "ipython",
    "version": 3
   },
   "file_extension": ".py",
   "mimetype": "text/x-python",
   "name": "python",
   "nbconvert_exporter": "python",
   "pygments_lexer": "ipython3",
   "version": "3.4.3"
  }
 },
 "nbformat": 4,
 "nbformat_minor": 0
}
