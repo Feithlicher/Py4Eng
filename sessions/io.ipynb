{
 "cells": [
  {
   "cell_type": "markdown",
   "metadata": {},
   "source": [
    "![Py4Eng](https://dl.dropboxusercontent.com/u/1578682/py4eng_logo.png)\n",
    "\n",
    "# I/O: `input`, files, filesystem\n",
    "### Yoav Ram"
   ]
  },
  {
   "cell_type": "markdown",
   "metadata": {},
   "source": [
    "# I/O\n",
    "\n",
    "## User input\n",
    "\n",
    "The `input` function is useful to get string input from the user. It works in the notebook, as well as when running scripts in the console."
   ]
  },
  {
   "cell_type": "code",
   "execution_count": 32,
   "metadata": {
    "collapsed": false
   },
   "outputs": [
    {
     "name": "stdout",
     "output_type": "stream",
     "text": [
      "What's your name?\n",
      "Yoav\n",
      "Hi Yoav\n"
     ]
    }
   ],
   "source": [
    "name = input(\"What's your name?\\n\")\n",
    "\n",
    "print(\"Hi\", name)"
   ]
  },
  {
   "cell_type": "code",
   "execution_count": 33,
   "metadata": {
    "collapsed": false
   },
   "outputs": [
    {
     "name": "stdout",
     "output_type": "stream",
     "text": [
      "How many icecreams would you like?2\n",
      "How much does an icecream cost?1.5\n"
     ]
    },
    {
     "ename": "TypeError",
     "evalue": "can't multiply sequence by non-int of type 'str'",
     "output_type": "error",
     "traceback": [
      "\u001b[1;31m---------------------------------------------------------------------------\u001b[0m",
      "\u001b[1;31mTypeError\u001b[0m                                 Traceback (most recent call last)",
      "\u001b[1;32m<ipython-input-33-8dbbd0e84e04>\u001b[0m in \u001b[0;36m<module>\u001b[1;34m()\u001b[0m\n\u001b[0;32m      1\u001b[0m \u001b[0mn_icecreams\u001b[0m \u001b[1;33m=\u001b[0m \u001b[0minput\u001b[0m\u001b[1;33m(\u001b[0m\u001b[1;34m\"How many icecreams would you like?\"\u001b[0m\u001b[1;33m)\u001b[0m\u001b[1;33m\u001b[0m\u001b[0m\n\u001b[0;32m      2\u001b[0m \u001b[0mprice\u001b[0m \u001b[1;33m=\u001b[0m \u001b[0minput\u001b[0m\u001b[1;33m(\u001b[0m\u001b[1;34m\"How much does an icecream cost?\"\u001b[0m\u001b[1;33m)\u001b[0m\u001b[1;33m\u001b[0m\u001b[0m\n\u001b[1;32m----> 3\u001b[1;33m \u001b[0mprint\u001b[0m\u001b[1;33m(\u001b[0m\u001b[0mprice\u001b[0m \u001b[1;33m*\u001b[0m \u001b[0mn_icecreams\u001b[0m\u001b[1;33m)\u001b[0m\u001b[1;33m\u001b[0m\u001b[0m\n\u001b[0m",
      "\u001b[1;31mTypeError\u001b[0m: can't multiply sequence by non-int of type 'str'"
     ]
    }
   ],
   "source": [
    "n_icecreams = input(\"How many icecreams would you like?\")\n",
    "price = input(\"How much does an icecream cost?\")\n",
    "print(\"That would be\", price * n_icecreams)"
   ]
  },
  {
   "cell_type": "markdown",
   "metadata": {},
   "source": [
    "For security reasons, `input` returns strings. It is the program's responsibility to convert the string to the desired type:"
   ]
  },
  {
   "cell_type": "code",
   "execution_count": 36,
   "metadata": {
    "collapsed": false
   },
   "outputs": [
    {
     "name": "stdout",
     "output_type": "stream",
     "text": [
      "How many icecreams would you like?2\n",
      "How much does an icecream cost?1.5\n",
      "That would be 3.0\n"
     ]
    }
   ],
   "source": [
    "n_icecreams = int(input(\"How many icecreams would you like?\"))\n",
    "price = float(input(\"How much does an icecream cost?\"))\n",
    "print(\"That would be\", price * n_icecreams)"
   ]
  },
  {
   "cell_type": "markdown",
   "metadata": {},
   "source": [
    "You can use `eval` to evaluate the input string into a Python expression, but don't do it if you don't trust the user because it can lead to strange behaviour and side effects.\n",
    "\n",
    "Let's see what happens when we give valud input (`2` and `1.5`) and when we give invalid input (`2` and `[1,2,3]`). Try it with `eval` and with the above code(`int` and `float`)."
   ]
  },
  {
   "cell_type": "code",
   "execution_count": 39,
   "metadata": {
    "collapsed": false
   },
   "outputs": [
    {
     "name": "stdout",
     "output_type": "stream",
     "text": [
      "How many icecreams would you like?2\n",
      "How much does an icecream cost?1.5\n",
      "That would be 3.0\n"
     ]
    }
   ],
   "source": [
    "n_icecreams = eval(input(\"How many icecreams would you like?\"))\n",
    "price = eval(input(\"How much does an icecream cost?\"))\n",
    "print(\"That would be\", price * n_icecreams)"
   ]
  },
  {
   "cell_type": "markdown",
   "metadata": {},
   "source": [
    "## Exercise\n",
    "\n",
    "Ask the user for a number between 1 and 10; if the number is not within that range, let him know and ask him again."
   ]
  },
  {
   "cell_type": "code",
   "execution_count": null,
   "metadata": {
    "collapsed": true
   },
   "outputs": [],
   "source": []
  },
  {
   "cell_type": "markdown",
   "metadata": {},
   "source": [
    "## Files\n",
    "\n",
    "We'll start with simple text files and proceed to more complex formats.  \n",
    "Let's read the list of crop plants located in `data/crops.txt`.\n",
    "\n",
    "### Reading files\n",
    "Whenever we want to work with a file, we first need to _open_ it. This is, not surprisingly, done using the `open` function.  \n",
    "This function returns a file object which we can then use."
   ]
  },
  {
   "cell_type": "code",
   "execution_count": 7,
   "metadata": {
    "collapsed": false,
    "scrolled": true
   },
   "outputs": [
    {
     "name": "stdout",
     "output_type": "stream",
     "text": [
      "Abelmoschus caillei\n",
      "Abelmoschus esculentus\n",
      "Acacia mearnsii\n",
      "Acacia senegal\n",
      "Acacia seyal\n",
      "Acca sellowia\n"
     ]
    }
   ],
   "source": [
    "f = open(r'..\\data\\crops.txt','r')\n",
    "crops = f.read()\n",
    "f.close()\n",
    "print(crops[:100])"
   ]
  },
  {
   "cell_type": "markdown",
   "metadata": {},
   "source": [
    "`open` function receives two parameters: the path to the file you want to open and the mode of opening (both strings). In this case - `r` for reading.\n",
    "\n",
    "Notice the `r` before the string. This tells Python to treat the string as a *raw string* and not try to escape it, because otherwise it would try to do something weird with the `\\c` substring. This is important on Windows machines, but you can also give Python paths in Unix style (`data/crops.txt`) and it would work fine.\n",
    "\n",
    "`read` returns *all* the text from the file as a string. \n",
    "\n",
    "`close` then closes the file handle.\n",
    "\n",
    "A more idiomatic way to do this, in which Python takes care of closing the file handle, is:"
   ]
  },
  {
   "cell_type": "code",
   "execution_count": 8,
   "metadata": {
    "collapsed": false
   },
   "outputs": [
    {
     "name": "stdout",
     "output_type": "stream",
     "text": [
      "Abelmoschus caillei\n",
      "Abelmoschus esculentus\n",
      "Acacia mearnsii\n",
      "Acacia senegal\n",
      "Acacia seyal\n",
      "Acca sellowia\n"
     ]
    }
   ],
   "source": [
    "with open(r'..\\data\\crops.txt','r') as f:\n",
    "    crops = f.read()\n",
    "print(crops[:100])"
   ]
  },
  {
   "cell_type": "markdown",
   "metadata": {},
   "source": [
    "This idiom uses a [context manager](https://www.python.org/dev/peps/pep-0343/), and the file handle `f` is closed when the context manager block ends."
   ]
  },
  {
   "cell_type": "markdown",
   "metadata": {},
   "source": [
    "### Iterating over the file object\n",
    "\n",
    "We can simply use a _for_ loop to go over all lines. This is the _best practice_, and also very simple to use:"
   ]
  },
  {
   "cell_type": "code",
   "execution_count": 10,
   "metadata": {
    "collapsed": false
   },
   "outputs": [
    {
     "name": "stdout",
     "output_type": "stream",
     "text": [
      "Musa balbisiana\n",
      "Musa spp.\n",
      "Musa textilis\n"
     ]
    }
   ],
   "source": [
    "with open(r'..\\data\\crops.txt','r') as f:\n",
    "    for line in f:\n",
    "        if line.startswith('Musa'):   # check if line starts with a given string\n",
    "            print(line.strip())  # strip removes the \\n from the end of the line"
   ]
  },
  {
   "cell_type": "markdown",
   "metadata": {},
   "source": [
    "#### Reading line by line with readline()\n",
    "The `readline()` method allows us to read a single line each time. It works very well when combined with a _while_ loop, giving us good control of the program flow."
   ]
  },
  {
   "cell_type": "code",
   "execution_count": 12,
   "metadata": {
    "collapsed": false
   },
   "outputs": [
    {
     "name": "stdout",
     "output_type": "stream",
     "text": [
      "Abelmoschus caillei\n",
      "\n",
      "Triticum aestivum\n",
      "Triticum dicoccum\n",
      "Triticum durum\n",
      "Triticum monococcum\n",
      "Triticum spelta\n",
      "Triticum turanicum\n"
     ]
    }
   ],
   "source": [
    "with open(r'..\\data\\crops.txt','r') as f:\n",
    "    line = f.readline()    # read first line\n",
    "    print(line)\n",
    "    while line:\n",
    "        line = f.readline().strip()\n",
    "        if line.startswith('Triticum'):\n",
    "            print(line)        "
   ]
  },
  {
   "cell_type": "markdown",
   "metadata": {},
   "source": [
    "There are other methods you can use to read files. For example, the `readlines()` returns all the lines as a list of strings."
   ]
  },
  {
   "cell_type": "markdown",
   "metadata": {},
   "source": [
    "## Exercise"
   ]
  },
  {
   "cell_type": "markdown",
   "metadata": {},
   "source": [
    "1) Print the last line in the file.  \n",
    "2) Find out how many _Garcinia_ species are in the file (use the `startswith()` method)."
   ]
  },
  {
   "cell_type": "code",
   "execution_count": null,
   "metadata": {
    "collapsed": false
   },
   "outputs": [],
   "source": []
  },
  {
   "cell_type": "code",
   "execution_count": null,
   "metadata": {
    "collapsed": false
   },
   "outputs": [],
   "source": []
  },
  {
   "cell_type": "markdown",
   "metadata": {},
   "source": [
    "### Writing to a file\n",
    "\n",
    "To write to a file, we first have to open it for writing. This is done using one of two modes: 'w' or 'a'.  \n",
    "'w', for write, will let you write into the file. If it doesn't exist, it'll be automatically created. If it exists and already has some content, __the content will be overwritten__.\n",
    "'a', for append, is very similar, only it will not overwrite, but add your text to the end of an existing file. \n",
    "\n",
    "Writing is done using good, old `print()`, only we add the argument `file = <file object>`."
   ]
  },
  {
   "cell_type": "code",
   "execution_count": 14,
   "metadata": {
    "collapsed": false
   },
   "outputs": [],
   "source": [
    "with open(r'tmp.txt','w') as f:\n",
    "    print('This is the first line', file=f)\n",
    "    line = 'Another line'\n",
    "    print(line, file=f)\n",
    "    msg1 = 'Hello'\n",
    "    msg2 = 'World!'\n",
    "    print(msg1 + msg2, file=f)"
   ]
  },
  {
   "cell_type": "code",
   "execution_count": 18,
   "metadata": {
    "collapsed": false
   },
   "outputs": [],
   "source": [
    "%less tmp.txt"
   ]
  },
  {
   "cell_type": "markdown",
   "metadata": {},
   "source": [
    "### Temporary files\n",
    "\n",
    "Temporary files are easily created using the _tempfile_ module:"
   ]
  },
  {
   "cell_type": "code",
   "execution_count": 19,
   "metadata": {
    "collapsed": true
   },
   "outputs": [],
   "source": [
    "import tempfile"
   ]
  },
  {
   "cell_type": "code",
   "execution_count": 28,
   "metadata": {
    "collapsed": false
   },
   "outputs": [
    {
     "name": "stdout",
     "output_type": "stream",
     "text": [
      "Writing to temp file C:\\Users\\yoavram\\AppData\\Local\\Temp\\tmpy7a2qmdo\n"
     ]
    }
   ],
   "source": [
    "fname = tempfile.mktemp()\n",
    "print(\"Writing to temp file\", fname)\n",
    "with open(fname, 'w') as f:\n",
    "     print(\"This is a temporary file\", file=f)"
   ]
  },
  {
   "cell_type": "code",
   "execution_count": 29,
   "metadata": {
    "collapsed": false
   },
   "outputs": [],
   "source": [
    "%less $fname"
   ]
  },
  {
   "cell_type": "markdown",
   "metadata": {},
   "source": [
    "See other methods in *tempfile* on how to create temporary directories, named temporary files, etc."
   ]
  },
  {
   "cell_type": "markdown",
   "metadata": {},
   "source": [
    "# Filesystem\n",
    "\n",
    "Python offers plenty of ways to interact with the filesystem through the `os` and `os.path` modules.\n",
    "\n",
    "Let's import these modules:"
   ]
  },
  {
   "cell_type": "code",
   "execution_count": 40,
   "metadata": {
    "collapsed": true
   },
   "outputs": [],
   "source": [
    "import os"
   ]
  },
  {
   "cell_type": "code",
   "execution_count": 45,
   "metadata": {
    "collapsed": false
   },
   "outputs": [
    {
     "name": "stdout",
     "output_type": "stream",
     "text": [
      ".ipynb_checkpoints is a folder\n",
      "csv.ipynb is a file with size 5950 bytes\n",
      "data.csv is a file with size 377 bytes\n",
      "lecture5.ipynb is a file with size 56155 bytes\n",
      "regexp.ipynb is a file with size 32049 bytes\n",
      "session1.ipynb is a file with size 32039 bytes\n",
      "session2.ipynb is a file with size 44817 bytes\n",
      "session3.ipynb is a file with size 51595 bytes\n",
      "session3a.ipynb is a file with size 21963 bytes\n",
      "session4.ipynb is a file with size 24914 bytes\n",
      "session5.ipynb is a file with size 34603 bytes\n",
      "tmp.txt is a file with size 51 bytes\n"
     ]
    }
   ],
   "source": [
    "files = os.listdir()\n",
    "for fname in files:\n",
    "    if os.path.isdir(fname):\n",
    "        print(fname, \"is a folder\")\n",
    "    elif os.path.isfile(fname):\n",
    "        size = os.path.getsize(fname)\n",
    "        print(fname, \"is a file with size\", size, \"bytes\")\n",
    "    else:\n",
    "        pass # do nothing"
   ]
  },
  {
   "cell_type": "markdown",
   "metadata": {},
   "source": [
    "Here's a combination of functions to get the current directory (`os.getcwd`), change the directory (`os.chdir`), check if a file exists (`os.path.exists`), and split a filename from its extension:"
   ]
  },
  {
   "cell_type": "code",
   "execution_count": 53,
   "metadata": {
    "collapsed": false
   },
   "outputs": [
    {
     "name": "stdout",
     "output_type": "stream",
     "text": [
      "crops.txt exists? True\n",
      "crops.csv exists? False\n"
     ]
    }
   ],
   "source": [
    "curdir = os.getcwd()\n",
    "os.chdir(r'..\\data')\n",
    "fname = 'crops.txt'\n",
    "print(fname, 'exists?', os.path.exists(fname))\n",
    "fname = os.path.splitext('crops.txt')[0] + '.csv'\n",
    "print(fname, 'exists?', os.path.exists(fname))\n",
    "os.chdir(curdir)"
   ]
  },
  {
   "cell_type": "markdown",
   "metadata": {},
   "source": [
    "See the [os](https://docs.python.org/3.4/library/os.html) and [os.path](https://docs.python.org/3.4/library/os.path.html#module-os.path) modules for more functions."
   ]
  },
  {
   "cell_type": "markdown",
   "metadata": {},
   "source": [
    "## Colophon\n",
    "This notebook was written by [Yoav Ram](http://www.yoavram.com) and is part of the _Python for Engineers_ course.\n",
    "\n",
    "The notebook was written using [Python](http://pytho.org/) 3.4.4, [IPython](http://ipython.org/) 4.0.3 and [Jupyter](http://jupyter.org) 4.0.6.\n",
    "\n",
    "This work is licensed under a CC BY-NC-SA 4.0 International License.\n",
    "\n",
    "![Python logo](https://www.python.org/static/community_logos/python-logo.png)"
   ]
  }
 ],
 "metadata": {
  "kernelspec": {
   "display_name": "Python 3",
   "language": "python",
   "name": "python3"
  },
  "language_info": {
   "codemirror_mode": {
    "name": "ipython",
    "version": 3
   },
   "file_extension": ".py",
   "mimetype": "text/x-python",
   "name": "python",
   "nbconvert_exporter": "python",
   "pygments_lexer": "ipython3",
   "version": "3.4.4"
  }
 },
 "nbformat": 4,
 "nbformat_minor": 0
}
