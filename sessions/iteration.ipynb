{
 "cells": [
  {
   "cell_type": "markdown",
   "metadata": {},
   "source": [
    "![Py4Eng](img/logo.png)\n",
    "\n",
    "# Iteration\n",
    "## Yoav Ram"
   ]
  },
  {
   "cell_type": "markdown",
   "metadata": {},
   "source": [
    "# Comprehensions\n",
    "\n",
    "Comprehensions are a compact way to process all or part of the elements in a sequence and return a new container.\n",
    "\n",
    "## List comprehensions\n",
    "\n",
    "Say we have a bunch of measurements in a list called `data` and we want to calculate the mean and the standard deviation.\n",
    "\n",
    "The usual way to do this is with `for` loops:"
   ]
  },
  {
   "cell_type": "code",
   "execution_count": 3,
   "metadata": {
    "collapsed": false
   },
   "outputs": [
    {
     "name": "stdout",
     "output_type": "stream",
     "text": [
      "Mean: 5.375\n",
      "Standard deviation: 2.7810744326608736\n"
     ]
    }
   ],
   "source": [
    "data = [1, 7, 3, 6, 9, 2, 7, 8]\n",
    "mean = sum(data) / len(data)\n",
    "print('Mean:', mean)\n",
    "\n",
    "deviations = []\n",
    "for x in data:\n",
    "    deviations.append((x - mean)**2)\n",
    "    \n",
    "var = sum(deviations) / len(deviations)\n",
    "stdev = var**0.5\n",
    "\n",
    "print(\"Standard deviation:\", stdev)"
   ]
  },
  {
   "cell_type": "markdown",
   "metadata": {},
   "source": [
    "We can replace the `for` loop with a list comprehension:"
   ]
  },
  {
   "cell_type": "code",
   "execution_count": 17,
   "metadata": {
    "collapsed": false
   },
   "outputs": [
    {
     "name": "stdout",
     "output_type": "stream",
     "text": [
      "Standard deviation: 2.7810744326608736\n"
     ]
    }
   ],
   "source": [
    "deviations = [(x - mean)**2 for x in data]\n",
    "var = sum(deviations) / len(deviations)\n",
    "stdev = var**0.5\n",
    "print(\"Standard deviation:\", stdev)"
   ]
  },
  {
   "cell_type": "markdown",
   "metadata": {},
   "source": [
    "We can add a condition, too. Say you want to calculate the deviations of above-average data:"
   ]
  },
  {
   "cell_type": "code",
   "execution_count": 18,
   "metadata": {
    "collapsed": false
   },
   "outputs": [
    {
     "data": {
      "text/plain": [
       "[2.640625, 0.390625, 13.140625, 2.640625, 6.890625]"
      ]
     },
     "execution_count": 18,
     "metadata": {},
     "output_type": "execute_result"
    }
   ],
   "source": [
    "pos_devs = [(x - mean)**2 for x in data if x > mean]\n",
    "pos_devs"
   ]
  },
  {
   "cell_type": "markdown",
   "metadata": {},
   "source": [
    "## Exercise\n",
    "\n",
    "Remember that a leap is is a year that is divisible by 400 or divisible by 4 but not by 100.\n",
    "\n",
    "Write a listcomp to build a list of all leap years until today. Print the length of the list."
   ]
  },
  {
   "cell_type": "code",
   "execution_count": null,
   "metadata": {
    "collapsed": false
   },
   "outputs": [],
   "source": []
  },
  {
   "cell_type": "markdown",
   "metadata": {},
   "source": [
    "### Cartesian product\n",
    "\n",
    "We can insert several `for` statements in a single listcomp, producing all elements of a cartesian product.\n",
    "\n",
    "For example, consider how we construct a full pack of cards:"
   ]
  },
  {
   "cell_type": "code",
   "execution_count": 8,
   "metadata": {
    "collapsed": false
   },
   "outputs": [
    {
     "name": "stdout",
     "output_type": "stream",
     "text": [
      "52\n"
     ]
    }
   ],
   "source": [
    "suits = 'heart spade club diamond'\n",
    "numbers = range(2,11)\n",
    "royals = 'J Q K A'\n",
    "cards = [(s, n) for s in suits.split() for n in list(numbers) + royals.split()]\n",
    "print(len(cards))"
   ]
  },
  {
   "cell_type": "markdown",
   "metadata": {},
   "source": [
    "## Dictionary comprehensions\n",
    "\n",
    "We can also use comprehensions to create dictionaries:"
   ]
  },
  {
   "cell_type": "code",
   "execution_count": 19,
   "metadata": {
    "collapsed": false
   },
   "outputs": [
    {
     "data": {
      "text/plain": [
       "{1: 19.140625,\n",
       " 2: 11.390625,\n",
       " 3: 5.640625,\n",
       " 6: 0.390625,\n",
       " 7: 2.640625,\n",
       " 8: 6.890625,\n",
       " 9: 13.140625}"
      ]
     },
     "execution_count": 19,
     "metadata": {},
     "output_type": "execute_result"
    }
   ],
   "source": [
    "data_devs = {x: (x - mean)**2 for x in data}\n",
    "data_devs"
   ]
  },
  {
   "cell_type": "markdown",
   "metadata": {},
   "source": [
    "## Set comprehensions"
   ]
  },
  {
   "cell_type": "code",
   "execution_count": 24,
   "metadata": {
    "collapsed": false
   },
   "outputs": [
    {
     "name": "stdout",
     "output_type": "stream",
     "text": [
      "9371\n",
      "True\n",
      "True\n"
     ]
    }
   ],
   "source": [
    "with open('../data/gulliver.txt') as f:\n",
    "    txt = f.read().lower()\n",
    "unique_words = {w for w in txt.split()}\n",
    "\n",
    "print(len(unique_words))\n",
    "print('love' in unique_words)\n",
    "print('war' in unique_words)"
   ]
  },
  {
   "cell_type": "markdown",
   "metadata": {},
   "source": [
    "If the file is very big we could do it line by line and update the set (it's mutable):"
   ]
  },
  {
   "cell_type": "code",
   "execution_count": 1,
   "metadata": {
    "collapsed": false
   },
   "outputs": [
    {
     "name": "stdout",
     "output_type": "stream",
     "text": [
      "9371\n",
      "True\n",
      "True\n"
     ]
    }
   ],
   "source": [
    "unique_words = set()\n",
    "with open('../data/gulliver.txt') as f:    \n",
    "    for line in f:\n",
    "        line_unique_words = {w for w in line.lower().split()}\n",
    "        unique_words.update(line_unique_words)\n",
    "\n",
    "print(len(unique_words))\n",
    "print('love' in unique_words)\n",
    "print('war' in unique_words)"
   ]
  },
  {
   "cell_type": "markdown",
   "metadata": {},
   "source": [
    "# Iterators\n",
    "\n",
    "From [Python docs](https://docs.python.org/3.5/library/stdtypes.html#iterator-types):\n",
    "\n",
    "> Python supports a concept of iteration over containers. This is implemented using two distinct methods; these are used to allow user-defined classes to support iteration. Sequences always support the iteration methods.\n",
    "\n",
    "\n",
    "- `__iter__`: If implemented in a container, the method should return an iterator object; this makes the container and *iterable*. If implemented in an iterator, it should return the iterator itself. This is the method used by `for ... in ...`.\n",
    "- `__next__`: Returns the next item from the iteration (i.e. on the container) when the iterator is called with `next(...)`. If there are not more items this method should raise `StopIteration` exception.\n",
    "\n",
    "Note that the iterable container itself cannot be it's own iterator, because then two concurrent iteration will not be independent.\n",
    "\n",
    "The easiest way to implement iterators is using generators rather than defining new objects, so we'll start doing that."
   ]
  },
  {
   "cell_type": "markdown",
   "metadata": {},
   "source": [
    "# Generator expressions\n",
    "\n",
    "Generator expressions look similar to list comprehensions but really they return an iterator rather than a new collection.\n",
    "\n",
    "For example, if we are not interested in the deviations but only in their sum, we don't have to build the actual `list`, like the comprehension does, but rather we can use a generator, which produces each value as we need it, using **lazy evaluation**:"
   ]
  },
  {
   "cell_type": "code",
   "execution_count": 4,
   "metadata": {
    "collapsed": false
   },
   "outputs": [
    {
     "name": "stdout",
     "output_type": "stream",
     "text": [
      "Standard deviation: 2.7810744326608736\n"
     ]
    }
   ],
   "source": [
    "var = sum((x - mean)**2 for x in data) / len(data)\n",
    "print(\"Standard deviation:\", var**0.5)"
   ]
  },
  {
   "cell_type": "markdown",
   "metadata": {},
   "source": [
    "When going over many elements, sometimes we don't need the list in the memory, just one number at a time. This is where generators shine. For example, the `range` function is actually a generator, which can be converted into a list:"
   ]
  },
  {
   "cell_type": "code",
   "execution_count": 21,
   "metadata": {
    "collapsed": false
   },
   "outputs": [
    {
     "data": {
      "text/plain": [
       "range(0, 10)"
      ]
     },
     "execution_count": 21,
     "metadata": {},
     "output_type": "execute_result"
    }
   ],
   "source": [
    "range(10)"
   ]
  },
  {
   "cell_type": "code",
   "execution_count": 22,
   "metadata": {
    "collapsed": false
   },
   "outputs": [
    {
     "data": {
      "text/plain": [
       "[0, 1, 2, 3, 4, 5, 6, 7, 8, 9]"
      ]
     },
     "execution_count": 22,
     "metadata": {},
     "output_type": "execute_result"
    }
   ],
   "source": [
    "list(range(10))"
   ]
  },
  {
   "cell_type": "markdown",
   "metadata": {},
   "source": [
    "If we were to go over all the numbers from 0 to $10^8$, creating that list before the iteration is costly in space. A generator doesn't create the entire list in memory, but rather lazily creates each elements as it is needed.\n",
    "\n",
    "We load [ipython_memory_usage](https://github.com/ianozsvald/ipython_memory_usage), a package that monitors memory usage inside the notebook.\n",
    "\n",
    "Install from with `pip install git+https://github.com/ianozsvald/ipython_memory_usage.git`, and on Windows you will also n\n",
    "`conda install psutil`."
   ]
  },
  {
   "cell_type": "code",
   "execution_count": 26,
   "metadata": {
    "collapsed": false
   },
   "outputs": [
    {
     "name": "stdout",
     "output_type": "stream",
     "text": [
      "In [26] used 0.1016 MiB RAM in 332.29s, peaked 3.72 MiB above current, total RAM usage 43.80 MiB\n"
     ]
    }
   ],
   "source": [
    "import ipython_memory_usage.ipython_memory_usage as imu\n",
    "imu.start_watching_memory()"
   ]
  },
  {
   "cell_type": "code",
   "execution_count": 27,
   "metadata": {
    "collapsed": false,
    "scrolled": true
   },
   "outputs": [
    {
     "name": "stdout",
     "output_type": "stream",
     "text": [
      "In [27] used 3870.5156 MiB RAM in 3.37s, peaked 0.00 MiB above current, total RAM usage 3914.32 MiB\n"
     ]
    }
   ],
   "source": [
    "lst = list(range(10**8))"
   ]
  },
  {
   "cell_type": "code",
   "execution_count": 28,
   "metadata": {
    "collapsed": false
   },
   "outputs": [
    {
     "name": "stdout",
     "output_type": "stream",
     "text": [
      "In [28] used 0.0117 MiB RAM in 0.11s, peaked 0.02 MiB above current, total RAM usage 3914.33 MiB\n"
     ]
    }
   ],
   "source": [
    "rng = range(10**8)"
   ]
  },
  {
   "cell_type": "code",
   "execution_count": 29,
   "metadata": {
    "collapsed": true
   },
   "outputs": [],
   "source": [
    "del lst\n",
    "imu.stop_watching_memory()"
   ]
  },
  {
   "cell_type": "markdown",
   "metadata": {},
   "source": [
    "![Task manager](https://raw.github.com/yoavram/CS1001.py/master/list_vs_generator.png)"
   ]
  },
  {
   "cell_type": "markdown",
   "metadata": {},
   "source": [
    "Another example:"
   ]
  },
  {
   "cell_type": "code",
   "execution_count": 38,
   "metadata": {
    "collapsed": false
   },
   "outputs": [
    {
     "name": "stdout",
     "output_type": "stream",
     "text": [
      "3 loops, best of 3: 183 ms per loop\n"
     ]
    }
   ],
   "source": [
    "%timeit -n 3 [x for x in range(1, 10**6) if x % 2 == 0]"
   ]
  },
  {
   "cell_type": "code",
   "execution_count": 39,
   "metadata": {
    "collapsed": false
   },
   "outputs": [
    {
     "name": "stdout",
     "output_type": "stream",
     "text": [
      "3 loops, best of 3: 1.21 µs per loop\n"
     ]
    }
   ],
   "source": [
    "%timeit -n 3 (x for x in range(1, 10**6) if x % 2 == 0)"
   ]
  },
  {
   "cell_type": "markdown",
   "metadata": {},
   "source": [
    "## Exercise\n",
    "\n",
    "\n",
    "Given in the code below is a dictionary (named `code`) where the keys represent encrypted characters and the values are the corresponding decrypted characters. Use the dictionary to decrypt an ecnrypted message (named `secret`) and print out the resulting cleartext message.\n",
    "\n",
    "* Use a generator expression to decrypt the secret message using the code dictionary. \n",
    "* Make sure you aren't creating any lists in intermediate steps. \n",
    "* Experiment with newlines inside `( )` to improve readability."
   ]
  },
  {
   "cell_type": "code",
   "execution_count": 1,
   "metadata": {
    "collapsed": false
   },
   "outputs": [
    {
     "name": "stdout",
     "output_type": "stream",
     "text": [
      "We shall go on to the end, we shall fight in France,\n",
      "we shall fight on the seas and oceans,\n",
      "we shall fight with growing confidence and growing strength in the air, we shall defend our Island, whatever the cost may be,\n",
      "we shall fight on the beaches,\n",
      "we shall fight on the landing grounds,\n",
      "we shall fight in the fields and in the streets,\n",
      "we shall fight in the hills;\n",
      "we shall never surrender, and even if, which I do not for a moment believe, this Island or a large part of it were subjugated and starving, then our Empire beyond the seas, armed and guarded by the British Fleet, would carry on the struggle, until, in God’s good time, the New World, with all its power and might, steps forth to the rescue and the liberation of the old.\n"
     ]
    }
   ],
   "source": [
    "secret = \"\"\"Wq osakk le eh ue usq qhp, mq osakk xzlsu zh Fcahgq,\n",
    "mq osakk xzlsu eh usq oqao ahp egqaho,\n",
    "mq osakk xzlsu mzus lcemzhl gehxzpqhgq ahp lcemzhl oucqhlus zh usq azc, mq osakk pqxqhp ebc Iokahp, msauqjqc usq geou dat rq,\n",
    "mq osakk xzlsu eh usq rqagsqo,\n",
    "mq osakk xzlsu eh usq kahpzhl lcebhpo,\n",
    "mq osakk xzlsu zh usq xzqkpo ahp zh usq oucqquo,\n",
    "mq osakk xzlsu zh usq szkko;\n",
    "mq osakk hqjqc obccqhpqc, ahp qjqh zx, mszgs I pe heu xec a dedqhu rqkzqjq, uszo Iokahp ec a kaclq iacu ex zu mqcq obrfblauqp ahp ouacjzhl, usqh ebc Edizcq rqtehp usq oqao, acdqp ahp lbacpqp rt usq Bczuzos Fkqqu, mebkp gacct eh usq oucbllkq, bhuzk, zh Gep’o leep uzdq, usq Nqm Weckp, mzus akk zuo iemqc ahp dzlsu, ouqio xecus ue usq cqogbq ahp usq kzrqcauzeh ex usq ekp.\"\"\"\n",
    "\n",
    "code = {'u': 't', 'y': 'q', 's': 'h', 'f': 'j', 'n': 'k', 'p': 'd', 'x': 'f', 't': 'y', 'i': 'p', 'a': 'a', 'e': 'o', 'l': 'g', 'o': 's', 'q': 'e', 'j': 'v', 'k': 'l', 'g': 'c', 'r': 'b', 'h': 'n', 'b': 'u', 'c': 'r', 'w': 'x', 'z': 'i', 'm': 'w', 'v': 'z', 'd': 'm'}\n",
    "decoded = (code.get(c, c)  for c in secret)\n",
    "joined = str.join('', decoded) \n",
    "print(joined)"
   ]
  },
  {
   "cell_type": "markdown",
   "metadata": {},
   "source": [
    "Note that `code.get` is only called when `join` starts pulling elements from `decoded`.\n",
    "\n",
    "Here, the generator expression creates a new generator object which implements the iterator protocol, and therefor is an instance of `collections.Iterator`.\n",
    "\n",
    "However, the best way to check if something is iterable is to try to iterate over it and catch the `TypeError` if it can't be iterated:"
   ]
  },
  {
   "cell_type": "code",
   "execution_count": 21,
   "metadata": {
    "collapsed": false
   },
   "outputs": [
    {
     "ename": "TypeError",
     "evalue": "'int' object is not iterable",
     "output_type": "error",
     "traceback": [
      "\u001b[1;31m---------------------------------------------------------------------------\u001b[0m",
      "\u001b[1;31mTypeError\u001b[0m                                 Traceback (most recent call last)",
      "\u001b[1;32m<ipython-input-21-1dc38de602a0>\u001b[0m in \u001b[0;36m<module>\u001b[1;34m()\u001b[0m\n\u001b[0;32m      5\u001b[0m     \u001b[1;32mpass\u001b[0m\u001b[1;33m\u001b[0m\u001b[0m\n\u001b[0;32m      6\u001b[0m \u001b[1;33m\u001b[0m\u001b[0m\n\u001b[1;32m----> 7\u001b[1;33m \u001b[1;32mfor\u001b[0m \u001b[0mx\u001b[0m \u001b[1;32min\u001b[0m \u001b[1;36m5\u001b[0m\u001b[1;33m:\u001b[0m\u001b[1;33m\u001b[0m\u001b[0m\n\u001b[0m\u001b[0;32m      8\u001b[0m     \u001b[1;32mpass\u001b[0m\u001b[1;33m\u001b[0m\u001b[0m\n",
      "\u001b[1;31mTypeError\u001b[0m: 'int' object is not iterable"
     ]
    }
   ],
   "source": [
    "for x in range(10):\n",
    "    pass\n",
    "\n",
    "for x in (x**2 for x in range(10)):\n",
    "    pass\n",
    "\n",
    "for x in 5:\n",
    "    pass"
   ]
  },
  {
   "cell_type": "markdown",
   "metadata": {},
   "source": [
    "# Generator functions\n",
    "\n",
    "We can write more complex generators using functions in which the `yield` statement replaces the `return` statement. \n",
    "After calling these functions we have a generator object which implements implements the iterator protocol, and not neccessarily on a specific existing container (similar to `range`). This allows to create very flexible iterations, including potentially infinite ones.\n",
    "\n",
    "Say we want to go over all the natural numbers to find a number that matches some condition.\n",
    "We write a generator for the natural numbers, which is kind of a non-limit `range` (note that this can be done using `itertools.count` from the standard library):"
   ]
  },
  {
   "cell_type": "code",
   "execution_count": 20,
   "metadata": {
    "collapsed": false
   },
   "outputs": [
    {
     "name": "stdout",
     "output_type": "stream",
     "text": [
      "<generator object natural_numbers at 0x00000000046D6A40>\n"
     ]
    },
    {
     "data": {
      "text/plain": [
       "(True, True, True)"
      ]
     },
     "execution_count": 20,
     "metadata": {},
     "output_type": "execute_result"
    }
   ],
   "source": [
    "def natural_numbers():\n",
    "    n = 0\n",
    "    while True:\n",
    "        n += 1\n",
    "        yield n\n",
    "gen = natural_numbers()\n",
    "print(gen)\n",
    "hasattr(gen, '__iter__'), hasattr(gen, '__next__'), isinstance(natural_numbers(), Iterator)"
   ]
  },
  {
   "cell_type": "markdown",
   "metadata": {},
   "source": [
    "We can consume values from the generator one by one using the `next` function:"
   ]
  },
  {
   "cell_type": "code",
   "execution_count": 113,
   "metadata": {
    "collapsed": false
   },
   "outputs": [
    {
     "name": "stdout",
     "output_type": "stream",
     "text": [
      "1\n",
      "2\n",
      "3\n",
      "4\n"
     ]
    }
   ],
   "source": [
    "print(next(gen))\n",
    "print(next(gen))\n",
    "print(next(gen))\n",
    "print(next(gen))"
   ]
  },
  {
   "cell_type": "markdown",
   "metadata": {},
   "source": [
    " or by giving it to a `for` loop (note that the above can be done using `itertools.takewhile`)"
   ]
  },
  {
   "cell_type": "code",
   "execution_count": 44,
   "metadata": {
    "collapsed": false
   },
   "outputs": [
    {
     "name": "stdout",
     "output_type": "stream",
     "text": [
      "510922\n"
     ]
    }
   ],
   "source": [
    "for n in natural_numbers():\n",
    "    if n % 667 == 0 and n**2 % 766 == 0:\n",
    "        break\n",
    "print(n)"
   ]
  },
  {
   "cell_type": "markdown",
   "metadata": {},
   "source": [
    "Of course, this can only be done using a generator - we cannot create a list of all natural numbers... \n",
    "\n",
    "Note that our `natural_numbers` generator could have been created using the `itertools.count` function that is sort of a more flexible version of `range`.\n",
    "\n",
    "Let's do another small example to understand how a generator works:"
   ]
  },
  {
   "cell_type": "code",
   "execution_count": 25,
   "metadata": {
    "collapsed": false
   },
   "outputs": [
    {
     "name": "stdout",
     "output_type": "stream",
     "text": [
      "Start.\n",
      "Next.\n",
      "0\n",
      "Next.\n",
      "1\n",
      "Next.\n",
      "2\n",
      "Done.\n"
     ]
    }
   ],
   "source": [
    "def example_generator():\n",
    "    print(\"Start.\")\n",
    "    for x in range(3):\n",
    "        print(\"Next.\")\n",
    "        yield x\n",
    "    print(\"Done.\")\n",
    "    \n",
    "for x in example_generator():\n",
    "    print(x)"
   ]
  },
  {
   "cell_type": "markdown",
   "metadata": {},
   "source": [
    "## Exercise\n",
    "\n",
    "Write a generator that, given a file handle, iterates over the **non-empty** lines in the file, removing the newline from the end of the lines.\n",
    "\n",
    "Run it on the file `data\\winter wind.txt` (download from [GitHub](https://raw.githubusercontent.com/yoavram/Py4Eng/master/data/winter_wind.txt))."
   ]
  },
  {
   "cell_type": "code",
   "execution_count": null,
   "metadata": {
    "collapsed": false
   },
   "outputs": [],
   "source": []
  },
  {
   "cell_type": "markdown",
   "metadata": {},
   "source": [
    "## Example\n",
    "\n",
    "Let's use generators to solve Project Euler's [Problem 10](https://projecteuler.net/problem=10):\n",
    "\n",
    "> The sum of the primes below 10 is 2 + 3 + 5 + 7 = 17.\n",
    "\n",
    "> Find the sum of all the primes below two million.\n",
    "\n",
    "Of course, it's not reasonable to make a list of all primes bellow two million, as it will require too much space.\n",
    "So we will use generators.\n",
    "\n",
    "First, we need a primality test function. We won't go into the syntax here."
   ]
  },
  {
   "cell_type": "code",
   "execution_count": 81,
   "metadata": {
    "collapsed": true
   },
   "outputs": [],
   "source": [
    "def is_prime(a):\n",
    "    return not (a < 2 or any(a % x == 0 for x in range(2, int(a ** 0.5) + 1)))"
   ]
  },
  {
   "cell_type": "markdown",
   "metadata": {},
   "source": [
    "We now define a generator of numbers below a certain number (this can be done by combining `range` and `filter`):"
   ]
  },
  {
   "cell_type": "code",
   "execution_count": 82,
   "metadata": {
    "collapsed": false
   },
   "outputs": [
    {
     "data": {
      "text/plain": [
       "[2, 3, 5, 7, 11, 13, 17, 19, 23, 29]"
      ]
     },
     "execution_count": 82,
     "metadata": {},
     "output_type": "execute_result"
    }
   ],
   "source": [
    "def primes(top=10):\n",
    "    n = 2\n",
    "    while n < top:\n",
    "        if is_prime(n):\n",
    "            yield n\n",
    "        n += 1\n",
    "list(primes(30))"
   ]
  },
  {
   "cell_type": "markdown",
   "metadata": {},
   "source": [
    "and we sum all primes bellow 2000000 (this will take a couple of minutes):"
   ]
  },
  {
   "cell_type": "code",
   "execution_count": 84,
   "metadata": {
    "collapsed": false
   },
   "outputs": [
    {
     "data": {
      "text/plain": [
       "142913828922"
      ]
     },
     "execution_count": 84,
     "metadata": {},
     "output_type": "execute_result"
    }
   ],
   "source": [
    "sum(primes(2000000))"
   ]
  },
  {
   "cell_type": "markdown",
   "metadata": {},
   "source": [
    "## Exercise\n",
    "\n",
    "Create a generator that returns numbers from the Fibonacci series, defined by:\n",
    "\n",
    "$$\n",
    "a_0 = 0 \\\\\n",
    "a_1 = 1 \\\\\n",
    "a_n = a_{n-2} + a_{n-1}\n",
    "$$"
   ]
  },
  {
   "cell_type": "code",
   "execution_count": null,
   "metadata": {
    "collapsed": true
   },
   "outputs": [],
   "source": []
  },
  {
   "cell_type": "markdown",
   "metadata": {},
   "source": [
    "## Pass values into generators\n",
    "\n",
    "`next` allows us to use generators outside of `for` loops. Calling `next` on a generator object will give the next result of the generator (run generator to next `yield` statement):"
   ]
  },
  {
   "cell_type": "code",
   "execution_count": 85,
   "metadata": {
    "collapsed": false
   },
   "outputs": [
    {
     "data": {
      "text/plain": [
       "(2, 3, 5, 7)"
      ]
     },
     "execution_count": 85,
     "metadata": {},
     "output_type": "execute_result"
    }
   ],
   "source": [
    "double_digit_primes = primes(100)\n",
    "next(double_digit_primes), next(double_digit_primes), next(double_digit_primes), next(double_digit_primes)"
   ]
  },
  {
   "cell_type": "markdown",
   "metadata": {},
   "source": [
    "`send` allows us to **pass values into generators**."
   ]
  },
  {
   "cell_type": "code",
   "execution_count": 5,
   "metadata": {
    "collapsed": false
   },
   "outputs": [],
   "source": [
    "def jumping_natural_numbers():\n",
    "    n = 0\n",
    "    while True:\n",
    "        jump = yield n \n",
    "        if jump is None:\n",
    "            jump = 1\n",
    "        n += jump"
   ]
  },
  {
   "cell_type": "code",
   "execution_count": 6,
   "metadata": {
    "collapsed": false
   },
   "outputs": [
    {
     "data": {
      "text/plain": [
       "(0, 3, 4)"
      ]
     },
     "execution_count": 6,
     "metadata": {},
     "output_type": "execute_result"
    }
   ],
   "source": [
    "gen = jumping_natural_numbers()\n",
    "gen.send(None), gen.send(3), gen.send(1)"
   ]
  },
  {
   "cell_type": "markdown",
   "metadata": {},
   "source": [
    "## Example\n",
    "\n",
    "A more whole example is given by the following generator that calculates a running average of a stream of numbers fed to it. It does so by keeping just three numbers - the sum, the count (number of numbers), and the average.\n",
    "\n",
    "Each time a new number is sent, it yields the updated average and then waits for another number to be sent.\n",
    "\n",
    "This is much more effcient it terms of space then actually keeping all the numbers; also, it's great for cases in which we actually have a stream of numbers."
   ]
  },
  {
   "cell_type": "code",
   "execution_count": 8,
   "metadata": {
    "collapsed": true
   },
   "outputs": [],
   "source": [
    "def running_average():\n",
    "    summ = 0\n",
    "    count = 0\n",
    "    avg = 0\n",
    "    \n",
    "    while True:\n",
    "        n = yield avg\n",
    "        count += 1\n",
    "        summ += n\n",
    "        avg = summ / count"
   ]
  },
  {
   "cell_type": "code",
   "execution_count": 14,
   "metadata": {
    "collapsed": false,
    "scrolled": false
   },
   "outputs": [
    {
     "name": "stdout",
     "output_type": "stream",
     "text": [
      "9: 9.0000\n",
      "6: 7.5000\n",
      "6: 7.0000\n",
      "2: 5.7500\n",
      "0: 4.6000\n",
      "6: 4.8333\n",
      "1: 4.2857\n",
      "6: 4.5000\n",
      "0: 4.0000\n",
      "9: 4.5000\n"
     ]
    }
   ],
   "source": [
    "import time\n",
    "import random\n",
    "\n",
    "avg = running_average()\n",
    "avg.send(None) # initialize the generator by sending None or by next(avg)\n",
    "\n",
    "# mimick a stream of random integers between 0 and 9, inclusive\n",
    "random_stream = (random.randint(0, 9) for _ in range(10))\n",
    "for n in random_stream:\n",
    "    current_avg = avg.send(n)\n",
    "    print('{:d}: {:.4f}'.format(n, current_avg))"
   ]
  },
  {
   "cell_type": "markdown",
   "metadata": {},
   "source": [
    "See more at Jeff Knupp's [blog](http://www.jeffknupp.com/blog/2013/04/07/improve-your-python-yield-and-generators-explained/)."
   ]
  },
  {
   "cell_type": "markdown",
   "metadata": {},
   "source": [
    "## Exercise\n",
    "\n",
    "Write a generator `have_seen` that accepts a string via `send` and yields a boolean in response.\n",
    "\n",
    "The function will yield `True` if the input string was already seen by the function, and `False` otherwise. The function should be case insensitive.\n",
    "\n",
    "Use it to find the first word that repeats itself in the following text (the first paragraph from [Gulliver's Travels](https://ia801404.us.archive.org/2/items/gulliverstravels17157gut/17157.txt)).\n",
    "\n",
    "This exercise follows [Readable Python coroutines](http://takluyver.github.io/posts/readable-python-coroutines.html) by Thomas Kluyver."
   ]
  },
  {
   "cell_type": "code",
   "execution_count": 169,
   "metadata": {
    "collapsed": true
   },
   "outputs": [],
   "source": [
    "def have_seen():\n",
    "    pass"
   ]
  },
  {
   "cell_type": "code",
   "execution_count": 170,
   "metadata": {
    "collapsed": false
   },
   "outputs": [],
   "source": [
    "text = \"\"\"My father had a small estate in Nottinghamshire; I was the third of five\n",
    "sons. He sent me to Emmanuel College in Cambridge at fourteen years old,\n",
    "where I resided three years, and applied myself close to my studies;\n",
    "but the charge of maintaining me, although I had a very scanty\n",
    "allowance, being too great for a narrow fortune, I was bound apprentice\n",
    "to Mr. James Bates, an eminent surgeon in London, with whom I continued\n",
    "four years; and my father now and then sending me small sums of money, I\n",
    "laid them out in learning navigation, and other parts of the mathematics\n",
    "useful to those who intend to travel, as I always believed it would be,\n",
    "some time or other, my fortune to do. When I left Mr. Bates, I went down\n",
    "to my father, where, by the assistance of him, and my uncle John and\n",
    "some other relations, I got forty pounds, and a promise of thirty\n",
    "pounds a year, to maintain me at Leyden. There I studied physic two\n",
    "years and seven months, knowing it would be useful in long voyages.\"\"\"\n",
    "text = text.lower().split()\n"
   ]
  },
  {
   "cell_type": "markdown",
   "metadata": {},
   "source": [
    "\n",
    "## map\n",
    "\n",
    "`map` creates an iterator that applies a function on all elements of an iterable. Like generators, `map` also does lazy evaluation."
   ]
  },
  {
   "cell_type": "code",
   "execution_count": 4,
   "metadata": {
    "collapsed": false
   },
   "outputs": [
    {
     "data": {
      "text/plain": [
       "<map at 0x48a9320>"
      ]
     },
     "execution_count": 4,
     "metadata": {},
     "output_type": "execute_result"
    }
   ],
   "source": [
    "poets = [\n",
    "    'Shel Silverstein', \n",
    "    'Pablo Neruda', \n",
    "    'Maya Angelou',\n",
    "    'Edgar Allan Poe',\n",
    "    'Robert Frost',\n",
    "    'Emily Dickinson',\n",
    "    'Walt Whitman'\n",
    "]\n",
    "\n",
    "def firstname(name):\n",
    "    return name.partition(' ')[0]\n",
    "first_names = map(firstname , poets)\n",
    "first_names"
   ]
  },
  {
   "cell_type": "code",
   "execution_count": 5,
   "metadata": {
    "collapsed": false
   },
   "outputs": [
    {
     "name": "stdout",
     "output_type": "stream",
     "text": [
      "Shel\n",
      "Pablo\n",
      "Maya\n",
      "Edgar\n",
      "Robert\n",
      "Emily\n",
      "Walt\n"
     ]
    }
   ],
   "source": [
    "for n in first_names:\n",
    "    print(n)"
   ]
  },
  {
   "cell_type": "markdown",
   "metadata": {},
   "source": [
    "Note that in general `partition` is better for this use than `split` because it only looks for one `sep` and returns 3 items, whereas `split` will look for all seperators, so for a name like *Jeff van Gundy* it will take slightly more time ot run."
   ]
  },
  {
   "cell_type": "code",
   "execution_count": 135,
   "metadata": {
    "collapsed": false
   },
   "outputs": [
    {
     "name": "stdout",
     "output_type": "stream",
     "text": [
      "The slowest run took 8.06 times longer than the fastest. This could mean that an intermediate result is being cached.\n",
      "1000000 loops, best of 3: 599 ns per loop\n",
      "The slowest run took 5.87 times longer than the fastest. This could mean that an intermediate result is being cached.\n",
      "1000000 loops, best of 3: 411 ns per loop\n"
     ]
    }
   ],
   "source": [
    "name = 'Jeff van Gundy'\n",
    "%timeit name.split()[0]\n",
    "%timeit name.partition(' ')[0]"
   ]
  },
  {
   "cell_type": "markdown",
   "metadata": {},
   "source": [
    "You could say that a generator expression does more or else the same thing as a `map`. And that's true.  However, sometimes a `map` is more suitable in terms of readability. Also, another advantage of a `map` is that it operates a function that has it's own scope, whereas a generator expression lives in the parent scope."
   ]
  },
  {
   "cell_type": "markdown",
   "metadata": {},
   "source": [
    "## `filter`\n",
    "\n",
    "`filter` creates an iterator that produces all the elements in an iterable that pass a certain test. The test is given using a boolean function."
   ]
  },
  {
   "cell_type": "code",
   "execution_count": 6,
   "metadata": {
    "collapsed": false
   },
   "outputs": [
    {
     "name": "stdout",
     "output_type": "stream",
     "text": [
      "2, 4, 6, 8, 10, 12, 14, 16, 18, 20, "
     ]
    }
   ],
   "source": [
    "def is_even(n):\n",
    "    return n % 2 == 0\n",
    "\n",
    "evens = filter(is_even, natural_numbers())\n",
    "for n in evens:\n",
    "    print(n, end=\", \")\n",
    "    if n >= 20: \n",
    "        break"
   ]
  },
  {
   "cell_type": "markdown",
   "metadata": {
    "collapsed": false
   },
   "source": [
    "## `reduce`\n",
    "\n",
    "`reduce` applies a function of two arguments ($f:R^2 \\to R$) cumulatively to the items of a sequence,\n",
    "from left to right, so as to reduce the sequence to a single value.\n",
    "\n",
    "`reduce` is part of the `functools` module"
   ]
  },
  {
   "cell_type": "code",
   "execution_count": 15,
   "metadata": {
    "collapsed": false
   },
   "outputs": [],
   "source": [
    "from functools import reduce\n",
    "import operator"
   ]
  },
  {
   "cell_type": "markdown",
   "metadata": {},
   "source": [
    "The easiest example is a replacement for `sum`:"
   ]
  },
  {
   "cell_type": "code",
   "execution_count": 31,
   "metadata": {
    "collapsed": false
   },
   "outputs": [
    {
     "data": {
      "text/plain": [
       "45"
      ]
     },
     "execution_count": 31,
     "metadata": {},
     "output_type": "execute_result"
    }
   ],
   "source": [
    "reduce(operator.add, range(10))"
   ]
  },
  {
   "cell_type": "markdown",
   "metadata": {},
   "source": [
    "What about coding a product equivalent of `sum`?"
   ]
  },
  {
   "cell_type": "code",
   "execution_count": 12,
   "metadata": {
    "collapsed": false
   },
   "outputs": [
    {
     "data": {
      "text/plain": [
       "362880"
      ]
     },
     "execution_count": 12,
     "metadata": {},
     "output_type": "execute_result"
    }
   ],
   "source": [
    "reduce(operator.mul, range(1, 10))"
   ]
  },
  {
   "cell_type": "markdown",
   "metadata": {},
   "source": [
    "Calculating the Fibonacci series up to the n-th element can also be done with `reduce`. Here we can set the initial seed to be different from the first element of the sequence, and we ignore the values from the input sequence as we always assign the \"right\" value to `_`:"
   ]
  },
  {
   "cell_type": "code",
   "execution_count": 13,
   "metadata": {
    "collapsed": false
   },
   "outputs": [
    {
     "data": {
      "text/plain": [
       "[0, 1, 1, 2, 3, 5, 8, 13, 21, 34]"
      ]
     },
     "execution_count": 13,
     "metadata": {},
     "output_type": "execute_result"
    }
   ],
   "source": [
    "def fib_reducer(x, _):\n",
    "    return x + [x[-1] + x[-2]]\n",
    "\n",
    "def fib(n):\n",
    "    return reduce(fib_reducer, range(n - 2), [0, 1])\n",
    "fib(10)"
   ]
  },
  {
   "cell_type": "markdown",
   "metadata": {},
   "source": [
    "## Exercise\n",
    "\n",
    "Use `reduce` and something from the `operator` module to write the function `my_all(iterable)` that return `True` if all elements of `iterable` are `True` and `False` otherwise.\n",
    "\n",
    "**Note** Python already has an `all` function, so you can compare your results to it."
   ]
  },
  {
   "cell_type": "code",
   "execution_count": 16,
   "metadata": {
    "collapsed": false
   },
   "outputs": [],
   "source": [
    "seq1 = [True,  True, True]\n",
    "seq2 = [True, False, True]\n",
    "\n",
    "def myall(iterable):\n",
    "    # Your code here\n",
    "    pass\n",
    "\n",
    "assert myall(seq1) == all(seq1)\n",
    "assert myall(seq2) == all(seq2)"
   ]
  },
  {
   "cell_type": "markdown",
   "metadata": {},
   "source": [
    "Now use a combination of `map` and `reduce` to write a function that checks if all the numbers in an iterable are larger than `n`:"
   ]
  },
  {
   "cell_type": "code",
   "execution_count": 32,
   "metadata": {
    "collapsed": true
   },
   "outputs": [],
   "source": [
    "def check_larger(iterable, n):\n",
    "    # Your code here\n",
    "    pass"
   ]
  },
  {
   "cell_type": "code",
   "execution_count": 25,
   "metadata": {
    "collapsed": false
   },
   "outputs": [],
   "source": [
    "assert check_larger([1, 3, 5, 7], 5) == False\n",
    "assert check_larger([1, 3, 5, 7], 0) == True"
   ]
  },
  {
   "cell_type": "markdown",
   "metadata": {
    "collapsed": true
   },
   "source": [
    "**Note** that `all` (or `any`) is implemented with a short-circuit so that once it sees a `False` (or `True`) it stops the iteration.\n",
    "\n",
    "This can be much faster if a `False` appears early on in the sequence:"
   ]
  },
  {
   "cell_type": "code",
   "execution_count": 20,
   "metadata": {
    "collapsed": false
   },
   "outputs": [
    {
     "name": "stdout",
     "output_type": "stream",
     "text": [
      "10 loops, best of 3: 6.21 ms per loop\n",
      "10 loops, best of 3: 121 ns per loop\n"
     ]
    }
   ],
   "source": [
    "data = [False] + [True] * 100000\n",
    "\n",
    "%timeit -n 10 myall(data)\n",
    "%timeit -n 10 all(data)"
   ]
  },
  {
   "cell_type": "markdown",
   "metadata": {},
   "source": [
    "# References\n",
    "- Some code and ideas were taken from [CS1001.py](https://github.com/yoavram/CS1001.py)\n",
    "- Some code and ideas were taken from [Code like a Pythonista](http://python.net/~goodger/projects/pycon/2007/idiomatic/presentation.html)\n",
    "- The [itertools](https://docs.python.org/3.5/library/itertools.html) module has some functions and tools for creating iterators.\n",
    "- The [operator](https://docs.python.org/3.5/library/operator.html) module has more functions that emulate operators to used in map, reduce, etc.\n",
    "- [Functional programming HOWTO](https://docs.python.org/3.5/howto/functional.html) has some more information, as the comprehensions, iterators, map-reduce and filter are the building blocks of functional programming.\n",
    "- The [toolz](http://toolz.readthedocs.org/) package has many more tools to use in a functional programming style.\n",
    "- Read Chapter 14 in the [Fluent Python](http://shop.oreilly.com/product/0636920032519.do) book by Luciano Ramalho for a deep dive into Iterators and everything related."
   ]
  },
  {
   "cell_type": "markdown",
   "metadata": {},
   "source": [
    "## Colophon\n",
    "This notebook was written by [Yoav Ram](http://www.yoavram.com) and is part of the _Python for Engineers_ course.\n",
    "\n",
    "The notebook was written using [Python](http://pytho.org/) 3.4.4, [IPython](http://ipython.org/) 4.0.3 and [Jupyter](http://jupyter.org) 4.0.6.\n",
    "\n",
    "This work is licensed under a CC BY-NC-SA 4.0 International License.\n",
    "\n",
    "![Python logo](https://www.python.org/static/community_logos/python-logo.png)"
   ]
  }
 ],
 "metadata": {
  "kernelspec": {
   "display_name": "Py4Eng",
   "language": "python",
   "name": "py4eng"
  },
  "language_info": {
   "codemirror_mode": {
    "name": "ipython",
    "version": 3
   },
   "file_extension": ".py",
   "mimetype": "text/x-python",
   "name": "python",
   "nbconvert_exporter": "python",
   "pygments_lexer": "ipython3",
   "version": "3.5.1"
  }
 },
 "nbformat": 4,
 "nbformat_minor": 0
}
