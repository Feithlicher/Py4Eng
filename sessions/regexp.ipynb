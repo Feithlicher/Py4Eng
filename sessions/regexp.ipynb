{
 "cells": [
  {
   "cell_type": "markdown",
   "metadata": {},
   "source": [
    "\n",
    "![Py4Eng](https://dl.dropboxusercontent.com/u/1578682/py4eng_logo.png)\n",
    "\n",
    "# Regular expressions\n",
    "## Yoav Ram"
   ]
  },
  {
   "cell_type": "markdown",
   "metadata": {},
   "source": [
    "# Regular expressions\n",
    "Suppose we have a DNA sequence in which we want to look for a specific pattern, say, 'TATAGGA'.  \n",
    "What do we do?  \n",
    "Easy, we use the `find` method."
   ]
  },
  {
   "cell_type": "code",
   "execution_count": null,
   "metadata": {
    "collapsed": false
   },
   "outputs": [],
   "source": [
    "seq = \"ccgcaattcactctataggagcaggaacatggataaagctcacagtcgca\"\n",
    "if seq.find('tatagga') >= 0:\n",
    "    print('pattern found!')"
   ]
  },
  {
   "cell_type": "markdown",
   "metadata": {},
   "source": [
    "OK, but what if we need to look for a more flexible pattern, such as 'TATAGGN'?  \n",
    "We can do:"
   ]
  },
  {
   "cell_type": "code",
   "execution_count": null,
   "metadata": {
    "collapsed": false
   },
   "outputs": [],
   "source": [
    "if seq.find('tatagga') >= 0 or seq.find('tataggt') >= 0 or seq.find('tataggc') >= 0 or seq.find('tataggg') >= 0:\n",
    "    print('pattern found!')"
   ]
  },
  {
   "cell_type": "markdown",
   "metadata": {},
   "source": [
    "But that's lots of work and also, what if we need 'TATAGNN'?  \n",
    "There are too many combinations to cover manually!  \n",
    "What we need is a more general way of doing such matching. This is what __Regular expressions__ are for!"
   ]
  },
  {
   "cell_type": "markdown",
   "metadata": {},
   "source": [
    "### What are regular expressions?\n",
    "Regular expressions (regex) are sets of characters that represents a search pattern. It's like a specific language that was designed to tell us how a text string should look. It includes special symbols which allow us to depict flexible strings.  \n",
    "This is a very powerful tool when looking for patterns or parsing text.  \n",
    "We'll soon see what we can do with it and how to use it."
   ]
  },
  {
   "cell_type": "markdown",
   "metadata": {},
   "source": [
    "### Using regular expressions\n",
    "In order to use regex, we need to use pythons built-in dedicated module. That means we don't have to install anything, just import the `re` module."
   ]
  },
  {
   "cell_type": "code",
   "execution_count": null,
   "metadata": {
    "collapsed": false
   },
   "outputs": [],
   "source": [
    "import re"
   ]
  },
  {
   "cell_type": "markdown",
   "metadata": {},
   "source": [
    "#### Raw strings\n",
    "We've already encountered some special characters, such as _\\n_ (newline) and _\\t_ (tab).  \n",
    "In regular expressions we want to avoid any confussion, and therefore use a special notation, telling python that we have no buisness with special characters here. We simply put an _r_ __outside__ the quotation marks. "
   ]
  },
  {
   "cell_type": "code",
   "execution_count": null,
   "metadata": {
    "collapsed": false
   },
   "outputs": [],
   "source": [
    "normal_string = \"There will be\\na new line\"\n",
    "raw_string = r\"There won't be\\na new line\"\n",
    "print(normal_string)\n",
    "print(raw_string)"
   ]
  },
  {
   "cell_type": "markdown",
   "metadata": {},
   "source": [
    "__ALWAYS use raw strings when working with regular expressions!__"
   ]
  },
  {
   "cell_type": "markdown",
   "metadata": {},
   "source": [
    "### Searching for patterns\n",
    "This is the most basic task regex is used for. We just want to know if a pattern can be found within a string.  \n",
    "The first step when working with regex is always _compiling_. This means we transform a simple string such as 'tatagga' into a regex pattern. This is done using `re.compile()`"
   ]
  },
  {
   "cell_type": "code",
   "execution_count": null,
   "metadata": {
    "collapsed": false
   },
   "outputs": [],
   "source": [
    "regex = re.compile(r'tatagga') # notice the 'r'"
   ]
  },
  {
   "cell_type": "markdown",
   "metadata": {},
   "source": [
    "We didn't match anything yet, just prepared the regex pattern. Once we have it, we can use it to seqrch within another string. For this we can use the `re.search()` method. It takes two parameters: regex and string to search ('target string') and returns _True_ if the pattern was found and _False_ otherwise."
   ]
  },
  {
   "cell_type": "code",
   "execution_count": null,
   "metadata": {
    "collapsed": false
   },
   "outputs": [],
   "source": [
    "if re.search(regex,seq):\n",
    "    print('pattern found!')"
   ]
  },
  {
   "cell_type": "markdown",
   "metadata": {},
   "source": [
    "#### Character groups\n",
    "The last example wasn't particularly useful, right?  \n",
    "OK, so here's when it gets interesting. We can define character groups within our regex, so that any of them will be matched. We do that using square brackets, and put all possible matches within them. So if we want to match 'TATAGGN' we'll do:"
   ]
  },
  {
   "cell_type": "code",
   "execution_count": null,
   "metadata": {
    "collapsed": false
   },
   "outputs": [],
   "source": [
    "regex = re.compile(r'tatagg[atgc]')\n",
    "if re.search(regex,seq):\n",
    "    print('pattern found!')"
   ]
  },
  {
   "cell_type": "code",
   "execution_count": null,
   "metadata": {
    "collapsed": false
   },
   "outputs": [],
   "source": [
    "if re.search(regex,\"tataggn\"):\n",
    "    print('pattern found!')"
   ]
  },
  {
   "cell_type": "markdown",
   "metadata": {},
   "source": [
    "We can put any list of characters within the brackets. There are also a few tricks to make things easier:  \n",
    "* [0-9] - any digit\n",
    "* [a-z] - any letter\n",
    "* [a-p] - any letter between a and p\n",
    "  \n",
    "There are also special symbols for common groups:  \n",
    "* \\d - any digit (equivalent to [0-9])\n",
    "* \\w - any 'word' character - letters, digits and underscore (equivalent to [a-zA-Z0-9\\_)\n",
    "* \\s - any whitespace character - space, tab, newline and other weird stuff (equivalent to [ \\t\\n\\r\\f\\v])\n",
    "  \n",
    "And finally, there's the _wildcard_ symbol, represented by a dot (.).  \n",
    "This means any character (except for a newline).  \n",
    "__Careful with this one!__ It'll take almost anything, so use it wisely."
   ]
  },
  {
   "cell_type": "code",
   "execution_count": null,
   "metadata": {
    "collapsed": false
   },
   "outputs": [],
   "source": [
    "# examples:\n",
    "regex = re.compile(r'\\d[d-k][2-8].')\n",
    "if re.search(regex,'7f6,'):\n",
    "    print('pattern found!')"
   ]
  },
  {
   "cell_type": "code",
   "execution_count": null,
   "metadata": {
    "collapsed": false
   },
   "outputs": [],
   "source": [
    "if re.search(regex,'hello7f6world'):\n",
    "    print('pattern found!')"
   ]
  },
  {
   "cell_type": "code",
   "execution_count": null,
   "metadata": {
    "collapsed": false
   },
   "outputs": [],
   "source": [
    "if re.search(regex,'5l7o'):\n",
    "    print('pattern found!')"
   ]
  },
  {
   "cell_type": "code",
   "execution_count": null,
   "metadata": {
    "collapsed": false
   },
   "outputs": [],
   "source": [
    "if re.search(regex,'7f6'):\n",
    "    print('pattern found!')"
   ]
  },
  {
   "cell_type": "markdown",
   "metadata": {},
   "source": [
    "#### Being negative\n",
    "Sometimes we want to tell python to search for 'anything but...'. We can do that in two ways:  \n",
    "If we are using character groups in square brackets, we can simply add a cadet (^) before the characters. For example `[^gnp%]` means 'match anything but 'g','n','p' or '%''. If we are using the special character groups, we can replace the symbol with a capital letter, so for example \\D means 'match anything but a digit'."
   ]
  },
  {
   "cell_type": "code",
   "execution_count": null,
   "metadata": {
    "collapsed": false
   },
   "outputs": [],
   "source": [
    "regex = re.compile(r'AAT[^G]TAA')\n",
    "if re.search(regex,'AATCTAA'):\n",
    "    print('pattern found!')"
   ]
  },
  {
   "cell_type": "code",
   "execution_count": null,
   "metadata": {
    "collapsed": false
   },
   "outputs": [],
   "source": [
    "if re.search(regex,'AATGTAA'):\n",
    "    print('pattern found!')"
   ]
  },
  {
   "cell_type": "code",
   "execution_count": null,
   "metadata": {
    "collapsed": false
   },
   "outputs": [],
   "source": [
    "regex = re.compile(r'AAT\\STAA')\n",
    "if re.search(regex,'AATCTAA'):\n",
    "    print('pattern found!')"
   ]
  },
  {
   "cell_type": "code",
   "execution_count": null,
   "metadata": {
    "collapsed": false
   },
   "outputs": [],
   "source": [
    "if re.search(regex,'AATGTAA'):\n",
    "    print('pattern found!')"
   ]
  },
  {
   "cell_type": "code",
   "execution_count": null,
   "metadata": {
    "collapsed": false
   },
   "outputs": [],
   "source": [
    "if re.search(regex,'AAT TAA'):\n",
    "    print('pattern found!')"
   ]
  },
  {
   "cell_type": "markdown",
   "metadata": {},
   "source": [
    "#### Alteration\n",
    "When we want to create multiple options for longer patterns, character groups are not enough. In these cases we have to use the special '|' (pipe) character, which simply means 'or'.  \n",
    "For example, if we want to match a pattern that starts with AGG, then either CCG __or__ TAG, and finally GTG, we can do: "
   ]
  },
  {
   "cell_type": "code",
   "execution_count": null,
   "metadata": {
    "collapsed": false
   },
   "outputs": [],
   "source": [
    "regex = re.compile(r'AGG(CCG|TAG)GTG')\n",
    "if re.search(regex,'AGGTAGGTG'):\n",
    "    print('pattern found!')"
   ]
  },
  {
   "cell_type": "code",
   "execution_count": null,
   "metadata": {
    "collapsed": false
   },
   "outputs": [],
   "source": [
    "if re.search(regex,'AGGCCGGTG'):\n",
    "    print('pattern found!')"
   ]
  },
  {
   "cell_type": "code",
   "execution_count": null,
   "metadata": {
    "collapsed": false
   },
   "outputs": [],
   "source": [
    "if re.search(regex,'AGGCCTGTG'):\n",
    "    print('pattern found!')"
   ]
  },
  {
   "cell_type": "markdown",
   "metadata": {},
   "source": [
    "#### Repetition\n",
    "In many cases, we want to write regular expressions where a part of the pattern repeats itself multiple times. For that, we use _quantifiers_.  \n",
    "If we know exactly how many repetitions we want, we can use `{<number>}`:"
   ]
  },
  {
   "cell_type": "code",
   "execution_count": null,
   "metadata": {
    "collapsed": false
   },
   "outputs": [],
   "source": [
    "regex = re.compile(r'GA{5}T')\n",
    "if re.search(regex,'GAAAAAT'):\n",
    "    print('pattern found!')"
   ]
  },
  {
   "cell_type": "code",
   "execution_count": null,
   "metadata": {
    "collapsed": false
   },
   "outputs": [],
   "source": [
    "if re.search(regex,'GAAAT'):\n",
    "    print('pattern found!')"
   ]
  },
  {
   "cell_type": "markdown",
   "metadata": {},
   "source": [
    "We can also set an acceptable range of number of repeats, which is done using `{<minimum repeats>,<maximum repeats>`:"
   ]
  },
  {
   "cell_type": "code",
   "execution_count": null,
   "metadata": {
    "collapsed": false
   },
   "outputs": [],
   "source": [
    "regex = re.compile(r'GA{3,5}T')\n",
    "if re.search(regex,'GAAAAAT'):\n",
    "    print('pattern found!')"
   ]
  },
  {
   "cell_type": "code",
   "execution_count": null,
   "metadata": {
    "collapsed": false
   },
   "outputs": [],
   "source": [
    "if re.search(regex,'GAAAT'):\n",
    "    print('pattern found!')"
   ]
  },
  {
   "cell_type": "code",
   "execution_count": null,
   "metadata": {
    "collapsed": false
   },
   "outputs": [],
   "source": [
    "if re.search(regex,'GAAAAAAT'):\n",
    "    print('pattern found!')"
   ]
  },
  {
   "cell_type": "markdown",
   "metadata": {},
   "source": [
    "To say 'x or more repetitions', we use `{x,}`. For 'up to x repetitions', we can use `{0,x}`."
   ]
  },
  {
   "cell_type": "markdown",
   "metadata": {},
   "source": [
    "For more general cases, there are three special symbols we can use:  \n",
    "- \\+ - repeat 1 or more times\n",
    "- \\* - repeat 0 or more times\n",
    "- ? - repeat 0 or 1 times, or in other words 'optional' character."
   ]
  },
  {
   "cell_type": "code",
   "execution_count": null,
   "metadata": {
    "collapsed": false
   },
   "outputs": [],
   "source": [
    "regex = re.compile(r'GA+TT?[AC]*')\n",
    "if re.search(regex,'GAATTACCA'):\n",
    "    print('pattern found!')"
   ]
  },
  {
   "cell_type": "code",
   "execution_count": null,
   "metadata": {
    "collapsed": false
   },
   "outputs": [],
   "source": [
    "if re.search(regex,'GATACCA'):\n",
    "    print('pattern found!')"
   ]
  },
  {
   "cell_type": "code",
   "execution_count": null,
   "metadata": {
    "collapsed": false
   },
   "outputs": [],
   "source": [
    "if re.search(regex,'GTACCA'):\n",
    "    print('pattern found!')"
   ]
  },
  {
   "cell_type": "code",
   "execution_count": null,
   "metadata": {
    "collapsed": false
   },
   "outputs": [],
   "source": [
    "if re.search(regex,'GAAAAAAAT'):\n",
    "    print('pattern found!')"
   ]
  },
  {
   "cell_type": "markdown",
   "metadata": {},
   "source": [
    "__Note 1__: Quantifiers always refer to the character that appears right before them. This could be a normal character or a character group. If we want to indicate a repeat of several characters, we enclose them in ()."
   ]
  },
  {
   "cell_type": "code",
   "execution_count": null,
   "metadata": {
    "collapsed": false
   },
   "outputs": [],
   "source": [
    "regex = re.compile(r'GGCG(AT)+GGG')\n",
    "if re.search(regex,'GGCGATATATATGGG'):\n",
    "    print('pattern found!')"
   ]
  },
  {
   "cell_type": "code",
   "execution_count": null,
   "metadata": {
    "collapsed": false
   },
   "outputs": [],
   "source": [
    "if re.search(regex,'GGCGATTAATGGG'):\n",
    "    print('pattern found!')"
   ]
  },
  {
   "cell_type": "code",
   "execution_count": null,
   "metadata": {
    "collapsed": false
   },
   "outputs": [],
   "source": [
    "regex = re.compile(r'GGCG(AT)?GGG')\n",
    "if re.search(regex,'GGCGATGGG'):\n",
    "    print('pattern found!')"
   ]
  },
  {
   "cell_type": "code",
   "execution_count": null,
   "metadata": {
    "collapsed": false
   },
   "outputs": [],
   "source": [
    "if re.search(regex,'GGCGGGG'):\n",
    "    print('pattern found!')"
   ]
  },
  {
   "cell_type": "markdown",
   "metadata": {},
   "source": [
    "__Note 2__: Whenever we want to match one of the special regex characters in its 'normal' context, we simply put a '\\' before it. For example: \\\\*, \\\\+, \\\\{..."
   ]
  },
  {
   "cell_type": "code",
   "execution_count": null,
   "metadata": {
    "collapsed": false
   },
   "outputs": [],
   "source": [
    "regex = re.compile(r'.+\\{\\d+\\}\\.')\n",
    "sentence = 'A sentence that ends with number in curly brackets {345}.'\n",
    "if re.search(regex,sentence):\n",
    "    print('pattern found!')"
   ]
  },
  {
   "cell_type": "markdown",
   "metadata": {},
   "source": [
    "## <span style=\"color:blue\">Class exercise 4D</span>"
   ]
  },
  {
   "cell_type": "markdown",
   "metadata": {},
   "source": [
    "The code below includes a list of made-up gene names. Complete it to only print gene names that satisfy the following criteria:  \n",
    "1. Contain the letter 'd' __or__ 'e'  \n",
    "2. Contain the letter 'd' __and__ 'e', in that order (not necessarily in a row)\n",
    "3. Contain three or more digits in a row"
   ]
  },
  {
   "cell_type": "code",
   "execution_count": null,
   "metadata": {
    "collapsed": false
   },
   "outputs": [],
   "source": [
    "import re\n",
    "genes = ['xkn59438', 'yhdck2', 'eihd39d9', 'chdsye847', 'hedle3455', 'xjhd53e', '45da', 'de37dp','map492ty']\n",
    "\n",
    "# 1.\n",
    "print('Gene names containing d or e:')\n",
    "regex1 = re.compile(r'[de]')\n",
    "for gene in genes:\n",
    "    if re.search(regex1,gene):\n",
    "        print(gene)\n",
    "        \n",
    "print('------------------------')\n",
    "\n",
    "# 2.\n",
    "print('Gene names containing d and e, in that order:')\n",
    "regex2 = re.compile(r'd[^e]*e')\n",
    "for gene in genes:\n",
    "    if re.search(regex2,gene):\n",
    "        print(gene)\n",
    "        \n",
    "print('------------------------')\n",
    "\n",
    "# 3.\n",
    "print('Gene names containing three digits in a row:')\n",
    "regex3 = re.compile(r'\\d{3,}')\n",
    "for gene in genes:\n",
    "    if re.search(regex3,gene):\n",
    "        print(gene)"
   ]
  },
  {
   "cell_type": "markdown",
   "metadata": {},
   "source": [
    "#### Enforcing positions\n",
    "We can enforce the a regex to match only the start or end of the input string. We do that by using the ^ and $ symbols, respectively."
   ]
  },
  {
   "cell_type": "code",
   "execution_count": null,
   "metadata": {
    "collapsed": false
   },
   "outputs": [],
   "source": [
    "regex = re.compile(r'^my name')\n",
    "if re.search(regex,'my name is Slim Shady'):\n",
    "    print('pattern found!')"
   ]
  },
  {
   "cell_type": "code",
   "execution_count": null,
   "metadata": {
    "collapsed": false
   },
   "outputs": [],
   "source": [
    "if re.search(regex,'This is my name'):\n",
    "    print('pattern found!')"
   ]
  },
  {
   "cell_type": "code",
   "execution_count": null,
   "metadata": {
    "collapsed": false
   },
   "outputs": [],
   "source": [
    "regex = re.compile(r'my name$')\n",
    "if re.search(regex,'This is my name'):\n",
    "    print('pattern found!')"
   ]
  },
  {
   "cell_type": "markdown",
   "metadata": {},
   "source": [
    "We can combine the start and end symbols to match a whole string:"
   ]
  },
  {
   "cell_type": "code",
   "execution_count": null,
   "metadata": {
    "collapsed": false
   },
   "outputs": [],
   "source": [
    "regex = re.compile(r'^GC[GTC]{2,10}TTA$')\n",
    "if re.search(regex,'GCTTCGCTTA'):\n",
    "    print('pattern found!')"
   ]
  },
  {
   "cell_type": "code",
   "execution_count": null,
   "metadata": {
    "collapsed": false
   },
   "outputs": [],
   "source": [
    "if re.search(regex,'GCTTCGCTTAG'):\n",
    "    print('pattern found!')"
   ]
  },
  {
   "cell_type": "markdown",
   "metadata": {},
   "source": [
    "### Extracting matches\n",
    "OK, now that we know the 'language' of regular expression, let's see another useful thing we can do with it.  \n",
    "So far, we only used regex to test if a string matches a pattern, but sometimes we also want to extract parts of the string for later use.  \n",
    "Let's take an example."
   ]
  },
  {
   "cell_type": "markdown",
   "metadata": {},
   "source": [
    "#### The GATA-4 Transcription factor\n",
    "GATA-4 is a TF in humans, known to have an important role in cardiac development (Oka, T., Maillet, M., Watt, A. J., Schwartz, R. J., Aronow, B. J., Duncan, S. A., & Molkentin, J. D. (2006). Cardiac-specific deletion of Gata4 reveals its requirement for hypertrophy, compensation, and myocyte viability. Circulation research, 98(6), 837-845.)  \n",
    "It is also known to bind the motif: AGATADMAGRSA (where M = A or C, D = A,G or T, R = A or G and S = C or G).  \n",
    "Using regex, it's easy to write a function that checks if a sequence includes this motif.\n",
    "![Motif](lec4_files/gata4.jpg)"
   ]
  },
  {
   "cell_type": "code",
   "execution_count": null,
   "metadata": {
    "collapsed": false
   },
   "outputs": [],
   "source": [
    "def check_for_GATA4(sequence):\n",
    "    motif_regex = re.compile(r'AGATA[AG][AC]AG[AG][CG]A')\n",
    "    if re.search(motif_regex,sequence):\n",
    "        return True\n",
    "    else:\n",
    "        return False"
   ]
  },
  {
   "cell_type": "code",
   "execution_count": null,
   "metadata": {
    "collapsed": false
   },
   "outputs": [],
   "source": [
    "test_seq1 = 'AGAGTCTTTGAGATAGCAGACATAGTATATGGATTACGCTGGTCTTGTAAACCATAAAAGGAGAGCCACACTCTCCCTAAGACTCAGGGAAGAGGCCAAAGCCCCACCACCAGCACCCAAAGCTG'\n",
    "check_for_GATA4(test_seq1)"
   ]
  },
  {
   "cell_type": "code",
   "execution_count": null,
   "metadata": {
    "collapsed": false
   },
   "outputs": [],
   "source": [
    "test_seq2 = 'AGAGTCTTTGAGATAGTAGACATAGTATATGGATTACGCTGGTCTTGTAAACCATAAAAGGAGAGCCACACTCTCCCTAAGACTCAGGGAAGAGGCCAAAGCCCCACCACCAGCACCCAAAGCTG'\n",
    "check_for_GATA4(test_seq2)"
   ]
  },
  {
   "cell_type": "markdown",
   "metadata": {},
   "source": [
    "But what if we want to extract the actual sequence that matches the regex?  \n",
    "Let's have another look at the `re.search()` method. So far, we only used it to test if a match exists or not. But it actually returns something, which we can use to get the exact match, with the `group()` method.  \n",
    "This method is used on the search result to get the match. So the following function will return the actual match in the sequence, if one exists. Otherwise, it will return `None`."
   ]
  },
  {
   "cell_type": "code",
   "execution_count": null,
   "metadata": {
    "collapsed": false
   },
   "outputs": [],
   "source": [
    "def find_GATA4_motif(sequence):\n",
    "    motif_regex = re.compile(r'AGATA[AG][AC]AG[AG][CG]A')\n",
    "    result = re.search(motif_regex,sequence)   # notice the assignment here\n",
    "    if result is None:\n",
    "        return None\n",
    "    else:\n",
    "        return result.group()"
   ]
  },
  {
   "cell_type": "code",
   "execution_count": null,
   "metadata": {
    "collapsed": false
   },
   "outputs": [],
   "source": [
    "print(find_GATA4_motif(test_seq1))"
   ]
  },
  {
   "cell_type": "code",
   "execution_count": null,
   "metadata": {
    "collapsed": false
   },
   "outputs": [],
   "source": [
    "print(find_GATA4_motif(test_seq2))"
   ]
  },
  {
   "cell_type": "markdown",
   "metadata": {},
   "source": [
    "Since most of the motif is fixed, we might only be interested in the 'ambiguous' parts (that is, the DM part and the RS part). We can _capture_ specific parts of the pattern by enclosing them with parentheses. Then we can extract them by giving the `group()` method an argument, where '1' means 'extract the first captured part', '2' means 'extract the second captured part' and so on. The following function will capture the ambiguous positions and return them as elements of a list."
   ]
  },
  {
   "cell_type": "code",
   "execution_count": null,
   "metadata": {
    "collapsed": false
   },
   "outputs": [],
   "source": [
    "def extract_ambiguous_for_GATA4(sequence):\n",
    "    motif_regex = re.compile(r'AGATA([AG])([AC])AG([AG])([CG])A') # notice the parentheses\n",
    "    result = re.search(motif_regex,sequence)\n",
    "    if result is None:\n",
    "        return None\n",
    "    else:\n",
    "        D = result.group(1)\n",
    "        M = result.group(2)\n",
    "        R = result.group(3)\n",
    "        S = result.group(4)\n",
    "        return [D,M,R,S]"
   ]
  },
  {
   "cell_type": "code",
   "execution_count": null,
   "metadata": {
    "collapsed": false
   },
   "outputs": [],
   "source": [
    "D,M,R,S = extract_ambiguous_for_GATA4(test_seq1)\n",
    "print('D nucleotide:',D)\n",
    "print('M nucleotide:',M)\n",
    "print('R nucleotide:',R)\n",
    "print('S nucleotide:',S)"
   ]
  },
  {
   "cell_type": "markdown",
   "metadata": {},
   "source": [
    "### More on regular expression\n",
    "There are some other cool things we can do with regex, which we'll not discuss here:\n",
    "* Split strings by regex\n",
    "* Substitute parts of string using regex\n",
    "* Get the position in the string where a pattern was found  \n",
    "If you want to do any of these, take a look at the re module documentation  \n",
    "https://docs.python.org/3/library/re.html"
   ]
  },
  {
   "cell_type": "markdown",
   "metadata": {},
   "source": [
    "#### Recommended:\n",
    "The Regex Coach is a very useful software when dealing with more complex patterns. It lets you try your regular expressions interactively, see if they work and what parts are extracted. Download and more information [here](http://www.weitz.de/regex-coach/#install)."
   ]
  },
  {
   "cell_type": "markdown",
   "metadata": {},
   "source": [
    "## <span style=\"color:blue\">Class exercise 4E</span>"
   ]
  },
  {
   "cell_type": "markdown",
   "metadata": {},
   "source": [
    "The 'GATA4_promoters.fasta' file includes (made-up) promoter sequences for genes suspected to be regulated by GATA-4.  \n",
    "We'll use everything we've learned so far to write a program that summarizes some interesting statistics regarding the GATA-4 motifs in these promoters.  \n",
    "First, let's adjust the parse\\_fasta() function we created earlier for the specif format of the promoters file:"
   ]
  },
  {
   "cell_type": "code",
   "execution_count": null,
   "metadata": {
    "collapsed": false
   },
   "outputs": [],
   "source": [
    "def parse_promoters_fasta(file_name):\n",
    "    \"\"\"\n",
    "    Receives a path to a fasta file, and returns a dictionary where the keys\n",
    "    are the sequence names and the values are the sequences.\n",
    "    \"\"\"\n",
    "    # create an empty dictionary to store the sequences\n",
    "    sequences = {}\n",
    "    # open fasta file for reading\n",
    "    with open(file_name,'r') as f:\n",
    "        # Loop over file lines\n",
    "        for line in f:\n",
    "            # if header line\n",
    "            if line.startswith('>'):\n",
    "                seq_id = line[1:-1]   # take the whole line, except the '>' in the beginning and '\\n' at the end\n",
    "            # if sequence line\n",
    "            else:\n",
    "                seq = line.strip()\n",
    "                sequences[seq_id] = seq\n",
    "    return sequences"
   ]
  },
  {
   "cell_type": "markdown",
   "metadata": {},
   "source": [
    "1)\n",
    "Write a function that receives a promoters fasta dictionary, and counts how many of the promoters have the GATA-4 motif. Use any of the functions defined above and complete the code:"
   ]
  },
  {
   "cell_type": "code",
   "execution_count": null,
   "metadata": {
    "collapsed": false
   },
   "outputs": [],
   "source": [
    "def count_promoters_with_motif(promoters_dictionary):\n",
    "    \"\"\"\n",
    "    Receives a dictionary representing a promoters fasta file,\n",
    "    and counts how many of the promoters include a GATA-4 motif.\n",
    "    \"\"\"\n",
    "    promoters_count = 0   # store the number of promoters with GATA-4 motif\n",
    "    for p in promoters_dictionary:\n",
    "        if check_for_GATA4(promoters_dictionary[p]):\n",
    "            promoters_count += 1\n",
    "    return promoters_count"
   ]
  },
  {
   "cell_type": "markdown",
   "metadata": {},
   "source": [
    "2) For promoters that do include the GATA-4 motif, we would like to know the frequencies of the different nucleotides for each of the four variable positions in the motif. Complete the code:"
   ]
  },
  {
   "cell_type": "code",
   "execution_count": null,
   "metadata": {
    "collapsed": false
   },
   "outputs": [],
   "source": [
    "def get_positions_statistics(promoters_dictionary):\n",
    "    \"\"\"\n",
    "    Receives a dictionary representing a promoters fasta file,\n",
    "    and returns the frequencies of possible nucleotides in \n",
    "    each variable position.\n",
    "    \"\"\"\n",
    "    # define a  dictionary for each position, to store the nucleotide frequencies\n",
    "    # D position\n",
    "    D_dict = {'A':0, 'G':0, 'T':0}\n",
    "    # M position\n",
    "    M_dict = {'A':0, 'C':0}\n",
    "    # R position\n",
    "    R_dict = {'A':0, 'G':0}\n",
    "    # S position\n",
    "    S_dict = {'C':0, 'G':0}\n",
    "    \n",
    "    # itterate over promoters\n",
    "    for p in promoters_dictionary:\n",
    "        # if promoter includes the GATA-4 motif\n",
    "        if check_for_GATA4(promoters_dictionary[p]):\n",
    "            # get variable nucleotides in promoter\n",
    "            D,M,R,S = extract_ambiguous_for_GATA4(promoters_dictionary[p])\n",
    "            # insert to dictionaries\n",
    "            D_dict[D] += 1\n",
    "            M_dict[M] += 1\n",
    "            R_dict[R] += 1\n",
    "            S_dict[S] += 1\n",
    "            \n",
    "    return D_dict, M_dict, R_dict, S_dict"
   ]
  },
  {
   "cell_type": "markdown",
   "metadata": {},
   "source": [
    "3) Now, we just have to write a function that will summarize the results in a CSV file. It should receive the frequencies dictionaries and write statistics to an output file. Complete the code:"
   ]
  },
  {
   "cell_type": "code",
   "execution_count": null,
   "metadata": {
    "collapsed": false
   },
   "outputs": [],
   "source": [
    "def summarize_results(D_dict, M_dict, R_dict, S_dict, output_file):\n",
    "    with open(output_file, 'w') as fo:\n",
    "        csv_writer = csv.writer(fo)\n",
    "        # write headers line\n",
    "        csv_writer.writerow(['Position','A','G','C','T'])\n",
    "        # summarize D position\n",
    "        csv_writer.writerow(['D',D_dict['A'],D_dict['G'],0,D_dict['T']])\n",
    "        # summarize M position\n",
    "        csv_writer.writerow(['M',M_dict['A'],0,M_dict['C'],0])\n",
    "        # summarize R position\n",
    "        csv_writer.writerow(['R',R_dict['A'],R_dict['G'],0,0])\n",
    "        # summarize S position\n",
    "        csv_writer.writerow(['S',0,S_dict['G'],S_dict['C'],0])"
   ]
  },
  {
   "cell_type": "markdown",
   "metadata": {},
   "source": [
    "4) Now that we have all the functions ready, we can write the main program. Complete the code:"
   ]
  },
  {
   "cell_type": "code",
   "execution_count": null,
   "metadata": {
    "collapsed": false
   },
   "outputs": [],
   "source": [
    "import csv\n",
    "promoters_file = \"lec4_files/GATA4_promoters.fasta\"\n",
    "output_file = \"lec4_files/promoters_stats.csv\"\n",
    "\n",
    "# parse fasta file\n",
    "promoters_dict = parse_promoters_fasta(promoters_file)\n",
    "\n",
    "# Count promoters with/without GATA-4 motif\n",
    "promoters_with_motif = count_promoters_with_motif(promoters_dict)\n",
    "promoters_without_motif = len(promoters_dict) - promoters_with_motif\n",
    "print('Total promoters:',promoters_with_motif + promoters_without_motif)\n",
    "print('Promoters with GATA-4 motif:',promoters_with_motif)\n",
    "print('Promoters without GATA-4 motif:',promoters_without_motif)\n",
    "\n",
    "# Get statistics\n",
    "D_dict, M_dict, R_dict, S_dict = get_positions_statistics(promoters_dict)\n",
    "# write to CSV\n",
    "summarize_results(D_dict, M_dict, R_dict, S_dict,output_file)"
   ]
  },
  {
   "cell_type": "markdown",
   "metadata": {},
   "source": [
    "## Colophon\n",
    "This notebook was written by [Yoav Ram](http://www.yoavram.com) and is part of the _Python for Engineers_ course.\n",
    "\n",
    "The notebook was written using [Python](http://pytho.org/) 3.4.4, [IPython](http://ipython.org/) 4.0.3 and [Jupyter](http://jupyter.org) 4.0.6.\n",
    "\n",
    "This work is licensed under a CC BY-NC-SA 4.0 International License.\n",
    "\n",
    "![Python logo](https://www.python.org/static/community_logos/python-logo.png)"
   ]
  }
 ],
 "metadata": {
  "kernelspec": {
   "display_name": "Python 3",
   "language": "python",
   "name": "python3"
  },
  "language_info": {
   "codemirror_mode": {
    "name": "ipython",
    "version": 3
   },
   "file_extension": ".py",
   "mimetype": "text/x-python",
   "name": "python",
   "nbconvert_exporter": "python",
   "pygments_lexer": "ipython3",
   "version": "3.4.4"
  }
 },
 "nbformat": 4,
 "nbformat_minor": 0
}
