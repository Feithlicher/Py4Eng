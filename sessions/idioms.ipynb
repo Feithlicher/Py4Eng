{
 "cells": [
  {
   "cell_type": "markdown",
   "metadata": {},
   "source": [
    "![Py4Eng](https://dl.dropboxusercontent.com/u/1578682/py4eng_logo.png)\n",
    "\n",
    "# Pythonic Idioms\n",
    "## Yoav Ram"
   ]
  },
  {
   "cell_type": "markdown",
   "metadata": {},
   "source": [
    "# The Zen of Python"
   ]
  },
  {
   "cell_type": "code",
   "execution_count": 2,
   "metadata": {
    "collapsed": false
   },
   "outputs": [
    {
     "name": "stdout",
     "output_type": "stream",
     "text": [
      "The Zen of Python, by Tim Peters\n",
      "\n",
      "Beautiful is better than ugly.\n",
      "Explicit is better than implicit.\n",
      "Simple is better than complex.\n",
      "Complex is better than complicated.\n",
      "Flat is better than nested.\n",
      "Sparse is better than dense.\n",
      "Readability counts.\n",
      "Special cases aren't special enough to break the rules.\n",
      "Although practicality beats purity.\n",
      "Errors should never pass silently.\n",
      "Unless explicitly silenced.\n",
      "In the face of ambiguity, refuse the temptation to guess.\n",
      "There should be one-- and preferably only one --obvious way to do it.\n",
      "Although that way may not be obvious at first unless you're Dutch.\n",
      "Now is better than never.\n",
      "Although never is often better than *right* now.\n",
      "If the implementation is hard to explain, it's a bad idea.\n",
      "If the implementation is easy to explain, it may be a good idea.\n",
      "Namespaces are one honking great idea -- let's do more of those!\n"
     ]
    }
   ],
   "source": [
    "import this"
   ]
  },
  {
   "cell_type": "markdown",
   "metadata": {},
   "source": [
    "# PEP8\n",
    "\n",
    "The Python coding style recommendation.\n",
    "\n",
    "- Four spaces per indentation level\n",
    "- Never mix tabs and spaces\n",
    "- One blank line between functions\n",
    "- Two blank lines between classes\n",
    "- Space after `,` and `:`, but not before\n",
    "- Space before and after operators (`=`, `+`, etc.), except in argument list\n",
    "- `joined_lowercae` for variables and functions\n",
    "- `ALL_CAPS` for constants\n",
    "- `StudlyCaps` for classes\n",
    "- `camelCase` only if adding to existing code that uses it\n",
    "- `_` and `__` prefixes for \"hidden\" and builtin methods.\n",
    "- Maximum 80 chars per line; break in arguments lists and dicts or use `\\` if you must.\n",
    "- One line per statement; One statement per line\n",
    "- Docstrings (`\"\"\"`) for how to use the code\n",
    "- Comments (`#`) for why and how the code is written"
   ]
  },
  {
   "cell_type": "markdown",
   "metadata": {},
   "source": [
    "# Small idioms\n",
    "\n",
    "## Swapping values\n",
    "\n",
    "In some languages:"
   ]
  },
  {
   "cell_type": "code",
   "execution_count": 4,
   "metadata": {
    "collapsed": false
   },
   "outputs": [
    {
     "name": "stdout",
     "output_type": "stream",
     "text": [
      "5 3\n",
      "3 5\n"
     ]
    }
   ],
   "source": [
    "a = 5\n",
    "b = 3\n",
    "print(a, b)\n",
    "\n",
    "tmp = a\n",
    "a = b\n",
    "b = tmp\n",
    "print(a, b)"
   ]
  },
  {
   "cell_type": "markdown",
   "metadata": {},
   "source": [
    "In Python:"
   ]
  },
  {
   "cell_type": "code",
   "execution_count": 5,
   "metadata": {
    "collapsed": false
   },
   "outputs": [
    {
     "name": "stdout",
     "output_type": "stream",
     "text": [
      "3 5\n",
      "5 3\n"
     ]
    }
   ],
   "source": [
    "print(a, b)\n",
    "a, b = b, a\n",
    "print(a, b)"
   ]
  },
  {
   "cell_type": "markdown",
   "metadata": {},
   "source": [
    "This uses tuple packing and unpacking."
   ]
  },
  {
   "cell_type": "markdown",
   "metadata": {},
   "source": [
    "## Last statement is `_`"
   ]
  },
  {
   "cell_type": "code",
   "execution_count": 6,
   "metadata": {
    "collapsed": false
   },
   "outputs": [
    {
     "data": {
      "text/plain": [
       "9"
      ]
     },
     "execution_count": 6,
     "metadata": {},
     "output_type": "execute_result"
    }
   ],
   "source": [
    "5 + 4"
   ]
  },
  {
   "cell_type": "code",
   "execution_count": 7,
   "metadata": {
    "collapsed": false
   },
   "outputs": [
    {
     "name": "stdout",
     "output_type": "stream",
     "text": [
      "9\n"
     ]
    }
   ],
   "source": [
    "print(_)"
   ]
  },
  {
   "cell_type": "markdown",
   "metadata": {},
   "source": [
    "## `zip`"
   ]
  },
  {
   "cell_type": "code",
   "execution_count": 9,
   "metadata": {
    "collapsed": false
   },
   "outputs": [
    {
     "name": "stdout",
     "output_type": "stream",
     "text": [
      "{'John': 'Cleese', 'Eric': 'Idle', 'Michael': 'Palin', 'Terry': 'Gilliam'}\n"
     ]
    }
   ],
   "source": [
    "given = ['John', 'Eric', 'Terry', 'Michael']\n",
    "family = ['Cleese', 'Idle', 'Gilliam', 'Palin']\n",
    "\n",
    "pythons = dict(zip(given, family))\n",
    "print(pythons)"
   ]
  },
  {
   "cell_type": "markdown",
   "metadata": {},
   "source": [
    "## Implicit casting to `bool`"
   ]
  },
  {
   "cell_type": "code",
   "execution_count": 10,
   "metadata": {
    "collapsed": false
   },
   "outputs": [
    {
     "name": "stdout",
     "output_type": "stream",
     "text": [
      "Empty list\n"
     ]
    }
   ],
   "source": [
    "lst = []\n",
    "if lst:\n",
    "    print(lst[0])\n",
    "else:\n",
    "    print(\"Empty list\")"
   ]
  },
  {
   "cell_type": "code",
   "execution_count": 11,
   "metadata": {
    "collapsed": false
   },
   "outputs": [
    {
     "name": "stdout",
     "output_type": "stream",
     "text": [
      "51\n"
     ]
    }
   ],
   "source": [
    "a = 51\n",
    "if a:\n",
    "    print(a)\n",
    "else:\n",
    "    print('a is zero')"
   ]
  },
  {
   "cell_type": "code",
   "execution_count": 13,
   "metadata": {
    "collapsed": false
   },
   "outputs": [
    {
     "name": "stdout",
     "output_type": "stream",
     "text": [
      "I am nameless\n",
      "My name is Slim Shaddy\n"
     ]
    }
   ],
   "source": [
    "myname = ''\n",
    "if not myname:\n",
    "    print(\"I am nameless\")\n",
    "myname = 'Slim Shaddy'\n",
    "if myname:\n",
    "    print(\"My name is\", myname)"
   ]
  },
  {
   "cell_type": "markdown",
   "metadata": {},
   "source": [
    "## Default arguments\n",
    "\n",
    "Functions can have default arguments:"
   ]
  },
  {
   "cell_type": "code",
   "execution_count": 14,
   "metadata": {
    "collapsed": false
   },
   "outputs": [
    {
     "name": "stdout",
     "output_type": "stream",
     "text": [
      "5\n",
      "1\n"
     ]
    }
   ],
   "source": [
    "def foo(a=1):\n",
    "    print(a)\n",
    "\n",
    "foo(5)\n",
    "foo()"
   ]
  },
  {
   "cell_type": "markdown",
   "metadata": {},
   "source": [
    "If the default value is mutable, we should take care:"
   ]
  },
  {
   "cell_type": "code",
   "execution_count": 20,
   "metadata": {
    "collapsed": false
   },
   "outputs": [],
   "source": [
    "def foo(item, container=[]):\n",
    "    container.append(item)\n",
    "    return container"
   ]
  },
  {
   "cell_type": "code",
   "execution_count": 21,
   "metadata": {
    "collapsed": false
   },
   "outputs": [
    {
     "name": "stdout",
     "output_type": "stream",
     "text": [
      "[5]\n",
      "[5, 5]\n",
      "[5, 5, 5]\n"
     ]
    }
   ],
   "source": [
    "print(foo(5))\n",
    "print(foo(5))\n",
    "print(foo(5))"
   ]
  },
  {
   "cell_type": "markdown",
   "metadata": {},
   "source": [
    "The default value is set once, at function definition, so a mutable value will be mutated at each call to the function.\n",
    "\n",
    "So what can we do?"
   ]
  },
  {
   "cell_type": "code",
   "execution_count": 22,
   "metadata": {
    "collapsed": true
   },
   "outputs": [],
   "source": [
    "def foo(item, container=None):\n",
    "    if container is None:\n",
    "        container = []\n",
    "    container.append(item)\n",
    "    return container"
   ]
  },
  {
   "cell_type": "code",
   "execution_count": 23,
   "metadata": {
    "collapsed": false
   },
   "outputs": [
    {
     "name": "stdout",
     "output_type": "stream",
     "text": [
      "[5]\n",
      "[5]\n",
      "[5]\n"
     ]
    }
   ],
   "source": [
    "print(foo(5))\n",
    "print(foo(5))\n",
    "print(foo(5))"
   ]
  },
  {
   "cell_type": "markdown",
   "metadata": {},
   "source": [
    "## String formatting\n",
    "\n",
    "People used to use the `%` formatting, but the new approach is to use the `format` method of string:"
   ]
  },
  {
   "cell_type": "code",
   "execution_count": 28,
   "metadata": {
    "collapsed": false
   },
   "outputs": [
    {
     "name": "stdout",
     "output_type": "stream",
     "text": [
      "3 bottles of beer on the wall,\n",
      "3 bottles of beer.\n",
      "Take one down, pass it around,\n",
      "2 bottles of beer on the wall...\n",
      "2 bottles of beer on the wall,\n",
      "2 bottles of beer.\n",
      "Take one down, pass it around,\n",
      "1 bottles of beer on the wall...\n",
      "1 bottles of beer on the wall,\n",
      "1 bottles of beer.\n",
      "Take one down, pass it around,\n",
      "0 bottles of beer on the wall...\n"
     ]
    }
   ],
   "source": [
    "line = '{0} bottles of beer on the wall,\\n'\n",
    "line += '{0} bottles of beer.\\n'\n",
    "line += 'Take one down, pass it around,\\n'\n",
    "line += '{1} bottles of beer on the wall...'\n",
    "\n",
    "for bottles in range(3, 0, -1):\n",
    "    print(line.format(bottles, bottles - 1))"
   ]
  },
  {
   "cell_type": "markdown",
   "metadata": {},
   "source": [
    "# Comprehensions\n",
    "\n",
    "## List comprehensions\n",
    "\n",
    "Say we have a bunch of measurements in `data` and we want to calculate the mean and the standard deviation.\n",
    "\n",
    "The usual way to do this is with `for` loops:"
   ]
  },
  {
   "cell_type": "code",
   "execution_count": 31,
   "metadata": {
    "collapsed": false
   },
   "outputs": [
    {
     "name": "stdout",
     "output_type": "stream",
     "text": [
      "Mean: 5.375\n",
      "Standard deviation: 2.7810744326608736\n"
     ]
    }
   ],
   "source": [
    "data = [1, 7, 3, 6, 9, 2, 7, 8]\n",
    "mean = sum(data) / len(data)\n",
    "print('Mean:', mean)\n",
    "deviations = []\n",
    "for datum in data:\n",
    "    deviations.append((datum - mean)**2)\n",
    "var = sum(deviations) / len(deviations)\n",
    "stdev = var**0.5\n",
    "print(\"Standard deviation:\", stdev)"
   ]
  },
  {
   "cell_type": "markdown",
   "metadata": {},
   "source": [
    "We can replace the `for` loop with a list comprehension:"
   ]
  },
  {
   "cell_type": "code",
   "execution_count": 33,
   "metadata": {
    "collapsed": false
   },
   "outputs": [
    {
     "name": "stdout",
     "output_type": "stream",
     "text": [
      "Standard deviation: 2.7810744326608736\n"
     ]
    }
   ],
   "source": [
    "deviations = [(datum - mean)**2 for datum in data]\n",
    "var = sum(deviations) / len(deviations)\n",
    "stdev = var**0.5\n",
    "print(\"Standard deviation:\", stdev)"
   ]
  },
  {
   "cell_type": "markdown",
   "metadata": {},
   "source": [
    "We can add a condition, too. Say you want to calculate the deviations of above-average data:"
   ]
  },
  {
   "cell_type": "code",
   "execution_count": 34,
   "metadata": {
    "collapsed": false
   },
   "outputs": [
    {
     "data": {
      "text/plain": [
       "[2.640625, 0.390625, 13.140625, 2.640625, 6.890625]"
      ]
     },
     "execution_count": 34,
     "metadata": {},
     "output_type": "execute_result"
    }
   ],
   "source": [
    "pos_devs = [(datum - mean)**2 for datum in data if datum > mean]\n",
    "pos_devs"
   ]
  },
  {
   "cell_type": "markdown",
   "metadata": {},
   "source": [
    "## Dictionary comprehensions\n",
    "\n",
    "We can also use comprehensions to create dictionaries:"
   ]
  },
  {
   "cell_type": "code",
   "execution_count": 54,
   "metadata": {
    "collapsed": false
   },
   "outputs": [
    {
     "data": {
      "text/plain": [
       "{1: 19.140625,\n",
       " 2: 11.390625,\n",
       " 3: 5.640625,\n",
       " 6: 0.390625,\n",
       " 7: 2.640625,\n",
       " 8: 6.890625,\n",
       " 9: 13.140625}"
      ]
     },
     "execution_count": 54,
     "metadata": {},
     "output_type": "execute_result"
    }
   ],
   "source": [
    "data_devs = {datum: (datum - mean)**2 for datum in data}\n",
    "data_devs"
   ]
  },
  {
   "cell_type": "markdown",
   "metadata": {},
   "source": [
    "# Generators\n",
    "\n",
    "If we are not interested in the deviations but only in their sum, we don't have to build the actual `list`, like the comprehension does, but rather we can use a generator, which produces each value as we need it:"
   ]
  },
  {
   "cell_type": "code",
   "execution_count": 36,
   "metadata": {
    "collapsed": false
   },
   "outputs": [
    {
     "name": "stdout",
     "output_type": "stream",
     "text": [
      "Standard deviation: 2.7810744326608736\n"
     ]
    }
   ],
   "source": [
    "var = sum((datum - mean)**2 for datum in data) / len(data)\n",
    "print(\"Standard deviation:\", var**0.5)"
   ]
  },
  {
   "cell_type": "markdown",
   "metadata": {},
   "source": [
    "When going over many elements, sometimes we don't need the list in the memory, just one number at a time. This is where generators shine. For example, the `range` function is actually a generator, which can be converted into a list:"
   ]
  },
  {
   "cell_type": "code",
   "execution_count": 43,
   "metadata": {
    "collapsed": false
   },
   "outputs": [
    {
     "data": {
      "text/plain": [
       "range(0, 10)"
      ]
     },
     "execution_count": 43,
     "metadata": {},
     "output_type": "execute_result"
    }
   ],
   "source": [
    "range(10)"
   ]
  },
  {
   "cell_type": "code",
   "execution_count": 44,
   "metadata": {
    "collapsed": false
   },
   "outputs": [
    {
     "data": {
      "text/plain": [
       "[0, 1, 2, 3, 4, 5, 6, 7, 8, 9]"
      ]
     },
     "execution_count": 44,
     "metadata": {},
     "output_type": "execute_result"
    }
   ],
   "source": [
    "list(range(10))"
   ]
  },
  {
   "cell_type": "markdown",
   "metadata": {},
   "source": [
    "If we were to go over all the numbers from 0 to 1e8, creating that list before the iteration is costly in space. A generator doesn't create the entire list in memory, but rather lazily creates each elements as it is needed:"
   ]
  },
  {
   "cell_type": "code",
   "execution_count": 47,
   "metadata": {
    "collapsed": true
   },
   "outputs": [],
   "source": [
    "for i in list(range(10**8)):\n",
    "    pass"
   ]
  },
  {
   "cell_type": "code",
   "execution_count": 48,
   "metadata": {
    "collapsed": true
   },
   "outputs": [],
   "source": [
    "for i in range(10**8):\n",
    "    pass"
   ]
  },
  {
   "cell_type": "markdown",
   "metadata": {},
   "source": [
    "![Task manager](https://raw.github.com/yoavram/CS1001.py/master/list_vs_generator.png)"
   ]
  },
  {
   "cell_type": "markdown",
   "metadata": {},
   "source": [
    "Another example:"
   ]
  },
  {
   "cell_type": "code",
   "execution_count": 51,
   "metadata": {
    "collapsed": false
   },
   "outputs": [
    {
     "name": "stdout",
     "output_type": "stream",
     "text": [
      "3 loops, best of 3: 190 ms per loop\n"
     ]
    }
   ],
   "source": [
    "evens_less_than_1e6_list = [x for x in range(1, 10**6) if x % 2 == 0]\n",
    "%timeit -n 3 [x for x in range(1, 10**6) if x % 2 == 0]"
   ]
  },
  {
   "cell_type": "code",
   "execution_count": 52,
   "metadata": {
    "collapsed": false
   },
   "outputs": [
    {
     "name": "stdout",
     "output_type": "stream",
     "text": [
      "3 loops, best of 3: 2.62 µs per loop\n"
     ]
    }
   ],
   "source": [
    "evens_less_than_1e6_generator = (x for x in range(1, 10**6) if x % 2 == 0)\n",
    "%timeit -n 3 (x for x in range(1, 10**6) if x % 2 == 0)"
   ]
  },
  {
   "cell_type": "code",
   "execution_count": 53,
   "metadata": {
    "collapsed": false
   },
   "outputs": [
    {
     "name": "stdout",
     "output_type": "stream",
     "text": [
      "Size of list: 4290016\n",
      "Size of generator: 4069376\n"
     ]
    }
   ],
   "source": [
    "import sys\n",
    "print(\"Size of list:\", sys.getsizeof(evens_less_than_1e6_list))\n",
    "print(\"Size of generator:\", sys.getsizeof(list(evens_less_than_1e6_generator)))"
   ]
  },
  {
   "cell_type": "markdown",
   "metadata": {},
   "source": [
    "We can write more complex generators using the `yield` command. Say we want to go over all the natural numbers to find a number that matches some condition.\n",
    "We write a generator for the natural numbers:"
   ]
  },
  {
   "cell_type": "code",
   "execution_count": 2,
   "metadata": {
    "collapsed": true
   },
   "outputs": [],
   "source": [
    "def natural_numbers():\n",
    "    n = 0\n",
    "    while True:\n",
    "        n += 1\n",
    "        yield n"
   ]
  },
  {
   "cell_type": "code",
   "execution_count": 38,
   "metadata": {
    "collapsed": false
   },
   "outputs": [
    {
     "name": "stdout",
     "output_type": "stream",
     "text": [
      "510922\n"
     ]
    }
   ],
   "source": [
    "for n in natural_numbers():\n",
    "    if n % 667 == 0 and n**2 % 766 == 0:\n",
    "        break\n",
    "print(n)"
   ]
  },
  {
   "cell_type": "markdown",
   "metadata": {},
   "source": [
    "## Exercise\n",
    "\n",
    "Write a generator that, given a file handle, iterates over the **non-empty** lines in the file, removing the newline from the end of the lines.\n",
    "\n",
    "Run it on the file `data\\winter wind.txt`."
   ]
  },
  {
   "cell_type": "code",
   "execution_count": null,
   "metadata": {
    "collapsed": false
   },
   "outputs": [],
   "source": []
  },
  {
   "cell_type": "markdown",
   "metadata": {},
   "source": [
    "# Functional programming in Python\n",
    "\n",
    "## $\\lambda$ expressions\n",
    "\n",
    "Python supports anonymous functions using the `lambda` statement:"
   ]
  },
  {
   "cell_type": "code",
   "execution_count": 75,
   "metadata": {
    "collapsed": false
   },
   "outputs": [
    {
     "data": {
      "text/plain": [
       "8"
      ]
     },
     "execution_count": 75,
     "metadata": {},
     "output_type": "execute_result"
    }
   ],
   "source": [
    "(lambda x: x + 2)(6)"
   ]
  },
  {
   "cell_type": "code",
   "execution_count": 76,
   "metadata": {
    "collapsed": false
   },
   "outputs": [
    {
     "data": {
      "text/plain": [
       "function"
      ]
     },
     "execution_count": 76,
     "metadata": {},
     "output_type": "execute_result"
    }
   ],
   "source": [
    "type(lambda x: x + 2)"
   ]
  },
  {
   "cell_type": "code",
   "execution_count": 77,
   "metadata": {
    "collapsed": false
   },
   "outputs": [
    {
     "name": "stdout",
     "output_type": "stream",
     "text": [
      "8\n",
      "<class 'function'>\n"
     ]
    }
   ],
   "source": [
    "f = lambda x: x + 2\n",
    "print(f(6))\n",
    "print(type(f))"
   ]
  },
  {
   "cell_type": "markdown",
   "metadata": {},
   "source": [
    "# High-order functions\n",
    "\n",
    "High-order function are function that return other functions, and some time also get functions as input.\n",
    "\n",
    "Here is a function that, given a power, returns a function that raises numbers to that power:"
   ]
  },
  {
   "cell_type": "code",
   "execution_count": 80,
   "metadata": {
    "collapsed": false
   },
   "outputs": [
    {
     "data": {
      "text/plain": [
       "25"
      ]
     },
     "execution_count": 80,
     "metadata": {},
     "output_type": "execute_result"
    }
   ],
   "source": [
    "def make_pow(x):\n",
    "    def pow(y):\n",
    "        return y**x\n",
    "    return pow\n",
    "square = make_pow(2)\n",
    "square(5)"
   ]
  },
  {
   "cell_type": "markdown",
   "metadata": {},
   "source": [
    "## Exercise\n",
    "\n",
    "Below you will find the function `compose(f1, f2)` that given two functions `f1(x)` and `f2(x)` defines a new function `f3(x) = f2(f1(x))`.\n",
    "\n",
    "Use `compose` and `lambda` to define the function `f(x) = 2*x + 1`:"
   ]
  },
  {
   "cell_type": "code",
   "execution_count": 81,
   "metadata": {
    "collapsed": false
   },
   "outputs": [],
   "source": [
    "def compose(f1, f2):\n",
    "    def f3(x):\n",
    "        return f2(f1(x))\n",
    "    return f3"
   ]
  },
  {
   "cell_type": "code",
   "execution_count": null,
   "metadata": {
    "collapsed": true
   },
   "outputs": [],
   "source": []
  },
  {
   "cell_type": "markdown",
   "metadata": {},
   "source": [
    "\n",
    "## map\n",
    "\n",
    "`map` creates a generator that applies a function on all elements in a sequence."
   ]
  },
  {
   "cell_type": "code",
   "execution_count": 90,
   "metadata": {
    "collapsed": false
   },
   "outputs": [
    {
     "data": {
      "text/plain": [
       "<map at 0x89a65f8>"
      ]
     },
     "execution_count": 90,
     "metadata": {},
     "output_type": "execute_result"
    }
   ],
   "source": [
    "poets = [\n",
    "    'Shel Silverstein', \n",
    "    'Pablo Neruda', \n",
    "    'Maya Angelou',\n",
    "    'Edgar Allan Poe',\n",
    "    'Robert Frost',\n",
    "    'Emily Dickinson',\n",
    "    'Walt Whitman'\n",
    "]\n",
    "\n",
    "map(lambda name: name.split()[0], poets)"
   ]
  },
  {
   "cell_type": "code",
   "execution_count": 91,
   "metadata": {
    "collapsed": false
   },
   "outputs": [
    {
     "data": {
      "text/plain": [
       "['Shel', 'Pablo', 'Maya', 'Edgar', 'Robert', 'Emily', 'Walt']"
      ]
     },
     "execution_count": 91,
     "metadata": {},
     "output_type": "execute_result"
    }
   ],
   "source": [
    "list(map(lambda name: name.split()[0], poets))"
   ]
  },
  {
   "cell_type": "markdown",
   "metadata": {},
   "source": [
    "`map` can (and should!) work on generators:"
   ]
  },
  {
   "cell_type": "code",
   "execution_count": 4,
   "metadata": {
    "collapsed": false
   },
   "outputs": [
    {
     "name": "stdout",
     "output_type": "stream",
     "text": [
      "2, 4, 6, 8, 10, 12, 14, 16, 18, 20, "
     ]
    }
   ],
   "source": [
    "evens = map(lambda n: n * 2, natural_numbers())\n",
    "for n in evens:\n",
    "    print(n, end=\", \")\n",
    "    if n >= 20: break"
   ]
  },
  {
   "cell_type": "markdown",
   "metadata": {},
   "source": [
    "## `filter`\n",
    "\n",
    "`filter` creates a generator that produces all the elements in a sequence that pass a certain test. The test is given using a boolean function."
   ]
  },
  {
   "cell_type": "code",
   "execution_count": 5,
   "metadata": {
    "collapsed": false
   },
   "outputs": [
    {
     "name": "stdout",
     "output_type": "stream",
     "text": [
      "2, 4, 6, 8, 10, 12, 14, 16, 18, 20, "
     ]
    }
   ],
   "source": [
    "evens = filter(lambda n: n % 2 == 0, natural_numbers())\n",
    "for n in evens:\n",
    "    print(n, end=\", \")\n",
    "    if n >= 20: break"
   ]
  },
  {
   "cell_type": "markdown",
   "metadata": {
    "collapsed": false
   },
   "source": [
    "## `reduce`\n",
    "\n",
    "`reduce` applies a function of two arguments ($f:R^2 \\to R$) cumulatively to the items of a sequence,\n",
    "from left to right, so as to reduce the sequence to a single value.\n",
    "\n",
    "`reduce` is part of the `functools` module"
   ]
  },
  {
   "cell_type": "code",
   "execution_count": 6,
   "metadata": {
    "collapsed": true
   },
   "outputs": [],
   "source": [
    "from functools import reduce"
   ]
  },
  {
   "cell_type": "markdown",
   "metadata": {},
   "source": [
    "The easiest example is a replacement for `sum`:"
   ]
  },
  {
   "cell_type": "code",
   "execution_count": 8,
   "metadata": {
    "collapsed": false
   },
   "outputs": [
    {
     "data": {
      "text/plain": [
       "(45, 45)"
      ]
     },
     "execution_count": 8,
     "metadata": {},
     "output_type": "execute_result"
    }
   ],
   "source": [
    "reduce(lambda x, y: x + y, range(10)), sum(range(10))"
   ]
  },
  {
   "cell_type": "markdown",
   "metadata": {},
   "source": [
    "What about coding a product equivalent of `sum`?"
   ]
  },
  {
   "cell_type": "code",
   "execution_count": 18,
   "metadata": {
    "collapsed": false
   },
   "outputs": [
    {
     "data": {
      "text/plain": [
       "362880"
      ]
     },
     "execution_count": 18,
     "metadata": {},
     "output_type": "execute_result"
    }
   ],
   "source": [
    "reduce(lambda x, y: x * y, range(1, 10))"
   ]
  },
  {
   "cell_type": "markdown",
   "metadata": {},
   "source": [
    "Calculating the Fibonacci series up to the n-th element can also be done with `reduce`. Here we can set the initial seed to be different from the first element of the sequence, and we ignore the values from the input sequence as we always assign the \"right\" value to `_`:"
   ]
  },
  {
   "cell_type": "code",
   "execution_count": 20,
   "metadata": {
    "collapsed": false
   },
   "outputs": [
    {
     "data": {
      "text/plain": [
       "[0, 1, 1, 2, 3, 5, 8, 13, 21, 34]"
      ]
     },
     "execution_count": 20,
     "metadata": {},
     "output_type": "execute_result"
    }
   ],
   "source": [
    "def fib(n):\n",
    "    return reduce(lambda x, _: x + [x[-1] + x[-2]], range(n - 2), [0, 1])\n",
    "fib(10)"
   ]
  },
  {
   "cell_type": "markdown",
   "metadata": {},
   "source": [
    "## Exercise\n",
    "\n",
    "Use `reduce` to write the function `my_all(sequence)` that return `True` if all elements of `sequence` are `True` and `False` otherwise.\n",
    "\n",
    "**Note** Python already has an `all` function, so you can compare your results to it."
   ]
  },
  {
   "cell_type": "code",
   "execution_count": 22,
   "metadata": {
    "collapsed": false
   },
   "outputs": [],
   "source": [
    "seq1 = [True,  True, True]\n",
    "seq2 = [True, False, True]\n",
    "\n",
    "def myall(sequence):\n",
    "    # Your code here\n",
    "    pass\n",
    "\n",
    "assert myall(seq1) == all(seq1)\n",
    "assert myall(seq2) == all(seq2)"
   ]
  },
  {
   "cell_type": "markdown",
   "metadata": {},
   "source": [
    "Now use a combination of `map` and `reduce` to write a function that checks if all the numbers in a sequence are larger than `n`:"
   ]
  },
  {
   "cell_type": "code",
   "execution_count": 26,
   "metadata": {
    "collapsed": true
   },
   "outputs": [],
   "source": [
    "def check_larger(seq, n):\n",
    "    # Your code here\n",
    "    pass"
   ]
  },
  {
   "cell_type": "code",
   "execution_count": 25,
   "metadata": {
    "collapsed": false
   },
   "outputs": [],
   "source": [
    "assert check_larger([1, 3, 5, 7], 5) == False\n",
    "assert check_larger([1, 3, 5, 7], 0) == True"
   ]
  },
  {
   "cell_type": "markdown",
   "metadata": {},
   "source": [
    "# Sorting\n",
    "\n",
    "Python has to builtin sorting functions that are very flexible.\n",
    "\n",
    "`sorted` accepts a collection and returns a (new) sorted copy.\n",
    "\n",
    "`sort` is a method that sorts in-place."
   ]
  },
  {
   "cell_type": "code",
   "execution_count": 55,
   "metadata": {
    "collapsed": false
   },
   "outputs": [
    {
     "name": "stdout",
     "output_type": "stream",
     "text": [
      "[1, 7, 3, 6, 9, 2, 7, 8]\n",
      "[1, 2, 3, 6, 7, 7, 8, 9]\n",
      "[1, 2, 3, 6, 7, 7, 8, 9]\n"
     ]
    }
   ],
   "source": [
    "print(data)\n",
    "print(sorted(data))\n",
    "data.sort()\n",
    "print(data)"
   ]
  },
  {
   "cell_type": "markdown",
   "metadata": {},
   "source": [
    "You can also pass `sorted` and `sort` a `key` function that will determine the sorting:"
   ]
  },
  {
   "cell_type": "code",
   "execution_count": 58,
   "metadata": {
    "collapsed": false
   },
   "outputs": [
    {
     "name": "stdout",
     "output_type": "stream",
     "text": [
      "Unsorted:\n",
      " ['Kobe', 'Shaq', 'MJ', 'Magic', 'Larry']\n",
      "Sorted by deafult order:\n",
      " ['Kobe', 'Larry', 'MJ', 'Magic', 'Shaq']\n",
      "Sorted by length:\n",
      " ['MJ', 'Kobe', 'Shaq', 'Magic', 'Larry']\n"
     ]
    }
   ],
   "source": [
    "names = ['Kobe', 'Shaq', 'MJ', 'Magic', 'Larry']\n",
    "print(\"Unsorted:\\n\", names)\n",
    "print(\"Sorted by deafult order:\\n\", sorted(names))\n",
    "print(\"Sorted by length:\\n\", sorted(names, key=lambda name: len(name)))"
   ]
  },
  {
   "cell_type": "markdown",
   "metadata": {},
   "source": [
    "# Decorators\n",
    "\n",
    "Decorators are used to *modify functions* (and class decorators modify classes). A decorator is a function that takes a function as an argument (and possibly other arguments, too) and returns a function as its output.\n",
    "\n",
    "For example, maybe you want to print the output of some functions before they return. Instead of rewriting those functions, you can modify them with a decorator:"
   ]
  },
  {
   "cell_type": "code",
   "execution_count": 71,
   "metadata": {
    "collapsed": false
   },
   "outputs": [
    {
     "data": {
      "text/plain": [
       "20"
      ]
     },
     "execution_count": 71,
     "metadata": {},
     "output_type": "execute_result"
    }
   ],
   "source": [
    "# some functions\n",
    "def foo(x):\n",
    "    return x + 1\n",
    "def bar(x):\n",
    "    return 2 * x\n",
    "\n",
    "# the decorator\n",
    "def print_output(func):\n",
    "    def new_func(x):\n",
    "        ret_val = func(x)\n",
    "        print(ret_val)\n",
    "        return ret_val\n",
    "    return new_func\n",
    "\n",
    "foo(10)\n",
    "bar(10)"
   ]
  },
  {
   "cell_type": "code",
   "execution_count": 72,
   "metadata": {
    "collapsed": false
   },
   "outputs": [
    {
     "name": "stdout",
     "output_type": "stream",
     "text": [
      "11\n",
      "20\n"
     ]
    },
    {
     "data": {
      "text/plain": [
       "20"
      ]
     },
     "execution_count": 72,
     "metadata": {},
     "output_type": "execute_result"
    }
   ],
   "source": [
    "foo = print_output(foo)\n",
    "bar = print_output(bar)\n",
    "foo(10)\n",
    "bar(10)"
   ]
  },
  {
   "cell_type": "markdown",
   "metadata": {},
   "source": [
    "If you write the decorated function after you already wrote the decorator, you can use `@decorator_name` before the function definition:"
   ]
  },
  {
   "cell_type": "code",
   "execution_count": 73,
   "metadata": {
    "collapsed": false
   },
   "outputs": [
    {
     "name": "stdout",
     "output_type": "stream",
     "text": [
      "4\n",
      "9\n"
     ]
    },
    {
     "data": {
      "text/plain": [
       "13"
      ]
     },
     "execution_count": 73,
     "metadata": {},
     "output_type": "execute_result"
    }
   ],
   "source": [
    "@print_output\n",
    "def square(x):\n",
    "    return x**2\n",
    "\n",
    "square(2) + square(3)"
   ]
  },
  {
   "cell_type": "markdown",
   "metadata": {},
   "source": [
    "## Exercise\n",
    "\n",
    "Write a decorator function that raises an exception if the argument is not a string, then decorate the following functions with it:"
   ]
  },
  {
   "cell_type": "code",
   "execution_count": 74,
   "metadata": {
    "collapsed": true
   },
   "outputs": [],
   "source": [
    "def repeat_twice(text):\n",
    "    return text + text\n",
    "\n",
    "def reverse(text):\n",
    "    return text[::-1]"
   ]
  },
  {
   "cell_type": "code",
   "execution_count": null,
   "metadata": {
    "collapsed": true
   },
   "outputs": [],
   "source": []
  },
  {
   "cell_type": "markdown",
   "metadata": {},
   "source": []
  },
  {
   "cell_type": "code",
   "execution_count": null,
   "metadata": {
    "collapsed": true
   },
   "outputs": [],
   "source": []
  },
  {
   "cell_type": "markdown",
   "metadata": {},
   "source": [
    "# References\n",
    "- Some code and ideas were taken from [CS1001.py](https://github.com/yoavram/CS1001.py)\n",
    "- Some code and ideas were taken from [Code like a Pythonista](http://python.net/~goodger/projects/pycon/2007/idiomatic/presentation.html)\n",
    "- [Decorators I: Introduction to Python Decorators](http://www.artima.com/weblogs/viewpost.jsp?thread=240808)"
   ]
  },
  {
   "cell_type": "markdown",
   "metadata": {},
   "source": [
    "## Colophon\n",
    "This notebook was written by [Yoav Ram](http://www.yoavram.com) and is part of the _Python for Engineers_ course.\n",
    "\n",
    "The notebook was written using [Python](http://pytho.org/) 3.4.4, [IPython](http://ipython.org/) 4.0.3 and [Jupyter](http://jupyter.org) 4.0.6.\n",
    "\n",
    "This work is licensed under a CC BY-NC-SA 4.0 International License.\n",
    "\n",
    "![Python logo](https://www.python.org/static/community_logos/python-logo.png)"
   ]
  }
 ],
 "metadata": {
  "kernelspec": {
   "display_name": "Python 3",
   "language": "python",
   "name": "python3"
  },
  "language_info": {
   "codemirror_mode": {
    "name": "ipython",
    "version": 3
   },
   "file_extension": ".py",
   "mimetype": "text/x-python",
   "name": "python",
   "nbconvert_exporter": "python",
   "pygments_lexer": "ipython3",
   "version": "3.4.4"
  }
 },
 "nbformat": 4,
 "nbformat_minor": 0
}
