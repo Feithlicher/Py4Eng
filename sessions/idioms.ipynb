{
 "cells": [
  {
   "cell_type": "markdown",
   "metadata": {},
   "source": [
    "![Py4Eng](img/logo.png)\n",
    "\n",
    "# Pythonic Idioms\n",
    "## Yoav Ram"
   ]
  },
  {
   "cell_type": "markdown",
   "metadata": {},
   "source": [
    "# The Zen of Python"
   ]
  },
  {
   "cell_type": "code",
   "execution_count": 1,
   "metadata": {
    "collapsed": false
   },
   "outputs": [
    {
     "name": "stdout",
     "output_type": "stream",
     "text": [
      "The Zen of Python, by Tim Peters\n",
      "\n",
      "Beautiful is better than ugly.\n",
      "Explicit is better than implicit.\n",
      "Simple is better than complex.\n",
      "Complex is better than complicated.\n",
      "Flat is better than nested.\n",
      "Sparse is better than dense.\n",
      "Readability counts.\n",
      "Special cases aren't special enough to break the rules.\n",
      "Although practicality beats purity.\n",
      "Errors should never pass silently.\n",
      "Unless explicitly silenced.\n",
      "In the face of ambiguity, refuse the temptation to guess.\n",
      "There should be one-- and preferably only one --obvious way to do it.\n",
      "Although that way may not be obvious at first unless you're Dutch.\n",
      "Now is better than never.\n",
      "Although never is often better than *right* now.\n",
      "If the implementation is hard to explain, it's a bad idea.\n",
      "If the implementation is easy to explain, it may be a good idea.\n",
      "Namespaces are one honking great idea -- let's do more of those!\n"
     ]
    }
   ],
   "source": [
    "import this"
   ]
  },
  {
   "cell_type": "markdown",
   "metadata": {},
   "source": [
    "# PEP8\n",
    "\n",
    "The Python coding style recommendation.\n",
    "\n",
    "- Four spaces per indentation level\n",
    "- Never mix tabs and spaces\n",
    "- One blank line between functions\n",
    "- Two blank lines between classes\n",
    "- Space after `,` and `:`, but not before\n",
    "- Space before and after operators (`=`, `+`, etc.), except in argument list\n",
    "- `joined_lowercae` for variables and functions\n",
    "- `ALL_CAPS` for constants\n",
    "- `StudlyCaps` for classes\n",
    "- `camelCase` only if adding to existing code that uses it\n",
    "- `_` and `__` prefixes for \"hidden\" and builtin methods.\n",
    "- Maximum 80 chars per line; break in arguments lists and dicts or use `\\` if you must.\n",
    "- One line per statement; One statement per line\n",
    "- Docstrings (`\"\"\"`) for how to use the code\n",
    "- Comments (`#`) for why and how the code is written"
   ]
  },
  {
   "cell_type": "markdown",
   "metadata": {},
   "source": [
    "# Small idioms\n",
    "\n",
    "## Swapping values\n",
    "\n",
    "In some languages:"
   ]
  },
  {
   "cell_type": "code",
   "execution_count": 2,
   "metadata": {
    "collapsed": false
   },
   "outputs": [
    {
     "name": "stdout",
     "output_type": "stream",
     "text": [
      "5 3\n",
      "3 5\n"
     ]
    }
   ],
   "source": [
    "a = 5\n",
    "b = 3\n",
    "print(a, b)\n",
    "\n",
    "tmp = a\n",
    "a = b\n",
    "b = tmp\n",
    "print(a, b)"
   ]
  },
  {
   "cell_type": "markdown",
   "metadata": {},
   "source": [
    "In Python we can use _tuple packing and unpacking_:"
   ]
  },
  {
   "cell_type": "code",
   "execution_count": 3,
   "metadata": {
    "collapsed": false
   },
   "outputs": [
    {
     "name": "stdout",
     "output_type": "stream",
     "text": [
      "3 5\n",
      "5 3\n"
     ]
    }
   ],
   "source": [
    "print(a, b)\n",
    "a, b = b, a\n",
    "print(a, b)"
   ]
  },
  {
   "cell_type": "markdown",
   "metadata": {},
   "source": [
    "This uses tuple packing and unpacking."
   ]
  },
  {
   "cell_type": "markdown",
   "metadata": {},
   "source": [
    "## Last statement is `_`"
   ]
  },
  {
   "cell_type": "code",
   "execution_count": 4,
   "metadata": {
    "collapsed": false
   },
   "outputs": [
    {
     "data": {
      "text/plain": [
       "9"
      ]
     },
     "execution_count": 4,
     "metadata": {},
     "output_type": "execute_result"
    }
   ],
   "source": [
    "5 + 4"
   ]
  },
  {
   "cell_type": "code",
   "execution_count": 5,
   "metadata": {
    "collapsed": false
   },
   "outputs": [
    {
     "name": "stdout",
     "output_type": "stream",
     "text": [
      "9\n"
     ]
    }
   ],
   "source": [
    "print(_)"
   ]
  },
  {
   "cell_type": "markdown",
   "metadata": {},
   "source": [
    "## `zip`\n",
    "\n",
    "`zip` takes several iterables and creates a new iterator in which object at index `i` is a tuple of the elements at index `i` in the original iterables."
   ]
  },
  {
   "cell_type": "code",
   "execution_count": 7,
   "metadata": {
    "collapsed": false
   },
   "outputs": [
    {
     "data": {
      "text/plain": [
       "<zip at 0x44c4988>"
      ]
     },
     "execution_count": 7,
     "metadata": {},
     "output_type": "execute_result"
    }
   ],
   "source": [
    "given = ['John', 'Eric', 'Terry', 'Michael']\n",
    "family = ['Cleese', 'Idle', 'Gilliam', 'Palin']\n",
    "zip(given, family)"
   ]
  },
  {
   "cell_type": "markdown",
   "metadata": {},
   "source": [
    "To use the `zip` object returned we need to iterate it or convert it to another type:"
   ]
  },
  {
   "cell_type": "code",
   "execution_count": 8,
   "metadata": {
    "collapsed": false
   },
   "outputs": [
    {
     "name": "stdout",
     "output_type": "stream",
     "text": [
      "{'Michael': 'Palin', 'John': 'Cleese', 'Terry': 'Gilliam', 'Eric': 'Idle'}\n"
     ]
    }
   ],
   "source": [
    "pythons = dict(zip(given, family))\n",
    "print(pythons)"
   ]
  },
  {
   "cell_type": "markdown",
   "metadata": {},
   "source": [
    "## Implicit casting to `bool`\n",
    "\n",
    "All types can be converted to `bool` implicitly:"
   ]
  },
  {
   "cell_type": "code",
   "execution_count": 7,
   "metadata": {
    "collapsed": false
   },
   "outputs": [
    {
     "name": "stdout",
     "output_type": "stream",
     "text": [
      "Empty list\n"
     ]
    }
   ],
   "source": [
    "lst = []\n",
    "if lst:\n",
    "    print(lst[0])\n",
    "else:\n",
    "    print(\"Empty list\")"
   ]
  },
  {
   "cell_type": "code",
   "execution_count": 8,
   "metadata": {
    "collapsed": false
   },
   "outputs": [
    {
     "name": "stdout",
     "output_type": "stream",
     "text": [
      "51\n"
     ]
    }
   ],
   "source": [
    "a = 51\n",
    "if a:\n",
    "    print(a)\n",
    "else:\n",
    "    print('a is zero')"
   ]
  },
  {
   "cell_type": "code",
   "execution_count": 9,
   "metadata": {
    "collapsed": false
   },
   "outputs": [
    {
     "name": "stdout",
     "output_type": "stream",
     "text": [
      "I am nameless\n",
      "My name is Slim Shaddy\n"
     ]
    }
   ],
   "source": [
    "myname = ''\n",
    "if not myname:\n",
    "    print(\"I am nameless\")\n",
    "myname = 'Slim Shaddy'\n",
    "if myname:\n",
    "    print(\"My name is\", myname)"
   ]
  },
  {
   "cell_type": "code",
   "execution_count": 2,
   "metadata": {
    "collapsed": false
   },
   "outputs": [
    {
     "name": "stdout",
     "output_type": "stream",
     "text": [
      "1\n"
     ]
    }
   ],
   "source": [
    "class A:\n",
    "    \n",
    "    def __init__(self, a):\n",
    "        self.a = a\n",
    "        \n",
    "    def __bool__(self):\n",
    "        return bool(self.a)\n",
    "    \n",
    "a1 = A(1)\n",
    "a2 = A(0)\n",
    "if a1:\n",
    "    print(a1.a)\n",
    "if a2:\n",
    "    print(a2.a)"
   ]
  },
  {
   "cell_type": "markdown",
   "metadata": {},
   "source": [
    "## Default arguments\n",
    "\n",
    "Functions can have default arguments:"
   ]
  },
  {
   "cell_type": "code",
   "execution_count": 10,
   "metadata": {
    "collapsed": false
   },
   "outputs": [
    {
     "name": "stdout",
     "output_type": "stream",
     "text": [
      "5\n",
      "1\n"
     ]
    }
   ],
   "source": [
    "def foo(a=1):\n",
    "    print(a)\n",
    "\n",
    "foo(5)\n",
    "foo()"
   ]
  },
  {
   "cell_type": "markdown",
   "metadata": {},
   "source": [
    "If the default value is mutable, we should take care:"
   ]
  },
  {
   "cell_type": "code",
   "execution_count": 11,
   "metadata": {
    "collapsed": false
   },
   "outputs": [],
   "source": [
    "def foo(item, container=[]):\n",
    "    container.append(item)\n",
    "    return container"
   ]
  },
  {
   "cell_type": "code",
   "execution_count": 12,
   "metadata": {
    "collapsed": false
   },
   "outputs": [
    {
     "name": "stdout",
     "output_type": "stream",
     "text": [
      "[5]\n",
      "[5, 5]\n",
      "[5, 5, 5]\n"
     ]
    }
   ],
   "source": [
    "print(foo(5))\n",
    "print(foo(5))\n",
    "print(foo(5))"
   ]
  },
  {
   "cell_type": "markdown",
   "metadata": {},
   "source": [
    "The default value is set once, at function definition, so a mutable value will be mutated at each call to the function.\n",
    "\n",
    "So what can we do?"
   ]
  },
  {
   "cell_type": "code",
   "execution_count": 13,
   "metadata": {
    "collapsed": true
   },
   "outputs": [],
   "source": [
    "def foo(item, container=None):\n",
    "    if container is None:\n",
    "        container = [] \n",
    "    container.append(item)\n",
    "    return container"
   ]
  },
  {
   "cell_type": "code",
   "execution_count": 14,
   "metadata": {
    "collapsed": false
   },
   "outputs": [
    {
     "name": "stdout",
     "output_type": "stream",
     "text": [
      "[5]\n",
      "[5]\n",
      "[5]\n"
     ]
    }
   ],
   "source": [
    "print(foo(5))\n",
    "print(foo(5))\n",
    "print(foo(5))"
   ]
  },
  {
   "cell_type": "markdown",
   "metadata": {},
   "source": [
    "## String formatting\n",
    "\n",
    "We used to use the `%` formatting, but the new approach is to use the `format` method of string.\n",
    "\n",
    "See [Python String Format Cookbook](https://mkaz.github.io/2012/10/10/python-string-format/) for help."
   ]
  },
  {
   "cell_type": "code",
   "execution_count": 15,
   "metadata": {
    "collapsed": false
   },
   "outputs": [
    {
     "name": "stdout",
     "output_type": "stream",
     "text": [
      "3 bottles of beer on the wall,\n",
      "3 bottles of beer.\n",
      "Take one down, pass it around,\n",
      "2 bottles of beer on the wall...\n",
      "2 bottles of beer on the wall,\n",
      "2 bottles of beer.\n",
      "Take one down, pass it around,\n",
      "1 bottles of beer on the wall...\n",
      "1 bottles of beer on the wall,\n",
      "1 bottles of beer.\n",
      "Take one down, pass it around,\n",
      "0 bottles of beer on the wall...\n"
     ]
    }
   ],
   "source": [
    "line = '{0} bottles of beer on the wall,\\n'\n",
    "line += '{0} bottles of beer.\\n'\n",
    "line += 'Take one down, pass it around,\\n'\n",
    "line += '{1} bottles of beer on the wall...'\n",
    "\n",
    "for bottles in range(3, 0, -1):\n",
    "    print(line.format(bottles, bottles - 1))"
   ]
  },
  {
   "cell_type": "markdown",
   "metadata": {},
   "source": [
    "## Exercise\n",
    "\n",
    "Given the variables below, print the string:\n",
    "\n",
    "> Io was discovered in 1610 by Galileo Galilei and was last visited in 2007 by New Horizons. It's radius is 1822 km and it's mass is 8.93194e+22 kg."
   ]
  },
  {
   "cell_type": "code",
   "execution_count": 20,
   "metadata": {
    "collapsed": false
   },
   "outputs": [],
   "source": [
    "name = 'Io'\n",
    "discovery_year = 1610\n",
    "discoverer = 'Galileo Galilei'\n",
    "radius = 1821.6\n",
    "mass = 8.931938e22\n",
    "last_visited = '2007'\n",
    "last_visitor = 'New Horizons'\n",
    "\n"
   ]
  },
  {
   "cell_type": "markdown",
   "metadata": {},
   "source": [
    "# Comprehensions\n",
    "\n",
    "## List comprehensions\n",
    "\n",
    "Say we have a bunch of measurements in a list called `data` and we want to calculate the mean and the standard deviation.\n",
    "\n",
    "The usual way to do this is with `for` loops:"
   ]
  },
  {
   "cell_type": "code",
   "execution_count": 16,
   "metadata": {
    "collapsed": false
   },
   "outputs": [
    {
     "name": "stdout",
     "output_type": "stream",
     "text": [
      "Mean: 5.375\n",
      "Standard deviation: 2.7810744326608736\n"
     ]
    }
   ],
   "source": [
    "data = [1, 7, 3, 6, 9, 2, 7, 8]\n",
    "mean = sum(data) / len(data)\n",
    "print('Mean:', mean)\n",
    "\n",
    "deviations = []\n",
    "for datum in data:\n",
    "    deviations.append((datum - mean)**2)\n",
    "var = sum(deviations) / len(deviations)\n",
    "stdev = var**0.5\n",
    "\n",
    "print(\"Standard deviation:\", stdev)"
   ]
  },
  {
   "cell_type": "markdown",
   "metadata": {},
   "source": [
    "We can replace the `for` loop with a list comprehension:"
   ]
  },
  {
   "cell_type": "code",
   "execution_count": 17,
   "metadata": {
    "collapsed": false
   },
   "outputs": [
    {
     "name": "stdout",
     "output_type": "stream",
     "text": [
      "Standard deviation: 2.7810744326608736\n"
     ]
    }
   ],
   "source": [
    "deviations = [(datum - mean)**2 for datum in data]\n",
    "var = sum(deviations) / len(deviations)\n",
    "stdev = var**0.5\n",
    "print(\"Standard deviation:\", stdev)"
   ]
  },
  {
   "cell_type": "markdown",
   "metadata": {},
   "source": [
    "We can add a condition, too. Say you want to calculate the deviations of above-average data:"
   ]
  },
  {
   "cell_type": "code",
   "execution_count": 18,
   "metadata": {
    "collapsed": false
   },
   "outputs": [
    {
     "data": {
      "text/plain": [
       "[2.640625, 0.390625, 13.140625, 2.640625, 6.890625]"
      ]
     },
     "execution_count": 18,
     "metadata": {},
     "output_type": "execute_result"
    }
   ],
   "source": [
    "pos_devs = [(datum - mean)**2 for datum in data if datum > mean]\n",
    "pos_devs"
   ]
  },
  {
   "cell_type": "markdown",
   "metadata": {},
   "source": [
    "## Exercise\n",
    "\n",
    "Remember that a leap is is a year that is divisible by 400 or divisible by 4 but not by 100.\n",
    "\n",
    "Write a listcomp to build a list of all leap years until today. Print the length of the list."
   ]
  },
  {
   "cell_type": "code",
   "execution_count": 12,
   "metadata": {
    "collapsed": false
   },
   "outputs": [
    {
     "data": {
      "text/plain": [
       "490"
      ]
     },
     "execution_count": 12,
     "metadata": {},
     "output_type": "execute_result"
    }
   ],
   "source": [
    "leap_years = [year for year in range(2017) if year % 400 == 0 or (year % 4 == 0 and year % 100 != 0)]\n",
    "len(leap_years)"
   ]
  },
  {
   "cell_type": "markdown",
   "metadata": {},
   "source": [
    "### Cartesian product\n",
    "\n",
    "We can insert several `for` statements in a single listcomp, producing all elements of a cartesian product.\n",
    "\n",
    "For example, consider how we construct a full pack of cards:"
   ]
  },
  {
   "cell_type": "code",
   "execution_count": 8,
   "metadata": {
    "collapsed": false
   },
   "outputs": [
    {
     "name": "stdout",
     "output_type": "stream",
     "text": [
      "52\n"
     ]
    }
   ],
   "source": [
    "suits = 'heart spade club diamond'\n",
    "numbers = range(2,11)\n",
    "royals = 'J Q K A'\n",
    "cards = [(s, n) for s in suits.split() for n in list(numbers) + royals.split()]\n",
    "print(len(cards))"
   ]
  },
  {
   "cell_type": "markdown",
   "metadata": {},
   "source": [
    "## Dictionary comprehensions\n",
    "\n",
    "We can also use comprehensions to create dictionaries:"
   ]
  },
  {
   "cell_type": "code",
   "execution_count": 19,
   "metadata": {
    "collapsed": false
   },
   "outputs": [
    {
     "data": {
      "text/plain": [
       "{1: 19.140625,\n",
       " 2: 11.390625,\n",
       " 3: 5.640625,\n",
       " 6: 0.390625,\n",
       " 7: 2.640625,\n",
       " 8: 6.890625,\n",
       " 9: 13.140625}"
      ]
     },
     "execution_count": 19,
     "metadata": {},
     "output_type": "execute_result"
    }
   ],
   "source": [
    "data_devs = {datum: (datum - mean)**2 for datum in data}\n",
    "data_devs"
   ]
  },
  {
   "cell_type": "markdown",
   "metadata": {},
   "source": [
    "## Set comprehensions"
   ]
  },
  {
   "cell_type": "code",
   "execution_count": 4,
   "metadata": {
    "collapsed": false
   },
   "outputs": [
    {
     "name": "stdout",
     "output_type": "stream",
     "text": [
      "9371\n",
      "True\n",
      "True\n"
     ]
    }
   ],
   "source": [
    "with open('../data/gulliver.txt') as f:\n",
    "    txt = f.read().lower()\n",
    "unique_words = {w for w in txt.split()}\n",
    "\n",
    "print(len(unique_words))\n",
    "print('love' in unique_words)\n",
    "print('war' in unique_words)"
   ]
  },
  {
   "cell_type": "markdown",
   "metadata": {},
   "source": [
    "# Generators\n",
    "\n",
    "## Generator expressions\n",
    "\n",
    "If we are not interested in the deviations but only in their sum, we don't have to build the actual `list`, like the comprehension does, but rather we can use a generator, which produces each value as we need it, using **lazy evaluation**:"
   ]
  },
  {
   "cell_type": "code",
   "execution_count": 20,
   "metadata": {
    "collapsed": false
   },
   "outputs": [
    {
     "name": "stdout",
     "output_type": "stream",
     "text": [
      "Standard deviation: 2.7810744326608736\n"
     ]
    }
   ],
   "source": [
    "var = sum((datum - mean)**2 for datum in data) / len(data)\n",
    "print(\"Standard deviation:\", var**0.5)"
   ]
  },
  {
   "cell_type": "markdown",
   "metadata": {},
   "source": [
    "When going over many elements, sometimes we don't need the list in the memory, just one number at a time. This is where generators shine. For example, the `range` function is actually a generator, which can be converted into a list:"
   ]
  },
  {
   "cell_type": "code",
   "execution_count": 21,
   "metadata": {
    "collapsed": false
   },
   "outputs": [
    {
     "data": {
      "text/plain": [
       "range(0, 10)"
      ]
     },
     "execution_count": 21,
     "metadata": {},
     "output_type": "execute_result"
    }
   ],
   "source": [
    "range(10)"
   ]
  },
  {
   "cell_type": "code",
   "execution_count": 22,
   "metadata": {
    "collapsed": false
   },
   "outputs": [
    {
     "data": {
      "text/plain": [
       "[0, 1, 2, 3, 4, 5, 6, 7, 8, 9]"
      ]
     },
     "execution_count": 22,
     "metadata": {},
     "output_type": "execute_result"
    }
   ],
   "source": [
    "list(range(10))"
   ]
  },
  {
   "cell_type": "markdown",
   "metadata": {},
   "source": [
    "If we were to go over all the numbers from 0 to $10^8$, creating that list before the iteration is costly in space. A generator doesn't create the entire list in memory, but rather lazily creates each elements as it is needed:"
   ]
  },
  {
   "cell_type": "code",
   "execution_count": 23,
   "metadata": {
    "collapsed": true
   },
   "outputs": [],
   "source": [
    "for i in list(range(10**8)):\n",
    "    pass"
   ]
  },
  {
   "cell_type": "code",
   "execution_count": 24,
   "metadata": {
    "collapsed": true
   },
   "outputs": [],
   "source": [
    "for i in range(10**8):\n",
    "    pass"
   ]
  },
  {
   "cell_type": "markdown",
   "metadata": {},
   "source": [
    "![Task manager](https://raw.github.com/yoavram/CS1001.py/master/list_vs_generator.png)"
   ]
  },
  {
   "cell_type": "markdown",
   "metadata": {},
   "source": [
    "Another example:"
   ]
  },
  {
   "cell_type": "code",
   "execution_count": 38,
   "metadata": {
    "collapsed": false
   },
   "outputs": [
    {
     "name": "stdout",
     "output_type": "stream",
     "text": [
      "3 loops, best of 3: 183 ms per loop\n"
     ]
    }
   ],
   "source": [
    "%timeit -n 3 [x for x in range(1, 10**6) if x % 2 == 0]"
   ]
  },
  {
   "cell_type": "code",
   "execution_count": 39,
   "metadata": {
    "collapsed": false
   },
   "outputs": [
    {
     "name": "stdout",
     "output_type": "stream",
     "text": [
      "3 loops, best of 3: 1.21 µs per loop\n"
     ]
    }
   ],
   "source": [
    "%timeit -n 3 (x for x in range(1, 10**6) if x % 2 == 0)"
   ]
  },
  {
   "cell_type": "code",
   "execution_count": 42,
   "metadata": {
    "collapsed": false
   },
   "outputs": [
    {
     "name": "stdout",
     "output_type": "stream",
     "text": [
      "Size of list: 4290016\n",
      "Size of generator: 4069376\n"
     ]
    }
   ],
   "source": [
    "import sys\n",
    "\n",
    "evens_less_than_1e6_list = [x for x in range(1, 10**6) if x % 2 == 0]\n",
    "print(\"Size of list:\", sys.getsizeof(evens_less_than_1e6_list))\n",
    "\n",
    "evens_less_than_1e6_generator = list((x for x in range(1, 10**6) if x % 2 == 0))\n",
    "print(\"Size of generator:\", sys.getsizeof(evens_less_than_1e6_generator))"
   ]
  },
  {
   "cell_type": "markdown",
   "metadata": {},
   "source": [
    "## Generator functions\n",
    "\n",
    "We can write more complex generators using functions in which the `yield` statement replaces the `return` statement. \n",
    "After calling these functions we have a generator object (similar to `range`).\n",
    "\n",
    "Say we want to go over all the natural numbers to find a number that matches some condition.\n",
    "We write a generator for the natural numbers, which is kind of a non-limit `range`:"
   ]
  },
  {
   "cell_type": "code",
   "execution_count": 112,
   "metadata": {
    "collapsed": false
   },
   "outputs": [
    {
     "data": {
      "text/plain": [
       "<generator object natural_numbers at 0x0000000006C50F68>"
      ]
     },
     "execution_count": 112,
     "metadata": {},
     "output_type": "execute_result"
    }
   ],
   "source": [
    "def natural_numbers():\n",
    "    n = 0\n",
    "    while True:\n",
    "        n += 1\n",
    "        yield n\n",
    "gen = natural_numbers()\n",
    "gen"
   ]
  },
  {
   "cell_type": "markdown",
   "metadata": {},
   "source": [
    "We can consume values from the generator one by one using the `next` function:"
   ]
  },
  {
   "cell_type": "code",
   "execution_count": 113,
   "metadata": {
    "collapsed": false
   },
   "outputs": [
    {
     "name": "stdout",
     "output_type": "stream",
     "text": [
      "1\n",
      "2\n",
      "3\n",
      "4\n"
     ]
    }
   ],
   "source": [
    "print(next(gen))\n",
    "print(next(gen))\n",
    "print(next(gen))\n",
    "print(next(gen))"
   ]
  },
  {
   "cell_type": "markdown",
   "metadata": {},
   "source": [
    "or by giving it to a `for` loop:"
   ]
  },
  {
   "cell_type": "code",
   "execution_count": 44,
   "metadata": {
    "collapsed": false
   },
   "outputs": [
    {
     "name": "stdout",
     "output_type": "stream",
     "text": [
      "510922\n"
     ]
    }
   ],
   "source": [
    "for n in natural_numbers():\n",
    "    if n % 667 == 0 and n**2 % 766 == 0:\n",
    "        break\n",
    "print(n)"
   ]
  },
  {
   "cell_type": "markdown",
   "metadata": {},
   "source": [
    "## Exercise\n",
    "\n",
    "Write a generator that, given a file handle, iterates over the **non-empty** lines in the file, removing the newline from the end of the lines.\n",
    "\n",
    "Run it on the file `data\\winter wind.txt` (download from [GitHub](https://raw.githubusercontent.com/yoavram/Py4Eng/master/data/winter_wind.txt))."
   ]
  },
  {
   "cell_type": "code",
   "execution_count": null,
   "metadata": {
    "collapsed": false
   },
   "outputs": [],
   "source": []
  },
  {
   "cell_type": "markdown",
   "metadata": {},
   "source": [
    "## Example\n",
    "\n",
    "Let's use generators to solve Project Euler's [Problem 10](https://projecteuler.net/problem=10):\n",
    "\n",
    "> The sum of the primes below 10 is 2 + 3 + 5 + 7 = 17.\n",
    "\n",
    "> Find the sum of all the primes below two million.\n",
    "\n",
    "Of course, it's not reasonable to make a list of all primes bellow two million, as it will require too much space.\n",
    "So we will use generators.\n",
    "\n",
    "First, we need a primality test function. We won't go into the syntax here."
   ]
  },
  {
   "cell_type": "code",
   "execution_count": 81,
   "metadata": {
    "collapsed": true
   },
   "outputs": [],
   "source": [
    "def is_prime(a):\n",
    "    return not (a < 2 or any(a % x == 0 for x in range(2, int(a ** 0.5) + 1)))"
   ]
  },
  {
   "cell_type": "markdown",
   "metadata": {},
   "source": [
    "We now define a generator of numbers below a certain number:"
   ]
  },
  {
   "cell_type": "code",
   "execution_count": 82,
   "metadata": {
    "collapsed": false
   },
   "outputs": [
    {
     "data": {
      "text/plain": [
       "[2, 3, 5, 7, 11, 13, 17, 19, 23, 29]"
      ]
     },
     "execution_count": 82,
     "metadata": {},
     "output_type": "execute_result"
    }
   ],
   "source": [
    "def primes(top=10):\n",
    "    n = 2\n",
    "    while n < top:\n",
    "        if is_prime(n):\n",
    "            yield n\n",
    "        n += 1\n",
    "list(primes(30))"
   ]
  },
  {
   "cell_type": "markdown",
   "metadata": {},
   "source": [
    "and we sum all primes bellow 2000000 (this will take a couple of minutes):"
   ]
  },
  {
   "cell_type": "code",
   "execution_count": 84,
   "metadata": {
    "collapsed": false
   },
   "outputs": [
    {
     "data": {
      "text/plain": [
       "142913828922"
      ]
     },
     "execution_count": 84,
     "metadata": {},
     "output_type": "execute_result"
    }
   ],
   "source": [
    "sum(primes(2000000))"
   ]
  },
  {
   "cell_type": "markdown",
   "metadata": {},
   "source": [
    "## Exercise\n",
    "\n",
    "Create a generator that returns numbers from the Fibonacci series, defined by:\n",
    "\n",
    "$$\n",
    "a_0 = 0 \\\\\n",
    "a_1 = 1 \\\\\n",
    "a_n = a_{n-2} + a_{n-1}\n",
    "$$"
   ]
  },
  {
   "cell_type": "code",
   "execution_count": null,
   "metadata": {
    "collapsed": true
   },
   "outputs": [],
   "source": []
  },
  {
   "cell_type": "markdown",
   "metadata": {},
   "source": [
    "## Pass values into generators\n",
    "\n",
    "`next` allows us to use generators outside of `for` loops. Calling `next` on a generator object will give the next result of the generator (run generator to next `yield` statement):"
   ]
  },
  {
   "cell_type": "code",
   "execution_count": 85,
   "metadata": {
    "collapsed": false
   },
   "outputs": [
    {
     "data": {
      "text/plain": [
       "(2, 3, 5, 7)"
      ]
     },
     "execution_count": 85,
     "metadata": {},
     "output_type": "execute_result"
    }
   ],
   "source": [
    "double_digit_primes = primes(100)\n",
    "next(double_digit_primes), next(double_digit_primes), next(double_digit_primes), next(double_digit_primes)"
   ]
  },
  {
   "cell_type": "markdown",
   "metadata": {},
   "source": [
    "`send` allows us to **pass values into generators**."
   ]
  },
  {
   "cell_type": "code",
   "execution_count": 67,
   "metadata": {
    "collapsed": false
   },
   "outputs": [],
   "source": [
    "def jumping_natural_numbers():\n",
    "    n = 0\n",
    "    while True:\n",
    "        jump = yield n \n",
    "        if jump is not None:\n",
    "            n += jump\n",
    "        else:\n",
    "            n += 1"
   ]
  },
  {
   "cell_type": "code",
   "execution_count": 87,
   "metadata": {
    "collapsed": false
   },
   "outputs": [
    {
     "data": {
      "text/plain": [
       "(0, 3, 4)"
      ]
     },
     "execution_count": 87,
     "metadata": {},
     "output_type": "execute_result"
    }
   ],
   "source": [
    "gen = jumping_natural_numbers()\n",
    "gen.send(None), gen.send(3), gen.send(1)"
   ]
  },
  {
   "cell_type": "markdown",
   "metadata": {},
   "source": [
    "## Example\n",
    "\n",
    "A more whole example is given by the following generator that calculates a running average of a stream of numbers fed to it. It does so by keeping just three numbers - the sum, the count (number of numbers), and the average.\n",
    "\n",
    "Each time a new number is sent, it yields the updated average and then waits for another number to be sent.\n",
    "\n",
    "This is much more effcient it terms of space then actually keeping all the numbers; also, it's great for cases in which we actually have a stream of numbers."
   ]
  },
  {
   "cell_type": "code",
   "execution_count": 115,
   "metadata": {
    "collapsed": true
   },
   "outputs": [],
   "source": [
    "def running_average():\n",
    "    summ = 0\n",
    "    count = 0\n",
    "    avg = 0\n",
    "    \n",
    "    while True:\n",
    "        n = yield avg\n",
    "        count += 1\n",
    "        summ += n\n",
    "        avg = summ / count"
   ]
  },
  {
   "cell_type": "code",
   "execution_count": 121,
   "metadata": {
    "collapsed": false,
    "scrolled": false
   },
   "outputs": [
    {
     "name": "stdout",
     "output_type": "stream",
     "text": [
      "2: 2.0000\n",
      "9: 5.5000\n",
      "1: 4.0000\n",
      "2: 3.5000\n",
      "5: 3.8000\n",
      "7: 4.3333\n",
      "6: 4.5714\n",
      "4: 4.5000\n",
      "5: 4.5556\n",
      "2: 4.3000\n"
     ]
    }
   ],
   "source": [
    "import time\n",
    "import random\n",
    "\n",
    "avg = running_average()\n",
    "avg.send(None) # initialize the generator by sending None or by next(avg)\n",
    "\n",
    "for i in range(10): # mimick a stream of numbers\n",
    "    n = random.randint(0, 9) # random integer between 0 and 9, inclusive    \n",
    "    print('{:d}: {:.4f}'.format(n, avg.send(n)))"
   ]
  },
  {
   "cell_type": "markdown",
   "metadata": {},
   "source": [
    "See more at Jeff Knupp's [blog](http://www.jeffknupp.com/blog/2013/04/07/improve-your-python-yield-and-generators-explained/)."
   ]
  },
  {
   "cell_type": "markdown",
   "metadata": {},
   "source": [
    "## Exercise\n",
    "\n",
    "Write a generator `have_seen` that accepts a string via `send` and yields a boolean in response.\n",
    "\n",
    "The function will yield `True` if the input string was already seen by the function, and `False` otherwise. The function should be case insensitive.\n",
    "\n",
    "Use it to find the first word that repeats itself in the following text (the first paragraph from [Gulliver's Travels](https://ia801404.us.archive.org/2/items/gulliverstravels17157gut/17157.txt)).\n",
    "\n",
    "This exercise follows [Readable Python coroutines](http://takluyver.github.io/posts/readable-python-coroutines.html) by Thomas Kluyver."
   ]
  },
  {
   "cell_type": "code",
   "execution_count": 169,
   "metadata": {
    "collapsed": true
   },
   "outputs": [],
   "source": [
    "def have_seen():\n",
    "    pass"
   ]
  },
  {
   "cell_type": "code",
   "execution_count": 170,
   "metadata": {
    "collapsed": false
   },
   "outputs": [],
   "source": [
    "text = \"\"\"My father had a small estate in Nottinghamshire; I was the third of five\n",
    "sons. He sent me to Emmanuel College in Cambridge at fourteen years old,\n",
    "where I resided three years, and applied myself close to my studies;\n",
    "but the charge of maintaining me, although I had a very scanty\n",
    "allowance, being too great for a narrow fortune, I was bound apprentice\n",
    "to Mr. James Bates, an eminent surgeon in London, with whom I continued\n",
    "four years; and my father now and then sending me small sums of money, I\n",
    "laid them out in learning navigation, and other parts of the mathematics\n",
    "useful to those who intend to travel, as I always believed it would be,\n",
    "some time or other, my fortune to do. When I left Mr. Bates, I went down\n",
    "to my father, where, by the assistance of him, and my uncle John and\n",
    "some other relations, I got forty pounds, and a promise of thirty\n",
    "pounds a year, to maintain me at Leyden. There I studied physic two\n",
    "years and seven months, knowing it would be useful in long voyages.\"\"\"\n",
    "text = text.lower().split()\n"
   ]
  },
  {
   "cell_type": "markdown",
   "metadata": {},
   "source": [
    "# Functional programming in Python\n",
    "\n",
    "## $\\lambda$ expressions\n",
    "\n",
    "Python supports anonymous functions using the `lambda` statement:"
   ]
  },
  {
   "cell_type": "code",
   "execution_count": 30,
   "metadata": {
    "collapsed": false
   },
   "outputs": [
    {
     "data": {
      "text/plain": [
       "8"
      ]
     },
     "execution_count": 30,
     "metadata": {},
     "output_type": "execute_result"
    }
   ],
   "source": [
    "(lambda x: x + 2)(6)"
   ]
  },
  {
   "cell_type": "code",
   "execution_count": 31,
   "metadata": {
    "collapsed": false
   },
   "outputs": [
    {
     "data": {
      "text/plain": [
       "function"
      ]
     },
     "execution_count": 31,
     "metadata": {},
     "output_type": "execute_result"
    }
   ],
   "source": [
    "type(lambda x: x + 2)"
   ]
  },
  {
   "cell_type": "code",
   "execution_count": 32,
   "metadata": {
    "collapsed": false
   },
   "outputs": [
    {
     "name": "stdout",
     "output_type": "stream",
     "text": [
      "8\n",
      "<class 'function'>\n"
     ]
    }
   ],
   "source": [
    "f = lambda x: x + 2\n",
    "print(f(6))\n",
    "print(type(f))"
   ]
  },
  {
   "cell_type": "markdown",
   "metadata": {},
   "source": [
    "# High-order functions\n",
    "\n",
    "High-order function are function that return other functions, and some time also get functions as input.\n",
    "\n",
    "Here is a function that, given a power, returns a function that raises numbers to that power:"
   ]
  },
  {
   "cell_type": "code",
   "execution_count": 33,
   "metadata": {
    "collapsed": false
   },
   "outputs": [
    {
     "data": {
      "text/plain": [
       "25"
      ]
     },
     "execution_count": 33,
     "metadata": {},
     "output_type": "execute_result"
    }
   ],
   "source": [
    "def make_pow(x):\n",
    "    def pow(y):\n",
    "        return y**x\n",
    "    return pow\n",
    "square = make_pow(2)\n",
    "square(5)"
   ]
  },
  {
   "cell_type": "markdown",
   "metadata": {},
   "source": [
    "Note that the above is an example of a [**closure**](https://en.wikipedia.org/wiki/Closure_%28computer_programming%29): the `square` function has access to `x` even though it is defined in the scope of `make_pow`, which already returned. See in [Python Tutor](http://pythontutor.com/visualize.html#code=def+make_pow(x%29%3A%0A++++def+pow(y%29%3A%0A++++++++return+y**x%0A++++return+pow%0Asquare+%3D+make_pow(2%29%0Asquare(5%29&mode=display&origin=opt-frontend.js&cumulative=false&heapPrimitives=false&textReferences=false&py=3&rawInputLstJSON=%5B%5D&curInstr=0)."
   ]
  },
  {
   "cell_type": "markdown",
   "metadata": {},
   "source": [
    "## Exercise\n",
    "\n",
    "Below you will find the function `compose(inner, outer)` that given two functions `inner(x)` and `outer(x)` defines a new function `composed(x) = outer(inner(x))`.\n",
    "\n",
    "Use `compose` and `lambda` to define the function `f(x) = 2*x + 1`:"
   ]
  },
  {
   "cell_type": "code",
   "execution_count": 34,
   "metadata": {
    "collapsed": false
   },
   "outputs": [],
   "source": [
    "def compose(inner, outer):\n",
    "    def composed(x):\n",
    "        return outer(inner(x))\n",
    "    return f3"
   ]
  },
  {
   "cell_type": "code",
   "execution_count": null,
   "metadata": {
    "collapsed": true
   },
   "outputs": [],
   "source": []
  },
  {
   "cell_type": "markdown",
   "metadata": {},
   "source": [
    "\n",
    "## map\n",
    "\n",
    "`map` creates an iterator that applies a function on all elements in a sequence."
   ]
  },
  {
   "cell_type": "code",
   "execution_count": 172,
   "metadata": {
    "collapsed": false
   },
   "outputs": [],
   "source": [
    "poets = [\n",
    "    'Shel Silverstein', \n",
    "    'Pablo Neruda', \n",
    "    'Maya Angelou',\n",
    "    'Edgar Allan Poe',\n",
    "    'Robert Frost',\n",
    "    'Emily Dickinson',\n",
    "    'Walt Whitman'\n",
    "]\n",
    "\n",
    "map(lambda name: name.split()[0], poets)"
   ]
  },
  {
   "cell_type": "code",
   "execution_count": 190,
   "metadata": {
    "collapsed": false
   },
   "outputs": [
    {
     "name": "stdout",
     "output_type": "stream",
     "text": [
      "Shel\n",
      "Pablo\n",
      "Maya\n",
      "Edgar\n",
      "Robert\n",
      "Emily\n",
      "Walt\n"
     ]
    }
   ],
   "source": [
    "for n in map(lambda name: name.split()[0], poets):\n",
    "    print(n)"
   ]
  },
  {
   "cell_type": "markdown",
   "metadata": {},
   "source": [
    "`map` can work on generators:"
   ]
  },
  {
   "cell_type": "code",
   "execution_count": 191,
   "metadata": {
    "collapsed": false
   },
   "outputs": [
    {
     "name": "stdout",
     "output_type": "stream",
     "text": [
      "2, 4, 6, 8, 10, 12, 14, 16, 18, 20, "
     ]
    }
   ],
   "source": [
    "evens = map(lambda n: n * 2, natural_numbers())\n",
    "for n in evens:\n",
    "    print(n, end=\", \")\n",
    "    if n >= 20: \n",
    "        break"
   ]
  },
  {
   "cell_type": "markdown",
   "metadata": {},
   "source": [
    "## `filter`\n",
    "\n",
    "`filter` creates an iterator that produces all the elements in a sequence that pass a certain test. The test is given using a boolean function."
   ]
  },
  {
   "cell_type": "code",
   "execution_count": 192,
   "metadata": {
    "collapsed": false
   },
   "outputs": [
    {
     "name": "stdout",
     "output_type": "stream",
     "text": [
      "2, 4, 6, 8, 10, 12, 14, 16, 18, 20, "
     ]
    }
   ],
   "source": [
    "evens = filter(lambda n: n % 2 == 0, natural_numbers())\n",
    "for n in evens:\n",
    "    print(n, end=\", \")\n",
    "    if n >= 20: \n",
    "        break"
   ]
  },
  {
   "cell_type": "markdown",
   "metadata": {
    "collapsed": false
   },
   "source": [
    "## `reduce`\n",
    "\n",
    "`reduce` applies a function of two arguments ($f:R^2 \\to R$) cumulatively to the items of a sequence,\n",
    "from left to right, so as to reduce the sequence to a single value.\n",
    "\n",
    "`reduce` is part of the `functools` module"
   ]
  },
  {
   "cell_type": "code",
   "execution_count": 193,
   "metadata": {
    "collapsed": true
   },
   "outputs": [],
   "source": [
    "from functools import reduce"
   ]
  },
  {
   "cell_type": "markdown",
   "metadata": {},
   "source": [
    "The easiest example is a replacement for `sum`:"
   ]
  },
  {
   "cell_type": "code",
   "execution_count": 40,
   "metadata": {
    "collapsed": false
   },
   "outputs": [
    {
     "data": {
      "text/plain": [
       "(45, 45)"
      ]
     },
     "execution_count": 40,
     "metadata": {},
     "output_type": "execute_result"
    }
   ],
   "source": [
    "reduce(lambda x, y: x + y, range(10)), sum(range(10))"
   ]
  },
  {
   "cell_type": "markdown",
   "metadata": {},
   "source": [
    "What about coding a product equivalent of `sum`?"
   ]
  },
  {
   "cell_type": "code",
   "execution_count": 41,
   "metadata": {
    "collapsed": false
   },
   "outputs": [
    {
     "data": {
      "text/plain": [
       "362880"
      ]
     },
     "execution_count": 41,
     "metadata": {},
     "output_type": "execute_result"
    }
   ],
   "source": [
    "reduce(lambda x, y: x * y, range(1, 10))"
   ]
  },
  {
   "cell_type": "markdown",
   "metadata": {},
   "source": [
    "Calculating the Fibonacci series up to the n-th element can also be done with `reduce`. Here we can set the initial seed to be different from the first element of the sequence, and we ignore the values from the input sequence as we always assign the \"right\" value to `_`:"
   ]
  },
  {
   "cell_type": "code",
   "execution_count": 42,
   "metadata": {
    "collapsed": false
   },
   "outputs": [
    {
     "data": {
      "text/plain": [
       "[0, 1, 1, 2, 3, 5, 8, 13, 21, 34]"
      ]
     },
     "execution_count": 42,
     "metadata": {},
     "output_type": "execute_result"
    }
   ],
   "source": [
    "def fib(n):\n",
    "    return reduce(lambda x, _: x + [x[-1] + x[-2]], range(n - 2), [0, 1])\n",
    "fib(10)"
   ]
  },
  {
   "cell_type": "markdown",
   "metadata": {},
   "source": [
    "## Exercise\n",
    "\n",
    "Use `reduce` to write the function `my_all(sequence)` that return `True` if all elements of `sequence` are `True` and `False` otherwise.\n",
    "\n",
    "**Note** Python already has an `all` function, so you can compare your results to it."
   ]
  },
  {
   "cell_type": "code",
   "execution_count": 194,
   "metadata": {
    "collapsed": false
   },
   "outputs": [],
   "source": [
    "seq1 = [True,  True, True]\n",
    "seq2 = [True, False, True]\n",
    "\n",
    "def myall(sequence):\n",
    "    # Your code here\n",
    "    return reduce(lambda a, b: a and b, sequence, True)\n",
    "\n",
    "assert myall(seq1) == all(seq1)\n",
    "assert myall(seq2) == all(seq2)"
   ]
  },
  {
   "cell_type": "markdown",
   "metadata": {},
   "source": [
    "Now use a combination of `map` and `reduce` to write a function that checks if all the numbers in a sequence are larger than `n`:"
   ]
  },
  {
   "cell_type": "code",
   "execution_count": 44,
   "metadata": {
    "collapsed": true
   },
   "outputs": [],
   "source": [
    "def check_larger(seq, n):\n",
    "    # Your code here\n",
    "    pass"
   ]
  },
  {
   "cell_type": "code",
   "execution_count": 25,
   "metadata": {
    "collapsed": false
   },
   "outputs": [],
   "source": [
    "assert check_larger([1, 3, 5, 7], 5) == False\n",
    "assert check_larger([1, 3, 5, 7], 0) == True"
   ]
  },
  {
   "cell_type": "markdown",
   "metadata": {},
   "source": [
    "**Note** An efficient way to write an `all` function is to stop checking when you stumble upon a `False`:"
   ]
  },
  {
   "cell_type": "code",
   "execution_count": 197,
   "metadata": {
    "collapsed": true
   },
   "outputs": [],
   "source": [
    "def fastall(sequence):\n",
    "    for a in sequence:\n",
    "        if not a:\n",
    "            return False\n",
    "    return True"
   ]
  },
  {
   "cell_type": "markdown",
   "metadata": {
    "collapsed": true
   },
   "source": [
    "This lazy evaluation might be much faster if a `False` appears early on in the sequence:"
   ]
  },
  {
   "cell_type": "code",
   "execution_count": 202,
   "metadata": {
    "collapsed": false
   },
   "outputs": [
    {
     "name": "stdout",
     "output_type": "stream",
     "text": [
      "10 loops, best of 3: 11.9 ms per loop\n",
      "10 loops, best of 3: 241 ns per loop\n",
      "10 loops, best of 3: 181 ns per loop\n"
     ]
    }
   ],
   "source": [
    "data = [False] + [True] * 100000\n",
    "\n",
    "%timeit -n 10 myall(data)\n",
    "%timeit -n 10 fastall(data)\n",
    "%timeit -n 10 all(data)"
   ]
  },
  {
   "cell_type": "markdown",
   "metadata": {},
   "source": [
    "# Sorting\n",
    "\n",
    "Python has two builtin sorting functions that are very flexible.\n",
    "\n",
    "- `sorted` accepts a collection and returns a (new) sorted copy.\n",
    "- `sort` is a method that sorts in-place."
   ]
  },
  {
   "cell_type": "code",
   "execution_count": 45,
   "metadata": {
    "collapsed": false
   },
   "outputs": [
    {
     "name": "stdout",
     "output_type": "stream",
     "text": [
      "[1, 7, 3, 6, 9, 2, 7, 8]\n",
      "[1, 2, 3, 6, 7, 7, 8, 9]\n",
      "[1, 2, 3, 6, 7, 7, 8, 9]\n"
     ]
    }
   ],
   "source": [
    "print(data)\n",
    "print(sorted(data))\n",
    "data.sort()\n",
    "print(data)"
   ]
  },
  {
   "cell_type": "markdown",
   "metadata": {},
   "source": [
    "You can also pass `sorted` and `sort` a `key` function that will determine the sorting:"
   ]
  },
  {
   "cell_type": "code",
   "execution_count": 46,
   "metadata": {
    "collapsed": false
   },
   "outputs": [
    {
     "name": "stdout",
     "output_type": "stream",
     "text": [
      "Unsorted:\n",
      " ['Kobe', 'Shaq', 'MJ', 'Magic', 'Larry']\n",
      "Sorted by deafult order:\n",
      " ['Kobe', 'Larry', 'MJ', 'Magic', 'Shaq']\n",
      "Sorted by length:\n",
      " ['MJ', 'Kobe', 'Shaq', 'Magic', 'Larry']\n"
     ]
    }
   ],
   "source": [
    "names = ['Kobe', 'Shaq', 'MJ', 'Magic', 'Larry']\n",
    "print(\"Unsorted:\\n\", names)\n",
    "print(\"Sorted by deafult order:\\n\", sorted(names))\n",
    "print(\"Sorted by length:\\n\", sorted(names, key=lambda name: len(name)))"
   ]
  },
  {
   "cell_type": "markdown",
   "metadata": {},
   "source": [
    "# Hello World!\n",
    "\n",
    "Because _Hello World!_ is such a common getting started exercise, the Python developers decided to facilitate such exercises:"
   ]
  },
  {
   "cell_type": "code",
   "execution_count": 3,
   "metadata": {
    "collapsed": false
   },
   "outputs": [
    {
     "name": "stdout",
     "output_type": "stream",
     "text": [
      "Hello world!\n"
     ]
    }
   ],
   "source": [
    "import __hello__"
   ]
  },
  {
   "cell_type": "markdown",
   "metadata": {},
   "source": [
    "There are some additional easter eggs in Python, we'll see some of them as we advance."
   ]
  },
  {
   "cell_type": "markdown",
   "metadata": {},
   "source": [
    "# Decorators\n",
    "\n",
    "Decorators are used to *modify functions* (and class decorators modify classes). A decorator is a function that takes a function as an argument (and possibly other arguments, too) and returns a function as its output.\n",
    "\n",
    "For example, maybe you want to print the output of some functions before they return. Instead of rewriting those functions, you can modify them with a decorator:"
   ]
  },
  {
   "cell_type": "code",
   "execution_count": 204,
   "metadata": {
    "collapsed": false
   },
   "outputs": [
    {
     "data": {
      "text/plain": [
       "20"
      ]
     },
     "execution_count": 204,
     "metadata": {},
     "output_type": "execute_result"
    }
   ],
   "source": [
    "# some functions\n",
    "def foo(x):\n",
    "    return x + 1\n",
    "def bar(x):\n",
    "    return 2 * x\n",
    "\n",
    "foo(10)\n",
    "bar(10)"
   ]
  },
  {
   "cell_type": "code",
   "execution_count": 205,
   "metadata": {
    "collapsed": false
   },
   "outputs": [
    {
     "name": "stdout",
     "output_type": "stream",
     "text": [
      "11\n",
      "20\n"
     ]
    },
    {
     "data": {
      "text/plain": [
       "20"
      ]
     },
     "execution_count": 205,
     "metadata": {},
     "output_type": "execute_result"
    }
   ],
   "source": [
    "# the decorator\n",
    "def print_output(func):\n",
    "    def new_func(x):\n",
    "        ret_val = func(x)\n",
    "        print(ret_val)\n",
    "        return ret_val\n",
    "    return new_func\n",
    "\n",
    "foo = print_output(foo)\n",
    "bar = print_output(bar)\n",
    "foo(10)\n",
    "bar(10)"
   ]
  },
  {
   "cell_type": "markdown",
   "metadata": {},
   "source": [
    "If you write the decorated function after you already wrote the decorator, you can use `@decorator_name` before the function definition:"
   ]
  },
  {
   "cell_type": "code",
   "execution_count": 49,
   "metadata": {
    "collapsed": false
   },
   "outputs": [
    {
     "name": "stdout",
     "output_type": "stream",
     "text": [
      "4\n",
      "9\n"
     ]
    },
    {
     "data": {
      "text/plain": [
       "13"
      ]
     },
     "execution_count": 49,
     "metadata": {},
     "output_type": "execute_result"
    }
   ],
   "source": [
    "@print_output\n",
    "def square(x):\n",
    "    return x**2\n",
    "\n",
    "square(2) + square(3)"
   ]
  },
  {
   "cell_type": "markdown",
   "metadata": {},
   "source": [
    "## Exercise\n",
    "\n",
    "Write a decorator function called `memoize` that adds *memoization* to a function. The decorator saves results of the decorated function in a dictionary that maps input (assume a single immutble argument) to output (assume a single return value). Then, if the decorated function is called again with the same input, the result it pulled from the dictionary instead of being re-calculated."
   ]
  },
  {
   "cell_type": "code",
   "execution_count": null,
   "metadata": {
    "collapsed": true
   },
   "outputs": [],
   "source": []
  },
  {
   "cell_type": "markdown",
   "metadata": {},
   "source": [
    "Below is a recursive Fibonacci function, which is very inefficient without memoization.\n",
    "The code below will compare the calculation of the 30th Fibonacci number with and without memoization."
   ]
  },
  {
   "cell_type": "code",
   "execution_count": 216,
   "metadata": {
    "collapsed": false
   },
   "outputs": [],
   "source": [
    "def fib(n):\n",
    "    if n <= 1:\n",
    "        return n\n",
    "    return fib(n-1) + fib(n-2)"
   ]
  },
  {
   "cell_type": "code",
   "execution_count": 217,
   "metadata": {
    "collapsed": false
   },
   "outputs": [
    {
     "name": "stdout",
     "output_type": "stream",
     "text": [
      "1 loop, best of 3: 549 ms per loop\n",
      "1 loop, best of 3: 6.71 ms per loop\n"
     ]
    }
   ],
   "source": [
    "%timeit -n 1 fib(30)\n",
    "%timeit -n 1 memoize(fib)(30)"
   ]
  },
  {
   "cell_type": "markdown",
   "metadata": {},
   "source": [
    "# Collections\n",
    "\n",
    "Some intresting idioms from the `collections` module.\n",
    "\n",
    "## `namedtuple`\n",
    "\n",
    "`namedtuple` is a factory for classes that only have specific fields. These classes are subtypes of `tuple`, but their fields are not only ordered but also named."
   ]
  },
  {
   "cell_type": "code",
   "execution_count": 21,
   "metadata": {
    "collapsed": false
   },
   "outputs": [
    {
     "data": {
      "text/plain": [
       "[card(suit='H', number=0),\n",
       " card(suit='H', number=1),\n",
       " card(suit='H', number=2),\n",
       " card(suit='H', number=3),\n",
       " card(suit='H', number=4),\n",
       " card(suit='H', number=5),\n",
       " card(suit='H', number=6),\n",
       " card(suit='H', number=7),\n",
       " card(suit='H', number=8),\n",
       " card(suit='H', number=9)]"
      ]
     },
     "execution_count": 21,
     "metadata": {},
     "output_type": "execute_result"
    }
   ],
   "source": [
    "from collections import namedtuple\n",
    "\n",
    "Card = namedtuple('card', ('suit', 'number'))\n",
    "\n",
    "cards = [Card(s, n) for s in 'H C S D'.split() for n in list(range(11)) + 'J Q K A'.split()]\n",
    "cards[:10]"
   ]
  },
  {
   "cell_type": "code",
   "execution_count": 26,
   "metadata": {
    "collapsed": false
   },
   "outputs": [
    {
     "name": "stdout",
     "output_type": "stream",
     "text": [
      "H0\n",
      "H1\n",
      "H2\n",
      "H3\n",
      "H4\n",
      "H5\n",
      "H6\n",
      "H7\n",
      "H8\n",
      "H9\n"
     ]
    }
   ],
   "source": [
    "for card in cards[:10]:\n",
    "    for x in card:\n",
    "        print(x, end='')\n",
    "    print()"
   ]
  },
  {
   "cell_type": "markdown",
   "metadata": {},
   "source": [
    "## `OrderedDict` \n",
    "\n",
    "A `dict` that preserved insetion order:"
   ]
  },
  {
   "cell_type": "code",
   "execution_count": 40,
   "metadata": {
    "collapsed": false
   },
   "outputs": [
    {
     "name": "stdout",
     "output_type": "stream",
     "text": [
      "1 10\n",
      "2 9\n",
      "3 8\n",
      "4 7\n",
      "5 6\n",
      "6 5\n",
      "7 4\n",
      "8 3\n",
      "9 2\n",
      "10 1\n"
     ]
    }
   ],
   "source": [
    "from collections import OrderedDict\n",
    "\n",
    "d = dict()\n",
    "od = OrderedDict()\n",
    "\n",
    "for x in range(10, 0, -1):\n",
    "    d[x] = x\n",
    "    od[x] = x\n",
    "\n",
    "for kd, kod in zip(d, od):\n",
    "    print(kd, kod)"
   ]
  },
  {
   "cell_type": "markdown",
   "metadata": {},
   "source": [
    "## Future statements\n",
    "\n",
    "A [future statement](https://docs.python.org/3.5/reference/simple_stmts.html#future) facilitates migration to future versions of Python that introduce **incompatible changes** to the language. It allows use of the new features on a per-request basis before the release in which the feature becomes standard. \n",
    "\n",
    "A future statement must appear near the top of the module.\n",
    "\n",
    "When working with Python 3.5, no future statements are needed. However, if you wish to allow the code to run with Python 2.x, future statements are very useful. For example, for using `print` as a function (`print(x)`) rather than a statement (`print x`), you can use `from __future__ import print_function`:"
   ]
  },
  {
   "cell_type": "code",
   "execution_count": 5,
   "metadata": {
    "collapsed": false
   },
   "outputs": [
    {
     "name": "stdout",
     "output_type": "stream",
     "text": [
      "Hello World!\n"
     ]
    }
   ],
   "source": [
    "from __future__ import print_function\n",
    "print('Hello World!')"
   ]
  },
  {
   "cell_type": "markdown",
   "metadata": {},
   "source": [
    "If you really want to support Python 2, I suggest using [_python-future_](http://python-future.org/): it allows you to use a single, clean Python 3.x-compatible codebase to support both Python 2 and Python 3 with minimal overhead."
   ]
  },
  {
   "cell_type": "markdown",
   "metadata": {},
   "source": [
    "## Exercise\n",
    "\n",
    "The _curly brace delimited blocks_ feature was requested several times by users coming from other programming languages.\n",
    "\n",
    "Use the future statement `braces` to run `fast_pow` written with curly brackets to compute $5^{17}$."
   ]
  },
  {
   "cell_type": "code",
   "execution_count": null,
   "metadata": {
    "collapsed": false
   },
   "outputs": [],
   "source": []
  },
  {
   "cell_type": "code",
   "execution_count": 8,
   "metadata": {
    "collapsed": false
   },
   "outputs": [
    {
     "ename": "SyntaxError",
     "evalue": "invalid syntax (<ipython-input-8-7a1a2f8e8c2e>, line 1)",
     "output_type": "error",
     "traceback": [
      "\u001b[1;36m  File \u001b[1;32m\"<ipython-input-8-7a1a2f8e8c2e>\"\u001b[1;36m, line \u001b[1;32m1\u001b[0m\n\u001b[1;33m    def fast_pow(x, y) {\u001b[0m\n\u001b[1;37m                       ^\u001b[0m\n\u001b[1;31mSyntaxError\u001b[0m\u001b[1;31m:\u001b[0m invalid syntax\n"
     ]
    }
   ],
   "source": [
    "def fast_pow(x, y) {\n",
    "    if y == 0 {\n",
    "        return 1\n",
    "    } elif y % 2 == 0 {\n",
    "        tmp = fast_pow(x, y // 2)\n",
    "        return tmp * tmp\n",
    "    } else {\n",
    "        return x * fast_pow(x, y - 1)\n",
    "    }\n",
    "}\n",
    "print(\"5^17 =\", fast_pow(5, 17))"
   ]
  },
  {
   "cell_type": "markdown",
   "metadata": {},
   "source": [
    "# References\n",
    "- Some code and ideas were taken from [CS1001.py](https://github.com/yoavram/CS1001.py)\n",
    "- Some code and ideas were taken from [Code like a Pythonista](http://python.net/~goodger/projects/pycon/2007/idiomatic/presentation.html)\n",
    "- [Decorators I: Introduction to Python Decorators](http://www.artima.com/weblogs/viewpost.jsp?thread=240808)\n",
    "- [Python syntax and semantics](https://en.wikipedia.org/wiki/Python_syntax_and_semantics) on Wikipedia"
   ]
  },
  {
   "cell_type": "markdown",
   "metadata": {},
   "source": [
    "## Colophon\n",
    "This notebook was written by [Yoav Ram](http://www.yoavram.com) and is part of the _Python for Engineers_ course.\n",
    "\n",
    "The notebook was written using [Python](http://pytho.org/) 3.4.4, [IPython](http://ipython.org/) 4.0.3 and [Jupyter](http://jupyter.org) 4.0.6.\n",
    "\n",
    "This work is licensed under a CC BY-NC-SA 4.0 International License.\n",
    "\n",
    "![Python logo](https://www.python.org/static/community_logos/python-logo.png)"
   ]
  }
 ],
 "metadata": {
  "kernelspec": {
   "display_name": "Py4Eng",
   "language": "python",
   "name": "py4eng"
  },
  "language_info": {
   "codemirror_mode": {
    "name": "ipython",
    "version": 3
   },
   "file_extension": ".py",
   "mimetype": "text/x-python",
   "name": "python",
   "nbconvert_exporter": "python",
   "pygments_lexer": "ipython3",
   "version": "3.5.1"
  }
 },
 "nbformat": 4,
 "nbformat_minor": 0
}
