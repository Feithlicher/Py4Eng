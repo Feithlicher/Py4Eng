{
 "cells": [
  {
   "cell_type": "markdown",
   "metadata": {},
   "source": [
    "![Py4Eng](https://dl.dropboxusercontent.com/u/1578682/py4eng_logo.png)\n",
    "\n",
    "# Functions\n",
    "## Yoav Ram"
   ]
  },
  {
   "cell_type": "markdown",
   "metadata": {},
   "source": [
    "# Functions\n",
    "\n",
    "We _define_ functions with the __def__ command.\n",
    "The general syntax is:\n",
    "```py\n",
    "def function_name(input1, input2, input3,...):\n",
    "    # some processes\n",
    "    .\n",
    "    .\n",
    "    .\n",
    "    return output\n",
    "```\n",
    "\n",
    "For example:"
   ]
  },
  {
   "cell_type": "code",
   "execution_count": 29,
   "metadata": {
    "collapsed": false
   },
   "outputs": [],
   "source": [
    "def linear1 (x):\n",
    "    y = 2*x + 6\n",
    "    return y"
   ]
  },
  {
   "cell_type": "code",
   "execution_count": 30,
   "metadata": {
    "collapsed": false
   },
   "outputs": [
    {
     "name": "stdout",
     "output_type": "stream",
     "text": [
      "12\n"
     ]
    }
   ],
   "source": [
    "result1 = linear1(3)\n",
    "print(result1)"
   ]
  },
  {
   "cell_type": "code",
   "execution_count": 31,
   "metadata": {
    "collapsed": false
   },
   "outputs": [
    {
     "name": "stdout",
     "output_type": "stream",
     "text": [
      "20\n"
     ]
    }
   ],
   "source": [
    "result2 = linear1(7)\n",
    "print(result2)"
   ]
  },
  {
   "cell_type": "markdown",
   "metadata": {},
   "source": [
    "The following function receives a __list__ of strings and concatenates a given prefix to each string in the list. It then returns a list of the resulting strings."
   ]
  },
  {
   "cell_type": "code",
   "execution_count": 34,
   "metadata": {
    "collapsed": false
   },
   "outputs": [],
   "source": [
    "def add_prefix(strings, prefix):\n",
    "    output = [None] * len(strings)\n",
    "    for i,s in enumerate(strings):\n",
    "        output[i] = prefix + s\n",
    "    return output"
   ]
  },
  {
   "cell_type": "code",
   "execution_count": 36,
   "metadata": {
    "collapsed": false
   },
   "outputs": [
    {
     "name": "stdout",
     "output_type": "stream",
     "text": [
      "['Basten', 'Nistelrooy', 'Gaal']\n",
      "['van Basten', 'van Nistelrooy', 'van Gaal']\n"
     ]
    }
   ],
   "source": [
    "dutch_legends = ['Basten', 'Nistelrooy', 'Gaal']\n",
    "prefixed_strings = add_prefix(dutch_legends, 'van ')\n",
    "print(dutch_legends)\n",
    "print(prefixed_strings)"
   ]
  },
  {
   "cell_type": "markdown",
   "metadata": {},
   "source": [
    "## Exercise"
   ]
  },
  {
   "cell_type": "markdown",
   "metadata": {},
   "source": [
    "Let's turn the code from exercise 3A into a function.\n",
    "Write a function called `decrypt` that takes two arguments, `secret` and `code`, and returns a string which is the cleartext (decrypted) message. Then call the function to decrypt the secret from above."
   ]
  },
  {
   "cell_type": "code",
   "execution_count": null,
   "metadata": {
    "collapsed": false
   },
   "outputs": [],
   "source": [
    "\n"
   ]
  },
  {
   "cell_type": "markdown",
   "metadata": {},
   "source": [
    "### Documenting your functions\n",
    "\n",
    "Documenting functions is done by adding a *docstring* element below the function definition. Docstrings are enclosed by \"\"\". For example:"
   ]
  },
  {
   "cell_type": "code",
   "execution_count": 39,
   "metadata": {
    "collapsed": false
   },
   "outputs": [
    {
     "name": "stdout",
     "output_type": "stream",
     "text": [
      "We shall go on to the end, we shall fight in France,\n",
      "we shall fight on the seas and oceans,\n",
      "we shall fight with growing confidence and growing strength in the air, we shall defend our Island, whatever the cost may be,\n",
      "we shall fight on the beaches,\n",
      "we shall fight on the landing grounds,\n",
      "we shall fight in the fields and in the streets,\n",
      "we shall fight in the hills;\n",
      "we shall never surrender, and even if, which I do not for a moment believe, this Island or a large part of it were subjugated and starving, then our Empire beyond the seas, armed and guarded by the British Fleet, would carry on the struggle, until, in God’s good time, the New World, with all its power and might, steps forth to the rescue and the liberation of the old.\n"
     ]
    }
   ],
   "source": [
    "def decrypt(secret, code):\n",
    "    \"\"\"Decrypt a message using a substitution code.\n",
    "    \n",
    "    The function only decrypts characters that appear in `code`; other characters remain as they appear in `secret`.\n",
    "    \n",
    "    Parameters\n",
    "    ----------\n",
    "    secret : str\n",
    "        an encrypted message\n",
    "    code : dict\n",
    "        a substitution code, where the keys are encrypted characters and the values are the cleartext characters.\n",
    "    \n",
    "    Returns\n",
    "    -------\n",
    "    str\n",
    "        the decrypted cleartext message.\n",
    "    \"\"\"\n",
    "    return str.join('', [code.get(c, c) for c in secret])\n",
    "print(decrypt(secret, code))"
   ]
  },
  {
   "cell_type": "markdown",
   "metadata": {},
   "source": [
    "You can easily access the documentation of a function using the `help()` command."
   ]
  },
  {
   "cell_type": "code",
   "execution_count": 40,
   "metadata": {
    "collapsed": false
   },
   "outputs": [
    {
     "name": "stdout",
     "output_type": "stream",
     "text": [
      "Help on function decrypt in module __main__:\n",
      "\n",
      "decrypt(secret, code)\n",
      "    Decrypt a message using a substitution code.\n",
      "    \n",
      "    The function only decrypts characters that appear in `code`; other characters remain as they appear in `secret`.\n",
      "    \n",
      "    Parameters\n",
      "    ----------\n",
      "    secret : str\n",
      "        an encrypted message\n",
      "    code : dict\n",
      "        a substitution code, where the keys are encrypted characters and the values are the cleartext characters.\n",
      "    \n",
      "    Returns\n",
      "    -------\n",
      "    str\n",
      "        the decrypted cleartext message.\n",
      "\n"
     ]
    }
   ],
   "source": [
    "help(decrypt)"
   ]
  },
  {
   "cell_type": "markdown",
   "metadata": {},
   "source": [
    "### Built-in functions"
   ]
  },
  {
   "cell_type": "markdown",
   "metadata": {},
   "source": [
    "In fact, we've used functions before, without defining them first. For example: `print`, `type`, `int`, `len` etc. It is strongly adviced not to overwrite built-in functions with your own functions unless you have a good reason."
   ]
  },
  {
   "cell_type": "markdown",
   "metadata": {},
   "source": [
    "## Scopes"
   ]
  },
  {
   "cell_type": "markdown",
   "metadata": {},
   "source": [
    "Assume we have the following function, that calculates the hypotenuse (יתר) given two sides of a right triangle. (Remember Pythagoras' theorem?)"
   ]
  },
  {
   "cell_type": "code",
   "execution_count": 45,
   "metadata": {
    "collapsed": false
   },
   "outputs": [],
   "source": [
    "def pythagoras(a, b):\n",
    "    hypo_square = a**2 + b**2\n",
    "    hypo = hypo_square**0.5"
   ]
  },
  {
   "cell_type": "markdown",
   "metadata": {},
   "source": [
    "And now we want to run our function on the sides _a_ = 3 and _b_ = 5. So we do:"
   ]
  },
  {
   "cell_type": "code",
   "execution_count": 47,
   "metadata": {
    "collapsed": false
   },
   "outputs": [
    {
     "ename": "NameError",
     "evalue": "name 'hypo' is not defined",
     "output_type": "error",
     "traceback": [
      "\u001b[1;31m---------------------------------------------------------------------------\u001b[0m",
      "\u001b[1;31mNameError\u001b[0m                                 Traceback (most recent call last)",
      "\u001b[1;32m<ipython-input-47-4c15aca3e7a8>\u001b[0m in \u001b[0;36m<module>\u001b[1;34m()\u001b[0m\n\u001b[0;32m      1\u001b[0m \u001b[0mpythagoras\u001b[0m\u001b[1;33m(\u001b[0m\u001b[1;36m3\u001b[0m\u001b[1;33m,\u001b[0m\u001b[1;36m5\u001b[0m\u001b[1;33m)\u001b[0m\u001b[1;33m\u001b[0m\u001b[0m\n\u001b[1;32m----> 2\u001b[1;33m \u001b[0mprint\u001b[0m\u001b[1;33m(\u001b[0m\u001b[0mhypo\u001b[0m\u001b[1;33m)\u001b[0m\u001b[1;33m\u001b[0m\u001b[0m\n\u001b[0m",
      "\u001b[1;31mNameError\u001b[0m: name 'hypo' is not defined"
     ]
    }
   ],
   "source": [
    "pythagoras(3, 5)\n",
    "print(hypo)"
   ]
  },
  {
   "cell_type": "markdown",
   "metadata": {},
   "source": [
    "__What happened to our result???__  \n",
    "The answer is _Scope_!  \n",
    "The variable _hypo_ exists only as long as the function is running. In other words, it exists only withing the _scope_ of the function, and so do _a, b_ and _hypo_square_!  \n",
    "If we try to print hypo from _within_ the function:"
   ]
  },
  {
   "cell_type": "code",
   "execution_count": 48,
   "metadata": {
    "collapsed": false
   },
   "outputs": [
    {
     "name": "stdout",
     "output_type": "stream",
     "text": [
      "5.830951894845301\n"
     ]
    }
   ],
   "source": [
    "def pythagoras(a, b):\n",
    "    hypo_square = a**2 + b**2\n",
    "    hypo = hypo_square**0.5\n",
    "    print(hypo)\n",
    "pythagoras(3, 5)"
   ]
  },
  {
   "cell_type": "markdown",
   "metadata": {},
   "source": [
    "Or even better, we can use the __return__ statement to get the result. Like this:"
   ]
  },
  {
   "cell_type": "code",
   "execution_count": 49,
   "metadata": {
    "collapsed": false
   },
   "outputs": [
    {
     "name": "stdout",
     "output_type": "stream",
     "text": [
      "5.830951894845301\n"
     ]
    }
   ],
   "source": [
    "def pythagoras(a, b):\n",
    "    hypo_square = a**2 + b**2\n",
    "    hypo = hypo_square**0.5\n",
    "    return(hypo)\n",
    "\n",
    "result = pythagoras(3, 5)\n",
    "print(result)"
   ]
  },
  {
   "cell_type": "markdown",
   "metadata": {},
   "source": [
    "We can see this example at [Python Tutor](http://pythontutor.com/visualize.html#code=def+pythagoras(a,b%29%3A%0A++++hypo_square+%3D+a**2+%2B+b**2%0A++++hypo+%3D+hypo_square**0.5%0A++++return(hypo%29%0A%0Aresult+%3D+pythagoras(3,+5%29%0Aprint(result%29&mode=display&origin=opt-frontend.js&cumulative=false&heapPrimitives=false&textReferences=false&py=3&rawInputLstJSON=%5B%5D&curInstr=0).\n",
    "\n",
    "Similarly, there is also an interesting and sometimes confusing issue with **mutable** and **immutable** function arguments.\n",
    "\n",
    "In general, functions will copy the argument values, so further changes *inside* the function scope don't affect the argument values:"
   ]
  },
  {
   "cell_type": "code",
   "execution_count": 2,
   "metadata": {
    "collapsed": false
   },
   "outputs": [
    {
     "name": "stdout",
     "output_type": "stream",
     "text": [
      "5\n",
      "-5\n"
     ]
    }
   ],
   "source": [
    "def absolute(val):\n",
    "    if val < 0:\n",
    "        val = -val\n",
    "    return val\n",
    "\n",
    "a = -5\n",
    "print(absolute(a))\n",
    "print(a)"
   ]
  },
  {
   "cell_type": "markdown",
   "metadata": {},
   "source": [
    "However, lists are mutable and what's being copied is the reference to the list. Therefore, if we change the elements of the list, we will be changing the input list:"
   ]
  },
  {
   "cell_type": "code",
   "execution_count": 4,
   "metadata": {
    "collapsed": false
   },
   "outputs": [
    {
     "name": "stdout",
     "output_type": "stream",
     "text": [
      "[1, 0, 1]\n",
      "[1, 0, 1]\n"
     ]
    }
   ],
   "source": [
    "def absolute_list(lst):\n",
    "    for i in range(len(lst)):\n",
    "        if lst[i] < 0:\n",
    "            lst[i] = -lst[i]\n",
    "    return lst\n",
    "\n",
    "lst = [-1, 0, 1]\n",
    "print(absolute_list(lst))\n",
    "print(lst)"
   ]
  },
  {
   "cell_type": "markdown",
   "metadata": {},
   "source": [
    "The responsibility on making sure the input isn't changed can be on the function or the user. If it's on the function, then it ought to make a copy:"
   ]
  },
  {
   "cell_type": "code",
   "execution_count": 5,
   "metadata": {
    "collapsed": false
   },
   "outputs": [
    {
     "name": "stdout",
     "output_type": "stream",
     "text": [
      "[1, 0, 1]\n",
      "[-1, 0, 1]\n"
     ]
    }
   ],
   "source": [
    "def absolute_list(lst):\n",
    "    newlst = [None] * len(lst)\n",
    "    for i in range(len(lst)):\n",
    "        if lst[i] < 0:\n",
    "            newlst[i] = -lst[i]\n",
    "        else:\n",
    "            newlst[i] = lst[i]\n",
    "    return newlst\n",
    "\n",
    "lst = [-1, 0, 1]\n",
    "print(absolute_list(lst))\n",
    "print(lst)"
   ]
  },
  {
   "cell_type": "markdown",
   "metadata": {},
   "source": [
    "The responsibility can also be on the user. This can be easily accomplished by converting the input to a `tuple` which is an **immutable sequence**. This will not allow the function to change the input, raising an error instead:"
   ]
  },
  {
   "cell_type": "code",
   "execution_count": 6,
   "metadata": {
    "collapsed": false
   },
   "outputs": [
    {
     "ename": "TypeError",
     "evalue": "'tuple' object does not support item assignment",
     "output_type": "error",
     "traceback": [
      "\u001b[1;31m---------------------------------------------------------------------------\u001b[0m",
      "\u001b[1;31mTypeError\u001b[0m                                 Traceback (most recent call last)",
      "\u001b[1;32m<ipython-input-6-7cd23cdc73f2>\u001b[0m in \u001b[0;36m<module>\u001b[1;34m()\u001b[0m\n\u001b[0;32m      6\u001b[0m \u001b[1;33m\u001b[0m\u001b[0m\n\u001b[0;32m      7\u001b[0m \u001b[0mlst\u001b[0m \u001b[1;33m=\u001b[0m \u001b[1;33m[\u001b[0m\u001b[1;33m-\u001b[0m\u001b[1;36m1\u001b[0m\u001b[1;33m,\u001b[0m \u001b[1;36m0\u001b[0m\u001b[1;33m,\u001b[0m \u001b[1;36m1\u001b[0m\u001b[1;33m]\u001b[0m\u001b[1;33m\u001b[0m\u001b[0m\n\u001b[1;32m----> 8\u001b[1;33m \u001b[0mprint\u001b[0m\u001b[1;33m(\u001b[0m\u001b[0mabsolute_list\u001b[0m\u001b[1;33m(\u001b[0m\u001b[0mtuple\u001b[0m\u001b[1;33m(\u001b[0m\u001b[0mlst\u001b[0m\u001b[1;33m)\u001b[0m\u001b[1;33m)\u001b[0m\u001b[1;33m)\u001b[0m\u001b[1;33m\u001b[0m\u001b[0m\n\u001b[0m\u001b[0;32m      9\u001b[0m \u001b[0mprint\u001b[0m\u001b[1;33m(\u001b[0m\u001b[0mlst\u001b[0m\u001b[1;33m)\u001b[0m\u001b[1;33m\u001b[0m\u001b[0m\n",
      "\u001b[1;32m<ipython-input-6-7cd23cdc73f2>\u001b[0m in \u001b[0;36mabsolute_list\u001b[1;34m(lst)\u001b[0m\n\u001b[0;32m      2\u001b[0m     \u001b[1;32mfor\u001b[0m \u001b[0mi\u001b[0m \u001b[1;32min\u001b[0m \u001b[0mrange\u001b[0m\u001b[1;33m(\u001b[0m\u001b[0mlen\u001b[0m\u001b[1;33m(\u001b[0m\u001b[0mlst\u001b[0m\u001b[1;33m)\u001b[0m\u001b[1;33m)\u001b[0m\u001b[1;33m:\u001b[0m\u001b[1;33m\u001b[0m\u001b[0m\n\u001b[0;32m      3\u001b[0m         \u001b[1;32mif\u001b[0m \u001b[0mlst\u001b[0m\u001b[1;33m[\u001b[0m\u001b[0mi\u001b[0m\u001b[1;33m]\u001b[0m \u001b[1;33m<\u001b[0m \u001b[1;36m0\u001b[0m\u001b[1;33m:\u001b[0m\u001b[1;33m\u001b[0m\u001b[0m\n\u001b[1;32m----> 4\u001b[1;33m             \u001b[0mlst\u001b[0m\u001b[1;33m[\u001b[0m\u001b[0mi\u001b[0m\u001b[1;33m]\u001b[0m \u001b[1;33m=\u001b[0m \u001b[1;33m-\u001b[0m\u001b[0mlst\u001b[0m\u001b[1;33m[\u001b[0m\u001b[0mi\u001b[0m\u001b[1;33m]\u001b[0m\u001b[1;33m\u001b[0m\u001b[0m\n\u001b[0m\u001b[0;32m      5\u001b[0m     \u001b[1;32mreturn\u001b[0m \u001b[0mlst\u001b[0m\u001b[1;33m\u001b[0m\u001b[0m\n\u001b[0;32m      6\u001b[0m \u001b[1;33m\u001b[0m\u001b[0m\n",
      "\u001b[1;31mTypeError\u001b[0m: 'tuple' object does not support item assignment"
     ]
    }
   ],
   "source": [
    "def absolute_list(lst):\n",
    "    for i in range(len(lst)):\n",
    "        if lst[i] < 0:\n",
    "            lst[i] = -lst[i]\n",
    "    return lst\n",
    "\n",
    "lst = [-1, 0, 1]\n",
    "print(absolute_list(tuple(lst)))\n",
    "print(lst)"
   ]
  },
  {
   "cell_type": "markdown",
   "metadata": {},
   "source": [
    "Otherwise, the user can just make a copy by giving the original list to the `list` function:"
   ]
  },
  {
   "cell_type": "code",
   "execution_count": 8,
   "metadata": {
    "collapsed": false
   },
   "outputs": [
    {
     "name": "stdout",
     "output_type": "stream",
     "text": [
      "[1, 0, 1]\n",
      "[-1, 0, 1]\n"
     ]
    }
   ],
   "source": [
    "def absolute_list(lst):\n",
    "    for i in range(len(lst)):\n",
    "        if lst[i] < 0:\n",
    "            lst[i] = -lst[i]\n",
    "    return lst\n",
    "\n",
    "lst = [-1, 0, 1]\n",
    "abs_lst = list(lst)\n",
    "print(absolute_list(abs_lst))\n",
    "print(lst)"
   ]
  },
  {
   "cell_type": "markdown",
   "metadata": {},
   "source": [
    "## Colophon\n",
    "This notebook was written by [Yoav Ram](http://www.yoavram.com) and is part of the _Python for Engineers_ course.\n",
    "\n",
    "The notebook was written using [Python](http://pytho.org/) 3.4.4, [IPython](http://ipython.org/) 4.0.3 and [Jupyter](http://jupyter.org) 4.0.6.\n",
    "\n",
    "This work is licensed under a CC BY-NC-SA 4.0 International License.\n",
    "\n",
    "![Python logo](https://www.python.org/static/community_logos/python-logo.png)"
   ]
  }
 ],
 "metadata": {
  "kernelspec": {
   "display_name": "Python 3",
   "language": "python",
   "name": "python3"
  },
  "language_info": {
   "codemirror_mode": {
    "name": "ipython",
    "version": 3
   },
   "file_extension": ".py",
   "mimetype": "text/x-python",
   "name": "python",
   "nbconvert_exporter": "python",
   "pygments_lexer": "ipython3",
   "version": "3.4.4"
  }
 },
 "nbformat": 4,
 "nbformat_minor": 0
}
